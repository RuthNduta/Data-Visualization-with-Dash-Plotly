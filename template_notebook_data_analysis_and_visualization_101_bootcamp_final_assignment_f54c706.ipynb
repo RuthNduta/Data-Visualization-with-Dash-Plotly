{
  "nbformat": 4,
  "nbformat_minor": 0,
  "metadata": {
    "colab": {
      "name": "template-notebook-data-analysis-and-visualization-101-bootcamp-final-assignment-f54c706.ipynb",
      "provenance": [],
      "collapsed_sections": [],
      "include_colab_link": true
    },
    "kernelspec": {
      "name": "python3",
      "display_name": "Python 3",
      "language": "python"
    }
  },
  "cells": [
    {
      "cell_type": "markdown",
      "metadata": {
        "id": "view-in-github",
        "colab_type": "text"
      },
      "source": [
        "<a href=\"https://colab.research.google.com/github/RuthNduta/Data-Visualization-with-Dash-Plotly/blob/main/template_notebook_data_analysis_and_visualization_101_bootcamp_final_assignment_f54c706.ipynb\" target=\"_parent\"><img src=\"https://colab.research.google.com/assets/colab-badge.svg\" alt=\"Open In Colab\"/></a>"
      ]
    },
    {
      "cell_type": "markdown",
      "metadata": {
        "id": "00IJ1Sz_-o2P"
      },
      "source": [
        "# Overview\r\n",
        "Throughout this assignment, you will be performing certain well-defined tasks that’ll not only strengthen your concepts of Plotly and Dash, but will also help you learn a number of new concepts that are useful in analyzing, summarizing and visualizing data in the real world. \r\n",
        "\r\n",
        "Here is a template notebook with all the tasks mentioned in detail. **Please complete the tasks within the designated section only.**\r\n"
      ]
    },
    {
      "cell_type": "markdown",
      "metadata": {
        "id": "ZTfhIScP_AHG"
      },
      "source": [
        "## Task 1: Data Loading and Data Aggregation\r\n",
        "* Load the 3 data files into the variables data_18, data_19, data_20. \r\n",
        "\r\n",
        "* Data aggregation is the process of gathering data and presenting it in a summarized format. The data may be gathered from multiple data sources with the intent of combining these data sources into a summary for data analysis.         \r\n",
        "Since this dataset involves 3 data files, you’ll often be working on combining information from 2 or more files and analysing it. More often than not, GroupBy is a very useful tool for this purpose. \r\n",
        "\r\n",
        "Go through this article to learn more some helpful aggregation tools in Python: https://www.bmc.com/blogs/pandas-group-merge-concatenate-join/ "
      ]
    },
    {
      "cell_type": "code",
      "metadata": {
        "id": "dJJ-zNZl-HzF"
      },
      "source": [
        "#Importing libraries to be used\n",
        "\n",
        "import pandas as pd\n",
        "import numpy as np\n",
        "import matplotlib\n",
        "from matplotlib import pyplot as plt"
      ],
      "execution_count": 1,
      "outputs": []
    },
    {
      "cell_type": "code",
      "metadata": {
        "id": "B34dgD1GIsH5"
      },
      "source": [
        "data18 = pd.read_csv(\"https://raw.githubusercontent.com/dphi-official/Datasets/master/IT_Salary_Survey_EU_18-20/Survey_2018.csv\")\n",
        "data19 = pd.read_csv(\"https://raw.githubusercontent.com/dphi-official/Datasets/master/IT_Salary_Survey_EU_18-20/Survey_2019.csv\")\n",
        "data20 = pd.read_csv(\"https://raw.githubusercontent.com/dphi-official/Datasets/master/IT_Salary_Survey_EU_18-20/Survey_2020.csv\")"
      ],
      "execution_count": 2,
      "outputs": []
    },
    {
      "cell_type": "code",
      "metadata": {
        "colab": {
          "base_uri": "https://localhost:8080/"
        },
        "id": "cYMe95jiIsH6",
        "outputId": "61219c6c-03a3-457d-a285-8fb976449f83"
      },
      "source": [
        "data18.info()"
      ],
      "execution_count": 3,
      "outputs": [
        {
          "output_type": "stream",
          "text": [
            "<class 'pandas.core.frame.DataFrame'>\n",
            "RangeIndex: 765 entries, 0 to 764\n",
            "Data columns (total 14 columns):\n",
            " #   Column                              Non-Null Count  Dtype  \n",
            "---  ------                              --------------  -----  \n",
            " 0   Timestamp                           765 non-null    object \n",
            " 1   Age                                 672 non-null    float64\n",
            " 2   Gender                              751 non-null    object \n",
            " 3   City                                736 non-null    object \n",
            " 4   Position                            737 non-null    object \n",
            " 5   Years of experience                 732 non-null    float64\n",
            " 6   Your level                          743 non-null    object \n",
            " 7   Current Salary                      750 non-null    float64\n",
            " 8   Salary one year ago                 596 non-null    float64\n",
            " 9   Salary two years ago                463 non-null    float64\n",
            " 10  Are you getting any Stock Options?  742 non-null    object \n",
            " 11  Main language at work               750 non-null    object \n",
            " 12  Company size                        750 non-null    object \n",
            " 13  Company type                        730 non-null    object \n",
            "dtypes: float64(5), object(9)\n",
            "memory usage: 83.8+ KB\n"
          ],
          "name": "stdout"
        }
      ]
    },
    {
      "cell_type": "code",
      "metadata": {
        "colab": {
          "base_uri": "https://localhost:8080/"
        },
        "id": "ibTKMygGIsH8",
        "outputId": "436d82b5-9d6c-4b6e-e4c4-b4c22ba1bd29"
      },
      "source": [
        "data19.info()"
      ],
      "execution_count": 4,
      "outputs": [
        {
          "output_type": "stream",
          "text": [
            "<class 'pandas.core.frame.DataFrame'>\n",
            "RangeIndex: 991 entries, 0 to 990\n",
            "Data columns (total 23 columns):\n",
            " #   Column                                                                                                Non-Null Count  Dtype  \n",
            "---  ------                                                                                                --------------  -----  \n",
            " 0   Zeitstempel                                                                                           991 non-null    object \n",
            " 1   Age                                                                                                   882 non-null    float64\n",
            " 2   Gender                                                                                                991 non-null    object \n",
            " 3   City                                                                                                  991 non-null    object \n",
            " 4   Seniority level                                                                                       976 non-null    object \n",
            " 5   Position (without seniority)                                                                          990 non-null    object \n",
            " 6   Years of experience                                                                                   991 non-null    int64  \n",
            " 7   Your main technology / programming language                                                           977 non-null    object \n",
            " 8   Yearly brutto salary (without bonus and stocks)                                                       990 non-null    float64\n",
            " 9   Yearly bonus                                                                                          530 non-null    float64\n",
            " 10  Yearly stocks                                                                                         203 non-null    float64\n",
            " 11  Yearly brutto salary (without bonus and stocks) one year ago. Only answer if staying in same country  603 non-null    float64\n",
            " 12  Yearly bonus one year ago. Only answer if staying in same country                                     257 non-null    float64\n",
            " 13  Yearly stocks one year ago. Only answer if staying in same country                                    139 non-null    float64\n",
            " 14  Number of vacation days                                                                               931 non-null    float64\n",
            " 15  Number of home office days per month                                                                  639 non-null    float64\n",
            " 16  Main language at work                                                                                 986 non-null    object \n",
            " 17  Company name                                                                                          257 non-null    object \n",
            " 18  Company size                                                                                          977 non-null    object \n",
            " 19  Company type                                                                                          960 non-null    object \n",
            " 20  Сontract duration                                                                                     962 non-null    object \n",
            " 21  Company business sector                                                                               846 non-null    object \n",
            " 22  0                                                                                                     0 non-null      float64\n",
            "dtypes: float64(10), int64(1), object(12)\n",
            "memory usage: 178.2+ KB\n"
          ],
          "name": "stdout"
        }
      ]
    },
    {
      "cell_type": "markdown",
      "metadata": {
        "id": "Bfin9S4pACEA"
      },
      "source": [
        "## Task 2: Data Analysis\r\n",
        "* Display the first 5 rows of the 2018 survey data\r\n",
        "* Display a concise summary of the 2020 data and list out 3 observations/inferences that you observe from the result. For this you will need to use the info() method.\r\n",
        "* Display the descriptive statistics of the 2018 survey data\r\n",
        "* Display the number of missing values in each column of the 2018 survey data\r\n",
        "How many people responded to the survey in each of the 3 years? Has the number increased or decreased over the years?\r\n",
        "* Display all the unique values and their frequency in the column - “Number of vacation days” of 2020 data. Write down your observations (at least one) for this result. \r\n"
      ]
    },
    {
      "cell_type": "code",
      "metadata": {
        "id": "I0uRKB6QAW3O",
        "colab": {
          "base_uri": "https://localhost:8080/",
          "height": 417
        },
        "outputId": "01478f38-95cd-454c-f5d8-82eda4bbf17b"
      },
      "source": [
        "#Display the first 5 rows of the 2018 survey data\n",
        "data18.head()"
      ],
      "execution_count": 5,
      "outputs": [
        {
          "output_type": "execute_result",
          "data": {
            "text/html": [
              "<div>\n",
              "<style scoped>\n",
              "    .dataframe tbody tr th:only-of-type {\n",
              "        vertical-align: middle;\n",
              "    }\n",
              "\n",
              "    .dataframe tbody tr th {\n",
              "        vertical-align: top;\n",
              "    }\n",
              "\n",
              "    .dataframe thead th {\n",
              "        text-align: right;\n",
              "    }\n",
              "</style>\n",
              "<table border=\"1\" class=\"dataframe\">\n",
              "  <thead>\n",
              "    <tr style=\"text-align: right;\">\n",
              "      <th></th>\n",
              "      <th>Timestamp</th>\n",
              "      <th>Age</th>\n",
              "      <th>Gender</th>\n",
              "      <th>City</th>\n",
              "      <th>Position</th>\n",
              "      <th>Years of experience</th>\n",
              "      <th>Your level</th>\n",
              "      <th>Current Salary</th>\n",
              "      <th>Salary one year ago</th>\n",
              "      <th>Salary two years ago</th>\n",
              "      <th>Are you getting any Stock Options?</th>\n",
              "      <th>Main language at work</th>\n",
              "      <th>Company size</th>\n",
              "      <th>Company type</th>\n",
              "    </tr>\n",
              "  </thead>\n",
              "  <tbody>\n",
              "    <tr>\n",
              "      <th>0</th>\n",
              "      <td>14/12/2018 12:41:33</td>\n",
              "      <td>43.0</td>\n",
              "      <td>M</td>\n",
              "      <td>München</td>\n",
              "      <td>QA Ingenieur</td>\n",
              "      <td>11.0</td>\n",
              "      <td>Senior</td>\n",
              "      <td>77000.0</td>\n",
              "      <td>76200.0</td>\n",
              "      <td>68000.0</td>\n",
              "      <td>No</td>\n",
              "      <td>Deutsch</td>\n",
              "      <td>100-1000</td>\n",
              "      <td>Product</td>\n",
              "    </tr>\n",
              "    <tr>\n",
              "      <th>1</th>\n",
              "      <td>14/12/2018 12:42:09</td>\n",
              "      <td>33.0</td>\n",
              "      <td>F</td>\n",
              "      <td>München</td>\n",
              "      <td>Senior PHP Magento developer</td>\n",
              "      <td>8.0</td>\n",
              "      <td>Senior</td>\n",
              "      <td>65000.0</td>\n",
              "      <td>55000.0</td>\n",
              "      <td>55000.0</td>\n",
              "      <td>No</td>\n",
              "      <td>Deutsch</td>\n",
              "      <td>50-100</td>\n",
              "      <td>Product</td>\n",
              "    </tr>\n",
              "    <tr>\n",
              "      <th>2</th>\n",
              "      <td>14/12/2018 12:47:36</td>\n",
              "      <td>32.0</td>\n",
              "      <td>M</td>\n",
              "      <td>München</td>\n",
              "      <td>Software Engineer</td>\n",
              "      <td>10.0</td>\n",
              "      <td>Senior</td>\n",
              "      <td>88000.0</td>\n",
              "      <td>73000.0</td>\n",
              "      <td>54000.0</td>\n",
              "      <td>No</td>\n",
              "      <td>Deutsch</td>\n",
              "      <td>1000+</td>\n",
              "      <td>Product</td>\n",
              "    </tr>\n",
              "    <tr>\n",
              "      <th>3</th>\n",
              "      <td>14/12/2018 12:50:15</td>\n",
              "      <td>25.0</td>\n",
              "      <td>M</td>\n",
              "      <td>München</td>\n",
              "      <td>Senior Frontend Developer</td>\n",
              "      <td>6.0</td>\n",
              "      <td>Senior</td>\n",
              "      <td>78000.0</td>\n",
              "      <td>55000.0</td>\n",
              "      <td>45000.0</td>\n",
              "      <td>Yes</td>\n",
              "      <td>English</td>\n",
              "      <td>1000+</td>\n",
              "      <td>Product</td>\n",
              "    </tr>\n",
              "    <tr>\n",
              "      <th>4</th>\n",
              "      <td>14/12/2018 12:50:31</td>\n",
              "      <td>39.0</td>\n",
              "      <td>M</td>\n",
              "      <td>München</td>\n",
              "      <td>UX Designer</td>\n",
              "      <td>10.0</td>\n",
              "      <td>Senior</td>\n",
              "      <td>69000.0</td>\n",
              "      <td>60000.0</td>\n",
              "      <td>52000.0</td>\n",
              "      <td>No</td>\n",
              "      <td>English</td>\n",
              "      <td>100-1000</td>\n",
              "      <td>Ecom retailer</td>\n",
              "    </tr>\n",
              "  </tbody>\n",
              "</table>\n",
              "</div>"
            ],
            "text/plain": [
              "             Timestamp   Age  ... Company size   Company type\n",
              "0  14/12/2018 12:41:33  43.0  ...     100-1000        Product\n",
              "1  14/12/2018 12:42:09  33.0  ...       50-100        Product\n",
              "2  14/12/2018 12:47:36  32.0  ...        1000+        Product\n",
              "3  14/12/2018 12:50:15  25.0  ...        1000+        Product\n",
              "4  14/12/2018 12:50:31  39.0  ...     100-1000  Ecom retailer\n",
              "\n",
              "[5 rows x 14 columns]"
            ]
          },
          "metadata": {
            "tags": []
          },
          "execution_count": 5
        }
      ]
    },
    {
      "cell_type": "code",
      "metadata": {
        "colab": {
          "base_uri": "https://localhost:8080/"
        },
        "id": "scK7gYNfIsH_",
        "outputId": "febef513-9cfc-4066-bbc3-a98852ce1bbf"
      },
      "source": [
        "#Display a concise summary of the 2020 data and list out 3 observations/inferences that you observe from the result. For this you will need to use the info() method.\n",
        "data20.info()"
      ],
      "execution_count": 6,
      "outputs": [
        {
          "output_type": "stream",
          "text": [
            "<class 'pandas.core.frame.DataFrame'>\n",
            "RangeIndex: 1253 entries, 0 to 1252\n",
            "Data columns (total 23 columns):\n",
            " #   Column                                                                                                                   Non-Null Count  Dtype  \n",
            "---  ------                                                                                                                   --------------  -----  \n",
            " 0   Timestamp                                                                                                                1253 non-null   object \n",
            " 1   Age                                                                                                                      1226 non-null   float64\n",
            " 2   Gender                                                                                                                   1243 non-null   object \n",
            " 3   City                                                                                                                     1253 non-null   object \n",
            " 4   Position                                                                                                                 1247 non-null   object \n",
            " 5   Total years of experience                                                                                                1237 non-null   object \n",
            " 6   Years of experience in Germany                                                                                           1221 non-null   object \n",
            " 7   Seniority level                                                                                                          1241 non-null   object \n",
            " 8   Your main technology / programming language                                                                              1126 non-null   object \n",
            " 9   Other technologies/programming languages you use often                                                                   1096 non-null   object \n",
            " 10  Yearly brutto salary (without bonus and stocks) in EUR                                                                   1253 non-null   float64\n",
            " 11  Yearly bonus + stocks in EUR                                                                                             829 non-null    object \n",
            " 12  Annual brutto salary (without bonus and stocks) one year ago. Only answer if staying in the same country                 885 non-null    float64\n",
            " 13  Annual bonus+stocks one year ago. Only answer if staying in same country                                                 614 non-null    object \n",
            " 14  Number of vacation days                                                                                                  1185 non-null   object \n",
            " 15  Employment status                                                                                                        1236 non-null   object \n",
            " 16  Сontract duration                                                                                                        1224 non-null   object \n",
            " 17  Main language at work                                                                                                    1237 non-null   object \n",
            " 18  Company size                                                                                                             1235 non-null   object \n",
            " 19  Company type                                                                                                             1228 non-null   object \n",
            " 20  Have you lost your job due to the coronavirus outbreak?                                                                  1233 non-null   object \n",
            " 21  Have you been forced to have a shorter working week (Kurzarbeit)? If yes, how many hours per week                        373 non-null    float64\n",
            " 22  Have you received additional monetary support from your employer due to Work From Home? If yes, how much in 2020 in EUR  462 non-null    object \n",
            "dtypes: float64(4), object(19)\n",
            "memory usage: 225.3+ KB\n"
          ],
          "name": "stdout"
        }
      ]
    },
    {
      "cell_type": "markdown",
      "metadata": {
        "id": "OAGDO2PWIsIA"
      },
      "source": [
        "From the 2020 data we can observe that: \n",
        "    1. It has 23 columns and 1253 rows\n",
        "    2. The columns have many anomalies\n",
        "    3. Most of the data types are objects"
      ]
    },
    {
      "cell_type": "code",
      "metadata": {
        "colab": {
          "base_uri": "https://localhost:8080/",
          "height": 284
        },
        "id": "Fr5zjmNtIsIA",
        "outputId": "4366738a-ead1-4d5e-b36f-6e542b0099b3"
      },
      "source": [
        "#Display the descriptive statistics of the 2018 survey data\n",
        "data18.describe()"
      ],
      "execution_count": 7,
      "outputs": [
        {
          "output_type": "execute_result",
          "data": {
            "text/html": [
              "<div>\n",
              "<style scoped>\n",
              "    .dataframe tbody tr th:only-of-type {\n",
              "        vertical-align: middle;\n",
              "    }\n",
              "\n",
              "    .dataframe tbody tr th {\n",
              "        vertical-align: top;\n",
              "    }\n",
              "\n",
              "    .dataframe thead th {\n",
              "        text-align: right;\n",
              "    }\n",
              "</style>\n",
              "<table border=\"1\" class=\"dataframe\">\n",
              "  <thead>\n",
              "    <tr style=\"text-align: right;\">\n",
              "      <th></th>\n",
              "      <th>Age</th>\n",
              "      <th>Years of experience</th>\n",
              "      <th>Current Salary</th>\n",
              "      <th>Salary one year ago</th>\n",
              "      <th>Salary two years ago</th>\n",
              "    </tr>\n",
              "  </thead>\n",
              "  <tbody>\n",
              "    <tr>\n",
              "      <th>count</th>\n",
              "      <td>672.000000</td>\n",
              "      <td>732.000000</td>\n",
              "      <td>750.000000</td>\n",
              "      <td>596.000000</td>\n",
              "      <td>463.000000</td>\n",
              "    </tr>\n",
              "    <tr>\n",
              "      <th>mean</th>\n",
              "      <td>32.183036</td>\n",
              "      <td>8.548497</td>\n",
              "      <td>68381.765333</td>\n",
              "      <td>62187.278523</td>\n",
              "      <td>58013.475162</td>\n",
              "    </tr>\n",
              "    <tr>\n",
              "      <th>std</th>\n",
              "      <td>5.107268</td>\n",
              "      <td>4.729557</td>\n",
              "      <td>21196.306557</td>\n",
              "      <td>20163.008663</td>\n",
              "      <td>20413.048908</td>\n",
              "    </tr>\n",
              "    <tr>\n",
              "      <th>min</th>\n",
              "      <td>21.000000</td>\n",
              "      <td>0.000000</td>\n",
              "      <td>10300.000000</td>\n",
              "      <td>10001.000000</td>\n",
              "      <td>10001.000000</td>\n",
              "    </tr>\n",
              "    <tr>\n",
              "      <th>25%</th>\n",
              "      <td>29.000000</td>\n",
              "      <td>5.000000</td>\n",
              "      <td>57000.000000</td>\n",
              "      <td>52000.000000</td>\n",
              "      <td>48000.000000</td>\n",
              "    </tr>\n",
              "    <tr>\n",
              "      <th>50%</th>\n",
              "      <td>32.000000</td>\n",
              "      <td>8.000000</td>\n",
              "      <td>65000.000000</td>\n",
              "      <td>60000.000000</td>\n",
              "      <td>56000.000000</td>\n",
              "    </tr>\n",
              "    <tr>\n",
              "      <th>75%</th>\n",
              "      <td>35.000000</td>\n",
              "      <td>11.000000</td>\n",
              "      <td>75000.000000</td>\n",
              "      <td>70000.000000</td>\n",
              "      <td>67000.000000</td>\n",
              "    </tr>\n",
              "    <tr>\n",
              "      <th>max</th>\n",
              "      <td>60.000000</td>\n",
              "      <td>38.000000</td>\n",
              "      <td>200000.000000</td>\n",
              "      <td>200000.000000</td>\n",
              "      <td>150000.000000</td>\n",
              "    </tr>\n",
              "  </tbody>\n",
              "</table>\n",
              "</div>"
            ],
            "text/plain": [
              "              Age  ...  Salary two years ago\n",
              "count  672.000000  ...            463.000000\n",
              "mean    32.183036  ...          58013.475162\n",
              "std      5.107268  ...          20413.048908\n",
              "min     21.000000  ...          10001.000000\n",
              "25%     29.000000  ...          48000.000000\n",
              "50%     32.000000  ...          56000.000000\n",
              "75%     35.000000  ...          67000.000000\n",
              "max     60.000000  ...         150000.000000\n",
              "\n",
              "[8 rows x 5 columns]"
            ]
          },
          "metadata": {
            "tags": []
          },
          "execution_count": 7
        }
      ]
    },
    {
      "cell_type": "code",
      "metadata": {
        "colab": {
          "base_uri": "https://localhost:8080/"
        },
        "id": "hJZbWOTwIsIB",
        "outputId": "e7f4d839-23d0-4ed2-ebcf-4e63fa037018"
      },
      "source": [
        "#Display the number of missing values in each column of the 2018 survey data \n",
        "data18.isnull().sum()"
      ],
      "execution_count": 8,
      "outputs": [
        {
          "output_type": "execute_result",
          "data": {
            "text/plain": [
              "Timestamp                               0\n",
              "Age                                    93\n",
              "Gender                                 14\n",
              "City                                   29\n",
              "Position                               28\n",
              "Years of experience                    33\n",
              "Your level                             22\n",
              "Current Salary                         15\n",
              "Salary one year ago                   169\n",
              "Salary two years ago                  302\n",
              "Are you getting any Stock Options?     23\n",
              "Main language at work                  15\n",
              "Company size                           15\n",
              "Company type                           35\n",
              "dtype: int64"
            ]
          },
          "metadata": {
            "tags": []
          },
          "execution_count": 8
        }
      ]
    },
    {
      "cell_type": "code",
      "metadata": {
        "colab": {
          "base_uri": "https://localhost:8080/"
        },
        "id": "XYPWwtK9IsIC",
        "outputId": "e3cc1a7b-da01-4cbb-f1a6-a44a317dd5cc"
      },
      "source": [
        "#How many people responded to the survey in each of the 3 years? Has the number increased or decreased over the years?\n",
        "print(\"2018:\", len(data18))\n",
        "print(\"2019:\", len(data19))\n",
        "print(\"2020:\", len(data20))\n",
        "\n"
      ],
      "execution_count": 9,
      "outputs": [
        {
          "output_type": "stream",
          "text": [
            "2018: 765\n",
            "2019: 991\n",
            "2020: 1253\n"
          ],
          "name": "stdout"
        }
      ]
    },
    {
      "cell_type": "code",
      "metadata": {
        "colab": {
          "base_uri": "https://localhost:8080/"
        },
        "id": "3arYzR4hIsID",
        "outputId": "d48cd520-d0ee-442a-d944-2bcf42554284"
      },
      "source": [
        "#Display all the unique values and their frequency in the column - “Number of vacation days” of 2020 data. Write down your observations (at least one) for this result.\n",
        "print(\"unique values and their frequency in the column:\",\"\\n\", data20['Number of vacation days'].value_counts())\n",
        "print(\"*\"*10)\n",
        "print(\"Total number of unique values is:\", data20['Number of vacation days'].nunique())"
      ],
      "execution_count": 10,
      "outputs": [
        {
          "output_type": "stream",
          "text": [
            "unique values and their frequency in the column: \n",
            " 30                                              488\n",
            "28                                              233\n",
            "27                                              102\n",
            "25                                               91\n",
            "26                                               71\n",
            "24                                               67\n",
            "29                                               24\n",
            "20                                               13\n",
            "21                                               10\n",
            "32                                                8\n",
            "22                                                8\n",
            "31                                                8\n",
            "35                                                5\n",
            "36                                                5\n",
            "0                                                 4\n",
            "40                                                4\n",
            "23                                                4\n",
            "unlimited                                         3\n",
            "45                                                3\n",
            "14                                                3\n",
            "33                                                3\n",
            "Unlimited                                         2\n",
            "12                                                2\n",
            "15                                                2\n",
            "unlimited                                         2\n",
            "50                                                1\n",
            "37                                                1\n",
            "3                                                 1\n",
            "10                                                1\n",
            "39                                                1\n",
            "16                                                1\n",
            "5                                                 1\n",
            "34                                                1\n",
            "(no idea)                                         1\n",
            "37.5                                              1\n",
            "30 in contract (but theoretically unlimited)      1\n",
            "24 labour days                                    1\n",
            "38                                                1\n",
            "1                                                 1\n",
            "99                                                1\n",
            "Unlimited                                         1\n",
            "~25                                               1\n",
            "60                                                1\n",
            "23+                                               1\n",
            "365                                               1\n",
            "Name: Number of vacation days, dtype: int64\n",
            "**********\n",
            "Total number of unique values is: 45\n"
          ],
          "name": "stdout"
        }
      ]
    },
    {
      "cell_type": "markdown",
      "metadata": {
        "id": "wptPzyquAXbR"
      },
      "source": [
        "## Task 3: Data Cleaning\r\n",
        "* Rename the column ‘Position ‘ in the 2020 data to ‘Position’. (without the blank space)\r\n",
        "* Check for missing values in 2020 data for all the columns. If there are no missing values, proceed to the next step. If there are missing values in the dataset,\r\n",
        "  * For categorical variables, fill the missing values with the mode of the data. Remember if the data type of any variable is ‘object’, it is categorical variable. \r\n",
        "  * For numerical variables, fill the missing values with the mean of the data.\r\n",
        "\r\n",
        "Here's a good blog that displays multiple methods of filling (imputing) missing values: https://jamesrledoux.com/code/imputation \r\n",
        "* Drop the timestamp column for all the three years data since the date and time at which a person filled the survey is irrelevant to us. The year matters and we already know that from the dataset’s name.\r\n",
        "* Perform any other data cleaning steps you believe are necessary. (removing outliers, handling missing values in a way to beautify visualizations, making the categories uniform i.e python and Python should mean the same thing etc.) Note that the same steps will have to be performed for all 3 data files."
      ]
    },
    {
      "cell_type": "code",
      "metadata": {
        "id": "JJVbuKp5IsIE"
      },
      "source": [
        "#Rename the column ‘Position ‘ in the 2020 data to ‘Position’. (without the blank space)\n",
        "data20['Position '] = data20['Position '].str.strip()"
      ],
      "execution_count": 11,
      "outputs": []
    },
    {
      "cell_type": "code",
      "metadata": {
        "colab": {
          "base_uri": "https://localhost:8080/"
        },
        "id": "wF24ZnsjIsIF",
        "outputId": "2d90f9ed-03d4-4490-d356-eb8305417d9d"
      },
      "source": [
        "#Check for missing values in 2020 data for all the columns.\n",
        "\n",
        "data20.isnull().sum().sort_values(ascending = False)"
      ],
      "execution_count": 12,
      "outputs": [
        {
          "output_type": "execute_result",
          "data": {
            "text/plain": [
              "Have you been forced to have a shorter working week (Kurzarbeit)? If yes, how many hours per week                          880\n",
              "Have you received additional monetary support from your employer due to Work From Home? If yes, how much in 2020 in EUR    791\n",
              "Annual bonus+stocks one year ago. Only answer if staying in same country                                                   639\n",
              "Yearly bonus + stocks in EUR                                                                                               424\n",
              "Annual brutto salary (without bonus and stocks) one year ago. Only answer if staying in the same country                   368\n",
              "Other technologies/programming languages you use often                                                                     157\n",
              "Your main technology / programming language                                                                                127\n",
              "Number of vacation days                                                                                                     68\n",
              "Years of experience in Germany                                                                                              32\n",
              "Сontract duration                                                                                                           29\n",
              "Age                                                                                                                         27\n",
              "Company type                                                                                                                25\n",
              "Have you lost your job due to the coronavirus outbreak?                                                                     20\n",
              "Company size                                                                                                                18\n",
              "Employment status                                                                                                           17\n",
              "Main language at work                                                                                                       16\n",
              "Total years of experience                                                                                                   16\n",
              "Seniority level                                                                                                             12\n",
              "Gender                                                                                                                      10\n",
              "Position                                                                                                                     6\n",
              "Yearly brutto salary (without bonus and stocks) in EUR                                                                       0\n",
              "City                                                                                                                         0\n",
              "Timestamp                                                                                                                    0\n",
              "dtype: int64"
            ]
          },
          "metadata": {
            "tags": []
          },
          "execution_count": 12
        }
      ]
    },
    {
      "cell_type": "code",
      "metadata": {
        "colab": {
          "base_uri": "https://localhost:8080/"
        },
        "id": "yD3JqKU3IsIG",
        "outputId": "6e0e803d-4914-47b6-ec51-5d7db80b4189"
      },
      "source": [
        "survey = pd.concat([data18, data19, data20], axis=0, join='inner') \n",
        "survey.info()"
      ],
      "execution_count": 13,
      "outputs": [
        {
          "output_type": "stream",
          "text": [
            "<class 'pandas.core.frame.DataFrame'>\n",
            "Int64Index: 3009 entries, 0 to 1252\n",
            "Data columns (total 6 columns):\n",
            " #   Column                 Non-Null Count  Dtype  \n",
            "---  ------                 --------------  -----  \n",
            " 0   Age                    2780 non-null   float64\n",
            " 1   Gender                 2985 non-null   object \n",
            " 2   City                   2980 non-null   object \n",
            " 3   Main language at work  2973 non-null   object \n",
            " 4   Company size           2962 non-null   object \n",
            " 5   Company type           2918 non-null   object \n",
            "dtypes: float64(1), object(5)\n",
            "memory usage: 164.6+ KB\n"
          ],
          "name": "stdout"
        }
      ]
    },
    {
      "cell_type": "code",
      "metadata": {
        "id": "JmvqBN_rIsIH"
      },
      "source": [
        "#Imputing missing values\n",
        "survey['Age'].fillna(survey['Age'].mean(), inplace=True)\n",
        "survey['Gender'].fillna(survey['Gender'].mode()[0], inplace=True)\n",
        "survey['City'].fillna(survey['City'].mode()[0], inplace=True)\n",
        "survey['Main language at work'].fillna(survey['Main language at work'].mode()[0], inplace=True)\n",
        "survey['Company size'].fillna(survey['Company size'].mode()[0], inplace=True)\n",
        "survey['Company type'].fillna(survey['Company type'].mode()[0], inplace=True)"
      ],
      "execution_count": 14,
      "outputs": []
    },
    {
      "cell_type": "code",
      "metadata": {
        "colab": {
          "base_uri": "https://localhost:8080/"
        },
        "id": "OVz2iOs2IsIH",
        "outputId": "def5c2c7-4f40-480d-b7ae-cd5cc7aaae74"
      },
      "source": [
        "survey.info()"
      ],
      "execution_count": 15,
      "outputs": [
        {
          "output_type": "stream",
          "text": [
            "<class 'pandas.core.frame.DataFrame'>\n",
            "Int64Index: 3009 entries, 0 to 1252\n",
            "Data columns (total 6 columns):\n",
            " #   Column                 Non-Null Count  Dtype  \n",
            "---  ------                 --------------  -----  \n",
            " 0   Age                    3009 non-null   float64\n",
            " 1   Gender                 3009 non-null   object \n",
            " 2   City                   3009 non-null   object \n",
            " 3   Main language at work  3009 non-null   object \n",
            " 4   Company size           3009 non-null   object \n",
            " 5   Company type           3009 non-null   object \n",
            "dtypes: float64(1), object(5)\n",
            "memory usage: 164.6+ KB\n"
          ],
          "name": "stdout"
        }
      ]
    },
    {
      "cell_type": "markdown",
      "metadata": {
        "id": "CIE0JNrxI94x"
      },
      "source": [
        ""
      ]
    },
    {
      "cell_type": "markdown",
      "metadata": {
        "id": "s8RT70fOCb_T"
      },
      "source": [
        "## Task 4: Data Visualization using Plotly\r\n",
        "**Note:** All the tasks below need to be completed using only Plotly and no other Data Visualization library.\r\n",
        "\r\n",
        "* Create a pie chart to analyze the Company types in the year 2019. Are Consulting / Agency companies more popular than Startups? \r\n",
        "* Create a line plot of the Total years of experience vs the current salary(taking the median salary for each of the different experience years) of the year 2018.\r\n",
        "* Now, create the above plot again and add 2 more line plots to the same graph, that display the Total years of experience vs the median Yearly brutto salary (without bonus and stocks) of the year 2019 and 2020.\r\n",
        "* Create a bar chart to analyse the popularity of the main technology/ programming languages amongst the respondents in the year 2020. Which technology is the most popular? Which technology is the least popular (with less than 4 responses)?\r\n",
        "* Create a pie plot indicating the gender ratio of the respondents in the year 2020.\r\n"
      ]
    },
    {
      "cell_type": "code",
      "metadata": {
        "id": "ROEb1ukbCoTi",
        "colab": {
          "base_uri": "https://localhost:8080/"
        },
        "outputId": "12026940-9691-4a0d-a695-7be6612d39f6"
      },
      "source": [
        "#Create a pie chart to analyze the Company types in the year 2019. \r\n",
        "#Are Consulting / Agency companies more popular than Startups?\r\n",
        "data19.info()"
      ],
      "execution_count": 16,
      "outputs": [
        {
          "output_type": "stream",
          "text": [
            "<class 'pandas.core.frame.DataFrame'>\n",
            "RangeIndex: 991 entries, 0 to 990\n",
            "Data columns (total 23 columns):\n",
            " #   Column                                                                                                Non-Null Count  Dtype  \n",
            "---  ------                                                                                                --------------  -----  \n",
            " 0   Zeitstempel                                                                                           991 non-null    object \n",
            " 1   Age                                                                                                   882 non-null    float64\n",
            " 2   Gender                                                                                                991 non-null    object \n",
            " 3   City                                                                                                  991 non-null    object \n",
            " 4   Seniority level                                                                                       976 non-null    object \n",
            " 5   Position (without seniority)                                                                          990 non-null    object \n",
            " 6   Years of experience                                                                                   991 non-null    int64  \n",
            " 7   Your main technology / programming language                                                           977 non-null    object \n",
            " 8   Yearly brutto salary (without bonus and stocks)                                                       990 non-null    float64\n",
            " 9   Yearly bonus                                                                                          530 non-null    float64\n",
            " 10  Yearly stocks                                                                                         203 non-null    float64\n",
            " 11  Yearly brutto salary (without bonus and stocks) one year ago. Only answer if staying in same country  603 non-null    float64\n",
            " 12  Yearly bonus one year ago. Only answer if staying in same country                                     257 non-null    float64\n",
            " 13  Yearly stocks one year ago. Only answer if staying in same country                                    139 non-null    float64\n",
            " 14  Number of vacation days                                                                               931 non-null    float64\n",
            " 15  Number of home office days per month                                                                  639 non-null    float64\n",
            " 16  Main language at work                                                                                 986 non-null    object \n",
            " 17  Company name                                                                                          257 non-null    object \n",
            " 18  Company size                                                                                          977 non-null    object \n",
            " 19  Company type                                                                                          960 non-null    object \n",
            " 20  Сontract duration                                                                                     962 non-null    object \n",
            " 21  Company business sector                                                                               846 non-null    object \n",
            " 22  0                                                                                                     0 non-null      float64\n",
            "dtypes: float64(10), int64(1), object(12)\n",
            "memory usage: 178.2+ KB\n"
          ],
          "name": "stdout"
        }
      ]
    },
    {
      "cell_type": "code",
      "metadata": {
        "id": "ZQRkIlmwMkAf"
      },
      "source": [
        "data19['Company type'].astype('category')\r\n",
        "data19['Company type'].fillna(data19['Company type'].mode()[0], inplace=True)\r\n"
      ],
      "execution_count": 17,
      "outputs": []
    },
    {
      "cell_type": "code",
      "metadata": {
        "id": "kZDsNYHnNnj3"
      },
      "source": [
        "#Importing relevant libraries\r\n",
        "import plotly.express as px\r\n",
        "# import graph objects as \"go\"\r\n",
        "import plotly.graph_objs as go\r\n",
        "#import plotly.plotly\r\n",
        "#!pip install chart-studio\r\n",
        "import chart_studio.plotly as plotly\r\n",
        "from chart_studio.plotly import plot, iplot\r\n",
        "from plotly.offline import iplot"
      ],
      "execution_count": 18,
      "outputs": []
    },
    {
      "cell_type": "code",
      "metadata": {
        "colab": {
          "base_uri": "https://localhost:8080/",
          "height": 542
        },
        "id": "iKwH2n5rNwge",
        "outputId": "ce9d7108-2e77-43ad-af0e-f17b13624b19"
      },
      "source": [
        "#Creating  a pie chart\r\n",
        "\r\n",
        "fig = px.pie(data19,names='Company type', hole=0.3) #customize it to a donut shape instead of a pie using the hole parameter\r\n",
        "fig.update_traces(textinfo=\"label+percent\", insidetextfont= dict(color=\"white\")) #Changing the label & colour of the labels\r\n",
        "#fig.update_layout(legend = {\"itemclick\": False}) #Changing what happens on clicking on a legend\r\n",
        "fig.show()"
      ],
      "execution_count": 42,
      "outputs": [
        {
          "output_type": "display_data",
          "data": {
            "text/html": [
              "<html>\n",
              "<head><meta charset=\"utf-8\" /></head>\n",
              "<body>\n",
              "    <div>            <script src=\"https://cdnjs.cloudflare.com/ajax/libs/mathjax/2.7.5/MathJax.js?config=TeX-AMS-MML_SVG\"></script><script type=\"text/javascript\">if (window.MathJax) {MathJax.Hub.Config({SVG: {font: \"STIX-Web\"}});}</script>                <script type=\"text/javascript\">window.PlotlyConfig = {MathJaxConfig: 'local'};</script>\n",
              "        <script src=\"https://cdn.plot.ly/plotly-latest.min.js\"></script>                <div id=\"08dd34f7-3738-44ed-b197-31bd42f0caa8\" class=\"plotly-graph-div\" style=\"height:525px; width:100%;\"></div>            <script type=\"text/javascript\">                                    window.PLOTLYENV=window.PLOTLYENV || {};                                    if (document.getElementById(\"08dd34f7-3738-44ed-b197-31bd42f0caa8\")) {                    Plotly.newPlot(                        \"08dd34f7-3738-44ed-b197-31bd42f0caa8\",                        [{\"domain\": {\"x\": [0.0, 1.0], \"y\": [0.0, 1.0]}, \"hole\": 0.3, \"hovertemplate\": \"Company type=%{label}<extra></extra>\", \"insidetextfont\": {\"color\": \"white\"}, \"labels\": [\"Startup\", \"Product\", \"Startup\", \"Product\", \"Product\", \"Product\", \"Startup\", \"Product\", \"Product\", \"Product\", \"Startup\", \"Product\", \"Startup\", \"Product\", \"Startup\", \"Startup\", \"Product\", \"Product\", \"Product\", \"Product\", \"Startup\", \"Product\", \"Product\", \"Product\", \"Product\", \"Product\", \"Product\", \"Consulting / Agency\", \"Product\", \"Product\", \"Product\", \"Consulting / Agency\", \"Startup\", \"Product\", \"Product\", \"Product\", \"Product\", \"Startup\", \"Product\", \"Product\", \"Startup\", \"Product\", \"Product\", \"Startup\", \"Startup\", \"Product\", \"Product\", \"Consulting / Agency\", \"Startup\", \"Product\", \"Startup\", \"Consulting / Agency\", \"Startup\", \"Startup\", \"Product\", \"Consulting / Agency\", \"Product\", \"Startup\", \"Startup\", \"Startup\", \"Product\", \"Product\", \"Product\", \"Product\", \"Startup\", \"Product\", \"Product\", \"Startup\", \"Consulting / Agency\", \"Product\", \"Product\", \"Consulting / Agency\", \"Product\", \"Product\", \"Startup\", \"Product\", \"Product\", \"Product\", \"Product\", \"Product\", \"Startup\", \"Product\", \"Product\", \"Product\", \"Consulting / Agency\", \"Product\", \"Startup\", \"Product\", \"Product\", \"Product\", \"Startup\", \"Consulting / Agency\", \"Product\", \"Startup\", \"Product\", \"Startup\", \"Product\", \"Product\", \"Product\", \"Product\", \"Product\", \"Consulting / Agency\", \"Startup\", \"Product\", \"Consulting / Agency\", \"Startup\", \"Product\", \"Product\", \"Consulting / Agency\", \"Product\", \"Product\", \"Consulting / Agency\", \"Startup\", \"Startup\", \"Consulting / Agency\", \"Product\", \"Product\", \"Bodyshop / Outsource\", \"Product\", \"Product\", \"Product\", \"Product\", \"Product\", \"Product\", \"Product\", \"Consulting / Agency\", \"Product\", \"Product\", \"Product\", \"Product\", \"Product\", \"Bodyshop / Outsource\", \"Startup\", \"Product\", \"Consulting / Agency\", \"Bodyshop / Outsource\", \"Consulting / Agency\", \"Product\", \"Product\", \"Consulting / Agency\", \"Product\", \"Product\", \"Startup\", \"Product\", \"Product\", \"Product\", \"Product\", \"Product\", \"Product\", \"Consulting / Agency\", \"Product\", \"Product\", \"Product\", \"Product\", \"Product\", \"Product\", \"Product\", \"Product\", \"Product\", \"Product\", \"Product\", \"Consulting / Agency\", \"Startup\", \"Product\", \"Product\", \"Consulting / Agency\", \"Product\", \"Product\", \"Startup\", \"Startup\", \"Product\", \"Product\", \"Product\", \"Product\", \"Product\", \"Product\", \"Product\", \"Product\", \"Product\", \"Consulting / Agency\", \"Product\", \"Product\", \"Consulting / Agency\", \"Product\", \"Consulting / Agency\", \"Product\", \"Product\", \"Product\", \"Product\", \"Product\", \"Product\", \"Product\", \"Product\", \"Product\", \"Product\", \"Consulting / Agency\", \"Product\", \"Product\", \"Startup\", \"Product\", \"Consulting / Agency\", \"Product\", \"Product\", \"Product\", \"Consulting / Agency\", \"Product\", \"Product\", \"Product\", \"Product\", \"Product\", \"Product\", \"Product\", \"Product\", \"Product\", \"Product\", \"Product\", \"Product\", \"Product\", \"Product\", \"Product\", \"Product\", \"Product\", \"Startup\", \"Product\", \"Bodyshop / Outsource\", \"Product\", \"Startup\", \"Consulting / Agency\", \"Product\", \"Consulting / Agency\", \"Product\", \"Bodyshop / Outsource\", \"Product\", \"Startup\", \"Startup\", \"Startup\", \"Consulting / Agency\", \"Startup\", \"Product\", \"Product\", \"Bodyshop / Outsource\", \"Product\", \"Startup\", \"Product\", \"Product\", \"Consulting / Agency\", \"Product\", \"Product\", \"Product\", \"Product\", \"Product\", \"Product\", \"Product\", \"Product\", \"Product\", \"Product\", \"Startup\", \"Product\", \"Product\", \"Product\", \"Startup\", \"Startup\", \"Product\", \"Product\", \"Product\", \"Product\", \"Product\", \"Startup\", \"Product\", \"Startup\", \"Bodyshop / Outsource\", \"Product\", \"Consulting / Agency\", \"Product\", \"Product\", \"Consulting / Agency\", \"Product\", \"Startup\", \"Product\", \"Product\", \"Product\", \"Product\", \"Product\", \"Product\", \"Product\", \"Product\", \"Startup\", \"Product\", \"Product\", \"Product\", \"Startup\", \"Product\", \"Product\", \"Product\", \"Consulting / Agency\", \"Bodyshop / Outsource\", \"Product\", \"Product\", \"Product\", \"Consulting / Agency\", \"Product\", \"Product\", \"Product\", \"Product\", \"Product\", \"Startup\", \"Product\", \"Product\", \"Product\", \"Startup\", \"Consulting / Agency\", \"Startup\", \"Product\", \"Product\", \"Product\", \"Startup\", \"Product\", \"Product\", \"Startup\", \"Product\", \"Product\", \"Product\", \"Product\", \"Product\", \"Product\", \"Product\", \"Startup\", \"Product\", \"Product\", \"Product\", \"Consulting / Agency\", \"Product\", \"Product\", \"Product\", \"Startup\", \"Startup\", \"Product\", \"Product\", \"Product\", \"Product\", \"Product\", \"Product\", \"Product\", \"Product\", \"Product\", \"Product\", \"Startup\", \"Product\", \"Bodyshop / Outsource\", \"Product\", \"Startup\", \"Product\", \"Product\", \"Product\", \"Product\", \"Consulting / Agency\", \"Product\", \"Product\", \"Product\", \"Product\", \"Product\", \"Startup\", \"Startup\", \"Product\", \"Product\", \"Product\", \"Product\", \"Product\", \"Startup\", \"Product\", \"Product\", \"Startup\", \"Product\", \"Consulting / Agency\", \"Startup\", \"Consulting / Agency\", \"Product\", \"Product\", \"Product\", \"Bodyshop / Outsource\", \"Product\", \"Bodyshop / Outsource\", \"Product\", \"Startup\", \"Product\", \"Product\", \"Startup\", \"Product\", \"Startup\", \"Startup\", \"Product\", \"Startup\", \"Product\", \"Product\", \"Product\", \"Product\", \"Product\", \"Product\", \"Consulting / Agency\", \"Startup\", \"Product\", \"Product\", \"Product\", \"Product\", \"Product\", \"Startup\", \"Consulting / Agency\", \"Product\", \"Product\", \"Startup\", \"Product\", \"Product\", \"Product\", \"Product\", \"Product\", \"Product\", \"Product\", \"Product\", \"Startup\", \"Product\", \"Startup\", \"Consulting / Agency\", \"Consulting / Agency\", \"Product\", \"Product\", \"Consulting / Agency\", \"Consulting / Agency\", \"Consulting / Agency\", \"Product\", \"Product\", \"Startup\", \"Startup\", \"Product\", \"Product\", \"Product\", \"Bodyshop / Outsource\", \"Product\", \"Product\", \"Consulting / Agency\", \"Startup\", \"Product\", \"Startup\", \"Startup\", \"Startup\", \"Consulting / Agency\", \"Consulting / Agency\", \"Product\", \"Product\", \"Product\", \"Startup\", \"Product\", \"Startup\", \"Startup\", \"Startup\", \"Product\", \"Consulting / Agency\", \"Consulting / Agency\", \"Startup\", \"Product\", \"Product\", \"Product\", \"University\", \"Bodyshop / Outsource\", \"Product\", \"Product\", \"Product\", \"Startup\", \"Product\", \"Bodyshop / Outsource\", \"Product\", \"Product\", \"Product\", \"Product\", \"Consulting / Agency\", \"Startup\", \"Product\", \"Product\", \"Product\", \"Product\", \"Consulting / Agency\", \"Startup\", \"Product\", \"Startup\", \"Product\", \"Product\", \"Product\", \"Product\", \"Product\", \"Startup\", \"Product\", \"Product\", \"Startup\", \"Consulting / Agency\", \"Product\", \"Product\", \"Consulting / Agency\", \"Product\", \"Product\", \"Product\", \"Product\", \"Product\", \"Startup\", \"Consulting / Agency\", \"Startup\", \"Consulting / Agency\", \"Product\", \"Product\", \"Startup\", \"Product\", \"Product\", \"Product\", \"Startup\", \"Product\", \"Consulting / Agency\", \"Startup\", \"Consulting / Agency\", \"Consulting / Agency\", \"Consulting / Agency\", \"Consulting / Agency\", \"Product\", \"Product\", \"Startup\", \"Product\", \"Product\", \"Startup\", \"Product\", \"Product\", \"Startup\", \"Consulting / Agency\", \"Product\", \"Product\", \"Product\", \"Product\", \"Startup\", \"Startup\", \"Consulting / Agency\", \"Product\", \"Product\", \"Startup\", \"Product\", \"Product\", \"Product\", \"Startup\", \"Startup\", \"Product\", \"Product\", \"Startup\", \"Product\", \"Product\", \"Product\", \"Product\", \"Product\", \"Startup\", \"Product\", \"Product\", \"Product\", \"Product\", \"Product\", \"Product\", \"Product\", \"Product\", \"Product\", \"Product\", \"Startup\", \"Product\", \"Product\", \"Startup\", \"Bodyshop / Outsource\", \"Startup\", \"Consulting / Agency\", \"Startup\", \"Product\", \"Product\", \"Product\", \"Startup\", \"Product\", \"Consulting / Agency\", \"Product\", \"Product\", \"Product\", \"Consulting / Agency\", \"Startup\", \"Product\", \"Startup\", \"Consulting / Agency\", \"Startup\", \"Product\", \"Product\", \"Product\", \"Consulting / Agency\", \"Product\", \"Product\", \"Product\", \"Product\", \"Consulting / Agency\", \"Consulting / Agency\", \"Product\", \"Product\", \"Product\", \"Product\", \"Product\", \"Consulting / Agency\", \"Product\", \"Product\", \"Consulting / Agency\", \"Product\", \"Product\", \"Product\", \"Startup\", \"Product\", \"Product\", \"Consulting / Agency\", \"Product\", \"Product\", \"Product\", \"Product\", \"Product\", \"Product\", \"Product\", \"Product\", \"Product\", \"Product\", \"Product\", \"Startup\", \"Product\", \"Product\", \"Product\", \"Product\", \"Product\", \"Product\", \"Consulting / Agency\", \"Product\", \"Bodyshop / Outsource\", \"Product\", \"Product\", \"Startup\", \"Product\", \"Product\", \"Consulting / Agency\", \"Product\", \"Product\", \"Consulting / Agency\", \"Product\", \"Startup\", \"Product\", \"Startup\", \"Startup\", \"Product\", \"Consulting / Agency\", \"Startup\", \"Product\", \"Consulting / Agency\", \"Consulting / Agency\", \"Product\", \"Product\", \"Product\", \"Product\", \"Product\", \"Product\", \"Startup\", \"Product\", \"Product\", \"Product\", \"Startup\", \"Product\", \"Product\", \"Startup\", \"Product\", \"Startup\", \"Product\", \"Product\", \"Consulting / Agency\", \"Product\", \"Product\", \"Startup\", \"Product\", \"Product\", \"Consulting / Agency\", \"Product\", \"Product\", \"Product\", \"Product\", \"Product\", \"Startup\", \"Startup\", \"Product\", \"Product\", \"Consulting / Agency\", \"Product\", \"Startup\", \"Consulting / Agency\", \"Bodyshop / Outsource\", \"Startup\", \"Startup\", \"Product\", \"Product\", \"Product\", \"Startup\", \"Startup\", \"Product\", \"Startup\", \"Product\", \"Product\", \"Bank\", \"Product\", \"Bodyshop / Outsource\", \"Product\", \"Startup\", \"University\", \"Product\", \"Product\", \"Product\", \"Product\", \"Product\", \"Product\", \"Startup\", \"Product\", \"Product\", \"Product\", \"Bodyshop / Outsource\", \"Startup\", \"Product\", \"Product\", \"Product\", \"Product\", \"Product\", \"Startup\", \"Product\", \"Product\", \"Product\", \"Startup\", \"Bodyshop / Outsource\", \"Product\", \"Product\", \"Startup\", \"Product\", \"Product\", \"Product\", \"Product\", \"Product\", \"Product\", \"Product\", \"Bodyshop / Outsource\", \"Consulting / Agency\", \"Product\", \"Product\", \"Product\", \"Product\", \"Product\", \"Product\", \"Product\", \"Startup\", \"Product\", \"Product\", \"Consulting / Agency\", \"Consulting / Agency\", \"Product\", \"Product\", \"Startup\", \"Consulting / Agency\", \"Startup\", \"Consulting / Agency\", \"Product\", \"Bodyshop / Outsource\", \"Product\", \"Product\", \"Product\", \"Product\", \"Bodyshop / Outsource\", \"Product\", \"Bodyshop / Outsource\", \"Bodyshop / Outsource\", \"Product\", \"Product\", \"Product\", \"Bank\", \"Consulting / Agency\", \"Startup\", \"Product\", \"Product\", \"Product\", \"Product\", \"Product\", \"Product\", \"Product\", \"Product\", \"Product\", \"Startup\", \"Product\", \"Product\", \"Product\", \"Product\", \"Product\", \"Bank\", \"Product\", \"Product\", \"Product\", \"Startup\", \"Product\", \"Consulting / Agency\", \"Startup\", \"Product\", \"Product\", \"Product\", \"Product\", \"Consulting / Agency\", \"Consulting / Agency\", \"Startup\", \"Product\", \"Product\", \"Consulting / Agency\", \"Product\", \"Consulting / Agency\", \"Product\", \"Bank\", \"Product\", \"Startup\", \"Consulting / Agency\", \"Product\", \"Product\", \"Product\", \"University\", \"Startup\", \"Product\", \"Startup\", \"Product\", \"Product\", \"Product\", \"Product\", \"Startup\", \"Product\", \"Product\", \"Product\", \"Startup\", \"Startup\", \"Product\", \"Product\", \"Product\", \"Startup\", \"Consulting / Agency\", \"Consulting / Agency\", \"Product\", \"Product\", \"Startup\", \"Product\", \"Product\", \"Product\", \"Product\", \"Product\", \"Consulting / Agency\", \"Startup\", \"Consulting / Agency\", \"Consulting / Agency\", \"Startup\", \"Bodyshop / Outsource\", \"Product\", \"Startup\", \"Product\", \"Startup\", \"Product\", \"Consulting / Agency\", \"Product\", \"Product\", \"Product\", \"Product\", \"Product\", \"Startup\", \"Consulting / Agency\", \"Startup\", \"Product\", \"Product\", \"Product\", \"Consulting / Agency\", \"Product\", \"Product\", \"Product\", \"Product\", \"Startup\", \"Product\", \"Product\", \"Product\", \"Product\", \"Product\", \"Startup\", \"Product\", \"Startup\", \"Startup\", \"Product\", \"Bodyshop / Outsource\", \"Product\", \"Product\", \"Product\", \"Startup\", \"Product\", \"Startup\", \"Product\", \"Product\", \"Product\", \"Product\", \"Product\", \"Product\", \"Product\", \"Bodyshop / Outsource\", \"Product\", \"Product\", \"Product\", \"Consulting / Agency\", \"Startup\", \"Product\", \"University\", \"Product\", \"Bodyshop / Outsource\", \"Product\", \"Product\", \"Product\", \"Product\", \"Product\", \"Product\", \"Product\", \"Product\", \"Product\", \"Startup\", \"Product\", \"Consulting / Agency\", \"University\", \"Product\", \"Startup\", \"Product\", \"Startup\", \"Product\", \"Startup\", \"Product\", \"Product\", \"Consulting / Agency\", \"Product\", \"Startup\", \"Product\", \"Product\", \"Product\", \"Product\", \"Outsource\", \"Product\", \"Product\", \"Startup\", \"Product\", \"Product\", \"Product\", \"Product\", \"Product\", \"Product\", \"Product\", \"Product\", \"Bodyshop / Outsource\", \"Product\", \"Product\", \"Product\", \"Product\", \"Product\", \"Product\", \"Product\", \"Product\", \"Consulting / Agency\", \"Consulting / Agency\", \"Product\", \"Product\", \"Product\", \"University\", \"Consulting / Agency\", \"Consulting / Agency\", \"Consulting / Agency\", \"Product\", \"Consulting / Agency\", \"Product\", \"Consulting / Agency\", \"Startup\", \"Product\", \"Product\", \"Bank\", \"Product\", \"Product\", \"Consulting / Agency\", \"Startup\", \"Product\", \"Product\", \"Product\", \"Product\", \"Product\", \"Bank\", \"Product\", \"Product\", \"Consulting / Agency\"], \"legendgroup\": \"\", \"name\": \"\", \"showlegend\": true, \"textinfo\": \"label+percent\", \"type\": \"pie\"}],                        {\"legend\": {\"tracegroupgap\": 0}, \"margin\": {\"t\": 60}, \"template\": {\"data\": {\"bar\": [{\"error_x\": {\"color\": \"#2a3f5f\"}, \"error_y\": {\"color\": \"#2a3f5f\"}, \"marker\": {\"line\": {\"color\": \"#E5ECF6\", \"width\": 0.5}}, \"type\": \"bar\"}], \"barpolar\": [{\"marker\": {\"line\": {\"color\": \"#E5ECF6\", \"width\": 0.5}}, \"type\": \"barpolar\"}], \"carpet\": [{\"aaxis\": {\"endlinecolor\": \"#2a3f5f\", \"gridcolor\": \"white\", \"linecolor\": \"white\", \"minorgridcolor\": \"white\", \"startlinecolor\": \"#2a3f5f\"}, \"baxis\": {\"endlinecolor\": \"#2a3f5f\", \"gridcolor\": \"white\", \"linecolor\": \"white\", \"minorgridcolor\": \"white\", \"startlinecolor\": \"#2a3f5f\"}, \"type\": \"carpet\"}], \"choropleth\": [{\"colorbar\": {\"outlinewidth\": 0, \"ticks\": \"\"}, \"type\": \"choropleth\"}], \"contour\": [{\"colorbar\": {\"outlinewidth\": 0, \"ticks\": \"\"}, \"colorscale\": [[0.0, \"#0d0887\"], [0.1111111111111111, \"#46039f\"], [0.2222222222222222, \"#7201a8\"], [0.3333333333333333, \"#9c179e\"], [0.4444444444444444, \"#bd3786\"], [0.5555555555555556, \"#d8576b\"], [0.6666666666666666, \"#ed7953\"], [0.7777777777777778, \"#fb9f3a\"], [0.8888888888888888, \"#fdca26\"], [1.0, \"#f0f921\"]], \"type\": \"contour\"}], \"contourcarpet\": [{\"colorbar\": {\"outlinewidth\": 0, \"ticks\": \"\"}, \"type\": \"contourcarpet\"}], \"heatmap\": [{\"colorbar\": {\"outlinewidth\": 0, \"ticks\": \"\"}, \"colorscale\": [[0.0, \"#0d0887\"], [0.1111111111111111, \"#46039f\"], [0.2222222222222222, \"#7201a8\"], [0.3333333333333333, \"#9c179e\"], [0.4444444444444444, \"#bd3786\"], [0.5555555555555556, \"#d8576b\"], [0.6666666666666666, \"#ed7953\"], [0.7777777777777778, \"#fb9f3a\"], [0.8888888888888888, \"#fdca26\"], [1.0, \"#f0f921\"]], \"type\": \"heatmap\"}], \"heatmapgl\": [{\"colorbar\": {\"outlinewidth\": 0, \"ticks\": \"\"}, \"colorscale\": [[0.0, \"#0d0887\"], [0.1111111111111111, \"#46039f\"], [0.2222222222222222, \"#7201a8\"], [0.3333333333333333, \"#9c179e\"], [0.4444444444444444, \"#bd3786\"], [0.5555555555555556, \"#d8576b\"], [0.6666666666666666, \"#ed7953\"], [0.7777777777777778, \"#fb9f3a\"], [0.8888888888888888, \"#fdca26\"], [1.0, \"#f0f921\"]], \"type\": \"heatmapgl\"}], \"histogram\": [{\"marker\": {\"colorbar\": {\"outlinewidth\": 0, \"ticks\": \"\"}}, \"type\": \"histogram\"}], \"histogram2d\": [{\"colorbar\": {\"outlinewidth\": 0, \"ticks\": \"\"}, \"colorscale\": [[0.0, \"#0d0887\"], [0.1111111111111111, \"#46039f\"], [0.2222222222222222, \"#7201a8\"], [0.3333333333333333, \"#9c179e\"], [0.4444444444444444, \"#bd3786\"], [0.5555555555555556, \"#d8576b\"], [0.6666666666666666, \"#ed7953\"], [0.7777777777777778, \"#fb9f3a\"], [0.8888888888888888, \"#fdca26\"], [1.0, \"#f0f921\"]], \"type\": \"histogram2d\"}], \"histogram2dcontour\": [{\"colorbar\": {\"outlinewidth\": 0, \"ticks\": \"\"}, \"colorscale\": [[0.0, \"#0d0887\"], [0.1111111111111111, \"#46039f\"], [0.2222222222222222, \"#7201a8\"], [0.3333333333333333, \"#9c179e\"], [0.4444444444444444, \"#bd3786\"], [0.5555555555555556, \"#d8576b\"], [0.6666666666666666, \"#ed7953\"], [0.7777777777777778, \"#fb9f3a\"], [0.8888888888888888, \"#fdca26\"], [1.0, \"#f0f921\"]], \"type\": \"histogram2dcontour\"}], \"mesh3d\": [{\"colorbar\": {\"outlinewidth\": 0, \"ticks\": \"\"}, \"type\": \"mesh3d\"}], \"parcoords\": [{\"line\": {\"colorbar\": {\"outlinewidth\": 0, \"ticks\": \"\"}}, \"type\": \"parcoords\"}], \"pie\": [{\"automargin\": true, \"type\": \"pie\"}], \"scatter\": [{\"marker\": {\"colorbar\": {\"outlinewidth\": 0, \"ticks\": \"\"}}, \"type\": \"scatter\"}], \"scatter3d\": [{\"line\": {\"colorbar\": {\"outlinewidth\": 0, \"ticks\": \"\"}}, \"marker\": {\"colorbar\": {\"outlinewidth\": 0, \"ticks\": \"\"}}, \"type\": \"scatter3d\"}], \"scattercarpet\": [{\"marker\": {\"colorbar\": {\"outlinewidth\": 0, \"ticks\": \"\"}}, \"type\": \"scattercarpet\"}], \"scattergeo\": [{\"marker\": {\"colorbar\": {\"outlinewidth\": 0, \"ticks\": \"\"}}, \"type\": \"scattergeo\"}], \"scattergl\": [{\"marker\": {\"colorbar\": {\"outlinewidth\": 0, \"ticks\": \"\"}}, \"type\": \"scattergl\"}], \"scattermapbox\": [{\"marker\": {\"colorbar\": {\"outlinewidth\": 0, \"ticks\": \"\"}}, \"type\": \"scattermapbox\"}], \"scatterpolar\": [{\"marker\": {\"colorbar\": {\"outlinewidth\": 0, \"ticks\": \"\"}}, \"type\": \"scatterpolar\"}], \"scatterpolargl\": [{\"marker\": {\"colorbar\": {\"outlinewidth\": 0, \"ticks\": \"\"}}, \"type\": \"scatterpolargl\"}], \"scatterternary\": [{\"marker\": {\"colorbar\": {\"outlinewidth\": 0, \"ticks\": \"\"}}, \"type\": \"scatterternary\"}], \"surface\": [{\"colorbar\": {\"outlinewidth\": 0, \"ticks\": \"\"}, \"colorscale\": [[0.0, \"#0d0887\"], [0.1111111111111111, \"#46039f\"], [0.2222222222222222, \"#7201a8\"], [0.3333333333333333, \"#9c179e\"], [0.4444444444444444, \"#bd3786\"], [0.5555555555555556, \"#d8576b\"], [0.6666666666666666, \"#ed7953\"], [0.7777777777777778, \"#fb9f3a\"], [0.8888888888888888, \"#fdca26\"], [1.0, \"#f0f921\"]], \"type\": \"surface\"}], \"table\": [{\"cells\": {\"fill\": {\"color\": \"#EBF0F8\"}, \"line\": {\"color\": \"white\"}}, \"header\": {\"fill\": {\"color\": \"#C8D4E3\"}, \"line\": {\"color\": \"white\"}}, \"type\": \"table\"}]}, \"layout\": {\"annotationdefaults\": {\"arrowcolor\": \"#2a3f5f\", \"arrowhead\": 0, \"arrowwidth\": 1}, \"autotypenumbers\": \"strict\", \"coloraxis\": {\"colorbar\": {\"outlinewidth\": 0, \"ticks\": \"\"}}, \"colorscale\": {\"diverging\": [[0, \"#8e0152\"], [0.1, \"#c51b7d\"], [0.2, \"#de77ae\"], [0.3, \"#f1b6da\"], [0.4, \"#fde0ef\"], [0.5, \"#f7f7f7\"], [0.6, \"#e6f5d0\"], [0.7, \"#b8e186\"], [0.8, \"#7fbc41\"], [0.9, \"#4d9221\"], [1, \"#276419\"]], \"sequential\": [[0.0, \"#0d0887\"], [0.1111111111111111, \"#46039f\"], [0.2222222222222222, \"#7201a8\"], [0.3333333333333333, \"#9c179e\"], [0.4444444444444444, \"#bd3786\"], [0.5555555555555556, \"#d8576b\"], [0.6666666666666666, \"#ed7953\"], [0.7777777777777778, \"#fb9f3a\"], [0.8888888888888888, \"#fdca26\"], [1.0, \"#f0f921\"]], \"sequentialminus\": [[0.0, \"#0d0887\"], [0.1111111111111111, \"#46039f\"], [0.2222222222222222, \"#7201a8\"], [0.3333333333333333, \"#9c179e\"], [0.4444444444444444, \"#bd3786\"], [0.5555555555555556, \"#d8576b\"], [0.6666666666666666, \"#ed7953\"], [0.7777777777777778, \"#fb9f3a\"], [0.8888888888888888, \"#fdca26\"], [1.0, \"#f0f921\"]]}, \"colorway\": [\"#636efa\", \"#EF553B\", \"#00cc96\", \"#ab63fa\", \"#FFA15A\", \"#19d3f3\", \"#FF6692\", \"#B6E880\", \"#FF97FF\", \"#FECB52\"], \"font\": {\"color\": \"#2a3f5f\"}, \"geo\": {\"bgcolor\": \"white\", \"lakecolor\": \"white\", \"landcolor\": \"#E5ECF6\", \"showlakes\": true, \"showland\": true, \"subunitcolor\": \"white\"}, \"hoverlabel\": {\"align\": \"left\"}, \"hovermode\": \"closest\", \"mapbox\": {\"style\": \"light\"}, \"paper_bgcolor\": \"white\", \"plot_bgcolor\": \"#E5ECF6\", \"polar\": {\"angularaxis\": {\"gridcolor\": \"white\", \"linecolor\": \"white\", \"ticks\": \"\"}, \"bgcolor\": \"#E5ECF6\", \"radialaxis\": {\"gridcolor\": \"white\", \"linecolor\": \"white\", \"ticks\": \"\"}}, \"scene\": {\"xaxis\": {\"backgroundcolor\": \"#E5ECF6\", \"gridcolor\": \"white\", \"gridwidth\": 2, \"linecolor\": \"white\", \"showbackground\": true, \"ticks\": \"\", \"zerolinecolor\": \"white\"}, \"yaxis\": {\"backgroundcolor\": \"#E5ECF6\", \"gridcolor\": \"white\", \"gridwidth\": 2, \"linecolor\": \"white\", \"showbackground\": true, \"ticks\": \"\", \"zerolinecolor\": \"white\"}, \"zaxis\": {\"backgroundcolor\": \"#E5ECF6\", \"gridcolor\": \"white\", \"gridwidth\": 2, \"linecolor\": \"white\", \"showbackground\": true, \"ticks\": \"\", \"zerolinecolor\": \"white\"}}, \"shapedefaults\": {\"line\": {\"color\": \"#2a3f5f\"}}, \"ternary\": {\"aaxis\": {\"gridcolor\": \"white\", \"linecolor\": \"white\", \"ticks\": \"\"}, \"baxis\": {\"gridcolor\": \"white\", \"linecolor\": \"white\", \"ticks\": \"\"}, \"bgcolor\": \"#E5ECF6\", \"caxis\": {\"gridcolor\": \"white\", \"linecolor\": \"white\", \"ticks\": \"\"}}, \"title\": {\"x\": 0.05}, \"xaxis\": {\"automargin\": true, \"gridcolor\": \"white\", \"linecolor\": \"white\", \"ticks\": \"\", \"title\": {\"standoff\": 15}, \"zerolinecolor\": \"white\", \"zerolinewidth\": 2}, \"yaxis\": {\"automargin\": true, \"gridcolor\": \"white\", \"linecolor\": \"white\", \"ticks\": \"\", \"title\": {\"standoff\": 15}, \"zerolinecolor\": \"white\", \"zerolinewidth\": 2}}}},                        {\"responsive\": true}                    ).then(function(){\n",
              "                            \n",
              "var gd = document.getElementById('08dd34f7-3738-44ed-b197-31bd42f0caa8');\n",
              "var x = new MutationObserver(function (mutations, observer) {{\n",
              "        var display = window.getComputedStyle(gd).display;\n",
              "        if (!display || display === 'none') {{\n",
              "            console.log([gd, 'removed!']);\n",
              "            Plotly.purge(gd);\n",
              "            observer.disconnect();\n",
              "        }}\n",
              "}});\n",
              "\n",
              "// Listen for the removal of the full notebook cells\n",
              "var notebookContainer = gd.closest('#notebook-container');\n",
              "if (notebookContainer) {{\n",
              "    x.observe(notebookContainer, {childList: true});\n",
              "}}\n",
              "\n",
              "// Listen for the clearing of the current output cell\n",
              "var outputEl = gd.closest('.output');\n",
              "if (outputEl) {{\n",
              "    x.observe(outputEl, {childList: true});\n",
              "}}\n",
              "\n",
              "                        })                };                            </script>        </div>\n",
              "</body>\n",
              "</html>"
            ]
          },
          "metadata": {
            "tags": []
          }
        }
      ]
    },
    {
      "cell_type": "markdown",
      "metadata": {
        "id": "c0_0x4HSQ9Oe"
      },
      "source": [
        "Create a line plot of the Total years of experience vs the current salary(taking the median salary for each of the different experience years) of the year 2018."
      ]
    },
    {
      "cell_type": "code",
      "metadata": {
        "id": "hEneNL0mT8pu"
      },
      "source": [
        "#Preparing data from 2018:\r\n",
        "data18['Years of experience'].fillna(data18['Years of experience'].mean(), inplace= True)\r\n",
        "data18['Current Salary'].fillna(data18['Current Salary'].mean(), inplace= True)"
      ],
      "execution_count": 21,
      "outputs": []
    },
    {
      "cell_type": "code",
      "metadata": {
        "colab": {
          "base_uri": "https://localhost:8080/",
          "height": 195
        },
        "id": "PBWjS0CUjCdN",
        "outputId": "9c9c03e1-b98f-4310-e7c7-a8f255d67acd"
      },
      "source": [
        "#Grouping the 2018 data\r\n",
        "\r\n",
        "df = data18[['Years of experience', 'Current Salary']]\r\n",
        "df2 = df.groupby(['Years of experience'],as_index=False)['Current Salary'].median()\r\n",
        "df2.head()"
      ],
      "execution_count": 32,
      "outputs": [
        {
          "output_type": "execute_result",
          "data": {
            "text/html": [
              "<div>\n",
              "<style scoped>\n",
              "    .dataframe tbody tr th:only-of-type {\n",
              "        vertical-align: middle;\n",
              "    }\n",
              "\n",
              "    .dataframe tbody tr th {\n",
              "        vertical-align: top;\n",
              "    }\n",
              "\n",
              "    .dataframe thead th {\n",
              "        text-align: right;\n",
              "    }\n",
              "</style>\n",
              "<table border=\"1\" class=\"dataframe\">\n",
              "  <thead>\n",
              "    <tr style=\"text-align: right;\">\n",
              "      <th></th>\n",
              "      <th>Years of experience</th>\n",
              "      <th>Current Salary</th>\n",
              "    </tr>\n",
              "  </thead>\n",
              "  <tbody>\n",
              "    <tr>\n",
              "      <th>0</th>\n",
              "      <td>0.0</td>\n",
              "      <td>50000.0</td>\n",
              "    </tr>\n",
              "    <tr>\n",
              "      <th>1</th>\n",
              "      <td>0.5</td>\n",
              "      <td>46000.0</td>\n",
              "    </tr>\n",
              "    <tr>\n",
              "      <th>2</th>\n",
              "      <td>1.0</td>\n",
              "      <td>46000.0</td>\n",
              "    </tr>\n",
              "    <tr>\n",
              "      <th>3</th>\n",
              "      <td>1.5</td>\n",
              "      <td>58000.0</td>\n",
              "    </tr>\n",
              "    <tr>\n",
              "      <th>4</th>\n",
              "      <td>2.0</td>\n",
              "      <td>50000.0</td>\n",
              "    </tr>\n",
              "  </tbody>\n",
              "</table>\n",
              "</div>"
            ],
            "text/plain": [
              "   Years of experience  Current Salary\n",
              "0                  0.0         50000.0\n",
              "1                  0.5         46000.0\n",
              "2                  1.0         46000.0\n",
              "3                  1.5         58000.0\n",
              "4                  2.0         50000.0"
            ]
          },
          "metadata": {
            "tags": []
          },
          "execution_count": 32
        }
      ]
    },
    {
      "cell_type": "code",
      "metadata": {
        "id": "GjkqEcEmVH1n"
      },
      "source": [
        "#Line Plot\r\n",
        "# Creating trace1\r\n",
        "trace1 = go.Scatter(\r\n",
        "                    x = df2['Years of experience'],\r\n",
        "                    y = df2['Current Salary'],\r\n",
        "                    mode = \"lines\",\r\n",
        "                    name = \"2018\",\r\n",
        "                    marker = dict(color = 'rgba(16, 112, 2, 0.8)'),\r\n",
        "                    text= data18['Company type'])"
      ],
      "execution_count": 107,
      "outputs": []
    },
    {
      "cell_type": "code",
      "metadata": {
        "colab": {
          "base_uri": "https://localhost:8080/",
          "height": 542
        },
        "id": "kFjx8gwqV6PH",
        "outputId": "6a72f9e9-62f4-41dd-92a7-464c7b88c357"
      },
      "source": [
        "data = [trace1]\r\n",
        "layout = dict(title = 'Total years of experience vs the current salary',\r\n",
        "              xaxis= dict(title= 'years of experience',ticklen= 5,zeroline= False)\r\n",
        "             )\r\n",
        "fig = dict(data = data, layout = layout)\r\n",
        "iplot(fig)"
      ],
      "execution_count": 108,
      "outputs": [
        {
          "output_type": "display_data",
          "data": {
            "text/html": [
              "<html>\n",
              "<head><meta charset=\"utf-8\" /></head>\n",
              "<body>\n",
              "    <div>            <script src=\"https://cdnjs.cloudflare.com/ajax/libs/mathjax/2.7.5/MathJax.js?config=TeX-AMS-MML_SVG\"></script><script type=\"text/javascript\">if (window.MathJax) {MathJax.Hub.Config({SVG: {font: \"STIX-Web\"}});}</script>                <script type=\"text/javascript\">window.PlotlyConfig = {MathJaxConfig: 'local'};</script>\n",
              "        <script src=\"https://cdn.plot.ly/plotly-latest.min.js\"></script>                <div id=\"2e311961-fe84-436f-ad82-385816c275d9\" class=\"plotly-graph-div\" style=\"height:525px; width:100%;\"></div>            <script type=\"text/javascript\">                                    window.PLOTLYENV=window.PLOTLYENV || {};                                    if (document.getElementById(\"2e311961-fe84-436f-ad82-385816c275d9\")) {                    Plotly.newPlot(                        \"2e311961-fe84-436f-ad82-385816c275d9\",                        [{\"marker\": {\"color\": \"rgba(16, 112, 2, 0.8)\"}, \"mode\": \"lines\", \"name\": \"2018\", \"text\": [\"Product\", \"Product\", \"Product\", \"Product\", \"Ecom retailer\", \"Insurance\", \"Product\", null, \"Startup\", \"Agency\", \"Product\", \"Product\", \"Startup\", \"Product\", \"Product\", \"Startup\", \"Product\", \"Product\", \"Agency\", \"Startup\", \"Big Tech\", \"Startup\", \"Product\", \"Consultancy\", \"Agency\", \"Product\", \"Product\", \"Product\", \"Product\", \"Product\", \"Corporation\", \"Startup\", \"Product\", \"Product\", \"Product\", \"Startup\", \"Product\", \"Product\", \"Product\", \"Product\", \"Product\", \"Startup\", \"Product\", \"Product\", \"Product\", \"Product\", \"Product\", \"Product\", \"Product\", \"Product\", \"Startup\", \"Product\", \"Agency\", \"Startup\", \"Product\", \"Startup\", \"Product\", \"Consultancy\", \"Product\", \"Product\", \"Product\", \"Product\", \"Product\", \"Product\", \"Agency\", \"Product\", \"Product\", \"Agency\", \"Product\", \"Product\", \"Startup\", \"Product\", \"Product\", \"Agency\", \"Agency\", \"Product\", \"Product\", \"Startup\", \"Startup\", \"Product\", \"Product\", \"Startup\", \"Product\", \"Product\", \"Product\", \"Startup\", \"Startup\", \"Product\", null, \"Startup\", \"Agency\", \"Agency\", \"Startup\", \"Product\", \"Product\", \"Product\", \"Outsource\", \"Startup\", \"Product\", \"Product\", \"Startup\", \"Agency\", \"Product\", \"Agency\", \"Product\", \"Startup\", \"Product\", \"Product\", null, \"Product\", \"Product\", \"Startup\", \"Startup\", \"Product\", \"Product\", \"Product\", \"Product\", \"Startup\", \"Startup\", \"Product\", \"Product\", \"Product\", \"Product\", \"Product\", \"Product\", \"Startup\", \"Agency\", \"Product\", \"Startup\", \"Product\", \"Product\", \"Product\", \"Startup\", \"Product\", \"Product\", \"Startup\", \"Industry\", \"Product\", \"E-Commerce firm\", \"Product\", \"Product\", \"Startup\", \"Product\", \"Product\", \"Product\", \"Product\", \"Product\", \"Product\", \"Startup\", \"Product\", null, \"Product\", \"Product\", \"Startup\", \"Startup\", \"Product\", \"Product\", \"Startup\", \"Product\", \"Product\", \"Product\", \"Startup\", \"Startup\", \"Product\", \"Product\", \"Product\", \"Product\", \"Product\", null, \"Consulting\", \"Startup\", \"Product\", \"Startup\", \"Product\", \"Product\", \"Agency\", \"Product\", \"Internal development for a non-IT company\", \"Startup\", \"Startup\", \"Product\", \"Product\", \"Product\", \"Product\", \"Product\", \"Product\", \"Agency\", \"Product\", \"Startup\", \"Product\", \"Startup\", \"Agency\", \"Startup\", \"Personaldienstleister\", \"Startup\", \"Product\", \"Startup\", \"Product\", \"Startup\", \"Product\", \"Product\", \"Startup\", \"Product\", \"Agency\", \"Agency\", null, \"Product\", \"Product\", \"Startup\", \"Product\", \"Startup\", \"Product\", \"Product\", \"Product\", \"Startup\", \"Product\", \"Agency\", \"Startup\", \"Product\", \"Startup\", \"ipo\", \"Product\", \"e-commerce\", \"Product\", \"Startup\", \"Product\", \"Product\", \"Outsource\", \"Product\", \"Product\", \"Startup\", \"Product\", \"Product\", \"Startup\", \"Product\", \"Product\", \"Product\", null, \"Product\", \"Startup\", \"Startup\", \"Product\", \"Product\", \"Product\", \"Product\", \"Product\", \"Product\", \"Startup\", \"Product\", \"Product\", \"Product\", \"Product\", \"Product\", \"Product\", \"Product\", \"Product\", \"Product\", \"Agency\", \"Startup\", \"Product\", null, \"Agency\", \"Product\", \"Product\", \"Product\", \"Product\", \"Agency\", \"Startup\", \"Startup\", \"Product\", \"Product\", \"Product\", \"Product\", \"Product\", \"Product\", \"Startup\", \"Product\", \"Startup\", \"Product\", \"Product\", \"Agency\", null, \"Product\", \"Startup\", null, \"Startup\", \"Product\", \"Product\", \"Product\", \"Product\", \"Startup\", \"Product\", \"Startup\", \"Agency\", \"Product and Projects\", \"Product\", \"Product\", null, \"Startup\", \"E-Commerce\", \"Product\", \"Development\", \"Product\", \"Product\", \"Outsource\", \"Product\", \"Product\", \"Startup\", \"Startup\", \"Product\", \"Startup\", null, \"Product\", \"Product\", \"Product\", \"Startup\", \"Product\", \"Product\", null, \"Product\", \"Agency\", \"Product\", \"Product\", \"Product\", \"Product\", \"Product\", \"Product\", \"Startup\", \"Startup\", \"Product\", \"Product\", \"Product\", null, \"Product\", \"Product\", \"Product\", \"Product\", \"Startup\", \"Product\", \"Product\", \"Product\", \"Startup\", \"Product\", \"Product\", \"Product\", \"Product\", \"Startup\", \"Product\", \"Product\", \"Startup\", \"Product\", \"Product\", \"Product\", \"Agency\", \"Agency\", \"Product\", \"Startup\", \"Agency\", \"Product\", \"Startup\", \"Startup\", null, \"Product\", \"Consulting Company\", \"Startup\", \"Product\", \"Product\", \"Product\", \"Product\", \"Startup\", \"Product\", \"Product\", \"Startup\", \"Product\", \"Product\", \"Agency\", \"Startup\", \"Startup\", \"Agency\", \"Product\", \"Product\", \"Startup\", \"IT Dienstleistungen \", \"Product\", \"Product\", \"Agency\", \"Product\", \"Startup\", \"Product\", \"Product\", \"Agency\", \"Agency\", \"Product\", \"Manufacturing\", \"Product\", \"Startup\", \"Product\", \"Startup\", \"Product\", \"Stock market \", \"Product\", \"telecom operator\", \"Product\", \"Product\", \"Ecommerce\", \"Startup\", \"Startup\", \"Product\", \"Consulting\", \"Product\", \"Startup\", \"Product\", \"Agency\", \"Product\", null, \"Agency\", \"Product\", \"Product\", \"Startup\", \"Product\", \"Product\", \"Product\", \"Product\", \"Startup\", \"Product\", \"Product\", \"Startup\", \"Product\", \"Product\", \"Product\", \"Startup\", \"Consulting\", \"Outsourcing\", \"Startup\", \"Product\", \"Product\", \"Agency\", \"Product\", \"Agency\", \"Startup\", \"Product\", \"Product\", \"Product\", \"Product\", \"Product\", \"Outsorce\", \"Product\", \"Product\", \"Product\", \"Product\", \"Product\", \"Product\", \"Product\", \"Startup\", \"Product\", \"Agency\", \"Outsource\", \"Product\", \"Product\", \"Product\", \"Product\", \"consulting\", \"Startup\", \"Product\", \"Product\", \"Product\", \"Product\", \"Outsource\", \"Agency\", \"Product\", \"Product\", \"Product\", \"Agency\", \"Product\", \"GmbH\", \"Product\", \"Product\", \"Product\", \"Startup\", \"Startup\", \"Product\", \"Startup\", \"Product\", \"Startup\", \"Corporation\", \"Product\", \"Product\", \"Product\", \"Agency\", \"Product\", \"Product\", \"Product\", \"Product\", \"Product\", \"Product\", \"Product\", \"IT Consulting \", \"Startup\", \"Product\", \"Product\", \"Product\", \"Product\", \"Product\", \"Product\", \"Startup\", \"Product\", \"Product\", \"Agency\", \"Product\", \"Product\", \"Product\", \"Product\", \"Product\", \"Product\", \"Startup\", \"Agency\", \"Startup\", \"Product\", \"Product\", \"Product\", \"Startup\", \"Startup\", \"Product\", \"Product\", \"Agency\", \"Startup\", \"Startup\", \"Startup\", \"Startup\", \"Product\", \"Product\", \"Product\", \"IT Consultancy \", \"Product\", \"Agency\", \"Startup\", \"Product\", \"Product\", \"Product\", null, \"Startup\", \"Product\", \"Product\", \"Product\", \"Product\", \"Product\", \"Product\", \"Agency\", \"Product\", \"IT Service Provider\", \"Product\", \"Startup\", \"Product\", \"Product\", \"Agency\", \"Product\", \"Product\", \"non-IT, manufacturing\", \"Bank \", \"Insurance\", \"Product\", \"Product\", \"Product\", \"IT-Beratung\", \"Product\", \"Startup\", \"Startup\", \"Product\", \"Startup\", \"Product\", \"Consulting\", \"Startup\", \"Product\", \"Product\", \"Startup\", \"Product\", \"Agency\", \"Product\", \"Product\", \"Startup\", \"Startup\", \"Technology Consulting\", \"Startup\", \"Agency\", \"Agency\", \"Product\", \"Startup\", \"Product\", \"outsource\", \"Product\", \"IT Consultants\", \"Product\", \"Agency\", \"Agency\", \"Agency\", \"Agency\", \"Product\", \"Product\", \"Product\", \"Startup\", \"Product\", \"Consulting\", \"Hochschule/university\", \"Product\", \"Product\", \"Product\", \"ISP\", \"Product\", \"Product\", \"Product\", \"Product\", \"Startup\", \"Product\", null, \"Product\", \"Product\", \"Product\", \"Product\", \"Product\", \"Product\", \"Agency\", \"Product\", \"Product\", \"Product\", \"Product\", \"Product\", \"Agency\", \"Agency\", \"Product\", \"Product\", \"Product\", \"Product\", \"Product\", \"Product\", \"Startup\", \"Product\", \"Product\", \"Product\", \"Product\", \"Product\", \"Agency\", \"Fin Tech\", \"Agency\", \"Startup\", \"Product\", \"Outsourcing\", \"Product\", \"Startup\", \"Product\", \"Product\", \"Outsourcing\", \"Product\", \"Startup\", \"Product\", \"Blockchain technology\", \"Retail\", \"Startup\", \"Agency\", \"Product\", \"Product\", \"Product\", \"Product\", \"Agency\", \"Startup\", \"Consult\", \"Startup\", \"Product\", \"Product\", \"Agency\", \"Agency\", \"Product\", \"Product\", \"Product\", \"Product\", \"Product\", \"Product\", \"Product\", \"Product\", \"Product\", \"Agency\", \"Startup\", \"Product\", \"Product\", \"Product\", \"Agency\", \"Product\", \"Product\", \"Product\", \"Agency\", \"Product\", \"Project-based software development\", null, \"Product\", \"Product\", \"Automotive\", null, \"Product\", \"Product\", \"Startup\", \"Product\", \"Startup\", \"Product\", \"Product\", \"Automotive\", \"Product\", \"Product\", \"Product\", \"Product\", \"Startup\", \"Product\", \"Product\", \"Startup\", \"Product\", \"OEM\", \"Consulting (banking)\", \"Product\", \"Agency\", \"Startup\", \"Product\", \"IT Consulting\", \"Agency\", \"Product\", \"Agency\", \"Product\", \"Product\", \"Product\", \"Product\", \"Product\", \"Startup\", \"Product\", \"Product\", \"Product\", \"Startup\", null, null, \"Product\", \"Product\", null, null, null, null, null, \"Agency\", \"Product\", \"Product\", \"Agency\", \"Product\", null, \"Agency\", null, \"Product\", \"Product\", null, \"Product\", null, \"Agency\", \"Agency\", null, null, null, \"Product\", \"Product\", \"Product\", null, \"Product\"], \"type\": \"scatter\", \"x\": [0.0, 0.5, 1.0, 1.5, 2.0, 2.5, 3.0, 4.0, 4.5, 5.0, 6.0, 7.0, 7.5, 8.0, 8.548497267759563, 9.0, 10.0, 11.0, 12.0, 13.0, 14.0, 15.0, 16.0, 17.0, 18.0, 19.0, 20.0, 21.0, 25.0, 30.0, 38.0], \"y\": [50000.0, 46000.0, 46000.0, 58000.0, 50000.0, 50000.0, 55555.0, 60000.0, 39150.0, 60000.0, 64000.0, 68000.0, 65000.0, 70000.0, 68381.76533333333, 70000.0, 70000.0, 71000.0, 71000.0, 73500.0, 71500.0, 68000.0, 90500.0, 80000.0, 72500.0, 84000.0, 80000.0, 90000.0, 109000.0, 64000.0, 58000.0]}],                        {\"template\": {\"data\": {\"bar\": [{\"error_x\": {\"color\": \"#2a3f5f\"}, \"error_y\": {\"color\": \"#2a3f5f\"}, \"marker\": {\"line\": {\"color\": \"#E5ECF6\", \"width\": 0.5}}, \"type\": \"bar\"}], \"barpolar\": [{\"marker\": {\"line\": {\"color\": \"#E5ECF6\", \"width\": 0.5}}, \"type\": \"barpolar\"}], \"carpet\": [{\"aaxis\": {\"endlinecolor\": \"#2a3f5f\", \"gridcolor\": \"white\", \"linecolor\": \"white\", \"minorgridcolor\": \"white\", \"startlinecolor\": \"#2a3f5f\"}, \"baxis\": {\"endlinecolor\": \"#2a3f5f\", \"gridcolor\": \"white\", \"linecolor\": \"white\", \"minorgridcolor\": \"white\", \"startlinecolor\": \"#2a3f5f\"}, \"type\": \"carpet\"}], \"choropleth\": [{\"colorbar\": {\"outlinewidth\": 0, \"ticks\": \"\"}, \"type\": \"choropleth\"}], \"contour\": [{\"colorbar\": {\"outlinewidth\": 0, \"ticks\": \"\"}, \"colorscale\": [[0.0, \"#0d0887\"], [0.1111111111111111, \"#46039f\"], [0.2222222222222222, \"#7201a8\"], [0.3333333333333333, \"#9c179e\"], [0.4444444444444444, \"#bd3786\"], [0.5555555555555556, \"#d8576b\"], [0.6666666666666666, \"#ed7953\"], [0.7777777777777778, \"#fb9f3a\"], [0.8888888888888888, \"#fdca26\"], [1.0, \"#f0f921\"]], \"type\": \"contour\"}], \"contourcarpet\": [{\"colorbar\": {\"outlinewidth\": 0, \"ticks\": \"\"}, \"type\": \"contourcarpet\"}], \"heatmap\": [{\"colorbar\": {\"outlinewidth\": 0, \"ticks\": \"\"}, \"colorscale\": [[0.0, \"#0d0887\"], [0.1111111111111111, \"#46039f\"], [0.2222222222222222, \"#7201a8\"], [0.3333333333333333, \"#9c179e\"], [0.4444444444444444, \"#bd3786\"], [0.5555555555555556, \"#d8576b\"], [0.6666666666666666, \"#ed7953\"], [0.7777777777777778, \"#fb9f3a\"], [0.8888888888888888, \"#fdca26\"], [1.0, \"#f0f921\"]], \"type\": \"heatmap\"}], \"heatmapgl\": [{\"colorbar\": {\"outlinewidth\": 0, \"ticks\": \"\"}, \"colorscale\": [[0.0, \"#0d0887\"], [0.1111111111111111, \"#46039f\"], [0.2222222222222222, \"#7201a8\"], [0.3333333333333333, \"#9c179e\"], [0.4444444444444444, \"#bd3786\"], [0.5555555555555556, \"#d8576b\"], [0.6666666666666666, \"#ed7953\"], [0.7777777777777778, \"#fb9f3a\"], [0.8888888888888888, \"#fdca26\"], [1.0, \"#f0f921\"]], \"type\": \"heatmapgl\"}], \"histogram\": [{\"marker\": {\"colorbar\": {\"outlinewidth\": 0, \"ticks\": \"\"}}, \"type\": \"histogram\"}], \"histogram2d\": [{\"colorbar\": {\"outlinewidth\": 0, \"ticks\": \"\"}, \"colorscale\": [[0.0, \"#0d0887\"], [0.1111111111111111, \"#46039f\"], [0.2222222222222222, \"#7201a8\"], [0.3333333333333333, \"#9c179e\"], [0.4444444444444444, \"#bd3786\"], [0.5555555555555556, \"#d8576b\"], [0.6666666666666666, \"#ed7953\"], [0.7777777777777778, \"#fb9f3a\"], [0.8888888888888888, \"#fdca26\"], [1.0, \"#f0f921\"]], \"type\": \"histogram2d\"}], \"histogram2dcontour\": [{\"colorbar\": {\"outlinewidth\": 0, \"ticks\": \"\"}, \"colorscale\": [[0.0, \"#0d0887\"], [0.1111111111111111, \"#46039f\"], [0.2222222222222222, \"#7201a8\"], [0.3333333333333333, \"#9c179e\"], [0.4444444444444444, \"#bd3786\"], [0.5555555555555556, \"#d8576b\"], [0.6666666666666666, \"#ed7953\"], [0.7777777777777778, \"#fb9f3a\"], [0.8888888888888888, \"#fdca26\"], [1.0, \"#f0f921\"]], \"type\": \"histogram2dcontour\"}], \"mesh3d\": [{\"colorbar\": {\"outlinewidth\": 0, \"ticks\": \"\"}, \"type\": \"mesh3d\"}], \"parcoords\": [{\"line\": {\"colorbar\": {\"outlinewidth\": 0, \"ticks\": \"\"}}, \"type\": \"parcoords\"}], \"pie\": [{\"automargin\": true, \"type\": \"pie\"}], \"scatter\": [{\"marker\": {\"colorbar\": {\"outlinewidth\": 0, \"ticks\": \"\"}}, \"type\": \"scatter\"}], \"scatter3d\": [{\"line\": {\"colorbar\": {\"outlinewidth\": 0, \"ticks\": \"\"}}, \"marker\": {\"colorbar\": {\"outlinewidth\": 0, \"ticks\": \"\"}}, \"type\": \"scatter3d\"}], \"scattercarpet\": [{\"marker\": {\"colorbar\": {\"outlinewidth\": 0, \"ticks\": \"\"}}, \"type\": \"scattercarpet\"}], \"scattergeo\": [{\"marker\": {\"colorbar\": {\"outlinewidth\": 0, \"ticks\": \"\"}}, \"type\": \"scattergeo\"}], \"scattergl\": [{\"marker\": {\"colorbar\": {\"outlinewidth\": 0, \"ticks\": \"\"}}, \"type\": \"scattergl\"}], \"scattermapbox\": [{\"marker\": {\"colorbar\": {\"outlinewidth\": 0, \"ticks\": \"\"}}, \"type\": \"scattermapbox\"}], \"scatterpolar\": [{\"marker\": {\"colorbar\": {\"outlinewidth\": 0, \"ticks\": \"\"}}, \"type\": \"scatterpolar\"}], \"scatterpolargl\": [{\"marker\": {\"colorbar\": {\"outlinewidth\": 0, \"ticks\": \"\"}}, \"type\": \"scatterpolargl\"}], \"scatterternary\": [{\"marker\": {\"colorbar\": {\"outlinewidth\": 0, \"ticks\": \"\"}}, \"type\": \"scatterternary\"}], \"surface\": [{\"colorbar\": {\"outlinewidth\": 0, \"ticks\": \"\"}, \"colorscale\": [[0.0, \"#0d0887\"], [0.1111111111111111, \"#46039f\"], [0.2222222222222222, \"#7201a8\"], [0.3333333333333333, \"#9c179e\"], [0.4444444444444444, \"#bd3786\"], [0.5555555555555556, \"#d8576b\"], [0.6666666666666666, \"#ed7953\"], [0.7777777777777778, \"#fb9f3a\"], [0.8888888888888888, \"#fdca26\"], [1.0, \"#f0f921\"]], \"type\": \"surface\"}], \"table\": [{\"cells\": {\"fill\": {\"color\": \"#EBF0F8\"}, \"line\": {\"color\": \"white\"}}, \"header\": {\"fill\": {\"color\": \"#C8D4E3\"}, \"line\": {\"color\": \"white\"}}, \"type\": \"table\"}]}, \"layout\": {\"annotationdefaults\": {\"arrowcolor\": \"#2a3f5f\", \"arrowhead\": 0, \"arrowwidth\": 1}, \"autotypenumbers\": \"strict\", \"coloraxis\": {\"colorbar\": {\"outlinewidth\": 0, \"ticks\": \"\"}}, \"colorscale\": {\"diverging\": [[0, \"#8e0152\"], [0.1, \"#c51b7d\"], [0.2, \"#de77ae\"], [0.3, \"#f1b6da\"], [0.4, \"#fde0ef\"], [0.5, \"#f7f7f7\"], [0.6, \"#e6f5d0\"], [0.7, \"#b8e186\"], [0.8, \"#7fbc41\"], [0.9, \"#4d9221\"], [1, \"#276419\"]], \"sequential\": [[0.0, \"#0d0887\"], [0.1111111111111111, \"#46039f\"], [0.2222222222222222, \"#7201a8\"], [0.3333333333333333, \"#9c179e\"], [0.4444444444444444, \"#bd3786\"], [0.5555555555555556, \"#d8576b\"], [0.6666666666666666, \"#ed7953\"], [0.7777777777777778, \"#fb9f3a\"], [0.8888888888888888, \"#fdca26\"], [1.0, \"#f0f921\"]], \"sequentialminus\": [[0.0, \"#0d0887\"], [0.1111111111111111, \"#46039f\"], [0.2222222222222222, \"#7201a8\"], [0.3333333333333333, \"#9c179e\"], [0.4444444444444444, \"#bd3786\"], [0.5555555555555556, \"#d8576b\"], [0.6666666666666666, \"#ed7953\"], [0.7777777777777778, \"#fb9f3a\"], [0.8888888888888888, \"#fdca26\"], [1.0, \"#f0f921\"]]}, \"colorway\": [\"#636efa\", \"#EF553B\", \"#00cc96\", \"#ab63fa\", \"#FFA15A\", \"#19d3f3\", \"#FF6692\", \"#B6E880\", \"#FF97FF\", \"#FECB52\"], \"font\": {\"color\": \"#2a3f5f\"}, \"geo\": {\"bgcolor\": \"white\", \"lakecolor\": \"white\", \"landcolor\": \"#E5ECF6\", \"showlakes\": true, \"showland\": true, \"subunitcolor\": \"white\"}, \"hoverlabel\": {\"align\": \"left\"}, \"hovermode\": \"closest\", \"mapbox\": {\"style\": \"light\"}, \"paper_bgcolor\": \"white\", \"plot_bgcolor\": \"#E5ECF6\", \"polar\": {\"angularaxis\": {\"gridcolor\": \"white\", \"linecolor\": \"white\", \"ticks\": \"\"}, \"bgcolor\": \"#E5ECF6\", \"radialaxis\": {\"gridcolor\": \"white\", \"linecolor\": \"white\", \"ticks\": \"\"}}, \"scene\": {\"xaxis\": {\"backgroundcolor\": \"#E5ECF6\", \"gridcolor\": \"white\", \"gridwidth\": 2, \"linecolor\": \"white\", \"showbackground\": true, \"ticks\": \"\", \"zerolinecolor\": \"white\"}, \"yaxis\": {\"backgroundcolor\": \"#E5ECF6\", \"gridcolor\": \"white\", \"gridwidth\": 2, \"linecolor\": \"white\", \"showbackground\": true, \"ticks\": \"\", \"zerolinecolor\": \"white\"}, \"zaxis\": {\"backgroundcolor\": \"#E5ECF6\", \"gridcolor\": \"white\", \"gridwidth\": 2, \"linecolor\": \"white\", \"showbackground\": true, \"ticks\": \"\", \"zerolinecolor\": \"white\"}}, \"shapedefaults\": {\"line\": {\"color\": \"#2a3f5f\"}}, \"ternary\": {\"aaxis\": {\"gridcolor\": \"white\", \"linecolor\": \"white\", \"ticks\": \"\"}, \"baxis\": {\"gridcolor\": \"white\", \"linecolor\": \"white\", \"ticks\": \"\"}, \"bgcolor\": \"#E5ECF6\", \"caxis\": {\"gridcolor\": \"white\", \"linecolor\": \"white\", \"ticks\": \"\"}}, \"title\": {\"x\": 0.05}, \"xaxis\": {\"automargin\": true, \"gridcolor\": \"white\", \"linecolor\": \"white\", \"ticks\": \"\", \"title\": {\"standoff\": 15}, \"zerolinecolor\": \"white\", \"zerolinewidth\": 2}, \"yaxis\": {\"automargin\": true, \"gridcolor\": \"white\", \"linecolor\": \"white\", \"ticks\": \"\", \"title\": {\"standoff\": 15}, \"zerolinecolor\": \"white\", \"zerolinewidth\": 2}}}, \"title\": {\"text\": \"Total years of experience vs the current salary\"}, \"xaxis\": {\"ticklen\": 5, \"title\": {\"text\": \"years of experience\"}, \"zeroline\": false}},                        {\"responsive\": true}                    ).then(function(){\n",
              "                            \n",
              "var gd = document.getElementById('2e311961-fe84-436f-ad82-385816c275d9');\n",
              "var x = new MutationObserver(function (mutations, observer) {{\n",
              "        var display = window.getComputedStyle(gd).display;\n",
              "        if (!display || display === 'none') {{\n",
              "            console.log([gd, 'removed!']);\n",
              "            Plotly.purge(gd);\n",
              "            observer.disconnect();\n",
              "        }}\n",
              "}});\n",
              "\n",
              "// Listen for the removal of the full notebook cells\n",
              "var notebookContainer = gd.closest('#notebook-container');\n",
              "if (notebookContainer) {{\n",
              "    x.observe(notebookContainer, {childList: true});\n",
              "}}\n",
              "\n",
              "// Listen for the clearing of the current output cell\n",
              "var outputEl = gd.closest('.output');\n",
              "if (outputEl) {{\n",
              "    x.observe(outputEl, {childList: true});\n",
              "}}\n",
              "\n",
              "                        })                };                            </script>        </div>\n",
              "</body>\n",
              "</html>"
            ]
          },
          "metadata": {
            "tags": []
          }
        }
      ]
    },
    {
      "cell_type": "code",
      "metadata": {
        "colab": {
          "base_uri": "https://localhost:8080/",
          "height": 542
        },
        "id": "FAnhW6yFgyaB",
        "outputId": "48944b2e-3e39-4eb9-8277-b65703ba0b06"
      },
      "source": [
        "px.line(df2, x = df2['Years of experience'],y = df2['Current Salary'])"
      ],
      "execution_count": 109,
      "outputs": [
        {
          "output_type": "display_data",
          "data": {
            "text/html": [
              "<html>\n",
              "<head><meta charset=\"utf-8\" /></head>\n",
              "<body>\n",
              "    <div>            <script src=\"https://cdnjs.cloudflare.com/ajax/libs/mathjax/2.7.5/MathJax.js?config=TeX-AMS-MML_SVG\"></script><script type=\"text/javascript\">if (window.MathJax) {MathJax.Hub.Config({SVG: {font: \"STIX-Web\"}});}</script>                <script type=\"text/javascript\">window.PlotlyConfig = {MathJaxConfig: 'local'};</script>\n",
              "        <script src=\"https://cdn.plot.ly/plotly-latest.min.js\"></script>                <div id=\"60ac363b-e42a-483b-b949-b19bdfedd176\" class=\"plotly-graph-div\" style=\"height:525px; width:100%;\"></div>            <script type=\"text/javascript\">                                    window.PLOTLYENV=window.PLOTLYENV || {};                                    if (document.getElementById(\"60ac363b-e42a-483b-b949-b19bdfedd176\")) {                    Plotly.newPlot(                        \"60ac363b-e42a-483b-b949-b19bdfedd176\",                        [{\"hovertemplate\": \"Years of experience=%{x}<br>Current Salary=%{y}<extra></extra>\", \"legendgroup\": \"\", \"line\": {\"color\": \"#636efa\", \"dash\": \"solid\"}, \"mode\": \"lines\", \"name\": \"\", \"orientation\": \"v\", \"showlegend\": false, \"type\": \"scatter\", \"x\": [0.0, 0.5, 1.0, 1.5, 2.0, 2.5, 3.0, 4.0, 4.5, 5.0, 6.0, 7.0, 7.5, 8.0, 8.548497267759563, 9.0, 10.0, 11.0, 12.0, 13.0, 14.0, 15.0, 16.0, 17.0, 18.0, 19.0, 20.0, 21.0, 25.0, 30.0, 38.0], \"xaxis\": \"x\", \"y\": [50000.0, 46000.0, 46000.0, 58000.0, 50000.0, 50000.0, 55555.0, 60000.0, 39150.0, 60000.0, 64000.0, 68000.0, 65000.0, 70000.0, 68381.76533333333, 70000.0, 70000.0, 71000.0, 71000.0, 73500.0, 71500.0, 68000.0, 90500.0, 80000.0, 72500.0, 84000.0, 80000.0, 90000.0, 109000.0, 64000.0, 58000.0], \"yaxis\": \"y\"}],                        {\"legend\": {\"tracegroupgap\": 0}, \"margin\": {\"t\": 60}, \"template\": {\"data\": {\"bar\": [{\"error_x\": {\"color\": \"#2a3f5f\"}, \"error_y\": {\"color\": \"#2a3f5f\"}, \"marker\": {\"line\": {\"color\": \"#E5ECF6\", \"width\": 0.5}}, \"type\": \"bar\"}], \"barpolar\": [{\"marker\": {\"line\": {\"color\": \"#E5ECF6\", \"width\": 0.5}}, \"type\": \"barpolar\"}], \"carpet\": [{\"aaxis\": {\"endlinecolor\": \"#2a3f5f\", \"gridcolor\": \"white\", \"linecolor\": \"white\", \"minorgridcolor\": \"white\", \"startlinecolor\": \"#2a3f5f\"}, \"baxis\": {\"endlinecolor\": \"#2a3f5f\", \"gridcolor\": \"white\", \"linecolor\": \"white\", \"minorgridcolor\": \"white\", \"startlinecolor\": \"#2a3f5f\"}, \"type\": \"carpet\"}], \"choropleth\": [{\"colorbar\": {\"outlinewidth\": 0, \"ticks\": \"\"}, \"type\": \"choropleth\"}], \"contour\": [{\"colorbar\": {\"outlinewidth\": 0, \"ticks\": \"\"}, \"colorscale\": [[0.0, \"#0d0887\"], [0.1111111111111111, \"#46039f\"], [0.2222222222222222, \"#7201a8\"], [0.3333333333333333, \"#9c179e\"], [0.4444444444444444, \"#bd3786\"], [0.5555555555555556, \"#d8576b\"], [0.6666666666666666, \"#ed7953\"], [0.7777777777777778, \"#fb9f3a\"], [0.8888888888888888, \"#fdca26\"], [1.0, \"#f0f921\"]], \"type\": \"contour\"}], \"contourcarpet\": [{\"colorbar\": {\"outlinewidth\": 0, \"ticks\": \"\"}, \"type\": \"contourcarpet\"}], \"heatmap\": [{\"colorbar\": {\"outlinewidth\": 0, \"ticks\": \"\"}, \"colorscale\": [[0.0, \"#0d0887\"], [0.1111111111111111, \"#46039f\"], [0.2222222222222222, \"#7201a8\"], [0.3333333333333333, \"#9c179e\"], [0.4444444444444444, \"#bd3786\"], [0.5555555555555556, \"#d8576b\"], [0.6666666666666666, \"#ed7953\"], [0.7777777777777778, \"#fb9f3a\"], [0.8888888888888888, \"#fdca26\"], [1.0, \"#f0f921\"]], \"type\": \"heatmap\"}], \"heatmapgl\": [{\"colorbar\": {\"outlinewidth\": 0, \"ticks\": \"\"}, \"colorscale\": [[0.0, \"#0d0887\"], [0.1111111111111111, \"#46039f\"], [0.2222222222222222, \"#7201a8\"], [0.3333333333333333, \"#9c179e\"], [0.4444444444444444, \"#bd3786\"], [0.5555555555555556, \"#d8576b\"], [0.6666666666666666, \"#ed7953\"], [0.7777777777777778, \"#fb9f3a\"], [0.8888888888888888, \"#fdca26\"], [1.0, \"#f0f921\"]], \"type\": \"heatmapgl\"}], \"histogram\": [{\"marker\": {\"colorbar\": {\"outlinewidth\": 0, \"ticks\": \"\"}}, \"type\": \"histogram\"}], \"histogram2d\": [{\"colorbar\": {\"outlinewidth\": 0, \"ticks\": \"\"}, \"colorscale\": [[0.0, \"#0d0887\"], [0.1111111111111111, \"#46039f\"], [0.2222222222222222, \"#7201a8\"], [0.3333333333333333, \"#9c179e\"], [0.4444444444444444, \"#bd3786\"], [0.5555555555555556, \"#d8576b\"], [0.6666666666666666, \"#ed7953\"], [0.7777777777777778, \"#fb9f3a\"], [0.8888888888888888, \"#fdca26\"], [1.0, \"#f0f921\"]], \"type\": \"histogram2d\"}], \"histogram2dcontour\": [{\"colorbar\": {\"outlinewidth\": 0, \"ticks\": \"\"}, \"colorscale\": [[0.0, \"#0d0887\"], [0.1111111111111111, \"#46039f\"], [0.2222222222222222, \"#7201a8\"], [0.3333333333333333, \"#9c179e\"], [0.4444444444444444, \"#bd3786\"], [0.5555555555555556, \"#d8576b\"], [0.6666666666666666, \"#ed7953\"], [0.7777777777777778, \"#fb9f3a\"], [0.8888888888888888, \"#fdca26\"], [1.0, \"#f0f921\"]], \"type\": \"histogram2dcontour\"}], \"mesh3d\": [{\"colorbar\": {\"outlinewidth\": 0, \"ticks\": \"\"}, \"type\": \"mesh3d\"}], \"parcoords\": [{\"line\": {\"colorbar\": {\"outlinewidth\": 0, \"ticks\": \"\"}}, \"type\": \"parcoords\"}], \"pie\": [{\"automargin\": true, \"type\": \"pie\"}], \"scatter\": [{\"marker\": {\"colorbar\": {\"outlinewidth\": 0, \"ticks\": \"\"}}, \"type\": \"scatter\"}], \"scatter3d\": [{\"line\": {\"colorbar\": {\"outlinewidth\": 0, \"ticks\": \"\"}}, \"marker\": {\"colorbar\": {\"outlinewidth\": 0, \"ticks\": \"\"}}, \"type\": \"scatter3d\"}], \"scattercarpet\": [{\"marker\": {\"colorbar\": {\"outlinewidth\": 0, \"ticks\": \"\"}}, \"type\": \"scattercarpet\"}], \"scattergeo\": [{\"marker\": {\"colorbar\": {\"outlinewidth\": 0, \"ticks\": \"\"}}, \"type\": \"scattergeo\"}], \"scattergl\": [{\"marker\": {\"colorbar\": {\"outlinewidth\": 0, \"ticks\": \"\"}}, \"type\": \"scattergl\"}], \"scattermapbox\": [{\"marker\": {\"colorbar\": {\"outlinewidth\": 0, \"ticks\": \"\"}}, \"type\": \"scattermapbox\"}], \"scatterpolar\": [{\"marker\": {\"colorbar\": {\"outlinewidth\": 0, \"ticks\": \"\"}}, \"type\": \"scatterpolar\"}], \"scatterpolargl\": [{\"marker\": {\"colorbar\": {\"outlinewidth\": 0, \"ticks\": \"\"}}, \"type\": \"scatterpolargl\"}], \"scatterternary\": [{\"marker\": {\"colorbar\": {\"outlinewidth\": 0, \"ticks\": \"\"}}, \"type\": \"scatterternary\"}], \"surface\": [{\"colorbar\": {\"outlinewidth\": 0, \"ticks\": \"\"}, \"colorscale\": [[0.0, \"#0d0887\"], [0.1111111111111111, \"#46039f\"], [0.2222222222222222, \"#7201a8\"], [0.3333333333333333, \"#9c179e\"], [0.4444444444444444, \"#bd3786\"], [0.5555555555555556, \"#d8576b\"], [0.6666666666666666, \"#ed7953\"], [0.7777777777777778, \"#fb9f3a\"], [0.8888888888888888, \"#fdca26\"], [1.0, \"#f0f921\"]], \"type\": \"surface\"}], \"table\": [{\"cells\": {\"fill\": {\"color\": \"#EBF0F8\"}, \"line\": {\"color\": \"white\"}}, \"header\": {\"fill\": {\"color\": \"#C8D4E3\"}, \"line\": {\"color\": \"white\"}}, \"type\": \"table\"}]}, \"layout\": {\"annotationdefaults\": {\"arrowcolor\": \"#2a3f5f\", \"arrowhead\": 0, \"arrowwidth\": 1}, \"autotypenumbers\": \"strict\", \"coloraxis\": {\"colorbar\": {\"outlinewidth\": 0, \"ticks\": \"\"}}, \"colorscale\": {\"diverging\": [[0, \"#8e0152\"], [0.1, \"#c51b7d\"], [0.2, \"#de77ae\"], [0.3, \"#f1b6da\"], [0.4, \"#fde0ef\"], [0.5, \"#f7f7f7\"], [0.6, \"#e6f5d0\"], [0.7, \"#b8e186\"], [0.8, \"#7fbc41\"], [0.9, \"#4d9221\"], [1, \"#276419\"]], \"sequential\": [[0.0, \"#0d0887\"], [0.1111111111111111, \"#46039f\"], [0.2222222222222222, \"#7201a8\"], [0.3333333333333333, \"#9c179e\"], [0.4444444444444444, \"#bd3786\"], [0.5555555555555556, \"#d8576b\"], [0.6666666666666666, \"#ed7953\"], [0.7777777777777778, \"#fb9f3a\"], [0.8888888888888888, \"#fdca26\"], [1.0, \"#f0f921\"]], \"sequentialminus\": [[0.0, \"#0d0887\"], [0.1111111111111111, \"#46039f\"], [0.2222222222222222, \"#7201a8\"], [0.3333333333333333, \"#9c179e\"], [0.4444444444444444, \"#bd3786\"], [0.5555555555555556, \"#d8576b\"], [0.6666666666666666, \"#ed7953\"], [0.7777777777777778, \"#fb9f3a\"], [0.8888888888888888, \"#fdca26\"], [1.0, \"#f0f921\"]]}, \"colorway\": [\"#636efa\", \"#EF553B\", \"#00cc96\", \"#ab63fa\", \"#FFA15A\", \"#19d3f3\", \"#FF6692\", \"#B6E880\", \"#FF97FF\", \"#FECB52\"], \"font\": {\"color\": \"#2a3f5f\"}, \"geo\": {\"bgcolor\": \"white\", \"lakecolor\": \"white\", \"landcolor\": \"#E5ECF6\", \"showlakes\": true, \"showland\": true, \"subunitcolor\": \"white\"}, \"hoverlabel\": {\"align\": \"left\"}, \"hovermode\": \"closest\", \"mapbox\": {\"style\": \"light\"}, \"paper_bgcolor\": \"white\", \"plot_bgcolor\": \"#E5ECF6\", \"polar\": {\"angularaxis\": {\"gridcolor\": \"white\", \"linecolor\": \"white\", \"ticks\": \"\"}, \"bgcolor\": \"#E5ECF6\", \"radialaxis\": {\"gridcolor\": \"white\", \"linecolor\": \"white\", \"ticks\": \"\"}}, \"scene\": {\"xaxis\": {\"backgroundcolor\": \"#E5ECF6\", \"gridcolor\": \"white\", \"gridwidth\": 2, \"linecolor\": \"white\", \"showbackground\": true, \"ticks\": \"\", \"zerolinecolor\": \"white\"}, \"yaxis\": {\"backgroundcolor\": \"#E5ECF6\", \"gridcolor\": \"white\", \"gridwidth\": 2, \"linecolor\": \"white\", \"showbackground\": true, \"ticks\": \"\", \"zerolinecolor\": \"white\"}, \"zaxis\": {\"backgroundcolor\": \"#E5ECF6\", \"gridcolor\": \"white\", \"gridwidth\": 2, \"linecolor\": \"white\", \"showbackground\": true, \"ticks\": \"\", \"zerolinecolor\": \"white\"}}, \"shapedefaults\": {\"line\": {\"color\": \"#2a3f5f\"}}, \"ternary\": {\"aaxis\": {\"gridcolor\": \"white\", \"linecolor\": \"white\", \"ticks\": \"\"}, \"baxis\": {\"gridcolor\": \"white\", \"linecolor\": \"white\", \"ticks\": \"\"}, \"bgcolor\": \"#E5ECF6\", \"caxis\": {\"gridcolor\": \"white\", \"linecolor\": \"white\", \"ticks\": \"\"}}, \"title\": {\"x\": 0.05}, \"xaxis\": {\"automargin\": true, \"gridcolor\": \"white\", \"linecolor\": \"white\", \"ticks\": \"\", \"title\": {\"standoff\": 15}, \"zerolinecolor\": \"white\", \"zerolinewidth\": 2}, \"yaxis\": {\"automargin\": true, \"gridcolor\": \"white\", \"linecolor\": \"white\", \"ticks\": \"\", \"title\": {\"standoff\": 15}, \"zerolinecolor\": \"white\", \"zerolinewidth\": 2}}}, \"xaxis\": {\"anchor\": \"y\", \"domain\": [0.0, 1.0], \"title\": {\"text\": \"Years of experience\"}}, \"yaxis\": {\"anchor\": \"x\", \"domain\": [0.0, 1.0], \"title\": {\"text\": \"Current Salary\"}}},                        {\"responsive\": true}                    ).then(function(){\n",
              "                            \n",
              "var gd = document.getElementById('60ac363b-e42a-483b-b949-b19bdfedd176');\n",
              "var x = new MutationObserver(function (mutations, observer) {{\n",
              "        var display = window.getComputedStyle(gd).display;\n",
              "        if (!display || display === 'none') {{\n",
              "            console.log([gd, 'removed!']);\n",
              "            Plotly.purge(gd);\n",
              "            observer.disconnect();\n",
              "        }}\n",
              "}});\n",
              "\n",
              "// Listen for the removal of the full notebook cells\n",
              "var notebookContainer = gd.closest('#notebook-container');\n",
              "if (notebookContainer) {{\n",
              "    x.observe(notebookContainer, {childList: true});\n",
              "}}\n",
              "\n",
              "// Listen for the clearing of the current output cell\n",
              "var outputEl = gd.closest('.output');\n",
              "if (outputEl) {{\n",
              "    x.observe(outputEl, {childList: true});\n",
              "}}\n",
              "\n",
              "                        })                };                            </script>        </div>\n",
              "</body>\n",
              "</html>"
            ]
          },
          "metadata": {
            "tags": []
          }
        }
      ]
    },
    {
      "cell_type": "markdown",
      "metadata": {
        "id": "zC8hLjOLgnZS"
      },
      "source": [
        "Now, create the above plot again and add 2 more line plots to the same graph, that display the Total years of experience vs the median Yearly brutto salary (without bonus and stocks) of the year 2019 and 2020.\r\n"
      ]
    },
    {
      "cell_type": "code",
      "metadata": {
        "id": "QWTS2gA6qdN-"
      },
      "source": [
        "data19.info()"
      ],
      "execution_count": null,
      "outputs": []
    },
    {
      "cell_type": "code",
      "metadata": {
        "colab": {
          "base_uri": "https://localhost:8080/"
        },
        "id": "3AX9_0vWnRHI",
        "outputId": "9e16870d-a12c-4e54-a599-c34e7b3b0548"
      },
      "source": [
        "df = data19[['Years of experience', 'Yearly brutto salary (without bonus and stocks)']]\r\n",
        "df['Yearly brutto salary (without bonus and stocks)'].fillna(df['Yearly brutto salary (without bonus and stocks)'].mean(), inplace= True)\r\n",
        "df19 = df.groupby(['Years of experience'],as_index=False)['Yearly brutto salary (without bonus and stocks)'].median()\r\n",
        "df19.info()"
      ],
      "execution_count": 125,
      "outputs": [
        {
          "output_type": "stream",
          "text": [
            "<class 'pandas.core.frame.DataFrame'>\n",
            "Int64Index: 26 entries, 0 to 25\n",
            "Data columns (total 2 columns):\n",
            " #   Column                                           Non-Null Count  Dtype  \n",
            "---  ------                                           --------------  -----  \n",
            " 0   Years of experience                              26 non-null     int64  \n",
            " 1   Yearly brutto salary (without bonus and stocks)  26 non-null     float64\n",
            "dtypes: float64(1), int64(1)\n",
            "memory usage: 624.0 bytes\n"
          ],
          "name": "stdout"
        },
        {
          "output_type": "stream",
          "text": [
            "/usr/local/lib/python3.7/dist-packages/pandas/core/series.py:4536: SettingWithCopyWarning:\n",
            "\n",
            "\n",
            "A value is trying to be set on a copy of a slice from a DataFrame\n",
            "\n",
            "See the caveats in the documentation: https://pandas.pydata.org/pandas-docs/stable/user_guide/indexing.html#returning-a-view-versus-a-copy\n",
            "\n"
          ],
          "name": "stderr"
        }
      ]
    },
    {
      "cell_type": "code",
      "metadata": {
        "id": "SPRnxnfCq94K"
      },
      "source": [
        "data20"
      ],
      "execution_count": null,
      "outputs": []
    },
    {
      "cell_type": "code",
      "metadata": {
        "colab": {
          "base_uri": "https://localhost:8080/"
        },
        "id": "fxg2_vhEm_ma",
        "outputId": "40b36bd1-16af-42c5-dafb-0af97f2ba3a2"
      },
      "source": [
        "#Preparing 2020 data\r\n",
        "\r\n",
        "df20 = data20[['Total years of experience', 'Yearly brutto salary (without bonus and stocks) in EUR']]\r\n",
        "df20 = df20.groupby(['Total years of experience'],as_index=False)['Yearly brutto salary (without bonus and stocks) in EUR'].median()\r\n",
        "df20.info()"
      ],
      "execution_count": 149,
      "outputs": [
        {
          "output_type": "stream",
          "text": [
            "<class 'pandas.core.frame.DataFrame'>\n",
            "Int64Index: 48 entries, 0 to 47\n",
            "Data columns (total 2 columns):\n",
            " #   Column                                                  Non-Null Count  Dtype  \n",
            "---  ------                                                  --------------  -----  \n",
            " 0   Total years of experience                               48 non-null     object \n",
            " 1   Yearly brutto salary (without bonus and stocks) in EUR  48 non-null     float64\n",
            "dtypes: float64(1), object(1)\n",
            "memory usage: 1.1+ KB\n"
          ],
          "name": "stdout"
        }
      ]
    },
    {
      "cell_type": "code",
      "metadata": {
        "colab": {
          "base_uri": "https://localhost:8080/"
        },
        "id": "ZdXOkUJ8rvjx",
        "outputId": "1c215ee7-b308-460c-f897-e162b88ec326"
      },
      "source": [
        "#Removing missing values\r\n",
        "\r\n",
        "df['Total years of experience'].fillna(df['Total years of experience'].mode(), inplace= True)\r\n",
        "df['Yearly brutto salary (without bonus and stocks) in EUR'].fillna(df['Yearly brutto salary (without bonus and stocks) in EUR'].mean(), inplace= True)\r\n"
      ],
      "execution_count": 84,
      "outputs": [
        {
          "output_type": "stream",
          "text": [
            "/usr/local/lib/python3.7/dist-packages/pandas/core/series.py:4536: SettingWithCopyWarning:\n",
            "\n",
            "\n",
            "A value is trying to be set on a copy of a slice from a DataFrame\n",
            "\n",
            "See the caveats in the documentation: https://pandas.pydata.org/pandas-docs/stable/user_guide/indexing.html#returning-a-view-versus-a-copy\n",
            "\n"
          ],
          "name": "stderr"
        }
      ]
    },
    {
      "cell_type": "code",
      "metadata": {
        "colab": {
          "base_uri": "https://localhost:8080/",
          "height": 542
        },
        "id": "e_4FA6xLmaGz",
        "outputId": "32f8ebdd-ded2-4b9f-c5fa-2b03dee15404"
      },
      "source": [
        "# Creating trace2\r\n",
        "trace2 = go.Scatter(\r\n",
        "                    x = df19['Years of experience'],\r\n",
        "                    y = df19['Yearly brutto salary (without bonus and stocks)'],\r\n",
        "                    mode = \"lines+markers\",\r\n",
        "                    name = \"2019\",\r\n",
        "                    marker = dict(color = 'rgba(80, 26, 80, 0.8)'),\r\n",
        "                    text= data19['Company type'])\r\n",
        "data = [trace1, trace2]\r\n",
        "layout = dict(title = 'Years of experience vs Yearly brutto salary (without bonus and stocks) in 2019 & Current salary in 2020',\r\n",
        "              xaxis= dict(title= 'Years of experience',ticklen= 5,zeroline= False)\r\n",
        "             )\r\n",
        "fig = dict(data = data, layout = layout)\r\n",
        "iplot(fig)"
      ],
      "execution_count": 103,
      "outputs": [
        {
          "output_type": "display_data",
          "data": {
            "text/html": [
              "<html>\n",
              "<head><meta charset=\"utf-8\" /></head>\n",
              "<body>\n",
              "    <div>            <script src=\"https://cdnjs.cloudflare.com/ajax/libs/mathjax/2.7.5/MathJax.js?config=TeX-AMS-MML_SVG\"></script><script type=\"text/javascript\">if (window.MathJax) {MathJax.Hub.Config({SVG: {font: \"STIX-Web\"}});}</script>                <script type=\"text/javascript\">window.PlotlyConfig = {MathJaxConfig: 'local'};</script>\n",
              "        <script src=\"https://cdn.plot.ly/plotly-latest.min.js\"></script>                <div id=\"ac97676d-0dfa-4232-b093-9404ab5a5738\" class=\"plotly-graph-div\" style=\"height:525px; width:100%;\"></div>            <script type=\"text/javascript\">                                    window.PLOTLYENV=window.PLOTLYENV || {};                                    if (document.getElementById(\"ac97676d-0dfa-4232-b093-9404ab5a5738\")) {                    Plotly.newPlot(                        \"ac97676d-0dfa-4232-b093-9404ab5a5738\",                        [{\"marker\": {\"color\": \"rgba(16, 112, 2, 0.8)\"}, \"mode\": \"lines\", \"name\": \"citations\", \"text\": [\"Product\", \"Product\", \"Product\", \"Product\", \"Ecom retailer\", \"Insurance\", \"Product\", null, \"Startup\", \"Agency\", \"Product\", \"Product\", \"Startup\", \"Product\", \"Product\", \"Startup\", \"Product\", \"Product\", \"Agency\", \"Startup\", \"Big Tech\", \"Startup\", \"Product\", \"Consultancy\", \"Agency\", \"Product\", \"Product\", \"Product\", \"Product\", \"Product\", \"Corporation\", \"Startup\", \"Product\", \"Product\", \"Product\", \"Startup\", \"Product\", \"Product\", \"Product\", \"Product\", \"Product\", \"Startup\", \"Product\", \"Product\", \"Product\", \"Product\", \"Product\", \"Product\", \"Product\", \"Product\", \"Startup\", \"Product\", \"Agency\", \"Startup\", \"Product\", \"Startup\", \"Product\", \"Consultancy\", \"Product\", \"Product\", \"Product\", \"Product\", \"Product\", \"Product\", \"Agency\", \"Product\", \"Product\", \"Agency\", \"Product\", \"Product\", \"Startup\", \"Product\", \"Product\", \"Agency\", \"Agency\", \"Product\", \"Product\", \"Startup\", \"Startup\", \"Product\", \"Product\", \"Startup\", \"Product\", \"Product\", \"Product\", \"Startup\", \"Startup\", \"Product\", null, \"Startup\", \"Agency\", \"Agency\", \"Startup\", \"Product\", \"Product\", \"Product\", \"Outsource\", \"Startup\", \"Product\", \"Product\", \"Startup\", \"Agency\", \"Product\", \"Agency\", \"Product\", \"Startup\", \"Product\", \"Product\", null, \"Product\", \"Product\", \"Startup\", \"Startup\", \"Product\", \"Product\", \"Product\", \"Product\", \"Startup\", \"Startup\", \"Product\", \"Product\", \"Product\", \"Product\", \"Product\", \"Product\", \"Startup\", \"Agency\", \"Product\", \"Startup\", \"Product\", \"Product\", \"Product\", \"Startup\", \"Product\", \"Product\", \"Startup\", \"Industry\", \"Product\", \"E-Commerce firm\", \"Product\", \"Product\", \"Startup\", \"Product\", \"Product\", \"Product\", \"Product\", \"Product\", \"Product\", \"Startup\", \"Product\", null, \"Product\", \"Product\", \"Startup\", \"Startup\", \"Product\", \"Product\", \"Startup\", \"Product\", \"Product\", \"Product\", \"Startup\", \"Startup\", \"Product\", \"Product\", \"Product\", \"Product\", \"Product\", null, \"Consulting\", \"Startup\", \"Product\", \"Startup\", \"Product\", \"Product\", \"Agency\", \"Product\", \"Internal development for a non-IT company\", \"Startup\", \"Startup\", \"Product\", \"Product\", \"Product\", \"Product\", \"Product\", \"Product\", \"Agency\", \"Product\", \"Startup\", \"Product\", \"Startup\", \"Agency\", \"Startup\", \"Personaldienstleister\", \"Startup\", \"Product\", \"Startup\", \"Product\", \"Startup\", \"Product\", \"Product\", \"Startup\", \"Product\", \"Agency\", \"Agency\", null, \"Product\", \"Product\", \"Startup\", \"Product\", \"Startup\", \"Product\", \"Product\", \"Product\", \"Startup\", \"Product\", \"Agency\", \"Startup\", \"Product\", \"Startup\", \"ipo\", \"Product\", \"e-commerce\", \"Product\", \"Startup\", \"Product\", \"Product\", \"Outsource\", \"Product\", \"Product\", \"Startup\", \"Product\", \"Product\", \"Startup\", \"Product\", \"Product\", \"Product\", null, \"Product\", \"Startup\", \"Startup\", \"Product\", \"Product\", \"Product\", \"Product\", \"Product\", \"Product\", \"Startup\", \"Product\", \"Product\", \"Product\", \"Product\", \"Product\", \"Product\", \"Product\", \"Product\", \"Product\", \"Agency\", \"Startup\", \"Product\", null, \"Agency\", \"Product\", \"Product\", \"Product\", \"Product\", \"Agency\", \"Startup\", \"Startup\", \"Product\", \"Product\", \"Product\", \"Product\", \"Product\", \"Product\", \"Startup\", \"Product\", \"Startup\", \"Product\", \"Product\", \"Agency\", null, \"Product\", \"Startup\", null, \"Startup\", \"Product\", \"Product\", \"Product\", \"Product\", \"Startup\", \"Product\", \"Startup\", \"Agency\", \"Product and Projects\", \"Product\", \"Product\", null, \"Startup\", \"E-Commerce\", \"Product\", \"Development\", \"Product\", \"Product\", \"Outsource\", \"Product\", \"Product\", \"Startup\", \"Startup\", \"Product\", \"Startup\", null, \"Product\", \"Product\", \"Product\", \"Startup\", \"Product\", \"Product\", null, \"Product\", \"Agency\", \"Product\", \"Product\", \"Product\", \"Product\", \"Product\", \"Product\", \"Startup\", \"Startup\", \"Product\", \"Product\", \"Product\", null, \"Product\", \"Product\", \"Product\", \"Product\", \"Startup\", \"Product\", \"Product\", \"Product\", \"Startup\", \"Product\", \"Product\", \"Product\", \"Product\", \"Startup\", \"Product\", \"Product\", \"Startup\", \"Product\", \"Product\", \"Product\", \"Agency\", \"Agency\", \"Product\", \"Startup\", \"Agency\", \"Product\", \"Startup\", \"Startup\", null, \"Product\", \"Consulting Company\", \"Startup\", \"Product\", \"Product\", \"Product\", \"Product\", \"Startup\", \"Product\", \"Product\", \"Startup\", \"Product\", \"Product\", \"Agency\", \"Startup\", \"Startup\", \"Agency\", \"Product\", \"Product\", \"Startup\", \"IT Dienstleistungen \", \"Product\", \"Product\", \"Agency\", \"Product\", \"Startup\", \"Product\", \"Product\", \"Agency\", \"Agency\", \"Product\", \"Manufacturing\", \"Product\", \"Startup\", \"Product\", \"Startup\", \"Product\", \"Stock market \", \"Product\", \"telecom operator\", \"Product\", \"Product\", \"Ecommerce\", \"Startup\", \"Startup\", \"Product\", \"Consulting\", \"Product\", \"Startup\", \"Product\", \"Agency\", \"Product\", null, \"Agency\", \"Product\", \"Product\", \"Startup\", \"Product\", \"Product\", \"Product\", \"Product\", \"Startup\", \"Product\", \"Product\", \"Startup\", \"Product\", \"Product\", \"Product\", \"Startup\", \"Consulting\", \"Outsourcing\", \"Startup\", \"Product\", \"Product\", \"Agency\", \"Product\", \"Agency\", \"Startup\", \"Product\", \"Product\", \"Product\", \"Product\", \"Product\", \"Outsorce\", \"Product\", \"Product\", \"Product\", \"Product\", \"Product\", \"Product\", \"Product\", \"Startup\", \"Product\", \"Agency\", \"Outsource\", \"Product\", \"Product\", \"Product\", \"Product\", \"consulting\", \"Startup\", \"Product\", \"Product\", \"Product\", \"Product\", \"Outsource\", \"Agency\", \"Product\", \"Product\", \"Product\", \"Agency\", \"Product\", \"GmbH\", \"Product\", \"Product\", \"Product\", \"Startup\", \"Startup\", \"Product\", \"Startup\", \"Product\", \"Startup\", \"Corporation\", \"Product\", \"Product\", \"Product\", \"Agency\", \"Product\", \"Product\", \"Product\", \"Product\", \"Product\", \"Product\", \"Product\", \"IT Consulting \", \"Startup\", \"Product\", \"Product\", \"Product\", \"Product\", \"Product\", \"Product\", \"Startup\", \"Product\", \"Product\", \"Agency\", \"Product\", \"Product\", \"Product\", \"Product\", \"Product\", \"Product\", \"Startup\", \"Agency\", \"Startup\", \"Product\", \"Product\", \"Product\", \"Startup\", \"Startup\", \"Product\", \"Product\", \"Agency\", \"Startup\", \"Startup\", \"Startup\", \"Startup\", \"Product\", \"Product\", \"Product\", \"IT Consultancy \", \"Product\", \"Agency\", \"Startup\", \"Product\", \"Product\", \"Product\", null, \"Startup\", \"Product\", \"Product\", \"Product\", \"Product\", \"Product\", \"Product\", \"Agency\", \"Product\", \"IT Service Provider\", \"Product\", \"Startup\", \"Product\", \"Product\", \"Agency\", \"Product\", \"Product\", \"non-IT, manufacturing\", \"Bank \", \"Insurance\", \"Product\", \"Product\", \"Product\", \"IT-Beratung\", \"Product\", \"Startup\", \"Startup\", \"Product\", \"Startup\", \"Product\", \"Consulting\", \"Startup\", \"Product\", \"Product\", \"Startup\", \"Product\", \"Agency\", \"Product\", \"Product\", \"Startup\", \"Startup\", \"Technology Consulting\", \"Startup\", \"Agency\", \"Agency\", \"Product\", \"Startup\", \"Product\", \"outsource\", \"Product\", \"IT Consultants\", \"Product\", \"Agency\", \"Agency\", \"Agency\", \"Agency\", \"Product\", \"Product\", \"Product\", \"Startup\", \"Product\", \"Consulting\", \"Hochschule/university\", \"Product\", \"Product\", \"Product\", \"ISP\", \"Product\", \"Product\", \"Product\", \"Product\", \"Startup\", \"Product\", null, \"Product\", \"Product\", \"Product\", \"Product\", \"Product\", \"Product\", \"Agency\", \"Product\", \"Product\", \"Product\", \"Product\", \"Product\", \"Agency\", \"Agency\", \"Product\", \"Product\", \"Product\", \"Product\", \"Product\", \"Product\", \"Startup\", \"Product\", \"Product\", \"Product\", \"Product\", \"Product\", \"Agency\", \"Fin Tech\", \"Agency\", \"Startup\", \"Product\", \"Outsourcing\", \"Product\", \"Startup\", \"Product\", \"Product\", \"Outsourcing\", \"Product\", \"Startup\", \"Product\", \"Blockchain technology\", \"Retail\", \"Startup\", \"Agency\", \"Product\", \"Product\", \"Product\", \"Product\", \"Agency\", \"Startup\", \"Consult\", \"Startup\", \"Product\", \"Product\", \"Agency\", \"Agency\", \"Product\", \"Product\", \"Product\", \"Product\", \"Product\", \"Product\", \"Product\", \"Product\", \"Product\", \"Agency\", \"Startup\", \"Product\", \"Product\", \"Product\", \"Agency\", \"Product\", \"Product\", \"Product\", \"Agency\", \"Product\", \"Project-based software development\", null, \"Product\", \"Product\", \"Automotive\", null, \"Product\", \"Product\", \"Startup\", \"Product\", \"Startup\", \"Product\", \"Product\", \"Automotive\", \"Product\", \"Product\", \"Product\", \"Product\", \"Startup\", \"Product\", \"Product\", \"Startup\", \"Product\", \"OEM\", \"Consulting (banking)\", \"Product\", \"Agency\", \"Startup\", \"Product\", \"IT Consulting\", \"Agency\", \"Product\", \"Agency\", \"Product\", \"Product\", \"Product\", \"Product\", \"Product\", \"Startup\", \"Product\", \"Product\", \"Product\", \"Startup\", null, null, \"Product\", \"Product\", null, null, null, null, null, \"Agency\", \"Product\", \"Product\", \"Agency\", \"Product\", null, \"Agency\", null, \"Product\", \"Product\", null, \"Product\", null, \"Agency\", \"Agency\", null, null, null, \"Product\", \"Product\", \"Product\", null, \"Product\"], \"type\": \"scatter\", \"x\": [0.0, 0.5, 1.0, 1.5, 2.0, 2.5, 3.0, 4.0, 4.5, 5.0, 6.0, 7.0, 7.5, 8.0, 8.548497267759563, 9.0, 10.0, 11.0, 12.0, 13.0, 14.0, 15.0, 16.0, 17.0, 18.0, 19.0, 20.0, 21.0, 25.0, 30.0, 38.0], \"y\": [50000.0, 46000.0, 46000.0, 58000.0, 50000.0, 50000.0, 55555.0, 60000.0, 39150.0, 60000.0, 64000.0, 68000.0, 65000.0, 70000.0, 68381.76533333333, 70000.0, 70000.0, 71000.0, 71000.0, 73500.0, 71500.0, 68000.0, 90500.0, 80000.0, 72500.0, 84000.0, 80000.0, 90000.0, 109000.0, 64000.0, 58000.0]}, {\"marker\": {\"color\": \"rgba(80, 26, 80, 0.8)\"}, \"mode\": \"lines+markers\", \"name\": \"teaching\", \"text\": [\"Startup\", \"Product\", \"Startup\", \"Product\", \"Product\", \"Product\", \"Startup\", \"Product\", \"Product\", \"Product\", \"Startup\", \"Product\", \"Startup\", \"Product\", \"Startup\", \"Startup\", \"Product\", \"Product\", \"Product\", \"Product\", \"Startup\", \"Product\", \"Product\", \"Product\", \"Product\", \"Product\", \"Product\", \"Consulting / Agency\", \"Product\", \"Product\", \"Product\", \"Consulting / Agency\", \"Startup\", \"Product\", \"Product\", \"Product\", \"Product\", \"Startup\", \"Product\", \"Product\", \"Startup\", \"Product\", \"Product\", \"Startup\", \"Startup\", \"Product\", \"Product\", \"Consulting / Agency\", \"Startup\", \"Product\", \"Startup\", \"Consulting / Agency\", \"Startup\", \"Startup\", \"Product\", \"Consulting / Agency\", \"Product\", \"Startup\", \"Startup\", \"Startup\", \"Product\", \"Product\", \"Product\", \"Product\", \"Startup\", \"Product\", \"Product\", \"Startup\", \"Consulting / Agency\", \"Product\", \"Product\", \"Consulting / Agency\", \"Product\", \"Product\", \"Startup\", \"Product\", \"Product\", \"Product\", \"Product\", \"Product\", \"Startup\", \"Product\", \"Product\", \"Product\", \"Consulting / Agency\", \"Product\", \"Startup\", \"Product\", \"Product\", \"Product\", \"Startup\", \"Consulting / Agency\", \"Product\", \"Startup\", \"Product\", \"Startup\", \"Product\", \"Product\", \"Product\", \"Product\", \"Product\", \"Consulting / Agency\", \"Startup\", \"Product\", \"Consulting / Agency\", \"Startup\", \"Product\", \"Product\", \"Consulting / Agency\", \"Product\", \"Product\", \"Consulting / Agency\", \"Startup\", \"Startup\", \"Consulting / Agency\", \"Product\", \"Product\", \"Bodyshop / Outsource\", \"Product\", \"Product\", \"Product\", \"Product\", \"Product\", \"Product\", \"Product\", \"Consulting / Agency\", \"Product\", \"Product\", \"Product\", \"Product\", \"Product\", \"Bodyshop / Outsource\", \"Startup\", \"Product\", \"Consulting / Agency\", \"Bodyshop / Outsource\", \"Consulting / Agency\", \"Product\", \"Product\", \"Consulting / Agency\", \"Product\", \"Product\", \"Startup\", \"Product\", \"Product\", \"Product\", \"Product\", \"Product\", \"Product\", \"Consulting / Agency\", \"Product\", \"Product\", \"Product\", \"Product\", \"Product\", \"Product\", \"Product\", \"Product\", \"Product\", \"Product\", \"Product\", \"Consulting / Agency\", \"Startup\", \"Product\", \"Product\", \"Consulting / Agency\", \"Product\", \"Product\", \"Startup\", \"Startup\", \"Product\", \"Product\", \"Product\", \"Product\", \"Product\", \"Product\", \"Product\", \"Product\", \"Product\", \"Consulting / Agency\", \"Product\", \"Product\", \"Consulting / Agency\", \"Product\", \"Consulting / Agency\", \"Product\", \"Product\", \"Product\", \"Product\", \"Product\", \"Product\", \"Product\", \"Product\", \"Product\", \"Product\", \"Consulting / Agency\", \"Product\", \"Product\", \"Startup\", \"Product\", \"Consulting / Agency\", \"Product\", \"Product\", \"Product\", \"Consulting / Agency\", \"Product\", \"Product\", \"Product\", \"Product\", \"Product\", \"Product\", \"Product\", \"Product\", \"Product\", \"Product\", \"Product\", \"Product\", \"Product\", \"Product\", \"Product\", \"Product\", \"Product\", \"Startup\", \"Product\", \"Bodyshop / Outsource\", \"Product\", \"Startup\", \"Consulting / Agency\", \"Product\", \"Consulting / Agency\", \"Product\", \"Bodyshop / Outsource\", \"Product\", \"Startup\", \"Startup\", \"Startup\", \"Consulting / Agency\", \"Startup\", \"Product\", \"Product\", \"Bodyshop / Outsource\", \"Product\", \"Startup\", \"Product\", \"Product\", \"Consulting / Agency\", \"Product\", \"Product\", \"Product\", \"Product\", \"Product\", \"Product\", \"Product\", \"Product\", \"Product\", \"Product\", \"Startup\", \"Product\", \"Product\", \"Product\", \"Startup\", \"Startup\", \"Product\", \"Product\", \"Product\", \"Product\", \"Product\", \"Startup\", \"Product\", \"Startup\", \"Bodyshop / Outsource\", \"Product\", \"Consulting / Agency\", \"Product\", \"Product\", \"Consulting / Agency\", \"Product\", \"Startup\", \"Product\", \"Product\", \"Product\", \"Product\", \"Product\", \"Product\", \"Product\", \"Product\", \"Startup\", \"Product\", \"Product\", \"Product\", \"Startup\", \"Product\", \"Product\", \"Product\", \"Consulting / Agency\", \"Bodyshop / Outsource\", \"Product\", \"Product\", \"Product\", \"Consulting / Agency\", \"Product\", \"Product\", \"Product\", \"Product\", \"Product\", \"Startup\", \"Product\", \"Product\", \"Product\", \"Startup\", \"Consulting / Agency\", \"Startup\", \"Product\", \"Product\", \"Product\", \"Startup\", \"Product\", \"Product\", \"Startup\", \"Product\", \"Product\", \"Product\", \"Product\", \"Product\", \"Product\", \"Product\", \"Startup\", \"Product\", \"Product\", \"Product\", \"Consulting / Agency\", \"Product\", \"Product\", \"Product\", \"Startup\", \"Startup\", \"Product\", \"Product\", \"Product\", \"Product\", \"Product\", \"Product\", \"Product\", \"Product\", \"Product\", \"Product\", \"Startup\", \"Product\", \"Bodyshop / Outsource\", \"Product\", \"Startup\", \"Product\", \"Product\", \"Product\", \"Product\", \"Consulting / Agency\", \"Product\", \"Product\", \"Product\", \"Product\", \"Product\", \"Startup\", \"Startup\", \"Product\", \"Product\", \"Product\", \"Product\", \"Product\", \"Startup\", \"Product\", \"Product\", \"Startup\", \"Product\", \"Consulting / Agency\", \"Startup\", \"Consulting / Agency\", \"Product\", \"Product\", \"Product\", \"Bodyshop / Outsource\", \"Product\", \"Bodyshop / Outsource\", \"Product\", \"Startup\", \"Product\", \"Product\", \"Startup\", \"Product\", \"Startup\", \"Startup\", \"Product\", \"Startup\", \"Product\", \"Product\", \"Product\", \"Product\", \"Product\", \"Product\", \"Consulting / Agency\", \"Startup\", \"Product\", \"Product\", \"Product\", \"Product\", \"Product\", \"Startup\", \"Consulting / Agency\", \"Product\", \"Product\", \"Startup\", \"Product\", \"Product\", \"Product\", \"Product\", \"Product\", \"Product\", \"Product\", \"Product\", \"Startup\", \"Product\", \"Startup\", \"Consulting / Agency\", \"Consulting / Agency\", \"Product\", \"Product\", \"Consulting / Agency\", \"Consulting / Agency\", \"Consulting / Agency\", \"Product\", \"Product\", \"Startup\", \"Startup\", \"Product\", \"Product\", \"Product\", \"Bodyshop / Outsource\", \"Product\", \"Product\", \"Consulting / Agency\", \"Startup\", \"Product\", \"Startup\", \"Startup\", \"Startup\", \"Consulting / Agency\", \"Consulting / Agency\", \"Product\", \"Product\", \"Product\", \"Startup\", \"Product\", \"Startup\", \"Startup\", \"Startup\", \"Product\", \"Consulting / Agency\", \"Consulting / Agency\", \"Startup\", \"Product\", \"Product\", \"Product\", \"University\", \"Bodyshop / Outsource\", \"Product\", \"Product\", \"Product\", \"Startup\", \"Product\", \"Bodyshop / Outsource\", \"Product\", \"Product\", \"Product\", \"Product\", \"Consulting / Agency\", \"Startup\", \"Product\", \"Product\", \"Product\", \"Product\", \"Consulting / Agency\", \"Startup\", \"Product\", \"Startup\", \"Product\", \"Product\", \"Product\", \"Product\", \"Product\", \"Startup\", \"Product\", \"Product\", \"Startup\", \"Consulting / Agency\", \"Product\", \"Product\", \"Consulting / Agency\", \"Product\", \"Product\", \"Product\", \"Product\", \"Product\", \"Startup\", \"Consulting / Agency\", \"Startup\", \"Consulting / Agency\", \"Product\", \"Product\", \"Startup\", \"Product\", \"Product\", \"Product\", \"Startup\", \"Product\", \"Consulting / Agency\", \"Startup\", \"Consulting / Agency\", \"Consulting / Agency\", \"Consulting / Agency\", \"Consulting / Agency\", \"Product\", \"Product\", \"Startup\", \"Product\", \"Product\", \"Startup\", \"Product\", \"Product\", \"Startup\", \"Consulting / Agency\", \"Product\", \"Product\", \"Product\", \"Product\", \"Startup\", \"Startup\", \"Consulting / Agency\", \"Product\", \"Product\", \"Startup\", \"Product\", \"Product\", \"Product\", \"Startup\", \"Startup\", \"Product\", \"Product\", \"Startup\", \"Product\", \"Product\", \"Product\", \"Product\", \"Product\", \"Startup\", \"Product\", \"Product\", \"Product\", \"Product\", \"Product\", \"Product\", \"Product\", \"Product\", \"Product\", \"Product\", \"Startup\", \"Product\", \"Product\", \"Startup\", \"Bodyshop / Outsource\", \"Startup\", \"Consulting / Agency\", \"Startup\", \"Product\", \"Product\", \"Product\", \"Startup\", \"Product\", \"Consulting / Agency\", \"Product\", \"Product\", \"Product\", \"Consulting / Agency\", \"Startup\", \"Product\", \"Startup\", \"Consulting / Agency\", \"Startup\", \"Product\", \"Product\", \"Product\", \"Consulting / Agency\", \"Product\", \"Product\", \"Product\", \"Product\", \"Consulting / Agency\", \"Consulting / Agency\", \"Product\", \"Product\", \"Product\", \"Product\", \"Product\", \"Consulting / Agency\", \"Product\", \"Product\", \"Consulting / Agency\", \"Product\", \"Product\", \"Product\", \"Startup\", \"Product\", \"Product\", \"Consulting / Agency\", \"Product\", \"Product\", \"Product\", \"Product\", \"Product\", \"Product\", \"Product\", \"Product\", \"Product\", \"Product\", \"Product\", \"Startup\", \"Product\", \"Product\", \"Product\", \"Product\", \"Product\", \"Product\", \"Consulting / Agency\", \"Product\", \"Bodyshop / Outsource\", \"Product\", \"Product\", \"Startup\", \"Product\", \"Product\", \"Consulting / Agency\", \"Product\", \"Product\", \"Consulting / Agency\", \"Product\", \"Startup\", \"Product\", \"Startup\", \"Startup\", \"Product\", \"Consulting / Agency\", \"Startup\", \"Product\", \"Consulting / Agency\", \"Consulting / Agency\", \"Product\", \"Product\", \"Product\", \"Product\", \"Product\", \"Product\", \"Startup\", \"Product\", \"Product\", \"Product\", \"Startup\", \"Product\", \"Product\", \"Startup\", \"Product\", \"Startup\", \"Product\", \"Product\", \"Consulting / Agency\", \"Product\", \"Product\", \"Startup\", \"Product\", \"Product\", \"Consulting / Agency\", \"Product\", \"Product\", \"Product\", \"Product\", \"Product\", \"Startup\", \"Startup\", \"Product\", \"Product\", \"Consulting / Agency\", \"Product\", \"Startup\", \"Consulting / Agency\", \"Bodyshop / Outsource\", \"Startup\", \"Startup\", \"Product\", \"Product\", \"Product\", \"Startup\", \"Startup\", \"Product\", \"Startup\", \"Product\", \"Product\", \"Bank\", \"Product\", \"Bodyshop / Outsource\", \"Product\", \"Startup\", \"University\", \"Product\", \"Product\", \"Product\", \"Product\", \"Product\", \"Product\", \"Startup\", \"Product\", \"Product\", \"Product\", \"Bodyshop / Outsource\", \"Startup\", \"Product\", \"Product\", \"Product\", \"Product\", \"Product\", \"Startup\", \"Product\", \"Product\", \"Product\", \"Startup\", \"Bodyshop / Outsource\", \"Product\", \"Product\", \"Startup\", \"Product\", \"Product\", \"Product\", \"Product\", \"Product\", \"Product\", \"Product\", \"Bodyshop / Outsource\", \"Consulting / Agency\", \"Product\", \"Product\", \"Product\", \"Product\", \"Product\", \"Product\", \"Product\", \"Startup\", \"Product\", \"Product\", \"Consulting / Agency\", \"Consulting / Agency\", \"Product\", \"Product\", \"Startup\", \"Consulting / Agency\", \"Startup\", \"Consulting / Agency\", \"Product\", \"Bodyshop / Outsource\", \"Product\", \"Product\", \"Product\", \"Product\", \"Bodyshop / Outsource\", \"Product\", \"Bodyshop / Outsource\", \"Bodyshop / Outsource\", \"Product\", \"Product\", \"Product\", \"Bank\", \"Consulting / Agency\", \"Startup\", \"Product\", \"Product\", \"Product\", \"Product\", \"Product\", \"Product\", \"Product\", \"Product\", \"Product\", \"Startup\", \"Product\", \"Product\", \"Product\", \"Product\", \"Product\", \"Bank\", \"Product\", \"Product\", \"Product\", \"Startup\", \"Product\", \"Consulting / Agency\", \"Startup\", \"Product\", \"Product\", \"Product\", \"Product\", \"Consulting / Agency\", \"Consulting / Agency\", \"Startup\", \"Product\", \"Product\", \"Consulting / Agency\", \"Product\", \"Consulting / Agency\", \"Product\", \"Bank\", \"Product\", \"Startup\", \"Consulting / Agency\", \"Product\", \"Product\", \"Product\", \"University\", \"Startup\", \"Product\", \"Startup\", \"Product\", \"Product\", \"Product\", \"Product\", \"Startup\", \"Product\", \"Product\", \"Product\", \"Startup\", \"Startup\", \"Product\", \"Product\", \"Product\", \"Startup\", \"Consulting / Agency\", \"Consulting / Agency\", \"Product\", \"Product\", \"Startup\", \"Product\", \"Product\", \"Product\", \"Product\", \"Product\", \"Consulting / Agency\", \"Startup\", \"Consulting / Agency\", \"Consulting / Agency\", \"Startup\", \"Bodyshop / Outsource\", \"Product\", \"Startup\", \"Product\", \"Startup\", \"Product\", \"Consulting / Agency\", \"Product\", \"Product\", \"Product\", \"Product\", \"Product\", \"Startup\", \"Consulting / Agency\", \"Startup\", \"Product\", \"Product\", \"Product\", \"Consulting / Agency\", \"Product\", \"Product\", \"Product\", \"Product\", \"Startup\", \"Product\", \"Product\", \"Product\", \"Product\", \"Product\", \"Startup\", \"Product\", \"Startup\", \"Startup\", \"Product\", \"Bodyshop / Outsource\", \"Product\", \"Product\", \"Product\", \"Startup\", \"Product\", \"Startup\", \"Product\", \"Product\", \"Product\", \"Product\", \"Product\", \"Product\", \"Product\", \"Bodyshop / Outsource\", \"Product\", \"Product\", \"Product\", \"Consulting / Agency\", \"Startup\", \"Product\", \"University\", \"Product\", \"Bodyshop / Outsource\", \"Product\", \"Product\", \"Product\", \"Product\", \"Product\", \"Product\", \"Product\", \"Product\", \"Product\", \"Startup\", \"Product\", \"Consulting / Agency\", \"University\", \"Product\", \"Startup\", \"Product\", \"Startup\", \"Product\", \"Startup\", \"Product\", \"Product\", \"Consulting / Agency\", \"Product\", \"Startup\", \"Product\", \"Product\", \"Product\", \"Product\", \"Outsource\", \"Product\", \"Product\", \"Startup\", \"Product\", \"Product\", \"Product\", \"Product\", \"Product\", \"Product\", \"Product\", \"Product\", \"Bodyshop / Outsource\", \"Product\", \"Product\", \"Product\", \"Product\", \"Product\", \"Product\", \"Product\", \"Product\", \"Consulting / Agency\", \"Consulting / Agency\", \"Product\", \"Product\", \"Product\", \"University\", \"Consulting / Agency\", \"Consulting / Agency\", \"Consulting / Agency\", \"Product\", \"Consulting / Agency\", \"Product\", \"Consulting / Agency\", \"Startup\", \"Product\", \"Product\", \"Bank\", \"Product\", \"Product\", \"Consulting / Agency\", \"Startup\", \"Product\", \"Product\", \"Product\", \"Product\", \"Product\", \"Bank\", \"Product\", \"Product\", \"Consulting / Agency\"], \"type\": \"scatter\", \"x\": [0, 1, 2, 3, 4, 5, 6, 7, 8, 9, 10, 11, 12, 13, 14, 15, 16, 17, 18, 19, 20, 22, 24, 25, 28, 30], \"y\": [55000.0, 46800.0, 52500.0, 55000.0, 62000.0, 65000.0, 68000.0, 67000.0, 74500.0, 74500.0, 76500.0, 76500.0, 77700.0, 70000.0, 80000.0, 75000.0, 72000.0, 75000.0, 82500.0, 73000.0, 78000.0, 100500.0, 115000.0, 79800.0, 110000.0, 60000.0]}],                        {\"template\": {\"data\": {\"bar\": [{\"error_x\": {\"color\": \"#2a3f5f\"}, \"error_y\": {\"color\": \"#2a3f5f\"}, \"marker\": {\"line\": {\"color\": \"#E5ECF6\", \"width\": 0.5}}, \"type\": \"bar\"}], \"barpolar\": [{\"marker\": {\"line\": {\"color\": \"#E5ECF6\", \"width\": 0.5}}, \"type\": \"barpolar\"}], \"carpet\": [{\"aaxis\": {\"endlinecolor\": \"#2a3f5f\", \"gridcolor\": \"white\", \"linecolor\": \"white\", \"minorgridcolor\": \"white\", \"startlinecolor\": \"#2a3f5f\"}, \"baxis\": {\"endlinecolor\": \"#2a3f5f\", \"gridcolor\": \"white\", \"linecolor\": \"white\", \"minorgridcolor\": \"white\", \"startlinecolor\": \"#2a3f5f\"}, \"type\": \"carpet\"}], \"choropleth\": [{\"colorbar\": {\"outlinewidth\": 0, \"ticks\": \"\"}, \"type\": \"choropleth\"}], \"contour\": [{\"colorbar\": {\"outlinewidth\": 0, \"ticks\": \"\"}, \"colorscale\": [[0.0, \"#0d0887\"], [0.1111111111111111, \"#46039f\"], [0.2222222222222222, \"#7201a8\"], [0.3333333333333333, \"#9c179e\"], [0.4444444444444444, \"#bd3786\"], [0.5555555555555556, \"#d8576b\"], [0.6666666666666666, \"#ed7953\"], [0.7777777777777778, \"#fb9f3a\"], [0.8888888888888888, \"#fdca26\"], [1.0, \"#f0f921\"]], \"type\": \"contour\"}], \"contourcarpet\": [{\"colorbar\": {\"outlinewidth\": 0, \"ticks\": \"\"}, \"type\": \"contourcarpet\"}], \"heatmap\": [{\"colorbar\": {\"outlinewidth\": 0, \"ticks\": \"\"}, \"colorscale\": [[0.0, \"#0d0887\"], [0.1111111111111111, \"#46039f\"], [0.2222222222222222, \"#7201a8\"], [0.3333333333333333, \"#9c179e\"], [0.4444444444444444, \"#bd3786\"], [0.5555555555555556, \"#d8576b\"], [0.6666666666666666, \"#ed7953\"], [0.7777777777777778, \"#fb9f3a\"], [0.8888888888888888, \"#fdca26\"], [1.0, \"#f0f921\"]], \"type\": \"heatmap\"}], \"heatmapgl\": [{\"colorbar\": {\"outlinewidth\": 0, \"ticks\": \"\"}, \"colorscale\": [[0.0, \"#0d0887\"], [0.1111111111111111, \"#46039f\"], [0.2222222222222222, \"#7201a8\"], [0.3333333333333333, \"#9c179e\"], [0.4444444444444444, \"#bd3786\"], [0.5555555555555556, \"#d8576b\"], [0.6666666666666666, \"#ed7953\"], [0.7777777777777778, \"#fb9f3a\"], [0.8888888888888888, \"#fdca26\"], [1.0, \"#f0f921\"]], \"type\": \"heatmapgl\"}], \"histogram\": [{\"marker\": {\"colorbar\": {\"outlinewidth\": 0, \"ticks\": \"\"}}, \"type\": \"histogram\"}], \"histogram2d\": [{\"colorbar\": {\"outlinewidth\": 0, \"ticks\": \"\"}, \"colorscale\": [[0.0, \"#0d0887\"], [0.1111111111111111, \"#46039f\"], [0.2222222222222222, \"#7201a8\"], [0.3333333333333333, \"#9c179e\"], [0.4444444444444444, \"#bd3786\"], [0.5555555555555556, \"#d8576b\"], [0.6666666666666666, \"#ed7953\"], [0.7777777777777778, \"#fb9f3a\"], [0.8888888888888888, \"#fdca26\"], [1.0, \"#f0f921\"]], \"type\": \"histogram2d\"}], \"histogram2dcontour\": [{\"colorbar\": {\"outlinewidth\": 0, \"ticks\": \"\"}, \"colorscale\": [[0.0, \"#0d0887\"], [0.1111111111111111, \"#46039f\"], [0.2222222222222222, \"#7201a8\"], [0.3333333333333333, \"#9c179e\"], [0.4444444444444444, \"#bd3786\"], [0.5555555555555556, \"#d8576b\"], [0.6666666666666666, \"#ed7953\"], [0.7777777777777778, \"#fb9f3a\"], [0.8888888888888888, \"#fdca26\"], [1.0, \"#f0f921\"]], \"type\": \"histogram2dcontour\"}], \"mesh3d\": [{\"colorbar\": {\"outlinewidth\": 0, \"ticks\": \"\"}, \"type\": \"mesh3d\"}], \"parcoords\": [{\"line\": {\"colorbar\": {\"outlinewidth\": 0, \"ticks\": \"\"}}, \"type\": \"parcoords\"}], \"pie\": [{\"automargin\": true, \"type\": \"pie\"}], \"scatter\": [{\"marker\": {\"colorbar\": {\"outlinewidth\": 0, \"ticks\": \"\"}}, \"type\": \"scatter\"}], \"scatter3d\": [{\"line\": {\"colorbar\": {\"outlinewidth\": 0, \"ticks\": \"\"}}, \"marker\": {\"colorbar\": {\"outlinewidth\": 0, \"ticks\": \"\"}}, \"type\": \"scatter3d\"}], \"scattercarpet\": [{\"marker\": {\"colorbar\": {\"outlinewidth\": 0, \"ticks\": \"\"}}, \"type\": \"scattercarpet\"}], \"scattergeo\": [{\"marker\": {\"colorbar\": {\"outlinewidth\": 0, \"ticks\": \"\"}}, \"type\": \"scattergeo\"}], \"scattergl\": [{\"marker\": {\"colorbar\": {\"outlinewidth\": 0, \"ticks\": \"\"}}, \"type\": \"scattergl\"}], \"scattermapbox\": [{\"marker\": {\"colorbar\": {\"outlinewidth\": 0, \"ticks\": \"\"}}, \"type\": \"scattermapbox\"}], \"scatterpolar\": [{\"marker\": {\"colorbar\": {\"outlinewidth\": 0, \"ticks\": \"\"}}, \"type\": \"scatterpolar\"}], \"scatterpolargl\": [{\"marker\": {\"colorbar\": {\"outlinewidth\": 0, \"ticks\": \"\"}}, \"type\": \"scatterpolargl\"}], \"scatterternary\": [{\"marker\": {\"colorbar\": {\"outlinewidth\": 0, \"ticks\": \"\"}}, \"type\": \"scatterternary\"}], \"surface\": [{\"colorbar\": {\"outlinewidth\": 0, \"ticks\": \"\"}, \"colorscale\": [[0.0, \"#0d0887\"], [0.1111111111111111, \"#46039f\"], [0.2222222222222222, \"#7201a8\"], [0.3333333333333333, \"#9c179e\"], [0.4444444444444444, \"#bd3786\"], [0.5555555555555556, \"#d8576b\"], [0.6666666666666666, \"#ed7953\"], [0.7777777777777778, \"#fb9f3a\"], [0.8888888888888888, \"#fdca26\"], [1.0, \"#f0f921\"]], \"type\": \"surface\"}], \"table\": [{\"cells\": {\"fill\": {\"color\": \"#EBF0F8\"}, \"line\": {\"color\": \"white\"}}, \"header\": {\"fill\": {\"color\": \"#C8D4E3\"}, \"line\": {\"color\": \"white\"}}, \"type\": \"table\"}]}, \"layout\": {\"annotationdefaults\": {\"arrowcolor\": \"#2a3f5f\", \"arrowhead\": 0, \"arrowwidth\": 1}, \"autotypenumbers\": \"strict\", \"coloraxis\": {\"colorbar\": {\"outlinewidth\": 0, \"ticks\": \"\"}}, \"colorscale\": {\"diverging\": [[0, \"#8e0152\"], [0.1, \"#c51b7d\"], [0.2, \"#de77ae\"], [0.3, \"#f1b6da\"], [0.4, \"#fde0ef\"], [0.5, \"#f7f7f7\"], [0.6, \"#e6f5d0\"], [0.7, \"#b8e186\"], [0.8, \"#7fbc41\"], [0.9, \"#4d9221\"], [1, \"#276419\"]], \"sequential\": [[0.0, \"#0d0887\"], [0.1111111111111111, \"#46039f\"], [0.2222222222222222, \"#7201a8\"], [0.3333333333333333, \"#9c179e\"], [0.4444444444444444, \"#bd3786\"], [0.5555555555555556, \"#d8576b\"], [0.6666666666666666, \"#ed7953\"], [0.7777777777777778, \"#fb9f3a\"], [0.8888888888888888, \"#fdca26\"], [1.0, \"#f0f921\"]], \"sequentialminus\": [[0.0, \"#0d0887\"], [0.1111111111111111, \"#46039f\"], [0.2222222222222222, \"#7201a8\"], [0.3333333333333333, \"#9c179e\"], [0.4444444444444444, \"#bd3786\"], [0.5555555555555556, \"#d8576b\"], [0.6666666666666666, \"#ed7953\"], [0.7777777777777778, \"#fb9f3a\"], [0.8888888888888888, \"#fdca26\"], [1.0, \"#f0f921\"]]}, \"colorway\": [\"#636efa\", \"#EF553B\", \"#00cc96\", \"#ab63fa\", \"#FFA15A\", \"#19d3f3\", \"#FF6692\", \"#B6E880\", \"#FF97FF\", \"#FECB52\"], \"font\": {\"color\": \"#2a3f5f\"}, \"geo\": {\"bgcolor\": \"white\", \"lakecolor\": \"white\", \"landcolor\": \"#E5ECF6\", \"showlakes\": true, \"showland\": true, \"subunitcolor\": \"white\"}, \"hoverlabel\": {\"align\": \"left\"}, \"hovermode\": \"closest\", \"mapbox\": {\"style\": \"light\"}, \"paper_bgcolor\": \"white\", \"plot_bgcolor\": \"#E5ECF6\", \"polar\": {\"angularaxis\": {\"gridcolor\": \"white\", \"linecolor\": \"white\", \"ticks\": \"\"}, \"bgcolor\": \"#E5ECF6\", \"radialaxis\": {\"gridcolor\": \"white\", \"linecolor\": \"white\", \"ticks\": \"\"}}, \"scene\": {\"xaxis\": {\"backgroundcolor\": \"#E5ECF6\", \"gridcolor\": \"white\", \"gridwidth\": 2, \"linecolor\": \"white\", \"showbackground\": true, \"ticks\": \"\", \"zerolinecolor\": \"white\"}, \"yaxis\": {\"backgroundcolor\": \"#E5ECF6\", \"gridcolor\": \"white\", \"gridwidth\": 2, \"linecolor\": \"white\", \"showbackground\": true, \"ticks\": \"\", \"zerolinecolor\": \"white\"}, \"zaxis\": {\"backgroundcolor\": \"#E5ECF6\", \"gridcolor\": \"white\", \"gridwidth\": 2, \"linecolor\": \"white\", \"showbackground\": true, \"ticks\": \"\", \"zerolinecolor\": \"white\"}}, \"shapedefaults\": {\"line\": {\"color\": \"#2a3f5f\"}}, \"ternary\": {\"aaxis\": {\"gridcolor\": \"white\", \"linecolor\": \"white\", \"ticks\": \"\"}, \"baxis\": {\"gridcolor\": \"white\", \"linecolor\": \"white\", \"ticks\": \"\"}, \"bgcolor\": \"#E5ECF6\", \"caxis\": {\"gridcolor\": \"white\", \"linecolor\": \"white\", \"ticks\": \"\"}}, \"title\": {\"x\": 0.05}, \"xaxis\": {\"automargin\": true, \"gridcolor\": \"white\", \"linecolor\": \"white\", \"ticks\": \"\", \"title\": {\"standoff\": 15}, \"zerolinecolor\": \"white\", \"zerolinewidth\": 2}, \"yaxis\": {\"automargin\": true, \"gridcolor\": \"white\", \"linecolor\": \"white\", \"ticks\": \"\", \"title\": {\"standoff\": 15}, \"zerolinecolor\": \"white\", \"zerolinewidth\": 2}}}, \"title\": {\"text\": \"Years of experience vs Yearly brutto salary (without bonus and stocks) in 2019 & Current salary in 2020\"}, \"xaxis\": {\"ticklen\": 5, \"title\": {\"text\": \"Years of experience\"}, \"zeroline\": false}},                        {\"responsive\": true}                    ).then(function(){\n",
              "                            \n",
              "var gd = document.getElementById('ac97676d-0dfa-4232-b093-9404ab5a5738');\n",
              "var x = new MutationObserver(function (mutations, observer) {{\n",
              "        var display = window.getComputedStyle(gd).display;\n",
              "        if (!display || display === 'none') {{\n",
              "            console.log([gd, 'removed!']);\n",
              "            Plotly.purge(gd);\n",
              "            observer.disconnect();\n",
              "        }}\n",
              "}});\n",
              "\n",
              "// Listen for the removal of the full notebook cells\n",
              "var notebookContainer = gd.closest('#notebook-container');\n",
              "if (notebookContainer) {{\n",
              "    x.observe(notebookContainer, {childList: true});\n",
              "}}\n",
              "\n",
              "// Listen for the clearing of the current output cell\n",
              "var outputEl = gd.closest('.output');\n",
              "if (outputEl) {{\n",
              "    x.observe(outputEl, {childList: true});\n",
              "}}\n",
              "\n",
              "                        })                };                            </script>        </div>\n",
              "</body>\n",
              "</html>"
            ]
          },
          "metadata": {
            "tags": []
          }
        }
      ]
    },
    {
      "cell_type": "code",
      "metadata": {
        "colab": {
          "base_uri": "https://localhost:8080/"
        },
        "id": "4SnYGBau0fhI",
        "outputId": "80dfc6fe-463d-4bdd-e61a-cd155da1a309"
      },
      "source": [
        "data20['Total years of experience'].astype('category')\r\n",
        "df20['Total years of experience']\r\n"
      ],
      "execution_count": 151,
      "outputs": [
        {
          "output_type": "execute_result",
          "data": {
            "text/plain": [
              "0                                                     0\n",
              "1                                                   0.8\n",
              "2                                                     1\n",
              "3                      1 (as QA Engineer) / 11 in total\n",
              "4                                                   1,5\n",
              "5                                                   1.5\n",
              "6                                                    10\n",
              "7                                                    11\n",
              "8                                                    12\n",
              "9                                                    13\n",
              "10                                                   14\n",
              "11                                                   15\n",
              "12                                 15, thereof 8 as CTO\n",
              "13                                                   16\n",
              "14                                                   17\n",
              "15                                                   18\n",
              "16                                                   19\n",
              "17                                                    2\n",
              "18                                                  2,5\n",
              "19                                                  2.5\n",
              "20                                                   20\n",
              "21                                                   21\n",
              "22                                                   22\n",
              "23                                                   23\n",
              "24                                                   24\n",
              "25                                                   25\n",
              "26                                                   26\n",
              "27                                                   27\n",
              "28                                                   28\n",
              "29                                                   29\n",
              "30                                                    3\n",
              "31                                                  3.5\n",
              "32                                                   30\n",
              "33                                                   31\n",
              "34                                                  383\n",
              "35                                                    4\n",
              "36                                                  4.5\n",
              "37                                                   40\n",
              "38                                                    5\n",
              "39                                                  5.5\n",
              "40                                                    6\n",
              "41    6 (not as a data scientist, but as a lab scien...\n",
              "42                                                  6.5\n",
              "43                                                    7\n",
              "44                                                  7.5\n",
              "45                                                    8\n",
              "46                                                    9\n",
              "47                                       less than year\n",
              "Name: Total years of experience, dtype: object"
            ]
          },
          "metadata": {
            "tags": []
          },
          "execution_count": 151
        }
      ]
    },
    {
      "cell_type": "code",
      "metadata": {
        "id": "AJAO6aR9zwiw"
      },
      "source": [
        "df20['Total years of experience']\r\n"
      ],
      "execution_count": null,
      "outputs": []
    },
    {
      "cell_type": "code",
      "metadata": {
        "colab": {
          "base_uri": "https://localhost:8080/",
          "height": 542
        },
        "id": "ivk1VO-jqWnr",
        "outputId": "e98bac8a-4d96-4f7f-9b15-cf75af6e0a4d"
      },
      "source": [
        "# Creating trace3\r\n",
        "trace2 = go.Scatter(\r\n",
        "                    x = df20['Total years of experience'],\r\n",
        "                    y = df20['Yearly brutto salary (without bonus and stocks) in EUR'],\r\n",
        "                    mode = \"lines+markers\",\r\n",
        "                    name = \"2019\",\r\n",
        "                    marker = dict(color = 'rgba(80, 26, 80, 0.8)'),\r\n",
        "                     text= data20['Company type'])\r\n",
        "                \r\n",
        "data = [trace1, trace2, trace3]\r\n",
        "layout = dict(title = 'Years of experience vs Yearly brutto salary (without bonus and stocks) in 2019, 2020 & Current salary in 2020',\r\n",
        "              xaxis= dict(title= 'Salary Trends',ticklen= 5,zeroline= False),\r\n",
        "              yaxis = dict(title='Salary', ticklen=5, zeroline= False)\r\n",
        "             )\r\n",
        "fig = dict(data = data, layout = layout)\r\n",
        "iplot(fig)"
      ],
      "execution_count": 110,
      "outputs": [
        {
          "output_type": "display_data",
          "data": {
            "text/html": [
              "<html>\n",
              "<head><meta charset=\"utf-8\" /></head>\n",
              "<body>\n",
              "    <div>            <script src=\"https://cdnjs.cloudflare.com/ajax/libs/mathjax/2.7.5/MathJax.js?config=TeX-AMS-MML_SVG\"></script><script type=\"text/javascript\">if (window.MathJax) {MathJax.Hub.Config({SVG: {font: \"STIX-Web\"}});}</script>                <script type=\"text/javascript\">window.PlotlyConfig = {MathJaxConfig: 'local'};</script>\n",
              "        <script src=\"https://cdn.plot.ly/plotly-latest.min.js\"></script>                <div id=\"cceceb39-10b1-49e6-a1ae-53bfe97c7370\" class=\"plotly-graph-div\" style=\"height:525px; width:100%;\"></div>            <script type=\"text/javascript\">                                    window.PLOTLYENV=window.PLOTLYENV || {};                                    if (document.getElementById(\"cceceb39-10b1-49e6-a1ae-53bfe97c7370\")) {                    Plotly.newPlot(                        \"cceceb39-10b1-49e6-a1ae-53bfe97c7370\",                        [{\"marker\": {\"color\": \"rgba(16, 112, 2, 0.8)\"}, \"mode\": \"lines\", \"name\": \"2018\", \"text\": [\"Product\", \"Product\", \"Product\", \"Product\", \"Ecom retailer\", \"Insurance\", \"Product\", null, \"Startup\", \"Agency\", \"Product\", \"Product\", \"Startup\", \"Product\", \"Product\", \"Startup\", \"Product\", \"Product\", \"Agency\", \"Startup\", \"Big Tech\", \"Startup\", \"Product\", \"Consultancy\", \"Agency\", \"Product\", \"Product\", \"Product\", \"Product\", \"Product\", \"Corporation\", \"Startup\", \"Product\", \"Product\", \"Product\", \"Startup\", \"Product\", \"Product\", \"Product\", \"Product\", \"Product\", \"Startup\", \"Product\", \"Product\", \"Product\", \"Product\", \"Product\", \"Product\", \"Product\", \"Product\", \"Startup\", \"Product\", \"Agency\", \"Startup\", \"Product\", \"Startup\", \"Product\", \"Consultancy\", \"Product\", \"Product\", \"Product\", \"Product\", \"Product\", \"Product\", \"Agency\", \"Product\", \"Product\", \"Agency\", \"Product\", \"Product\", \"Startup\", \"Product\", \"Product\", \"Agency\", \"Agency\", \"Product\", \"Product\", \"Startup\", \"Startup\", \"Product\", \"Product\", \"Startup\", \"Product\", \"Product\", \"Product\", \"Startup\", \"Startup\", \"Product\", null, \"Startup\", \"Agency\", \"Agency\", \"Startup\", \"Product\", \"Product\", \"Product\", \"Outsource\", \"Startup\", \"Product\", \"Product\", \"Startup\", \"Agency\", \"Product\", \"Agency\", \"Product\", \"Startup\", \"Product\", \"Product\", null, \"Product\", \"Product\", \"Startup\", \"Startup\", \"Product\", \"Product\", \"Product\", \"Product\", \"Startup\", \"Startup\", \"Product\", \"Product\", \"Product\", \"Product\", \"Product\", \"Product\", \"Startup\", \"Agency\", \"Product\", \"Startup\", \"Product\", \"Product\", \"Product\", \"Startup\", \"Product\", \"Product\", \"Startup\", \"Industry\", \"Product\", \"E-Commerce firm\", \"Product\", \"Product\", \"Startup\", \"Product\", \"Product\", \"Product\", \"Product\", \"Product\", \"Product\", \"Startup\", \"Product\", null, \"Product\", \"Product\", \"Startup\", \"Startup\", \"Product\", \"Product\", \"Startup\", \"Product\", \"Product\", \"Product\", \"Startup\", \"Startup\", \"Product\", \"Product\", \"Product\", \"Product\", \"Product\", null, \"Consulting\", \"Startup\", \"Product\", \"Startup\", \"Product\", \"Product\", \"Agency\", \"Product\", \"Internal development for a non-IT company\", \"Startup\", \"Startup\", \"Product\", \"Product\", \"Product\", \"Product\", \"Product\", \"Product\", \"Agency\", \"Product\", \"Startup\", \"Product\", \"Startup\", \"Agency\", \"Startup\", \"Personaldienstleister\", \"Startup\", \"Product\", \"Startup\", \"Product\", \"Startup\", \"Product\", \"Product\", \"Startup\", \"Product\", \"Agency\", \"Agency\", null, \"Product\", \"Product\", \"Startup\", \"Product\", \"Startup\", \"Product\", \"Product\", \"Product\", \"Startup\", \"Product\", \"Agency\", \"Startup\", \"Product\", \"Startup\", \"ipo\", \"Product\", \"e-commerce\", \"Product\", \"Startup\", \"Product\", \"Product\", \"Outsource\", \"Product\", \"Product\", \"Startup\", \"Product\", \"Product\", \"Startup\", \"Product\", \"Product\", \"Product\", null, \"Product\", \"Startup\", \"Startup\", \"Product\", \"Product\", \"Product\", \"Product\", \"Product\", \"Product\", \"Startup\", \"Product\", \"Product\", \"Product\", \"Product\", \"Product\", \"Product\", \"Product\", \"Product\", \"Product\", \"Agency\", \"Startup\", \"Product\", null, \"Agency\", \"Product\", \"Product\", \"Product\", \"Product\", \"Agency\", \"Startup\", \"Startup\", \"Product\", \"Product\", \"Product\", \"Product\", \"Product\", \"Product\", \"Startup\", \"Product\", \"Startup\", \"Product\", \"Product\", \"Agency\", null, \"Product\", \"Startup\", null, \"Startup\", \"Product\", \"Product\", \"Product\", \"Product\", \"Startup\", \"Product\", \"Startup\", \"Agency\", \"Product and Projects\", \"Product\", \"Product\", null, \"Startup\", \"E-Commerce\", \"Product\", \"Development\", \"Product\", \"Product\", \"Outsource\", \"Product\", \"Product\", \"Startup\", \"Startup\", \"Product\", \"Startup\", null, \"Product\", \"Product\", \"Product\", \"Startup\", \"Product\", \"Product\", null, \"Product\", \"Agency\", \"Product\", \"Product\", \"Product\", \"Product\", \"Product\", \"Product\", \"Startup\", \"Startup\", \"Product\", \"Product\", \"Product\", null, \"Product\", \"Product\", \"Product\", \"Product\", \"Startup\", \"Product\", \"Product\", \"Product\", \"Startup\", \"Product\", \"Product\", \"Product\", \"Product\", \"Startup\", \"Product\", \"Product\", \"Startup\", \"Product\", \"Product\", \"Product\", \"Agency\", \"Agency\", \"Product\", \"Startup\", \"Agency\", \"Product\", \"Startup\", \"Startup\", null, \"Product\", \"Consulting Company\", \"Startup\", \"Product\", \"Product\", \"Product\", \"Product\", \"Startup\", \"Product\", \"Product\", \"Startup\", \"Product\", \"Product\", \"Agency\", \"Startup\", \"Startup\", \"Agency\", \"Product\", \"Product\", \"Startup\", \"IT Dienstleistungen \", \"Product\", \"Product\", \"Agency\", \"Product\", \"Startup\", \"Product\", \"Product\", \"Agency\", \"Agency\", \"Product\", \"Manufacturing\", \"Product\", \"Startup\", \"Product\", \"Startup\", \"Product\", \"Stock market \", \"Product\", \"telecom operator\", \"Product\", \"Product\", \"Ecommerce\", \"Startup\", \"Startup\", \"Product\", \"Consulting\", \"Product\", \"Startup\", \"Product\", \"Agency\", \"Product\", null, \"Agency\", \"Product\", \"Product\", \"Startup\", \"Product\", \"Product\", \"Product\", \"Product\", \"Startup\", \"Product\", \"Product\", \"Startup\", \"Product\", \"Product\", \"Product\", \"Startup\", \"Consulting\", \"Outsourcing\", \"Startup\", \"Product\", \"Product\", \"Agency\", \"Product\", \"Agency\", \"Startup\", \"Product\", \"Product\", \"Product\", \"Product\", \"Product\", \"Outsorce\", \"Product\", \"Product\", \"Product\", \"Product\", \"Product\", \"Product\", \"Product\", \"Startup\", \"Product\", \"Agency\", \"Outsource\", \"Product\", \"Product\", \"Product\", \"Product\", \"consulting\", \"Startup\", \"Product\", \"Product\", \"Product\", \"Product\", \"Outsource\", \"Agency\", \"Product\", \"Product\", \"Product\", \"Agency\", \"Product\", \"GmbH\", \"Product\", \"Product\", \"Product\", \"Startup\", \"Startup\", \"Product\", \"Startup\", \"Product\", \"Startup\", \"Corporation\", \"Product\", \"Product\", \"Product\", \"Agency\", \"Product\", \"Product\", \"Product\", \"Product\", \"Product\", \"Product\", \"Product\", \"IT Consulting \", \"Startup\", \"Product\", \"Product\", \"Product\", \"Product\", \"Product\", \"Product\", \"Startup\", \"Product\", \"Product\", \"Agency\", \"Product\", \"Product\", \"Product\", \"Product\", \"Product\", \"Product\", \"Startup\", \"Agency\", \"Startup\", \"Product\", \"Product\", \"Product\", \"Startup\", \"Startup\", \"Product\", \"Product\", \"Agency\", \"Startup\", \"Startup\", \"Startup\", \"Startup\", \"Product\", \"Product\", \"Product\", \"IT Consultancy \", \"Product\", \"Agency\", \"Startup\", \"Product\", \"Product\", \"Product\", null, \"Startup\", \"Product\", \"Product\", \"Product\", \"Product\", \"Product\", \"Product\", \"Agency\", \"Product\", \"IT Service Provider\", \"Product\", \"Startup\", \"Product\", \"Product\", \"Agency\", \"Product\", \"Product\", \"non-IT, manufacturing\", \"Bank \", \"Insurance\", \"Product\", \"Product\", \"Product\", \"IT-Beratung\", \"Product\", \"Startup\", \"Startup\", \"Product\", \"Startup\", \"Product\", \"Consulting\", \"Startup\", \"Product\", \"Product\", \"Startup\", \"Product\", \"Agency\", \"Product\", \"Product\", \"Startup\", \"Startup\", \"Technology Consulting\", \"Startup\", \"Agency\", \"Agency\", \"Product\", \"Startup\", \"Product\", \"outsource\", \"Product\", \"IT Consultants\", \"Product\", \"Agency\", \"Agency\", \"Agency\", \"Agency\", \"Product\", \"Product\", \"Product\", \"Startup\", \"Product\", \"Consulting\", \"Hochschule/university\", \"Product\", \"Product\", \"Product\", \"ISP\", \"Product\", \"Product\", \"Product\", \"Product\", \"Startup\", \"Product\", null, \"Product\", \"Product\", \"Product\", \"Product\", \"Product\", \"Product\", \"Agency\", \"Product\", \"Product\", \"Product\", \"Product\", \"Product\", \"Agency\", \"Agency\", \"Product\", \"Product\", \"Product\", \"Product\", \"Product\", \"Product\", \"Startup\", \"Product\", \"Product\", \"Product\", \"Product\", \"Product\", \"Agency\", \"Fin Tech\", \"Agency\", \"Startup\", \"Product\", \"Outsourcing\", \"Product\", \"Startup\", \"Product\", \"Product\", \"Outsourcing\", \"Product\", \"Startup\", \"Product\", \"Blockchain technology\", \"Retail\", \"Startup\", \"Agency\", \"Product\", \"Product\", \"Product\", \"Product\", \"Agency\", \"Startup\", \"Consult\", \"Startup\", \"Product\", \"Product\", \"Agency\", \"Agency\", \"Product\", \"Product\", \"Product\", \"Product\", \"Product\", \"Product\", \"Product\", \"Product\", \"Product\", \"Agency\", \"Startup\", \"Product\", \"Product\", \"Product\", \"Agency\", \"Product\", \"Product\", \"Product\", \"Agency\", \"Product\", \"Project-based software development\", null, \"Product\", \"Product\", \"Automotive\", null, \"Product\", \"Product\", \"Startup\", \"Product\", \"Startup\", \"Product\", \"Product\", \"Automotive\", \"Product\", \"Product\", \"Product\", \"Product\", \"Startup\", \"Product\", \"Product\", \"Startup\", \"Product\", \"OEM\", \"Consulting (banking)\", \"Product\", \"Agency\", \"Startup\", \"Product\", \"IT Consulting\", \"Agency\", \"Product\", \"Agency\", \"Product\", \"Product\", \"Product\", \"Product\", \"Product\", \"Startup\", \"Product\", \"Product\", \"Product\", \"Startup\", null, null, \"Product\", \"Product\", null, null, null, null, null, \"Agency\", \"Product\", \"Product\", \"Agency\", \"Product\", null, \"Agency\", null, \"Product\", \"Product\", null, \"Product\", null, \"Agency\", \"Agency\", null, null, null, \"Product\", \"Product\", \"Product\", null, \"Product\"], \"type\": \"scatter\", \"x\": [0.0, 0.5, 1.0, 1.5, 2.0, 2.5, 3.0, 4.0, 4.5, 5.0, 6.0, 7.0, 7.5, 8.0, 8.548497267759563, 9.0, 10.0, 11.0, 12.0, 13.0, 14.0, 15.0, 16.0, 17.0, 18.0, 19.0, 20.0, 21.0, 25.0, 30.0, 38.0], \"y\": [50000.0, 46000.0, 46000.0, 58000.0, 50000.0, 50000.0, 55555.0, 60000.0, 39150.0, 60000.0, 64000.0, 68000.0, 65000.0, 70000.0, 68381.76533333333, 70000.0, 70000.0, 71000.0, 71000.0, 73500.0, 71500.0, 68000.0, 90500.0, 80000.0, 72500.0, 84000.0, 80000.0, 90000.0, 109000.0, 64000.0, 58000.0]}, {\"marker\": {\"color\": \"rgba(80, 26, 80, 0.8)\"}, \"mode\": \"lines+markers\", \"name\": \"2019\", \"text\": [\"Product\", \"Product\", \"Product\", \"Startup\", \"Product\", \"Startup\", \"Product\", \"Product\", \"Product\", \"Product\", \"Consulting / Agency\", \"Product\", null, \"Startup\", \"Product\", \"Consulting / Agency\", \"Product\", \"Startup\", \"Product\", \"Product\", \"Product\", \"Product\", \"Product\", \"Product\", \"Product\", \"Product\", \"Product\", \"Media\", \"Product\", \"Product\", \"Product\", \"Startup\", \"Startup\", \"Startup\", \"Product\", \"Product\", \"Product\", \"Product\", \"Startup\", \"Startup\", \"Product\", \"Product\", \"Product\", \"Product\", \"Product\", \"Product\", \"Product\", \"Product\", \"Product\", \"Startup\", \"Product\", \"Product\", \"Startup\", \"Product\", \"Product\", null, \"Product\", \"Product\", \"Product\", \"Product\", \"Consulting / Agency\", \"Product\", \"Product\", \"Product\", \"Consulting / Agency\", \"Product\", \"Consulting / Agency\", \"Product\", \"Personal Ltd\", \"Startup\", \"Startup\", \"Product\", \"Consulting / Agency\", \"Product\", \"Startup\", \"Product\", \"Product\", \"Consulting / Agency\", \"Startup\", \"Product\", \"Product\", \"Startup\", \"Product\", \"Product\", \"Product\", \"Product\", \"Startup\", \"Product\", \"Startup\", \"Product\", \"Product\", \"Product\", \"Product\", \"Product\", \"Consulting / Agency\", \"Product\", \"Product\", \"Product\", \"Product\", \"Product\", \"Product\", \"Product\", \"Product\", \"Startup\", \"Product\", \"Startup\", \"Product\", \"Product\", \"Product\", \"Product\", \"Product\", \"Startup\", \"Product\", \"Product\", \"Startup\", \"Product\", \"Product\", \"Product\", \"Consulting / Agency\", \"Product\", \"Product\", \"Product\", \"Startup\", \"Product\", \"Product\", \"Product\", \"Startup\", \"Product\", \"Startup\", \"Product\", \"Startup\", \"Consulting / Agency\", \"Product\", \"Product\", \"Product\", \"Product\", \"Product\", \"Product\", \"Startup\", \"Product\", \"Product\", \"Cloud\", \"Product\", \"Startup\", \"Product\", \"Product\", \"Product\", \"Product\", \"Consulting / Agency\", \"Product\", \"Startup\", \"Product\", \"Startup\", \"Beh\\u00f6rde\", \"Product\", \"Product\", \"Product\", \"Product\", \"Product\", \"Consulting / Agency\", \"Consulting / Agency\", \"Product\", \"Startup\", \"Product\", \"Startup\", \"Startup\", \"Product\", \"Startup\", \"Consulting / Agency\", \"Product\", \"Product\", \"Consulting / Agency\", \"Startup\", \"Product\", \"Product\", \"Product\", \"Startup\", \"Product\", \"Product\", \"Startup\", \"Product\", \"Product\", \"Product\", \"Construction\", \"Product\", \"Product\", \"Product\", \"Product\", \"Product\", \"Product\", \"Startup\", \"Product\", \"Consulting / Agency\", \"Product\", \"Product\", \"Product\", \"Product\", \"Product\", \"Product\", \"Product\", \"Product\", \"Product\", \"Product\", \"Startup\", \"Consulting / Agency\", \"Product\", \"Big commercial\", \"Product\", \"Product\", \"Product\", \"Product\", \"Product\", \"Startup\", \"Product\", \"Startup\", \"Product\", \"Product\", \"Product\", \"Product\", \"Product\", \"Product\", \"Consulting / Agency\", \"Product\", \"Product\", \"Startup\", \"Product\", \"Consulting / Agency\", \"Product\", \"Product\", \"Consulting / Agency\", \"Consulting / Agency\", \"Consulting / Agency\", \"Product\", \"Product\", \"Product\", \"Product\", \"Outsorce\", \"Product\", \"Product\", \"Product\", \"Product\", \"Product\", \"Product\", \"Startup\", \"Consulting / Agency\", \"Bank \", \"Product\", \"Consulting / Agency\", \"Fintech\", \"Automotive\", \"Product\", \"Product\", \"Consulting / Agency\", \"Product\", \"Startup\", \"Consulting / Agency\", \"Product\", \"Startup\", \"Product\", \"Bank\", \"Product\", \"Startup\", \"Product\", \"Startup\", \"Product\", \"Startup\", null, \"Product\", \"Product\", \"Consulting / Agency\", \"Product\", \"IT Department of established business\", \"Product\", \"Startup\", \"Startup\", \"Product\", \"Telecommunications\", \"Product\", \"Product\", \"Product\", \"Startup\", null, \"Product\", \"Consulting / Agency\", \"Product\", \"Product\", \"Product\", \"Startup\", \"Startup\", \"Product\", \"Product\", \"Product\", \"Product\", \"Media\", \"Startup\", \"Product\", \"Product\", \"Product\", \"Product\", \"Product\", \"Product\", \"Product\", \"Product\", \"Product\", \"Product\", \"E-commerce\", \"Startup\", \"Product\", \"Startup\", \"Product\", \"Product\", \"Product\", \"Product\", \"Product\", \"Product\", \"Startup\", \"Product\", \"Consulting / Agency\", \"Product\", \"Product\", \"Product\", \"Product\", \"Product\", \"Product\", \"Product\", \"Product\", \"Product\", \"Consulting / Agency\", \"Product\", \"Product\", \"Product\", \"Product\", \"Product\", \"Bank\", \"Startup\", \"Product\", \"Product\", \"Product\", \"Product\", \"Startup\", null, \"Product\", \"Consulting / Agency\", \"Startup\", \"Consulting / Agency\", \"Consulting / Agency\", \"Product\", \"Product\", \"Product\", \"Systemhaus\", \"Consulting / Agency\", \"Product\", \"Product\", \"Product\", \"Product\", \"Product\", \"Product\", \"Consulting / Agency\", \"Product\", \"Product\", null, \"Consulting / Agency\", \"Product\", \"Startup\", \"Product\", \"Startup\", \"University\", \"Product\", \"Product\", \"Product\", \"Product\", \"Consulting / Agency\", \"Product\", \"Consulting / Agency\", \"Product\", \"Product\", \"Startup\", \"Product\", null, \"Product\", \"Product\", \"Startup\", \"Consulting / Agency\", \"Product\", \"Product\", \"Consulting / Agency\", \"Startup\", \"Product\", \"Startup\", \"Product\", \"Startup\", \"Startup\", \"Consulting / Agency\", \"Product\", \"Product\", \"Product\", \"Startup\", \"Product\", \"consumer goods\", \"Startup\", \"Product\", \"Product\", \"Product\", \"IT-Outsourcing\", \"Product\", null, \"Product\", \"Product\", \"Startup\", \"Product\", \"Product\", \"Product\", \"Startup\", \"Product\", \"Startup\", \"Product\", \"Product\", \"Startup\", \"Product\", \"Startup\", \"Product\", \"Product\", \"Startup\", \"Product\", \"Product\", \"Startup\", \"Consulting / Agency\", \"Product\", \"Startup\", \"Startup\", null, \"Product\", \"Startup\", \"Product\", \"Product\", \"Startup\", \"Product\", \"Startup\", \"Product\", \"Product\", \"Product\", \"Product\", \"Product\", \"Game Company\", \"Product\", \"Product\", \"Product\", \"Product\", \"Startup\", \"Consulting / Agency\", \"Startup\", \"Product\", \"Product\", \"Consulting / Agency\", \"Product\", \"Product\", \"Financial \", \"Product\", \"Product\", \"Startup\", \"Product\", \"Startup\", \"Product\", \"Consulting / Agency\", \"Consulting / Agency\", \"Product\", \"Product\", \"Product\", \"Product\", \"Consulting / Agency\", \"E-commerce\", \"Product\", \"Startup\", null, \"Product\", \"Product\", \"Startup\", \"Corporation\", \"Startup\", null, \"Product\", \"Product\", \"Product\", \"Publishing and Technology\", \"Product\", \"Startup\", \"Startup\", \"Startup\", \"Product\", \"Product\", \"Product\", \"Startup\", \"Product\", \"Startup\", \"Product\", \"Product\", \"Startup\", \"Startup\", \"Startup\", \"Consulting / Agency\", \"Consulting / Agency\", \"Startup\", \"Product\", \"Startup\", \"Product\", \"Market Research \", \"Consulting / Agency\", \"Startup\", \"Consulting / Agency\", \"Consulting / Agency\", \"Startup\", \"Product\", \"Product\", \"Product\", \"Consulting / Agency\", \"Product\", \"Product\", \"Product\", \"Startup\", \"e-commerce\", \"Product\", \"Product\", \"Product\", \"Product\", \"Startup\", \"Product\", \"Product\", null, \"Product\", null, \"Product\", \"Product\", \"SaaS\", \"Startup\", \"Product\", \"Product\", \"Startup\", \"Startup\", \"Startup\", \"Product\", \"Product\", \"Product\", \"Startup\", \"Consulting / Agency\", \"Consulting / Agency\", \"Startup\", \"Startup\", \"Startup\", \"Product\", \"Product\", \"Product\", \"Product\", \"Product\", \"Product\", \"Product\", \"Startup\", \"Product\", \"Startup\", \"Product\", \"Startup\", \"Startup\", \"Product\", \"Product\", \"Product\", \"Product\", \"Product\", \"Product\", \"Product\", \"Consulting / Agency\", \"Product\", \"Startup\", \"Publisher\", \"Product\", \"Startup\", \"Consulting / Agency\", \"E-commerce\", \"Startup\", \"Product\", \"Consulting / Agency\", \"Startup\", \"Product\", \"Startup\", \"Product\", \"Product\", \"Product\", \"Startup\", \"Product\", \"University\", \"Product\", \"Product\", \"Product\", \"Product\", \"Product\", \"Startup\", \"Product\", \"Product\", \"Product\", \"Product\", \"Energy \", \"Startup\", \"Product\", \"Product\", \"Product\", \"Product\", \"Product\", \"Product\", \"Startup\", \"Product\", \"Product\", \"Product\", \"Startup\", \"Startup\", \"Startup\", \"Product\", \"Startup\", \"Product\", \"Product\", \"Product\", \"Product\", \"Product\", \"Enterprise\", \"Product\", \"Product\", \"Startup\", \"Product\", \"Product\", \"Product\", \"Product\", \"Consulting / Agency\", \"Consulting / Agency\", \"Product\", \"Product\", \"Startup\", \"Consulting / Agency\", \"Bloody enterprise\", \"service\", \"Startup\", \"Product\", \"Product\", \"Startup\", \"Consulting / Agency\", \"Concern\", \"Startup\", \"Product\", \"Consulting / Agency\", \"Product\", \"Product\", \"Product\", \"Product\", \"Product\", \"Startup\", \"Product\", \"Product\", \"Product\", \"Utilities\", \"Product\", \"Product\", \"Product\", \"Startup\", \"Product\", \"Bank\", \"Product\", \"Product\", \"Product\", \"Product\", \"Product\", \"Product\", \"Product\", \"Product\", \"Startup\", \"Product\", \"Product\", \"Product\", \"Consulting / Agency\", \"Product\", \"Product\", \"Product\", \"Product\", null, \"Product\", \"Product\", \"Product\", \"Product\", \"Product\", \"Product\", \"Product\", \"Startup\", \"Consulting / Agency\", \"Product\", \"Product\", \"Product\", \"Corporation\", \"Startup\", \"Product\", \"Product\", \"Product\", \"Startup\", \"Consulting / Agency\", \"Product\", \"Product\", \"Product\", \"Startup\", null, \"Product\", \"Product\", \"Product\", \"Startup\", \"Consulting / Agency\", \"Product\", \"Product\", \"Product\", \"Product\", \"Product\", \"Startup\", null, \"Product\", \"Product\", \"Insurance\", \"Consulting / Agency\", \"Startup\", \"Consulting / Agency\", \"Startup\", \"Product\", \"Product\", \"Product\", \"Consulting / Agency\", \"Product\", \"Product\", \"Product\", \"Product\", \"Consulting / Agency\", \"Product\", \"Product\", \"Consulting / Agency\", \"Product\", \"Product\", \"Product\", \"Startup\", \"Product\", \"Startup\", \"Product\", \"Startup\", \"Product\", \"Consulting / Agency\", \"Product\", \"Startup\", \"Startup\", \"Product\", \"Startup\", \"Product\", \"Science Institute \", \"Product\", \"Research institute\", \"Startup\", \"Product\", \"Startup\", \"Product\", \"Product\", \"Product\", \"Product\", \"Startup\", \"Product\", \"Product\", \"Startup\", \"Product\", \"Product\", \"Retail\", \"Consulting / Agency\", \"Startup\", \"Consulting / Agency\", null, \"Startup\", \"Product\", \"Product\", \"Product\", \"Product\", \"Ecommerce\", \"Consulting / Agency\", \"Product\", \"Product\", \"Startup\", \"Product\", \"Product\", \"Product\", \"E-Commerce\", \"Product\", \"Product\", \"Product\", \"Product\", \"Product\", \"Product\", \"Product\", \"Startup\", \"Startup\", \"Product\", \"Product\", \"Product\", \"Startup\", \"Product\", \"Product\", \"Consulting / Agency\", \"Startup\", \"Consulting / Agency\", \"Product\", \"Product\", \"Product\", \"Product\", \"Product\", \"Consulting / Agency\", \"Product\", \"Product\", \"Product\", \"Startup\", \"Product\", \"Product\", \"Product\", \"Product\", \"Product\", \"Product\", \"Product\", \"Product\", \"Product\", \"Startup\", \"Product\", \"Consulting / Agency\", \"Startup\", \"Product\", \"Product\", \"Startup\", \"Product\", \"Consulting / Agency\", \"Product\", \"Consulting / Agency\", \"Product\", \"Product\", \"Startup\", \"Product\", \"Consulting / Agency\", \"Startup\", \"Product\", \"Product\", \"Consulting / Agency\", \"Product\", \"Product\", \"Consulting / Agency\", \"Consulting / Agency\", \"Startup\", \"Consulting / Agency\", \"Product\", \"Product\", null, \"Consulting / Agency\", \"Semiconductor\", \"Startup\", \"Product\", \"Media\", \"Product\", \"Product\", \"Product\", \"Consulting / Agency\", \"Product\", \"Startup\", \"Consulting / Agency\", \"Product\", \"Startup\", \"Consulting / Agency\", \"Consulting / Agency\", \"Product\", \"Startup\", \"Product\", \"Product\", \"Product\", \"Product\", \"Product\", \"Consulting / Agency\", \"Product\", \"Product\", \"Product\", \"Startup\", \"Consulting / Agency\", \"Product\", null, \"Product\", \"Consulting / Agency\", \"Product\", \"Product\", \"Consulting / Agency\", \"Product\", \"Product\", \"Startup\", \"Product\", \"Startup\", \"Product\", \"Product\", \"Consulting / Agency\", \"Automotive \", \"Startup\", \"Product\", \"Product\", \"Product\", \"Product\", \"Startup\", \"Product\", \"Consulting / Agency\", null, \"Product\", \"Product\", \"Startup\", \"Product\", \"Utilities\", \"Consulting / Agency\", \"Product\", \"Institute\", \"Startup\", \"Product\", \"Product\", \"Product\", \"Startup\", \"Product\", \"Startup\", \"Startup\", \"Finance\", \"Product\", \"Consulting / Agency\", \"Product\", \"Fintech\", \"Product\", \"Handel \", \"Consulting and Product\", \"Consulting / Agency\", \"Consulting / Agency\", \"Product\", \"Product\", \"Product\", \"Product\", \"Startup\", \"Product\", \"Product\", \"Consulting / Agency\", \"Product\", \"Startup\", \"Startup\", \"Startup\", \"Product\", \"Consulting / Agency\", \"Startup\", \"Product\", \"Consulting / Agency\", \"Education\", \"Product\", \"Product\", \"Product\", \"Startup\", \"Product\", \"Product\", \"Consulting / Agency\", \"Product\", \"Product\", \"Product\", \"Startup\", \"Startup\", \"Consulting / Agency\", \"Product\", \"Startup\", \"Consulting / Agency\", \"Startup\", \"Startup\", \"Pharma\", \"Product\", \"Product\", \"Startup\", \"Startup\", \"Startup\", \"Full-time position in Education, part-time position in at a data startup\", \"Product\", \"Startup\", \"Startup\", \"Startup\", \"Startup\", \"Startup\", \"Startup\", \"Product\", \"Startup\", \"Product\", \"Startup\", \"Product\", \"Startup\", \"Product\", \"Product\", \"Product\", \"Startup\", \"Product\", \"Bank\", \"Corporation \", \"Product\", \"Product\", \"Product\", \"Startup\", \"Product\", \"Product\", \"Product\", \"Transport & Logistics\", \"Product\", \"Product\", \"Product\", \"Consulting / Agency\", \"Product\", \"Product\", \"Product\", \"Product\", \"Product\", \"Product\", \"Startup\", \"Consulting / Agency\", \"Product\", \"Product\", \"Product\", \"Biergarten \", \"Product\", \"Startup\", \"Product\", \"Product\", \"Product\", \"Product\", \"Non-tech retail\", \"Product\", \"Product\", \"Consulting / Agency\", \"Startup\", \"Product\", \"Consulting / Agency\", \"Startup\", \"Finance\", \"Product\", null, \"Research\", \"Research\", \"Product\", \"Product\", \"Consulting / Agency\", \"Product\", \"Product\", \"Product\", \"Product\", \"Product\", \"Product\", \"Product\", \"Startup\", \"Product\", \"Product\", \"Product\", \"Startup\", \"Product\", \"Product\", \"Product\", \"Product\", \"Product\", \"Product\", \"Startup\", \"Product\", \"Product\", \"Product\", \"Startup\", \"Startup\", \"Product\", \"Startup\", \"Consulting / Agency\", \"Product\", \"Startup\", \"Startup\", \"Product\", \"Consulting / Agency\", \"Product\", \"Product\", \"Startup\", \"Consulting / Agency\", \"Product\", \"Product\", \"Product\", \"corporate incubator\", \"Startup\", \"Product\", \"Consulting / Agency\", \"Consulting / Agency\", \"Multinational \", \"Product\", \"Product\", \"Startup\", \"Product\", \"Product\", \"Startup\", \"Product\", \"Product\", \"Industry\", \"Consulting / Agency\", \"Product\", \"Consulting / Agency\", \"Product\", \"Startup\", \"Bank\", \"Product\", \"Product\", \"Product\", \"Consulting / Agency\", \"Product\", \"Product\", \"Product\", \"Product\", \"Startup\", \"Consulting / Agency\", \"Product\", \"Product\", \"Product\", \"Product\", \"Consulting / Agency\", \"Product\", \"Product\", \"Product\", \"Product\", \"Product\", \"FAANG\", \"Consulting / Agency\", \"Consulting / Agency\", \"Product\", \"Startup\", \"Product\", \"Product\", \"Consulting / Agency\", \"Product\", \"Product\", \"Consulting / Agency\", \"Product\", \"Startup\", \"Startup\", \"Product\", \"Consulting / Agency\", \"Product\", \"Old industry\", \"Product\", \"Product\", \"Product\", \"Consulting / Agency\", \"Product\", \"Product\", \"Product\", \"Product\", \"Startup\", \"Product\", \"Product\", \"Startup\", \"Startup\", \"Product\", \"Startup\", \"Startup\", \"Startup\", \"Consulting / Agency\", \"Product\", \"Product\", \"Startup\", \"Product\", \"Startup\", \"Product\", \"Product\", \"Product\", \"Product\", \"Product\", \"Consulting / Agency\", \"Product\", \"Product\", \"Product\", \"Startup\", \"Product\", \"Startup\", \"Product\", \"Product\", \"Product\", \"Product\", \"Product\", \"Product\", \"Product\", null, null, \"Consulting / Agency\", \"Consulting / Agency\", \"Product\", \"Startup\", \"Product\", \"Product\", \"Startup\", \"Product\", \"Product\", \"Consulting / Agency\", \"Consulting / Agency\", \"Startup\", \"Consulting / Agency\", \"Product\", \"Consulting / Agency\", \"Startup\", \"Consulting / Agency\", \"Consulting / Agency\", \"Startup\", \"Product\", \"Product\", \"Outsourse\", \"Startup\", \"Product\", \"Product\", \"Product\", null, \"Startup\", \"Product\", \"Product\", \"Product\", \"Product\", \"Product\", \"Product\", \"Startup\", \"Product\", \"Product\", \"Startup\", \"Product\", \"Product\", \"Consulting / Agency\", \"freelance\", \"Startup\", \"Product\", \"Consulting / Agency\", \"Startup\", \"Product\", \"Product\", \"Product\", null, \"Consulting / Agency\", \"Product\", \"Product\", \"Product\", \"Product\", \"Product\", \"Product\", \"Product\", \"Product\", \"Product\", \"Product\", \"Product\", \"Startup\", \"Product\", \"Product\", \"Startup\", \"Product\", \"Product\", \"eCommerce\", \"Product\", \"Startup\"], \"type\": \"scatter\", \"x\": [\"0\", \"0.8\", \"1\", \"1 (as QA Engineer) / 11 in total\", \"1,5\", \"1.5\", \"10\", \"11\", \"12\", \"13\", \"14\", \"15\", \"15, thereof 8 as CTO\", \"16\", \"17\", \"18\", \"19\", \"2\", \"2,5\", \"2.5\", \"20\", \"21\", \"22\", \"23\", \"24\", \"25\", \"26\", \"27\", \"28\", \"29\", \"3\", \"3.5\", \"30\", \"31\", \"383\", \"4\", \"4.5\", \"40\", \"5\", \"5.5\", \"6\", \"6 (not as a data scientist, but as a lab scientist)\", \"6.5\", \"7\", \"7.5\", \"8\", \"9\", \"less than year\"], \"y\": [44000.0, 29750.0, 48000.0, 60000.0, 48000.0, 53925.0, 75000.0, 75000.0, 75000.0, 83000.0, 80000.0, 78000.0, 150000.0, 83000.0, 76000.0, 85500.0, 87000.0, 50000.0, 40000.0, 60000.0, 80000.0, 80000.0, 70000.0, 100000.0, 130000.0, 75000.0, 93000.0, 73500.0, 78500.0, 28800.0, 56000.0, 62500.0, 64500.0, 110000.0, 70000.0, 60000.0, 67500.0, 70000.0, 65000.0, 48000.0, 68000.0, 57000.0, 58000.0, 70000.0, 68000.0, 68000.0, 74000.0, 16320.0]}, {\"marker\": {\"color\": \"rgba(16, 112, 2, 0.8)\"}, \"mode\": \"lines\", \"name\": \"2020\", \"text\": [\"Product\", \"Product\", \"Product\", \"Startup\", \"Product\", \"Startup\", \"Product\", \"Product\", \"Product\", \"Product\", \"Consulting / Agency\", \"Product\", null, \"Startup\", \"Product\", \"Consulting / Agency\", \"Product\", \"Startup\", \"Product\", \"Product\", \"Product\", \"Product\", \"Product\", \"Product\", \"Product\", \"Product\", \"Product\", \"Media\", \"Product\", \"Product\", \"Product\", \"Startup\", \"Startup\", \"Startup\", \"Product\", \"Product\", \"Product\", \"Product\", \"Startup\", \"Startup\", \"Product\", \"Product\", \"Product\", \"Product\", \"Product\", \"Product\", \"Product\", \"Product\", \"Product\", \"Startup\", \"Product\", \"Product\", \"Startup\", \"Product\", \"Product\", null, \"Product\", \"Product\", \"Product\", \"Product\", \"Consulting / Agency\", \"Product\", \"Product\", \"Product\", \"Consulting / Agency\", \"Product\", \"Consulting / Agency\", \"Product\", \"Personal Ltd\", \"Startup\", \"Startup\", \"Product\", \"Consulting / Agency\", \"Product\", \"Startup\", \"Product\", \"Product\", \"Consulting / Agency\", \"Startup\", \"Product\", \"Product\", \"Startup\", \"Product\", \"Product\", \"Product\", \"Product\", \"Startup\", \"Product\", \"Startup\", \"Product\", \"Product\", \"Product\", \"Product\", \"Product\", \"Consulting / Agency\", \"Product\", \"Product\", \"Product\", \"Product\", \"Product\", \"Product\", \"Product\", \"Product\", \"Startup\", \"Product\", \"Startup\", \"Product\", \"Product\", \"Product\", \"Product\", \"Product\", \"Startup\", \"Product\", \"Product\", \"Startup\", \"Product\", \"Product\", \"Product\", \"Consulting / Agency\", \"Product\", \"Product\", \"Product\", \"Startup\", \"Product\", \"Product\", \"Product\", \"Startup\", \"Product\", \"Startup\", \"Product\", \"Startup\", \"Consulting / Agency\", \"Product\", \"Product\", \"Product\", \"Product\", \"Product\", \"Product\", \"Startup\", \"Product\", \"Product\", \"Cloud\", \"Product\", \"Startup\", \"Product\", \"Product\", \"Product\", \"Product\", \"Consulting / Agency\", \"Product\", \"Startup\", \"Product\", \"Startup\", \"Beh\\u00f6rde\", \"Product\", \"Product\", \"Product\", \"Product\", \"Product\", \"Consulting / Agency\", \"Consulting / Agency\", \"Product\", \"Startup\", \"Product\", \"Startup\", \"Startup\", \"Product\", \"Startup\", \"Consulting / Agency\", \"Product\", \"Product\", \"Consulting / Agency\", \"Startup\", \"Product\", \"Product\", \"Product\", \"Startup\", \"Product\", \"Product\", \"Startup\", \"Product\", \"Product\", \"Product\", \"Construction\", \"Product\", \"Product\", \"Product\", \"Product\", \"Product\", \"Product\", \"Startup\", \"Product\", \"Consulting / Agency\", \"Product\", \"Product\", \"Product\", \"Product\", \"Product\", \"Product\", \"Product\", \"Product\", \"Product\", \"Product\", \"Startup\", \"Consulting / Agency\", \"Product\", \"Big commercial\", \"Product\", \"Product\", \"Product\", \"Product\", \"Product\", \"Startup\", \"Product\", \"Startup\", \"Product\", \"Product\", \"Product\", \"Product\", \"Product\", \"Product\", \"Consulting / Agency\", \"Product\", \"Product\", \"Startup\", \"Product\", \"Consulting / Agency\", \"Product\", \"Product\", \"Consulting / Agency\", \"Consulting / Agency\", \"Consulting / Agency\", \"Product\", \"Product\", \"Product\", \"Product\", \"Outsorce\", \"Product\", \"Product\", \"Product\", \"Product\", \"Product\", \"Product\", \"Startup\", \"Consulting / Agency\", \"Bank \", \"Product\", \"Consulting / Agency\", \"Fintech\", \"Automotive\", \"Product\", \"Product\", \"Consulting / Agency\", \"Product\", \"Startup\", \"Consulting / Agency\", \"Product\", \"Startup\", \"Product\", \"Bank\", \"Product\", \"Startup\", \"Product\", \"Startup\", \"Product\", \"Startup\", null, \"Product\", \"Product\", \"Consulting / Agency\", \"Product\", \"IT Department of established business\", \"Product\", \"Startup\", \"Startup\", \"Product\", \"Telecommunications\", \"Product\", \"Product\", \"Product\", \"Startup\", null, \"Product\", \"Consulting / Agency\", \"Product\", \"Product\", \"Product\", \"Startup\", \"Startup\", \"Product\", \"Product\", \"Product\", \"Product\", \"Media\", \"Startup\", \"Product\", \"Product\", \"Product\", \"Product\", \"Product\", \"Product\", \"Product\", \"Product\", \"Product\", \"Product\", \"E-commerce\", \"Startup\", \"Product\", \"Startup\", \"Product\", \"Product\", \"Product\", \"Product\", \"Product\", \"Product\", \"Startup\", \"Product\", \"Consulting / Agency\", \"Product\", \"Product\", \"Product\", \"Product\", \"Product\", \"Product\", \"Product\", \"Product\", \"Product\", \"Consulting / Agency\", \"Product\", \"Product\", \"Product\", \"Product\", \"Product\", \"Bank\", \"Startup\", \"Product\", \"Product\", \"Product\", \"Product\", \"Startup\", null, \"Product\", \"Consulting / Agency\", \"Startup\", \"Consulting / Agency\", \"Consulting / Agency\", \"Product\", \"Product\", \"Product\", \"Systemhaus\", \"Consulting / Agency\", \"Product\", \"Product\", \"Product\", \"Product\", \"Product\", \"Product\", \"Consulting / Agency\", \"Product\", \"Product\", null, \"Consulting / Agency\", \"Product\", \"Startup\", \"Product\", \"Startup\", \"University\", \"Product\", \"Product\", \"Product\", \"Product\", \"Consulting / Agency\", \"Product\", \"Consulting / Agency\", \"Product\", \"Product\", \"Startup\", \"Product\", null, \"Product\", \"Product\", \"Startup\", \"Consulting / Agency\", \"Product\", \"Product\", \"Consulting / Agency\", \"Startup\", \"Product\", \"Startup\", \"Product\", \"Startup\", \"Startup\", \"Consulting / Agency\", \"Product\", \"Product\", \"Product\", \"Startup\", \"Product\", \"consumer goods\", \"Startup\", \"Product\", \"Product\", \"Product\", \"IT-Outsourcing\", \"Product\", null, \"Product\", \"Product\", \"Startup\", \"Product\", \"Product\", \"Product\", \"Startup\", \"Product\", \"Startup\", \"Product\", \"Product\", \"Startup\", \"Product\", \"Startup\", \"Product\", \"Product\", \"Startup\", \"Product\", \"Product\", \"Startup\", \"Consulting / Agency\", \"Product\", \"Startup\", \"Startup\", null, \"Product\", \"Startup\", \"Product\", \"Product\", \"Startup\", \"Product\", \"Startup\", \"Product\", \"Product\", \"Product\", \"Product\", \"Product\", \"Game Company\", \"Product\", \"Product\", \"Product\", \"Product\", \"Startup\", \"Consulting / Agency\", \"Startup\", \"Product\", \"Product\", \"Consulting / Agency\", \"Product\", \"Product\", \"Financial \", \"Product\", \"Product\", \"Startup\", \"Product\", \"Startup\", \"Product\", \"Consulting / Agency\", \"Consulting / Agency\", \"Product\", \"Product\", \"Product\", \"Product\", \"Consulting / Agency\", \"E-commerce\", \"Product\", \"Startup\", null, \"Product\", \"Product\", \"Startup\", \"Corporation\", \"Startup\", null, \"Product\", \"Product\", \"Product\", \"Publishing and Technology\", \"Product\", \"Startup\", \"Startup\", \"Startup\", \"Product\", \"Product\", \"Product\", \"Startup\", \"Product\", \"Startup\", \"Product\", \"Product\", \"Startup\", \"Startup\", \"Startup\", \"Consulting / Agency\", \"Consulting / Agency\", \"Startup\", \"Product\", \"Startup\", \"Product\", \"Market Research \", \"Consulting / Agency\", \"Startup\", \"Consulting / Agency\", \"Consulting / Agency\", \"Startup\", \"Product\", \"Product\", \"Product\", \"Consulting / Agency\", \"Product\", \"Product\", \"Product\", \"Startup\", \"e-commerce\", \"Product\", \"Product\", \"Product\", \"Product\", \"Startup\", \"Product\", \"Product\", null, \"Product\", null, \"Product\", \"Product\", \"SaaS\", \"Startup\", \"Product\", \"Product\", \"Startup\", \"Startup\", \"Startup\", \"Product\", \"Product\", \"Product\", \"Startup\", \"Consulting / Agency\", \"Consulting / Agency\", \"Startup\", \"Startup\", \"Startup\", \"Product\", \"Product\", \"Product\", \"Product\", \"Product\", \"Product\", \"Product\", \"Startup\", \"Product\", \"Startup\", \"Product\", \"Startup\", \"Startup\", \"Product\", \"Product\", \"Product\", \"Product\", \"Product\", \"Product\", \"Product\", \"Consulting / Agency\", \"Product\", \"Startup\", \"Publisher\", \"Product\", \"Startup\", \"Consulting / Agency\", \"E-commerce\", \"Startup\", \"Product\", \"Consulting / Agency\", \"Startup\", \"Product\", \"Startup\", \"Product\", \"Product\", \"Product\", \"Startup\", \"Product\", \"University\", \"Product\", \"Product\", \"Product\", \"Product\", \"Product\", \"Startup\", \"Product\", \"Product\", \"Product\", \"Product\", \"Energy \", \"Startup\", \"Product\", \"Product\", \"Product\", \"Product\", \"Product\", \"Product\", \"Startup\", \"Product\", \"Product\", \"Product\", \"Startup\", \"Startup\", \"Startup\", \"Product\", \"Startup\", \"Product\", \"Product\", \"Product\", \"Product\", \"Product\", \"Enterprise\", \"Product\", \"Product\", \"Startup\", \"Product\", \"Product\", \"Product\", \"Product\", \"Consulting / Agency\", \"Consulting / Agency\", \"Product\", \"Product\", \"Startup\", \"Consulting / Agency\", \"Bloody enterprise\", \"service\", \"Startup\", \"Product\", \"Product\", \"Startup\", \"Consulting / Agency\", \"Concern\", \"Startup\", \"Product\", \"Consulting / Agency\", \"Product\", \"Product\", \"Product\", \"Product\", \"Product\", \"Startup\", \"Product\", \"Product\", \"Product\", \"Utilities\", \"Product\", \"Product\", \"Product\", \"Startup\", \"Product\", \"Bank\", \"Product\", \"Product\", \"Product\", \"Product\", \"Product\", \"Product\", \"Product\", \"Product\", \"Startup\", \"Product\", \"Product\", \"Product\", \"Consulting / Agency\", \"Product\", \"Product\", \"Product\", \"Product\", null, \"Product\", \"Product\", \"Product\", \"Product\", \"Product\", \"Product\", \"Product\", \"Startup\", \"Consulting / Agency\", \"Product\", \"Product\", \"Product\", \"Corporation\", \"Startup\", \"Product\", \"Product\", \"Product\", \"Startup\", \"Consulting / Agency\", \"Product\", \"Product\", \"Product\", \"Startup\", null, \"Product\", \"Product\", \"Product\", \"Startup\", \"Consulting / Agency\", \"Product\", \"Product\", \"Product\", \"Product\", \"Product\", \"Startup\", null, \"Product\", \"Product\", \"Insurance\", \"Consulting / Agency\", \"Startup\", \"Consulting / Agency\", \"Startup\", \"Product\", \"Product\", \"Product\", \"Consulting / Agency\", \"Product\", \"Product\", \"Product\", \"Product\", \"Consulting / Agency\", \"Product\", \"Product\", \"Consulting / Agency\", \"Product\", \"Product\", \"Product\", \"Startup\", \"Product\", \"Startup\", \"Product\", \"Startup\", \"Product\", \"Consulting / Agency\", \"Product\", \"Startup\", \"Startup\", \"Product\", \"Startup\", \"Product\", \"Science Institute \", \"Product\", \"Research institute\", \"Startup\", \"Product\", \"Startup\", \"Product\", \"Product\", \"Product\", \"Product\", \"Startup\", \"Product\", \"Product\", \"Startup\", \"Product\", \"Product\", \"Retail\", \"Consulting / Agency\", \"Startup\", \"Consulting / Agency\", null, \"Startup\", \"Product\", \"Product\", \"Product\", \"Product\", \"Ecommerce\", \"Consulting / Agency\", \"Product\", \"Product\", \"Startup\", \"Product\", \"Product\", \"Product\", \"E-Commerce\", \"Product\", \"Product\", \"Product\", \"Product\", \"Product\", \"Product\", \"Product\", \"Startup\", \"Startup\", \"Product\", \"Product\", \"Product\", \"Startup\", \"Product\", \"Product\", \"Consulting / Agency\", \"Startup\", \"Consulting / Agency\", \"Product\", \"Product\", \"Product\", \"Product\", \"Product\", \"Consulting / Agency\", \"Product\", \"Product\", \"Product\", \"Startup\", \"Product\", \"Product\", \"Product\", \"Product\", \"Product\", \"Product\", \"Product\", \"Product\", \"Product\", \"Startup\", \"Product\", \"Consulting / Agency\", \"Startup\", \"Product\", \"Product\", \"Startup\", \"Product\", \"Consulting / Agency\", \"Product\", \"Consulting / Agency\", \"Product\", \"Product\", \"Startup\", \"Product\", \"Consulting / Agency\", \"Startup\", \"Product\", \"Product\", \"Consulting / Agency\", \"Product\", \"Product\", \"Consulting / Agency\", \"Consulting / Agency\", \"Startup\", \"Consulting / Agency\", \"Product\", \"Product\", null, \"Consulting / Agency\", \"Semiconductor\", \"Startup\", \"Product\", \"Media\", \"Product\", \"Product\", \"Product\", \"Consulting / Agency\", \"Product\", \"Startup\", \"Consulting / Agency\", \"Product\", \"Startup\", \"Consulting / Agency\", \"Consulting / Agency\", \"Product\", \"Startup\", \"Product\", \"Product\", \"Product\", \"Product\", \"Product\", \"Consulting / Agency\", \"Product\", \"Product\", \"Product\", \"Startup\", \"Consulting / Agency\", \"Product\", null, \"Product\", \"Consulting / Agency\", \"Product\", \"Product\", \"Consulting / Agency\", \"Product\", \"Product\", \"Startup\", \"Product\", \"Startup\", \"Product\", \"Product\", \"Consulting / Agency\", \"Automotive \", \"Startup\", \"Product\", \"Product\", \"Product\", \"Product\", \"Startup\", \"Product\", \"Consulting / Agency\", null, \"Product\", \"Product\", \"Startup\", \"Product\", \"Utilities\", \"Consulting / Agency\", \"Product\", \"Institute\", \"Startup\", \"Product\", \"Product\", \"Product\", \"Startup\", \"Product\", \"Startup\", \"Startup\", \"Finance\", \"Product\", \"Consulting / Agency\", \"Product\", \"Fintech\", \"Product\", \"Handel \", \"Consulting and Product\", \"Consulting / Agency\", \"Consulting / Agency\", \"Product\", \"Product\", \"Product\", \"Product\", \"Startup\", \"Product\", \"Product\", \"Consulting / Agency\", \"Product\", \"Startup\", \"Startup\", \"Startup\", \"Product\", \"Consulting / Agency\", \"Startup\", \"Product\", \"Consulting / Agency\", \"Education\", \"Product\", \"Product\", \"Product\", \"Startup\", \"Product\", \"Product\", \"Consulting / Agency\", \"Product\", \"Product\", \"Product\", \"Startup\", \"Startup\", \"Consulting / Agency\", \"Product\", \"Startup\", \"Consulting / Agency\", \"Startup\", \"Startup\", \"Pharma\", \"Product\", \"Product\", \"Startup\", \"Startup\", \"Startup\", \"Full-time position in Education, part-time position in at a data startup\", \"Product\", \"Startup\", \"Startup\", \"Startup\", \"Startup\", \"Startup\", \"Startup\", \"Product\", \"Startup\", \"Product\", \"Startup\", \"Product\", \"Startup\", \"Product\", \"Product\", \"Product\", \"Startup\", \"Product\", \"Bank\", \"Corporation \", \"Product\", \"Product\", \"Product\", \"Startup\", \"Product\", \"Product\", \"Product\", \"Transport & Logistics\", \"Product\", \"Product\", \"Product\", \"Consulting / Agency\", \"Product\", \"Product\", \"Product\", \"Product\", \"Product\", \"Product\", \"Startup\", \"Consulting / Agency\", \"Product\", \"Product\", \"Product\", \"Biergarten \", \"Product\", \"Startup\", \"Product\", \"Product\", \"Product\", \"Product\", \"Non-tech retail\", \"Product\", \"Product\", \"Consulting / Agency\", \"Startup\", \"Product\", \"Consulting / Agency\", \"Startup\", \"Finance\", \"Product\", null, \"Research\", \"Research\", \"Product\", \"Product\", \"Consulting / Agency\", \"Product\", \"Product\", \"Product\", \"Product\", \"Product\", \"Product\", \"Product\", \"Startup\", \"Product\", \"Product\", \"Product\", \"Startup\", \"Product\", \"Product\", \"Product\", \"Product\", \"Product\", \"Product\", \"Startup\", \"Product\", \"Product\", \"Product\", \"Startup\", \"Startup\", \"Product\", \"Startup\", \"Consulting / Agency\", \"Product\", \"Startup\", \"Startup\", \"Product\", \"Consulting / Agency\", \"Product\", \"Product\", \"Startup\", \"Consulting / Agency\", \"Product\", \"Product\", \"Product\", \"corporate incubator\", \"Startup\", \"Product\", \"Consulting / Agency\", \"Consulting / Agency\", \"Multinational \", \"Product\", \"Product\", \"Startup\", \"Product\", \"Product\", \"Startup\", \"Product\", \"Product\", \"Industry\", \"Consulting / Agency\", \"Product\", \"Consulting / Agency\", \"Product\", \"Startup\", \"Bank\", \"Product\", \"Product\", \"Product\", \"Consulting / Agency\", \"Product\", \"Product\", \"Product\", \"Product\", \"Startup\", \"Consulting / Agency\", \"Product\", \"Product\", \"Product\", \"Product\", \"Consulting / Agency\", \"Product\", \"Product\", \"Product\", \"Product\", \"Product\", \"FAANG\", \"Consulting / Agency\", \"Consulting / Agency\", \"Product\", \"Startup\", \"Product\", \"Product\", \"Consulting / Agency\", \"Product\", \"Product\", \"Consulting / Agency\", \"Product\", \"Startup\", \"Startup\", \"Product\", \"Consulting / Agency\", \"Product\", \"Old industry\", \"Product\", \"Product\", \"Product\", \"Consulting / Agency\", \"Product\", \"Product\", \"Product\", \"Product\", \"Startup\", \"Product\", \"Product\", \"Startup\", \"Startup\", \"Product\", \"Startup\", \"Startup\", \"Startup\", \"Consulting / Agency\", \"Product\", \"Product\", \"Startup\", \"Product\", \"Startup\", \"Product\", \"Product\", \"Product\", \"Product\", \"Product\", \"Consulting / Agency\", \"Product\", \"Product\", \"Product\", \"Startup\", \"Product\", \"Startup\", \"Product\", \"Product\", \"Product\", \"Product\", \"Product\", \"Product\", \"Product\", null, null, \"Consulting / Agency\", \"Consulting / Agency\", \"Product\", \"Startup\", \"Product\", \"Product\", \"Startup\", \"Product\", \"Product\", \"Consulting / Agency\", \"Consulting / Agency\", \"Startup\", \"Consulting / Agency\", \"Product\", \"Consulting / Agency\", \"Startup\", \"Consulting / Agency\", \"Consulting / Agency\", \"Startup\", \"Product\", \"Product\", \"Outsourse\", \"Startup\", \"Product\", \"Product\", \"Product\", null, \"Startup\", \"Product\", \"Product\", \"Product\", \"Product\", \"Product\", \"Product\", \"Startup\", \"Product\", \"Product\", \"Startup\", \"Product\", \"Product\", \"Consulting / Agency\", \"freelance\", \"Startup\", \"Product\", \"Consulting / Agency\", \"Startup\", \"Product\", \"Product\", \"Product\", null, \"Consulting / Agency\", \"Product\", \"Product\", \"Product\", \"Product\", \"Product\", \"Product\", \"Product\", \"Product\", \"Product\", \"Product\", \"Product\", \"Startup\", \"Product\", \"Product\", \"Startup\", \"Product\", \"Product\", \"eCommerce\", \"Product\", \"Startup\"], \"type\": \"scatter\", \"x\": [\"0\", \"0.8\", \"1\", \"1 (as QA Engineer) / 11 in total\", \"1,5\", \"1.5\", \"10\", \"11\", \"12\", \"13\", \"14\", \"15\", \"15, thereof 8 as CTO\", \"16\", \"17\", \"18\", \"19\", \"2\", \"2,5\", \"2.5\", \"20\", \"21\", \"22\", \"23\", \"24\", \"25\", \"26\", \"27\", \"28\", \"29\", \"3\", \"3.5\", \"30\", \"31\", \"383\", \"4\", \"4.5\", \"40\", \"5\", \"5.5\", \"6\", \"6 (not as a data scientist, but as a lab scientist)\", \"6.5\", \"7\", \"7.5\", \"8\", \"9\", \"less than year\"], \"y\": [44000.0, 29750.0, 48000.0, 60000.0, 48000.0, 53925.0, 75000.0, 75000.0, 75000.0, 83000.0, 80000.0, 78000.0, 150000.0, 83000.0, 76000.0, 85500.0, 87000.0, 50000.0, 40000.0, 60000.0, 80000.0, 80000.0, 70000.0, 100000.0, 130000.0, 75000.0, 93000.0, 73500.0, 78500.0, 28800.0, 56000.0, 62500.0, 64500.0, 110000.0, 70000.0, 60000.0, 67500.0, 70000.0, 65000.0, 48000.0, 68000.0, 57000.0, 58000.0, 70000.0, 68000.0, 68000.0, 74000.0, 16320.0]}],                        {\"template\": {\"data\": {\"bar\": [{\"error_x\": {\"color\": \"#2a3f5f\"}, \"error_y\": {\"color\": \"#2a3f5f\"}, \"marker\": {\"line\": {\"color\": \"#E5ECF6\", \"width\": 0.5}}, \"type\": \"bar\"}], \"barpolar\": [{\"marker\": {\"line\": {\"color\": \"#E5ECF6\", \"width\": 0.5}}, \"type\": \"barpolar\"}], \"carpet\": [{\"aaxis\": {\"endlinecolor\": \"#2a3f5f\", \"gridcolor\": \"white\", \"linecolor\": \"white\", \"minorgridcolor\": \"white\", \"startlinecolor\": \"#2a3f5f\"}, \"baxis\": {\"endlinecolor\": \"#2a3f5f\", \"gridcolor\": \"white\", \"linecolor\": \"white\", \"minorgridcolor\": \"white\", \"startlinecolor\": \"#2a3f5f\"}, \"type\": \"carpet\"}], \"choropleth\": [{\"colorbar\": {\"outlinewidth\": 0, \"ticks\": \"\"}, \"type\": \"choropleth\"}], \"contour\": [{\"colorbar\": {\"outlinewidth\": 0, \"ticks\": \"\"}, \"colorscale\": [[0.0, \"#0d0887\"], [0.1111111111111111, \"#46039f\"], [0.2222222222222222, \"#7201a8\"], [0.3333333333333333, \"#9c179e\"], [0.4444444444444444, \"#bd3786\"], [0.5555555555555556, \"#d8576b\"], [0.6666666666666666, \"#ed7953\"], [0.7777777777777778, \"#fb9f3a\"], [0.8888888888888888, \"#fdca26\"], [1.0, \"#f0f921\"]], \"type\": \"contour\"}], \"contourcarpet\": [{\"colorbar\": {\"outlinewidth\": 0, \"ticks\": \"\"}, \"type\": \"contourcarpet\"}], \"heatmap\": [{\"colorbar\": {\"outlinewidth\": 0, \"ticks\": \"\"}, \"colorscale\": [[0.0, \"#0d0887\"], [0.1111111111111111, \"#46039f\"], [0.2222222222222222, \"#7201a8\"], [0.3333333333333333, \"#9c179e\"], [0.4444444444444444, \"#bd3786\"], [0.5555555555555556, \"#d8576b\"], [0.6666666666666666, \"#ed7953\"], [0.7777777777777778, \"#fb9f3a\"], [0.8888888888888888, \"#fdca26\"], [1.0, \"#f0f921\"]], \"type\": \"heatmap\"}], \"heatmapgl\": [{\"colorbar\": {\"outlinewidth\": 0, \"ticks\": \"\"}, \"colorscale\": [[0.0, \"#0d0887\"], [0.1111111111111111, \"#46039f\"], [0.2222222222222222, \"#7201a8\"], [0.3333333333333333, \"#9c179e\"], [0.4444444444444444, \"#bd3786\"], [0.5555555555555556, \"#d8576b\"], [0.6666666666666666, \"#ed7953\"], [0.7777777777777778, \"#fb9f3a\"], [0.8888888888888888, \"#fdca26\"], [1.0, \"#f0f921\"]], \"type\": \"heatmapgl\"}], \"histogram\": [{\"marker\": {\"colorbar\": {\"outlinewidth\": 0, \"ticks\": \"\"}}, \"type\": \"histogram\"}], \"histogram2d\": [{\"colorbar\": {\"outlinewidth\": 0, \"ticks\": \"\"}, \"colorscale\": [[0.0, \"#0d0887\"], [0.1111111111111111, \"#46039f\"], [0.2222222222222222, \"#7201a8\"], [0.3333333333333333, \"#9c179e\"], [0.4444444444444444, \"#bd3786\"], [0.5555555555555556, \"#d8576b\"], [0.6666666666666666, \"#ed7953\"], [0.7777777777777778, \"#fb9f3a\"], [0.8888888888888888, \"#fdca26\"], [1.0, \"#f0f921\"]], \"type\": \"histogram2d\"}], \"histogram2dcontour\": [{\"colorbar\": {\"outlinewidth\": 0, \"ticks\": \"\"}, \"colorscale\": [[0.0, \"#0d0887\"], [0.1111111111111111, \"#46039f\"], [0.2222222222222222, \"#7201a8\"], [0.3333333333333333, \"#9c179e\"], [0.4444444444444444, \"#bd3786\"], [0.5555555555555556, \"#d8576b\"], [0.6666666666666666, \"#ed7953\"], [0.7777777777777778, \"#fb9f3a\"], [0.8888888888888888, \"#fdca26\"], [1.0, \"#f0f921\"]], \"type\": \"histogram2dcontour\"}], \"mesh3d\": [{\"colorbar\": {\"outlinewidth\": 0, \"ticks\": \"\"}, \"type\": \"mesh3d\"}], \"parcoords\": [{\"line\": {\"colorbar\": {\"outlinewidth\": 0, \"ticks\": \"\"}}, \"type\": \"parcoords\"}], \"pie\": [{\"automargin\": true, \"type\": \"pie\"}], \"scatter\": [{\"marker\": {\"colorbar\": {\"outlinewidth\": 0, \"ticks\": \"\"}}, \"type\": \"scatter\"}], \"scatter3d\": [{\"line\": {\"colorbar\": {\"outlinewidth\": 0, \"ticks\": \"\"}}, \"marker\": {\"colorbar\": {\"outlinewidth\": 0, \"ticks\": \"\"}}, \"type\": \"scatter3d\"}], \"scattercarpet\": [{\"marker\": {\"colorbar\": {\"outlinewidth\": 0, \"ticks\": \"\"}}, \"type\": \"scattercarpet\"}], \"scattergeo\": [{\"marker\": {\"colorbar\": {\"outlinewidth\": 0, \"ticks\": \"\"}}, \"type\": \"scattergeo\"}], \"scattergl\": [{\"marker\": {\"colorbar\": {\"outlinewidth\": 0, \"ticks\": \"\"}}, \"type\": \"scattergl\"}], \"scattermapbox\": [{\"marker\": {\"colorbar\": {\"outlinewidth\": 0, \"ticks\": \"\"}}, \"type\": \"scattermapbox\"}], \"scatterpolar\": [{\"marker\": {\"colorbar\": {\"outlinewidth\": 0, \"ticks\": \"\"}}, \"type\": \"scatterpolar\"}], \"scatterpolargl\": [{\"marker\": {\"colorbar\": {\"outlinewidth\": 0, \"ticks\": \"\"}}, \"type\": \"scatterpolargl\"}], \"scatterternary\": [{\"marker\": {\"colorbar\": {\"outlinewidth\": 0, \"ticks\": \"\"}}, \"type\": \"scatterternary\"}], \"surface\": [{\"colorbar\": {\"outlinewidth\": 0, \"ticks\": \"\"}, \"colorscale\": [[0.0, \"#0d0887\"], [0.1111111111111111, \"#46039f\"], [0.2222222222222222, \"#7201a8\"], [0.3333333333333333, \"#9c179e\"], [0.4444444444444444, \"#bd3786\"], [0.5555555555555556, \"#d8576b\"], [0.6666666666666666, \"#ed7953\"], [0.7777777777777778, \"#fb9f3a\"], [0.8888888888888888, \"#fdca26\"], [1.0, \"#f0f921\"]], \"type\": \"surface\"}], \"table\": [{\"cells\": {\"fill\": {\"color\": \"#EBF0F8\"}, \"line\": {\"color\": \"white\"}}, \"header\": {\"fill\": {\"color\": \"#C8D4E3\"}, \"line\": {\"color\": \"white\"}}, \"type\": \"table\"}]}, \"layout\": {\"annotationdefaults\": {\"arrowcolor\": \"#2a3f5f\", \"arrowhead\": 0, \"arrowwidth\": 1}, \"autotypenumbers\": \"strict\", \"coloraxis\": {\"colorbar\": {\"outlinewidth\": 0, \"ticks\": \"\"}}, \"colorscale\": {\"diverging\": [[0, \"#8e0152\"], [0.1, \"#c51b7d\"], [0.2, \"#de77ae\"], [0.3, \"#f1b6da\"], [0.4, \"#fde0ef\"], [0.5, \"#f7f7f7\"], [0.6, \"#e6f5d0\"], [0.7, \"#b8e186\"], [0.8, \"#7fbc41\"], [0.9, \"#4d9221\"], [1, \"#276419\"]], \"sequential\": [[0.0, \"#0d0887\"], [0.1111111111111111, \"#46039f\"], [0.2222222222222222, \"#7201a8\"], [0.3333333333333333, \"#9c179e\"], [0.4444444444444444, \"#bd3786\"], [0.5555555555555556, \"#d8576b\"], [0.6666666666666666, \"#ed7953\"], [0.7777777777777778, \"#fb9f3a\"], [0.8888888888888888, \"#fdca26\"], [1.0, \"#f0f921\"]], \"sequentialminus\": [[0.0, \"#0d0887\"], [0.1111111111111111, \"#46039f\"], [0.2222222222222222, \"#7201a8\"], [0.3333333333333333, \"#9c179e\"], [0.4444444444444444, \"#bd3786\"], [0.5555555555555556, \"#d8576b\"], [0.6666666666666666, \"#ed7953\"], [0.7777777777777778, \"#fb9f3a\"], [0.8888888888888888, \"#fdca26\"], [1.0, \"#f0f921\"]]}, \"colorway\": [\"#636efa\", \"#EF553B\", \"#00cc96\", \"#ab63fa\", \"#FFA15A\", \"#19d3f3\", \"#FF6692\", \"#B6E880\", \"#FF97FF\", \"#FECB52\"], \"font\": {\"color\": \"#2a3f5f\"}, \"geo\": {\"bgcolor\": \"white\", \"lakecolor\": \"white\", \"landcolor\": \"#E5ECF6\", \"showlakes\": true, \"showland\": true, \"subunitcolor\": \"white\"}, \"hoverlabel\": {\"align\": \"left\"}, \"hovermode\": \"closest\", \"mapbox\": {\"style\": \"light\"}, \"paper_bgcolor\": \"white\", \"plot_bgcolor\": \"#E5ECF6\", \"polar\": {\"angularaxis\": {\"gridcolor\": \"white\", \"linecolor\": \"white\", \"ticks\": \"\"}, \"bgcolor\": \"#E5ECF6\", \"radialaxis\": {\"gridcolor\": \"white\", \"linecolor\": \"white\", \"ticks\": \"\"}}, \"scene\": {\"xaxis\": {\"backgroundcolor\": \"#E5ECF6\", \"gridcolor\": \"white\", \"gridwidth\": 2, \"linecolor\": \"white\", \"showbackground\": true, \"ticks\": \"\", \"zerolinecolor\": \"white\"}, \"yaxis\": {\"backgroundcolor\": \"#E5ECF6\", \"gridcolor\": \"white\", \"gridwidth\": 2, \"linecolor\": \"white\", \"showbackground\": true, \"ticks\": \"\", \"zerolinecolor\": \"white\"}, \"zaxis\": {\"backgroundcolor\": \"#E5ECF6\", \"gridcolor\": \"white\", \"gridwidth\": 2, \"linecolor\": \"white\", \"showbackground\": true, \"ticks\": \"\", \"zerolinecolor\": \"white\"}}, \"shapedefaults\": {\"line\": {\"color\": \"#2a3f5f\"}}, \"ternary\": {\"aaxis\": {\"gridcolor\": \"white\", \"linecolor\": \"white\", \"ticks\": \"\"}, \"baxis\": {\"gridcolor\": \"white\", \"linecolor\": \"white\", \"ticks\": \"\"}, \"bgcolor\": \"#E5ECF6\", \"caxis\": {\"gridcolor\": \"white\", \"linecolor\": \"white\", \"ticks\": \"\"}}, \"title\": {\"x\": 0.05}, \"xaxis\": {\"automargin\": true, \"gridcolor\": \"white\", \"linecolor\": \"white\", \"ticks\": \"\", \"title\": {\"standoff\": 15}, \"zerolinecolor\": \"white\", \"zerolinewidth\": 2}, \"yaxis\": {\"automargin\": true, \"gridcolor\": \"white\", \"linecolor\": \"white\", \"ticks\": \"\", \"title\": {\"standoff\": 15}, \"zerolinecolor\": \"white\", \"zerolinewidth\": 2}}}, \"title\": {\"text\": \"Years of experience vs Yearly brutto salary (without bonus and stocks) in 2019, 2020 & Current salary in 2020\"}, \"xaxis\": {\"ticklen\": 5, \"title\": {\"text\": \"Salary Trends\"}, \"zeroline\": false}, \"yaxis\": {\"ticklen\": 5, \"title\": {\"text\": \"Salary\"}, \"zeroline\": false}},                        {\"responsive\": true}                    ).then(function(){\n",
              "                            \n",
              "var gd = document.getElementById('cceceb39-10b1-49e6-a1ae-53bfe97c7370');\n",
              "var x = new MutationObserver(function (mutations, observer) {{\n",
              "        var display = window.getComputedStyle(gd).display;\n",
              "        if (!display || display === 'none') {{\n",
              "            console.log([gd, 'removed!']);\n",
              "            Plotly.purge(gd);\n",
              "            observer.disconnect();\n",
              "        }}\n",
              "}});\n",
              "\n",
              "// Listen for the removal of the full notebook cells\n",
              "var notebookContainer = gd.closest('#notebook-container');\n",
              "if (notebookContainer) {{\n",
              "    x.observe(notebookContainer, {childList: true});\n",
              "}}\n",
              "\n",
              "// Listen for the clearing of the current output cell\n",
              "var outputEl = gd.closest('.output');\n",
              "if (outputEl) {{\n",
              "    x.observe(outputEl, {childList: true});\n",
              "}}\n",
              "\n",
              "                        })                };                            </script>        </div>\n",
              "</body>\n",
              "</html>"
            ]
          },
          "metadata": {
            "tags": []
          }
        }
      ]
    },
    {
      "cell_type": "markdown",
      "metadata": {
        "id": "qUmHEWL9nXNm"
      },
      "source": [
        "Create a bar chart to analyse the popularity of the main technology/ programming languages amongst the respondents in the year 2020. Which technology is the most popular? \r\n"
      ]
    },
    {
      "cell_type": "code",
      "metadata": {
        "colab": {
          "base_uri": "https://localhost:8080/",
          "height": 542
        },
        "id": "nD6pb7r9gw1Q",
        "outputId": "cd163dbe-e0ed-4694-d824-0c58787c605f"
      },
      "source": [
        "df20b = data20['Your main technology / programming language'].value_counts().head()\r\n",
        "px.bar(df20b)\r\n"
      ],
      "execution_count": 168,
      "outputs": [
        {
          "output_type": "display_data",
          "data": {
            "text/html": [
              "<html>\n",
              "<head><meta charset=\"utf-8\" /></head>\n",
              "<body>\n",
              "    <div>            <script src=\"https://cdnjs.cloudflare.com/ajax/libs/mathjax/2.7.5/MathJax.js?config=TeX-AMS-MML_SVG\"></script><script type=\"text/javascript\">if (window.MathJax) {MathJax.Hub.Config({SVG: {font: \"STIX-Web\"}});}</script>                <script type=\"text/javascript\">window.PlotlyConfig = {MathJaxConfig: 'local'};</script>\n",
              "        <script src=\"https://cdn.plot.ly/plotly-latest.min.js\"></script>                <div id=\"a8f8c793-3bd3-411f-ad31-24e862f6f2a7\" class=\"plotly-graph-div\" style=\"height:525px; width:100%;\"></div>            <script type=\"text/javascript\">                                    window.PLOTLYENV=window.PLOTLYENV || {};                                    if (document.getElementById(\"a8f8c793-3bd3-411f-ad31-24e862f6f2a7\")) {                    Plotly.newPlot(                        \"a8f8c793-3bd3-411f-ad31-24e862f6f2a7\",                        [{\"alignmentgroup\": \"True\", \"hovertemplate\": \"variable=Your main technology / programming language<br>index=%{x}<br>value=%{y}<extra></extra>\", \"legendgroup\": \"Your main technology / programming language\", \"marker\": {\"color\": \"#636efa\"}, \"name\": \"Your main technology / programming language\", \"offsetgroup\": \"Your main technology / programming language\", \"orientation\": \"v\", \"showlegend\": true, \"textposition\": \"auto\", \"type\": \"bar\", \"x\": [\"Java\", \"Python\", \"PHP\", \"C++\", \"JavaScript\"], \"xaxis\": \"x\", \"y\": [184, 164, 56, 38, 34], \"yaxis\": \"y\"}],                        {\"barmode\": \"relative\", \"legend\": {\"title\": {\"text\": \"variable\"}, \"tracegroupgap\": 0}, \"margin\": {\"t\": 60}, \"template\": {\"data\": {\"bar\": [{\"error_x\": {\"color\": \"#2a3f5f\"}, \"error_y\": {\"color\": \"#2a3f5f\"}, \"marker\": {\"line\": {\"color\": \"#E5ECF6\", \"width\": 0.5}}, \"type\": \"bar\"}], \"barpolar\": [{\"marker\": {\"line\": {\"color\": \"#E5ECF6\", \"width\": 0.5}}, \"type\": \"barpolar\"}], \"carpet\": [{\"aaxis\": {\"endlinecolor\": \"#2a3f5f\", \"gridcolor\": \"white\", \"linecolor\": \"white\", \"minorgridcolor\": \"white\", \"startlinecolor\": \"#2a3f5f\"}, \"baxis\": {\"endlinecolor\": \"#2a3f5f\", \"gridcolor\": \"white\", \"linecolor\": \"white\", \"minorgridcolor\": \"white\", \"startlinecolor\": \"#2a3f5f\"}, \"type\": \"carpet\"}], \"choropleth\": [{\"colorbar\": {\"outlinewidth\": 0, \"ticks\": \"\"}, \"type\": \"choropleth\"}], \"contour\": [{\"colorbar\": {\"outlinewidth\": 0, \"ticks\": \"\"}, \"colorscale\": [[0.0, \"#0d0887\"], [0.1111111111111111, \"#46039f\"], [0.2222222222222222, \"#7201a8\"], [0.3333333333333333, \"#9c179e\"], [0.4444444444444444, \"#bd3786\"], [0.5555555555555556, \"#d8576b\"], [0.6666666666666666, \"#ed7953\"], [0.7777777777777778, \"#fb9f3a\"], [0.8888888888888888, \"#fdca26\"], [1.0, \"#f0f921\"]], \"type\": \"contour\"}], \"contourcarpet\": [{\"colorbar\": {\"outlinewidth\": 0, \"ticks\": \"\"}, \"type\": \"contourcarpet\"}], \"heatmap\": [{\"colorbar\": {\"outlinewidth\": 0, \"ticks\": \"\"}, \"colorscale\": [[0.0, \"#0d0887\"], [0.1111111111111111, \"#46039f\"], [0.2222222222222222, \"#7201a8\"], [0.3333333333333333, \"#9c179e\"], [0.4444444444444444, \"#bd3786\"], [0.5555555555555556, \"#d8576b\"], [0.6666666666666666, \"#ed7953\"], [0.7777777777777778, \"#fb9f3a\"], [0.8888888888888888, \"#fdca26\"], [1.0, \"#f0f921\"]], \"type\": \"heatmap\"}], \"heatmapgl\": [{\"colorbar\": {\"outlinewidth\": 0, \"ticks\": \"\"}, \"colorscale\": [[0.0, \"#0d0887\"], [0.1111111111111111, \"#46039f\"], [0.2222222222222222, \"#7201a8\"], [0.3333333333333333, \"#9c179e\"], [0.4444444444444444, \"#bd3786\"], [0.5555555555555556, \"#d8576b\"], [0.6666666666666666, \"#ed7953\"], [0.7777777777777778, \"#fb9f3a\"], [0.8888888888888888, \"#fdca26\"], [1.0, \"#f0f921\"]], \"type\": \"heatmapgl\"}], \"histogram\": [{\"marker\": {\"colorbar\": {\"outlinewidth\": 0, \"ticks\": \"\"}}, \"type\": \"histogram\"}], \"histogram2d\": [{\"colorbar\": {\"outlinewidth\": 0, \"ticks\": \"\"}, \"colorscale\": [[0.0, \"#0d0887\"], [0.1111111111111111, \"#46039f\"], [0.2222222222222222, \"#7201a8\"], [0.3333333333333333, \"#9c179e\"], [0.4444444444444444, \"#bd3786\"], [0.5555555555555556, \"#d8576b\"], [0.6666666666666666, \"#ed7953\"], [0.7777777777777778, \"#fb9f3a\"], [0.8888888888888888, \"#fdca26\"], [1.0, \"#f0f921\"]], \"type\": \"histogram2d\"}], \"histogram2dcontour\": [{\"colorbar\": {\"outlinewidth\": 0, \"ticks\": \"\"}, \"colorscale\": [[0.0, \"#0d0887\"], [0.1111111111111111, \"#46039f\"], [0.2222222222222222, \"#7201a8\"], [0.3333333333333333, \"#9c179e\"], [0.4444444444444444, \"#bd3786\"], [0.5555555555555556, \"#d8576b\"], [0.6666666666666666, \"#ed7953\"], [0.7777777777777778, \"#fb9f3a\"], [0.8888888888888888, \"#fdca26\"], [1.0, \"#f0f921\"]], \"type\": \"histogram2dcontour\"}], \"mesh3d\": [{\"colorbar\": {\"outlinewidth\": 0, \"ticks\": \"\"}, \"type\": \"mesh3d\"}], \"parcoords\": [{\"line\": {\"colorbar\": {\"outlinewidth\": 0, \"ticks\": \"\"}}, \"type\": \"parcoords\"}], \"pie\": [{\"automargin\": true, \"type\": \"pie\"}], \"scatter\": [{\"marker\": {\"colorbar\": {\"outlinewidth\": 0, \"ticks\": \"\"}}, \"type\": \"scatter\"}], \"scatter3d\": [{\"line\": {\"colorbar\": {\"outlinewidth\": 0, \"ticks\": \"\"}}, \"marker\": {\"colorbar\": {\"outlinewidth\": 0, \"ticks\": \"\"}}, \"type\": \"scatter3d\"}], \"scattercarpet\": [{\"marker\": {\"colorbar\": {\"outlinewidth\": 0, \"ticks\": \"\"}}, \"type\": \"scattercarpet\"}], \"scattergeo\": [{\"marker\": {\"colorbar\": {\"outlinewidth\": 0, \"ticks\": \"\"}}, \"type\": \"scattergeo\"}], \"scattergl\": [{\"marker\": {\"colorbar\": {\"outlinewidth\": 0, \"ticks\": \"\"}}, \"type\": \"scattergl\"}], \"scattermapbox\": [{\"marker\": {\"colorbar\": {\"outlinewidth\": 0, \"ticks\": \"\"}}, \"type\": \"scattermapbox\"}], \"scatterpolar\": [{\"marker\": {\"colorbar\": {\"outlinewidth\": 0, \"ticks\": \"\"}}, \"type\": \"scatterpolar\"}], \"scatterpolargl\": [{\"marker\": {\"colorbar\": {\"outlinewidth\": 0, \"ticks\": \"\"}}, \"type\": \"scatterpolargl\"}], \"scatterternary\": [{\"marker\": {\"colorbar\": {\"outlinewidth\": 0, \"ticks\": \"\"}}, \"type\": \"scatterternary\"}], \"surface\": [{\"colorbar\": {\"outlinewidth\": 0, \"ticks\": \"\"}, \"colorscale\": [[0.0, \"#0d0887\"], [0.1111111111111111, \"#46039f\"], [0.2222222222222222, \"#7201a8\"], [0.3333333333333333, \"#9c179e\"], [0.4444444444444444, \"#bd3786\"], [0.5555555555555556, \"#d8576b\"], [0.6666666666666666, \"#ed7953\"], [0.7777777777777778, \"#fb9f3a\"], [0.8888888888888888, \"#fdca26\"], [1.0, \"#f0f921\"]], \"type\": \"surface\"}], \"table\": [{\"cells\": {\"fill\": {\"color\": \"#EBF0F8\"}, \"line\": {\"color\": \"white\"}}, \"header\": {\"fill\": {\"color\": \"#C8D4E3\"}, \"line\": {\"color\": \"white\"}}, \"type\": \"table\"}]}, \"layout\": {\"annotationdefaults\": {\"arrowcolor\": \"#2a3f5f\", \"arrowhead\": 0, \"arrowwidth\": 1}, \"autotypenumbers\": \"strict\", \"coloraxis\": {\"colorbar\": {\"outlinewidth\": 0, \"ticks\": \"\"}}, \"colorscale\": {\"diverging\": [[0, \"#8e0152\"], [0.1, \"#c51b7d\"], [0.2, \"#de77ae\"], [0.3, \"#f1b6da\"], [0.4, \"#fde0ef\"], [0.5, \"#f7f7f7\"], [0.6, \"#e6f5d0\"], [0.7, \"#b8e186\"], [0.8, \"#7fbc41\"], [0.9, \"#4d9221\"], [1, \"#276419\"]], \"sequential\": [[0.0, \"#0d0887\"], [0.1111111111111111, \"#46039f\"], [0.2222222222222222, \"#7201a8\"], [0.3333333333333333, \"#9c179e\"], [0.4444444444444444, \"#bd3786\"], [0.5555555555555556, \"#d8576b\"], [0.6666666666666666, \"#ed7953\"], [0.7777777777777778, \"#fb9f3a\"], [0.8888888888888888, \"#fdca26\"], [1.0, \"#f0f921\"]], \"sequentialminus\": [[0.0, \"#0d0887\"], [0.1111111111111111, \"#46039f\"], [0.2222222222222222, \"#7201a8\"], [0.3333333333333333, \"#9c179e\"], [0.4444444444444444, \"#bd3786\"], [0.5555555555555556, \"#d8576b\"], [0.6666666666666666, \"#ed7953\"], [0.7777777777777778, \"#fb9f3a\"], [0.8888888888888888, \"#fdca26\"], [1.0, \"#f0f921\"]]}, \"colorway\": [\"#636efa\", \"#EF553B\", \"#00cc96\", \"#ab63fa\", \"#FFA15A\", \"#19d3f3\", \"#FF6692\", \"#B6E880\", \"#FF97FF\", \"#FECB52\"], \"font\": {\"color\": \"#2a3f5f\"}, \"geo\": {\"bgcolor\": \"white\", \"lakecolor\": \"white\", \"landcolor\": \"#E5ECF6\", \"showlakes\": true, \"showland\": true, \"subunitcolor\": \"white\"}, \"hoverlabel\": {\"align\": \"left\"}, \"hovermode\": \"closest\", \"mapbox\": {\"style\": \"light\"}, \"paper_bgcolor\": \"white\", \"plot_bgcolor\": \"#E5ECF6\", \"polar\": {\"angularaxis\": {\"gridcolor\": \"white\", \"linecolor\": \"white\", \"ticks\": \"\"}, \"bgcolor\": \"#E5ECF6\", \"radialaxis\": {\"gridcolor\": \"white\", \"linecolor\": \"white\", \"ticks\": \"\"}}, \"scene\": {\"xaxis\": {\"backgroundcolor\": \"#E5ECF6\", \"gridcolor\": \"white\", \"gridwidth\": 2, \"linecolor\": \"white\", \"showbackground\": true, \"ticks\": \"\", \"zerolinecolor\": \"white\"}, \"yaxis\": {\"backgroundcolor\": \"#E5ECF6\", \"gridcolor\": \"white\", \"gridwidth\": 2, \"linecolor\": \"white\", \"showbackground\": true, \"ticks\": \"\", \"zerolinecolor\": \"white\"}, \"zaxis\": {\"backgroundcolor\": \"#E5ECF6\", \"gridcolor\": \"white\", \"gridwidth\": 2, \"linecolor\": \"white\", \"showbackground\": true, \"ticks\": \"\", \"zerolinecolor\": \"white\"}}, \"shapedefaults\": {\"line\": {\"color\": \"#2a3f5f\"}}, \"ternary\": {\"aaxis\": {\"gridcolor\": \"white\", \"linecolor\": \"white\", \"ticks\": \"\"}, \"baxis\": {\"gridcolor\": \"white\", \"linecolor\": \"white\", \"ticks\": \"\"}, \"bgcolor\": \"#E5ECF6\", \"caxis\": {\"gridcolor\": \"white\", \"linecolor\": \"white\", \"ticks\": \"\"}}, \"title\": {\"x\": 0.05}, \"xaxis\": {\"automargin\": true, \"gridcolor\": \"white\", \"linecolor\": \"white\", \"ticks\": \"\", \"title\": {\"standoff\": 15}, \"zerolinecolor\": \"white\", \"zerolinewidth\": 2}, \"yaxis\": {\"automargin\": true, \"gridcolor\": \"white\", \"linecolor\": \"white\", \"ticks\": \"\", \"title\": {\"standoff\": 15}, \"zerolinecolor\": \"white\", \"zerolinewidth\": 2}}}, \"xaxis\": {\"anchor\": \"y\", \"domain\": [0.0, 1.0], \"title\": {\"text\": \"index\"}}, \"yaxis\": {\"anchor\": \"x\", \"domain\": [0.0, 1.0], \"title\": {\"text\": \"value\"}}},                        {\"responsive\": true}                    ).then(function(){\n",
              "                            \n",
              "var gd = document.getElementById('a8f8c793-3bd3-411f-ad31-24e862f6f2a7');\n",
              "var x = new MutationObserver(function (mutations, observer) {{\n",
              "        var display = window.getComputedStyle(gd).display;\n",
              "        if (!display || display === 'none') {{\n",
              "            console.log([gd, 'removed!']);\n",
              "            Plotly.purge(gd);\n",
              "            observer.disconnect();\n",
              "        }}\n",
              "}});\n",
              "\n",
              "// Listen for the removal of the full notebook cells\n",
              "var notebookContainer = gd.closest('#notebook-container');\n",
              "if (notebookContainer) {{\n",
              "    x.observe(notebookContainer, {childList: true});\n",
              "}}\n",
              "\n",
              "// Listen for the clearing of the current output cell\n",
              "var outputEl = gd.closest('.output');\n",
              "if (outputEl) {{\n",
              "    x.observe(outputEl, {childList: true});\n",
              "}}\n",
              "\n",
              "                        })                };                            </script>        </div>\n",
              "</body>\n",
              "</html>"
            ]
          },
          "metadata": {
            "tags": []
          }
        }
      ]
    },
    {
      "cell_type": "markdown",
      "metadata": {
        "id": "uQL6HC8i74YR"
      },
      "source": [
        "Which technology is the least popular (with less than 4 responses)?"
      ]
    },
    {
      "cell_type": "code",
      "metadata": {
        "colab": {
          "base_uri": "https://localhost:8080/",
          "height": 542
        },
        "id": "IHuF6eTi7qAx",
        "outputId": "bf7562c1-ed92-439d-d13e-7fc8967c3048"
      },
      "source": [
        "df20c = data20['Your main technology / programming language'].value_counts().tail()\r\n",
        "px.bar(df20c)"
      ],
      "execution_count": 169,
      "outputs": [
        {
          "output_type": "display_data",
          "data": {
            "text/html": [
              "<html>\n",
              "<head><meta charset=\"utf-8\" /></head>\n",
              "<body>\n",
              "    <div>            <script src=\"https://cdnjs.cloudflare.com/ajax/libs/mathjax/2.7.5/MathJax.js?config=TeX-AMS-MML_SVG\"></script><script type=\"text/javascript\">if (window.MathJax) {MathJax.Hub.Config({SVG: {font: \"STIX-Web\"}});}</script>                <script type=\"text/javascript\">window.PlotlyConfig = {MathJaxConfig: 'local'};</script>\n",
              "        <script src=\"https://cdn.plot.ly/plotly-latest.min.js\"></script>                <div id=\"262c15e4-2b7d-4464-a796-a9e3d7bd0944\" class=\"plotly-graph-div\" style=\"height:525px; width:100%;\"></div>            <script type=\"text/javascript\">                                    window.PLOTLYENV=window.PLOTLYENV || {};                                    if (document.getElementById(\"262c15e4-2b7d-4464-a796-a9e3d7bd0944\")) {                    Plotly.newPlot(                        \"262c15e4-2b7d-4464-a796-a9e3d7bd0944\",                        [{\"alignmentgroup\": \"True\", \"hovertemplate\": \"variable=Your main technology / programming language<br>index=%{x}<br>value=%{y}<extra></extra>\", \"legendgroup\": \"Your main technology / programming language\", \"marker\": {\"color\": \"#636efa\"}, \"name\": \"Your main technology / programming language\", \"offsetgroup\": \"Your main technology / programming language\", \"orientation\": \"v\", \"showlegend\": true, \"textposition\": \"auto\", \"type\": \"bar\", \"x\": [\"Blockchain\", \"Qlik\", \"Java, terraform\", \"Node\", \"Java, JS\"], \"xaxis\": \"x\", \"y\": [1, 1, 1, 1, 1], \"yaxis\": \"y\"}],                        {\"barmode\": \"relative\", \"legend\": {\"title\": {\"text\": \"variable\"}, \"tracegroupgap\": 0}, \"margin\": {\"t\": 60}, \"template\": {\"data\": {\"bar\": [{\"error_x\": {\"color\": \"#2a3f5f\"}, \"error_y\": {\"color\": \"#2a3f5f\"}, \"marker\": {\"line\": {\"color\": \"#E5ECF6\", \"width\": 0.5}}, \"type\": \"bar\"}], \"barpolar\": [{\"marker\": {\"line\": {\"color\": \"#E5ECF6\", \"width\": 0.5}}, \"type\": \"barpolar\"}], \"carpet\": [{\"aaxis\": {\"endlinecolor\": \"#2a3f5f\", \"gridcolor\": \"white\", \"linecolor\": \"white\", \"minorgridcolor\": \"white\", \"startlinecolor\": \"#2a3f5f\"}, \"baxis\": {\"endlinecolor\": \"#2a3f5f\", \"gridcolor\": \"white\", \"linecolor\": \"white\", \"minorgridcolor\": \"white\", \"startlinecolor\": \"#2a3f5f\"}, \"type\": \"carpet\"}], \"choropleth\": [{\"colorbar\": {\"outlinewidth\": 0, \"ticks\": \"\"}, \"type\": \"choropleth\"}], \"contour\": [{\"colorbar\": {\"outlinewidth\": 0, \"ticks\": \"\"}, \"colorscale\": [[0.0, \"#0d0887\"], [0.1111111111111111, \"#46039f\"], [0.2222222222222222, \"#7201a8\"], [0.3333333333333333, \"#9c179e\"], [0.4444444444444444, \"#bd3786\"], [0.5555555555555556, \"#d8576b\"], [0.6666666666666666, \"#ed7953\"], [0.7777777777777778, \"#fb9f3a\"], [0.8888888888888888, \"#fdca26\"], [1.0, \"#f0f921\"]], \"type\": \"contour\"}], \"contourcarpet\": [{\"colorbar\": {\"outlinewidth\": 0, \"ticks\": \"\"}, \"type\": \"contourcarpet\"}], \"heatmap\": [{\"colorbar\": {\"outlinewidth\": 0, \"ticks\": \"\"}, \"colorscale\": [[0.0, \"#0d0887\"], [0.1111111111111111, \"#46039f\"], [0.2222222222222222, \"#7201a8\"], [0.3333333333333333, \"#9c179e\"], [0.4444444444444444, \"#bd3786\"], [0.5555555555555556, \"#d8576b\"], [0.6666666666666666, \"#ed7953\"], [0.7777777777777778, \"#fb9f3a\"], [0.8888888888888888, \"#fdca26\"], [1.0, \"#f0f921\"]], \"type\": \"heatmap\"}], \"heatmapgl\": [{\"colorbar\": {\"outlinewidth\": 0, \"ticks\": \"\"}, \"colorscale\": [[0.0, \"#0d0887\"], [0.1111111111111111, \"#46039f\"], [0.2222222222222222, \"#7201a8\"], [0.3333333333333333, \"#9c179e\"], [0.4444444444444444, \"#bd3786\"], [0.5555555555555556, \"#d8576b\"], [0.6666666666666666, \"#ed7953\"], [0.7777777777777778, \"#fb9f3a\"], [0.8888888888888888, \"#fdca26\"], [1.0, \"#f0f921\"]], \"type\": \"heatmapgl\"}], \"histogram\": [{\"marker\": {\"colorbar\": {\"outlinewidth\": 0, \"ticks\": \"\"}}, \"type\": \"histogram\"}], \"histogram2d\": [{\"colorbar\": {\"outlinewidth\": 0, \"ticks\": \"\"}, \"colorscale\": [[0.0, \"#0d0887\"], [0.1111111111111111, \"#46039f\"], [0.2222222222222222, \"#7201a8\"], [0.3333333333333333, \"#9c179e\"], [0.4444444444444444, \"#bd3786\"], [0.5555555555555556, \"#d8576b\"], [0.6666666666666666, \"#ed7953\"], [0.7777777777777778, \"#fb9f3a\"], [0.8888888888888888, \"#fdca26\"], [1.0, \"#f0f921\"]], \"type\": \"histogram2d\"}], \"histogram2dcontour\": [{\"colorbar\": {\"outlinewidth\": 0, \"ticks\": \"\"}, \"colorscale\": [[0.0, \"#0d0887\"], [0.1111111111111111, \"#46039f\"], [0.2222222222222222, \"#7201a8\"], [0.3333333333333333, \"#9c179e\"], [0.4444444444444444, \"#bd3786\"], [0.5555555555555556, \"#d8576b\"], [0.6666666666666666, \"#ed7953\"], [0.7777777777777778, \"#fb9f3a\"], [0.8888888888888888, \"#fdca26\"], [1.0, \"#f0f921\"]], \"type\": \"histogram2dcontour\"}], \"mesh3d\": [{\"colorbar\": {\"outlinewidth\": 0, \"ticks\": \"\"}, \"type\": \"mesh3d\"}], \"parcoords\": [{\"line\": {\"colorbar\": {\"outlinewidth\": 0, \"ticks\": \"\"}}, \"type\": \"parcoords\"}], \"pie\": [{\"automargin\": true, \"type\": \"pie\"}], \"scatter\": [{\"marker\": {\"colorbar\": {\"outlinewidth\": 0, \"ticks\": \"\"}}, \"type\": \"scatter\"}], \"scatter3d\": [{\"line\": {\"colorbar\": {\"outlinewidth\": 0, \"ticks\": \"\"}}, \"marker\": {\"colorbar\": {\"outlinewidth\": 0, \"ticks\": \"\"}}, \"type\": \"scatter3d\"}], \"scattercarpet\": [{\"marker\": {\"colorbar\": {\"outlinewidth\": 0, \"ticks\": \"\"}}, \"type\": \"scattercarpet\"}], \"scattergeo\": [{\"marker\": {\"colorbar\": {\"outlinewidth\": 0, \"ticks\": \"\"}}, \"type\": \"scattergeo\"}], \"scattergl\": [{\"marker\": {\"colorbar\": {\"outlinewidth\": 0, \"ticks\": \"\"}}, \"type\": \"scattergl\"}], \"scattermapbox\": [{\"marker\": {\"colorbar\": {\"outlinewidth\": 0, \"ticks\": \"\"}}, \"type\": \"scattermapbox\"}], \"scatterpolar\": [{\"marker\": {\"colorbar\": {\"outlinewidth\": 0, \"ticks\": \"\"}}, \"type\": \"scatterpolar\"}], \"scatterpolargl\": [{\"marker\": {\"colorbar\": {\"outlinewidth\": 0, \"ticks\": \"\"}}, \"type\": \"scatterpolargl\"}], \"scatterternary\": [{\"marker\": {\"colorbar\": {\"outlinewidth\": 0, \"ticks\": \"\"}}, \"type\": \"scatterternary\"}], \"surface\": [{\"colorbar\": {\"outlinewidth\": 0, \"ticks\": \"\"}, \"colorscale\": [[0.0, \"#0d0887\"], [0.1111111111111111, \"#46039f\"], [0.2222222222222222, \"#7201a8\"], [0.3333333333333333, \"#9c179e\"], [0.4444444444444444, \"#bd3786\"], [0.5555555555555556, \"#d8576b\"], [0.6666666666666666, \"#ed7953\"], [0.7777777777777778, \"#fb9f3a\"], [0.8888888888888888, \"#fdca26\"], [1.0, \"#f0f921\"]], \"type\": \"surface\"}], \"table\": [{\"cells\": {\"fill\": {\"color\": \"#EBF0F8\"}, \"line\": {\"color\": \"white\"}}, \"header\": {\"fill\": {\"color\": \"#C8D4E3\"}, \"line\": {\"color\": \"white\"}}, \"type\": \"table\"}]}, \"layout\": {\"annotationdefaults\": {\"arrowcolor\": \"#2a3f5f\", \"arrowhead\": 0, \"arrowwidth\": 1}, \"autotypenumbers\": \"strict\", \"coloraxis\": {\"colorbar\": {\"outlinewidth\": 0, \"ticks\": \"\"}}, \"colorscale\": {\"diverging\": [[0, \"#8e0152\"], [0.1, \"#c51b7d\"], [0.2, \"#de77ae\"], [0.3, \"#f1b6da\"], [0.4, \"#fde0ef\"], [0.5, \"#f7f7f7\"], [0.6, \"#e6f5d0\"], [0.7, \"#b8e186\"], [0.8, \"#7fbc41\"], [0.9, \"#4d9221\"], [1, \"#276419\"]], \"sequential\": [[0.0, \"#0d0887\"], [0.1111111111111111, \"#46039f\"], [0.2222222222222222, \"#7201a8\"], [0.3333333333333333, \"#9c179e\"], [0.4444444444444444, \"#bd3786\"], [0.5555555555555556, \"#d8576b\"], [0.6666666666666666, \"#ed7953\"], [0.7777777777777778, \"#fb9f3a\"], [0.8888888888888888, \"#fdca26\"], [1.0, \"#f0f921\"]], \"sequentialminus\": [[0.0, \"#0d0887\"], [0.1111111111111111, \"#46039f\"], [0.2222222222222222, \"#7201a8\"], [0.3333333333333333, \"#9c179e\"], [0.4444444444444444, \"#bd3786\"], [0.5555555555555556, \"#d8576b\"], [0.6666666666666666, \"#ed7953\"], [0.7777777777777778, \"#fb9f3a\"], [0.8888888888888888, \"#fdca26\"], [1.0, \"#f0f921\"]]}, \"colorway\": [\"#636efa\", \"#EF553B\", \"#00cc96\", \"#ab63fa\", \"#FFA15A\", \"#19d3f3\", \"#FF6692\", \"#B6E880\", \"#FF97FF\", \"#FECB52\"], \"font\": {\"color\": \"#2a3f5f\"}, \"geo\": {\"bgcolor\": \"white\", \"lakecolor\": \"white\", \"landcolor\": \"#E5ECF6\", \"showlakes\": true, \"showland\": true, \"subunitcolor\": \"white\"}, \"hoverlabel\": {\"align\": \"left\"}, \"hovermode\": \"closest\", \"mapbox\": {\"style\": \"light\"}, \"paper_bgcolor\": \"white\", \"plot_bgcolor\": \"#E5ECF6\", \"polar\": {\"angularaxis\": {\"gridcolor\": \"white\", \"linecolor\": \"white\", \"ticks\": \"\"}, \"bgcolor\": \"#E5ECF6\", \"radialaxis\": {\"gridcolor\": \"white\", \"linecolor\": \"white\", \"ticks\": \"\"}}, \"scene\": {\"xaxis\": {\"backgroundcolor\": \"#E5ECF6\", \"gridcolor\": \"white\", \"gridwidth\": 2, \"linecolor\": \"white\", \"showbackground\": true, \"ticks\": \"\", \"zerolinecolor\": \"white\"}, \"yaxis\": {\"backgroundcolor\": \"#E5ECF6\", \"gridcolor\": \"white\", \"gridwidth\": 2, \"linecolor\": \"white\", \"showbackground\": true, \"ticks\": \"\", \"zerolinecolor\": \"white\"}, \"zaxis\": {\"backgroundcolor\": \"#E5ECF6\", \"gridcolor\": \"white\", \"gridwidth\": 2, \"linecolor\": \"white\", \"showbackground\": true, \"ticks\": \"\", \"zerolinecolor\": \"white\"}}, \"shapedefaults\": {\"line\": {\"color\": \"#2a3f5f\"}}, \"ternary\": {\"aaxis\": {\"gridcolor\": \"white\", \"linecolor\": \"white\", \"ticks\": \"\"}, \"baxis\": {\"gridcolor\": \"white\", \"linecolor\": \"white\", \"ticks\": \"\"}, \"bgcolor\": \"#E5ECF6\", \"caxis\": {\"gridcolor\": \"white\", \"linecolor\": \"white\", \"ticks\": \"\"}}, \"title\": {\"x\": 0.05}, \"xaxis\": {\"automargin\": true, \"gridcolor\": \"white\", \"linecolor\": \"white\", \"ticks\": \"\", \"title\": {\"standoff\": 15}, \"zerolinecolor\": \"white\", \"zerolinewidth\": 2}, \"yaxis\": {\"automargin\": true, \"gridcolor\": \"white\", \"linecolor\": \"white\", \"ticks\": \"\", \"title\": {\"standoff\": 15}, \"zerolinecolor\": \"white\", \"zerolinewidth\": 2}}}, \"xaxis\": {\"anchor\": \"y\", \"domain\": [0.0, 1.0], \"title\": {\"text\": \"index\"}}, \"yaxis\": {\"anchor\": \"x\", \"domain\": [0.0, 1.0], \"title\": {\"text\": \"value\"}}},                        {\"responsive\": true}                    ).then(function(){\n",
              "                            \n",
              "var gd = document.getElementById('262c15e4-2b7d-4464-a796-a9e3d7bd0944');\n",
              "var x = new MutationObserver(function (mutations, observer) {{\n",
              "        var display = window.getComputedStyle(gd).display;\n",
              "        if (!display || display === 'none') {{\n",
              "            console.log([gd, 'removed!']);\n",
              "            Plotly.purge(gd);\n",
              "            observer.disconnect();\n",
              "        }}\n",
              "}});\n",
              "\n",
              "// Listen for the removal of the full notebook cells\n",
              "var notebookContainer = gd.closest('#notebook-container');\n",
              "if (notebookContainer) {{\n",
              "    x.observe(notebookContainer, {childList: true});\n",
              "}}\n",
              "\n",
              "// Listen for the clearing of the current output cell\n",
              "var outputEl = gd.closest('.output');\n",
              "if (outputEl) {{\n",
              "    x.observe(outputEl, {childList: true});\n",
              "}}\n",
              "\n",
              "                        })                };                            </script>        </div>\n",
              "</body>\n",
              "</html>"
            ]
          },
          "metadata": {
            "tags": []
          }
        }
      ]
    },
    {
      "cell_type": "markdown",
      "metadata": {
        "id": "WwfgjLdY5Rsn"
      },
      "source": [
        "Create a pie plot indicating the gender ratio of the respondents in the year 2020."
      ]
    },
    {
      "cell_type": "code",
      "metadata": {
        "colab": {
          "base_uri": "https://localhost:8080/",
          "height": 542
        },
        "id": "3iil_Zj08GSv",
        "outputId": "d5bf4767-e0e3-4943-f695-939a19307457"
      },
      "source": [
        "data20['Gender'].fillna(data20['Gender'].mode()[0], inplace=True)\r\n",
        "df20d = data20['Gender'].value_counts()\r\n",
        "\r\n",
        "fig = px.pie(df20d,names=data20['Gender']) #customize it to a donut shape instead of a pie using the hole parameter\r\n",
        "fig.update_traces(textinfo=\"label+percent\", insidetextfont= dict(color=\"white\")) #Changing the label & colour of the labels\r\n",
        "#fig.update_layout(legend = {\"itemclick\": False}) #Changing what happens on clicking on a legend\r\n",
        "fig.show()"
      ],
      "execution_count": 185,
      "outputs": [
        {
          "output_type": "display_data",
          "data": {
            "text/html": [
              "<html>\n",
              "<head><meta charset=\"utf-8\" /></head>\n",
              "<body>\n",
              "    <div>            <script src=\"https://cdnjs.cloudflare.com/ajax/libs/mathjax/2.7.5/MathJax.js?config=TeX-AMS-MML_SVG\"></script><script type=\"text/javascript\">if (window.MathJax) {MathJax.Hub.Config({SVG: {font: \"STIX-Web\"}});}</script>                <script type=\"text/javascript\">window.PlotlyConfig = {MathJaxConfig: 'local'};</script>\n",
              "        <script src=\"https://cdn.plot.ly/plotly-latest.min.js\"></script>                <div id=\"68dc29a4-86b8-49d0-9d97-de11025358d7\" class=\"plotly-graph-div\" style=\"height:525px; width:100%;\"></div>            <script type=\"text/javascript\">                                    window.PLOTLYENV=window.PLOTLYENV || {};                                    if (document.getElementById(\"68dc29a4-86b8-49d0-9d97-de11025358d7\")) {                    Plotly.newPlot(                        \"68dc29a4-86b8-49d0-9d97-de11025358d7\",                        [{\"domain\": {\"x\": [0.0, 1.0], \"y\": [0.0, 1.0]}, \"hovertemplate\": \"label=%{label}<extra></extra>\", \"insidetextfont\": {\"color\": \"white\"}, \"labels\": [\"Male\", \"Male\", \"Male\", \"Male\", \"Male\", \"Male\", \"Male\", \"Male\", \"Male\", \"Male\", \"Female\", \"Male\", \"Male\", \"Male\", \"Male\", \"Male\", \"Male\", \"Male\", \"Male\", \"Male\", \"Male\", \"Male\", \"Male\", \"Male\", \"Male\", \"Male\", \"Male\", \"Male\", \"Male\", \"Male\", \"Male\", \"Male\", \"Female\", \"Male\", \"Male\", \"Male\", \"Female\", \"Male\", \"Male\", \"Male\", \"Male\", \"Male\", \"Male\", \"Female\", \"Male\", \"Male\", \"Female\", \"Male\", \"Female\", \"Male\", \"Male\", \"Female\", \"Female\", \"Male\", \"Male\", \"Male\", \"Male\", \"Male\", \"Male\", \"Male\", \"Female\", \"Male\", \"Male\", \"Male\", \"Male\", \"Male\", \"Male\", \"Male\", \"Male\", \"Male\", \"Male\", \"Male\", \"Male\", \"Male\", \"Male\", \"Male\", \"Male\", \"Male\", \"Male\", \"Female\", \"Male\", \"Female\", \"Male\", \"Male\", \"Male\", \"Male\", \"Male\", \"Female\", \"Male\", \"Male\", \"Male\", \"Male\", \"Female\", \"Female\", \"Female\", \"Male\", \"Male\", \"Female\", \"Male\", \"Male\", \"Male\", \"Male\", \"Female\", \"Male\", \"Male\", \"Male\", \"Male\", \"Male\", \"Male\", \"Male\", \"Male\", \"Male\", \"Male\", \"Male\", \"Male\", \"Male\", \"Female\", \"Female\", \"Male\", \"Male\", \"Male\", \"Female\", \"Male\", \"Female\", \"Male\", \"Male\", \"Male\", \"Male\", \"Male\", \"Male\", \"Male\", \"Male\", \"Male\", \"Male\", \"Male\", \"Male\", \"Male\", \"Male\", \"Male\", \"Male\", \"Male\", \"Male\", \"Male\", \"Male\", \"Male\", \"Male\", \"Male\", \"Female\", \"Male\", \"Male\", \"Male\", \"Female\", \"Male\", \"Female\", \"Female\", \"Male\", \"Male\", \"Male\", \"Male\", \"Male\", \"Male\", \"Female\", \"Male\", \"Male\", \"Male\", \"Female\", \"Male\", \"Male\", \"Male\", \"Male\", \"Male\", \"Male\", \"Male\", \"Male\", \"Male\", \"Male\", \"Male\", \"Male\", \"Male\", \"Female\", \"Male\", \"Male\", \"Male\", \"Male\", \"Male\", \"Male\", \"Male\", \"Male\", \"Male\", \"Male\", \"Male\", \"Female\", \"Male\", \"Male\", \"Male\", \"Male\", \"Male\", \"Male\", \"Female\", \"Male\", \"Male\", \"Male\", \"Male\", \"Male\", \"Female\", \"Female\", \"Male\", \"Male\", \"Male\", \"Male\", \"Female\", \"Male\", \"Male\", \"Male\", \"Male\", \"Male\", \"Female\", \"Male\", \"Male\", \"Male\", \"Male\", \"Male\", \"Male\", \"Male\", \"Male\", \"Male\", \"Male\", \"Male\", \"Male\", \"Male\", \"Male\", \"Female\", \"Male\", \"Male\", \"Male\", \"Male\", \"Male\", \"Male\", \"Male\", \"Female\", \"Female\", \"Male\", \"Female\", \"Male\", \"Male\", \"Female\", \"Male\", \"Male\", \"Male\", \"Male\", \"Male\", \"Male\", \"Male\", \"Male\", \"Female\", \"Male\", \"Male\", \"Male\", \"Male\", \"Male\", \"Male\", \"Male\", \"Male\", \"Male\", \"Male\", \"Male\", \"Male\", \"Male\", \"Female\", \"Male\", \"Male\", \"Male\", \"Male\", \"Male\", \"Female\", \"Male\", \"Male\", \"Male\", \"Male\", \"Male\", \"Male\", \"Male\", \"Female\", \"Male\", \"Male\", \"Female\", \"Male\", \"Male\", \"Male\", \"Male\", \"Male\", \"Male\", \"Male\", \"Male\", \"Male\", \"Male\", \"Male\", \"Male\", \"Male\", \"Male\", \"Male\", \"Male\", \"Male\", \"Male\", \"Male\", \"Female\", \"Male\", \"Male\", \"Male\", \"Male\", \"Female\", \"Male\", \"Male\", \"Female\", \"Male\", \"Male\", \"Male\", \"Male\", \"Diverse\", \"Male\", \"Male\", \"Male\", \"Male\", \"Male\", \"Female\", \"Male\", \"Male\", \"Male\", \"Male\", \"Male\", \"Male\", \"Male\", \"Male\", \"Male\", \"Male\", \"Male\", \"Male\", \"Male\", \"Male\", \"Male\", \"Male\", \"Male\", \"Male\", \"Male\", \"Male\", \"Male\", \"Male\", \"Male\", \"Male\", \"Male\", \"Male\", \"Male\", \"Male\", \"Male\", \"Male\", \"Male\", \"Female\", \"Male\", \"Male\", \"Male\", \"Male\", \"Male\", \"Male\", \"Male\", \"Male\", \"Male\", \"Male\", \"Male\", \"Male\", \"Male\", \"Male\", \"Female\", \"Male\", \"Female\", \"Male\", \"Male\", \"Male\", \"Male\", \"Male\", \"Male\", \"Male\", \"Male\", \"Male\", \"Male\", \"Male\", \"Male\", \"Male\", \"Male\", \"Male\", \"Male\", \"Male\", \"Male\", \"Male\", \"Male\", \"Male\", \"Male\", \"Male\", \"Male\", \"Female\", \"Male\", \"Male\", \"Male\", \"Female\", \"Male\", \"Female\", \"Male\", \"Male\", \"Male\", \"Male\", \"Male\", \"Male\", \"Male\", \"Female\", \"Male\", \"Male\", \"Male\", \"Male\", \"Male\", \"Male\", \"Female\", \"Female\", \"Male\", \"Male\", \"Male\", \"Male\", \"Male\", \"Female\", \"Female\", \"Female\", \"Male\", \"Female\", \"Male\", \"Male\", \"Male\", \"Male\", \"Male\", \"Male\", \"Male\", \"Male\", \"Male\", \"Male\", \"Male\", \"Male\", \"Male\", \"Male\", \"Male\", \"Female\", \"Male\", \"Female\", \"Male\", \"Male\", \"Female\", \"Female\", \"Male\", \"Male\", \"Male\", \"Male\", \"Male\", \"Male\", \"Male\", \"Male\", \"Female\", \"Male\", \"Female\", \"Male\", \"Male\", \"Male\", \"Male\", \"Female\", \"Male\", \"Male\", \"Male\", \"Female\", \"Male\", \"Male\", \"Male\", \"Male\", \"Male\", \"Female\", \"Male\", \"Male\", \"Male\", \"Male\", \"Male\", \"Male\", \"Male\", \"Female\", \"Male\", \"Male\", \"Male\", \"Male\", \"Male\", \"Male\", \"Male\", \"Male\", \"Male\", \"Male\", \"Male\", \"Male\", \"Male\", \"Female\", \"Male\", \"Male\", \"Male\", \"Male\", \"Male\", \"Male\", \"Male\", \"Male\", \"Female\", \"Female\", \"Male\", \"Male\", \"Male\", \"Female\", \"Male\", \"Male\", \"Male\", \"Male\", \"Male\", \"Male\", \"Male\", \"Male\", \"Female\", \"Female\", \"Male\", \"Male\", \"Female\", \"Male\", \"Male\", \"Male\", \"Male\", \"Male\", \"Male\", \"Male\", \"Male\", \"Male\", \"Male\", \"Male\", \"Male\", \"Male\", \"Male\", \"Male\", \"Male\", \"Male\", \"Male\", \"Male\", \"Male\", \"Male\", \"Male\", \"Male\", \"Male\", \"Male\", \"Male\", \"Male\", \"Male\", \"Male\", \"Male\", \"Male\", \"Male\", \"Male\", \"Male\", \"Male\", \"Female\", \"Male\", \"Male\", \"Male\", \"Male\", \"Male\", \"Male\", \"Male\", \"Female\", \"Male\", \"Male\", \"Male\", \"Male\", \"Male\", \"Male\", \"Male\", \"Female\", \"Male\", \"Female\", \"Male\", \"Male\", \"Female\", \"Male\", \"Male\", \"Male\", \"Male\", \"Female\", \"Male\", \"Female\", \"Male\", \"Male\", \"Male\", \"Male\", \"Male\", \"Male\", \"Male\", \"Male\", \"Female\", \"Female\", \"Male\", \"Male\", \"Male\", \"Female\", \"Male\", \"Male\", \"Male\", \"Male\", \"Male\", \"Male\", \"Male\", \"Male\", \"Male\", \"Male\", \"Female\", \"Male\", \"Male\", \"Male\", \"Male\", \"Male\", \"Male\", \"Male\", \"Male\", \"Male\", \"Male\", \"Male\", \"Male\", \"Male\", \"Male\", \"Female\", \"Male\", \"Male\", \"Male\", \"Male\", \"Male\", \"Male\", \"Male\", \"Female\", \"Male\", \"Male\", \"Female\", \"Female\", \"Male\", \"Male\", \"Male\", \"Female\", \"Male\", \"Male\", \"Female\", \"Male\", \"Female\", \"Male\", \"Male\", \"Male\", \"Female\", \"Male\", \"Male\", \"Male\", \"Male\", \"Female\", \"Male\", \"Male\", \"Male\", \"Male\", \"Male\", \"Male\", \"Male\", \"Male\", \"Female\", \"Male\", \"Male\", \"Male\", \"Male\", \"Male\", \"Male\", \"Male\", \"Female\", \"Male\", \"Female\", \"Male\", \"Male\", \"Male\", \"Male\", \"Female\", \"Male\", \"Female\", \"Male\", \"Male\", \"Male\", \"Male\", \"Male\", \"Male\", \"Female\", \"Male\", \"Male\", \"Male\", \"Male\", \"Male\", \"Male\", \"Male\", \"Male\", \"Male\", \"Male\", \"Male\", \"Male\", \"Male\", \"Male\", \"Male\", \"Male\", \"Male\", \"Male\", \"Female\", \"Male\", \"Male\", \"Male\", \"Female\", \"Male\", \"Male\", \"Male\", \"Male\", \"Male\", \"Male\", \"Male\", \"Male\", \"Male\", \"Diverse\", \"Male\", \"Male\", \"Female\", \"Male\", \"Male\", \"Male\", \"Male\", \"Male\", \"Male\", \"Male\", \"Male\", \"Female\", \"Male\", \"Male\", \"Female\", \"Male\", \"Female\", \"Male\", \"Male\", \"Male\", \"Male\", \"Female\", \"Female\", \"Male\", \"Male\", \"Male\", \"Male\", \"Female\", \"Male\", \"Male\", \"Male\", \"Male\", \"Female\", \"Male\", \"Male\", \"Male\", \"Male\", \"Male\", \"Female\", \"Male\", \"Male\", \"Male\", \"Male\", \"Male\", \"Male\", \"Male\", \"Male\", \"Male\", \"Male\", \"Male\", \"Male\", \"Male\", \"Male\", \"Male\", \"Male\", \"Male\", \"Male\", \"Male\", \"Male\", \"Male\", \"Male\", \"Male\", \"Male\", \"Male\", \"Male\", \"Male\", \"Male\", \"Male\", \"Male\", \"Male\", \"Female\", \"Female\", \"Male\", \"Male\", \"Male\", \"Male\", \"Male\", \"Female\", \"Male\", \"Male\", \"Male\", \"Male\", \"Male\", \"Male\", \"Male\", \"Male\", \"Female\", \"Male\", \"Female\", \"Female\", \"Male\", \"Male\", \"Male\", \"Male\", \"Male\", \"Male\", \"Male\", \"Male\", \"Male\", \"Male\", \"Male\", \"Male\", \"Male\", \"Male\", \"Male\", \"Male\", \"Female\", \"Male\", \"Male\", \"Male\", \"Male\", \"Male\", \"Female\", \"Male\", \"Female\", \"Male\", \"Male\", \"Female\", \"Female\", \"Male\", \"Female\", \"Male\", \"Male\", \"Male\", \"Male\", \"Female\", \"Female\", \"Male\", \"Male\", \"Male\", \"Male\", \"Male\", \"Male\", \"Male\", \"Male\", \"Male\", \"Female\", \"Male\", \"Female\", \"Male\", \"Female\", \"Male\", \"Male\", \"Male\", \"Male\", \"Female\", \"Male\", \"Male\", \"Male\", \"Male\", \"Male\", \"Female\", \"Male\", \"Male\", \"Male\", \"Male\", \"Male\", \"Male\", \"Male\", \"Male\", \"Male\", \"Male\", \"Female\", \"Male\", \"Male\", \"Male\", \"Male\", \"Female\", \"Female\", \"Male\", \"Male\", \"Male\", \"Male\", \"Male\", \"Male\", \"Female\", \"Male\", \"Male\", \"Male\", \"Male\", \"Male\", \"Female\", \"Male\", \"Male\", \"Female\", \"Male\", \"Male\", \"Male\", \"Male\", \"Male\", \"Male\", \"Male\", \"Male\", \"Male\", \"Female\", \"Male\", \"Male\", \"Male\", \"Male\", \"Male\", \"Male\", \"Male\", \"Male\", \"Male\", \"Female\", \"Female\", \"Male\", \"Male\", \"Male\", \"Male\", \"Male\", \"Male\", \"Male\", \"Male\", \"Female\", \"Male\", \"Male\", \"Male\", \"Male\", \"Male\", \"Male\", \"Female\", \"Male\", \"Male\", \"Male\", \"Male\", \"Male\", \"Male\", \"Male\", \"Male\", \"Male\", \"Male\", \"Male\", \"Male\", \"Male\", \"Male\", \"Male\", \"Male\", \"Male\", \"Male\", \"Male\", \"Male\", \"Male\", \"Male\", \"Male\", \"Male\", \"Female\", \"Male\", \"Male\", \"Male\", \"Male\", \"Male\", \"Male\", \"Male\", \"Male\", \"Male\", \"Male\", \"Male\", \"Male\", \"Male\", \"Male\", \"Male\", \"Male\", \"Male\", \"Female\", \"Male\", \"Male\", \"Male\", \"Male\", \"Male\", \"Male\", \"Male\", \"Male\", \"Male\", \"Female\", \"Male\", \"Female\", \"Male\", \"Male\", \"Male\", \"Male\", \"Female\", \"Male\", \"Male\", \"Male\", \"Male\", \"Female\", \"Male\", \"Male\", \"Male\", \"Male\", \"Male\", \"Male\", \"Female\", \"Male\", \"Male\", \"Female\", \"Female\", \"Male\", \"Male\", \"Male\", \"Male\", \"Male\", \"Female\", \"Male\", \"Male\", \"Male\", \"Male\", \"Male\", \"Male\", \"Male\", \"Male\", \"Female\", \"Male\", \"Male\", \"Female\", \"Male\", \"Male\", \"Male\", \"Female\", \"Male\", \"Male\", \"Male\", \"Male\", \"Female\", \"Female\", \"Male\", \"Male\", \"Male\", \"Male\", \"Male\", \"Male\", \"Male\", \"Male\", \"Male\", \"Male\", \"Female\", \"Male\", \"Female\", \"Male\", \"Male\", \"Male\", \"Female\", \"Male\", \"Male\", \"Male\", \"Male\", \"Male\", \"Male\", \"Male\", \"Female\", \"Female\", \"Male\", \"Female\", \"Male\", \"Female\", \"Male\", \"Male\", \"Male\", \"Male\", \"Male\", \"Male\", \"Female\", \"Male\", \"Male\", \"Male\", \"Male\", \"Female\", \"Male\", \"Male\", \"Male\", \"Male\", \"Male\", \"Male\", \"Female\", \"Male\", \"Male\", \"Male\", \"Male\", \"Female\", \"Male\", \"Male\", \"Male\", \"Male\", \"Male\", \"Male\", \"Male\", \"Male\", \"Male\", \"Male\", \"Male\", \"Male\", \"Male\", \"Male\", \"Male\", \"Male\", \"Male\", \"Male\", \"Male\", \"Male\", \"Male\", \"Male\", \"Male\", \"Male\", \"Male\", \"Female\", \"Female\", \"Male\", \"Male\", \"Male\", \"Female\", \"Male\", \"Female\", \"Male\", \"Male\", \"Male\", \"Male\", \"Male\", \"Male\", \"Female\", \"Male\", \"Male\", \"Male\", \"Male\", \"Male\", \"Male\", \"Male\", \"Female\", \"Female\", \"Female\", \"Female\", \"Male\", \"Male\", \"Female\", \"Female\", \"Male\", \"Male\", \"Male\", \"Male\", \"Male\", \"Male\", \"Male\", \"Female\", \"Male\", \"Male\", \"Male\", \"Male\", \"Male\", \"Male\", \"Male\", \"Male\", \"Male\", \"Male\", \"Male\", \"Male\", \"Male\", \"Female\", \"Female\", \"Male\", \"Male\", \"Male\", \"Male\", \"Male\", \"Male\", \"Female\", \"Male\", \"Male\", \"Male\", \"Male\", \"Male\", \"Male\", \"Male\", \"Male\", \"Male\", \"Male\", \"Female\", \"Male\", \"Male\", \"Male\", \"Male\", \"Male\", \"Female\", \"Male\", \"Male\", \"Female\", \"Male\", \"Male\", \"Male\", \"Male\", \"Male\", \"Male\", \"Male\", \"Male\", \"Male\", \"Male\", \"Male\", \"Male\", \"Male\", \"Male\", \"Male\", \"Male\", \"Male\", \"Male\", \"Male\", \"Male\", \"Female\", \"Male\", \"Male\", \"Male\", \"Male\", \"Male\", \"Male\", \"Female\", \"Male\", \"Male\", \"Female\", \"Male\", \"Male\", \"Male\", \"Male\", \"Male\", \"Male\", \"Male\", \"Male\", \"Male\"], \"legendgroup\": \"\", \"name\": \"\", \"showlegend\": true, \"textinfo\": \"label+percent\", \"type\": \"pie\"}],                        {\"legend\": {\"tracegroupgap\": 0}, \"margin\": {\"t\": 60}, \"template\": {\"data\": {\"bar\": [{\"error_x\": {\"color\": \"#2a3f5f\"}, \"error_y\": {\"color\": \"#2a3f5f\"}, \"marker\": {\"line\": {\"color\": \"#E5ECF6\", \"width\": 0.5}}, \"type\": \"bar\"}], \"barpolar\": [{\"marker\": {\"line\": {\"color\": \"#E5ECF6\", \"width\": 0.5}}, \"type\": \"barpolar\"}], \"carpet\": [{\"aaxis\": {\"endlinecolor\": \"#2a3f5f\", \"gridcolor\": \"white\", \"linecolor\": \"white\", \"minorgridcolor\": \"white\", \"startlinecolor\": \"#2a3f5f\"}, \"baxis\": {\"endlinecolor\": \"#2a3f5f\", \"gridcolor\": \"white\", \"linecolor\": \"white\", \"minorgridcolor\": \"white\", \"startlinecolor\": \"#2a3f5f\"}, \"type\": \"carpet\"}], \"choropleth\": [{\"colorbar\": {\"outlinewidth\": 0, \"ticks\": \"\"}, \"type\": \"choropleth\"}], \"contour\": [{\"colorbar\": {\"outlinewidth\": 0, \"ticks\": \"\"}, \"colorscale\": [[0.0, \"#0d0887\"], [0.1111111111111111, \"#46039f\"], [0.2222222222222222, \"#7201a8\"], [0.3333333333333333, \"#9c179e\"], [0.4444444444444444, \"#bd3786\"], [0.5555555555555556, \"#d8576b\"], [0.6666666666666666, \"#ed7953\"], [0.7777777777777778, \"#fb9f3a\"], [0.8888888888888888, \"#fdca26\"], [1.0, \"#f0f921\"]], \"type\": \"contour\"}], \"contourcarpet\": [{\"colorbar\": {\"outlinewidth\": 0, \"ticks\": \"\"}, \"type\": \"contourcarpet\"}], \"heatmap\": [{\"colorbar\": {\"outlinewidth\": 0, \"ticks\": \"\"}, \"colorscale\": [[0.0, \"#0d0887\"], [0.1111111111111111, \"#46039f\"], [0.2222222222222222, \"#7201a8\"], [0.3333333333333333, \"#9c179e\"], [0.4444444444444444, \"#bd3786\"], [0.5555555555555556, \"#d8576b\"], [0.6666666666666666, \"#ed7953\"], [0.7777777777777778, \"#fb9f3a\"], [0.8888888888888888, \"#fdca26\"], [1.0, \"#f0f921\"]], \"type\": \"heatmap\"}], \"heatmapgl\": [{\"colorbar\": {\"outlinewidth\": 0, \"ticks\": \"\"}, \"colorscale\": [[0.0, \"#0d0887\"], [0.1111111111111111, \"#46039f\"], [0.2222222222222222, \"#7201a8\"], [0.3333333333333333, \"#9c179e\"], [0.4444444444444444, \"#bd3786\"], [0.5555555555555556, \"#d8576b\"], [0.6666666666666666, \"#ed7953\"], [0.7777777777777778, \"#fb9f3a\"], [0.8888888888888888, \"#fdca26\"], [1.0, \"#f0f921\"]], \"type\": \"heatmapgl\"}], \"histogram\": [{\"marker\": {\"colorbar\": {\"outlinewidth\": 0, \"ticks\": \"\"}}, \"type\": \"histogram\"}], \"histogram2d\": [{\"colorbar\": {\"outlinewidth\": 0, \"ticks\": \"\"}, \"colorscale\": [[0.0, \"#0d0887\"], [0.1111111111111111, \"#46039f\"], [0.2222222222222222, \"#7201a8\"], [0.3333333333333333, \"#9c179e\"], [0.4444444444444444, \"#bd3786\"], [0.5555555555555556, \"#d8576b\"], [0.6666666666666666, \"#ed7953\"], [0.7777777777777778, \"#fb9f3a\"], [0.8888888888888888, \"#fdca26\"], [1.0, \"#f0f921\"]], \"type\": \"histogram2d\"}], \"histogram2dcontour\": [{\"colorbar\": {\"outlinewidth\": 0, \"ticks\": \"\"}, \"colorscale\": [[0.0, \"#0d0887\"], [0.1111111111111111, \"#46039f\"], [0.2222222222222222, \"#7201a8\"], [0.3333333333333333, \"#9c179e\"], [0.4444444444444444, \"#bd3786\"], [0.5555555555555556, \"#d8576b\"], [0.6666666666666666, \"#ed7953\"], [0.7777777777777778, \"#fb9f3a\"], [0.8888888888888888, \"#fdca26\"], [1.0, \"#f0f921\"]], \"type\": \"histogram2dcontour\"}], \"mesh3d\": [{\"colorbar\": {\"outlinewidth\": 0, \"ticks\": \"\"}, \"type\": \"mesh3d\"}], \"parcoords\": [{\"line\": {\"colorbar\": {\"outlinewidth\": 0, \"ticks\": \"\"}}, \"type\": \"parcoords\"}], \"pie\": [{\"automargin\": true, \"type\": \"pie\"}], \"scatter\": [{\"marker\": {\"colorbar\": {\"outlinewidth\": 0, \"ticks\": \"\"}}, \"type\": \"scatter\"}], \"scatter3d\": [{\"line\": {\"colorbar\": {\"outlinewidth\": 0, \"ticks\": \"\"}}, \"marker\": {\"colorbar\": {\"outlinewidth\": 0, \"ticks\": \"\"}}, \"type\": \"scatter3d\"}], \"scattercarpet\": [{\"marker\": {\"colorbar\": {\"outlinewidth\": 0, \"ticks\": \"\"}}, \"type\": \"scattercarpet\"}], \"scattergeo\": [{\"marker\": {\"colorbar\": {\"outlinewidth\": 0, \"ticks\": \"\"}}, \"type\": \"scattergeo\"}], \"scattergl\": [{\"marker\": {\"colorbar\": {\"outlinewidth\": 0, \"ticks\": \"\"}}, \"type\": \"scattergl\"}], \"scattermapbox\": [{\"marker\": {\"colorbar\": {\"outlinewidth\": 0, \"ticks\": \"\"}}, \"type\": \"scattermapbox\"}], \"scatterpolar\": [{\"marker\": {\"colorbar\": {\"outlinewidth\": 0, \"ticks\": \"\"}}, \"type\": \"scatterpolar\"}], \"scatterpolargl\": [{\"marker\": {\"colorbar\": {\"outlinewidth\": 0, \"ticks\": \"\"}}, \"type\": \"scatterpolargl\"}], \"scatterternary\": [{\"marker\": {\"colorbar\": {\"outlinewidth\": 0, \"ticks\": \"\"}}, \"type\": \"scatterternary\"}], \"surface\": [{\"colorbar\": {\"outlinewidth\": 0, \"ticks\": \"\"}, \"colorscale\": [[0.0, \"#0d0887\"], [0.1111111111111111, \"#46039f\"], [0.2222222222222222, \"#7201a8\"], [0.3333333333333333, \"#9c179e\"], [0.4444444444444444, \"#bd3786\"], [0.5555555555555556, \"#d8576b\"], [0.6666666666666666, \"#ed7953\"], [0.7777777777777778, \"#fb9f3a\"], [0.8888888888888888, \"#fdca26\"], [1.0, \"#f0f921\"]], \"type\": \"surface\"}], \"table\": [{\"cells\": {\"fill\": {\"color\": \"#EBF0F8\"}, \"line\": {\"color\": \"white\"}}, \"header\": {\"fill\": {\"color\": \"#C8D4E3\"}, \"line\": {\"color\": \"white\"}}, \"type\": \"table\"}]}, \"layout\": {\"annotationdefaults\": {\"arrowcolor\": \"#2a3f5f\", \"arrowhead\": 0, \"arrowwidth\": 1}, \"autotypenumbers\": \"strict\", \"coloraxis\": {\"colorbar\": {\"outlinewidth\": 0, \"ticks\": \"\"}}, \"colorscale\": {\"diverging\": [[0, \"#8e0152\"], [0.1, \"#c51b7d\"], [0.2, \"#de77ae\"], [0.3, \"#f1b6da\"], [0.4, \"#fde0ef\"], [0.5, \"#f7f7f7\"], [0.6, \"#e6f5d0\"], [0.7, \"#b8e186\"], [0.8, \"#7fbc41\"], [0.9, \"#4d9221\"], [1, \"#276419\"]], \"sequential\": [[0.0, \"#0d0887\"], [0.1111111111111111, \"#46039f\"], [0.2222222222222222, \"#7201a8\"], [0.3333333333333333, \"#9c179e\"], [0.4444444444444444, \"#bd3786\"], [0.5555555555555556, \"#d8576b\"], [0.6666666666666666, \"#ed7953\"], [0.7777777777777778, \"#fb9f3a\"], [0.8888888888888888, \"#fdca26\"], [1.0, \"#f0f921\"]], \"sequentialminus\": [[0.0, \"#0d0887\"], [0.1111111111111111, \"#46039f\"], [0.2222222222222222, \"#7201a8\"], [0.3333333333333333, \"#9c179e\"], [0.4444444444444444, \"#bd3786\"], [0.5555555555555556, \"#d8576b\"], [0.6666666666666666, \"#ed7953\"], [0.7777777777777778, \"#fb9f3a\"], [0.8888888888888888, \"#fdca26\"], [1.0, \"#f0f921\"]]}, \"colorway\": [\"#636efa\", \"#EF553B\", \"#00cc96\", \"#ab63fa\", \"#FFA15A\", \"#19d3f3\", \"#FF6692\", \"#B6E880\", \"#FF97FF\", \"#FECB52\"], \"font\": {\"color\": \"#2a3f5f\"}, \"geo\": {\"bgcolor\": \"white\", \"lakecolor\": \"white\", \"landcolor\": \"#E5ECF6\", \"showlakes\": true, \"showland\": true, \"subunitcolor\": \"white\"}, \"hoverlabel\": {\"align\": \"left\"}, \"hovermode\": \"closest\", \"mapbox\": {\"style\": \"light\"}, \"paper_bgcolor\": \"white\", \"plot_bgcolor\": \"#E5ECF6\", \"polar\": {\"angularaxis\": {\"gridcolor\": \"white\", \"linecolor\": \"white\", \"ticks\": \"\"}, \"bgcolor\": \"#E5ECF6\", \"radialaxis\": {\"gridcolor\": \"white\", \"linecolor\": \"white\", \"ticks\": \"\"}}, \"scene\": {\"xaxis\": {\"backgroundcolor\": \"#E5ECF6\", \"gridcolor\": \"white\", \"gridwidth\": 2, \"linecolor\": \"white\", \"showbackground\": true, \"ticks\": \"\", \"zerolinecolor\": \"white\"}, \"yaxis\": {\"backgroundcolor\": \"#E5ECF6\", \"gridcolor\": \"white\", \"gridwidth\": 2, \"linecolor\": \"white\", \"showbackground\": true, \"ticks\": \"\", \"zerolinecolor\": \"white\"}, \"zaxis\": {\"backgroundcolor\": \"#E5ECF6\", \"gridcolor\": \"white\", \"gridwidth\": 2, \"linecolor\": \"white\", \"showbackground\": true, \"ticks\": \"\", \"zerolinecolor\": \"white\"}}, \"shapedefaults\": {\"line\": {\"color\": \"#2a3f5f\"}}, \"ternary\": {\"aaxis\": {\"gridcolor\": \"white\", \"linecolor\": \"white\", \"ticks\": \"\"}, \"baxis\": {\"gridcolor\": \"white\", \"linecolor\": \"white\", \"ticks\": \"\"}, \"bgcolor\": \"#E5ECF6\", \"caxis\": {\"gridcolor\": \"white\", \"linecolor\": \"white\", \"ticks\": \"\"}}, \"title\": {\"x\": 0.05}, \"xaxis\": {\"automargin\": true, \"gridcolor\": \"white\", \"linecolor\": \"white\", \"ticks\": \"\", \"title\": {\"standoff\": 15}, \"zerolinecolor\": \"white\", \"zerolinewidth\": 2}, \"yaxis\": {\"automargin\": true, \"gridcolor\": \"white\", \"linecolor\": \"white\", \"ticks\": \"\", \"title\": {\"standoff\": 15}, \"zerolinecolor\": \"white\", \"zerolinewidth\": 2}}}},                        {\"responsive\": true}                    ).then(function(){\n",
              "                            \n",
              "var gd = document.getElementById('68dc29a4-86b8-49d0-9d97-de11025358d7');\n",
              "var x = new MutationObserver(function (mutations, observer) {{\n",
              "        var display = window.getComputedStyle(gd).display;\n",
              "        if (!display || display === 'none') {{\n",
              "            console.log([gd, 'removed!']);\n",
              "            Plotly.purge(gd);\n",
              "            observer.disconnect();\n",
              "        }}\n",
              "}});\n",
              "\n",
              "// Listen for the removal of the full notebook cells\n",
              "var notebookContainer = gd.closest('#notebook-container');\n",
              "if (notebookContainer) {{\n",
              "    x.observe(notebookContainer, {childList: true});\n",
              "}}\n",
              "\n",
              "// Listen for the clearing of the current output cell\n",
              "var outputEl = gd.closest('.output');\n",
              "if (outputEl) {{\n",
              "    x.observe(outputEl, {childList: true});\n",
              "}}\n",
              "\n",
              "                        })                };                            </script>        </div>\n",
              "</body>\n",
              "</html>"
            ]
          },
          "metadata": {
            "tags": []
          }
        }
      ]
    },
    {
      "cell_type": "markdown",
      "metadata": {
        "id": "uo95NopBCo6w"
      },
      "source": [
        "## Bonus Section [Optional but carries bonus marks]\r\n",
        "This dataset is as raw and real as it can get while conducting yearly surveys. You might have observed that the data is not clean and structured and requires some thorough cleaning before deriving meaningful plots. When combined with the power of Plotly and Dash, there are endless possibilities for the insightful visualizations you can create. \r\n",
        "\r\n",
        "This section is to let you experiment, explore and create as many visualizations as you’d like. You never know, if we like the creativity and the extra work, you might receive some bonus marks!\r\n"
      ]
    },
    {
      "cell_type": "code",
      "metadata": {
        "id": "tCY1-a_SFlWq"
      },
      "source": [
        "#!pip install dash==0.21.1  \r\n",
        "#!pip install dash-renderer==0.13.0  \r\n",
        "#!pip install dash-html-components==0.11.0\r\n",
        "#!pip install dash-core-components==0.23.0  \r\n",
        "#!pip install plotly --upgrade"
      ],
      "execution_count": 26,
      "outputs": []
    },
    {
      "cell_type": "code",
      "metadata": {
        "id": "Ex-MhCseJFy0"
      },
      "source": [
        "import dash\r\n",
        "import dash_core_components as dcc\r\n",
        "import dash_html_components as html"
      ],
      "execution_count": 27,
      "outputs": []
    },
    {
      "cell_type": "code",
      "metadata": {
        "id": "cQPqSCG_JUWP"
      },
      "source": [
        "app = dash.Dash()\r\n",
        "colors = {\r\n",
        "    'background': '#111111',\r\n",
        "    'text': '#7FDBFF'\r\n",
        "}\r\n",
        "app.layout = html.Div(style={'backgroundColor': colors['background']}, children=[\r\n",
        "    html.H1(\r\n",
        "        children='Hello Dash',\r\n",
        "        style={\r\n",
        "            'textAlign': 'center',\r\n",
        "            'color': colors['text']\r\n",
        "        }\r\n",
        "    ),\r\n",
        "    html.Div(children='Dash: A web application framework for Python.', style={\r\n",
        "        'textAlign': 'center',\r\n",
        "        'color': colors['text']\r\n",
        "    }),\r\n",
        "    dcc.Graph(\r\n",
        "        id='Graph1',\r\n",
        "        figure={\r\n",
        "            'data' = [{trace1}],\r\n",
        "            'layout': {\r\n",
        "                'plot_bgcolor': colors['background'],\r\n",
        "                'paper_bgcolor': colors['background'],\r\n",
        "                'font': {\r\n",
        "                    'color': colors['text']\r\n",
        "                    'title' :{} 'Total years of experience vs the current salary',\r\n",
        "                    \r\n",
        "layout = dict(\r\n",
        "              xaxis= dict(title= 'years of experience',ticklen= 5,zeroline= False)\r\n",
        "             )\r\n",
        "fig = dict(data = data, layout = layout)\r\n",
        "iplot(fig)\r\n",
        "                }\r\n",
        "            }\r\n",
        "        }\r\n",
        "    )\r\n",
        "])"
      ],
      "execution_count": 28,
      "outputs": []
    },
    {
      "cell_type": "code",
      "metadata": {
        "colab": {
          "base_uri": "https://localhost:8080/",
          "height": 296
        },
        "id": "fCjKIV5YJbAB",
        "outputId": "1d621c19-5b32-47c3-aa92-4897a22b5a5b"
      },
      "source": [
        "if __name__ == '__main__':\r\n",
        "    app.run_server(debug=True)"
      ],
      "execution_count": 29,
      "outputs": [
        {
          "output_type": "stream",
          "text": [
            " * Serving Flask app \"__main__\" (lazy loading)\n",
            " * Environment: production\n",
            "\u001b[31m   WARNING: This is a development server. Do not use it in a production deployment.\u001b[0m\n",
            "\u001b[2m   Use a production WSGI server instead.\u001b[0m\n",
            " * Debug mode: on\n"
          ],
          "name": "stdout"
        },
        {
          "output_type": "stream",
          "text": [
            " * Running on http://127.0.0.1:8050/ (Press CTRL+C to quit)\n",
            " * Restarting with stat\n"
          ],
          "name": "stderr"
        },
        {
          "output_type": "error",
          "ename": "SystemExit",
          "evalue": "ignored",
          "traceback": [
            "An exception has occurred, use %tb to see the full traceback.\n",
            "\u001b[0;31mSystemExit\u001b[0m\u001b[0;31m:\u001b[0m 1\n"
          ]
        },
        {
          "output_type": "stream",
          "text": [
            "/usr/local/lib/python3.7/dist-packages/IPython/core/interactiveshell.py:2890: UserWarning:\n",
            "\n",
            "To exit: use 'exit', 'quit', or Ctrl-D.\n",
            "\n"
          ],
          "name": "stderr"
        }
      ]
    },
    {
      "cell_type": "markdown",
      "metadata": {
        "id": "eZhk-3nbFl2n"
      },
      "source": [
        "# Conclusion\r\n",
        "This brings us to the end of the assignment and to the bootcamp. We hope you had a great learning time. :)\r\n",
        "\r\n",
        "Now, you can submit your notebook for assessment. "
      ]
    }
  ]
}