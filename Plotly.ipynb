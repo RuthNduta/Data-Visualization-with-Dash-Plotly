{
  "nbformat": 4,
  "nbformat_minor": 0,
  "metadata": {
    "colab": {
      "name": "Plotly.ipynb",
      "provenance": [],
      "collapsed_sections": [],
      "toc_visible": true,
      "include_colab_link": true
    },
    "kernelspec": {
      "display_name": "Python 3",
      "language": "python",
      "name": "python3"
    }
  },
  "cells": [
    {
      "cell_type": "markdown",
      "metadata": {
        "id": "view-in-github",
        "colab_type": "text"
      },
      "source": [
        "<a href=\"https://colab.research.google.com/github/RuthNduta/Data-Visualization-with-Dash-Plotly/blob/main/Plotly.ipynb\" target=\"_parent\"><img src=\"https://colab.research.google.com/assets/colab-badge.svg\" alt=\"Open In Colab\"/></a>"
      ]
    },
    {
      "cell_type": "markdown",
      "metadata": {
        "id": "00IJ1Sz_-o2P"
      },
      "source": [
        "# Overview\n",
        "Throughout this assignment, you will be performing certain well-defined tasks that’ll not only strengthen your concepts of Plotly and Dash, but will also help you learn a number of new concepts that are useful in analyzing, summarizing and visualizing data in the real world. \n",
        "\n",
        "Here is a template notebook with all the tasks mentioned in detail. **Please complete the tasks within the designated section only.**\n"
      ]
    },
    {
      "cell_type": "markdown",
      "metadata": {
        "id": "ZTfhIScP_AHG"
      },
      "source": [
        "## Task 1: Data Loading and Data Aggregation\n"
      ]
    },
    {
      "cell_type": "code",
      "metadata": {
        "id": "dJJ-zNZl-HzF"
      },
      "source": [
        "#Importing libraries to be used\n",
        "\n",
        "import pandas as pd\n",
        "import numpy as np\n",
        "import matplotlib\n",
        "from matplotlib import pyplot as plt\n",
        "import plotly.io as pio\n",
        "import plotly.express as px\n",
        "import plotly.graph_objs as go\n",
        "#!pip install chart-studio\n",
        "import chart_studio.plotly as plotly\n",
        "from chart_studio.plotly import plot, iplot\n",
        "from plotly.offline import iplot"
      ],
      "execution_count": null,
      "outputs": []
    },
    {
      "cell_type": "code",
      "metadata": {
        "id": "B34dgD1GIsH5"
      },
      "source": [
        "data18 = pd.read_csv(\"https://raw.githubusercontent.com/dphi-official/Datasets/master/IT_Salary_Survey_EU_18-20/Survey_2018.csv\")\n",
        "data19 = pd.read_csv(\"https://raw.githubusercontent.com/dphi-official/Datasets/master/IT_Salary_Survey_EU_18-20/Survey_2019.csv\")\n",
        "data20 = pd.read_csv(\"https://raw.githubusercontent.com/dphi-official/Datasets/master/IT_Salary_Survey_EU_18-20/Survey_2020.csv\")"
      ],
      "execution_count": null,
      "outputs": []
    },
    {
      "cell_type": "markdown",
      "metadata": {
        "id": "8GLPaTNTCKY-"
      },
      "source": [
        "##Task 2: Data Cleaning"
      ]
    },
    {
      "cell_type": "markdown",
      "metadata": {
        "id": "Tk6qnnwdSm2-"
      },
      "source": [
        "###Cleaning 2018 data"
      ]
    },
    {
      "cell_type": "code",
      "metadata": {
        "colab": {
          "base_uri": "https://localhost:8080/"
        },
        "id": "cYMe95jiIsH6",
        "outputId": "d4a257fa-fb7c-4fbb-f167-1a0af5815671"
      },
      "source": [
        "data18.info()"
      ],
      "execution_count": null,
      "outputs": [
        {
          "output_type": "stream",
          "text": [
            "<class 'pandas.core.frame.DataFrame'>\n",
            "RangeIndex: 765 entries, 0 to 764\n",
            "Data columns (total 14 columns):\n",
            " #   Column                              Non-Null Count  Dtype  \n",
            "---  ------                              --------------  -----  \n",
            " 0   Timestamp                           765 non-null    object \n",
            " 1   Age                                 672 non-null    float64\n",
            " 2   Gender                              751 non-null    object \n",
            " 3   City                                736 non-null    object \n",
            " 4   Position                            737 non-null    object \n",
            " 5   Years of experience                 732 non-null    float64\n",
            " 6   Your level                          743 non-null    object \n",
            " 7   Current Salary                      750 non-null    float64\n",
            " 8   Salary one year ago                 596 non-null    float64\n",
            " 9   Salary two years ago                463 non-null    float64\n",
            " 10  Are you getting any Stock Options?  742 non-null    object \n",
            " 11  Main language at work               750 non-null    object \n",
            " 12  Company size                        750 non-null    object \n",
            " 13  Company type                        730 non-null    object \n",
            "dtypes: float64(5), object(9)\n",
            "memory usage: 83.8+ KB\n"
          ],
          "name": "stdout"
        }
      ]
    },
    {
      "cell_type": "markdown",
      "metadata": {
        "id": "4oc63VMzSvYJ"
      },
      "source": [
        "\n",
        "\n",
        "* We have a couple of missing values. I will fill the numerical columns with the mean and the categorical columns with the mode.\n",
        "*   Drop the timestamp column since it's irrelevant.\n",
        "\n"
      ]
    },
    {
      "cell_type": "code",
      "metadata": {
        "id": "tB6WBJdVTN5r"
      },
      "source": [
        "#Selecting columns to be used for analysis\n",
        "data18 = data18[['Age', 'Gender', 'City', 'Position', 'Years of experience',\n",
        "       'Your level', 'Current Salary', 'Salary one year ago',\n",
        "       'Salary two years ago', 'Are you getting any Stock Options?',\n",
        "       'Main language at work', 'Company size', 'Company type']]"
      ],
      "execution_count": null,
      "outputs": []
    },
    {
      "cell_type": "code",
      "metadata": {
        "colab": {
          "base_uri": "https://localhost:8080/",
          "height": 171
        },
        "id": "Hsh9q22PZ1bT",
        "outputId": "f9c26a95-74cc-4029-9fec-ab0dc8552387"
      },
      "source": [
        "#Viewing the first 5 records\n",
        "data18.head(3)"
      ],
      "execution_count": null,
      "outputs": [
        {
          "output_type": "execute_result",
          "data": {
            "text/html": [
              "<div>\n",
              "<style scoped>\n",
              "    .dataframe tbody tr th:only-of-type {\n",
              "        vertical-align: middle;\n",
              "    }\n",
              "\n",
              "    .dataframe tbody tr th {\n",
              "        vertical-align: top;\n",
              "    }\n",
              "\n",
              "    .dataframe thead th {\n",
              "        text-align: right;\n",
              "    }\n",
              "</style>\n",
              "<table border=\"1\" class=\"dataframe\">\n",
              "  <thead>\n",
              "    <tr style=\"text-align: right;\">\n",
              "      <th></th>\n",
              "      <th>Age</th>\n",
              "      <th>Gender</th>\n",
              "      <th>City</th>\n",
              "      <th>Position</th>\n",
              "      <th>Years of experience</th>\n",
              "      <th>Your level</th>\n",
              "      <th>Current Salary</th>\n",
              "      <th>Salary one year ago</th>\n",
              "      <th>Salary two years ago</th>\n",
              "      <th>Are you getting any Stock Options?</th>\n",
              "      <th>Main language at work</th>\n",
              "      <th>Company size</th>\n",
              "      <th>Company type</th>\n",
              "    </tr>\n",
              "  </thead>\n",
              "  <tbody>\n",
              "    <tr>\n",
              "      <th>0</th>\n",
              "      <td>43.0</td>\n",
              "      <td>M</td>\n",
              "      <td>München</td>\n",
              "      <td>QA Ingenieur</td>\n",
              "      <td>11.0</td>\n",
              "      <td>Senior</td>\n",
              "      <td>77000.0</td>\n",
              "      <td>76200.0</td>\n",
              "      <td>68000.0</td>\n",
              "      <td>No</td>\n",
              "      <td>Deutsch</td>\n",
              "      <td>100-1000</td>\n",
              "      <td>Product</td>\n",
              "    </tr>\n",
              "    <tr>\n",
              "      <th>1</th>\n",
              "      <td>33.0</td>\n",
              "      <td>F</td>\n",
              "      <td>München</td>\n",
              "      <td>Senior PHP Magento developer</td>\n",
              "      <td>8.0</td>\n",
              "      <td>Senior</td>\n",
              "      <td>65000.0</td>\n",
              "      <td>55000.0</td>\n",
              "      <td>55000.0</td>\n",
              "      <td>No</td>\n",
              "      <td>Deutsch</td>\n",
              "      <td>50-100</td>\n",
              "      <td>Product</td>\n",
              "    </tr>\n",
              "    <tr>\n",
              "      <th>2</th>\n",
              "      <td>32.0</td>\n",
              "      <td>M</td>\n",
              "      <td>München</td>\n",
              "      <td>Software Engineer</td>\n",
              "      <td>10.0</td>\n",
              "      <td>Senior</td>\n",
              "      <td>88000.0</td>\n",
              "      <td>73000.0</td>\n",
              "      <td>54000.0</td>\n",
              "      <td>No</td>\n",
              "      <td>Deutsch</td>\n",
              "      <td>1000+</td>\n",
              "      <td>Product</td>\n",
              "    </tr>\n",
              "  </tbody>\n",
              "</table>\n",
              "</div>"
            ],
            "text/plain": [
              "    Age Gender     City  ... Main language at work  Company size Company type\n",
              "0  43.0      M  München  ...               Deutsch      100-1000      Product\n",
              "1  33.0      F  München  ...               Deutsch        50-100      Product\n",
              "2  32.0      M  München  ...               Deutsch         1000+      Product\n",
              "\n",
              "[3 rows x 13 columns]"
            ]
          },
          "metadata": {
            "tags": []
          },
          "execution_count": 10
        }
      ]
    },
    {
      "cell_type": "code",
      "metadata": {
        "colab": {
          "base_uri": "https://localhost:8080/"
        },
        "id": "qs4ZUG7_YE54",
        "outputId": "91bc4b1f-6cbf-476e-ecad-431b3693a060"
      },
      "source": [
        "#Checking for missing values\n",
        "nulls = data18.isnull().sum().sort_values(ascending=False)\n",
        "nulls"
      ],
      "execution_count": null,
      "outputs": [
        {
          "output_type": "execute_result",
          "data": {
            "text/plain": [
              "Salary two years ago                  302\n",
              "Salary one year ago                   169\n",
              "Age                                    93\n",
              "Company type                           35\n",
              "Years of experience                    33\n",
              "City                                   29\n",
              "Position                               28\n",
              "Are you getting any Stock Options?     23\n",
              "Your level                             22\n",
              "Company size                           15\n",
              "Main language at work                  15\n",
              "Current Salary                         15\n",
              "Gender                                 14\n",
              "dtype: int64"
            ]
          },
          "metadata": {
            "tags": []
          },
          "execution_count": 11
        }
      ]
    },
    {
      "cell_type": "code",
      "metadata": {
        "colab": {
          "base_uri": "https://localhost:8080/",
          "height": 542
        },
        "id": "6l5XcaY4cfTx",
        "outputId": "5db6f581-5cab-412a-feee-058d93426596"
      },
      "source": [
        "#Visualizing the missing values\n",
        "\n",
        "fig = go.Figure(\n",
        "   data=[\n",
        "       go.Bar(\n",
        "           x=data18.isnull().columns,\n",
        "           y=nulls\n",
        "       )\n",
        "   ],\n",
        "   layout=go.Layout(\n",
        "       title=\"missing values in 2018 data\"\n",
        "   )\n",
        ")\n",
        "iplot(fig)"
      ],
      "execution_count": null,
      "outputs": [
        {
          "output_type": "display_data",
          "data": {
            "text/html": [
              "<html>\n",
              "<head><meta charset=\"utf-8\" /></head>\n",
              "<body>\n",
              "    <div>\n",
              "            <script src=\"https://cdnjs.cloudflare.com/ajax/libs/mathjax/2.7.5/MathJax.js?config=TeX-AMS-MML_SVG\"></script><script type=\"text/javascript\">if (window.MathJax) {MathJax.Hub.Config({SVG: {font: \"STIX-Web\"}});}</script>\n",
              "                <script type=\"text/javascript\">window.PlotlyConfig = {MathJaxConfig: 'local'};</script>\n",
              "        <script src=\"https://cdn.plot.ly/plotly-latest.min.js\"></script>    \n",
              "            <div id=\"3354cd08-afca-47b3-aa04-d62893dbe3a3\" class=\"plotly-graph-div\" style=\"height:525px; width:100%;\"></div>\n",
              "            <script type=\"text/javascript\">\n",
              "                \n",
              "                    window.PLOTLYENV=window.PLOTLYENV || {};\n",
              "                    \n",
              "                if (document.getElementById(\"3354cd08-afca-47b3-aa04-d62893dbe3a3\")) {\n",
              "                    Plotly.newPlot(\n",
              "                        '3354cd08-afca-47b3-aa04-d62893dbe3a3',\n",
              "                        [{\"type\": \"bar\", \"x\": [\"Age\", \"Gender\", \"City\", \"Position\", \"Years of experience\", \"Your level\", \"Current Salary\", \"Salary one year ago\", \"Salary two years ago\", \"Are you getting any Stock Options?\", \"Main language at work\", \"Company size\", \"Company type\"], \"y\": [302, 169, 93, 35, 33, 29, 28, 23, 22, 15, 15, 15, 14]}],\n",
              "                        {\"template\": {\"data\": {\"bar\": [{\"error_x\": {\"color\": \"#2a3f5f\"}, \"error_y\": {\"color\": \"#2a3f5f\"}, \"marker\": {\"line\": {\"color\": \"#E5ECF6\", \"width\": 0.5}}, \"type\": \"bar\"}], \"barpolar\": [{\"marker\": {\"line\": {\"color\": \"#E5ECF6\", \"width\": 0.5}}, \"type\": \"barpolar\"}], \"carpet\": [{\"aaxis\": {\"endlinecolor\": \"#2a3f5f\", \"gridcolor\": \"white\", \"linecolor\": \"white\", \"minorgridcolor\": \"white\", \"startlinecolor\": \"#2a3f5f\"}, \"baxis\": {\"endlinecolor\": \"#2a3f5f\", \"gridcolor\": \"white\", \"linecolor\": \"white\", \"minorgridcolor\": \"white\", \"startlinecolor\": \"#2a3f5f\"}, \"type\": \"carpet\"}], \"choropleth\": [{\"colorbar\": {\"outlinewidth\": 0, \"ticks\": \"\"}, \"type\": \"choropleth\"}], \"contour\": [{\"colorbar\": {\"outlinewidth\": 0, \"ticks\": \"\"}, \"colorscale\": [[0.0, \"#0d0887\"], [0.1111111111111111, \"#46039f\"], [0.2222222222222222, \"#7201a8\"], [0.3333333333333333, \"#9c179e\"], [0.4444444444444444, \"#bd3786\"], [0.5555555555555556, \"#d8576b\"], [0.6666666666666666, \"#ed7953\"], [0.7777777777777778, \"#fb9f3a\"], [0.8888888888888888, \"#fdca26\"], [1.0, \"#f0f921\"]], \"type\": \"contour\"}], \"contourcarpet\": [{\"colorbar\": {\"outlinewidth\": 0, \"ticks\": \"\"}, \"type\": \"contourcarpet\"}], \"heatmap\": [{\"colorbar\": {\"outlinewidth\": 0, \"ticks\": \"\"}, \"colorscale\": [[0.0, \"#0d0887\"], [0.1111111111111111, \"#46039f\"], [0.2222222222222222, \"#7201a8\"], [0.3333333333333333, \"#9c179e\"], [0.4444444444444444, \"#bd3786\"], [0.5555555555555556, \"#d8576b\"], [0.6666666666666666, \"#ed7953\"], [0.7777777777777778, \"#fb9f3a\"], [0.8888888888888888, \"#fdca26\"], [1.0, \"#f0f921\"]], \"type\": \"heatmap\"}], \"heatmapgl\": [{\"colorbar\": {\"outlinewidth\": 0, \"ticks\": \"\"}, \"colorscale\": [[0.0, \"#0d0887\"], [0.1111111111111111, \"#46039f\"], [0.2222222222222222, \"#7201a8\"], [0.3333333333333333, \"#9c179e\"], [0.4444444444444444, \"#bd3786\"], [0.5555555555555556, \"#d8576b\"], [0.6666666666666666, \"#ed7953\"], [0.7777777777777778, \"#fb9f3a\"], [0.8888888888888888, \"#fdca26\"], [1.0, \"#f0f921\"]], \"type\": \"heatmapgl\"}], \"histogram\": [{\"marker\": {\"colorbar\": {\"outlinewidth\": 0, \"ticks\": \"\"}}, \"type\": \"histogram\"}], \"histogram2d\": [{\"colorbar\": {\"outlinewidth\": 0, \"ticks\": \"\"}, \"colorscale\": [[0.0, \"#0d0887\"], [0.1111111111111111, \"#46039f\"], [0.2222222222222222, \"#7201a8\"], [0.3333333333333333, \"#9c179e\"], [0.4444444444444444, \"#bd3786\"], [0.5555555555555556, \"#d8576b\"], [0.6666666666666666, \"#ed7953\"], [0.7777777777777778, \"#fb9f3a\"], [0.8888888888888888, \"#fdca26\"], [1.0, \"#f0f921\"]], \"type\": \"histogram2d\"}], \"histogram2dcontour\": [{\"colorbar\": {\"outlinewidth\": 0, \"ticks\": \"\"}, \"colorscale\": [[0.0, \"#0d0887\"], [0.1111111111111111, \"#46039f\"], [0.2222222222222222, \"#7201a8\"], [0.3333333333333333, \"#9c179e\"], [0.4444444444444444, \"#bd3786\"], [0.5555555555555556, \"#d8576b\"], [0.6666666666666666, \"#ed7953\"], [0.7777777777777778, \"#fb9f3a\"], [0.8888888888888888, \"#fdca26\"], [1.0, \"#f0f921\"]], \"type\": \"histogram2dcontour\"}], \"mesh3d\": [{\"colorbar\": {\"outlinewidth\": 0, \"ticks\": \"\"}, \"type\": \"mesh3d\"}], \"parcoords\": [{\"line\": {\"colorbar\": {\"outlinewidth\": 0, \"ticks\": \"\"}}, \"type\": \"parcoords\"}], \"pie\": [{\"automargin\": true, \"type\": \"pie\"}], \"scatter\": [{\"marker\": {\"colorbar\": {\"outlinewidth\": 0, \"ticks\": \"\"}}, \"type\": \"scatter\"}], \"scatter3d\": [{\"line\": {\"colorbar\": {\"outlinewidth\": 0, \"ticks\": \"\"}}, \"marker\": {\"colorbar\": {\"outlinewidth\": 0, \"ticks\": \"\"}}, \"type\": \"scatter3d\"}], \"scattercarpet\": [{\"marker\": {\"colorbar\": {\"outlinewidth\": 0, \"ticks\": \"\"}}, \"type\": \"scattercarpet\"}], \"scattergeo\": [{\"marker\": {\"colorbar\": {\"outlinewidth\": 0, \"ticks\": \"\"}}, \"type\": \"scattergeo\"}], \"scattergl\": [{\"marker\": {\"colorbar\": {\"outlinewidth\": 0, \"ticks\": \"\"}}, \"type\": \"scattergl\"}], \"scattermapbox\": [{\"marker\": {\"colorbar\": {\"outlinewidth\": 0, \"ticks\": \"\"}}, \"type\": \"scattermapbox\"}], \"scatterpolar\": [{\"marker\": {\"colorbar\": {\"outlinewidth\": 0, \"ticks\": \"\"}}, \"type\": \"scatterpolar\"}], \"scatterpolargl\": [{\"marker\": {\"colorbar\": {\"outlinewidth\": 0, \"ticks\": \"\"}}, \"type\": \"scatterpolargl\"}], \"scatterternary\": [{\"marker\": {\"colorbar\": {\"outlinewidth\": 0, \"ticks\": \"\"}}, \"type\": \"scatterternary\"}], \"surface\": [{\"colorbar\": {\"outlinewidth\": 0, \"ticks\": \"\"}, \"colorscale\": [[0.0, \"#0d0887\"], [0.1111111111111111, \"#46039f\"], [0.2222222222222222, \"#7201a8\"], [0.3333333333333333, \"#9c179e\"], [0.4444444444444444, \"#bd3786\"], [0.5555555555555556, \"#d8576b\"], [0.6666666666666666, \"#ed7953\"], [0.7777777777777778, \"#fb9f3a\"], [0.8888888888888888, \"#fdca26\"], [1.0, \"#f0f921\"]], \"type\": \"surface\"}], \"table\": [{\"cells\": {\"fill\": {\"color\": \"#EBF0F8\"}, \"line\": {\"color\": \"white\"}}, \"header\": {\"fill\": {\"color\": \"#C8D4E3\"}, \"line\": {\"color\": \"white\"}}, \"type\": \"table\"}]}, \"layout\": {\"annotationdefaults\": {\"arrowcolor\": \"#2a3f5f\", \"arrowhead\": 0, \"arrowwidth\": 1}, \"coloraxis\": {\"colorbar\": {\"outlinewidth\": 0, \"ticks\": \"\"}}, \"colorscale\": {\"diverging\": [[0, \"#8e0152\"], [0.1, \"#c51b7d\"], [0.2, \"#de77ae\"], [0.3, \"#f1b6da\"], [0.4, \"#fde0ef\"], [0.5, \"#f7f7f7\"], [0.6, \"#e6f5d0\"], [0.7, \"#b8e186\"], [0.8, \"#7fbc41\"], [0.9, \"#4d9221\"], [1, \"#276419\"]], \"sequential\": [[0.0, \"#0d0887\"], [0.1111111111111111, \"#46039f\"], [0.2222222222222222, \"#7201a8\"], [0.3333333333333333, \"#9c179e\"], [0.4444444444444444, \"#bd3786\"], [0.5555555555555556, \"#d8576b\"], [0.6666666666666666, \"#ed7953\"], [0.7777777777777778, \"#fb9f3a\"], [0.8888888888888888, \"#fdca26\"], [1.0, \"#f0f921\"]], \"sequentialminus\": [[0.0, \"#0d0887\"], [0.1111111111111111, \"#46039f\"], [0.2222222222222222, \"#7201a8\"], [0.3333333333333333, \"#9c179e\"], [0.4444444444444444, \"#bd3786\"], [0.5555555555555556, \"#d8576b\"], [0.6666666666666666, \"#ed7953\"], [0.7777777777777778, \"#fb9f3a\"], [0.8888888888888888, \"#fdca26\"], [1.0, \"#f0f921\"]]}, \"colorway\": [\"#636efa\", \"#EF553B\", \"#00cc96\", \"#ab63fa\", \"#FFA15A\", \"#19d3f3\", \"#FF6692\", \"#B6E880\", \"#FF97FF\", \"#FECB52\"], \"font\": {\"color\": \"#2a3f5f\"}, \"geo\": {\"bgcolor\": \"white\", \"lakecolor\": \"white\", \"landcolor\": \"#E5ECF6\", \"showlakes\": true, \"showland\": true, \"subunitcolor\": \"white\"}, \"hoverlabel\": {\"align\": \"left\"}, \"hovermode\": \"closest\", \"mapbox\": {\"style\": \"light\"}, \"paper_bgcolor\": \"white\", \"plot_bgcolor\": \"#E5ECF6\", \"polar\": {\"angularaxis\": {\"gridcolor\": \"white\", \"linecolor\": \"white\", \"ticks\": \"\"}, \"bgcolor\": \"#E5ECF6\", \"radialaxis\": {\"gridcolor\": \"white\", \"linecolor\": \"white\", \"ticks\": \"\"}}, \"scene\": {\"xaxis\": {\"backgroundcolor\": \"#E5ECF6\", \"gridcolor\": \"white\", \"gridwidth\": 2, \"linecolor\": \"white\", \"showbackground\": true, \"ticks\": \"\", \"zerolinecolor\": \"white\"}, \"yaxis\": {\"backgroundcolor\": \"#E5ECF6\", \"gridcolor\": \"white\", \"gridwidth\": 2, \"linecolor\": \"white\", \"showbackground\": true, \"ticks\": \"\", \"zerolinecolor\": \"white\"}, \"zaxis\": {\"backgroundcolor\": \"#E5ECF6\", \"gridcolor\": \"white\", \"gridwidth\": 2, \"linecolor\": \"white\", \"showbackground\": true, \"ticks\": \"\", \"zerolinecolor\": \"white\"}}, \"shapedefaults\": {\"line\": {\"color\": \"#2a3f5f\"}}, \"ternary\": {\"aaxis\": {\"gridcolor\": \"white\", \"linecolor\": \"white\", \"ticks\": \"\"}, \"baxis\": {\"gridcolor\": \"white\", \"linecolor\": \"white\", \"ticks\": \"\"}, \"bgcolor\": \"#E5ECF6\", \"caxis\": {\"gridcolor\": \"white\", \"linecolor\": \"white\", \"ticks\": \"\"}}, \"title\": {\"x\": 0.05}, \"xaxis\": {\"automargin\": true, \"gridcolor\": \"white\", \"linecolor\": \"white\", \"ticks\": \"\", \"title\": {\"standoff\": 15}, \"zerolinecolor\": \"white\", \"zerolinewidth\": 2}, \"yaxis\": {\"automargin\": true, \"gridcolor\": \"white\", \"linecolor\": \"white\", \"ticks\": \"\", \"title\": {\"standoff\": 15}, \"zerolinecolor\": \"white\", \"zerolinewidth\": 2}}}, \"title\": {\"text\": \"missing values in 2018 data\"}},\n",
              "                        {\"responsive\": true}\n",
              "                    ).then(function(){\n",
              "                            \n",
              "var gd = document.getElementById('3354cd08-afca-47b3-aa04-d62893dbe3a3');\n",
              "var x = new MutationObserver(function (mutations, observer) {{\n",
              "        var display = window.getComputedStyle(gd).display;\n",
              "        if (!display || display === 'none') {{\n",
              "            console.log([gd, 'removed!']);\n",
              "            Plotly.purge(gd);\n",
              "            observer.disconnect();\n",
              "        }}\n",
              "}});\n",
              "\n",
              "// Listen for the removal of the full notebook cells\n",
              "var notebookContainer = gd.closest('#notebook-container');\n",
              "if (notebookContainer) {{\n",
              "    x.observe(notebookContainer, {childList: true});\n",
              "}}\n",
              "\n",
              "// Listen for the clearing of the current output cell\n",
              "var outputEl = gd.closest('.output');\n",
              "if (outputEl) {{\n",
              "    x.observe(outputEl, {childList: true});\n",
              "}}\n",
              "\n",
              "                        })\n",
              "                };\n",
              "                \n",
              "            </script>\n",
              "        </div>\n",
              "</body>\n",
              "</html>"
            ]
          },
          "metadata": {
            "tags": []
          }
        }
      ]
    },
    {
      "cell_type": "code",
      "metadata": {
        "id": "_mQUabSwUdbt"
      },
      "source": [
        "#Imputing missing 2018 data\n",
        "\n",
        "data18['Age'].fillna(data18['Age'].mean(), inplace= True)\n",
        "data18['Are you getting any Stock Options?'].fillna(data18['Are you getting any Stock Options?'].mode()[0], inplace=True)\n",
        "data18['Gender'].fillna(data18['Gender'].mode()[0], inplace=True)\n",
        "data18['City'].fillna(data18['City'].mode()[0], inplace=True)\n",
        "data18['Position'].fillna(data18['Position'].mode()[0], inplace=True)\n",
        "data18['Years of experience'].fillna(data18['Years of experience'].mean(), inplace= True)\n",
        "data18['Your level'].fillna(data18['Your level'].mode()[0], inplace=True)\n",
        "data18['Current Salary'].fillna(data18['Current Salary'].mean(), inplace= True)\n",
        "data18['Salary one year ago'].fillna(data18['Salary one year ago'].mean(), inplace= True)\n",
        "data18['Salary two years ago'].fillna(data18['Salary two years ago'].mean(), inplace= True)\n",
        "data18['Main language at work'].fillna(data18['Main language at work'].mode()[0], inplace=True)\n",
        "data18['Company size'].fillna(data18['Company size'].mode()[0], inplace=True)\n",
        "data18['Company type'].fillna(data18['Company type'].mode()[0], inplace=True)"
      ],
      "execution_count": null,
      "outputs": []
    },
    {
      "cell_type": "code",
      "metadata": {
        "id": "_F48jkhVed8X"
      },
      "source": [
        "#Let's deal with duplicated data\n",
        "\n",
        "data18.duplicated().sum()\n",
        "data18.drop_duplicates(inplace=True)"
      ],
      "execution_count": null,
      "outputs": []
    },
    {
      "cell_type": "code",
      "metadata": {
        "colab": {
          "base_uri": "https://localhost:8080/",
          "height": 287
        },
        "id": "QkHQ-S_7exfy",
        "outputId": "515a90e9-009a-47d7-d16a-8b1ed9ae20b2"
      },
      "source": [
        "#Let's see the descriptive statistics of the 2018 data\n",
        "data18.describe()"
      ],
      "execution_count": null,
      "outputs": [
        {
          "output_type": "execute_result",
          "data": {
            "text/html": [
              "<div>\n",
              "<style scoped>\n",
              "    .dataframe tbody tr th:only-of-type {\n",
              "        vertical-align: middle;\n",
              "    }\n",
              "\n",
              "    .dataframe tbody tr th {\n",
              "        vertical-align: top;\n",
              "    }\n",
              "\n",
              "    .dataframe thead th {\n",
              "        text-align: right;\n",
              "    }\n",
              "</style>\n",
              "<table border=\"1\" class=\"dataframe\">\n",
              "  <thead>\n",
              "    <tr style=\"text-align: right;\">\n",
              "      <th></th>\n",
              "      <th>Age</th>\n",
              "      <th>Years of experience</th>\n",
              "      <th>Current Salary</th>\n",
              "      <th>Salary one year ago</th>\n",
              "      <th>Salary two years ago</th>\n",
              "    </tr>\n",
              "  </thead>\n",
              "  <tbody>\n",
              "    <tr>\n",
              "      <th>count</th>\n",
              "      <td>744.000000</td>\n",
              "      <td>744.000000</td>\n",
              "      <td>744.000000</td>\n",
              "      <td>744.000000</td>\n",
              "      <td>744.000000</td>\n",
              "    </tr>\n",
              "    <tr>\n",
              "      <th>mean</th>\n",
              "      <td>32.192822</td>\n",
              "      <td>8.567229</td>\n",
              "      <td>68434.770559</td>\n",
              "      <td>62256.916897</td>\n",
              "      <td>58059.228422</td>\n",
              "    </tr>\n",
              "    <tr>\n",
              "      <th>std</th>\n",
              "      <td>4.841496</td>\n",
              "      <td>4.667647</td>\n",
              "      <td>21169.265484</td>\n",
              "      <td>17899.577720</td>\n",
              "      <td>16077.599970</td>\n",
              "    </tr>\n",
              "    <tr>\n",
              "      <th>min</th>\n",
              "      <td>21.000000</td>\n",
              "      <td>0.000000</td>\n",
              "      <td>10300.000000</td>\n",
              "      <td>10001.000000</td>\n",
              "      <td>10001.000000</td>\n",
              "    </tr>\n",
              "    <tr>\n",
              "      <th>25%</th>\n",
              "      <td>30.000000</td>\n",
              "      <td>5.000000</td>\n",
              "      <td>57000.000000</td>\n",
              "      <td>55000.000000</td>\n",
              "      <td>54000.000000</td>\n",
              "    </tr>\n",
              "    <tr>\n",
              "      <th>50%</th>\n",
              "      <td>32.000000</td>\n",
              "      <td>8.000000</td>\n",
              "      <td>65000.000000</td>\n",
              "      <td>62187.278523</td>\n",
              "      <td>58013.475162</td>\n",
              "    </tr>\n",
              "    <tr>\n",
              "      <th>75%</th>\n",
              "      <td>34.000000</td>\n",
              "      <td>11.000000</td>\n",
              "      <td>75000.000000</td>\n",
              "      <td>68000.000000</td>\n",
              "      <td>60000.000000</td>\n",
              "    </tr>\n",
              "    <tr>\n",
              "      <th>max</th>\n",
              "      <td>60.000000</td>\n",
              "      <td>38.000000</td>\n",
              "      <td>200000.000000</td>\n",
              "      <td>200000.000000</td>\n",
              "      <td>150000.000000</td>\n",
              "    </tr>\n",
              "  </tbody>\n",
              "</table>\n",
              "</div>"
            ],
            "text/plain": [
              "              Age  ...  Salary two years ago\n",
              "count  744.000000  ...            744.000000\n",
              "mean    32.192822  ...          58059.228422\n",
              "std      4.841496  ...          16077.599970\n",
              "min     21.000000  ...          10001.000000\n",
              "25%     30.000000  ...          54000.000000\n",
              "50%     32.000000  ...          58013.475162\n",
              "75%     34.000000  ...          60000.000000\n",
              "max     60.000000  ...         150000.000000\n",
              "\n",
              "[8 rows x 5 columns]"
            ]
          },
          "metadata": {
            "tags": []
          },
          "execution_count": 15
        }
      ]
    },
    {
      "cell_type": "code",
      "metadata": {
        "colab": {
          "base_uri": "https://localhost:8080/"
        },
        "id": "0pThYOpBinNE",
        "outputId": "aef2d617-d7f9-4200-e846-236c88ab33b3"
      },
      "source": [
        "#Checking for outliers using the interquartile range\n",
        "Q1 = data18.quantile(0.25)\n",
        "Q3 = data18.quantile(0.75)\n",
        "IQR18 = Q3 - Q1\n",
        "IQR18\n"
      ],
      "execution_count": null,
      "outputs": [
        {
          "output_type": "execute_result",
          "data": {
            "text/plain": [
              "Age                         4.0\n",
              "Years of experience         6.0\n",
              "Current Salary          18000.0\n",
              "Salary one year ago     13000.0\n",
              "Salary two years ago     6000.0\n",
              "dtype: float64"
            ]
          },
          "metadata": {
            "tags": []
          },
          "execution_count": 16
        }
      ]
    },
    {
      "cell_type": "code",
      "metadata": {
        "id": "mbCq2l3UgyGj"
      },
      "source": [
        "#This code also works but using graphicalobjects is prettier\n",
        "#fig = px.box(pd.melt(data18), x=\"variable\", y=\"value\", points=\"outliers\")\n",
        "#fig.show()"
      ],
      "execution_count": null,
      "outputs": []
    },
    {
      "cell_type": "code",
      "metadata": {
        "colab": {
          "base_uri": "https://localhost:8080/",
          "height": 542
        },
        "id": "ozcn8SIsg808",
        "outputId": "2429782a-c516-4548-8b9e-38304841d14a"
      },
      "source": [
        "#Box plot for outliers\n",
        "out18 = data18[['Age','Years of experience', 'Current Salary', 'Salary one year ago','Salary two years ago']]\n",
        "fig = go.Figure()\n",
        "\n",
        "for col in out18:\n",
        "  fig.add_trace(go.Box(y=out18[col].values, name=out18[col].name))\n",
        "  \n",
        "fig.show()"
      ],
      "execution_count": null,
      "outputs": [
        {
          "output_type": "display_data",
          "data": {
            "text/html": [
              "<html>\n",
              "<head><meta charset=\"utf-8\" /></head>\n",
              "<body>\n",
              "    <div>\n",
              "            <script src=\"https://cdnjs.cloudflare.com/ajax/libs/mathjax/2.7.5/MathJax.js?config=TeX-AMS-MML_SVG\"></script><script type=\"text/javascript\">if (window.MathJax) {MathJax.Hub.Config({SVG: {font: \"STIX-Web\"}});}</script>\n",
              "                <script type=\"text/javascript\">window.PlotlyConfig = {MathJaxConfig: 'local'};</script>\n",
              "        <script src=\"https://cdn.plot.ly/plotly-latest.min.js\"></script>    \n",
              "            <div id=\"544e81ec-c1c1-42e9-a0ce-8d7f25320c88\" class=\"plotly-graph-div\" style=\"height:525px; width:100%;\"></div>\n",
              "            <script type=\"text/javascript\">\n",
              "                \n",
              "                    window.PLOTLYENV=window.PLOTLYENV || {};\n",
              "                    \n",
              "                if (document.getElementById(\"544e81ec-c1c1-42e9-a0ce-8d7f25320c88\")) {\n",
              "                    Plotly.newPlot(\n",
              "                        '544e81ec-c1c1-42e9-a0ce-8d7f25320c88',\n",
              "                        [{\"name\": \"Age\", \"type\": \"box\", \"y\": [43.0, 33.0, 32.0, 25.0, 39.0, 37.0, 32.183035714285715, 36.0, 32.0, 30.0, 40.0, 33.0, 31.0, 29.0, 32.0, 25.0, 33.0, 24.0, 44.0, 37.0, 29.0, 34.0, 28.0, 35.0, 32.0, 40.0, 39.0, 38.0, 28.0, 31.0, 39.0, 35.0, 32.0, 27.0, 32.183035714285715, 31.0, 31.0, 32.0, 35.0, 33.0, 32.0, 41.0, 32.183035714285715, 30.0, 24.0, 43.0, 28.0, 29.0, 32.0, 31.0, 33.0, 29.0, 28.0, 32.0, 26.0, 34.0, 29.0, 27.0, 28.0, 34.0, 35.0, 32.0, 32.0, 32.183035714285715, 29.0, 36.0, 29.0, 25.0, 32.183035714285715, 32.183035714285715, 25.0, 32.0, 29.0, 32.183035714285715, 26.0, 33.0, 28.0, 31.0, 29.0, 29.0, 33.0, 31.0, 32.183035714285715, 27.0, 30.0, 32.183035714285715, 34.0, 24.0, 44.0, 37.0, 32.183035714285715, 33.0, 36.0, 34.0, 31.0, 25.0, 28.0, 38.0, 32.0, 22.0, 37.0, 32.0, 40.0, 24.0, 36.0, 35.0, 28.0, 32.0, 33.0, 36.0, 32.0, 32.0, 32.0, 31.0, 34.0, 32.183035714285715, 32.0, 34.0, 32.0, 27.0, 31.0, 32.0, 32.183035714285715, 27.0, 30.0, 34.0, 30.0, 24.0, 28.0, 39.0, 29.0, 34.0, 30.0, 35.0, 37.0, 25.0, 37.0, 27.0, 30.0, 33.0, 32.0, 32.183035714285715, 30.0, 27.0, 28.0, 30.0, 39.0, 26.0, 32.183035714285715, 30.0, 32.183035714285715, 39.0, 35.0, 30.0, 26.0, 32.183035714285715, 27.0, 43.0, 42.0, 31.0, 34.0, 32.183035714285715, 30.0, 37.0, 32.183035714285715, 27.0, 30.0, 33.0, 38.0, 35.0, 36.0, 25.0, 32.0, 35.0, 29.0, 30.0, 33.0, 30.0, 30.0, 31.0, 26.0, 27.0, 34.0, 35.0, 29.0, 28.0, 39.0, 35.0, 31.0, 26.0, 26.0, 32.183035714285715, 42.0, 27.0, 38.0, 24.0, 32.0, 28.0, 31.0, 31.0, 31.0, 30.0, 36.0, 24.0, 33.0, 34.0, 29.0, 32.183035714285715, 22.0, 42.0, 29.0, 29.0, 35.0, 36.0, 29.0, 28.0, 32.0, 38.0, 31.0, 32.183035714285715, 38.0, 30.0, 32.183035714285715, 27.0, 27.0, 36.0, 32.0, 36.0, 32.183035714285715, 32.0, 32.183035714285715, 26.0, 39.0, 25.0, 32.183035714285715, 31.0, 52.0, 26.0, 28.0, 31.0, 26.0, 32.0, 50.0, 22.0, 34.0, 32.183035714285715, 33.0, 32.183035714285715, 37.0, 38.0, 32.183035714285715, 37.0, 34.0, 28.0, 31.0, 25.0, 25.0, 29.0, 28.0, 49.0, 38.0, 26.0, 25.0, 43.0, 35.0, 31.0, 27.0, 33.0, 32.183035714285715, 40.0, 32.0, 32.183035714285715, 32.183035714285715, 32.0, 31.0, 36.0, 32.183035714285715, 32.183035714285715, 31.0, 30.0, 33.0, 33.0, 38.0, 30.0, 28.0, 37.0, 26.0, 31.0, 37.0, 32.183035714285715, 33.0, 38.0, 30.0, 37.0, 30.0, 31.0, 41.0, 27.0, 30.0, 32.183035714285715, 34.0, 31.0, 33.0, 39.0, 30.0, 30.0, 24.0, 32.183035714285715, 29.0, 30.0, 23.0, 33.0, 21.0, 32.183035714285715, 33.0, 30.0, 34.0, 40.0, 28.0, 32.0, 37.0, 33.0, 28.0, 32.183035714285715, 22.0, 30.0, 25.0, 33.0, 25.0, 25.0, 35.0, 34.0, 31.0, 28.0, 26.0, 30.0, 42.0, 39.0, 30.0, 32.183035714285715, 33.0, 36.0, 30.0, 28.0, 32.0, 30.0, 30.0, 32.0, 30.0, 32.183035714285715, 25.0, 43.0, 32.0, 30.0, 32.183035714285715, 32.183035714285715, 31.0, 34.0, 30.0, 26.0, 28.0, 34.0, 24.0, 31.0, 31.0, 31.0, 26.0, 27.0, 32.0, 34.0, 33.0, 35.0, 32.183035714285715, 34.0, 35.0, 30.0, 36.0, 37.0, 30.0, 37.0, 28.0, 29.0, 37.0, 30.0, 30.0, 30.0, 32.0, 34.0, 22.0, 35.0, 28.0, 29.0, 34.0, 31.0, 28.0, 25.0, 30.0, 37.0, 33.0, 34.0, 30.0, 27.0, 30.0, 30.0, 32.0, 31.0, 38.0, 32.183035714285715, 36.0, 31.0, 33.0, 36.0, 26.0, 37.0, 31.0, 29.0, 30.0, 43.0, 30.0, 29.0, 32.0, 42.0, 31.0, 36.0, 31.0, 28.0, 34.0, 36.0, 43.0, 29.0, 27.0, 30.0, 28.0, 22.0, 25.0, 28.0, 36.0, 35.0, 28.0, 48.0, 23.0, 24.0, 25.0, 30.0, 28.0, 31.0, 31.0, 27.0, 32.183035714285715, 30.0, 32.183035714285715, 25.0, 23.0, 33.0, 31.0, 33.0, 32.183035714285715, 31.0, 32.183035714285715, 34.0, 32.0, 31.0, 33.0, 26.0, 30.0, 33.0, 25.0, 26.0, 45.0, 32.183035714285715, 36.0, 35.0, 38.0, 45.0, 38.0, 35.0, 32.0, 35.0, 30.0, 32.0, 45.0, 32.183035714285715, 37.0, 21.0, 32.183035714285715, 32.0, 38.0, 27.0, 37.0, 27.0, 35.0, 28.0, 33.0, 34.0, 36.0, 30.0, 31.0, 37.0, 33.0, 31.0, 30.0, 31.0, 24.0, 36.0, 40.0, 33.0, 34.0, 31.0, 37.0, 32.0, 32.0, 30.0, 42.0, 32.0, 32.183035714285715, 35.0, 29.0, 27.0, 30.0, 27.0, 30.0, 30.0, 28.0, 33.0, 25.0, 35.0, 31.0, 33.0, 32.183035714285715, 32.0, 32.183035714285715, 33.0, 32.0, 35.0, 40.0, 28.0, 35.0, 34.0, 31.0, 32.0, 32.0, 30.0, 29.0, 60.0, 50.0, 29.0, 31.0, 29.0, 36.0, 31.0, 34.0, 31.0, 47.0, 32.183035714285715, 43.0, 33.0, 32.0, 32.183035714285715, 47.0, 31.0, 32.183035714285715, 40.0, 33.0, 46.0, 27.0, 43.0, 32.0, 34.0, 38.0, 31.0, 31.0, 32.0, 34.0, 42.0, 32.183035714285715, 30.0, 26.0, 27.0, 36.0, 30.0, 26.0, 32.0, 26.0, 25.0, 33.0, 29.0, 30.0, 32.183035714285715, 32.183035714285715, 30.0, 30.0, 36.0, 40.0, 26.0, 29.0, 28.0, 35.0, 32.183035714285715, 32.183035714285715, 29.0, 52.0, 34.0, 39.0, 30.0, 38.0, 26.0, 33.0, 42.0, 35.0, 35.0, 32.183035714285715, 31.0, 37.0, 30.0, 26.0, 32.0, 30.0, 31.0, 32.0, 28.0, 33.0, 27.0, 43.0, 31.0, 30.0, 32.0, 35.0, 26.0, 33.0, 33.0, 38.0, 31.0, 37.0, 27.0, 32.183035714285715, 31.0, 33.0, 37.0, 36.0, 33.0, 30.0, 34.0, 30.0, 36.0, 31.0, 31.0, 33.0, 32.0, 27.0, 35.0, 25.0, 34.0, 34.0, 35.0, 34.0, 33.0, 26.0, 30.0, 29.0, 33.0, 28.0, 33.0, 27.0, 33.0, 30.0, 29.0, 32.0, 32.183035714285715, 28.0, 31.0, 33.0, 32.183035714285715, 37.0, 30.0, 30.0, 32.183035714285715, 33.0, 28.0, 37.0, 32.0, 36.0, 30.0, 32.183035714285715, 39.0, 29.0, 35.0, 36.0, 37.0, 29.0, 32.183035714285715, 32.183035714285715, 32.0, 32.0, 30.0, 38.0, 42.0, 27.0, 42.0, 26.0, 26.0, 33.0, 30.0, 34.0, 31.0, 44.0, 32.183035714285715, 27.0, 30.0, 25.0, 35.0, 26.0, 34.0, 36.0, 35.0, 29.0, 33.0, 28.0, 34.0, 32.183035714285715, 33.0, 30.0, 38.0, 31.0, 35.0, 32.0, 32.183035714285715, 40.0, 32.183035714285715, 32.183035714285715, 31.0, 40.0, 32.183035714285715, 37.0, 51.0, 32.183035714285715, 29.0, 25.0, 32.183035714285715, 33.0, 30.0, 52.0, 40.0, 32.183035714285715, 31.0]}, {\"name\": \"Years of experience\", \"type\": \"box\", \"y\": [11.0, 8.0, 10.0, 6.0, 10.0, 8.0, 5.0, 8.0, 3.0, 8.0, 18.0, 8.0, 8.548497267759563, 6.0, 11.0, 3.0, 11.0, 4.0, 17.0, 19.0, 10.0, 10.0, 5.0, 10.0, 4.0, 15.0, 15.0, 12.0, 8.0, 5.0, 10.0, 12.0, 10.0, 4.0, 2.0, 1.0, 10.0, 10.0, 5.0, 9.0, 7.0, 20.0, 10.0, 7.0, 3.0, 10.0, 6.0, 1.0, 6.0, 11.0, 10.0, 7.0, 7.5, 10.0, 1.0, 10.0, 9.0, 1.0, 4.0, 10.0, 10.0, 3.0, 11.0, 4.0, 5.0, 4.0, 6.0, 5.0, 7.0, 5.0, 3.0, 6.0, 7.0, 3.0, 4.0, 10.0, 8.0, 1.0, 5.0, 8.0, 8.548497267759563, 12.0, 5.0, 10.0, 6.0, 8.0, 5.0, 3.0, 14.0, 15.0, 4.0, 8.548497267759563, 14.0, 10.0, 12.0, 3.0, 6.0, 19.0, 10.0, 2.0, 8.0, 10.0, 18.0, 3.0, 10.0, 15.0, 5.0, 3.0, 11.0, 3.0, 8.548497267759563, 10.0, 4.0, 12.0, 13.0, 5.0, 6.0, 17.0, 8.0, 0.5, 5.0, 9.0, 3.0, 7.0, 7.0, 5.0, 8.0, 4.0, 4.0, 10.0, 3.0, 7.0, 6.0, 15.0, 14.0, 8.548497267759563, 15.0, 4.0, 7.0, 10.0, 5.0, 13.0, 8.0, 5.0, 6.0, 3.0, 20.0, 5.0, 12.0, 7.0, 6.0, 17.0, 14.0, 3.0, 6.0, 19.0, 2.5, 0.5, 15.0, 11.0, 8.0, 10.0, 8.0, 7.0, 13.0, 11.0, 10.0, 15.0, 12.0, 9.0, 15.0, 5.0, 5.0, 5.0, 8.0, 4.0, 12.0, 8.0, 11.0, 8.0, 4.0, 5.0, 7.0, 12.0, 8.0, 2.0, 13.0, 14.0, 7.0, 2.5, 4.0, 9.0, 3.0, 3.0, 5.0, 2.0, 8.0, 6.0, 13.0, 12.0, 4.0, 5.0, 5.0, 4.0, 13.0, 6.0, 8.0, 8.548497267759563, 1.5, 20.0, 5.0, 6.0, 10.0, 13.0, 7.0, 5.0, 13.0, 15.0, 8.0, 5.0, 16.0, 6.0, 9.0, 6.0, 6.0, 12.0, 9.0, 10.0, 11.0, 5.0, 9.0, 3.0, 15.0, 3.0, 8.548497267759563, 0.0, 7.0, 5.0, 7.0, 10.0, 7.0, 12.0, 20.0, 5.0, 11.0, 4.0, 4.0, 8.0, 10.0, 5.0, 3.0, 15.0, 10.0, 3.0, 11.0, 5.0, 4.0, 10.0, 5.0, 20.0, 18.0, 4.0, 1.0, 10.0, 15.0, 2.5, 6.0, 12.0, 10.0, 15.0, 5.0, 10.0, 10.0, 8.0, 10.0, 10.0, 5.0, 18.0, 8.0, 9.0, 11.0, 16.0, 5.0, 11.0, 7.0, 17.0, 7.0, 9.0, 17.0, 5.0, 13.0, 5.0, 2.5, 10.0, 8.0, 12.0, 20.0, 5.0, 8.548497267759563, 10.0, 12.0, 10.0, 7.0, 5.0, 9.0, 8.548497267759563, 5.0, 7.0, 4.0, 8.0, 5.0, 12.0, 4.0, 5.0, 12.0, 8.0, 5.0, 20.0, 8.0, 15.0, 8.548497267759563, 10.0, 6.0, 7.0, 1.0, 5.0, 5.0, 10.0, 6.0, 4.0, 12.0, 12.0, 10.0, 8.0, 5.0, 3.0, 25.0, 6.0, 5.0, 8.0, 8.0, 7.0, 6.0, 10.0, 7.0, 10.0, 7.0, 10.0, 4.0, 8.0, 2.0, 20.0, 11.0, 8.0, 5.0, 1.0, 9.0, 12.0, 10.0, 4.0, 3.0, 8.0, 4.0, 10.0, 4.0, 9.0, 6.0, 3.0, 11.0, 14.0, 10.0, 7.0, 18.0, 10.0, 5.0, 10.0, 13.0, 6.0, 9.0, 10.0, 7.0, 6.0, 15.0, 7.0, 9.0, 10.0, 12.0, 8.0, 10.0, 10.0, 1.0, 7.0, 4.0, 4.0, 1.0, 3.0, 9.0, 6.0, 11.0, 10.0, 7.0, 11.0, 5.0, 11.0, 3.0, 6.0, 10.0, 11.0, 10.0, 9.0, 9.0, 12.0, 5.0, 15.0, 12.0, 9.0, 8.0, 18.0, 10.0, 1.0, 12.0, 15.0, 14.0, 15.0, 6.0, 5.0, 15.0, 2.0, 16.0, 11.0, 5.0, 3.0, 6.0, 3.0, 6.0, 6.0, 8.0, 12.0, 6.0, 18.0, 5.0, 4.0, 3.0, 8.0, 8.0, 9.0, 10.0, 8.0, 1.0, 9.0, 30.0, 2.5, 2.0, 10.0, 9.0, 12.0, 9.0, 6.0, 20.0, 12.0, 5.0, 9.0, 8.0, 4.0, 7.0, 10.0, 2.0, 4.0, 8.0, 10.0, 10.0, 11.0, 15.0, 8.548497267759563, 15.0, 13.0, 10.0, 11.0, 5.0, 7.0, 20.0, 18.0, 15.0, 2.0, 5.0, 10.0, 5.0, 2.0, 2.0, 7.0, 13.0, 8.0, 5.0, 8.548497267759563, 13.0, 5.0, 12.0, 15.0, 10.0, 8.0, 8.0, 6.0, 4.0, 15.0, 12.0, 10.0, 10.0, 9.0, 6.0, 9.0, 10.0, 12.0, 15.0, 10.0, 8.548497267759563, 15.0, 11.0, 6.0, 9.0, 5.0, 9.0, 6.0, 7.0, 8.548497267759563, 4.0, 7.0, 7.0, 4.0, 10.0, 11.0, 2.0, 12.0, 12.0, 3.0, 4.0, 6.0, 13.0, 15.0, 8.0, 7.0, 10.0, 5.0, 6.0, 38.0, 20.0, 6.0, 5.0, 7.0, 15.0, 10.0, 12.0, 4.0, 11.0, 10.0, 10.0, 7.0, 12.0, 7.0, 10.0, 7.0, 7.0, 20.0, 10.0, 21.0, 2.0, 18.0, 10.0, 10.0, 15.0, 9.0, 4.0, 15.0, 9.0, 19.0, 10.0, 5.0, 1.5, 5.0, 14.0, 5.0, 6.0, 7.0, 4.5, 2.0, 15.0, 8.0, 5.0, 9.0, 8.0, 4.0, 5.0, 5.0, 18.0, 8.0, 8.0, 3.0, 8.548497267759563, 6.0, 4.0, 8.0, 5.0, 8.0, 5.0, 12.0, 14.0, 3.0, 11.0, 18.0, 14.0, 10.0, 12.0, 8.0, 6.0, 7.0, 5.0, 10.0, 5.0, 5.0, 6.0, 5.0, 6.0, 7.0, 16.0, 11.0, 5.0, 8.0, 8.0, 1.0, 12.0, 12.0, 15.0, 9.0, 8.0, 10.0, 8.548497267759563, 8.548497267759563, 10.0, 15.0, 14.0, 10.0, 10.0, 9.0, 1.0, 18.0, 11.0, 8.0, 11.0, 9.0, 6.0, 12.0, 4.0, 10.0, 10.0, 12.0, 11.0, 15.0, 5.0, 7.0, 5.0, 4.0, 6.0, 10.0, 4.0, 4.0, 10.0, 3.0, 9.0, 15.0, 7.0, 3.0, 12.0, 3.0, 15.0, 10.0, 7.0, 15.0, 1.0, 3.0, 7.0, 8.548497267759563, 5.0, 10.0, 5.0, 10.0, 8.0, 2.0, 7.0, 17.0, 9.0, 7.0, 5.0, 10.0, 11.0, 7.0, 15.0, 18.0, 6.0, 20.0, 3.0, 7.0, 0.0, 10.0, 10.0, 9.0, 20.0, 8.0, 0.0, 10.0, 5.0, 11.0, 5.0, 11.0, 5.0, 12.0, 7.0, 12.0, 2.0, 3.0, 8.0, 7.0, 11.0, 18.0, 6.0, 10.0, 9.0, 8.548497267759563, 12.0, 8.548497267759563, 8.548497267759563, 1.0, 20.0, 8.0, 5.0, 25.0, 3.0, 1.0, 4.0, 17.0, 11.0, 10.0, 30.0, 1.0, 1.0, 10.0]}, {\"name\": \"Current Salary\", \"type\": \"box\", \"y\": [77000.0, 65000.0, 88000.0, 78000.0, 69000.0, 98000.0, 65000.0, 109000.0, 65000.0, 60000.0, 70000.0, 70000.0, 55000.0, 55000.0, 94500.0, 46000.0, 68000.0, 60000.0, 62500.0, 80000.0, 132250.0, 53000.0, 52000.0, 95000.0, 72000.0, 55000.0, 77000.0, 72000.0, 80000.0, 66000.0, 75800.0, 84000.0, 60000.0, 57000.0, 58000.0, 36000.0, 70000.0, 72000.0, 75000.0, 90000.0, 69000.0, 113000.0, 65000.0, 75000.0, 57000.0, 84000.0, 70000.0, 55000.0, 60000.0, 65000.0, 70000.0, 50000.0, 65000.0, 78000.0, 60000.0, 71000.0, 75000.0, 49000.0, 65000.0, 68000.0, 56000.0, 30000.0, 72000.0, 65000.0, 45000.0, 55000.0, 40000.0, 66000.0, 66000.0, 54000.0, 60000.0, 50000.0, 60000.0, 48000.0, 66000.0, 95000.0, 61000.0, 65000.0, 55000.0, 72000.0, 90000.0, 60000.0, 60000.0, 87000.0, 70000.0, 30000.0, 55000.0, 57000.0, 73000.0, 85000.0, 65000.0, 58000.0, 82000.0, 67000.0, 65000.0, 62000.0, 62000.0, 83000.0, 75000.0, 50000.0, 100000.0, 75000.0, 69000.0, 50000.0, 73000.0, 120000.0, 50000.0, 58000.0, 65000.0, 30000.0, 80000.0, 70000.0, 65000.0, 78600.0, 70000.0, 60000.0, 78000.0, 70000.0, 89000.0, 60000.0, 60000.0, 72000.0, 43000.0, 72000.0, 65000.0, 85000.0, 55000.0, 65000.0, 56000.0, 107000.0, 60000.0, 70000.0, 60000.0, 62000.0, 78000.0, 60000.0, 54000.0, 46000.0, 64000.0, 65000.0, 58000.0, 75000.0, 95000.0, 60000.0, 53000.0, 69000.0, 84000.0, 52000.0, 85000.0, 75000.0, 63000.0, 87000.0, 65000.0, 50400.0, 65000.0, 85000.0, 66000.0, 32000.0, 42000.0, 65000.0, 74000.0, 75000.0, 72500.0, 53000.0, 102000.0, 60000.0, 75000.0, 85000.0, 60000.0, 60000.0, 85000.0, 50000.0, 60000.0, 35000.0, 75000.0, 58000.0, 75000.0, 70000.0, 65000.0, 55800.0, 55000.0, 55000.0, 70000.0, 63000.0, 115000.0, 52000.0, 176000.0, 70000.0, 44000.0, 50000.0, 58000.0, 60000.0, 60000.0, 64000.0, 80000.0, 58000.0, 95000.0, 50000.0, 90000.0, 75000.0, 46000.0, 80000.0, 92000.0, 60000.0, 90000.0, 63000.0, 75000.0, 55000.0, 70000.0, 74000.0, 65000.0, 125000.0, 68000.0, 80000.0, 40000.0, 60000.0, 65000.0, 92000.0, 75000.0, 70000.0, 58000.0, 76000.0, 75000.0, 65000.0, 75000.0, 80000.0, 80000.0, 83000.0, 80000.0, 87000.0, 80000.0, 58000.0, 68000.0, 48500.0, 72000.0, 49000.0, 34000.0, 68000.0, 75000.0, 95000.0, 70500.0, 65000.0, 96000.0, 65000.0, 83000.0, 78000.0, 45000.0, 65000.0, 120000.0, 85000.0, 65000.0, 65000.0, 86000.0, 68000.0, 61000.0, 60000.0, 48000.0, 75000.0, 65000.0, 120000.0, 84000.0, 54000.0, 40000.0, 61000.0, 85000.0, 35000.0, 68000.0, 75000.0, 96000.0, 70000.0, 55000.0, 50000.0, 57000.0, 60000.0, 44000.0, 95000.0, 55000.0, 67000.0, 46000.0, 90000.0, 92000.0, 95000.0, 70000.0, 115000.0, 70000.0, 35000.0, 60000.0, 90000.0, 80000.0, 90000.0, 72000.0, 55000.0, 52000.0, 53000.0, 72000.0, 80000.0, 200000.0, 63000.0, 73300.0, 115000.0, 73500.0, 83000.0, 42000.0, 56000.0, 130000.0, 70000.0, 45000.0, 57000.0, 58000.0, 65000.0, 47500.0, 70000.0, 90000.0, 50000.0, 85000.0, 65000.0, 62000.0, 60000.0, 66000.0, 75000.0, 70000.0, 65000.0, 70000.0, 62000.0, 55000.0, 60000.0, 56000.0, 65000.0, 78000.0, 60000.0, 85000.0, 61000.0, 68000.0, 60000.0, 81000.0, 61000.0, 140000.0, 52000.0, 65000.0, 80000.0, 68000.0, 90000.0, 80000.0, 80000.0, 65000.0, 70000.0, 60000.0, 60000.0, 55000.0, 65000.0, 52000.0, 75000.0, 87000.0, 66000.0, 50000.0, 30000.0, 60000.0, 75000.0, 130000.0, 70000.0, 62000.0, 53500.0, 87975.0, 60000.0, 68381.76533333333, 70000.0, 60000.0, 55000.0, 70000.0, 70000.0, 54000.0, 130000.0, 140000.0, 76000.0, 53000.0, 31500.0, 58000.0, 52000.0, 75000.0, 68000.0, 60000.0, 58000.0, 110000.0, 68000.0, 70000.0, 70000.0, 72000.0, 60000.0, 120000.0, 43000.0, 60000.0, 70000.0, 48000.0, 67000.0, 36000.0, 75000.0, 65000.0, 63000.0, 60000.0, 57000.0, 112000.0, 100000.0, 72000.0, 78000.0, 44000.0, 59000.0, 66000.0, 60000.0, 65000.0, 47000.0, 60000.0, 72000.0, 68400.0, 55000.0, 60000.0, 70000.0, 65000.0, 70000.0, 80000.0, 47000.0, 66000.0, 67200.0, 85000.0, 89000.0, 72000.0, 69000.0, 60000.0, 53000.0, 86000.0, 45000.0, 72000.0, 65000.0, 75000.0, 47000.0, 60000.0, 50000.0, 55000.0, 111000.0, 40800.0, 92100.0, 73000.0, 54000.0, 38000.0, 75000.0, 66000.0, 70000.0, 60000.0, 70000.0, 10300.0, 75000.0, 65000.0, 24000.0, 52000.0, 39600.0, 64400.0, 57000.0, 52000.0, 77000.0, 48000.0, 67000.0, 55000.0, 85000.0, 57800.0, 20400.0, 44000.0, 70000.0, 24000.0, 47300.0, 53000.0, 23162.0, 100000.0, 100000.0, 60000.0, 90000.0, 60000.0, 60000.0, 75000.0, 60000.0, 56000.0, 55000.0, 80000.0, 75000.0, 86000.0, 17532.0, 34000.0, 69000.0, 60000.0, 19200.0, 30000.0, 75000.0, 63000.0, 92000.0, 51750.0, 62000.0, 80000.0, 58000.0, 108000.0, 72000.0, 38400.0, 65000.0, 70000.0, 51000.0, 57000.0, 75000.0, 69600.0, 85000.0, 68000.0, 65000.0, 58500.0, 130000.0, 80000.0, 65000.0, 68000.0, 96000.0, 150000.0, 60000.0, 120000.0, 70000.0, 44000.0, 58500.0, 55000.0, 70000.0, 60000.0, 80000.0, 42000.0, 47000.0, 68000.0, 65000.0, 56000.0, 65000.0, 47250.0, 87000.0, 85000.0, 39000.0, 65000.0, 65000.0, 65000.0, 69000.0, 77000.0, 73000.0, 65000.0, 60000.0, 55000.0, 58000.0, 72000.0, 75000.0, 55000.0, 70000.0, 57000.0, 75000.0, 70000.0, 65000.0, 66000.0, 90000.0, 88000.0, 70000.0, 60000.0, 78000.0, 64500.0, 96000.0, 68000.0, 80000.0, 122000.0, 90000.0, 55000.0, 60000.0, 65000.0, 70000.0, 75000.0, 65000.0, 60000.0, 165000.0, 138000.0, 110000.0, 60000.0, 58000.0, 46000.0, 73000.0, 68000.0, 52000.0, 60000.0, 74000.0, 39150.0, 60000.0, 48000.0, 60000.0, 24000.0, 70000.0, 72000.0, 40800.0, 50000.0, 53000.0, 89000.0, 50000.0, 67500.0, 50000.0, 37000.0, 80000.0, 45000.0, 80000.0, 33600.0, 132000.0, 87500.0, 65000.0, 128000.0, 37000.0, 120000.0, 180000.0, 55000.0, 78000.0, 75000.0, 72000.0, 57000.0, 68000.0, 58000.0, 65000.0, 60000.0, 90000.0, 90000.0, 77000.0, 90000.0, 57500.0, 103000.0, 55000.0, 70000.0, 125000.0, 57000.0, 56000.0, 78000.0, 66000.0, 67000.0, 70000.0, 75000.0, 60000.0, 90000.0, 90000.0, 55000.0, 80000.0, 112000.0, 72000.0, 70000.0, 120000.0, 50000.0, 42000.0, 80000.0, 65000.0, 72000.0, 83000.0, 60000.0, 84000.0, 70000.0, 65000.0, 68000.0, 70000.0, 72000.0, 65000.0, 65000.0, 42000.0, 40000.0, 60000.0, 48000.0, 50000.0, 62000.0, 55000.0, 75000.0, 58000.0, 65000.0, 53600.0, 60000.0, 51600.0, 39600.0, 60500.0, 65000.0, 15000.0, 120000.0, 130000.0, 42000.0, 45000.0, 85000.0, 72000.0, 60000.0, 47000.0, 75000.0, 130000.0, 77000.0, 42000.0, 80000.0, 95000.0, 60000.0, 71000.0, 60000.0, 115000.0, 75000.0, 62500.0, 64000.0, 127000.0, 65000.0, 93000.0, 27000.0, 33000.0, 83200.0, 85000.0, 74000.0, 42000.0, 65000.0, 80400.0, 50000.0, 75000.0, 50000.0, 60000.0, 62500.0, 65000.0, 53000.0, 70000.0, 55000.0, 60000.0, 13000.0, 52000.0, 40000.0, 69000.0, 65000.0, 68000.0, 65000.0, 80000.0, 71500.0, 68381.76533333333, 50000.0, 68381.76533333333, 70000.0, 51000.0, 75000.0, 80000.0, 53000.0, 78000.0, 55555.0, 42000.0, 60000.0, 85000.0, 75000.0, 75000.0, 63000.0, 44000.0, 45000.0, 110000.0]}, {\"name\": \"Salary one year ago\", \"type\": \"box\", \"y\": [76200.0, 55000.0, 73000.0, 55000.0, 60000.0, 96000.0, 50000.0, 105000.0, 58000.0, 48000.0, 57500.0, 66000.0, 62187.278523489935, 55000.0, 91300.0, 44000.0, 65000.0, 47000.0, 62500.0, 70000.0, 92600.0, 53000.0, 40000.0, 95000.0, 60000.0, 55000.0, 74000.0, 72000.0, 62187.278523489935, 62187.278523489935, 66000.0, 84000.0, 60000.0, 52000.0, 50000.0, 62187.278523489935, 60000.0, 56000.0, 70000.0, 100000.0, 62187.278523489935, 80000.0, 62187.278523489935, 72000.0, 45000.0, 78000.0, 45000.0, 62187.278523489935, 57000.0, 61000.0, 62187.278523489935, 50000.0, 65000.0, 65000.0, 62187.278523489935, 68000.0, 58000.0, 45000.0, 62187.278523489935, 62187.278523489935, 62187.278523489935, 62187.278523489935, 72000.0, 60000.0, 62187.278523489935, 62187.278523489935, 62187.278523489935, 55000.0, 66000.0, 56000.0, 60000.0, 45000.0, 60000.0, 62187.278523489935, 22400.0, 84000.0, 61000.0, 65000.0, 46000.0, 62187.278523489935, 60000.0, 49050.0, 62187.278523489935, 75000.0, 55000.0, 29000.0, 50000.0, 55000.0, 70000.0, 75000.0, 60000.0, 58000.0, 72000.0, 65000.0, 60000.0, 20000.0, 58000.0, 57000.0, 68000.0, 62187.278523489935, 100000.0, 62187.278523489935, 65000.0, 45000.0, 58000.0, 85000.0, 41000.0, 50000.0, 62000.0, 30000.0, 70000.0, 62187.278523489935, 60000.0, 75000.0, 84000.0, 62187.278523489935, 65000.0, 70000.0, 90000.0, 62187.278523489935, 62187.278523489935, 68000.0, 36000.0, 65000.0, 62000.0, 70000.0, 50000.0, 62187.278523489935, 51000.0, 56000.0, 62187.278523489935, 62187.278523489935, 58000.0, 54000.0, 68000.0, 55000.0, 54000.0, 46000.0, 60000.0, 55000.0, 23000.0, 70000.0, 80000.0, 62187.278523489935, 62187.278523489935, 62187.278523489935, 82000.0, 62187.278523489935, 75000.0, 62187.278523489935, 60000.0, 80000.0, 62187.278523489935, 43200.0, 52000.0, 80000.0, 13000.0, 62187.278523489935, 42000.0, 55000.0, 72000.0, 62187.278523489935, 65000.0, 47000.0, 92000.0, 58000.0, 56000.0, 75000.0, 62187.278523489935, 60000.0, 75000.0, 62187.278523489935, 57000.0, 35000.0, 58000.0, 45000.0, 65000.0, 55000.0, 65000.0, 52800.0, 55000.0, 62187.278523489935, 56000.0, 63000.0, 85000.0, 23000.0, 110000.0, 58000.0, 44000.0, 40000.0, 48000.0, 50000.0, 50000.0, 58000.0, 80000.0, 24480.0, 88000.0, 62187.278523489935, 75000.0, 69000.0, 62187.278523489935, 78000.0, 77000.0, 55000.0, 90000.0, 63000.0, 65000.0, 45000.0, 62187.278523489935, 62187.278523489935, 57600.0, 115000.0, 65000.0, 70000.0, 62187.278523489935, 60000.0, 58000.0, 70000.0, 55000.0, 70000.0, 56000.0, 62187.278523489935, 73000.0, 62187.278523489935, 71000.0, 80000.0, 70000.0, 72000.0, 65000.0, 62187.278523489935, 66000.0, 62187.278523489935, 68000.0, 46000.0, 65000.0, 62187.278523489935, 34000.0, 62187.278523489935, 60000.0, 82000.0, 62187.278523489935, 65000.0, 94000.0, 62187.278523489935, 75000.0, 74000.0, 62187.278523489935, 50000.0, 62187.278523489935, 72000.0, 62187.278523489935, 65000.0, 72000.0, 55000.0, 55000.0, 53000.0, 42000.0, 75000.0, 62000.0, 62187.278523489935, 84000.0, 50000.0, 40000.0, 55000.0, 65000.0, 35000.0, 55700.0, 68000.0, 62187.278523489935, 62187.278523489935, 62187.278523489935, 62187.278523489935, 62187.278523489935, 55000.0, 40000.0, 80000.0, 48000.0, 67000.0, 43000.0, 67000.0, 76000.0, 80000.0, 50000.0, 62187.278523489935, 65000.0, 25000.0, 62187.278523489935, 87000.0, 65000.0, 90000.0, 70000.0, 62187.278523489935, 48000.0, 51000.0, 55000.0, 62187.278523489935, 200000.0, 56000.0, 67000.0, 62187.278523489935, 70000.0, 65000.0, 35000.0, 51000.0, 120000.0, 68000.0, 62187.278523489935, 53000.0, 49500.0, 58000.0, 62187.278523489935, 66000.0, 62000.0, 40000.0, 65000.0, 62187.278523489935, 60000.0, 55000.0, 62187.278523489935, 62187.278523489935, 55000.0, 62187.278523489935, 30000.0, 55000.0, 62187.278523489935, 50000.0, 55000.0, 60000.0, 72500.0, 62187.278523489935, 62187.278523489935, 62187.278523489935, 65000.0, 55000.0, 78000.0, 62187.278523489935, 130000.0, 46000.0, 62187.278523489935, 62187.278523489935, 68000.0, 77000.0, 72000.0, 75000.0, 63000.0, 24000.0, 60000.0, 62187.278523489935, 51000.0, 60000.0, 62187.278523489935, 62187.278523489935, 75000.0, 63000.0, 45000.0, 62187.278523489935, 60000.0, 62187.278523489935, 125000.0, 45000.0, 53500.0, 50000.0, 60500.0, 55000.0, 62187.278523489935, 70000.0, 54000.0, 62187.278523489935, 62000.0, 65000.0, 48000.0, 120000.0, 75000.0, 68000.0, 50400.0, 17400.0, 53000.0, 42000.0, 65000.0, 58000.0, 62187.278523489935, 62187.278523489935, 110000.0, 62187.278523489935, 65000.0, 55000.0, 53000.0, 62187.278523489935, 100000.0, 43000.0, 62187.278523489935, 70000.0, 62187.278523489935, 67000.0, 20000.0, 55000.0, 18000.0, 63000.0, 62187.278523489935, 56000.0, 105000.0, 80000.0, 50000.0, 68000.0, 42000.0, 50000.0, 63000.0, 60000.0, 65000.0, 45000.0, 59000.0, 69000.0, 62187.278523489935, 62187.278523489935, 62187.278523489935, 60000.0, 62187.278523489935, 70000.0, 76000.0, 47000.0, 64000.0, 64000.0, 75000.0, 79000.0, 70000.0, 67000.0, 20000.0, 62187.278523489935, 84000.0, 39200.0, 60000.0, 62187.278523489935, 75000.0, 62187.278523489935, 55000.0, 62187.278523489935, 28000.0, 95000.0, 36000.0, 89300.0, 62187.278523489935, 62187.278523489935, 62187.278523489935, 62000.0, 55000.0, 60000.0, 62187.278523489935, 65000.0, 10300.0, 65000.0, 56000.0, 16500.0, 62187.278523489935, 33600.0, 58400.0, 57000.0, 50000.0, 77000.0, 62187.278523489935, 55000.0, 55000.0, 64000.0, 54000.0, 20400.0, 40000.0, 56000.0, 10500.0, 41000.0, 48000.0, 23162.0, 97000.0, 90000.0, 51000.0, 89000.0, 60000.0, 54000.0, 62187.278523489935, 62187.278523489935, 50000.0, 50000.0, 75000.0, 72000.0, 77000.0, 11520.0, 31000.0, 65000.0, 60000.0, 14400.0, 24000.0, 58000.0, 62187.278523489935, 62187.278523489935, 45000.0, 50000.0, 80000.0, 56000.0, 110000.0, 65000.0, 62187.278523489935, 65000.0, 66000.0, 50000.0, 43000.0, 69000.0, 65000.0, 80000.0, 62187.278523489935, 62187.278523489935, 12000.0, 115000.0, 52000.0, 58000.0, 62000.0, 93000.0, 62187.278523489935, 63000.0, 85000.0, 65000.0, 44000.0, 53500.0, 43000.0, 56000.0, 62187.278523489935, 70000.0, 62187.278523489935, 62187.278523489935, 65000.0, 50000.0, 62187.278523489935, 65000.0, 45000.0, 77000.0, 80000.0, 38000.0, 62187.278523489935, 55000.0, 65000.0, 60000.0, 72000.0, 68000.0, 80000.0, 60000.0, 62187.278523489935, 58000.0, 72000.0, 70000.0, 55000.0, 65000.0, 55000.0, 65000.0, 95000.0, 45000.0, 66000.0, 90000.0, 85000.0, 70000.0, 60000.0, 75000.0, 64000.0, 85000.0, 64000.0, 72000.0, 110000.0, 90000.0, 55000.0, 60000.0, 65000.0, 62187.278523489935, 65000.0, 62187.278523489935, 52600.0, 130000.0, 124000.0, 105000.0, 55000.0, 62187.278523489935, 44000.0, 69000.0, 62187.278523489935, 62187.278523489935, 50000.0, 55000.0, 33550.0, 10800.0, 48000.0, 60000.0, 24000.0, 65000.0, 65000.0, 38000.0, 46000.0, 51000.0, 80000.0, 45000.0, 67500.0, 43000.0, 45000.0, 62000.0, 42000.0, 100000.0, 33600.0, 125000.0, 84500.0, 63000.0, 119000.0, 37000.0, 85000.0, 120000.0, 62187.278523489935, 70000.0, 65000.0, 70000.0, 51000.0, 68000.0, 58000.0, 65000.0, 59000.0, 85000.0, 40000.0, 65000.0, 65000.0, 55000.0, 93000.0, 62187.278523489935, 65000.0, 106000.0, 54000.0, 48000.0, 55000.0, 60000.0, 62000.0, 67000.0, 60000.0, 80000.0, 80000.0, 60000.0, 55000.0, 77000.0, 62187.278523489935, 69000.0, 70000.0, 105000.0, 62187.278523489935, 62187.278523489935, 65000.0, 60000.0, 72000.0, 70000.0, 67000.0, 78000.0, 62187.278523489935, 60000.0, 62000.0, 64000.0, 68000.0, 65000.0, 54000.0, 44800.0, 40000.0, 62187.278523489935, 48000.0, 62187.278523489935, 62187.278523489935, 54000.0, 70000.0, 57000.0, 60000.0, 52200.0, 56000.0, 62187.278523489935, 36000.0, 55000.0, 55000.0, 14000.0, 110000.0, 90000.0, 62187.278523489935, 40000.0, 78000.0, 68600.0, 62187.278523489935, 47000.0, 60000.0, 129000.0, 55000.0, 39000.0, 75000.0, 85000.0, 55000.0, 68000.0, 62187.278523489935, 95000.0, 65000.0, 55000.0, 58000.0, 123000.0, 65000.0, 65000.0, 62187.278523489935, 30000.0, 80000.0, 75000.0, 62187.278523489935, 42000.0, 60000.0, 67000.0, 10001.0, 72000.0, 62187.278523489935, 62187.278523489935, 60000.0, 55000.0, 62187.278523489935, 65000.0, 62187.278523489935, 62187.278523489935, 62187.278523489935, 47000.0, 40000.0, 67000.0, 55000.0, 65000.0, 63000.0, 62187.278523489935, 68000.0, 62187.278523489935, 50000.0, 62187.278523489935, 62187.278523489935, 62187.278523489935, 62187.278523489935, 75000.0, 53000.0, 76500.0, 55555.0, 62187.278523489935, 55000.0, 83000.0, 70000.0, 50000.0, 80000.0, 40000.0, 40000.0, 62187.278523489935]}, {\"name\": \"Salary two years ago\", \"type\": \"box\", \"y\": [68000.0, 55000.0, 54000.0, 45000.0, 52000.0, 96000.0, 50000.0, 97000.0, 50000.0, 42000.0, 54000.0, 48000.0, 58013.475161987044, 34000.0, 86300.0, 44000.0, 63000.0, 58013.475161987044, 54000.0, 58013.475161987044, 92600.0, 48000.0, 40000.0, 90000.0, 30000.0, 55000.0, 58013.475161987044, 68000.0, 58013.475161987044, 58013.475161987044, 58013.475161987044, 84000.0, 60000.0, 38000.0, 48000.0, 58013.475161987044, 58013.475161987044, 55000.0, 58013.475161987044, 85000.0, 58013.475161987044, 72000.0, 58013.475161987044, 67000.0, 58013.475161987044, 76000.0, 58013.475161987044, 58013.475161987044, 58013.475161987044, 55000.0, 58013.475161987044, 50000.0, 60000.0, 60000.0, 58013.475161987044, 68000.0, 55000.0, 10001.0, 58013.475161987044, 58013.475161987044, 58013.475161987044, 58013.475161987044, 58013.475161987044, 45000.0, 58013.475161987044, 58013.475161987044, 58013.475161987044, 42000.0, 66000.0, 56000.0, 58013.475161987044, 42000.0, 58013.475161987044, 58013.475161987044, 58013.475161987044, 82000.0, 58013.475161987044, 60000.0, 58013.475161987044, 58013.475161987044, 60000.0, 42500.0, 58013.475161987044, 65000.0, 50000.0, 27000.0, 58013.475161987044, 10001.0, 65000.0, 70000.0, 58013.475161987044, 55000.0, 72000.0, 58013.475161987044, 60000.0, 16000.0, 55000.0, 57000.0, 58013.475161987044, 58013.475161987044, 85000.0, 58013.475161987044, 65000.0, 40000.0, 55000.0, 70000.0, 58013.475161987044, 43000.0, 58000.0, 12000.0, 63000.0, 58013.475161987044, 58013.475161987044, 69000.0, 75000.0, 58013.475161987044, 65000.0, 60000.0, 65000.0, 58013.475161987044, 58013.475161987044, 68000.0, 32000.0, 50000.0, 58013.475161987044, 65000.0, 58013.475161987044, 58013.475161987044, 45000.0, 54000.0, 58013.475161987044, 58013.475161987044, 58013.475161987044, 54000.0, 65000.0, 58013.475161987044, 58013.475161987044, 40000.0, 54000.0, 55000.0, 18000.0, 65000.0, 75000.0, 58013.475161987044, 58013.475161987044, 58013.475161987044, 54000.0, 58013.475161987044, 75000.0, 58013.475161987044, 58013.475161987044, 65000.0, 58013.475161987044, 38400.0, 58013.475161987044, 75000.0, 13000.0, 58013.475161987044, 45000.0, 36000.0, 54000.0, 58013.475161987044, 58000.0, 44000.0, 84000.0, 50000.0, 50000.0, 70000.0, 58013.475161987044, 55000.0, 72000.0, 58013.475161987044, 57000.0, 35000.0, 54000.0, 38000.0, 58013.475161987044, 55000.0, 60000.0, 48000.0, 44000.0, 58013.475161987044, 48000.0, 50000.0, 65000.0, 58013.475161987044, 100000.0, 56000.0, 58013.475161987044, 58013.475161987044, 48000.0, 50000.0, 41000.0, 50000.0, 75000.0, 24480.0, 80000.0, 58013.475161987044, 58013.475161987044, 60000.0, 58013.475161987044, 72000.0, 58013.475161987044, 20000.0, 85000.0, 55000.0, 60000.0, 58013.475161987044, 58013.475161987044, 58013.475161987044, 50000.0, 90000.0, 60000.0, 66000.0, 58013.475161987044, 52000.0, 51000.0, 60600.0, 45000.0, 70000.0, 54000.0, 58013.475161987044, 65000.0, 58013.475161987044, 68000.0, 80000.0, 58013.475161987044, 69000.0, 58000.0, 60000.0, 65000.0, 58013.475161987044, 64000.0, 58013.475161987044, 15000.0, 58013.475161987044, 34000.0, 58013.475161987044, 58013.475161987044, 76000.0, 58013.475161987044, 58013.475161987044, 92000.0, 58013.475161987044, 67000.0, 68500.0, 58013.475161987044, 45000.0, 58013.475161987044, 45000.0, 58013.475161987044, 58013.475161987044, 58013.475161987044, 58013.475161987044, 49000.0, 47000.0, 38000.0, 62000.0, 65000.0, 58013.475161987044, 84000.0, 58013.475161987044, 58013.475161987044, 58013.475161987044, 65000.0, 58013.475161987044, 50000.0, 65000.0, 58013.475161987044, 58013.475161987044, 58013.475161987044, 58013.475161987044, 58013.475161987044, 48000.0, 40000.0, 60000.0, 42000.0, 67000.0, 40000.0, 55000.0, 76000.0, 80000.0, 40000.0, 75000.0, 62000.0, 15000.0, 58013.475161987044, 58013.475161987044, 61000.0, 50000.0, 68000.0, 58013.475161987044, 42500.0, 49000.0, 55000.0, 58013.475161987044, 150000.0, 52000.0, 55000.0, 58013.475161987044, 65000.0, 57000.0, 20000.0, 58013.475161987044, 120000.0, 58013.475161987044, 58013.475161987044, 51000.0, 58013.475161987044, 58000.0, 58013.475161987044, 60000.0, 58013.475161987044, 58013.475161987044, 65000.0, 58013.475161987044, 58000.0, 50000.0, 58013.475161987044, 58013.475161987044, 58013.475161987044, 58013.475161987044, 26000.0, 52000.0, 58013.475161987044, 45000.0, 58013.475161987044, 60000.0, 58013.475161987044, 58013.475161987044, 58013.475161987044, 58013.475161987044, 65000.0, 45000.0, 63000.0, 58013.475161987044, 130000.0, 40000.0, 58013.475161987044, 58013.475161987044, 56000.0, 70000.0, 66000.0, 70000.0, 63000.0, 22000.0, 58013.475161987044, 58013.475161987044, 49000.0, 50000.0, 58013.475161987044, 58013.475161987044, 72000.0, 53000.0, 58013.475161987044, 58013.475161987044, 60000.0, 58013.475161987044, 96000.0, 58013.475161987044, 58013.475161987044, 58013.475161987044, 58013.475161987044, 50000.0, 58013.475161987044, 60000.0, 45000.0, 58013.475161987044, 55000.0, 60000.0, 48000.0, 115000.0, 70000.0, 62000.0, 58013.475161987044, 10001.0, 58013.475161987044, 40000.0, 57000.0, 55000.0, 58013.475161987044, 58013.475161987044, 95000.0, 58013.475161987044, 75000.0, 58013.475161987044, 48000.0, 58013.475161987044, 100000.0, 43000.0, 58013.475161987044, 54000.0, 58013.475161987044, 55000.0, 58013.475161987044, 48000.0, 17000.0, 55000.0, 58013.475161987044, 55000.0, 105000.0, 70000.0, 50000.0, 58013.475161987044, 42000.0, 50000.0, 61000.0, 60000.0, 65000.0, 45000.0, 59000.0, 65000.0, 58013.475161987044, 58013.475161987044, 58013.475161987044, 55000.0, 58013.475161987044, 64000.0, 72000.0, 40000.0, 60000.0, 58013.475161987044, 65000.0, 68000.0, 62500.0, 58013.475161987044, 20000.0, 58013.475161987044, 82000.0, 28000.0, 55000.0, 58013.475161987044, 58013.475161987044, 58013.475161987044, 48000.0, 58013.475161987044, 28000.0, 95000.0, 58013.475161987044, 87600.0, 58013.475161987044, 58013.475161987044, 58013.475161987044, 55000.0, 58013.475161987044, 60000.0, 58013.475161987044, 63000.0, 10300.0, 65000.0, 47000.0, 16500.0, 58013.475161987044, 30000.0, 58013.475161987044, 57000.0, 58013.475161987044, 58013.475161987044, 58013.475161987044, 55000.0, 55000.0, 58000.0, 58013.475161987044, 20400.0, 58013.475161987044, 58013.475161987044, 58013.475161987044, 38000.0, 36000.0, 58013.475161987044, 95500.0, 90000.0, 58013.475161987044, 88000.0, 58013.475161987044, 58013.475161987044, 58013.475161987044, 58013.475161987044, 58013.475161987044, 42000.0, 70000.0, 58013.475161987044, 74000.0, 58013.475161987044, 24000.0, 50000.0, 54000.0, 10800.0, 58013.475161987044, 58013.475161987044, 58013.475161987044, 58013.475161987044, 37050.0, 45000.0, 72000.0, 54000.0, 90000.0, 62000.0, 58013.475161987044, 58013.475161987044, 65000.0, 58013.475161987044, 58013.475161987044, 66000.0, 62000.0, 77000.0, 58013.475161987044, 58013.475161987044, 10500.0, 115000.0, 42000.0, 51000.0, 62000.0, 91000.0, 58013.475161987044, 55000.0, 75000.0, 55000.0, 58013.475161987044, 58013.475161987044, 58013.475161987044, 56000.0, 58013.475161987044, 58013.475161987044, 58013.475161987044, 58013.475161987044, 58013.475161987044, 50000.0, 58013.475161987044, 65000.0, 45000.0, 70000.0, 75000.0, 38000.0, 58013.475161987044, 58013.475161987044, 58013.475161987044, 60000.0, 54000.0, 69000.0, 55000.0, 58013.475161987044, 58013.475161987044, 58000.0, 67000.0, 58013.475161987044, 47500.0, 50000.0, 53500.0, 55000.0, 75000.0, 40000.0, 65000.0, 70000.0, 83000.0, 65000.0, 60000.0, 75000.0, 62000.0, 85000.0, 60000.0, 72000.0, 102000.0, 90000.0, 58013.475161987044, 60000.0, 55000.0, 58013.475161987044, 60000.0, 58013.475161987044, 48000.0, 110000.0, 124000.0, 103000.0, 58013.475161987044, 58013.475161987044, 18000.0, 60000.0, 58013.475161987044, 58013.475161987044, 58013.475161987044, 50000.0, 27950.0, 10800.0, 58013.475161987044, 58013.475161987044, 15000.0, 62000.0, 55000.0, 38000.0, 44000.0, 58013.475161987044, 76000.0, 58013.475161987044, 50000.0, 40000.0, 45000.0, 53000.0, 40000.0, 58013.475161987044, 33600.0, 120000.0, 58013.475161987044, 52000.0, 119000.0, 37000.0, 72000.0, 90000.0, 58013.475161987044, 58013.475161987044, 45000.0, 70000.0, 58013.475161987044, 60000.0, 58013.475161987044, 55000.0, 58000.0, 70000.0, 36000.0, 55000.0, 50000.0, 58013.475161987044, 90000.0, 50000.0, 58013.475161987044, 98000.0, 36000.0, 58013.475161987044, 52000.0, 55000.0, 58013.475161987044, 65000.0, 50000.0, 56000.0, 60000.0, 45000.0, 60000.0, 65000.0, 58013.475161987044, 66000.0, 75000.0, 105000.0, 58013.475161987044, 58013.475161987044, 60000.0, 58013.475161987044, 68000.0, 66000.0, 51000.0, 72000.0, 58013.475161987044, 58013.475161987044, 58013.475161987044, 61000.0, 65000.0, 58013.475161987044, 40000.0, 44800.0, 32000.0, 58013.475161987044, 48000.0, 58013.475161987044, 58013.475161987044, 39000.0, 70000.0, 58013.475161987044, 60000.0, 47000.0, 58013.475161987044, 58013.475161987044, 36000.0, 28000.0, 50000.0, 13000.0, 100000.0, 90000.0, 58013.475161987044, 58013.475161987044, 74000.0, 60000.0, 58013.475161987044, 38000.0, 55000.0, 125000.0, 44000.0, 58013.475161987044, 72000.0, 70000.0, 52000.0, 64000.0, 58013.475161987044, 70000.0, 60000.0, 48000.0, 58013.475161987044, 118000.0, 50000.0, 58013.475161987044, 58013.475161987044, 58013.475161987044, 70000.0, 65000.0, 58013.475161987044, 58013.475161987044, 58000.0, 60000.0, 10001.0, 36000.0, 58013.475161987044, 58013.475161987044, 52000.0, 55000.0, 58013.475161987044, 60000.0, 58013.475161987044, 58013.475161987044, 58013.475161987044, 39000.0, 38000.0, 64500.0, 58013.475161987044, 60000.0, 58000.0, 58013.475161987044, 60000.0, 58013.475161987044, 41000.0, 58013.475161987044, 58013.475161987044, 58013.475161987044, 58013.475161987044, 65000.0, 58013.475161987044, 75000.0, 55555.0, 58013.475161987044, 58013.475161987044, 80000.0, 58013.475161987044, 58013.475161987044, 80000.0, 40000.0, 40000.0, 58013.475161987044]}],\n",
              "                        {\"template\": {\"data\": {\"bar\": [{\"error_x\": {\"color\": \"#2a3f5f\"}, \"error_y\": {\"color\": \"#2a3f5f\"}, \"marker\": {\"line\": {\"color\": \"#E5ECF6\", \"width\": 0.5}}, \"type\": \"bar\"}], \"barpolar\": [{\"marker\": {\"line\": {\"color\": \"#E5ECF6\", \"width\": 0.5}}, \"type\": \"barpolar\"}], \"carpet\": [{\"aaxis\": {\"endlinecolor\": \"#2a3f5f\", \"gridcolor\": \"white\", \"linecolor\": \"white\", \"minorgridcolor\": \"white\", \"startlinecolor\": \"#2a3f5f\"}, \"baxis\": {\"endlinecolor\": \"#2a3f5f\", \"gridcolor\": \"white\", \"linecolor\": \"white\", \"minorgridcolor\": \"white\", \"startlinecolor\": \"#2a3f5f\"}, \"type\": \"carpet\"}], \"choropleth\": [{\"colorbar\": {\"outlinewidth\": 0, \"ticks\": \"\"}, \"type\": \"choropleth\"}], \"contour\": [{\"colorbar\": {\"outlinewidth\": 0, \"ticks\": \"\"}, \"colorscale\": [[0.0, \"#0d0887\"], [0.1111111111111111, \"#46039f\"], [0.2222222222222222, \"#7201a8\"], [0.3333333333333333, \"#9c179e\"], [0.4444444444444444, \"#bd3786\"], [0.5555555555555556, \"#d8576b\"], [0.6666666666666666, \"#ed7953\"], [0.7777777777777778, \"#fb9f3a\"], [0.8888888888888888, \"#fdca26\"], [1.0, \"#f0f921\"]], \"type\": \"contour\"}], \"contourcarpet\": [{\"colorbar\": {\"outlinewidth\": 0, \"ticks\": \"\"}, \"type\": \"contourcarpet\"}], \"heatmap\": [{\"colorbar\": {\"outlinewidth\": 0, \"ticks\": \"\"}, \"colorscale\": [[0.0, \"#0d0887\"], [0.1111111111111111, \"#46039f\"], [0.2222222222222222, \"#7201a8\"], [0.3333333333333333, \"#9c179e\"], [0.4444444444444444, \"#bd3786\"], [0.5555555555555556, \"#d8576b\"], [0.6666666666666666, \"#ed7953\"], [0.7777777777777778, \"#fb9f3a\"], [0.8888888888888888, \"#fdca26\"], [1.0, \"#f0f921\"]], \"type\": \"heatmap\"}], \"heatmapgl\": [{\"colorbar\": {\"outlinewidth\": 0, \"ticks\": \"\"}, \"colorscale\": [[0.0, \"#0d0887\"], [0.1111111111111111, \"#46039f\"], [0.2222222222222222, \"#7201a8\"], [0.3333333333333333, \"#9c179e\"], [0.4444444444444444, \"#bd3786\"], [0.5555555555555556, \"#d8576b\"], [0.6666666666666666, \"#ed7953\"], [0.7777777777777778, \"#fb9f3a\"], [0.8888888888888888, \"#fdca26\"], [1.0, \"#f0f921\"]], \"type\": \"heatmapgl\"}], \"histogram\": [{\"marker\": {\"colorbar\": {\"outlinewidth\": 0, \"ticks\": \"\"}}, \"type\": \"histogram\"}], \"histogram2d\": [{\"colorbar\": {\"outlinewidth\": 0, \"ticks\": \"\"}, \"colorscale\": [[0.0, \"#0d0887\"], [0.1111111111111111, \"#46039f\"], [0.2222222222222222, \"#7201a8\"], [0.3333333333333333, \"#9c179e\"], [0.4444444444444444, \"#bd3786\"], [0.5555555555555556, \"#d8576b\"], [0.6666666666666666, \"#ed7953\"], [0.7777777777777778, \"#fb9f3a\"], [0.8888888888888888, \"#fdca26\"], [1.0, \"#f0f921\"]], \"type\": \"histogram2d\"}], \"histogram2dcontour\": [{\"colorbar\": {\"outlinewidth\": 0, \"ticks\": \"\"}, \"colorscale\": [[0.0, \"#0d0887\"], [0.1111111111111111, \"#46039f\"], [0.2222222222222222, \"#7201a8\"], [0.3333333333333333, \"#9c179e\"], [0.4444444444444444, \"#bd3786\"], [0.5555555555555556, \"#d8576b\"], [0.6666666666666666, \"#ed7953\"], [0.7777777777777778, \"#fb9f3a\"], [0.8888888888888888, \"#fdca26\"], [1.0, \"#f0f921\"]], \"type\": \"histogram2dcontour\"}], \"mesh3d\": [{\"colorbar\": {\"outlinewidth\": 0, \"ticks\": \"\"}, \"type\": \"mesh3d\"}], \"parcoords\": [{\"line\": {\"colorbar\": {\"outlinewidth\": 0, \"ticks\": \"\"}}, \"type\": \"parcoords\"}], \"pie\": [{\"automargin\": true, \"type\": \"pie\"}], \"scatter\": [{\"marker\": {\"colorbar\": {\"outlinewidth\": 0, \"ticks\": \"\"}}, \"type\": \"scatter\"}], \"scatter3d\": [{\"line\": {\"colorbar\": {\"outlinewidth\": 0, \"ticks\": \"\"}}, \"marker\": {\"colorbar\": {\"outlinewidth\": 0, \"ticks\": \"\"}}, \"type\": \"scatter3d\"}], \"scattercarpet\": [{\"marker\": {\"colorbar\": {\"outlinewidth\": 0, \"ticks\": \"\"}}, \"type\": \"scattercarpet\"}], \"scattergeo\": [{\"marker\": {\"colorbar\": {\"outlinewidth\": 0, \"ticks\": \"\"}}, \"type\": \"scattergeo\"}], \"scattergl\": [{\"marker\": {\"colorbar\": {\"outlinewidth\": 0, \"ticks\": \"\"}}, \"type\": \"scattergl\"}], \"scattermapbox\": [{\"marker\": {\"colorbar\": {\"outlinewidth\": 0, \"ticks\": \"\"}}, \"type\": \"scattermapbox\"}], \"scatterpolar\": [{\"marker\": {\"colorbar\": {\"outlinewidth\": 0, \"ticks\": \"\"}}, \"type\": \"scatterpolar\"}], \"scatterpolargl\": [{\"marker\": {\"colorbar\": {\"outlinewidth\": 0, \"ticks\": \"\"}}, \"type\": \"scatterpolargl\"}], \"scatterternary\": [{\"marker\": {\"colorbar\": {\"outlinewidth\": 0, \"ticks\": \"\"}}, \"type\": \"scatterternary\"}], \"surface\": [{\"colorbar\": {\"outlinewidth\": 0, \"ticks\": \"\"}, \"colorscale\": [[0.0, \"#0d0887\"], [0.1111111111111111, \"#46039f\"], [0.2222222222222222, \"#7201a8\"], [0.3333333333333333, \"#9c179e\"], [0.4444444444444444, \"#bd3786\"], [0.5555555555555556, \"#d8576b\"], [0.6666666666666666, \"#ed7953\"], [0.7777777777777778, \"#fb9f3a\"], [0.8888888888888888, \"#fdca26\"], [1.0, \"#f0f921\"]], \"type\": \"surface\"}], \"table\": [{\"cells\": {\"fill\": {\"color\": \"#EBF0F8\"}, \"line\": {\"color\": \"white\"}}, \"header\": {\"fill\": {\"color\": \"#C8D4E3\"}, \"line\": {\"color\": \"white\"}}, \"type\": \"table\"}]}, \"layout\": {\"annotationdefaults\": {\"arrowcolor\": \"#2a3f5f\", \"arrowhead\": 0, \"arrowwidth\": 1}, \"coloraxis\": {\"colorbar\": {\"outlinewidth\": 0, \"ticks\": \"\"}}, \"colorscale\": {\"diverging\": [[0, \"#8e0152\"], [0.1, \"#c51b7d\"], [0.2, \"#de77ae\"], [0.3, \"#f1b6da\"], [0.4, \"#fde0ef\"], [0.5, \"#f7f7f7\"], [0.6, \"#e6f5d0\"], [0.7, \"#b8e186\"], [0.8, \"#7fbc41\"], [0.9, \"#4d9221\"], [1, \"#276419\"]], \"sequential\": [[0.0, \"#0d0887\"], [0.1111111111111111, \"#46039f\"], [0.2222222222222222, \"#7201a8\"], [0.3333333333333333, \"#9c179e\"], [0.4444444444444444, \"#bd3786\"], [0.5555555555555556, \"#d8576b\"], [0.6666666666666666, \"#ed7953\"], [0.7777777777777778, \"#fb9f3a\"], [0.8888888888888888, \"#fdca26\"], [1.0, \"#f0f921\"]], \"sequentialminus\": [[0.0, \"#0d0887\"], [0.1111111111111111, \"#46039f\"], [0.2222222222222222, \"#7201a8\"], [0.3333333333333333, \"#9c179e\"], [0.4444444444444444, \"#bd3786\"], [0.5555555555555556, \"#d8576b\"], [0.6666666666666666, \"#ed7953\"], [0.7777777777777778, \"#fb9f3a\"], [0.8888888888888888, \"#fdca26\"], [1.0, \"#f0f921\"]]}, \"colorway\": [\"#636efa\", \"#EF553B\", \"#00cc96\", \"#ab63fa\", \"#FFA15A\", \"#19d3f3\", \"#FF6692\", \"#B6E880\", \"#FF97FF\", \"#FECB52\"], \"font\": {\"color\": \"#2a3f5f\"}, \"geo\": {\"bgcolor\": \"white\", \"lakecolor\": \"white\", \"landcolor\": \"#E5ECF6\", \"showlakes\": true, \"showland\": true, \"subunitcolor\": \"white\"}, \"hoverlabel\": {\"align\": \"left\"}, \"hovermode\": \"closest\", \"mapbox\": {\"style\": \"light\"}, \"paper_bgcolor\": \"white\", \"plot_bgcolor\": \"#E5ECF6\", \"polar\": {\"angularaxis\": {\"gridcolor\": \"white\", \"linecolor\": \"white\", \"ticks\": \"\"}, \"bgcolor\": \"#E5ECF6\", \"radialaxis\": {\"gridcolor\": \"white\", \"linecolor\": \"white\", \"ticks\": \"\"}}, \"scene\": {\"xaxis\": {\"backgroundcolor\": \"#E5ECF6\", \"gridcolor\": \"white\", \"gridwidth\": 2, \"linecolor\": \"white\", \"showbackground\": true, \"ticks\": \"\", \"zerolinecolor\": \"white\"}, \"yaxis\": {\"backgroundcolor\": \"#E5ECF6\", \"gridcolor\": \"white\", \"gridwidth\": 2, \"linecolor\": \"white\", \"showbackground\": true, \"ticks\": \"\", \"zerolinecolor\": \"white\"}, \"zaxis\": {\"backgroundcolor\": \"#E5ECF6\", \"gridcolor\": \"white\", \"gridwidth\": 2, \"linecolor\": \"white\", \"showbackground\": true, \"ticks\": \"\", \"zerolinecolor\": \"white\"}}, \"shapedefaults\": {\"line\": {\"color\": \"#2a3f5f\"}}, \"ternary\": {\"aaxis\": {\"gridcolor\": \"white\", \"linecolor\": \"white\", \"ticks\": \"\"}, \"baxis\": {\"gridcolor\": \"white\", \"linecolor\": \"white\", \"ticks\": \"\"}, \"bgcolor\": \"#E5ECF6\", \"caxis\": {\"gridcolor\": \"white\", \"linecolor\": \"white\", \"ticks\": \"\"}}, \"title\": {\"x\": 0.05}, \"xaxis\": {\"automargin\": true, \"gridcolor\": \"white\", \"linecolor\": \"white\", \"ticks\": \"\", \"title\": {\"standoff\": 15}, \"zerolinecolor\": \"white\", \"zerolinewidth\": 2}, \"yaxis\": {\"automargin\": true, \"gridcolor\": \"white\", \"linecolor\": \"white\", \"ticks\": \"\", \"title\": {\"standoff\": 15}, \"zerolinecolor\": \"white\", \"zerolinewidth\": 2}}}},\n",
              "                        {\"responsive\": true}\n",
              "                    ).then(function(){\n",
              "                            \n",
              "var gd = document.getElementById('544e81ec-c1c1-42e9-a0ce-8d7f25320c88');\n",
              "var x = new MutationObserver(function (mutations, observer) {{\n",
              "        var display = window.getComputedStyle(gd).display;\n",
              "        if (!display || display === 'none') {{\n",
              "            console.log([gd, 'removed!']);\n",
              "            Plotly.purge(gd);\n",
              "            observer.disconnect();\n",
              "        }}\n",
              "}});\n",
              "\n",
              "// Listen for the removal of the full notebook cells\n",
              "var notebookContainer = gd.closest('#notebook-container');\n",
              "if (notebookContainer) {{\n",
              "    x.observe(notebookContainer, {childList: true});\n",
              "}}\n",
              "\n",
              "// Listen for the clearing of the current output cell\n",
              "var outputEl = gd.closest('.output');\n",
              "if (outputEl) {{\n",
              "    x.observe(outputEl, {childList: true});\n",
              "}}\n",
              "\n",
              "                        })\n",
              "                };\n",
              "                \n",
              "            </script>\n",
              "        </div>\n",
              "</body>\n",
              "</html>"
            ]
          },
          "metadata": {
            "tags": []
          }
        }
      ]
    },
    {
      "cell_type": "markdown",
      "metadata": {
        "id": "H1s4f0fuhyTA"
      },
      "source": [
        "* I will not drop the outliers in the 2018 data because they make sense and are not way over the board.\n",
        "* Our data is ready for analysis"
      ]
    },
    {
      "cell_type": "code",
      "metadata": {
        "colab": {
          "base_uri": "https://localhost:8080/"
        },
        "id": "peavERegk6rJ",
        "outputId": "72d80ea1-65e1-4cff-e85d-883c0e1fd84b"
      },
      "source": [
        "print(\"The final dataset has a shape of:\", data18.shape, \"rows & columns.\")"
      ],
      "execution_count": null,
      "outputs": [
        {
          "output_type": "stream",
          "text": [
            "The final dataset has a shape of: (744, 13) rows & columns.\n"
          ],
          "name": "stdout"
        }
      ]
    },
    {
      "cell_type": "markdown",
      "metadata": {
        "id": "UqfP8nVtkPuj"
      },
      "source": [
        "###Cleaning 2019 data"
      ]
    },
    {
      "cell_type": "code",
      "metadata": {
        "colab": {
          "base_uri": "https://localhost:8080/"
        },
        "id": "ibTKMygGIsH8",
        "outputId": "46a506fd-cb8d-4e1e-ab34-2f8aa2e25288"
      },
      "source": [
        "#Previewing our data\n",
        "data19.info()"
      ],
      "execution_count": null,
      "outputs": [
        {
          "output_type": "stream",
          "text": [
            "<class 'pandas.core.frame.DataFrame'>\n",
            "RangeIndex: 991 entries, 0 to 990\n",
            "Data columns (total 23 columns):\n",
            " #   Column                                                                                                Non-Null Count  Dtype  \n",
            "---  ------                                                                                                --------------  -----  \n",
            " 0   Zeitstempel                                                                                           991 non-null    object \n",
            " 1   Age                                                                                                   882 non-null    float64\n",
            " 2   Gender                                                                                                991 non-null    object \n",
            " 3   City                                                                                                  991 non-null    object \n",
            " 4   Seniority level                                                                                       976 non-null    object \n",
            " 5   Position (without seniority)                                                                          990 non-null    object \n",
            " 6   Years of experience                                                                                   991 non-null    int64  \n",
            " 7   Your main technology / programming language                                                           977 non-null    object \n",
            " 8   Yearly brutto salary (without bonus and stocks)                                                       990 non-null    float64\n",
            " 9   Yearly bonus                                                                                          530 non-null    float64\n",
            " 10  Yearly stocks                                                                                         203 non-null    float64\n",
            " 11  Yearly brutto salary (without bonus and stocks) one year ago. Only answer if staying in same country  603 non-null    float64\n",
            " 12  Yearly bonus one year ago. Only answer if staying in same country                                     257 non-null    float64\n",
            " 13  Yearly stocks one year ago. Only answer if staying in same country                                    139 non-null    float64\n",
            " 14  Number of vacation days                                                                               931 non-null    float64\n",
            " 15  Number of home office days per month                                                                  639 non-null    float64\n",
            " 16  Main language at work                                                                                 986 non-null    object \n",
            " 17  Company name                                                                                          257 non-null    object \n",
            " 18  Company size                                                                                          977 non-null    object \n",
            " 19  Company type                                                                                          960 non-null    object \n",
            " 20  Сontract duration                                                                                     962 non-null    object \n",
            " 21  Company business sector                                                                               846 non-null    object \n",
            " 22  0                                                                                                     0 non-null      float64\n",
            "dtypes: float64(10), int64(1), object(12)\n",
            "memory usage: 178.2+ KB\n"
          ],
          "name": "stdout"
        }
      ]
    },
    {
      "cell_type": "markdown",
      "metadata": {
        "id": "6AWsKMHeleY2"
      },
      "source": [
        "The 2019 data has additional records compared to the 2018 data. Cleaning this should be \"FUN\"."
      ]
    },
    {
      "cell_type": "code",
      "metadata": {
        "id": "jdtkIE2wl1uP"
      },
      "source": [
        "#Selecting columns to be used for analysis\n",
        "data19 = data19[['Age', 'Gender', 'City', 'Seniority level',\n",
        "       'Position (without seniority)', 'Years of experience',\n",
        "       'Your main technology / programming language',\n",
        "       'Yearly brutto salary (without bonus and stocks)', 'Yearly bonus',\n",
        "       'Yearly stocks',\n",
        "       'Yearly brutto salary (without bonus and stocks) one year ago. Only answer if staying in same country',\n",
        "       'Yearly bonus one year ago. Only answer if staying in same country',\n",
        "       'Yearly stocks one year ago. Only answer if staying in same country',\n",
        "       'Number of vacation days', 'Number of home office days per month',\n",
        "       'Main language at work', 'Company name ', 'Company size',\n",
        "       'Company type', 'Сontract duration', 'Company business sector']]"
      ],
      "execution_count": null,
      "outputs": []
    },
    {
      "cell_type": "code",
      "metadata": {
        "id": "1ueNJxWEl1u2"
      },
      "source": [
        "#Renaming some columns\n",
        "data19.rename(columns={\"Yearly brutto salary (without bonus and stocks) one year ago. Only answer if staying in same country\": \"Yearly brutto same country year ago\",\n",
        "                       \"Yearly bonus one year ago. Only answer if staying in same country\": \"Yearly bonus one year ago staying in same country\",\n",
        "                       \"Yearly stocks one year ago. Only answer if staying in same country\":\"Yearly stocks one year ago staying in same country\"}, inplace=True)"
      ],
      "execution_count": null,
      "outputs": []
    },
    {
      "cell_type": "code",
      "metadata": {
        "colab": {
          "base_uri": "https://localhost:8080/",
          "height": 324
        },
        "id": "5s2jyI1Ul1us",
        "outputId": "5ee7354a-2f7f-4b92-9aad-4f8dfae75465"
      },
      "source": [
        "#Viewing the first 5 records\n",
        "data19.head(3)"
      ],
      "execution_count": null,
      "outputs": [
        {
          "output_type": "execute_result",
          "data": {
            "text/html": [
              "<div>\n",
              "<style scoped>\n",
              "    .dataframe tbody tr th:only-of-type {\n",
              "        vertical-align: middle;\n",
              "    }\n",
              "\n",
              "    .dataframe tbody tr th {\n",
              "        vertical-align: top;\n",
              "    }\n",
              "\n",
              "    .dataframe thead th {\n",
              "        text-align: right;\n",
              "    }\n",
              "</style>\n",
              "<table border=\"1\" class=\"dataframe\">\n",
              "  <thead>\n",
              "    <tr style=\"text-align: right;\">\n",
              "      <th></th>\n",
              "      <th>Age</th>\n",
              "      <th>Gender</th>\n",
              "      <th>City</th>\n",
              "      <th>Seniority level</th>\n",
              "      <th>Position (without seniority)</th>\n",
              "      <th>Years of experience</th>\n",
              "      <th>Your main technology / programming language</th>\n",
              "      <th>Yearly brutto salary (without bonus and stocks)</th>\n",
              "      <th>Yearly bonus</th>\n",
              "      <th>Yearly stocks</th>\n",
              "      <th>Yearly brutto same country year ago</th>\n",
              "      <th>Yearly bonus one year ago staying in same country</th>\n",
              "      <th>Yearly stocks one year ago staying in same country</th>\n",
              "      <th>Number of vacation days</th>\n",
              "      <th>Number of home office days per month</th>\n",
              "      <th>Main language at work</th>\n",
              "      <th>Company name</th>\n",
              "      <th>Company size</th>\n",
              "      <th>Company type</th>\n",
              "      <th>Сontract duration</th>\n",
              "      <th>Company business sector</th>\n",
              "    </tr>\n",
              "  </thead>\n",
              "  <tbody>\n",
              "    <tr>\n",
              "      <th>0</th>\n",
              "      <td>33.0</td>\n",
              "      <td>Male</td>\n",
              "      <td>Berlin</td>\n",
              "      <td>Senior</td>\n",
              "      <td>Fullstack Developer</td>\n",
              "      <td>13</td>\n",
              "      <td>PHP</td>\n",
              "      <td>64000.0</td>\n",
              "      <td>1000.0</td>\n",
              "      <td>NaN</td>\n",
              "      <td>58000.0</td>\n",
              "      <td>1000.0</td>\n",
              "      <td>NaN</td>\n",
              "      <td>29.0</td>\n",
              "      <td>4.0</td>\n",
              "      <td>English</td>\n",
              "      <td>NaN</td>\n",
              "      <td>50-100</td>\n",
              "      <td>Startup</td>\n",
              "      <td>unlimited</td>\n",
              "      <td>Tourism</td>\n",
              "    </tr>\n",
              "    <tr>\n",
              "      <th>1</th>\n",
              "      <td>29.0</td>\n",
              "      <td>Male</td>\n",
              "      <td>Berlin</td>\n",
              "      <td>Middle</td>\n",
              "      <td>Backend Developer</td>\n",
              "      <td>3</td>\n",
              "      <td>Python</td>\n",
              "      <td>55000.0</td>\n",
              "      <td>NaN</td>\n",
              "      <td>NaN</td>\n",
              "      <td>55000.0</td>\n",
              "      <td>NaN</td>\n",
              "      <td>NaN</td>\n",
              "      <td>22.0</td>\n",
              "      <td>4.0</td>\n",
              "      <td>English</td>\n",
              "      <td>NaN</td>\n",
              "      <td>10-50</td>\n",
              "      <td>Product</td>\n",
              "      <td>unlimited</td>\n",
              "      <td>Scientific Activities</td>\n",
              "    </tr>\n",
              "    <tr>\n",
              "      <th>2</th>\n",
              "      <td>NaN</td>\n",
              "      <td>Male</td>\n",
              "      <td>Berlin</td>\n",
              "      <td>Middle</td>\n",
              "      <td>Mobile Developer</td>\n",
              "      <td>4</td>\n",
              "      <td>Kotlin</td>\n",
              "      <td>70000.0</td>\n",
              "      <td>NaN</td>\n",
              "      <td>NaN</td>\n",
              "      <td>55000.0</td>\n",
              "      <td>NaN</td>\n",
              "      <td>NaN</td>\n",
              "      <td>27.0</td>\n",
              "      <td>NaN</td>\n",
              "      <td>English</td>\n",
              "      <td>NaN</td>\n",
              "      <td>1000+</td>\n",
              "      <td>Startup</td>\n",
              "      <td>unlimited</td>\n",
              "      <td>NaN</td>\n",
              "    </tr>\n",
              "  </tbody>\n",
              "</table>\n",
              "</div>"
            ],
            "text/plain": [
              "    Age Gender    City  ... Company type Сontract duration  Company business sector\n",
              "0  33.0   Male  Berlin  ...      Startup         unlimited                  Tourism\n",
              "1  29.0   Male  Berlin  ...      Product         unlimited    Scientific Activities\n",
              "2   NaN   Male  Berlin  ...      Startup         unlimited                      NaN\n",
              "\n",
              "[3 rows x 21 columns]"
            ]
          },
          "metadata": {
            "tags": []
          },
          "execution_count": 23
        }
      ]
    },
    {
      "cell_type": "code",
      "metadata": {
        "colab": {
          "base_uri": "https://localhost:8080/"
        },
        "id": "wID-9ssMl1uv",
        "outputId": "d048e02c-2b61-4330-9509-4f5fc5d0e7f6"
      },
      "source": [
        "#Checking for missing values\n",
        "nulls19 = data19.isnull().sum().sort_values(ascending=False)\n",
        "nulls19"
      ],
      "execution_count": null,
      "outputs": [
        {
          "output_type": "execute_result",
          "data": {
            "text/plain": [
              "Yearly stocks one year ago staying in same country    852\n",
              "Yearly stocks                                         788\n",
              "Company name                                          734\n",
              "Yearly bonus one year ago staying in same country     734\n",
              "Yearly bonus                                          461\n",
              "Yearly brutto same country year ago                   388\n",
              "Number of home office days per month                  352\n",
              "Company business sector                               145\n",
              "Age                                                   109\n",
              "Number of vacation days                                60\n",
              "Company type                                           31\n",
              "Сontract duration                                      29\n",
              "Seniority level                                        15\n",
              "Company size                                           14\n",
              "Your main technology / programming language            14\n",
              "Main language at work                                   5\n",
              "Yearly brutto salary (without bonus and stocks)         1\n",
              "Position (without seniority)                            1\n",
              "Years of experience                                     0\n",
              "City                                                    0\n",
              "Gender                                                  0\n",
              "dtype: int64"
            ]
          },
          "metadata": {
            "tags": []
          },
          "execution_count": 24
        }
      ]
    },
    {
      "cell_type": "code",
      "metadata": {
        "colab": {
          "base_uri": "https://localhost:8080/",
          "height": 542
        },
        "id": "wg-bB2iKl1uw",
        "outputId": "423d7041-b3ec-4cf4-f0ec-51072d2fb859"
      },
      "source": [
        "#Visualizing the missing values\n",
        "\n",
        "fig = go.Figure(\n",
        "   data=[\n",
        "       go.Bar(\n",
        "           x=data19.isnull().columns,\n",
        "           y=nulls19.head(10)\n",
        "       )\n",
        "   ],\n",
        "   layout=go.Layout(\n",
        "       title=\"Missing values in 2019 data\"\n",
        "   )\n",
        ")\n",
        "iplot(fig)"
      ],
      "execution_count": null,
      "outputs": [
        {
          "output_type": "display_data",
          "data": {
            "text/html": [
              "<html>\n",
              "<head><meta charset=\"utf-8\" /></head>\n",
              "<body>\n",
              "    <div>\n",
              "            <script src=\"https://cdnjs.cloudflare.com/ajax/libs/mathjax/2.7.5/MathJax.js?config=TeX-AMS-MML_SVG\"></script><script type=\"text/javascript\">if (window.MathJax) {MathJax.Hub.Config({SVG: {font: \"STIX-Web\"}});}</script>\n",
              "                <script type=\"text/javascript\">window.PlotlyConfig = {MathJaxConfig: 'local'};</script>\n",
              "        <script src=\"https://cdn.plot.ly/plotly-latest.min.js\"></script>    \n",
              "            <div id=\"04ec1fe4-97e7-41e2-89f4-ba1108016d9d\" class=\"plotly-graph-div\" style=\"height:525px; width:100%;\"></div>\n",
              "            <script type=\"text/javascript\">\n",
              "                \n",
              "                    window.PLOTLYENV=window.PLOTLYENV || {};\n",
              "                    \n",
              "                if (document.getElementById(\"04ec1fe4-97e7-41e2-89f4-ba1108016d9d\")) {\n",
              "                    Plotly.newPlot(\n",
              "                        '04ec1fe4-97e7-41e2-89f4-ba1108016d9d',\n",
              "                        [{\"type\": \"bar\", \"x\": [\"Age\", \"Gender\", \"City\", \"Seniority level\", \"Position (without seniority)\", \"Years of experience\", \"Your main technology / programming language\", \"Yearly brutto salary (without bonus and stocks)\", \"Yearly bonus\", \"Yearly stocks\", \"Yearly brutto same country year ago\", \"Yearly bonus one year ago staying in same country\", \"Yearly stocks one year ago staying in same country\", \"Number of vacation days\", \"Number of home office days per month\", \"Main language at work\", \"Company name \", \"Company size\", \"Company type\", \"\\u0421ontract duration\", \"Company business sector\"], \"y\": [852, 788, 734, 734, 461, 388, 352, 145, 109, 60]}],\n",
              "                        {\"template\": {\"data\": {\"bar\": [{\"error_x\": {\"color\": \"#2a3f5f\"}, \"error_y\": {\"color\": \"#2a3f5f\"}, \"marker\": {\"line\": {\"color\": \"#E5ECF6\", \"width\": 0.5}}, \"type\": \"bar\"}], \"barpolar\": [{\"marker\": {\"line\": {\"color\": \"#E5ECF6\", \"width\": 0.5}}, \"type\": \"barpolar\"}], \"carpet\": [{\"aaxis\": {\"endlinecolor\": \"#2a3f5f\", \"gridcolor\": \"white\", \"linecolor\": \"white\", \"minorgridcolor\": \"white\", \"startlinecolor\": \"#2a3f5f\"}, \"baxis\": {\"endlinecolor\": \"#2a3f5f\", \"gridcolor\": \"white\", \"linecolor\": \"white\", \"minorgridcolor\": \"white\", \"startlinecolor\": \"#2a3f5f\"}, \"type\": \"carpet\"}], \"choropleth\": [{\"colorbar\": {\"outlinewidth\": 0, \"ticks\": \"\"}, \"type\": \"choropleth\"}], \"contour\": [{\"colorbar\": {\"outlinewidth\": 0, \"ticks\": \"\"}, \"colorscale\": [[0.0, \"#0d0887\"], [0.1111111111111111, \"#46039f\"], [0.2222222222222222, \"#7201a8\"], [0.3333333333333333, \"#9c179e\"], [0.4444444444444444, \"#bd3786\"], [0.5555555555555556, \"#d8576b\"], [0.6666666666666666, \"#ed7953\"], [0.7777777777777778, \"#fb9f3a\"], [0.8888888888888888, \"#fdca26\"], [1.0, \"#f0f921\"]], \"type\": \"contour\"}], \"contourcarpet\": [{\"colorbar\": {\"outlinewidth\": 0, \"ticks\": \"\"}, \"type\": \"contourcarpet\"}], \"heatmap\": [{\"colorbar\": {\"outlinewidth\": 0, \"ticks\": \"\"}, \"colorscale\": [[0.0, \"#0d0887\"], [0.1111111111111111, \"#46039f\"], [0.2222222222222222, \"#7201a8\"], [0.3333333333333333, \"#9c179e\"], [0.4444444444444444, \"#bd3786\"], [0.5555555555555556, \"#d8576b\"], [0.6666666666666666, \"#ed7953\"], [0.7777777777777778, \"#fb9f3a\"], [0.8888888888888888, \"#fdca26\"], [1.0, \"#f0f921\"]], \"type\": \"heatmap\"}], \"heatmapgl\": [{\"colorbar\": {\"outlinewidth\": 0, \"ticks\": \"\"}, \"colorscale\": [[0.0, \"#0d0887\"], [0.1111111111111111, \"#46039f\"], [0.2222222222222222, \"#7201a8\"], [0.3333333333333333, \"#9c179e\"], [0.4444444444444444, \"#bd3786\"], [0.5555555555555556, \"#d8576b\"], [0.6666666666666666, \"#ed7953\"], [0.7777777777777778, \"#fb9f3a\"], [0.8888888888888888, \"#fdca26\"], [1.0, \"#f0f921\"]], \"type\": \"heatmapgl\"}], \"histogram\": [{\"marker\": {\"colorbar\": {\"outlinewidth\": 0, \"ticks\": \"\"}}, \"type\": \"histogram\"}], \"histogram2d\": [{\"colorbar\": {\"outlinewidth\": 0, \"ticks\": \"\"}, \"colorscale\": [[0.0, \"#0d0887\"], [0.1111111111111111, \"#46039f\"], [0.2222222222222222, \"#7201a8\"], [0.3333333333333333, \"#9c179e\"], [0.4444444444444444, \"#bd3786\"], [0.5555555555555556, \"#d8576b\"], [0.6666666666666666, \"#ed7953\"], [0.7777777777777778, \"#fb9f3a\"], [0.8888888888888888, \"#fdca26\"], [1.0, \"#f0f921\"]], \"type\": \"histogram2d\"}], \"histogram2dcontour\": [{\"colorbar\": {\"outlinewidth\": 0, \"ticks\": \"\"}, \"colorscale\": [[0.0, \"#0d0887\"], [0.1111111111111111, \"#46039f\"], [0.2222222222222222, \"#7201a8\"], [0.3333333333333333, \"#9c179e\"], [0.4444444444444444, \"#bd3786\"], [0.5555555555555556, \"#d8576b\"], [0.6666666666666666, \"#ed7953\"], [0.7777777777777778, \"#fb9f3a\"], [0.8888888888888888, \"#fdca26\"], [1.0, \"#f0f921\"]], \"type\": \"histogram2dcontour\"}], \"mesh3d\": [{\"colorbar\": {\"outlinewidth\": 0, \"ticks\": \"\"}, \"type\": \"mesh3d\"}], \"parcoords\": [{\"line\": {\"colorbar\": {\"outlinewidth\": 0, \"ticks\": \"\"}}, \"type\": \"parcoords\"}], \"pie\": [{\"automargin\": true, \"type\": \"pie\"}], \"scatter\": [{\"marker\": {\"colorbar\": {\"outlinewidth\": 0, \"ticks\": \"\"}}, \"type\": \"scatter\"}], \"scatter3d\": [{\"line\": {\"colorbar\": {\"outlinewidth\": 0, \"ticks\": \"\"}}, \"marker\": {\"colorbar\": {\"outlinewidth\": 0, \"ticks\": \"\"}}, \"type\": \"scatter3d\"}], \"scattercarpet\": [{\"marker\": {\"colorbar\": {\"outlinewidth\": 0, \"ticks\": \"\"}}, \"type\": \"scattercarpet\"}], \"scattergeo\": [{\"marker\": {\"colorbar\": {\"outlinewidth\": 0, \"ticks\": \"\"}}, \"type\": \"scattergeo\"}], \"scattergl\": [{\"marker\": {\"colorbar\": {\"outlinewidth\": 0, \"ticks\": \"\"}}, \"type\": \"scattergl\"}], \"scattermapbox\": [{\"marker\": {\"colorbar\": {\"outlinewidth\": 0, \"ticks\": \"\"}}, \"type\": \"scattermapbox\"}], \"scatterpolar\": [{\"marker\": {\"colorbar\": {\"outlinewidth\": 0, \"ticks\": \"\"}}, \"type\": \"scatterpolar\"}], \"scatterpolargl\": [{\"marker\": {\"colorbar\": {\"outlinewidth\": 0, \"ticks\": \"\"}}, \"type\": \"scatterpolargl\"}], \"scatterternary\": [{\"marker\": {\"colorbar\": {\"outlinewidth\": 0, \"ticks\": \"\"}}, \"type\": \"scatterternary\"}], \"surface\": [{\"colorbar\": {\"outlinewidth\": 0, \"ticks\": \"\"}, \"colorscale\": [[0.0, \"#0d0887\"], [0.1111111111111111, \"#46039f\"], [0.2222222222222222, \"#7201a8\"], [0.3333333333333333, \"#9c179e\"], [0.4444444444444444, \"#bd3786\"], [0.5555555555555556, \"#d8576b\"], [0.6666666666666666, \"#ed7953\"], [0.7777777777777778, \"#fb9f3a\"], [0.8888888888888888, \"#fdca26\"], [1.0, \"#f0f921\"]], \"type\": \"surface\"}], \"table\": [{\"cells\": {\"fill\": {\"color\": \"#EBF0F8\"}, \"line\": {\"color\": \"white\"}}, \"header\": {\"fill\": {\"color\": \"#C8D4E3\"}, \"line\": {\"color\": \"white\"}}, \"type\": \"table\"}]}, \"layout\": {\"annotationdefaults\": {\"arrowcolor\": \"#2a3f5f\", \"arrowhead\": 0, \"arrowwidth\": 1}, \"coloraxis\": {\"colorbar\": {\"outlinewidth\": 0, \"ticks\": \"\"}}, \"colorscale\": {\"diverging\": [[0, \"#8e0152\"], [0.1, \"#c51b7d\"], [0.2, \"#de77ae\"], [0.3, \"#f1b6da\"], [0.4, \"#fde0ef\"], [0.5, \"#f7f7f7\"], [0.6, \"#e6f5d0\"], [0.7, \"#b8e186\"], [0.8, \"#7fbc41\"], [0.9, \"#4d9221\"], [1, \"#276419\"]], \"sequential\": [[0.0, \"#0d0887\"], [0.1111111111111111, \"#46039f\"], [0.2222222222222222, \"#7201a8\"], [0.3333333333333333, \"#9c179e\"], [0.4444444444444444, \"#bd3786\"], [0.5555555555555556, \"#d8576b\"], [0.6666666666666666, \"#ed7953\"], [0.7777777777777778, \"#fb9f3a\"], [0.8888888888888888, \"#fdca26\"], [1.0, \"#f0f921\"]], \"sequentialminus\": [[0.0, \"#0d0887\"], [0.1111111111111111, \"#46039f\"], [0.2222222222222222, \"#7201a8\"], [0.3333333333333333, \"#9c179e\"], [0.4444444444444444, \"#bd3786\"], [0.5555555555555556, \"#d8576b\"], [0.6666666666666666, \"#ed7953\"], [0.7777777777777778, \"#fb9f3a\"], [0.8888888888888888, \"#fdca26\"], [1.0, \"#f0f921\"]]}, \"colorway\": [\"#636efa\", \"#EF553B\", \"#00cc96\", \"#ab63fa\", \"#FFA15A\", \"#19d3f3\", \"#FF6692\", \"#B6E880\", \"#FF97FF\", \"#FECB52\"], \"font\": {\"color\": \"#2a3f5f\"}, \"geo\": {\"bgcolor\": \"white\", \"lakecolor\": \"white\", \"landcolor\": \"#E5ECF6\", \"showlakes\": true, \"showland\": true, \"subunitcolor\": \"white\"}, \"hoverlabel\": {\"align\": \"left\"}, \"hovermode\": \"closest\", \"mapbox\": {\"style\": \"light\"}, \"paper_bgcolor\": \"white\", \"plot_bgcolor\": \"#E5ECF6\", \"polar\": {\"angularaxis\": {\"gridcolor\": \"white\", \"linecolor\": \"white\", \"ticks\": \"\"}, \"bgcolor\": \"#E5ECF6\", \"radialaxis\": {\"gridcolor\": \"white\", \"linecolor\": \"white\", \"ticks\": \"\"}}, \"scene\": {\"xaxis\": {\"backgroundcolor\": \"#E5ECF6\", \"gridcolor\": \"white\", \"gridwidth\": 2, \"linecolor\": \"white\", \"showbackground\": true, \"ticks\": \"\", \"zerolinecolor\": \"white\"}, \"yaxis\": {\"backgroundcolor\": \"#E5ECF6\", \"gridcolor\": \"white\", \"gridwidth\": 2, \"linecolor\": \"white\", \"showbackground\": true, \"ticks\": \"\", \"zerolinecolor\": \"white\"}, \"zaxis\": {\"backgroundcolor\": \"#E5ECF6\", \"gridcolor\": \"white\", \"gridwidth\": 2, \"linecolor\": \"white\", \"showbackground\": true, \"ticks\": \"\", \"zerolinecolor\": \"white\"}}, \"shapedefaults\": {\"line\": {\"color\": \"#2a3f5f\"}}, \"ternary\": {\"aaxis\": {\"gridcolor\": \"white\", \"linecolor\": \"white\", \"ticks\": \"\"}, \"baxis\": {\"gridcolor\": \"white\", \"linecolor\": \"white\", \"ticks\": \"\"}, \"bgcolor\": \"#E5ECF6\", \"caxis\": {\"gridcolor\": \"white\", \"linecolor\": \"white\", \"ticks\": \"\"}}, \"title\": {\"x\": 0.05}, \"xaxis\": {\"automargin\": true, \"gridcolor\": \"white\", \"linecolor\": \"white\", \"ticks\": \"\", \"title\": {\"standoff\": 15}, \"zerolinecolor\": \"white\", \"zerolinewidth\": 2}, \"yaxis\": {\"automargin\": true, \"gridcolor\": \"white\", \"linecolor\": \"white\", \"ticks\": \"\", \"title\": {\"standoff\": 15}, \"zerolinecolor\": \"white\", \"zerolinewidth\": 2}}}, \"title\": {\"text\": \"Missing values in 2019 data\"}},\n",
              "                        {\"responsive\": true}\n",
              "                    ).then(function(){\n",
              "                            \n",
              "var gd = document.getElementById('04ec1fe4-97e7-41e2-89f4-ba1108016d9d');\n",
              "var x = new MutationObserver(function (mutations, observer) {{\n",
              "        var display = window.getComputedStyle(gd).display;\n",
              "        if (!display || display === 'none') {{\n",
              "            console.log([gd, 'removed!']);\n",
              "            Plotly.purge(gd);\n",
              "            observer.disconnect();\n",
              "        }}\n",
              "}});\n",
              "\n",
              "// Listen for the removal of the full notebook cells\n",
              "var notebookContainer = gd.closest('#notebook-container');\n",
              "if (notebookContainer) {{\n",
              "    x.observe(notebookContainer, {childList: true});\n",
              "}}\n",
              "\n",
              "// Listen for the clearing of the current output cell\n",
              "var outputEl = gd.closest('.output');\n",
              "if (outputEl) {{\n",
              "    x.observe(outputEl, {childList: true});\n",
              "}}\n",
              "\n",
              "                        })\n",
              "                };\n",
              "                \n",
              "            </script>\n",
              "        </div>\n",
              "</body>\n",
              "</html>"
            ]
          },
          "metadata": {
            "tags": []
          }
        }
      ]
    },
    {
      "cell_type": "code",
      "metadata": {
        "id": "aR2sb__Yl1uy"
      },
      "source": [
        "#Imputing missing 2019 data\n",
        "data19['Age'].fillna(data19['Age'].mean(), inplace=True)\n",
        "data19['Company business sector'].fillna(data19['Company business sector'].mode()[0], inplace=True)\n",
        "data19['Company name '].fillna(data19['Company name '].mode()[0], inplace=True)\n",
        "data19['Company size'].fillna(data19['Company size'].mode()[0], inplace=True)\n",
        "data19['Company type'].fillna(data19['Company type'].mode()[0], inplace=True)\n",
        "data19['Main language at work'].fillna(data19['Main language at work'].mode()[0], inplace=True)\n",
        "data19['Number of home office days per month'].fillna(data19['Number of home office days per month'].mean(), inplace=True)\n",
        "data19['Number of vacation days'].fillna(data19['Number of vacation days'].mean(), inplace=True)\n",
        "data19['Position (without seniority)'].fillna(data19['Position (without seniority)'].mode()[0], inplace=True)\n",
        "data19['Seniority level'].fillna(data19['Seniority level'].mode()[0], inplace=True)\n",
        "data19['Yearly bonus one year ago staying in same country'].fillna(data19['Yearly bonus one year ago staying in same country'].mean(), inplace=True)\n",
        "data19['Yearly bonus'].fillna(data19['Yearly bonus'].mean(), inplace=True)\n",
        "data19['Yearly brutto same country year ago'].fillna(data19['Yearly brutto same country year ago'].mean(), inplace=True)\n",
        "data19['Yearly brutto salary (without bonus and stocks)'].fillna(data19['Yearly brutto salary (without bonus and stocks)'].mean(), inplace=True)\n",
        "data19['Yearly stocks one year ago staying in same country'].fillna(data19['Yearly stocks one year ago staying in same country'].mean(), inplace=True)\n",
        "data19['Yearly stocks'].fillna(data19['Yearly stocks'].mean(), inplace=True)\n",
        "data19['Your main technology / programming language'].fillna(data19['Your main technology / programming language'].mode()[0], inplace=True)\n",
        "data19['Сontract duration'].fillna(data19['Сontract duration'].mode()[0], inplace=True)"
      ],
      "execution_count": null,
      "outputs": []
    },
    {
      "cell_type": "code",
      "metadata": {
        "id": "GiOCje97l1uz"
      },
      "source": [
        "#Let's deal with duplicated data\n",
        "\n",
        "data19.duplicated().sum()\n",
        "data19.drop_duplicates(inplace=True)"
      ],
      "execution_count": null,
      "outputs": []
    },
    {
      "cell_type": "code",
      "metadata": {
        "colab": {
          "base_uri": "https://localhost:8080/",
          "height": 321
        },
        "id": "IsUqLFRkl1u0",
        "outputId": "c46360c8-b9f4-4f9e-9583-e20ec9be357e"
      },
      "source": [
        "#Let's see the descriptive statistics of the 2019 data\n",
        "data19.describe()"
      ],
      "execution_count": null,
      "outputs": [
        {
          "output_type": "execute_result",
          "data": {
            "text/html": [
              "<div>\n",
              "<style scoped>\n",
              "    .dataframe tbody tr th:only-of-type {\n",
              "        vertical-align: middle;\n",
              "    }\n",
              "\n",
              "    .dataframe tbody tr th {\n",
              "        vertical-align: top;\n",
              "    }\n",
              "\n",
              "    .dataframe thead th {\n",
              "        text-align: right;\n",
              "    }\n",
              "</style>\n",
              "<table border=\"1\" class=\"dataframe\">\n",
              "  <thead>\n",
              "    <tr style=\"text-align: right;\">\n",
              "      <th></th>\n",
              "      <th>Age</th>\n",
              "      <th>Years of experience</th>\n",
              "      <th>Yearly brutto salary (without bonus and stocks)</th>\n",
              "      <th>Yearly bonus</th>\n",
              "      <th>Yearly stocks</th>\n",
              "      <th>Yearly brutto same country year ago</th>\n",
              "      <th>Yearly bonus one year ago staying in same country</th>\n",
              "      <th>Yearly stocks one year ago staying in same country</th>\n",
              "      <th>Number of vacation days</th>\n",
              "      <th>Number of home office days per month</th>\n",
              "    </tr>\n",
              "  </thead>\n",
              "  <tbody>\n",
              "    <tr>\n",
              "      <th>count</th>\n",
              "      <td>983.000000</td>\n",
              "      <td>983.000000</td>\n",
              "      <td>983.000000</td>\n",
              "      <td>983.000000</td>\n",
              "      <td>983.000000</td>\n",
              "      <td>983.000000</td>\n",
              "      <td>983.000000</td>\n",
              "      <td>983.000000</td>\n",
              "      <td>983.000000</td>\n",
              "      <td>983.000000</td>\n",
              "    </tr>\n",
              "    <tr>\n",
              "      <th>mean</th>\n",
              "      <td>32.400752</td>\n",
              "      <td>8.506612</td>\n",
              "      <td>72437.998181</td>\n",
              "      <td>7840.166606</td>\n",
              "      <td>18277.897259</td>\n",
              "      <td>65753.649125</td>\n",
              "      <td>8145.163784</td>\n",
              "      <td>8197.563285</td>\n",
              "      <td>27.912069</td>\n",
              "      <td>6.459391</td>\n",
              "    </tr>\n",
              "    <tr>\n",
              "      <th>std</th>\n",
              "      <td>4.944069</td>\n",
              "      <td>4.998748</td>\n",
              "      <td>23908.894877</td>\n",
              "      <td>7531.310993</td>\n",
              "      <td>27665.436368</td>\n",
              "      <td>16016.245011</td>\n",
              "      <td>7693.277572</td>\n",
              "      <td>16952.002992</td>\n",
              "      <td>4.319677</td>\n",
              "      <td>12.396648</td>\n",
              "    </tr>\n",
              "    <tr>\n",
              "      <th>min</th>\n",
              "      <td>20.000000</td>\n",
              "      <td>0.000000</td>\n",
              "      <td>6000.000000</td>\n",
              "      <td>0.000000</td>\n",
              "      <td>0.000000</td>\n",
              "      <td>0.000000</td>\n",
              "      <td>0.000000</td>\n",
              "      <td>0.000000</td>\n",
              "      <td>4.000000</td>\n",
              "      <td>0.000000</td>\n",
              "    </tr>\n",
              "    <tr>\n",
              "      <th>25%</th>\n",
              "      <td>29.000000</td>\n",
              "      <td>5.000000</td>\n",
              "      <td>60000.000000</td>\n",
              "      <td>5000.000000</td>\n",
              "      <td>18263.119803</td>\n",
              "      <td>60000.000000</td>\n",
              "      <td>8144.000000</td>\n",
              "      <td>8204.476331</td>\n",
              "      <td>26.000000</td>\n",
              "      <td>4.000000</td>\n",
              "    </tr>\n",
              "    <tr>\n",
              "      <th>50%</th>\n",
              "      <td>32.416100</td>\n",
              "      <td>8.000000</td>\n",
              "      <td>70000.000000</td>\n",
              "      <td>7857.169811</td>\n",
              "      <td>18263.119803</td>\n",
              "      <td>65803.895522</td>\n",
              "      <td>8144.000000</td>\n",
              "      <td>8204.476331</td>\n",
              "      <td>28.000000</td>\n",
              "      <td>6.462050</td>\n",
              "    </tr>\n",
              "    <tr>\n",
              "      <th>75%</th>\n",
              "      <td>35.000000</td>\n",
              "      <td>11.000000</td>\n",
              "      <td>80000.000000</td>\n",
              "      <td>7857.169811</td>\n",
              "      <td>18263.119803</td>\n",
              "      <td>67000.000000</td>\n",
              "      <td>8144.000000</td>\n",
              "      <td>8204.476331</td>\n",
              "      <td>30.000000</td>\n",
              "      <td>6.462050</td>\n",
              "    </tr>\n",
              "    <tr>\n",
              "      <th>max</th>\n",
              "      <td>54.000000</td>\n",
              "      <td>30.000000</td>\n",
              "      <td>216000.000000</td>\n",
              "      <td>80000.000000</td>\n",
              "      <td>750000.000000</td>\n",
              "      <td>200000.000000</td>\n",
              "      <td>150000.000000</td>\n",
              "      <td>520000.000000</td>\n",
              "      <td>100.000000</td>\n",
              "      <td>365.000000</td>\n",
              "    </tr>\n",
              "  </tbody>\n",
              "</table>\n",
              "</div>"
            ],
            "text/plain": [
              "              Age  ...  Number of home office days per month\n",
              "count  983.000000  ...                            983.000000\n",
              "mean    32.400752  ...                              6.459391\n",
              "std      4.944069  ...                             12.396648\n",
              "min     20.000000  ...                              0.000000\n",
              "25%     29.000000  ...                              4.000000\n",
              "50%     32.416100  ...                              6.462050\n",
              "75%     35.000000  ...                              6.462050\n",
              "max     54.000000  ...                            365.000000\n",
              "\n",
              "[8 rows x 10 columns]"
            ]
          },
          "metadata": {
            "tags": []
          },
          "execution_count": 28
        }
      ]
    },
    {
      "cell_type": "code",
      "metadata": {
        "colab": {
          "base_uri": "https://localhost:8080/"
        },
        "id": "6Xd58eKpl1u1",
        "outputId": "c83e5d14-a75e-49c6-d641-6611400851e0"
      },
      "source": [
        "#Checking for outliers using the interquartile range\n",
        "Q1 = data19.quantile(0.25)\n",
        "Q3 = data19.quantile(0.75)\n",
        "IQR19 = Q3 - Q1\n",
        "IQR19\n"
      ],
      "execution_count": null,
      "outputs": [
        {
          "output_type": "execute_result",
          "data": {
            "text/plain": [
              "Age                                                       6.000000\n",
              "Years of experience                                       6.000000\n",
              "Yearly brutto salary (without bonus and stocks)       20000.000000\n",
              "Yearly bonus                                           2857.169811\n",
              "Yearly stocks                                             0.000000\n",
              "Yearly brutto same country year ago                    7000.000000\n",
              "Yearly bonus one year ago staying in same country         0.000000\n",
              "Yearly stocks one year ago staying in same country        0.000000\n",
              "Number of vacation days                                   4.000000\n",
              "Number of home office days per month                      2.462050\n",
              "dtype: float64"
            ]
          },
          "metadata": {
            "tags": []
          },
          "execution_count": 29
        }
      ]
    },
    {
      "cell_type": "code",
      "metadata": {
        "colab": {
          "base_uri": "https://localhost:8080/",
          "height": 542
        },
        "id": "cZZkbIMSl1u3",
        "outputId": "5b93f20d-f658-4591-f33c-7546cd91386d"
      },
      "source": [
        "#Box plot for outliers\n",
        "out19 = data19[['Age','Years of experience', 'Number of home office days per month',\n",
        "                'Number of vacation days','Yearly brutto same country year ago',              \n",
        "                'Yearly brutto salary (without bonus and stocks)', 'Yearly bonus', \n",
        "                'Yearly stocks','Yearly bonus one year ago staying in same country',\n",
        "                'Yearly stocks one year ago staying in same country']]\n",
        "fig = go.Figure()\n",
        "\n",
        "for col in out19:\n",
        "  fig.add_trace(go.Box(y=out19[col].values, name=out19[col].name))\n",
        "  \n",
        "fig.show()"
      ],
      "execution_count": null,
      "outputs": [
        {
          "output_type": "display_data",
          "data": {
            "text/html": [
              "<html>\n",
              "<head><meta charset=\"utf-8\" /></head>\n",
              "<body>\n",
              "    <div>\n",
              "            <script src=\"https://cdnjs.cloudflare.com/ajax/libs/mathjax/2.7.5/MathJax.js?config=TeX-AMS-MML_SVG\"></script><script type=\"text/javascript\">if (window.MathJax) {MathJax.Hub.Config({SVG: {font: \"STIX-Web\"}});}</script>\n",
              "                <script type=\"text/javascript\">window.PlotlyConfig = {MathJaxConfig: 'local'};</script>\n",
              "        <script src=\"https://cdn.plot.ly/plotly-latest.min.js\"></script>    \n",
              "            <div id=\"67f5e96c-df04-4588-94ae-9cbe2fcc1b0c\" class=\"plotly-graph-div\" style=\"height:525px; width:100%;\"></div>\n",
              "            <script type=\"text/javascript\">\n",
              "                \n",
              "                    window.PLOTLYENV=window.PLOTLYENV || {};\n",
              "                    \n",
              "                if (document.getElementById(\"67f5e96c-df04-4588-94ae-9cbe2fcc1b0c\")) {\n",
              "                    Plotly.newPlot(\n",
              "                        '67f5e96c-df04-4588-94ae-9cbe2fcc1b0c',\n",
              "                        [{\"name\": \"Age\", \"type\": \"box\", \"y\": [33.0, 29.0, 32.41609977324263, 30.0, 32.0, 33.0, 34.0, 38.0, 32.41609977324263, 29.0, 27.0, 31.0, 23.0, 27.0, 33.0, 32.41609977324263, 31.0, 34.0, 33.0, 31.0, 24.0, 28.0, 32.0, 27.0, 32.0, 32.0, 38.0, 32.41609977324263, 31.0, 31.0, 32.0, 44.0, 26.0, 31.0, 36.0, 33.0, 37.0, 29.0, 33.0, 35.0, 35.0, 31.0, 35.0, 27.0, 38.0, 31.0, 29.0, 30.0, 30.0, 31.0, 33.0, 31.0, 30.0, 28.0, 32.41609977324263, 27.0, 31.0, 28.0, 36.0, 28.0, 37.0, 40.0, 34.0, 32.41609977324263, 27.0, 30.0, 32.0, 23.0, 35.0, 30.0, 40.0, 27.0, 36.0, 36.0, 31.0, 26.0, 26.0, 32.0, 38.0, 29.0, 30.0, 26.0, 30.0, 32.0, 35.0, 35.0, 38.0, 36.0, 32.41609977324263, 30.0, 33.0, 31.0, 37.0, 32.41609977324263, 27.0, 36.0, 39.0, 36.0, 33.0, 30.0, 32.0, 32.41609977324263, 43.0, 29.0, 32.41609977324263, 29.0, 32.41609977324263, 40.0, 33.0, 32.41609977324263, 37.0, 36.0, 39.0, 27.0, 46.0, 46.0, 31.0, 47.0, 40.0, 37.0, 36.0, 44.0, 37.0, 30.0, 33.0, 35.0, 25.0, 25.0, 32.0, 32.0, 42.0, 42.0, 34.0, 30.0, 45.0, 35.0, 42.0, 40.0, 34.0, 30.0, 32.41609977324263, 32.0, 31.0, 30.0, 45.0, 33.0, 38.0, 29.0, 33.0, 34.0, 33.0, 36.0, 31.0, 38.0, 24.0, 40.0, 37.0, 25.0, 33.0, 32.0, 43.0, 34.0, 28.0, 32.0, 29.0, 25.0, 26.0, 44.0, 29.0, 28.0, 45.0, 39.0, 36.0, 32.0, 38.0, 42.0, 32.41609977324263, 32.0, 33.0, 34.0, 35.0, 35.0, 24.0, 48.0, 31.0, 40.0, 29.0, 38.0, 36.0, 32.41609977324263, 34.0, 32.0, 29.0, 47.0, 36.0, 32.0, 34.0, 29.0, 31.0, 41.0, 35.0, 37.0, 39.0, 32.41609977324263, 25.0, 29.0, 32.41609977324263, 28.0, 47.0, 31.0, 40.0, 32.0, 34.0, 34.0, 33.0, 31.0, 37.0, 33.0, 34.0, 32.0, 38.0, 32.0, 27.0, 54.0, 35.0, 31.0, 42.0, 25.0, 32.41609977324263, 38.0, 34.0, 40.0, 30.0, 30.0, 25.0, 25.0, 31.0, 32.0, 25.0, 32.0, 31.0, 32.0, 44.0, 36.0, 38.0, 32.41609977324263, 32.0, 32.0, 27.0, 27.0, 32.41609977324263, 29.0, 26.0, 32.41609977324263, 35.0, 26.0, 25.0, 32.41609977324263, 28.0, 36.0, 24.0, 34.0, 34.0, 36.0, 33.0, 29.0, 31.0, 30.0, 33.0, 29.0, 32.0, 29.0, 33.0, 32.41609977324263, 29.0, 43.0, 32.41609977324263, 36.0, 30.0, 27.0, 36.0, 28.0, 34.0, 29.0, 27.0, 29.0, 29.0, 28.0, 26.0, 32.41609977324263, 34.0, 32.0, 35.0, 28.0, 32.41609977324263, 38.0, 24.0, 32.0, 32.41609977324263, 32.41609977324263, 36.0, 32.41609977324263, 32.41609977324263, 32.41609977324263, 32.41609977324263, 42.0, 32.41609977324263, 30.0, 32.41609977324263, 30.0, 28.0, 37.0, 29.0, 32.41609977324263, 35.0, 30.0, 34.0, 29.0, 41.0, 33.0, 31.0, 25.0, 27.0, 29.0, 27.0, 36.0, 28.0, 33.0, 34.0, 36.0, 23.0, 35.0, 27.0, 30.0, 37.0, 32.41609977324263, 41.0, 32.0, 34.0, 32.41609977324263, 45.0, 32.41609977324263, 32.41609977324263, 32.41609977324263, 32.41609977324263, 32.41609977324263, 36.0, 32.41609977324263, 35.0, 32.0, 29.0, 32.41609977324263, 33.0, 33.0, 39.0, 25.0, 33.0, 35.0, 34.0, 31.0, 32.41609977324263, 34.0, 32.0, 33.0, 44.0, 26.0, 30.0, 37.0, 24.0, 27.0, 30.0, 36.0, 31.0, 33.0, 32.41609977324263, 32.41609977324263, 43.0, 40.0, 35.0, 36.0, 28.0, 31.0, 30.0, 32.41609977324263, 32.41609977324263, 35.0, 28.0, 32.41609977324263, 26.0, 25.0, 27.0, 32.0, 24.0, 32.41609977324263, 37.0, 27.0, 31.0, 29.0, 37.0, 34.0, 32.41609977324263, 32.41609977324263, 32.41609977324263, 28.0, 25.0, 32.41609977324263, 32.41609977324263, 32.41609977324263, 31.0, 27.0, 28.0, 32.0, 28.0, 29.0, 37.0, 34.0, 29.0, 30.0, 24.0, 26.0, 28.0, 25.0, 39.0, 35.0, 36.0, 35.0, 30.0, 39.0, 31.0, 29.0, 33.0, 32.41609977324263, 31.0, 26.0, 33.0, 29.0, 35.0, 34.0, 29.0, 22.0, 32.0, 32.0, 31.0, 29.0, 30.0, 30.0, 29.0, 30.0, 43.0, 34.0, 38.0, 26.0, 38.0, 28.0, 30.0, 34.0, 32.41609977324263, 29.0, 26.0, 30.0, 28.0, 49.0, 33.0, 20.0, 35.0, 26.0, 31.0, 33.0, 31.0, 32.41609977324263, 28.0, 36.0, 32.41609977324263, 39.0, 27.0, 26.0, 30.0, 32.41609977324263, 29.0, 38.0, 31.0, 35.0, 29.0, 38.0, 40.0, 26.0, 27.0, 25.0, 38.0, 32.0, 32.41609977324263, 34.0, 28.0, 32.41609977324263, 33.0, 31.0, 32.41609977324263, 30.0, 35.0, 32.41609977324263, 30.0, 26.0, 32.41609977324263, 32.41609977324263, 23.0, 26.0, 44.0, 30.0, 37.0, 46.0, 28.0, 41.0, 24.0, 32.41609977324263, 27.0, 39.0, 31.0, 40.0, 35.0, 36.0, 30.0, 27.0, 30.0, 30.0, 32.41609977324263, 34.0, 40.0, 40.0, 33.0, 35.0, 32.41609977324263, 34.0, 42.0, 30.0, 30.0, 30.0, 32.0, 29.0, 32.41609977324263, 29.0, 29.0, 24.0, 37.0, 26.0, 37.0, 36.0, 33.0, 30.0, 35.0, 23.0, 28.0, 31.0, 28.0, 27.0, 32.41609977324263, 32.0, 35.0, 25.0, 35.0, 34.0, 29.0, 34.0, 35.0, 34.0, 39.0, 32.41609977324263, 39.0, 34.0, 27.0, 30.0, 32.0, 35.0, 29.0, 34.0, 27.0, 27.0, 34.0, 33.0, 32.41609977324263, 45.0, 35.0, 33.0, 32.0, 25.0, 27.0, 36.0, 33.0, 42.0, 32.0, 32.0, 42.0, 37.0, 34.0, 32.41609977324263, 32.41609977324263, 32.0, 33.0, 27.0, 48.0, 28.0, 32.0, 26.0, 33.0, 31.0, 30.0, 35.0, 32.0, 38.0, 28.0, 32.41609977324263, 34.0, 31.0, 30.0, 32.41609977324263, 32.41609977324263, 33.0, 37.0, 32.41609977324263, 32.41609977324263, 32.41609977324263, 32.41609977324263, 28.0, 28.0, 26.0, 32.41609977324263, 39.0, 28.0, 48.0, 35.0, 32.41609977324263, 32.41609977324263, 30.0, 38.0, 27.0, 27.0, 37.0, 30.0, 32.41609977324263, 32.0, 35.0, 34.0, 27.0, 38.0, 41.0, 32.0, 29.0, 31.0, 37.0, 32.0, 27.0, 25.0, 34.0, 30.0, 32.41609977324263, 32.0, 30.0, 24.0, 28.0, 32.0, 38.0, 32.41609977324263, 29.0, 29.0, 33.0, 35.0, 32.0, 33.0, 35.0, 38.0, 30.0, 34.0, 32.41609977324263, 31.0, 36.0, 31.0, 30.0, 29.0, 34.0, 31.0, 33.0, 38.0, 35.0, 21.0, 43.0, 33.0, 30.0, 35.0, 33.0, 28.0, 41.0, 29.0, 24.0, 31.0, 30.0, 34.0, 29.0, 35.0, 22.0, 35.0, 35.0, 32.0, 27.0, 32.0, 43.0, 33.0, 33.0, 35.0, 31.0, 29.0, 23.0, 33.0, 30.0, 33.0, 38.0, 24.0, 28.0, 30.0, 32.0, 32.41609977324263, 30.0, 35.0, 30.0, 29.0, 35.0, 30.0, 33.0, 35.0, 32.41609977324263, 29.0, 33.0, 27.0, 34.0, 37.0, 29.0, 27.0, 27.0, 22.0, 33.0, 32.41609977324263, 31.0, 27.0, 32.0, 28.0, 32.0, 32.0, 49.0, 30.0, 35.0, 27.0, 33.0, 27.0, 33.0, 32.0, 31.0, 28.0, 36.0, 32.0, 30.0, 28.0, 26.0, 37.0, 48.0, 32.41609977324263, 30.0, 24.0, 35.0, 35.0, 29.0, 34.0, 34.0, 24.0, 28.0, 31.0, 34.0, 23.0, 32.0, 25.0, 40.0, 30.0, 33.0, 31.0, 30.0, 30.0, 29.0, 31.0, 29.0, 30.0, 24.0, 37.0, 26.0, 23.0, 30.0, 35.0, 33.0, 32.41609977324263, 29.0, 23.0, 39.0, 24.0, 30.0, 28.0, 35.0, 32.0, 40.0, 38.0, 33.0, 32.41609977324263, 25.0, 33.0, 32.41609977324263, 40.0, 35.0, 41.0, 31.0, 34.0, 32.41609977324263, 45.0, 37.0, 31.0, 33.0, 34.0, 42.0, 25.0, 32.41609977324263, 35.0, 30.0, 33.0, 33.0, 26.0, 32.0, 30.0, 33.0, 34.0, 52.0, 31.0, 28.0, 35.0, 29.0, 37.0, 34.0, 45.0, 31.0, 32.0, 32.0, 32.41609977324263, 29.0, 41.0, 36.0, 42.0, 41.0, 33.0, 38.0, 33.0, 35.0, 30.0, 41.0, 30.0, 33.0, 32.41609977324263, 27.0, 28.0, 28.0, 28.0, 29.0, 22.0, 26.0, 40.0, 34.0, 25.0, 29.0, 40.0, 33.0, 32.0, 33.0, 32.41609977324263, 40.0, 23.0, 28.0, 28.0, 29.0, 28.0, 30.0, 25.0, 39.0, 33.0, 43.0, 28.0, 30.0, 37.0, 35.0, 30.0, 35.0, 30.0, 31.0, 33.0, 24.0, 36.0, 29.0, 30.0, 26.0, 31.0, 27.0, 28.0, 26.0, 24.0, 32.41609977324263, 40.0, 30.0, 30.0, 25.0, 32.41609977324263, 42.0, 45.0, 39.0, 26.0, 30.0, 35.0, 27.0, 31.0, 36.0, 45.0, 32.0, 37.0, 32.41609977324263, 32.41609977324263, 28.0, 31.0, 34.0, 24.0, 45.0, 37.0, 35.0, 28.0, 21.0, 33.0, 32.0, 27.0, 32.0, 32.0, 26.0, 29.0, 24.0, 33.0, 44.0, 28.0, 21.0, 25.0, 33.0, 30.0, 37.0, 32.0, 31.0, 38.0, 30.0, 50.0, 33.0, 36.0, 28.0, 33.0, 44.0, 35.0, 35.0, 36.0, 32.41609977324263, 34.0, 29.0, 33.0, 31.0, 37.0, 26.0, 33.0, 28.0, 27.0, 30.0, 46.0, 41.0, 41.0, 32.0, 30.0, 28.0, 42.0, 33.0, 32.0]}, {\"name\": \"Years of experience\", \"type\": \"box\", \"y\": [13, 3, 4, 6, 10, 11, 12, 15, 8, 7, 7, 8, 6, 9, 10, 7, 6, 10, 12, 6, 2, 7, 12, 5, 13, 7, 16, 7, 9, 8, 13, 20, 6, 7, 11, 4, 16, 11, 9, 15, 4, 10, 10, 10, 10, 2, 9, 4, 3, 12, 10, 7, 8, 4, 6, 5, 10, 6, 13, 8, 15, 15, 9, 12, 3, 8, 11, 3, 12, 10, 12, 5, 14, 15, 9, 3, 2, 12, 18, 10, 6, 6, 10, 7, 16, 11, 7, 14, 5, 9, 8, 10, 12, 3, 2, 19, 2, 14, 10, 7, 12, 3, 8, 7, 20, 9, 6, 20, 13, 7, 14, 11, 16, 2, 7, 0, 12, 20, 18, 10, 10, 25, 10, 4, 8, 15, 4, 4, 11, 14, 20, 15, 8, 10, 2, 9, 16, 18, 12, 6, 13, 12, 10, 8, 12, 7, 6, 6, 9, 10, 12, 15, 4, 9, 1, 14, 11, 6, 10, 8, 10, 10, 7, 9, 7, 2, 5, 5, 10, 7, 2, 15, 13, 5, 17, 10, 11, 8, 8, 15, 15, 16, 1, 11, 10, 9, 4, 17, 16, 10, 3, 12, 10, 22, 10, 10, 12, 4, 9, 9, 6, 14, 17, 7, 5, 8, 3, 4, 25, 10, 15, 14, 10, 10, 15, 10, 15, 5, 12, 14, 13, 13, 7, 8, 6, 6, 20, 1, 15, 12, 16, 20, 9, 2, 1, 5, 8, 4, 5, 10, 10, 12, 22, 13, 1, 7, 5, 14, 7, 5, 11, 7, 2, 0, 7, 5, 4, 13, 1, 11, 3, 10, 11, 10, 13, 3, 8, 12, 11, 8, 1, 9, 10, 5, 10, 10, 5, 14, 6, 5, 3, 2, 10, 10, 7, 8, 9, 9, 1, 5, 12, 11, 15, 7, 9, 10, 4, 5, 8, 5, 10, 11, 9, 4, 8, 12, 10, 6, 7, 6, 8, 15, 7, 3, 16, 8, 12, 8, 0, 7, 7, 4, 3, 8, 5, 18, 7, 10, 2, 15, 5, 17, 1, 9, 14, 10, 20, 12, 13, 10, 14, 8, 8, 6, 7, 4, 3, 6, 13, 8, 8, 10, 11, 15, 15, 2, 5, 16, 9, 7, 11, 13, 8, 11, 5, 0, 8, 11, 1, 6, 4, 15, 8, 4, 7, 12, 20, 18, 15, 20, 7, 10, 10, 12, 14, 12, 6, 6, 5, 3, 7, 2, 2, 0, 17, 6, 1, 2, 12, 8, 20, 8, 8, 1, 4, 7, 3, 7, 8, 3, 5, 3, 3, 4, 6, 12, 2, 3, 3, 3, 4, 1, 13, 12, 4, 12, 3, 15, 10, 7, 11, 6, 3, 3, 8, 1, 10, 7, 4, 3, 12, 2, 10, 4, 6, 9, 5, 5, 15, 9, 4, 3, 5, 7, 11, 8, 8, 2, 1, 8, 10, 24, 11, 1, 10, 3, 6, 8, 11, 10, 3, 15, 18, 10, 1, 6, 2, 7, 4, 7, 5, 9, 8, 15, 18, 2, 3, 4, 3, 4, 20, 10, 2, 7, 2, 8, 12, 8, 7, 3, 4, 1, 15, 9, 1, 5, 15, 4, 15, 11, 4, 10, 2, 16, 5, 5, 5, 10, 8, 16, 1, 8, 8, 9, 10, 6, 15, 15, 11, 12, 13, 2, 20, 5, 10, 6, 7, 2, 6, 8, 7, 5, 15, 6, 15, 10, 3, 10, 2, 2, 7, 8, 6, 5, 3, 12, 15, 5, 15, 9, 3, 3, 5, 10, 3, 11, 18, 4, 7, 10, 5, 8, 1, 3, 4, 5, 9, 11, 8, 15, 14, 1, 8, 3, 1, 5, 16, 7, 2, 10, 18, 12, 12, 11, 7, 12, 6, 6, 18, 1, 10, 3, 12, 2, 8, 16, 10, 16, 4, 19, 8, 9, 9, 8, 8, 14, 13, 6, 10, 7, 11, 3, 8, 5, 9, 9, 6, 15, 7, 8, 9, 7, 8, 5, 6, 3, 2, 8, 10, 16, 14, 6, 14, 20, 13, 4, 1, 4, 10, 7, 8, 6, 9, 7, 1, 7, 2, 5, 10, 15, 6, 3, 4, 3, 6, 9, 12, 10, 17, 7, 8, 8, 3, 6, 10, 5, 4, 2, 1, 8, 10, 16, 4, 25, 3, 4, 5, 4, 1, 12, 2, 3, 10, 8, 3, 3, 13, 5, 16, 10, 2, 5, 11, 3, 10, 9, 10, 3, 7, 3, 12, 10, 8, 3, 4, 6, 8, 2, 6, 9, 13, 7, 8, 7, 9, 5, 10, 6, 11, 12, 4, 12, 16, 9, 5, 4, 2, 10, 5, 10, 6, 10, 5, 12, 12, 25, 6, 11, 8, 5, 5, 2, 11, 11, 5, 7, 0, 6, 5, 6, 18, 16, 20, 8, 4, 5, 7, 8, 10, 2, 1, 6, 9, 12, 4, 7, 5, 20, 8, 6, 5, 10, 6, 7, 7, 8, 15, 1, 10, 7, 3, 2, 3, 5, 8, 6, 1, 16, 1, 9, 6, 10, 3, 15, 15, 15, 19, 2, 11, 13, 3, 11, 20, 11, 13, 1, 20, 3, 8, 8, 13, 20, 3, 9, 5, 9, 13, 5, 2, 10, 2, 12, 13, 30, 10, 7, 11, 4, 13, 4, 19, 5, 2, 10, 9, 1, 25, 15, 19, 17, 11, 11, 3, 13, 2, 18, 10, 15, 7, 11, 2, 2, 6, 9, 1, 6, 22, 15, 6, 3, 1, 12, 5, 6, 5, 16, 4, 2, 6, 5, 7, 8, 7, 15, 10, 20, 2, 12, 15, 13, 6, 15, 2, 5, 2, 5, 15, 3, 6, 1, 8, 3, 7, 5, 5, 8, 6, 8, 8, 6, 7, 18, 25, 10, 4, 11, 2, 1, 10, 10, 4, 10, 15, 12, 7, 3, 5, 5, 3, 18, 17, 3, 7, 1, 10, 3, 8, 3, 10, 5, 6, 10, 8, 22, 6, 1, 6, 11, 9, 2, 9, 11, 5, 10, 28, 4, 4, 10, 8, 6, 9, 12, 14, 7, 13, 7, 1, 8, 17, 4, 10, 5, 5, 14, 20, 19, 19, 7, 10, 7, 9, 15, 5]}, {\"name\": \"Number of home office days per month\", \"type\": \"box\", \"y\": [4.0, 4.0, 6.462050078247262, 6.462050078247262, 0.0, 5.0, 6.462050078247262, 10.0, 15.0, 4.0, 1.0, 6.462050078247262, 1.0, 0.0, 10.0, 4.0, 0.0, 6.462050078247262, 6.462050078247262, 6.462050078247262, 6.462050078247262, 0.0, 6.462050078247262, 0.0, 6.462050078247262, 3.0, 20.0, 6.462050078247262, 4.0, 0.0, 6.462050078247262, 5.0, 6.462050078247262, 20.0, 6.462050078247262, 4.0, 4.0, 20.0, 2.0, 4.0, 4.0, 6.462050078247262, 20.0, 5.0, 10.0, 0.0, 4.0, 0.0, 4.0, 4.0, 5.0, 4.0, 6.462050078247262, 1.0, 6.462050078247262, 6.462050078247262, 6.0, 6.462050078247262, 6.462050078247262, 0.0, 6.462050078247262, 6.462050078247262, 6.462050078247262, 6.462050078247262, 2.0, 0.0, 2.0, 6.462050078247262, 1.0, 1.0, 0.0, 6.462050078247262, 8.0, 5.0, 6.462050078247262, 0.0, 6.462050078247262, 6.462050078247262, 6.462050078247262, 6.462050078247262, 5.0, 6.462050078247262, 6.462050078247262, 6.462050078247262, 0.0, 6.462050078247262, 3.0, 6.462050078247262, 3.0, 2.0, 4.0, 10.0, 4.0, 6.462050078247262, 2.0, 0.0, 6.462050078247262, 20.0, 7.0, 6.462050078247262, 20.0, 4.0, 6.462050078247262, 6.462050078247262, 8.0, 4.0, 3.0, 4.0, 6.462050078247262, 2.0, 20.0, 10.0, 4.0, 0.0, 0.0, 6.462050078247262, 5.0, 4.0, 6.462050078247262, 2.0, 5.0, 6.0, 0.0, 4.0, 5.0, 7.0, 4.0, 10.0, 6.462050078247262, 20.0, 4.0, 20.0, 6.462050078247262, 8.0, 0.0, 6.462050078247262, 4.0, 6.462050078247262, 4.0, 5.0, 4.0, 10.0, 4.0, 4.0, 7.0, 6.462050078247262, 1.0, 6.462050078247262, 5.0, 20.0, 20.0, 6.462050078247262, 1.0, 7.0, 20.0, 4.0, 8.0, 6.462050078247262, 5.0, 8.0, 1.0, 5.0, 6.462050078247262, 20.0, 4.0, 6.462050078247262, 6.462050078247262, 0.0, 6.462050078247262, 6.462050078247262, 4.0, 5.0, 0.0, 4.0, 0.0, 10.0, 5.0, 6.462050078247262, 8.0, 5.0, 6.462050078247262, 6.462050078247262, 10.0, 5.0, 20.0, 6.0, 1.0, 20.0, 2.0, 6.462050078247262, 6.462050078247262, 0.0, 6.462050078247262, 4.0, 0.0, 4.0, 4.0, 4.0, 6.462050078247262, 8.0, 3.0, 2.0, 9.0, 4.0, 6.462050078247262, 8.0, 0.0, 2.0, 6.462050078247262, 4.0, 6.462050078247262, 4.0, 10.0, 6.462050078247262, 6.462050078247262, 6.462050078247262, 5.0, 4.0, 0.0, 6.462050078247262, 4.0, 6.462050078247262, 6.462050078247262, 4.0, 20.0, 3.0, 0.0, 6.462050078247262, 6.462050078247262, 10.0, 20.0, 10.0, 0.0, 5.0, 6.462050078247262, 4.0, 5.0, 6.462050078247262, 10.0, 6.462050078247262, 6.462050078247262, 6.462050078247262, 6.462050078247262, 4.0, 5.0, 6.462050078247262, 5.0, 6.462050078247262, 6.462050078247262, 1.0, 2.0, 20.0, 6.462050078247262, 0.0, 6.0, 6.462050078247262, 3.0, 0.0, 4.0, 20.0, 6.462050078247262, 20.0, 15.0, 4.0, 6.462050078247262, 2.0, 2.0, 6.462050078247262, 6.462050078247262, 4.0, 4.0, 4.0, 15.0, 3.0, 6.462050078247262, 20.0, 4.0, 20.0, 5.0, 4.0, 3.0, 5.0, 20.0, 20.0, 20.0, 6.462050078247262, 20.0, 6.462050078247262, 4.0, 4.0, 0.0, 5.0, 5.0, 6.462050078247262, 4.0, 5.0, 6.462050078247262, 6.462050078247262, 6.462050078247262, 6.462050078247262, 6.462050078247262, 6.462050078247262, 6.462050078247262, 6.462050078247262, 8.0, 0.0, 10.0, 0.0, 0.0, 0.0, 4.0, 5.0, 0.0, 0.0, 0.0, 6.462050078247262, 5.0, 6.462050078247262, 2.0, 5.0, 10.0, 6.462050078247262, 20.0, 20.0, 4.0, 2.0, 20.0, 4.0, 6.462050078247262, 6.462050078247262, 6.462050078247262, 0.0, 20.0, 6.462050078247262, 6.462050078247262, 6.462050078247262, 4.0, 4.0, 4.0, 6.462050078247262, 6.462050078247262, 0.0, 4.0, 6.462050078247262, 6.462050078247262, 20.0, 4.0, 6.462050078247262, 6.462050078247262, 6.462050078247262, 6.462050078247262, 1.0, 6.462050078247262, 5.0, 8.0, 20.0, 6.462050078247262, 6.462050078247262, 6.462050078247262, 10.0, 6.462050078247262, 0.0, 6.462050078247262, 6.462050078247262, 6.462050078247262, 0.0, 6.462050078247262, 5.0, 0.0, 1.0, 4.0, 0.0, 20.0, 2.0, 5.0, 15.0, 8.0, 15.0, 5.0, 15.0, 6.462050078247262, 6.462050078247262, 0.0, 6.462050078247262, 6.462050078247262, 0.0, 0.0, 6.462050078247262, 3.0, 5.0, 6.462050078247262, 2.0, 0.0, 5.0, 6.462050078247262, 20.0, 20.0, 6.462050078247262, 20.0, 10.0, 4.0, 6.462050078247262, 6.462050078247262, 4.0, 10.0, 6.462050078247262, 6.462050078247262, 6.462050078247262, 15.0, 10.0, 4.0, 5.0, 4.0, 0.0, 6.462050078247262, 20.0, 4.0, 2.0, 6.462050078247262, 15.0, 5.0, 0.0, 2.0, 7.0, 0.25, 7.0, 6.462050078247262, 15.0, 6.462050078247262, 2.0, 3.0, 6.462050078247262, 6.462050078247262, 2.0, 20.0, 2.0, 12.0, 6.462050078247262, 0.0, 5.0, 20.0, 0.0, 20.0, 3.0, 0.0, 6.462050078247262, 6.462050078247262, 6.462050078247262, 2.0, 4.0, 20.0, 6.462050078247262, 4.0, 4.0, 4.0, 4.0, 6.462050078247262, 0.0, 4.0, 5.0, 20.0, 0.0, 5.0, 4.0, 4.0, 0.0, 20.0, 6.462050078247262, 6.462050078247262, 10.0, 6.462050078247262, 5.0, 6.462050078247262, 4.0, 2.0, 5.0, 2.0, 6.462050078247262, 0.0, 6.462050078247262, 4.0, 3.0, 5.0, 10.0, 4.0, 0.0, 6.462050078247262, 20.0, 6.462050078247262, 8.0, 10.0, 20.0, 2.0, 6.462050078247262, 0.0, 0.0, 6.462050078247262, 1.0, 6.462050078247262, 4.0, 4.0, 6.462050078247262, 2.0, 6.462050078247262, 5.0, 6.462050078247262, 5.0, 5.0, 4.0, 6.462050078247262, 6.462050078247262, 15.0, 6.462050078247262, 6.462050078247262, 4.0, 6.462050078247262, 4.0, 4.0, 5.0, 4.0, 6.462050078247262, 4.0, 4.0, 4.0, 2.0, 6.462050078247262, 6.462050078247262, 6.462050078247262, 4.0, 3.0, 4.0, 4.0, 6.462050078247262, 5.0, 6.462050078247262, 8.0, 4.0, 6.462050078247262, 6.462050078247262, 4.0, 6.462050078247262, 6.462050078247262, 6.462050078247262, 2.0, 20.0, 10.0, 6.462050078247262, 20.0, 2.0, 20.0, 1.0, 0.0, 6.462050078247262, 2.0, 8.0, 5.0, 0.0, 1.0, 8.0, 5.0, 8.0, 5.0, 1.0, 6.462050078247262, 0.0, 6.462050078247262, 8.0, 4.0, 6.462050078247262, 6.462050078247262, 4.0, 1.0, 6.462050078247262, 0.0, 4.0, 8.0, 6.462050078247262, 5.0, 6.462050078247262, 7.0, 6.462050078247262, 4.0, 3.0, 1.0, 20.0, 5.0, 4.0, 6.0, 4.0, 6.462050078247262, 4.0, 20.0, 6.462050078247262, 6.462050078247262, 6.462050078247262, 4.0, 6.462050078247262, 6.462050078247262, 1.0, 6.462050078247262, 6.462050078247262, 6.462050078247262, 8.0, 20.0, 20.0, 5.0, 6.462050078247262, 0.0, 4.0, 5.0, 20.0, 4.0, 20.0, 6.462050078247262, 6.462050078247262, 4.0, 6.462050078247262, 6.462050078247262, 6.462050078247262, 6.462050078247262, 6.462050078247262, 6.462050078247262, 4.0, 6.462050078247262, 6.462050078247262, 0.0, 5.0, 8.0, 6.462050078247262, 6.462050078247262, 6.462050078247262, 4.0, 6.462050078247262, 20.0, 4.0, 6.462050078247262, 4.0, 6.462050078247262, 6.462050078247262, 6.462050078247262, 6.462050078247262, 6.462050078247262, 4.0, 6.462050078247262, 6.462050078247262, 10.0, 6.462050078247262, 0.0, 6.462050078247262, 6.462050078247262, 6.0, 5.0, 0.0, 2.0, 0.0, 4.0, 4.0, 6.462050078247262, 6.462050078247262, 5.0, 15.0, 4.0, 6.0, 6.462050078247262, 4.0, 6.462050078247262, 6.462050078247262, 4.0, 20.0, 6.462050078247262, 5.0, 6.462050078247262, 4.0, 3.0, 6.462050078247262, 4.0, 6.462050078247262, 2.0, 0.0, 6.462050078247262, 5.0, 5.0, 10.0, 0.0, 1.0, 6.462050078247262, 4.0, 0.0, 6.462050078247262, 10.0, 2.0, 6.462050078247262, 6.462050078247262, 4.0, 6.462050078247262, 5.0, 0.0, 4.0, 7.0, 6.462050078247262, 10.0, 6.462050078247262, 0.0, 0.0, 6.462050078247262, 6.462050078247262, 4.0, 0.0, 0.0, 6.462050078247262, 4.0, 7.0, 15.0, 4.0, 3.0, 5.0, 6.462050078247262, 5.0, 2.0, 6.462050078247262, 8.0, 5.0, 4.0, 9.0, 6.462050078247262, 3.0, 6.462050078247262, 6.462050078247262, 0.0, 6.462050078247262, 6.462050078247262, 6.462050078247262, 6.462050078247262, 0.0, 6.462050078247262, 0.0, 4.0, 4.0, 4.0, 6.462050078247262, 6.462050078247262, 4.0, 4.0, 0.0, 6.462050078247262, 6.462050078247262, 3.0, 6.462050078247262, 5.0, 6.462050078247262, 6.462050078247262, 0.0, 5.0, 5.0, 20.0, 10.0, 4.0, 6.462050078247262, 20.0, 6.462050078247262, 0.0, 6.462050078247262, 0.0, 15.0, 6.462050078247262, 4.0, 6.462050078247262, 4.0, 1.0, 5.0, 20.0, 5.0, 6.462050078247262, 5.0, 6.462050078247262, 5.0, 4.0, 0.0, 6.462050078247262, 4.0, 4.0, 5.0, 4.0, 6.462050078247262, 6.0, 0.0, 8.0, 0.0, 6.462050078247262, 6.462050078247262, 5.0, 5.0, 6.462050078247262, 6.462050078247262, 6.462050078247262, 8.0, 10.0, 2.0, 6.462050078247262, 6.462050078247262, 6.462050078247262, 8.0, 6.462050078247262, 14.0, 4.0, 5.0, 6.462050078247262, 6.462050078247262, 4.0, 6.462050078247262, 6.462050078247262, 20.0, 6.462050078247262, 20.0, 6.462050078247262, 0.0, 20.0, 2.0, 6.462050078247262, 5.0, 6.462050078247262, 0.0, 2.0, 5.0, 4.0, 6.462050078247262, 8.0, 8.0, 4.0, 6.462050078247262, 4.0, 6.462050078247262, 4.0, 5.0, 5.0, 6.462050078247262, 0.0, 6.462050078247262, 6.462050078247262, 0.0, 6.462050078247262, 5.0, 4.0, 6.462050078247262, 5.0, 10.0, 20.0, 4.0, 6.462050078247262, 6.462050078247262, 4.0, 6.462050078247262, 4.0, 10.0, 5.0, 5.0, 6.462050078247262, 4.0, 4.0, 0.0, 1.0, 4.0, 8.0, 6.462050078247262, 6.462050078247262, 6.462050078247262, 6.0, 10.0, 25.0, 2.0, 6.462050078247262, 6.462050078247262, 6.462050078247262, 6.462050078247262, 6.462050078247262, 5.0, 4.0, 6.462050078247262, 6.462050078247262, 6.462050078247262, 4.0, 20.0, 6.462050078247262, 2.0, 4.0, 2.0, 4.0, 6.462050078247262, 12.0, 3.0, 5.0, 5.0, 0.0, 30.0, 2.0, 6.462050078247262, 0.0, 5.0, 0.0, 5.0, 6.462050078247262, 6.462050078247262, 4.0, 0.0, 2.0, 3.0, 6.462050078247262, 6.462050078247262, 5.0, 20.0, 0.0, 8.0, 6.462050078247262, 5.0, 6.0, 10.0, 6.462050078247262, 6.462050078247262, 8.0, 4.0, 2.0, 0.0, 15.0, 3.0, 6.462050078247262, 1.0, 5.0, 5.0, 6.462050078247262, 6.0, 8.0, 0.0, 6.462050078247262, 6.462050078247262, 15.0, 1.0, 16.0, 4.0, 6.462050078247262, 3.0, 6.462050078247262, 6.462050078247262, 6.462050078247262, 1.0, 6.462050078247262, 4.0, 7.0, 6.462050078247262, 5.0, 1.0, 6.462050078247262, 0.0, 6.462050078247262, 6.462050078247262, 6.462050078247262, 0.0, 6.462050078247262, 6.462050078247262, 6.462050078247262, 9.0, 4.0, 10.0, 24.0, 4.0, 6.462050078247262, 4.0, 2.0, 6.462050078247262, 0.0, 4.0, 5.0, 365.0, 6.462050078247262, 4.0, 6.462050078247262, 6.462050078247262, 2.0, 6.462050078247262, 5.0, 5.0, 5.0, 6.0, 5.0]}, {\"name\": \"Number of vacation days\", \"type\": \"box\", \"y\": [29.0, 22.0, 27.0, 24.0, 30.0, 27.0, 25.0, 30.0, 28.0, 26.0, 28.0, 26.0, 30.0, 30.0, 40.0, 26.0, 27.0, 28.0, 30.0, 27.924812030075188, 30.0, 25.0, 27.924812030075188, 30.0, 24.0, 24.0, 24.0, 30.0, 20.0, 24.0, 30.0, 30.0, 27.924812030075188, 26.0, 28.0, 29.0, 28.0, 9.0, 30.0, 28.0, 30.0, 25.0, 30.0, 25.0, 26.0, 30.0, 25.0, 26.0, 26.0, 30.0, 30.0, 30.0, 25.0, 28.0, 24.0, 30.0, 30.0, 28.0, 30.0, 30.0, 25.0, 30.0, 28.0, 30.0, 27.0, 27.0, 26.0, 28.0, 30.0, 27.0, 30.0, 30.0, 30.0, 30.0, 30.0, 30.0, 28.0, 30.0, 30.0, 26.0, 28.0, 30.0, 30.0, 25.0, 31.0, 26.0, 28.0, 30.0, 26.0, 30.0, 28.0, 30.0, 30.0, 26.0, 27.0, 24.0, 28.0, 30.0, 25.0, 28.0, 28.0, 30.0, 27.924812030075188, 30.0, 30.0, 24.0, 26.0, 20.0, 23.0, 30.0, 28.0, 28.0, 26.0, 24.0, 25.0, 25.0, 32.0, 30.0, 30.0, 29.0, 28.0, 30.0, 26.0, 30.0, 30.0, 30.0, 25.0, 30.0, 27.0, 30.0, 30.0, 31.0, 25.0, 28.0, 27.0, 30.0, 31.0, 28.0, 30.0, 28.0, 30.0, 30.0, 24.0, 25.0, 30.0, 28.0, 25.0, 28.0, 30.0, 20.0, 30.0, 25.0, 28.0, 25.0, 30.0, 15.0, 5.0, 30.0, 28.0, 26.0, 30.0, 25.0, 25.0, 30.0, 26.0, 30.0, 27.0, 27.0, 25.0, 25.0, 30.0, 30.0, 30.0, 28.0, 28.0, 30.0, 25.0, 30.0, 30.0, 28.0, 27.924812030075188, 24.0, 28.0, 27.0, 28.0, 30.0, 30.0, 24.0, 30.0, 30.0, 27.924812030075188, 28.0, 28.0, 14.0, 30.0, 24.0, 27.0, 30.0, 28.0, 28.0, 30.0, 27.0, 30.0, 27.924812030075188, 26.0, 28.0, 27.924812030075188, 30.0, 27.924812030075188, 24.0, 30.0, 30.0, 30.0, 26.0, 25.0, 25.0, 30.0, 30.0, 30.0, 29.0, 30.0, 24.0, 30.0, 30.0, 30.0, 30.0, 24.0, 26.0, 30.0, 30.0, 28.0, 30.0, 27.0, 30.0, 20.0, 28.0, 24.0, 27.924812030075188, 30.0, 25.0, 28.0, 24.0, 30.0, 28.0, 30.0, 27.924812030075188, 30.0, 30.0, 28.0, 25.0, 30.0, 28.0, 30.0, 26.0, 29.0, 27.924812030075188, 30.0, 35.0, 28.0, 28.0, 27.924812030075188, 30.0, 30.0, 28.0, 29.0, 30.0, 26.0, 27.924812030075188, 25.0, 30.0, 20.0, 30.0, 30.0, 28.0, 28.0, 27.924812030075188, 25.0, 28.0, 30.0, 24.0, 30.0, 30.0, 30.0, 30.0, 30.0, 28.0, 30.0, 30.0, 20.0, 28.0, 30.0, 36.0, 30.0, 30.0, 30.0, 28.0, 26.0, 28.0, 28.0, 27.924812030075188, 30.0, 32.0, 30.0, 25.0, 30.0, 26.0, 26.0, 25.0, 27.924812030075188, 27.0, 28.0, 30.0, 30.0, 30.0, 27.924812030075188, 30.0, 25.0, 25.0, 30.0, 30.0, 30.0, 27.924812030075188, 27.0, 21.0, 30.0, 22.0, 30.0, 28.0, 28.0, 24.0, 22.0, 24.0, 30.0, 24.0, 25.0, 30.0, 30.0, 25.0, 30.0, 35.0, 27.924812030075188, 28.0, 32.0, 26.0, 28.0, 27.0, 24.0, 30.0, 27.0, 27.924812030075188, 30.0, 30.0, 28.0, 24.0, 30.0, 30.0, 28.0, 25.0, 25.0, 28.0, 26.0, 29.0, 29.0, 28.0, 24.0, 30.0, 27.924812030075188, 30.0, 30.0, 27.0, 29.0, 28.0, 26.0, 30.0, 29.0, 24.0, 24.0, 30.0, 27.924812030075188, 60.0, 28.0, 28.0, 25.0, 30.0, 20.0, 22.0, 20.0, 28.0, 37.0, 30.0, 28.0, 25.0, 30.0, 30.0, 28.0, 28.0, 30.0, 25.0, 25.0, 29.0, 30.0, 30.0, 30.0, 28.0, 30.0, 27.0, 24.0, 25.0, 30.0, 33.0, 26.0, 30.0, 30.0, 30.0, 24.0, 28.0, 30.0, 27.0, 27.924812030075188, 25.0, 30.0, 30.0, 30.0, 30.0, 30.0, 30.0, 30.0, 26.0, 27.0, 30.0, 32.0, 30.0, 27.924812030075188, 24.0, 25.0, 30.0, 30.0, 30.0, 30.0, 30.0, 26.0, 30.0, 30.0, 30.0, 25.0, 28.0, 30.0, 30.0, 28.0, 30.0, 26.0, 27.924812030075188, 30.0, 25.0, 25.0, 30.0, 29.0, 27.0, 30.0, 21.0, 25.0, 20.0, 30.0, 20.0, 27.0, 20.0, 28.0, 28.0, 30.0, 30.0, 25.0, 30.0, 27.924812030075188, 30.0, 30.0, 28.0, 30.0, 30.0, 27.0, 26.0, 28.0, 37.0, 30.0, 28.0, 27.0, 26.0, 28.0, 30.0, 27.0, 30.0, 15.0, 29.0, 30.0, 27.924812030075188, 25.0, 28.0, 30.0, 27.0, 26.0, 24.0, 25.0, 28.0, 30.0, 27.924812030075188, 27.924812030075188, 27.924812030075188, 28.0, 30.0, 28.0, 30.0, 30.0, 28.0, 31.0, 29.0, 26.0, 27.924812030075188, 24.0, 25.0, 28.0, 24.0, 30.0, 30.0, 32.0, 27.0, 30.0, 27.924812030075188, 28.0, 27.924812030075188, 29.0, 24.0, 30.0, 30.0, 30.0, 30.0, 27.0, 23.0, 23.0, 29.0, 30.0, 30.0, 27.924812030075188, 25.0, 25.0, 30.0, 26.0, 30.0, 30.0, 28.0, 26.0, 30.0, 30.0, 28.0, 28.0, 28.0, 35.0, 30.0, 20.0, 25.0, 28.0, 24.0, 30.0, 28.0, 26.0, 30.0, 26.0, 28.0, 20.0, 27.0, 28.0, 31.0, 25.0, 24.0, 28.0, 27.0, 30.0, 30.0, 24.0, 25.0, 27.0, 30.0, 30.0, 30.0, 26.0, 40.0, 30.0, 30.0, 28.0, 30.0, 28.0, 27.924812030075188, 30.0, 29.0, 30.0, 28.0, 27.924812030075188, 25.0, 20.0, 30.0, 28.0, 30.0, 28.0, 27.924812030075188, 30.0, 31.0, 27.0, 30.0, 30.0, 24.0, 30.0, 31.0, 24.0, 26.0, 30.0, 25.0, 27.924812030075188, 24.0, 27.0, 30.0, 25.0, 28.0, 30.0, 30.0, 30.0, 25.0, 30.0, 25.0, 28.0, 29.0, 27.924812030075188, 32.0, 30.0, 30.0, 27.924812030075188, 20.0, 32.0, 27.924812030075188, 30.0, 30.0, 30.0, 29.0, 25.0, 4.0, 32.0, 20.0, 27.0, 30.0, 30.0, 30.0, 25.0, 25.0, 35.0, 27.0, 100.0, 30.0, 25.0, 30.0, 28.0, 30.0, 30.0, 25.0, 30.0, 26.0, 28.0, 25.0, 30.0, 28.0, 30.0, 28.0, 30.0, 30.0, 30.0, 27.924812030075188, 20.0, 30.0, 28.0, 30.0, 30.0, 30.0, 28.0, 24.0, 30.0, 28.0, 28.0, 30.0, 26.0, 30.0, 75.0, 27.0, 27.0, 30.0, 27.0, 24.0, 30.0, 27.0, 27.924812030075188, 28.0, 30.0, 27.0, 27.5, 25.0, 26.0, 30.0, 25.0, 30.0, 24.0, 26.0, 40.0, 24.0, 24.0, 25.0, 28.0, 28.0, 25.0, 30.0, 28.0, 28.0, 25.0, 30.0, 28.0, 25.0, 22.5, 25.0, 30.0, 25.0, 28.0, 28.0, 28.0, 25.0, 25.0, 28.0, 25.0, 20.0, 25.0, 30.0, 27.924812030075188, 24.0, 27.0, 25.0, 28.0, 25.0, 28.0, 25.0, 30.0, 29.0, 30.0, 30.0, 27.0, 26.0, 29.0, 28.0, 30.0, 30.0, 28.0, 22.0, 32.0, 30.0, 30.0, 26.0, 25.0, 24.0, 29.0, 24.0, 32.0, 26.0, 26.0, 30.0, 27.924812030075188, 30.0, 25.0, 45.0, 20.0, 30.0, 30.0, 25.0, 28.0, 30.0, 28.0, 28.0, 27.924812030075188, 27.924812030075188, 26.0, 25.0, 28.0, 28.0, 35.0, 25.0, 30.0, 20.0, 25.0, 21.0, 28.0, 25.0, 30.0, 30.0, 25.0, 33.0, 40.0, 24.0, 25.0, 30.0, 25.0, 30.0, 28.0, 20.0, 29.0, 27.0, 30.0, 28.5, 28.0, 26.0, 30.0, 28.0, 28.0, 30.0, 27.0, 25.0, 26.0, 28.0, 30.0, 30.0, 32.0, 30.0, 27.0, 28.0, 27.0, 27.0, 25.0, 28.0, 21.0, 27.924812030075188, 31.0, 30.0, 27.0, 30.0, 28.0, 30.0, 28.0, 25.0, 25.0, 30.0, 30.0, 25.0, 32.0, 25.0, 28.0, 25.0, 26.0, 20.0, 25.0, 25.0, 25.5, 28.0, 30.0, 30.0, 24.0, 30.0, 28.0, 28.0, 25.0, 30.0, 30.0, 30.0, 25.0, 22.0, 27.924812030075188, 30.0, 30.0, 30.0, 27.0, 27.0, 30.0, 27.924812030075188, 25.0, 26.0, 28.0, 30.0, 27.0, 28.0, 27.0, 27.924812030075188, 27.0, 25.0, 29.0, 24.0, 30.0, 28.0, 28.0, 25.0, 24.0, 28.0, 25.0, 30.0, 27.0, 38.0, 24.0, 26.0, 24.0, 26.0, 24.0, 30.0, 26.0, 28.0, 28.0, 25.0, 28.0, 30.0, 27.0, 24.0, 25.0, 24.0, 30.0, 25.0, 25.0, 30.0, 30.0, 25.0, 30.0, 27.924812030075188, 25.0, 28.0, 28.0, 27.0, 25.0, 27.0, 28.0, 27.0, 27.0, 30.0, 26.0, 30.0, 30.0, 28.0, 27.0, 30.0, 30.0, 25.0, 28.0, 30.0, 28.0, 25.0, 27.0, 27.924812030075188, 29.0, 30.0, 27.924812030075188, 28.0, 25.0, 25.0, 20.0, 28.0, 25.0, 28.0, 27.924812030075188, 27.924812030075188, 27.924812030075188, 25.0, 33.0, 30.0, 45.0, 30.0, 30.0, 20.0, 30.0, 28.0, 35.0, 25.0, 28.0, 27.924812030075188, 25.0, 29.0, 25.0, 30.0, 30.0, 25.0, 30.0, 30.0, 24.0, 25.0, 25.0, 27.0, 30.0, 26.0, 30.0]}, {\"name\": \"Yearly brutto same country year ago\", \"type\": \"box\", \"y\": [58000.0, 55000.0, 55000.0, 65803.89552238806, 56000.0, 75000.0, 76000.0, 75000.0, 63000.0, 54000.0, 60000.0, 65803.89552238806, 63000.0, 52000.0, 68000.0, 62000.0, 70000.0, 65803.89552238806, 84000.0, 76000.0, 70000.0, 65803.89552238806, 65803.89552238806, 65803.89552238806, 60000.0, 72000.0, 75000.0, 85000.0, 65803.89552238806, 60000.0, 78600.0, 60000.0, 65803.89552238806, 50000.0, 60000.0, 48000.0, 65803.89552238806, 97000.0, 69000.0, 70000.0, 65803.89552238806, 70000.0, 65000.0, 45000.0, 85000.0, 65803.89552238806, 65803.89552238806, 65803.89552238806, 48000.0, 75000.0, 65803.89552238806, 56000.0, 78000.0, 66000.0, 65803.89552238806, 66000.0, 56000.0, 55000.0, 76000.0, 65803.89552238806, 55000.0, 65000.0, 53500.0, 65803.89552238806, 52000.0, 65803.89552238806, 60000.0, 65803.89552238806, 60000.0, 75000.0, 65803.89552238806, 57000.0, 68000.0, 65803.89552238806, 65803.89552238806, 65803.89552238806, 65803.89552238806, 85000.0, 80000.0, 52000.0, 107500.0, 55000.0, 72000.0, 65803.89552238806, 70000.0, 65803.89552238806, 66000.0, 65000.0, 52000.0, 67500.0, 65000.0, 55000.0, 82160.0, 65803.89552238806, 36000.0, 65803.89552238806, 43000.0, 92000.0, 55000.0, 55000.0, 60000.0, 65803.89552238806, 65803.89552238806, 63000.0, 65803.89552238806, 55000.0, 65803.89552238806, 65803.89552238806, 52000.0, 60000.0, 78000.0, 64000.0, 63600.0, 55000.0, 65803.89552238806, 65803.89552238806, 65803.89552238806, 65000.0, 86900.0, 65000.0, 65803.89552238806, 70000.0, 65803.89552238806, 47250.0, 57000.0, 90000.0, 65803.89552238806, 57000.0, 60000.0, 78000.0, 102000.0, 69000.0, 65803.89552238806, 59000.0, 32000.0, 65803.89552238806, 65803.89552238806, 85000.0, 62000.0, 53000.0, 73500.0, 56000.0, 60000.0, 72000.0, 66000.0, 57200.0, 65803.89552238806, 65803.89552238806, 61200.0, 90000.0, 95000.0, 58000.0, 47000.0, 90000.0, 65803.89552238806, 160000.0, 66000.0, 65803.89552238806, 72000.0, 44000.0, 65803.89552238806, 60000.0, 65000.0, 65803.89552238806, 33000.0, 65803.89552238806, 55000.0, 52000.0, 65803.89552238806, 60000.0, 59000.0, 46250.0, 70000.0, 56400.0, 117000.0, 65803.89552238806, 65803.89552238806, 66000.0, 62000.0, 48000.0, 65803.89552238806, 55000.0, 40000.0, 65803.89552238806, 65803.89552238806, 87000.0, 45000.0, 65803.89552238806, 60000.0, 82500.0, 65803.89552238806, 55000.0, 75000.0, 100000.0, 65803.89552238806, 36000.0, 66000.0, 60000.0, 75000.0, 39000.0, 65803.89552238806, 65803.89552238806, 55000.0, 65803.89552238806, 65803.89552238806, 70000.0, 65803.89552238806, 54000.0, 65803.89552238806, 53000.0, 70000.0, 70000.0, 75000.0, 65000.0, 114000.0, 65000.0, 84000.0, 60000.0, 62000.0, 90000.0, 76800.0, 65803.89552238806, 65803.89552238806, 65803.89552238806, 65803.89552238806, 65803.89552238806, 76000.0, 65803.89552238806, 65803.89552238806, 96000.0, 65803.89552238806, 85000.0, 65803.89552238806, 52000.0, 65803.89552238806, 65803.89552238806, 65803.89552238806, 65803.89552238806, 62000.0, 47500.0, 66000.0, 61000.0, 146000.0, 55000.0, 65803.89552238806, 65803.89552238806, 65000.0, 90000.0, 66000.0, 65803.89552238806, 67000.0, 73000.0, 43000.0, 65803.89552238806, 70000.0, 65803.89552238806, 60000.0, 65803.89552238806, 65803.89552238806, 65803.89552238806, 65803.89552238806, 76000.0, 65803.89552238806, 78000.0, 65803.89552238806, 65803.89552238806, 65803.89552238806, 65803.89552238806, 72000.0, 50000.0, 65803.89552238806, 65803.89552238806, 65803.89552238806, 65803.89552238806, 60000.0, 60000.0, 105000.0, 69000.0, 65803.89552238806, 65803.89552238806, 38000.0, 65803.89552238806, 65803.89552238806, 65000.0, 65803.89552238806, 65803.89552238806, 65803.89552238806, 50000.0, 65803.89552238806, 75000.0, 65803.89552238806, 78000.0, 65000.0, 65803.89552238806, 120000.0, 78000.0, 44000.0, 58000.0, 90000.0, 65803.89552238806, 70000.0, 65803.89552238806, 65803.89552238806, 65803.89552238806, 65803.89552238806, 55000.0, 65803.89552238806, 80000.0, 160000.0, 65000.0, 67000.0, 85000.0, 45000.0, 60000.0, 60000.0, 65803.89552238806, 65803.89552238806, 65803.89552238806, 32000.0, 65000.0, 65803.89552238806, 42000.0, 65803.89552238806, 65803.89552238806, 65803.89552238806, 58000.0, 65803.89552238806, 74000.0, 42000.0, 83000.0, 65803.89552238806, 65803.89552238806, 48000.0, 65000.0, 78000.0, 65803.89552238806, 75000.0, 65803.89552238806, 65000.0, 65803.89552238806, 65803.89552238806, 65803.89552238806, 65803.89552238806, 65803.89552238806, 65803.89552238806, 55000.0, 65803.89552238806, 65803.89552238806, 65803.89552238806, 65803.89552238806, 61500.0, 65803.89552238806, 85000.0, 20000.0, 60000.0, 65803.89552238806, 51000.0, 70000.0, 65803.89552238806, 72000.0, 65803.89552238806, 65000.0, 65000.0, 80000.0, 65803.89552238806, 65803.89552238806, 65803.89552238806, 98000.0, 65803.89552238806, 55000.0, 53500.0, 65803.89552238806, 65000.0, 55000.0, 48000.0, 72000.0, 67000.0, 88000.0, 70000.0, 80000.0, 69000.0, 70000.0, 70000.0, 65803.89552238806, 65803.89552238806, 45000.0, 52000.0, 82000.0, 59000.0, 65803.89552238806, 65000.0, 60000.0, 65803.89552238806, 65803.89552238806, 75000.0, 65803.89552238806, 65803.89552238806, 65803.89552238806, 65000.0, 56000.0, 61000.0, 65803.89552238806, 65803.89552238806, 65803.89552238806, 52200.0, 65803.89552238806, 65803.89552238806, 65803.89552238806, 110000.0, 48000.0, 52000.0, 62000.0, 65803.89552238806, 75000.0, 55000.0, 92000.0, 65803.89552238806, 45000.0, 65803.89552238806, 23000.0, 65803.89552238806, 65803.89552238806, 65803.89552238806, 70000.0, 53000.0, 55000.0, 55000.0, 20000.0, 65803.89552238806, 65803.89552238806, 65000.0, 84000.0, 65803.89552238806, 46000.0, 70000.0, 65803.89552238806, 110000.0, 84000.0, 65803.89552238806, 10000.0, 60000.0, 65803.89552238806, 68400.0, 53000.0, 68000.0, 65803.89552238806, 65803.89552238806, 65000.0, 74000.0, 62000.0, 65803.89552238806, 65803.89552238806, 65803.89552238806, 65000.0, 80000.0, 70000.0, 65803.89552238806, 53000.0, 30000.0, 65803.89552238806, 85000.0, 95000.0, 75000.0, 65803.89552238806, 48000.0, 25000.0, 60000.0, 65803.89552238806, 87000.0, 65803.89552238806, 65803.89552238806, 68000.0, 65803.89552238806, 68000.0, 65803.89552238806, 65803.89552238806, 52000.0, 65803.89552238806, 65803.89552238806, 70000.0, 65803.89552238806, 100000.0, 70000.0, 78000.0, 70000.0, 45000.0, 65803.89552238806, 60000.0, 65803.89552238806, 81000.0, 65803.89552238806, 60000.0, 90000.0, 65803.89552238806, 30000.0, 65803.89552238806, 65803.89552238806, 65803.89552238806, 46000.0, 48000.0, 50000.0, 65803.89552238806, 58.0, 65803.89552238806, 65803.89552238806, 65803.89552238806, 65803.89552238806, 75000.0, 65803.89552238806, 53000.0, 60000.0, 127000.0, 65803.89552238806, 65803.89552238806, 55000.0, 65803.89552238806, 45000.0, 63000.0, 80000.0, 72000.0, 65803.89552238806, 70000.0, 60000.0, 79000.0, 65803.89552238806, 52000.0, 65803.89552238806, 65803.89552238806, 85000.0, 65803.89552238806, 53000.0, 51000.0, 90000.0, 54000.0, 66000.0, 58000.0, 52000.0, 40000.0, 65803.89552238806, 70000.0, 65803.89552238806, 65803.89552238806, 65803.89552238806, 65000.0, 130000.0, 55000.0, 65803.89552238806, 66000.0, 40000.0, 24000.0, 66000.0, 84000.0, 65803.89552238806, 70000.0, 55000.0, 55000.0, 65803.89552238806, 65803.89552238806, 65803.89552238806, 55000.0, 55000.0, 50000.0, 68000.0, 65803.89552238806, 56000.0, 65803.89552238806, 120000.0, 67000.0, 75000.0, 65803.89552238806, 58000.0, 56000.0, 60000.0, 65803.89552238806, 65803.89552238806, 48000.0, 65803.89552238806, 70000.0, 65803.89552238806, 47000.0, 65803.89552238806, 45000.0, 65803.89552238806, 17000.0, 65803.89552238806, 75000.0, 95000.0, 65803.89552238806, 49000.0, 65803.89552238806, 75000.0, 65000.0, 65803.89552238806, 65803.89552238806, 65803.89552238806, 65000.0, 65803.89552238806, 65803.89552238806, 55000.0, 65803.89552238806, 75000.0, 53000.0, 61000.0, 55000.0, 55000.0, 97000.0, 70000.0, 54000.0, 55000.0, 94000.0, 65000.0, 60000.0, 62000.0, 98000.0, 65803.89552238806, 65803.89552238806, 65803.89552238806, 65803.89552238806, 65803.89552238806, 65803.89552238806, 65803.89552238806, 53000.0, 65000.0, 65803.89552238806, 65803.89552238806, 65803.89552238806, 65803.89552238806, 64000.0, 65803.89552238806, 65803.89552238806, 65803.89552238806, 61000.0, 54000.0, 110000.0, 54000.0, 84000.0, 65803.89552238806, 65803.89552238806, 65803.89552238806, 103000.0, 81000.0, 24000.0, 79000.0, 115000.0, 63000.0, 63000.0, 56000.0, 53000.0, 96000.0, 75000.0, 80000.0, 65803.89552238806, 74000.0, 64500.0, 65803.89552238806, 61100.0, 19600.0, 65803.89552238806, 65000.0, 77000.0, 85000.0, 65803.89552238806, 55000.0, 65803.89552238806, 54000.0, 65803.89552238806, 115000.0, 84000.0, 65803.89552238806, 80000.0, 80000.0, 65803.89552238806, 42000.0, 50000.0, 65803.89552238806, 65803.89552238806, 50000.0, 42000.0, 36000.0, 56000.0, 75000.0, 80000.0, 7200.0, 92000.0, 70000.0, 65803.89552238806, 56000.0, 65803.89552238806, 65803.89552238806, 78000.0, 55000.0, 65803.89552238806, 107000.0, 65803.89552238806, 65803.89552238806, 51000.0, 75000.0, 65000.0, 75000.0, 68000.0, 65803.89552238806, 65803.89552238806, 65803.89552238806, 56100.0, 65000.0, 65803.89552238806, 65000.0, 65803.89552238806, 65803.89552238806, 65803.89552238806, 50000.0, 65803.89552238806, 65803.89552238806, 48000.0, 30000.0, 65803.89552238806, 78000.0, 65803.89552238806, 65803.89552238806, 65803.89552238806, 61500.0, 62000.0, 62000.0, 65803.89552238806, 98000.0, 65803.89552238806, 62000.0, 50000.0, 80000.0, 65803.89552238806, 60000.0, 73000.0, 62000.0, 60000.0, 65803.89552238806, 65803.89552238806, 65803.89552238806, 65803.89552238806, 65803.89552238806, 65803.89552238806, 42000.0, 65000.0, 56000.0, 78000.0, 65803.89552238806, 65803.89552238806, 66000.0, 75000.0, 75000.0, 57000.0, 48000.0, 65803.89552238806, 66000.0, 70000.0, 144000.0, 65803.89552238806, 65803.89552238806, 65803.89552238806, 9000.0, 60000.0, 65000.0, 65803.89552238806, 89000.0, 48500.0, 65803.89552238806, 72000.0, 65803.89552238806, 60000.0, 52800.0, 66000.0, 54000.0, 65803.89552238806, 115000.0, 65803.89552238806, 65803.89552238806, 62000.0, 65803.89552238806, 68000.0, 65803.89552238806, 65803.89552238806, 54000.0, 72000.0, 57000.0, 65803.89552238806, 70200.0, 75000.0, 115000.0, 65803.89552238806, 65803.89552238806, 50000.0, 65803.89552238806, 25200.0, 65803.89552238806, 72000.0, 65803.89552238806, 65803.89552238806, 65803.89552238806, 64800.0, 65803.89552238806, 105000.0, 75000.0, 66000.0, 65803.89552238806, 130000.0, 65803.89552238806, 75000.0, 92000.0, 50000.0, 60000.0, 112000.0, 1.0, 77000.0, 75000.0, 76300.0, 65803.89552238806, 65803.89552238806, 200000.0, 54000.0, 90000.0, 65803.89552238806, 65803.89552238806, 60000.0, 27500.0, 65803.89552238806, 65803.89552238806, 90000.0, 85000.0, 50000.0, 44000.0, 88000.0, 60000.0, 110000.0, 65803.89552238806, 60000.0, 65803.89552238806, 65803.89552238806, 60000.0, 65803.89552238806, 65803.89552238806, 65803.89552238806, 67000.0, 60000.0, 60000.0, 75000.0, 57000.0, 65803.89552238806, 72000.0, 36000.0, 65803.89552238806, 65803.89552238806, 65000.0, 75000.0, 52000.0, 60000.0, 42000.0, 90000.0, 75000.0, 65803.89552238806, 56000.0, 76000.0, 45000.0, 65803.89552238806, 65803.89552238806, 65803.89552238806, 65803.89552238806, 45000.0, 89000.0, 72000.0, 54000.0, 40000.0, 65803.89552238806, 65803.89552238806, 65803.89552238806, 48000.0, 65803.89552238806, 92000.0, 65803.89552238806, 65803.89552238806, 60000.0, 65803.89552238806, 70000.0, 65803.89552238806, 65803.89552238806, 64800.0, 80000.0, 65803.89552238806, 65803.89552238806, 58000.0, 80000.0, 69000.0, 65803.89552238806, 75000.0, 52000.0, 60000.0, 65803.89552238806, 65803.89552238806, 58000.0, 55000.0, 78000.0, 0.0, 65803.89552238806, 65803.89552238806, 50000.0, 41000.0, 65803.89552238806, 55000.0, 65803.89552238806, 65803.89552238806, 88000.0, 65803.89552238806, 60000.0, 65803.89552238806, 70000.0, 81000.0, 58000.0, 80000.0, 65803.89552238806, 65803.89552238806, 65000.0, 79000.0, 65803.89552238806, 75000.0, 57000.0, 70000.0, 80000.0, 65803.89552238806, 55000.0, 55000.0, 65803.89552238806, 86700.0, 73000.0, 37000.0, 60000.0, 65803.89552238806, 83000.0, 42000.0, 65000.0, 65803.89552238806, 102000.0, 29500.0, 65803.89552238806, 65803.89552238806, 65803.89552238806, 99000.0, 22730.0, 65803.89552238806, 60000.0, 59000.0, 42000.0, 42000.0, 65803.89552238806, 58000.0, 65803.89552238806, 65803.89552238806, 65803.89552238806, 65803.89552238806, 60000.0, 65803.89552238806, 50000.0, 68000.0, 53000.0, 65803.89552238806, 83000.0, 68000.0, 57000.0, 65803.89552238806, 65803.89552238806, 65803.89552238806, 71000.0, 65803.89552238806, 65803.89552238806, 33600.0, 67100.0, 85000.0, 65803.89552238806, 65803.89552238806, 39000.0, 65803.89552238806, 64000.0, 67000.0, 67000.0, 93000.0, 65803.89552238806]}, {\"name\": \"Yearly brutto salary (without bonus and stocks)\", \"type\": \"box\", \"y\": [64000.0, 55000.0, 70000.0, 63000.0, 66000.0, 80000.0, 85000.0, 81000.0, 66000.0, 65000.0, 63000.0, 65000.0, 83000.0, 66000.0, 70000.0, 80000.0, 72000.0, 87000.0, 90000.0, 78000.0, 70000.0, 55000.0, 160000.0, 75000.0, 60000.0, 72000.0, 80000.0, 85000.0, 67000.0, 60000.0, 78600.0, 60000.0, 65000.0, 60000.0, 65000.0, 58000.0, 65000.0, 190000.0, 69000.0, 72000.0, 67000.0, 75000.0, 70000.0, 60000.0, 85000.0, 62000.0, 75000.0, 75000.0, 61000.0, 80000.0, 60000.0, 56600.0, 81000.0, 75000.0, 80000.0, 72000.0, 61000.0, 61000.0, 76000.0, 75000.0, 60000.0, 70000.0, 60000.0, 150000.0, 66000.0, 60000.0, 65000.0, 50000.0, 78000.0, 80000.0, 113000.0, 70000.0, 73000.0, 80000.0, 64000.0, 58000.0, 60000.0, 96000.0, 75000.0, 55000.0, 115000.0, 65000.0, 80000.0, 66000.0, 72000.0, 72000.0, 67000.0, 70000.0, 62000.0, 67500.0, 75000.0, 56300.0, 89570.0, 60000.0, 52000.0, 36000.0, 55000.0, 95000.0, 60000.0, 56500.0, 68000.0, 74000.0, 80000.0, 69000.0, 80000.0, 66000.0, 61000.0, 70000.0, 56000.0, 68000.0, 80000.0, 67000.0, 82000.0, 58500.0, 45000.0, 55000.0, 210000.0, 65000.0, 94000.0, 66000.0, 65000.0, 70000.0, 57000.0, 54000.0, 63000.0, 120000.0, 60000.0, 74000.0, 70000.0, 92000.0, 106000.0, 71000.0, 52000.0, 70000.0, 36000.0, 60500.0, 64000.0, 88000.0, 64000.0, 56000.0, 73500.0, 59500.0, 65000.0, 81000.0, 70000.0, 65000.0, 66000.0, 60000.0, 74000.0, 120000.0, 120000.0, 70000.0, 57000.0, 120000.0, 72000.0, 175000.0, 67000.0, 65000.0, 80000.0, 50000.0, 85000.0, 61800.0, 70000.0, 90000.0, 45000.0, 42000.0, 59000.0, 60000.0, 70000.0, 65000.0, 62000.0, 49375.0, 80000.0, 60000.0, 120000.0, 68700.0, 33200.0, 68000.0, 63000.0, 60000.0, 120000.0, 55000.0, 45000.0, 75000.0, 45000.0, 89000.0, 65000.0, 114000.0, 60000.0, 85000.0, 46000.0, 65000.0, 85000.0, 100000.0, 75000.0, 56000.0, 75000.0, 62000.0, 75000.0, 46000.0, 79000.0, 72000.0, 58000.0, 65000.0, 66000.0, 80000.0, 55000.0, 59000.0, 87600.0, 67000.0, 73000.0, 80000.0, 90000.0, 68000.0, 120000.0, 65000.0, 87000.0, 70000.0, 74000.0, 90000.0, 77400.0, 65000.0, 63000.0, 78000.0, 55000.0, 50000.0, 120000.0, 43200.0, 78000.0, 96000.0, 85000.0, 95000.0, 75000.0, 62000.0, 70000.0, 57000.0, 65000.0, 50000.0, 80000.0, 47500.0, 72000.0, 64000.0, 107000.0, 60000.0, 36000.0, 63500.0, 65000.0, 98000.0, 66000.0, 42000.0, 69000.0, 78000.0, 45000.0, 59000.0, 77500.0, 80000.0, 60000.0, 70000.0, 55000.0, 85000.0, 75000.0, 100000.0, 92000.0, 78000.0, 55000.0, 46000.0, 68000.0, 70000.0, 78000.0, 65000.0, 13200.0, 60000.0, 80000.0, 70000.0, 70000.0, 60000.0, 120000.0, 75000.0, 67000.0, 66000.0, 45000.0, 55000.0, 80000.0, 72000.0, 66000.0, 70000.0, 75000.0, 70000.0, 59000.0, 80000.0, 90000.0, 81600.0, 65000.0, 62000.0, 128000.0, 92000.0, 65000.0, 62000.0, 96000.0, 98000.0, 80000.0, 124000.0, 130000.0, 62000.0, 106000.0, 55000.0, 70000.0, 85000.0, 170000.0, 70000.0, 68000.0, 95000.0, 70000.0, 71000.0, 65000.0, 86000.0, 60000.0, 70000.0, 55000.0, 67000.0, 85000.0, 60000.0, 67000.0, 65000.0, 100000.0, 56000.0, 62500.0, 76000.0, 42000.0, 77000.0, 65000.0, 60000.0, 58000.0, 72000.0, 75000.0, 108000.0, 78000.0, 80000.0, 70000.0, 120000.0, 34446.0, 108000.0, 130000.0, 90000.0, 65000.0, 70000.0, 38400.0, 96000.0, 60000.0, 62000.0, 65000.0, 80200.0, 90000.0, 36000.0, 75700.0, 46000.0, 63400.0, 70000.0, 70000.0, 68000.0, 106000.0, 75000.0, 100000.0, 90000.0, 65000.0, 55000.0, 90000.0, 105000.0, 52000.0, 58000.0, 55000.0, 85000.0, 75000.0, 60000.0, 52000.0, 85000.0, 70000.0, 88000.0, 73000.0, 150000.0, 74000.0, 78000.0, 77000.0, 125000.0, 32000.0, 46000.0, 52000.0, 87000.0, 65000.0, 55000.0, 69000.0, 70000.0, 44000.0, 23500.0, 76500.0, 66000.0, 52500.0, 57000.0, 70000.0, 59000.0, 63000.0, 98000.0, 73000.0, 36000.0, 52200.0, 110000.0, 58000.0, 98000.0, 130000.0, 50000.0, 57000.0, 73500.0, 48000.0, 68000.0, 65000.0, 96000.0, 55000.0, 57000.0, 75000.0, 46000.0, 65000.0, 48000.0, 135000.0, 70000.0, 58000.0, 75000.0, 55000.0, 22000.0, 106000.0, 67000.0, 67500.0, 90000.0, 20000.0, 46000.0, 75000.0, 67000.0, 140000.0, 96000.0, 52000.0, 45000.0, 80000.0, 50000.0, 72000.0, 60000.0, 68000.0, 68000.0, 70000.0, 85000.0, 54000.0, 75000.0, 65000.0, 67200.0, 79000.0, 120000.0, 75000.0, 72000.0, 104000.0, 53000.0, 40000.0, 130000.0, 110000.0, 115000.0, 75000.0, 14400.0, 62000.0, 45000.0, 75000.0, 54000.0, 95000.0, 125000.0, 39400.0, 75000.0, 72562.21212121213, 75000.0, 45000.0, 78000.0, 55000.0, 90000.0, 65000.0, 80000.0, 150000.0, 105000.0, 85000.0, 100000.0, 80000.0, 47000.0, 53600.0, 66000.0, 62000.0, 87000.0, 95000.0, 65000.0, 95000.0, 105000.0, 36000.0, 73000.0, 216000.0, 90000.0, 57000.0, 60000.0, 66000.0, 44000.0, 58000.0, 112000.0, 30000.0, 85000.0, 100000.0, 80000.0, 80000.0, 60000.0, 60000.0, 133000.0, 33000.0, 64000.0, 62000.0, 85000.0, 55000.0, 68000.0, 85000.0, 72000.0, 34000.0, 70000.0, 63600.0, 79000.0, 68000.0, 60000.0, 68000.0, 68000.0, 91000.0, 90000.0, 63000.0, 65000.0, 95000.0, 65000.0, 75000.0, 70000.0, 55000.0, 40000.0, 96000.0, 72000.0, 60000.0, 63000.0, 85000.0, 76000.0, 98000.0, 62000.0, 63000.0, 73000.0, 50000.0, 36000.0, 80000.0, 91000.0, 70000.0, 77000.0, 56000.0, 69000.0, 35000.0, 60000.0, 75000.0, 75000.0, 57000.0, 50000.0, 71000.0, 66000.0, 63000.0, 72500.0, 120000.0, 67000.0, 90000.0, 80000.0, 70000.0, 65000.0, 61800.0, 50000.0, 58000.0, 60000.0, 100000.0, 70000.0, 105000.0, 65000.0, 68000.0, 50000.0, 42000.0, 24000.0, 60000.0, 85000.0, 115000.0, 63000.0, 53900.0, 110000.0, 83000.0, 72000.0, 73000.0, 115000.0, 96000.0, 75000.0, 110000.0, 70000.0, 55000.0, 50000.0, 83000.0, 56000.0, 65000.0, 62000.0, 60000.0, 107000.0, 78000.0, 75000.0, 75000.0, 96000.0, 65000.0, 65000.0, 68000.0, 106000.0, 70000.0, 52000.0, 68000.0, 102000.0, 80000.0, 90000.0, 128000.0, 63000.0, 82000.0, 50000.0, 120000.0, 64800.0, 55000.0, 65000.0, 100000.0, 110000.0, 110000.0, 66000.0, 55000.0, 125000.0, 70000.0, 84000.0, 51072.0, 80000.0, 130000.0, 110000.0, 86000.0, 24000.0, 82000.0, 140000.0, 64000.0, 74000.0, 59000.0, 53000.0, 103000.0, 75000.0, 110000.0, 65000.0, 85000.0, 67000.0, 45600.0, 66340.0, 30000.0, 95000.0, 68000.0, 77000.0, 89000.0, 48000.0, 60000.0, 50000.0, 60600.0, 107000.0, 120000.0, 84000.0, 79000.0, 87000.0, 90000.0, 75000.0, 48000.0, 50000.0, 75000.0, 73000.0, 52000.0, 45000.0, 45000.0, 70000.0, 75000.0, 95000.0, 28300.0, 93000.0, 77000.0, 51600.0, 45000.0, 65000.0, 50000.0, 82000.0, 63000.0, 56000.0, 115000.0, 65000.0, 57000.0, 51000.0, 75000.0, 82000.0, 77500.0, 74400.0, 70000.0, 58000.0, 65000.0, 62500.0, 69000.0, 81000.0, 65000.0, 48000.0, 60000.0, 60000.0, 54000.0, 87500.0, 76000.0, 78000.0, 30000.0, 62000.0, 80000.0, 48000.0, 53000.0, 58500.0, 64000.0, 62000.0, 70000.0, 72000.0, 105000.0, 72000.0, 62000.0, 58000.0, 90000.0, 30000.0, 78000.0, 75000.0, 83400.0, 67000.0, 65000.0, 62000.0, 43000.0, 87000.0, 70000.0, 78000.0, 48000.0, 83000.0, 67000.0, 82000.0, 115000.0, 125000.0, 75000.0, 80000.0, 87000.0, 58000.0, 50000.0, 70000.0, 69300.0, 75000.0, 155000.0, 70000.0, 55000.0, 70000.0, 14000.0, 68000.0, 82000.0, 67000.0, 90000.0, 53000.0, 72000.0, 72000.0, 65000.0, 74000.0, 60000.0, 63600.0, 72000.0, 80500.0, 125000.0, 160000.0, 32000.0, 62000.0, 35300.0, 78000.0, 40146.0, 90000.0, 67000.0, 80000.0, 63000.0, 90000.0, 74200.0, 86000.0, 117000.0, 48000.0, 57600.0, 63600.0, 36819.0, 21600.0, 49000.0, 78000.0, 120000.0, 60000.0, 36000.0, 65000.0, 49000.0, 112000.0, 87000.0, 68000.0, 55000.0, 160000.0, 52000.0, 80000.0, 100000.0, 52500.0, 68000.0, 112000.0, 52000.0, 105000.0, 75000.0, 82500.0, 38400.0, 39600.0, 200000.0, 54000.0, 98000.0, 68000.0, 125000.0, 63000.0, 30000.0, 96000.0, 60000.0, 95000.0, 90000.0, 55000.0, 48000.0, 88000.0, 68500.0, 115000.0, 66000.0, 60000.0, 105000.0, 72000.0, 65000.0, 55000.0, 107000.0, 90000.0, 73000.0, 75000.0, 68000.0, 75000.0, 61000.0, 42000.0, 72000.0, 36000.0, 58000.0, 75000.0, 75000.0, 78000.0, 60000.0, 78000.0, 55000.0, 109000.0, 78000.0, 69000.0, 56000.0, 78000.0, 52000.0, 75000.0, 70000.0, 70000.0, 21600.0, 62000.0, 95000.0, 86000.0, 54000.0, 49000.0, 48000.0, 65000.0, 53000.0, 62000.0, 60000.0, 120000.0, 58000.0, 48000.0, 72000.0, 59000.0, 73000.0, 65000.0, 89000.0, 65000.0, 88000.0, 60000.0, 45000.0, 77700.0, 80000.0, 85000.0, 150000.0, 82500.0, 52000.0, 60000.0, 50000.0, 65000.0, 62000.0, 70000.0, 81000.0, 52000.0, 85000.0, 57000.0, 50800.0, 41160.0, 34000.0, 55000.0, 55000.0, 55000.0, 107685.0, 75000.0, 60000.0, 72000.0, 70000.0, 82000.0, 75000.0, 88000.0, 60000.0, 45600.0, 65000.0, 93000.0, 70000.0, 78000.0, 60000.0, 70000.0, 81000.0, 62000.0, 55000.0, 60000.0, 50000.0, 86700.0, 75000.0, 40000.0, 65000.0, 6000.0, 89000.0, 51000.0, 82000.0, 54000.0, 110000.0, 34000.0, 52000.0, 210000.0, 75000.0, 101000.0, 27977.0, 15600.0, 75000.0, 70000.0, 50000.0, 45000.0, 70000.0, 65000.0, 100000.0, 83000.0, 110000.0, 62000.0, 60000.0, 95000.0, 50000.0, 68000.0, 66000.0, 67800.0, 83000.0, 70000.0, 70000.0, 42000.0, 32000.0, 80000.0, 71000.0, 52800.0, 87000.0, 54000.0, 73300.0, 100000.0, 70000.0, 73200.0, 45000.0, 74900.0, 71000.0, 72000.0, 68000.0, 100000.0, 63000.0]}, {\"name\": \"Yearly bonus\", \"type\": \"box\", \"y\": [1000.0, 7857.169811320755, 7857.169811320755, 7857.169811320755, 7857.169811320755, 7857.169811320755, 7857.169811320755, 4000.0, 7857.169811320755, 7857.169811320755, 7857.169811320755, 7857.169811320755, 7857.169811320755, 5500.0, 7857.169811320755, 7857.169811320755, 7857.169811320755, 7857.169811320755, 7857.169811320755, 7857.169811320755, 7857.169811320755, 7857.169811320755, 7857.169811320755, 7857.169811320755, 6000.0, 7857.169811320755, 7857.169811320755, 7000.0, 4000.0, 7857.169811320755, 7857.169811320755, 5000.0, 7857.169811320755, 7857.169811320755, 6500.0, 7857.169811320755, 7857.169811320755, 7857.169811320755, 7857.169811320755, 16000.0, 7857.169811320755, 7857.169811320755, 7857.169811320755, 2000.0, 7857.169811320755, 7857.169811320755, 7857.169811320755, 7857.169811320755, 7857.169811320755, 7857.169811320755, 2000.0, 4650.0, 9000.0, 7857.169811320755, 8000.0, 7857.169811320755, 7857.169811320755, 7857.169811320755, 8000.0, 7857.169811320755, 7857.169811320755, 7857.169811320755, 7857.169811320755, 16000.0, 7857.169811320755, 1500.0, 7857.169811320755, 7857.169811320755, 13000.0, 200.0, 4700.0, 2000.0, 7857.169811320755, 8000.0, 7857.169811320755, 7857.169811320755, 7857.169811320755, 7857.169811320755, 7857.169811320755, 7857.169811320755, 23.0, 6000.0, 7857.169811320755, 7857.169811320755, 10000.0, 7857.169811320755, 7857.169811320755, 7857.169811320755, 7857.169811320755, 7857.169811320755, 7857.169811320755, 10500.0, 7857.169811320755, 7857.169811320755, 7857.169811320755, 7857.169811320755, 7857.169811320755, 7857.169811320755, 7857.169811320755, 7857.169811320755, 7857.169811320755, 7857.169811320755, 7857.169811320755, 7857.169811320755, 7857.169811320755, 7857.169811320755, 7857.169811320755, 7857.169811320755, 2000.0, 7857.169811320755, 3800.0, 7857.169811320755, 7857.169811320755, 3000.0, 7857.169811320755, 7857.169811320755, 7857.169811320755, 7857.169811320755, 7857.169811320755, 2500.0, 7857.169811320755, 12000.0, 7857.169811320755, 7857.169811320755, 7857.169811320755, 80000.0, 7857.169811320755, 11000.0, 7857.169811320755, 10000.0, 9000.0, 5000.0, 5200.0, 3000.0, 0.0, 7857.169811320755, 7857.169811320755, 8000.0, 5000.0, 7857.169811320755, 7857.169811320755, 4000.0, 7857.169811320755, 7857.169811320755, 9000.0, 7857.169811320755, 7857.169811320755, 0.0, 11000.0, 0.0, 12000.0, 7857.169811320755, 3060.0, 7857.169811320755, 11000.0, 7857.169811320755, 1500.0, 0.0, 0.0, 7857.169811320755, 7857.169811320755, 7857.169811320755, 5000.0, 9000.0, 7857.169811320755, 7857.169811320755, 3000.0, 2000.0, 7857.169811320755, 5000.0, 2000.0, 7900.0, 7857.169811320755, 6000.0, 25000.0, 4000.0, 7857.169811320755, 7857.169811320755, 7857.169811320755, 10000.0, 55000.0, 0.0, 7857.169811320755, 7857.169811320755, 2500.0, 7857.169811320755, 0.0, 0.0, 4800.0, 25000.0, 2000.0, 7857.169811320755, 15000.0, 0.0, 7857.169811320755, 80000.0, 7857.169811320755, 5000.0, 7857.169811320755, 1.0, 6000.0, 3000.0, 2000.0, 7857.169811320755, 7857.169811320755, 10000.0, 7857.169811320755, 5000.0, 7857.169811320755, 0.0, 2000.0, 8000.0, 7857.169811320755, 6800.0, 0.0, 5000.0, 5000.0, 5000.0, 0.0, 7857.169811320755, 7800.0, 0.0, 6300.0, 7857.169811320755, 7857.169811320755, 1000.0, 0.0, 10100.0, 0.0, 0.0, 7857.169811320755, 15000.0, 0.0, 7857.169811320755, 5000.0, 7857.169811320755, 7857.169811320755, 7857.169811320755, 8000.0, 7857.169811320755, 7000.0, 0.0, 37000.0, 5000.0, 7857.169811320755, 7000.0, 7857.169811320755, 7857.169811320755, 7857.169811320755, 7857.169811320755, 7857.169811320755, 7857.169811320755, 0.0, 7857.169811320755, 7857.169811320755, 7857.169811320755, 0.0, 7857.169811320755, 5000.0, 7857.169811320755, 7857.169811320755, 25000.0, 7857.169811320755, 7857.169811320755, 7857.169811320755, 7857.169811320755, 3000.0, 7857.169811320755, 7857.169811320755, 5000.0, 0.0, 7857.169811320755, 25000.0, 1000.0, 7857.169811320755, 7857.169811320755, 0.0, 7857.169811320755, 3000.0, 7857.169811320755, 7857.169811320755, 7857.169811320755, 7857.169811320755, 7857.169811320755, 7857.169811320755, 7857.169811320755, 7857.169811320755, 7857.169811320755, 7857.169811320755, 5000.0, 22500.0, 2500.0, 0.0, 0.0, 36000.0, 7857.169811320755, 7857.169811320755, 5000.0, 14000.0, 10000.0, 7857.169811320755, 46000.0, 18000.0, 7857.169811320755, 22000.0, 7857.169811320755, 0.0, 5000.0, 20000.0, 7857.169811320755, 7857.169811320755, 7857.169811320755, 0.0, 7857.169811320755, 7857.169811320755, 7857.169811320755, 5000.0, 7857.169811320755, 5000.0, 6700.0, 15000.0, 7857.169811320755, 0.0, 7857.169811320755, 0.0, 5000.0, 7857.169811320755, 16000.0, 7857.169811320755, 7857.169811320755, 7857.169811320755, 7857.169811320755, 7857.169811320755, 3000.0, 7857.169811320755, 18000.0, 0.0, 8800.0, 0.0, 48000.0, 7857.169811320755, 36000.0, 36000.0, 12000.0, 3000.0, 7857.169811320755, 7857.169811320755, 18000.0, 7857.169811320755, 6000.0, 7857.169811320755, 4000.0, 7857.169811320755, 2000.0, 4000.0, 3000.0, 7857.169811320755, 7857.169811320755, 7000.0, 7857.169811320755, 25000.0, 7857.169811320755, 7857.169811320755, 10000.0, 7857.169811320755, 7857.169811320755, 20000.0, 7857.169811320755, 5000.0, 7857.169811320755, 5000.0, 7857.169811320755, 7857.169811320755, 1400.0, 6250.0, 5000.0, 7000.0, 7857.169811320755, 6000.0, 7857.169811320755, 6000.0, 7857.169811320755, 10000.0, 32000.0, 7857.169811320755, 3000.0, 7857.169811320755, 12000.0, 1000.0, 5000.0, 5500.0, 7000.0, 6000.0, 3500.0, 3000.0, 7857.169811320755, 7857.169811320755, 3000.0, 5000.0, 3000.0, 7857.169811320755, 16000.0, 5000.0, 7857.169811320755, 7857.169811320755, 20000.0, 6000.0, 18000.0, 7857.169811320755, 5000.0, 7857.169811320755, 7000.0, 7857.169811320755, 7857.169811320755, 7857.169811320755, 25000.0, 7857.169811320755, 3000.0, 7857.169811320755, 12000.0, 5000.0, 5300.0, 60000.0, 7000.0, 7857.169811320755, 7857.169811320755, 6000.0, 7857.169811320755, 7857.169811320755, 5800.0, 7857.169811320755, 16000.0, 7857.169811320755, 7857.169811320755, 7857.169811320755, 7000.0, 7857.169811320755, 9600.0, 7857.169811320755, 15000.0, 7857.169811320755, 4100.0, 6000.0, 7857.169811320755, 7857.169811320755, 7857.169811320755, 7857.169811320755, 5000.0, 7857.169811320755, 7857.169811320755, 7857.169811320755, 7857.169811320755, 23000.0, 7857.169811320755, 7857.169811320755, 16000.0, 15000.0, 3000.0, 1.0, 10000.0, 25000.0, 25000.0, 3000.0, 1400.0, 7857.169811320755, 7857.169811320755, 7857.169811320755, 7857.169811320755, 25000.0, 25000.0, 1000.0, 10000.0, 7857.169811320755, 7500.0, 7857.169811320755, 12000.0, 5000.0, 15000.0, 7857.169811320755, 7857.169811320755, 7857.169811320755, 10000.0, 7857.169811320755, 25000.0, 4000.0, 7857.169811320755, 7857.169811320755, 7857.169811320755, 7857.169811320755, 15000.0, 7857.169811320755, 7857.169811320755, 19000.0, 15000.0, 3000.0, 7857.169811320755, 47000.0, 12000.0, 7857.169811320755, 2500.0, 7857.169811320755, 7857.169811320755, 7857.169811320755, 16000.0, 7857.169811320755, 25000.0, 7857.169811320755, 8000.0, 7857.169811320755, 7857.169811320755, 3000.0, 7857.169811320755, 7857.169811320755, 20000.0, 7857.169811320755, 7857.169811320755, 1.0, 7857.169811320755, 10000.0, 7857.169811320755, 2000.0, 5000.0, 7000.0, 0.0, 1500.0, 7857.169811320755, 7857.169811320755, 7857.169811320755, 7857.169811320755, 0.0, 6000.0, 7857.169811320755, 10.0, 0.0, 7857.169811320755, 0.0, 7857.169811320755, 0.0, 12000.0, 6000.0, 7857.169811320755, 3000.0, 0.0, 5000.0, 15000.0, 7857.169811320755, 7857.169811320755, 20000.0, 7857.169811320755, 7857.169811320755, 5000.0, 10000.0, 7857.169811320755, 11000.0, 3000.0, 5000.0, 0.0, 7857.169811320755, 7857.169811320755, 0.0, 0.0, 0.0, 7857.169811320755, 7857.169811320755, 0.0, 7857.169811320755, 0.0, 10000.0, 7857.169811320755, 7857.169811320755, 0.0, 5000.0, 7200.0, 7857.169811320755, 7857.169811320755, 5000.0, 5000.0, 0.0, 12000.0, 6500.0, 0.0, 7857.169811320755, 7857.169811320755, 5300.0, 7857.169811320755, 10000.0, 7857.169811320755, 5000.0, 0.0, 7857.169811320755, 5500.0, 0.0, 7857.169811320755, 26000.0, 12000.0, 5500.0, 10000.0, 7857.169811320755, 7857.169811320755, 7857.169811320755, 7857.169811320755, 7857.169811320755, 5500.0, 7857.169811320755, 0.0, 7857.169811320755, 7857.169811320755, 7857.169811320755, 1.0, 11000.0, 0.0, 7857.169811320755, 8000.0, 43000.0, 5000.0, 7857.169811320755, 7857.169811320755, 15000.0, 45000.0, 9000.0, 25000.0, 7857.169811320755, 0.0, 4000.0, 30000.0, 5000.0, 7857.169811320755, 7857.169811320755, 5000.0, 25000.0, 25000.0, 7857.169811320755, 3000.0, 0.0, 7857.169811320755, 0.0, 2300.0, 8000.0, 35000.0, 55000.0, 7500.0, 7857.169811320755, 5000.0, 7857.169811320755, 7857.169811320755, 10000.0, 19000.0, 7857.169811320755, 15000.0, 7857.169811320755, 5000.0, 0.0, 3200.0, 8000.0, 0.0, 0.0, 7857.169811320755, 10000.0, 6800.0, 9000.0, 8900.0, 7857.169811320755, 7857.169811320755, 7857.169811320755, 7857.169811320755, 12000.0, 12000.0, 0.0, 8000.0, 10000.0, 5000.0, 5000.0, 7857.169811320755, 7857.169811320755, 7857.169811320755, 7857.169811320755, 4000.0, 300.0, 7857.169811320755, 7857.169811320755, 7857.169811320755, 0.0, 7857.169811320755, 11000.0, 0.0, 5180.0, 300.0, 7857.169811320755, 7857.169811320755, 20000.0, 7000.0, 7857.169811320755, 15000.0, 0.0, 7857.169811320755, 0.0, 0.0, 13500.0, 0.0, 0.0, 7857.169811320755, 7857.169811320755, 7857.169811320755, 5000.0, 7857.169811320755, 12150.0, 5000.0, 7857.169811320755, 0.0, 7000.0, 4500.0, 13500.0, 22000.0, 7800.0, 300.0, 4000.0, 7857.169811320755, 7857.169811320755, 4000.0, 4500.0, 7857.169811320755, 7857.169811320755, 7857.169811320755, 0.0, 20000.0, 7857.169811320755, 0.0, 7857.169811320755, 10.0, 0.0, 7857.169811320755, 7857.169811320755, 4170.0, 7857.169811320755, 7857.169811320755, 2500.0, 7857.169811320755, 7857.169811320755, 2000.0, 4000.0, 0.0, 7857.169811320755, 8000.0, 12000.0, 25000.0, 7857.169811320755, 0.0, 7857.169811320755, 13000.0, 7857.169811320755, 7857.169811320755, 5000.0, 8500.0, 7857.169811320755, 0.0, 7857.169811320755, 5500.0, 10000.0, 0.0, 7857.169811320755, 20000.0, 7857.169811320755, 20000.0, 3000.0, 7857.169811320755, 14000.0, 7857.169811320755, 6000.0, 4500.0, 7857.169811320755, 7857.169811320755, 4000.0, 28000.0, 0.0, 5000.0, 5000.0, 0.0, 12000.0, 7857.169811320755, 7857.169811320755, 7857.169811320755, 0.0, 7857.169811320755, 9000.0, 7857.169811320755, 0.0, 22000.0, 7857.169811320755, 4416.0, 7857.169811320755, 0.0, 0.0, 0.0, 7857.169811320755, 7857.169811320755, 7000.0, 0.0, 0.0, 7857.169811320755, 14000.0, 11000.0, 10000.0, 7857.169811320755, 7857.169811320755, 7857.169811320755, 3000.0, 7857.169811320755, 0.0, 5000.0, 0.0, 0.0, 30000.0, 3300.0, 11400.0, 7857.169811320755, 7857.169811320755, 20000.0, 0.0, 17000.0, 7000.0, 55000.0, 1000.0, 0.0, 7857.169811320755, 7857.169811320755, 12000.0, 7857.169811320755, 7857.169811320755, 1.0, 7857.169811320755, 0.0, 18000.0, 6000.0, 12000.0, 20000.0, 6000.0, 0.0, 6000.0, 14300.0, 30000.0, 7857.169811320755, 0.0, 7000.0, 7857.169811320755, 4000.0, 2500.0, 0.0, 0.0, 7857.169811320755, 7857.169811320755, 7857.169811320755, 9000.0, 0.0, 13000.0, 5000.0, 1200.0, 7857.169811320755, 7000.0, 7857.169811320755, 0.0, 6000.0, 0.0, 7857.169811320755, 0.0, 7857.169811320755, 7857.169811320755, 7857.169811320755, 7857.169811320755, 0.0, 7857.169811320755, 0.0, 2000.0, 8500.0, 7857.169811320755, 7857.169811320755, 7857.169811320755, 7857.169811320755, 7857.169811320755, 7857.169811320755, 0.0, 0.0, 10000.0, 7857.169811320755, 0.0, 8000.0, 6000.0, 7857.169811320755, 7857.169811320755, 7857.169811320755, 7857.169811320755, 20000.0, 7857.169811320755, 4300.0, 0.0, 2000.0, 0.0, 7857.169811320755, 7857.169811320755, 0.0, 0.0, 7857.169811320755, 7857.169811320755, 0.0, 0.0, 300.0, 0.0, 5000.0, 0.0, 20000.0, 7857.169811320755, 0.0, 7857.169811320755, 7857.169811320755, 10000.0, 7857.169811320755, 8800.0, 7857.169811320755, 600.0, 0.0, 7857.169811320755, 10000.0, 3000.0, 7857.169811320755, 7857.169811320755, 7857.169811320755, 7857.169811320755, 3000.0, 0.0, 7857.169811320755, 4000.0, 10000.0, 0.0, 7857.169811320755, 7857.169811320755, 0.0, 0.0, 7857.169811320755, 7857.169811320755, 15000.0, 0.0, 7857.169811320755, 7857.169811320755, 7000.0, 9000.0, 7857.169811320755, 7857.169811320755, 5000.0, 7857.169811320755, 4500.0, 0.0, 800.0, 0.0, 7857.169811320755, 7857.169811320755, 0.0, 7857.169811320755, 0.0, 7857.169811320755, 5000.0, 7857.169811320755, 6000.0, 8424.0, 3000.0, 0.0, 7857.169811320755, 3000.0, 0.0, 7857.169811320755, 0.0, 7857.169811320755, 7857.169811320755, 10000.0, 1500.0, 16000.0, 6300.0, 8052.0, 7857.169811320755, 7857.169811320755, 3000.0, 0.0, 10000.0, 3000.0, 7857.169811320755]}, {\"name\": \"Yearly stocks\", \"type\": \"box\", \"y\": [18263.119802955665, 18263.119802955665, 18263.119802955665, 18263.119802955665, 18263.119802955665, 18263.119802955665, 18263.119802955665, 18263.119802955665, 18263.119802955665, 18263.119802955665, 18263.119802955665, 18263.119802955665, 18263.119802955665, 18263.119802955665, 18263.119802955665, 18263.119802955665, 18263.119802955665, 18263.119802955665, 18263.119802955665, 18263.119802955665, 18263.119802955665, 18263.119802955665, 18263.119802955665, 18263.119802955665, 18263.119802955665, 18263.119802955665, 18263.119802955665, 18263.119802955665, 18263.119802955665, 18263.119802955665, 18263.119802955665, 18263.119802955665, 18263.119802955665, 18263.119802955665, 10000.0, 18263.119802955665, 18263.119802955665, 18263.119802955665, 18263.119802955665, 3500.0, 18263.119802955665, 18263.119802955665, 10000.0, 18263.119802955665, 18263.119802955665, 18263.119802955665, 18263.119802955665, 18263.119802955665, 18263.119802955665, 18263.119802955665, 18263.119802955665, 18263.119802955665, 18263.119802955665, 18263.119802955665, 25000.0, 18263.119802955665, 18263.119802955665, 18263.119802955665, 18263.119802955665, 1.0, 18263.119802955665, 18263.119802955665, 18263.119802955665, 52500.0, 18263.119802955665, 18263.119802955665, 18263.119802955665, 18263.119802955665, 1.0, 2000.0, 18263.119802955665, 2000.0, 18263.119802955665, 50000.0, 18263.119802955665, 18263.119802955665, 18263.119802955665, 18263.119802955665, 18263.119802955665, 18263.119802955665, 50.0, 4000.0, 18263.119802955665, 18263.119802955665, 1.0, 18263.119802955665, 18263.119802955665, 18263.119802955665, 18263.119802955665, 18263.119802955665, 18263.119802955665, 18263.119802955665, 20240.0, 18263.119802955665, 18263.119802955665, 18263.119802955665, 18263.119802955665, 18263.119802955665, 18263.119802955665, 18263.119802955665, 18263.119802955665, 18263.119802955665, 18263.119802955665, 18263.119802955665, 18263.119802955665, 18263.119802955665, 18263.119802955665, 18263.119802955665, 18263.119802955665, 18263.119802955665, 18263.119802955665, 18263.119802955665, 18263.119802955665, 18263.119802955665, 18263.119802955665, 18263.119802955665, 1000.0, 18263.119802955665, 7500.0, 18263.119802955665, 18263.119802955665, 18263.119802955665, 18263.119802955665, 18263.119802955665, 18263.119802955665, 18263.119802955665, 18263.119802955665, 18263.119802955665, 18263.119802955665, 6000.0, 18263.119802955665, 18263.119802955665, 30.0, 18263.119802955665, 1.0, 18263.119802955665, 18263.119802955665, 5000.0, 18263.119802955665, 18263.119802955665, 18263.119802955665, 18263.119802955665, 18263.119802955665, 18263.119802955665, 18263.119802955665, 18263.119802955665, 18263.119802955665, 18263.119802955665, 400.0, 0.01, 25000.0, 18263.119802955665, 18263.119802955665, 50000.0, 16000.0, 18263.119802955665, 18263.119802955665, 1.0, 18263.119802955665, 18263.119802955665, 18263.119802955665, 18263.119802955665, 18263.119802955665, 18263.119802955665, 18263.119802955665, 18263.119802955665, 18263.119802955665, 18263.119802955665, 18263.119802955665, 18263.119802955665, 18263.119802955665, 18263.119802955665, 18263.119802955665, 18263.119802955665, 30000.0, 18263.119802955665, 18263.119802955665, 18263.119802955665, 18263.119802955665, 18263.119802955665, 18263.119802955665, 18263.119802955665, 18263.119802955665, 18263.119802955665, 18263.119802955665, 18263.119802955665, 18263.119802955665, 18263.119802955665, 18263.119802955665, 18263.119802955665, 18263.119802955665, 18263.119802955665, 10.0, 1.0, 18263.119802955665, 18263.119802955665, 18263.119802955665, 18263.119802955665, 18263.119802955665, 18263.119802955665, 18263.119802955665, 18263.119802955665, 18263.119802955665, 18263.119802955665, 18263.119802955665, 5000.0, 18263.119802955665, 18263.119802955665, 18263.119802955665, 18263.119802955665, 18263.119802955665, 18263.119802955665, 18263.119802955665, 18263.119802955665, 18263.119802955665, 18263.119802955665, 800.0, 360.0, 1.0, 18263.119802955665, 18263.119802955665, 18263.119802955665, 18263.119802955665, 18263.119802955665, 18263.119802955665, 18263.119802955665, 10000.0, 18263.119802955665, 1.0, 18263.119802955665, 18263.119802955665, 18263.119802955665, 18263.119802955665, 18263.119802955665, 18263.119802955665, 18263.119802955665, 5.0, 18263.119802955665, 18263.119802955665, 18263.119802955665, 18263.119802955665, 18263.119802955665, 18263.119802955665, 18263.119802955665, 18263.119802955665, 1.0, 18263.119802955665, 18263.119802955665, 18263.119802955665, 18263.119802955665, 4000.0, 18263.119802955665, 18263.119802955665, 18263.119802955665, 18263.119802955665, 18263.119802955665, 18263.119802955665, 18263.119802955665, 18263.119802955665, 18263.119802955665, 18263.119802955665, 18263.119802955665, 18263.119802955665, 18263.119802955665, 18263.119802955665, 18263.119802955665, 18263.119802955665, 18263.119802955665, 18263.119802955665, 18263.119802955665, 18263.119802955665, 18263.119802955665, 3000.0, 18263.119802955665, 18263.119802955665, 18263.119802955665, 18263.119802955665, 18263.119802955665, 18263.119802955665, 18263.119802955665, 18263.119802955665, 18263.119802955665, 18263.119802955665, 18263.119802955665, 18263.119802955665, 10000.0, 18263.119802955665, 18263.119802955665, 18263.119802955665, 18263.119802955665, 18263.119802955665, 12000.0, 18263.119802955665, 1.0, 72000.0, 18263.119802955665, 18263.119802955665, 18263.119802955665, 18263.119802955665, 18263.119802955665, 18263.119802955665, 18263.119802955665, 72000.0, 18263.119802955665, 18263.119802955665, 18263.119802955665, 18263.119802955665, 18263.119802955665, 18263.119802955665, 18263.119802955665, 18263.119802955665, 18263.119802955665, 18263.119802955665, 18263.119802955665, 18263.119802955665, 18263.119802955665, 18263.119802955665, 18263.119802955665, 18263.119802955665, 3000.0, 18263.119802955665, 12500.0, 18263.119802955665, 18263.119802955665, 18263.119802955665, 18263.119802955665, 18263.119802955665, 2000.0, 18263.119802955665, 18263.119802955665, 18263.119802955665, 18263.119802955665, 18263.119802955665, 18263.119802955665, 18263.119802955665, 25000.0, 18263.119802955665, 18263.119802955665, 18263.119802955665, 18263.119802955665, 18263.119802955665, 18263.119802955665, 18263.119802955665, 18263.119802955665, 18263.119802955665, 18263.119802955665, 18263.119802955665, 18263.119802955665, 18263.119802955665, 18263.119802955665, 18263.119802955665, 18263.119802955665, 18263.119802955665, 18263.119802955665, 18263.119802955665, 18263.119802955665, 18263.119802955665, 18263.119802955665, 18263.119802955665, 18263.119802955665, 117000.0, 18263.119802955665, 18263.119802955665, 18263.119802955665, 18263.119802955665, 18263.119802955665, 18263.119802955665, 18263.119802955665, 18263.119802955665, 18263.119802955665, 2000.0, 1.0, 18263.119802955665, 18263.119802955665, 18263.119802955665, 18263.119802955665, 15000.0, 18263.119802955665, 18263.119802955665, 18263.119802955665, 18263.119802955665, 15000.0, 18263.119802955665, 18263.119802955665, 350000.0, 18263.119802955665, 18263.119802955665, 18263.119802955665, 18263.119802955665, 18263.119802955665, 18263.119802955665, 18263.119802955665, 18263.119802955665, 18263.119802955665, 18263.119802955665, 1.0, 18263.119802955665, 18263.119802955665, 18263.119802955665, 5000.0, 18263.119802955665, 75000.0, 18263.119802955665, 18263.119802955665, 1.0, 18263.119802955665, 18263.119802955665, 20000.0, 18263.119802955665, 18263.119802955665, 18263.119802955665, 18263.119802955665, 18263.119802955665, 18263.119802955665, 18263.119802955665, 1500.0, 18263.119802955665, 18263.119802955665, 125.0, 1.0, 1.0, 18263.119802955665, 18263.119802955665, 18263.119802955665, 18263.119802955665, 500.0, 18263.119802955665, 1.0, 22000.0, 18263.119802955665, 1.0, 18263.119802955665, 18263.119802955665, 18263.119802955665, 10000.0, 18263.119802955665, 18263.119802955665, 18263.119802955665, 18263.119802955665, 15000.0, 18263.119802955665, 18263.119802955665, 18263.119802955665, 500.0, 18263.119802955665, 18263.119802955665, 18263.119802955665, 18263.119802955665, 18263.119802955665, 18263.119802955665, 18263.119802955665, 18263.119802955665, 18263.119802955665, 18263.119802955665, 18263.119802955665, 18263.119802955665, 18000.0, 1.0, 1.0, 18263.119802955665, 50000.0, 1.0, 18263.119802955665, 18263.119802955665, 18263.119802955665, 18263.119802955665, 18263.119802955665, 18263.119802955665, 18263.119802955665, 18263.119802955665, 18263.119802955665, 18263.119802955665, 18263.119802955665, 18263.119802955665, 18263.119802955665, 18263.119802955665, 18263.119802955665, 18263.119802955665, 18263.119802955665, 18263.119802955665, 18263.119802955665, 1.0, 1.0, 11000.0, 6000.0, 18263.119802955665, 18263.119802955665, 18263.119802955665, 18263.119802955665, 18263.119802955665, 1.0, 18263.119802955665, 0.01, 26000.0, 18263.119802955665, 18263.119802955665, 18263.119802955665, 12500.0, 18263.119802955665, 1.0, 18263.119802955665, 18263.119802955665, 0.1, 25000.0, 18263.119802955665, 30000.0, 18263.119802955665, 18263.119802955665, 18263.119802955665, 18263.119802955665, 18263.119802955665, 18263.119802955665, 18263.119802955665, 18263.119802955665, 18263.119802955665, 18263.119802955665, 1.0, 18263.119802955665, 20000.0, 18263.119802955665, 18263.119802955665, 18263.119802955665, 18263.119802955665, 18263.119802955665, 18263.119802955665, 18263.119802955665, 18263.119802955665, 18263.119802955665, 18000.0, 18263.119802955665, 18263.119802955665, 18263.119802955665, 18263.119802955665, 18263.119802955665, 18263.119802955665, 28000.0, 18263.119802955665, 18263.119802955665, 18263.119802955665, 18263.119802955665, 18263.119802955665, 18263.119802955665, 18263.119802955665, 18263.119802955665, 18263.119802955665, 18263.119802955665, 18263.119802955665, 2000.0, 18263.119802955665, 18263.119802955665, 18263.119802955665, 10000.0, 10000.0, 6000.0, 18263.119802955665, 18263.119802955665, 18263.119802955665, 18263.119802955665, 18263.119802955665, 1.0, 18263.119802955665, 1.0, 18263.119802955665, 18263.119802955665, 18263.119802955665, 18263.119802955665, 0.1, 18263.119802955665, 18263.119802955665, 18263.119802955665, 18263.119802955665, 18263.119802955665, 18263.119802955665, 18263.119802955665, 18263.119802955665, 18263.119802955665, 18263.119802955665, 1.0, 26000.0, 18263.119802955665, 18263.119802955665, 18263.119802955665, 18263.119802955665, 1.0, 18263.119802955665, 18263.119802955665, 25000.0, 18263.119802955665, 18263.119802955665, 18263.119802955665, 18263.119802955665, 18263.119802955665, 18263.119802955665, 65000.0, 18263.119802955665, 18263.119802955665, 18263.119802955665, 18263.119802955665, 18263.119802955665, 18263.119802955665, 18263.119802955665, 18263.119802955665, 18263.119802955665, 8000.0, 18263.119802955665, 18263.119802955665, 18263.119802955665, 18263.119802955665, 1.0, 10000.0, 18263.119802955665, 18263.119802955665, 3000.0, 18263.119802955665, 18263.119802955665, 18263.119802955665, 18263.119802955665, 18263.119802955665, 18263.119802955665, 28000.0, 140000.0, 18263.119802955665, 18263.119802955665, 18263.119802955665, 50000.0, 18263.119802955665, 18263.119802955665, 18263.119802955665, 18263.119802955665, 18263.119802955665, 35000.0, 18263.119802955665, 18263.119802955665, 1.0, 18263.119802955665, 84000.0, 18263.119802955665, 14000.0, 80000.0, 18263.119802955665, 18263.119802955665, 750000.0, 18263.119802955665, 18263.119802955665, 18263.119802955665, 18263.119802955665, 18263.119802955665, 18263.119802955665, 24000.0, 18263.119802955665, 25000.0, 18263.119802955665, 18263.119802955665, 18263.119802955665, 18263.119802955665, 18263.119802955665, 18263.119802955665, 18263.119802955665, 18263.119802955665, 2000.0, 18263.119802955665, 18263.119802955665, 18263.119802955665, 18263.119802955665, 18263.119802955665, 28000.0, 40000.0, 1.0, 3000.0, 18263.119802955665, 18263.119802955665, 18263.119802955665, 18263.119802955665, 18263.119802955665, 18263.119802955665, 18263.119802955665, 18263.119802955665, 100.0, 18263.119802955665, 18263.119802955665, 18263.119802955665, 5000.0, 18263.119802955665, 18263.119802955665, 3000.0, 18263.119802955665, 18263.119802955665, 18263.119802955665, 18263.119802955665, 1.0, 18263.119802955665, 18263.119802955665, 45000.0, 18263.119802955665, 18263.119802955665, 18263.119802955665, 18263.119802955665, 20000.0, 18263.119802955665, 18263.119802955665, 18263.119802955665, 18263.119802955665, 18263.119802955665, 1.0, 18263.119802955665, 18263.119802955665, 18263.119802955665, 18263.119802955665, 18263.119802955665, 18263.119802955665, 18263.119802955665, 90000.0, 18263.119802955665, 18263.119802955665, 18263.119802955665, 18263.119802955665, 18263.119802955665, 1.0, 18263.119802955665, 18263.119802955665, 18263.119802955665, 18263.119802955665, 18263.119802955665, 18263.119802955665, 18263.119802955665, 18263.119802955665, 18263.119802955665, 18263.119802955665, 18263.119802955665, 18263.119802955665, 18263.119802955665, 18263.119802955665, 18263.119802955665, 18263.119802955665, 18263.119802955665, 18263.119802955665, 18263.119802955665, 18263.119802955665, 18263.119802955665, 18000.0, 18263.119802955665, 500.0, 18263.119802955665, 20000.0, 48000.0, 18263.119802955665, 5000.0, 18263.119802955665, 18263.119802955665, 18263.119802955665, 18263.119802955665, 18263.119802955665, 18263.119802955665, 18263.119802955665, 1.0, 18263.119802955665, 18263.119802955665, 18263.119802955665, 18263.119802955665, 18263.119802955665, 25000.0, 18263.119802955665, 18263.119802955665, 18263.119802955665, 18263.119802955665, 18263.119802955665, 18263.119802955665, 18263.119802955665, 18263.119802955665, 18263.119802955665, 18263.119802955665, 18263.119802955665, 18263.119802955665, 1.0, 18263.119802955665, 18263.119802955665, 18263.119802955665, 15000.0, 18263.119802955665, 18263.119802955665, 18263.119802955665, 18263.119802955665, 18263.119802955665, 18000.0, 18263.119802955665, 18263.119802955665, 38000.0, 18263.119802955665, 18263.119802955665, 18263.119802955665, 18263.119802955665, 18263.119802955665, 18263.119802955665, 18263.119802955665, 18263.119802955665, 2000.0, 1.0, 18263.119802955665, 18263.119802955665, 18263.119802955665, 18263.119802955665, 18263.119802955665, 18263.119802955665, 18263.119802955665, 18263.119802955665, 2000.0, 18263.119802955665, 18263.119802955665, 18263.119802955665, 5000.0, 1.0, 18263.119802955665, 18263.119802955665, 18263.119802955665, 18263.119802955665, 18263.119802955665, 0.1, 1.0, 18263.119802955665, 18263.119802955665, 18263.119802955665, 18263.119802955665, 18263.119802955665, 24000.0, 3000.0, 18263.119802955665, 18263.119802955665, 18263.119802955665, 1.0, 18263.119802955665, 18263.119802955665, 30000.0, 18263.119802955665, 20000.0, 30000.0, 6000.0, 18263.119802955665, 18263.119802955665, 18263.119802955665, 18263.119802955665, 18263.119802955665, 18263.119802955665, 1.0, 18263.119802955665, 18263.119802955665, 18263.119802955665, 18263.119802955665, 18263.119802955665, 35000.0, 18263.119802955665, 7500.0, 18263.119802955665, 18263.119802955665, 1.0, 18263.119802955665, 350.0, 18263.119802955665, 18263.119802955665, 18263.119802955665, 6000.0, 18263.119802955665, 1000.0, 18263.119802955665, 18263.119802955665, 18263.119802955665, 18263.119802955665, 18263.119802955665, 18263.119802955665, 18263.119802955665, 2400.0, 18263.119802955665, 18263.119802955665, 18263.119802955665, 18263.119802955665, 18263.119802955665, 18263.119802955665, 18263.119802955665, 18263.119802955665, 18263.119802955665, 18263.119802955665, 18263.119802955665, 18263.119802955665, 18263.119802955665, 18263.119802955665, 18263.119802955665, 18263.119802955665, 18263.119802955665, 18263.119802955665, 18263.119802955665, 18263.119802955665, 100000.0, 18263.119802955665, 18263.119802955665, 18263.119802955665, 18263.119802955665, 0.0, 18263.119802955665, 18263.119802955665, 0.0, 0.0, 18263.119802955665, 18263.119802955665, 0.0, 0.0, 0.0, 0.0, 18263.119802955665, 0.0, 30000.0, 18263.119802955665, 0.0, 18263.119802955665, 18263.119802955665, 0.0, 2500.0, 50000.0, 18263.119802955665, 18263.119802955665, 0.0, 18263.119802955665, 18263.119802955665, 0.0, 18263.119802955665, 18263.119802955665, 18263.119802955665, 18263.119802955665, 18263.119802955665, 0.0, 18263.119802955665, 18263.119802955665, 18263.119802955665, 0.0, 18263.119802955665, 18263.119802955665, 0.0, 0.0, 18263.119802955665, 18263.119802955665, 18263.119802955665, 0.0, 18263.119802955665, 18263.119802955665, 0.0, 18263.119802955665, 18263.119802955665, 18263.119802955665, 18263.119802955665, 18263.119802955665, 18263.119802955665, 0.0, 18263.119802955665, 0.0, 18263.119802955665, 18263.119802955665, 0.0, 18263.119802955665, 0.0, 18263.119802955665, 18263.119802955665, 18263.119802955665, 18263.119802955665, 0.0, 0.0, 0.0, 18263.119802955665, 18263.119802955665, 0.0, 18263.119802955665, 0.0, 18263.119802955665, 50000.0, 0.0, 18263.119802955665, 15000.0, 18263.119802955665, 18263.119802955665, 18263.119802955665, 18263.119802955665, 0.0, 0.0, 18263.119802955665, 18263.119802955665, 18263.119802955665]}, {\"name\": \"Yearly bonus one year ago staying in same country\", \"type\": \"box\", \"y\": [1000.0, 8144.0, 8144.0, 8144.0, 8144.0, 8144.0, 8144.0, 8144.0, 8144.0, 8144.0, 8144.0, 8144.0, 8144.0, 10400.0, 8144.0, 5000.0, 8144.0, 8144.0, 8144.0, 8144.0, 8144.0, 8144.0, 8144.0, 8144.0, 6000.0, 8144.0, 8144.0, 7000.0, 8144.0, 8144.0, 8144.0, 8144.0, 8144.0, 8144.0, 8144.0, 8144.0, 8144.0, 8144.0, 8144.0, 10000.0, 8144.0, 8144.0, 8144.0, 8144.0, 8144.0, 8144.0, 8144.0, 8144.0, 8144.0, 8144.0, 8144.0, 4600.0, 7800.0, 500.0, 8144.0, 8144.0, 8144.0, 8144.0, 8000.0, 8144.0, 8144.0, 8144.0, 8144.0, 8144.0, 8144.0, 8144.0, 8144.0, 8144.0, 1.0, 200.0, 8144.0, 2000.0, 8144.0, 8144.0, 8144.0, 8144.0, 500.0, 8144.0, 8144.0, 8144.0, 16.0, 5000.0, 8144.0, 8144.0, 10000.0, 8144.0, 8144.0, 8144.0, 8144.0, 8144.0, 8144.0, 5500.0, 8144.0, 8144.0, 8144.0, 8144.0, 8144.0, 8144.0, 8144.0, 8144.0, 8144.0, 73000.0, 8144.0, 8144.0, 8144.0, 8144.0, 8144.0, 8144.0, 8144.0, 8144.0, 2000.0, 8144.0, 8144.0, 3000.0, 43500.0, 8144.0, 8144.0, 8144.0, 8144.0, 1500.0, 8144.0, 12000.0, 8144.0, 8144.0, 8144.0, 10000.0, 60000.0, 8144.0, 8144.0, 6000.0, 8500.0, 1500.0, 8144.0, 8144.0, 1.0, 8144.0, 8144.0, 8144.0, 5000.0, 8144.0, 8144.0, 8144.0, 8144.0, 8144.0, 10500.0, 8144.0, 8144.0, 8144.0, 6000.0, 8144.0, 10000.0, 8144.0, 5000.0, 10000.0, 8144.0, 8144.0, 8144.0, 8144.0, 8144.0, 8144.0, 8144.0, 5000.0, 8144.0, 8144.0, 8144.0, 8144.0, 3000.0, 2000.0, 8144.0, 8144.0, 8144.0, 7400.0, 8144.0, 8144.0, 20000.0, 8144.0, 8144.0, 8144.0, 8144.0, 500.0, 8144.0, 8144.0, 8144.0, 8144.0, 8144.0, 8144.0, 8144.0, 8144.0, 8144.0, 25000.0, 8144.0, 8144.0, 8144.0, 1.0, 8144.0, 50000.0, 4000.0, 5000.0, 8144.0, 1.0, 8144.0, 8144.0, 2000.0, 8144.0, 59000.0, 1.0, 8144.0, 4000.0, 8144.0, 8144.0, 8144.0, 8144.0, 8144.0, 8144.0, 8144.0, 5000.0, 5000.0, 8144.0, 8144.0, 8144.0, 8131.0, 8144.0, 8144.0, 8144.0, 8144.0, 8144.0, 1.0, 8144.0, 8144.0, 8144.0, 8144.0, 2000.0, 8144.0, 8144.0, 8144.0, 8144.0, 8144.0, 8144.0, 8144.0, 8144.0, 6000.0, 8144.0, 35.0, 6000.0, 8144.0, 8144.0, 8144.0, 8144.0, 8144.0, 8144.0, 8144.0, 8144.0, 8144.0, 8144.0, 8144.0, 8144.0, 8144.0, 8144.0, 8144.0, 8144.0, 8144.0, 10000.0, 8144.0, 8144.0, 8144.0, 8144.0, 8144.0, 8144.0, 8144.0, 8144.0, 8144.0, 8144.0, 8144.0, 8144.0, 8144.0, 8144.0, 8144.0, 8144.0, 8144.0, 8144.0, 8144.0, 8144.0, 8144.0, 8144.0, 8144.0, 8144.0, 8144.0, 3000.0, 8144.0, 8144.0, 8144.0, 3000.0, 8144.0, 8144.0, 30000.0, 8144.0, 8144.0, 8144.0, 12000.0, 8144.0, 8144.0, 8144.0, 8144.0, 8144.0, 8144.0, 8144.0, 8144.0, 8144.0, 8144.0, 8144.0, 8144.0, 8144.0, 8144.0, 8144.0, 8144.0, 8144.0, 8144.0, 8144.0, 8000.0, 6000.0, 8144.0, 8144.0, 8144.0, 8144.0, 8144.0, 8144.0, 8144.0, 8144.0, 8144.0, 8144.0, 8144.0, 8144.0, 8144.0, 3000.0, 8144.0, 8144.0, 8144.0, 8144.0, 8144.0, 8144.0, 8144.0, 8144.0, 8144.0, 8144.0, 8144.0, 8144.0, 30000.0, 8144.0, 8144.0, 8144.0, 8144.0, 8144.0, 8144.0, 2000.0, 8144.0, 8144.0, 8144.0, 8144.0, 8144.0, 8144.0, 8144.0, 8144.0, 10000.0, 7000.0, 8144.0, 8144.0, 8144.0, 8144.0, 8144.0, 8144.0, 4400.0, 8144.0, 8144.0, 1100.0, 5250.0, 5000.0, 8144.0, 7000.0, 5700.0, 8144.0, 6000.0, 8144.0, 1.0, 8144.0, 8144.0, 3500.0, 8144.0, 8000.0, 8144.0, 8144.0, 5000.0, 5000.0, 8144.0, 8144.0, 8144.0, 8144.0, 8144.0, 8144.0, 5000.0, 3000.0, 8144.0, 8144.0, 8144.0, 8144.0, 8144.0, 8144.0, 8144.0, 8144.0, 8144.0, 4000.0, 8144.0, 6000.0, 8144.0, 10000.0, 8144.0, 20000.0, 8144.0, 8144.0, 8144.0, 1.0, 8144.0, 8144.0, 8144.0, 7000.0, 8144.0, 800.0, 6000.0, 1.0, 8144.0, 8144.0, 8144.0, 12000.0, 8144.0, 8144.0, 8144.0, 8144.0, 8144.0, 8144.0, 8144.0, 10000.0, 8144.0, 8144.0, 5700.0, 8144.0, 8144.0, 8144.0, 8144.0, 8144.0, 8144.0, 8144.0, 8144.0, 8144.0, 8144.0, 8144.0, 8144.0, 4000.0, 8144.0, 1.0, 8144.0, 8144.0, 10000.0, 20000.0, 3000.0, 8144.0, 8144.0, 8144.0, 8144.0, 8144.0, 8000.0, 8144.0, 8144.0, 8144.0, 8144.0, 6800.0, 8144.0, 8144.0, 4000.0, 8144.0, 8144.0, 8144.0, 8144.0, 6000.0, 1.0, 15000.0, 4000.0, 8144.0, 8144.0, 8144.0, 8144.0, 1500.0, 8144.0, 8144.0, 18000.0, 8144.0, 8144.0, 8144.0, 8144.0, 8144.0, 8144.0, 1.0, 8144.0, 8144.0, 8144.0, 8144.0, 8144.0, 8144.0, 8144.0, 8144.0, 8144.0, 8144.0, 3000.0, 8144.0, 8144.0, 8144.0, 8144.0, 8144.0, 1.0, 8144.0, 10000.0, 8144.0, 8144.0, 5000.0, 8144.0, 8144.0, 8144.0, 8144.0, 8144.0, 8144.0, 8144.0, 8144.0, 8144.0, 8144.0, 8144.0, 8144.0, 8144.0, 8144.0, 8144.0, 8144.0, 8144.0, 5000.0, 8144.0, 8144.0, 8144.0, 3000.0, 150000.0, 8144.0, 8144.0, 8144.0, 8144.0, 8144.0, 3000.0, 9000.0, 8144.0, 6000.0, 3000.0, 8144.0, 8144.0, 8144.0, 8144.0, 5000.0, 8144.0, 1.0, 8144.0, 8144.0, 8144.0, 8144.0, 8144.0, 10000.0, 8144.0, 8144.0, 4000.0, 8144.0, 5200.0, 8144.0, 8144.0, 8144.0, 8144.0, 1.0, 8144.0, 1.0, 8144.0, 8144.0, 8144.0, 1.0, 8144.0, 5000.0, 8144.0, 8144.0, 8144.0, 8144.0, 5000.0, 8144.0, 8144.0, 8144.0, 8144.0, 2000.0, 8144.0, 8144.0, 8144.0, 8144.0, 8144.0, 8144.0, 8144.0, 8144.0, 8144.0, 8144.0, 8144.0, 8144.0, 1.0, 11000.0, 8144.0, 8144.0, 7000.0, 35000.0, 8144.0, 8144.0, 8144.0, 8144.0, 8144.0, 8144.0, 8144.0, 8144.0, 8144.0, 8144.0, 8144.0, 8144.0, 8144.0, 8144.0, 8144.0, 8144.0, 8144.0, 8144.0, 8144.0, 1.0, 8144.0, 1000.0, 8144.0, 8144.0, 8144.0, 45000.0, 7500.0, 8144.0, 5000.0, 8144.0, 8144.0, 8144.0, 8000.0, 8144.0, 20000.0, 8144.0, 5000.0, 8144.0, 8144.0, 7700.0, 8144.0, 8144.0, 8144.0, 8144.0, 6500.0, 9000.0, 8500.0, 8144.0, 8144.0, 8144.0, 8144.0, 8144.0, 11000.0, 1.0, 8144.0, 8000.0, 8144.0, 8144.0, 8144.0, 8144.0, 8144.0, 8144.0, 3000.0, 300.0, 8144.0, 8144.0, 8144.0, 8144.0, 8144.0, 11000.0, 8144.0, 8144.0, 300.0, 8144.0, 8144.0, 19000.0, 8144.0, 8144.0, 11000.0, 8144.0, 8144.0, 8144.0, 8144.0, 8144.0, 8144.0, 8144.0, 8144.0, 8144.0, 8144.0, 7000.0, 8144.0, 8144.0, 5000.0, 8144.0, 8144.0, 8144.0, 500.0, 8144.0, 8144.0, 8144.0, 8144.0, 8144.0, 8144.0, 8144.0, 8144.0, 8144.0, 8144.0, 8144.0, 8144.0, 8144.0, 16000.0, 8144.0, 8144.0, 8144.0, 10000.0, 8144.0, 8144.0, 8144.0, 8144.0, 1500.0, 8144.0, 8144.0, 8144.0, 8144.0, 8144.0, 8144.0, 8144.0, 8144.0, 1300.0, 10000.0, 8144.0, 8144.0, 8144.0, 8144.0, 8000.0, 1000.0, 8144.0, 8144.0, 8000.0, 8144.0, 1.0, 8144.0, 8144.0, 8144.0, 8144.0, 8144.0, 15000.0, 8144.0, 15000.0, 8144.0, 8144.0, 12000.0, 8144.0, 8144.0, 4400.0, 8144.0, 1000.0, 8144.0, 7000.0, 8144.0, 30000.0, 5000.0, 8144.0, 25000.0, 8144.0, 8144.0, 900.0, 8144.0, 8144.0, 8144.0, 8144.0, 11500.0, 10000.0, 8144.0, 8144.0, 8144.0, 8144.0, 8144.0, 8144.0, 8144.0, 8144.0, 8144.0, 8144.0, 8144.0, 8144.0, 7000.0, 5000.0, 9000.0, 8144.0, 8144.0, 50000.0, 5000.0, 8144.0, 8144.0, 4000.0, 8144.0, 1.0, 5000.0, 3000.0, 10850.0, 8144.0, 8144.0, 20000.0, 1.0, 11000.0, 8144.0, 118000.0, 3000.0, 8144.0, 8144.0, 8144.0, 12000.0, 8144.0, 8144.0, 1.0, 8144.0, 6500.0, 25000.0, 8144.0, 12000.0, 8144.0, 8144.0, 8144.0, 8144.0, 8144.0, 8144.0, 1000.0, 8144.0, 3000.0, 8144.0, 3000.0, 8144.0, 8144.0, 8144.0, 8144.0, 8144.0, 8144.0, 8144.0, 4000.0, 1.0, 8144.0, 1.0, 8144.0, 8144.0, 8144.0, 8144.0, 4000.0, 8144.0, 8144.0, 8144.0, 8144.0, 8144.0, 8144.0, 8000.0, 8144.0, 8144.0, 8144.0, 8144.0, 8144.0, 8144.0, 8144.0, 8144.0, 8144.0, 8144.0, 8144.0, 8144.0, 8144.0, 8144.0, 8144.0, 8144.0, 8144.0, 8144.0, 8144.0, 1200.0, 8144.0, 8144.0, 8144.0, 2500.0, 4300.0, 10000.0, 8144.0, 8144.0, 8144.0, 8144.0, 0.0, 0.0, 8144.0, 8144.0, 0.0, 0.0, 0.0, 0.0, 8144.0, 8144.0, 12000.0, 8144.0, 0.0, 8144.0, 8144.0, 8000.0, 8144.0, 8000.0, 8144.0, 8144.0, 0.0, 8144.0, 8144.0, 0.0, 8144.0, 0.0, 8144.0, 8144.0, 5000.0, 0.0, 8144.0, 2200.0, 10000.0, 0.0, 8144.0, 8144.0, 0.0, 0.0, 8144.0, 8144.0, 12000.0, 0.0, 8144.0, 8144.0, 8144.0, 9000.0, 8144.0, 8144.0, 0.0, 8144.0, 4500.0, 0.0, 8144.0, 0.0, 8144.0, 8144.0, 8144.0, 8144.0, 0.0, 8144.0, 5000.0, 8144.0, 6000.0, 8144.0, 0.0, 0.0, 8144.0, 8144.0, 8144.0, 8144.0, 0.0, 8144.0, 8144.0, 8000.0, 2000.0, 12000.0, 8144.0, 8144.0, 8144.0, 8144.0, 3000.0, 0.0, 9000.0, 5000.0, 8144.0]}, {\"name\": \"Yearly stocks one year ago staying in same country\", \"type\": \"box\", \"y\": [8204.476330935251, 8204.476330935251, 8204.476330935251, 8204.476330935251, 8204.476330935251, 8204.476330935251, 8204.476330935251, 8204.476330935251, 8204.476330935251, 8204.476330935251, 8204.476330935251, 8204.476330935251, 8204.476330935251, 8204.476330935251, 8204.476330935251, 8204.476330935251, 8204.476330935251, 8204.476330935251, 8204.476330935251, 8204.476330935251, 8204.476330935251, 8204.476330935251, 8204.476330935251, 8204.476330935251, 8204.476330935251, 8204.476330935251, 8204.476330935251, 8204.476330935251, 8204.476330935251, 8204.476330935251, 8204.476330935251, 8204.476330935251, 8204.476330935251, 8204.476330935251, 8204.476330935251, 8204.476330935251, 8204.476330935251, 8204.476330935251, 8204.476330935251, 8204.476330935251, 8204.476330935251, 8204.476330935251, 10000.0, 8204.476330935251, 8204.476330935251, 8204.476330935251, 8204.476330935251, 8204.476330935251, 8204.476330935251, 8204.476330935251, 8204.476330935251, 8204.476330935251, 8204.476330935251, 8204.476330935251, 8204.476330935251, 8204.476330935251, 8204.476330935251, 8204.476330935251, 8204.476330935251, 8204.476330935251, 8204.476330935251, 8204.476330935251, 8204.476330935251, 8204.476330935251, 8204.476330935251, 8204.476330935251, 8204.476330935251, 8204.476330935251, 1.0, 2000.0, 8204.476330935251, 8204.476330935251, 8204.476330935251, 8204.476330935251, 8204.476330935251, 8204.476330935251, 8204.476330935251, 8204.476330935251, 8204.476330935251, 8204.476330935251, 38.0, 3000.0, 8204.476330935251, 8204.476330935251, 1.0, 8204.476330935251, 8204.476330935251, 8204.476330935251, 8204.476330935251, 8204.476330935251, 8204.476330935251, 8204.476330935251, 18240.0, 8204.476330935251, 8204.476330935251, 8204.476330935251, 8204.476330935251, 8204.476330935251, 8204.476330935251, 8204.476330935251, 8204.476330935251, 8204.476330935251, 8204.476330935251, 8204.476330935251, 8204.476330935251, 8204.476330935251, 8204.476330935251, 8204.476330935251, 8204.476330935251, 8204.476330935251, 8204.476330935251, 8204.476330935251, 8204.476330935251, 8204.476330935251, 8204.476330935251, 8204.476330935251, 8204.476330935251, 8204.476330935251, 8204.476330935251, 8204.476330935251, 8204.476330935251, 8204.476330935251, 8204.476330935251, 8204.476330935251, 8204.476330935251, 8204.476330935251, 8204.476330935251, 8204.476330935251, 8204.476330935251, 0.0, 8204.476330935251, 8204.476330935251, 8204.476330935251, 8204.476330935251, 1.0, 8204.476330935251, 8204.476330935251, 8204.476330935251, 8204.476330935251, 8204.476330935251, 8204.476330935251, 8204.476330935251, 8204.476330935251, 8204.476330935251, 8204.476330935251, 8204.476330935251, 8204.476330935251, 8204.476330935251, 0.0, 0.01, 15000.0, 8204.476330935251, 8204.476330935251, 8204.476330935251, 8204.476330935251, 8204.476330935251, 8204.476330935251, 8204.476330935251, 8204.476330935251, 8204.476330935251, 8204.476330935251, 8204.476330935251, 8204.476330935251, 8204.476330935251, 8204.476330935251, 8204.476330935251, 8204.476330935251, 8204.476330935251, 8204.476330935251, 8204.476330935251, 8204.476330935251, 8204.476330935251, 8204.476330935251, 8204.476330935251, 12000.0, 8204.476330935251, 8204.476330935251, 8204.476330935251, 8204.476330935251, 8204.476330935251, 8204.476330935251, 8204.476330935251, 8204.476330935251, 8204.476330935251, 8204.476330935251, 8204.476330935251, 8204.476330935251, 8204.476330935251, 8204.476330935251, 8204.476330935251, 8204.476330935251, 8204.476330935251, 8204.476330935251, 0.0, 8204.476330935251, 8204.476330935251, 8204.476330935251, 8204.476330935251, 8204.476330935251, 8204.476330935251, 8204.476330935251, 8204.476330935251, 0.0, 8204.476330935251, 8204.476330935251, 1.0, 8204.476330935251, 8204.476330935251, 8204.476330935251, 0.0, 8204.476330935251, 8204.476330935251, 8204.476330935251, 0.0, 8204.476330935251, 8204.476330935251, 800.0, 0.0, 8204.476330935251, 8204.476330935251, 8204.476330935251, 8204.476330935251, 8204.476330935251, 8204.476330935251, 8204.476330935251, 8204.476330935251, 0.0, 8204.476330935251, 8204.476330935251, 8204.476330935251, 8204.476330935251, 8204.476330935251, 8204.476330935251, 8204.476330935251, 8204.476330935251, 8204.476330935251, 8204.476330935251, 8204.476330935251, 8204.476330935251, 8204.476330935251, 8204.476330935251, 8204.476330935251, 8204.476330935251, 8204.476330935251, 8204.476330935251, 8204.476330935251, 8204.476330935251, 8204.476330935251, 8204.476330935251, 8204.476330935251, 8204.476330935251, 8204.476330935251, 8204.476330935251, 8204.476330935251, 8204.476330935251, 8204.476330935251, 8204.476330935251, 8204.476330935251, 8204.476330935251, 8204.476330935251, 8204.476330935251, 0.0, 8204.476330935251, 8204.476330935251, 8204.476330935251, 8204.476330935251, 8204.476330935251, 8204.476330935251, 8204.476330935251, 8204.476330935251, 8204.476330935251, 8204.476330935251, 8204.476330935251, 8204.476330935251, 8204.476330935251, 8204.476330935251, 8204.476330935251, 8204.476330935251, 8204.476330935251, 8204.476330935251, 8204.476330935251, 8204.476330935251, 8204.476330935251, 8204.476330935251, 8204.476330935251, 8204.476330935251, 8204.476330935251, 8204.476330935251, 8204.476330935251, 8204.476330935251, 8204.476330935251, 0.0, 8204.476330935251, 8204.476330935251, 60000.0, 8204.476330935251, 8204.476330935251, 8204.476330935251, 8204.476330935251, 8204.476330935251, 8204.476330935251, 8204.476330935251, 8204.476330935251, 8204.476330935251, 8204.476330935251, 8204.476330935251, 8204.476330935251, 8204.476330935251, 10.0, 8204.476330935251, 8204.476330935251, 8204.476330935251, 8204.476330935251, 8204.476330935251, 8204.476330935251, 8204.476330935251, 8204.476330935251, 8204.476330935251, 8204.476330935251, 3000.0, 8204.476330935251, 0.0, 8204.476330935251, 8204.476330935251, 8204.476330935251, 0.0, 8204.476330935251, 1000.0, 8204.476330935251, 8204.476330935251, 8204.476330935251, 8204.476330935251, 8204.476330935251, 8204.476330935251, 8204.476330935251, 8204.476330935251, 8204.476330935251, 8204.476330935251, 8204.476330935251, 8204.476330935251, 8204.476330935251, 8204.476330935251, 8204.476330935251, 8204.476330935251, 8204.476330935251, 8204.476330935251, 8204.476330935251, 8204.476330935251, 8204.476330935251, 8204.476330935251, 8204.476330935251, 8204.476330935251, 8204.476330935251, 0.0, 0.0, 8204.476330935251, 8204.476330935251, 8204.476330935251, 8204.476330935251, 8204.476330935251, 8204.476330935251, 8204.476330935251, 8204.476330935251, 8204.476330935251, 8204.476330935251, 8204.476330935251, 8204.476330935251, 8204.476330935251, 8204.476330935251, 8204.476330935251, 1800.0, 8204.476330935251, 8204.476330935251, 8204.476330935251, 8204.476330935251, 8204.476330935251, 0.0, 4000.0, 8204.476330935251, 8204.476330935251, 8204.476330935251, 15000.0, 8204.476330935251, 8204.476330935251, 8204.476330935251, 8204.476330935251, 8204.476330935251, 8204.476330935251, 8204.476330935251, 8204.476330935251, 8204.476330935251, 8204.476330935251, 8204.476330935251, 8204.476330935251, 8204.476330935251, 8204.476330935251, 8204.476330935251, 8204.476330935251, 8204.476330935251, 5000.0, 8204.476330935251, 8204.476330935251, 8204.476330935251, 8204.476330935251, 0.0, 8204.476330935251, 8204.476330935251, 8204.476330935251, 8204.476330935251, 8204.476330935251, 8204.476330935251, 8204.476330935251, 8204.476330935251, 8204.476330935251, 8204.476330935251, 1500.0, 8204.476330935251, 8204.476330935251, 8204.476330935251, 1.0, 8204.476330935251, 8204.476330935251, 8204.476330935251, 8204.476330935251, 8204.476330935251, 8204.476330935251, 8204.476330935251, 1.0, 8204.476330935251, 8204.476330935251, 8204.476330935251, 8204.476330935251, 8204.476330935251, 8204.476330935251, 10000.0, 8204.476330935251, 8204.476330935251, 8204.476330935251, 8204.476330935251, 10000.0, 8204.476330935251, 8204.476330935251, 8204.476330935251, 8204.476330935251, 8204.476330935251, 8204.476330935251, 8204.476330935251, 8204.476330935251, 8204.476330935251, 8204.476330935251, 8204.476330935251, 8204.476330935251, 8204.476330935251, 8204.476330935251, 8204.476330935251, 8204.476330935251, 8204.476330935251, 0.0, 8204.476330935251, 8204.476330935251, 5000.0, 1.0, 8204.476330935251, 8204.476330935251, 8204.476330935251, 8204.476330935251, 8204.476330935251, 8204.476330935251, 5000.0, 8204.476330935251, 8204.476330935251, 8204.476330935251, 8204.476330935251, 8204.476330935251, 8204.476330935251, 8204.476330935251, 8204.476330935251, 8204.476330935251, 8204.476330935251, 8204.476330935251, 8204.476330935251, 1.0, 1.0, 10000.0, 0.0, 8204.476330935251, 8204.476330935251, 8204.476330935251, 8204.476330935251, 8204.476330935251, 8204.476330935251, 8204.476330935251, 0.0, 8204.476330935251, 8204.476330935251, 8204.476330935251, 8204.476330935251, 8204.476330935251, 8204.476330935251, 1.0, 8204.476330935251, 8204.476330935251, 0.1, 8204.476330935251, 8204.476330935251, 8204.476330935251, 8204.476330935251, 8204.476330935251, 8204.476330935251, 8204.476330935251, 8204.476330935251, 8204.476330935251, 8204.476330935251, 8204.476330935251, 8204.476330935251, 8204.476330935251, 1.0, 8204.476330935251, 20000.0, 8204.476330935251, 8204.476330935251, 8204.476330935251, 8204.476330935251, 8204.476330935251, 8204.476330935251, 8204.476330935251, 8204.476330935251, 8204.476330935251, 8204.476330935251, 8204.476330935251, 8204.476330935251, 8204.476330935251, 8204.476330935251, 0.0, 8204.476330935251, 8204.476330935251, 8204.476330935251, 8204.476330935251, 8204.476330935251, 8204.476330935251, 8204.476330935251, 8204.476330935251, 8204.476330935251, 8204.476330935251, 8204.476330935251, 8204.476330935251, 8204.476330935251, 10000.0, 8204.476330935251, 8204.476330935251, 8204.476330935251, 10000.0, 8204.476330935251, 0.0, 8204.476330935251, 8204.476330935251, 8204.476330935251, 8204.476330935251, 8204.476330935251, 0.0, 360.0, 1.0, 8204.476330935251, 8204.476330935251, 0.0, 8204.476330935251, 8204.476330935251, 8204.476330935251, 8204.476330935251, 8204.476330935251, 8204.476330935251, 8204.476330935251, 8204.476330935251, 8204.476330935251, 8204.476330935251, 8204.476330935251, 8204.476330935251, 0.0, 8204.476330935251, 0.0, 8204.476330935251, 8204.476330935251, 8204.476330935251, 0.0, 8204.476330935251, 8204.476330935251, 10000.0, 8204.476330935251, 0.0, 8204.476330935251, 8204.476330935251, 0.0, 8204.476330935251, 8204.476330935251, 8204.476330935251, 8204.476330935251, 8204.476330935251, 8204.476330935251, 8204.476330935251, 8204.476330935251, 8204.476330935251, 8204.476330935251, 8204.476330935251, 8204.476330935251, 8204.476330935251, 8204.476330935251, 8204.476330935251, 8204.476330935251, 1.0, 10000.0, 8204.476330935251, 8204.476330935251, 3000.0, 8204.476330935251, 8204.476330935251, 8204.476330935251, 8204.476330935251, 8204.476330935251, 8204.476330935251, 8204.476330935251, 8204.476330935251, 8204.476330935251, 8204.476330935251, 8204.476330935251, 8204.476330935251, 8204.476330935251, 8204.476330935251, 8204.476330935251, 8204.476330935251, 8204.476330935251, 8204.476330935251, 8204.476330935251, 8204.476330935251, 1.0, 8204.476330935251, 8204.476330935251, 8204.476330935251, 8204.476330935251, 8204.476330935251, 8204.476330935251, 8204.476330935251, 520000.0, 8204.476330935251, 8204.476330935251, 8204.476330935251, 8204.476330935251, 8204.476330935251, 8204.476330935251, 8204.476330935251, 8204.476330935251, 8204.476330935251, 8204.476330935251, 8204.476330935251, 8204.476330935251, 8204.476330935251, 8204.476330935251, 8204.476330935251, 8204.476330935251, 8204.476330935251, 2000.0, 8204.476330935251, 8204.476330935251, 8204.476330935251, 8204.476330935251, 8204.476330935251, 8204.476330935251, 8204.476330935251, 0.0, 8204.476330935251, 8204.476330935251, 8204.476330935251, 8204.476330935251, 8204.476330935251, 8204.476330935251, 8204.476330935251, 8204.476330935251, 8204.476330935251, 100.0, 8204.476330935251, 8204.476330935251, 8204.476330935251, 8204.476330935251, 8204.476330935251, 8204.476330935251, 3000.0, 8204.476330935251, 8204.476330935251, 8204.476330935251, 8204.476330935251, 1.0, 8204.476330935251, 8204.476330935251, 37000.0, 8204.476330935251, 8204.476330935251, 8204.476330935251, 0.0, 8204.476330935251, 8204.476330935251, 8204.476330935251, 8204.476330935251, 8204.476330935251, 8204.476330935251, 1.0, 8204.476330935251, 8204.476330935251, 8204.476330935251, 8204.476330935251, 8204.476330935251, 8204.476330935251, 8204.476330935251, 8204.476330935251, 8204.476330935251, 8204.476330935251, 0.0, 8204.476330935251, 8204.476330935251, 8204.476330935251, 8204.476330935251, 8204.476330935251, 8204.476330935251, 8204.476330935251, 8204.476330935251, 8204.476330935251, 8204.476330935251, 8204.476330935251, 8204.476330935251, 8204.476330935251, 8204.476330935251, 8204.476330935251, 8204.476330935251, 8204.476330935251, 8204.476330935251, 8204.476330935251, 8204.476330935251, 8204.476330935251, 8204.476330935251, 8204.476330935251, 8204.476330935251, 8204.476330935251, 8204.476330935251, 8204.476330935251, 8204.476330935251, 20000.0, 8204.476330935251, 8204.476330935251, 5000.0, 8204.476330935251, 5.0, 8204.476330935251, 8204.476330935251, 8204.476330935251, 8204.476330935251, 8204.476330935251, 0.0, 8204.476330935251, 8204.476330935251, 8204.476330935251, 8204.476330935251, 8204.476330935251, 20000.0, 8204.476330935251, 8204.476330935251, 8204.476330935251, 8204.476330935251, 8204.476330935251, 8204.476330935251, 8204.476330935251, 8204.476330935251, 8204.476330935251, 0.0, 8204.476330935251, 15000.0, 8204.476330935251, 8204.476330935251, 8204.476330935251, 8204.476330935251, 25000.0, 8204.476330935251, 8204.476330935251, 8204.476330935251, 8204.476330935251, 8204.476330935251, 8204.476330935251, 8204.476330935251, 0.0, 80000.0, 8204.476330935251, 8204.476330935251, 8204.476330935251, 8204.476330935251, 8204.476330935251, 8204.476330935251, 8204.476330935251, 8204.476330935251, 8204.476330935251, 8204.476330935251, 8204.476330935251, 8204.476330935251, 8204.476330935251, 8204.476330935251, 8204.476330935251, 8204.476330935251, 8204.476330935251, 8204.476330935251, 8204.476330935251, 8204.476330935251, 8204.476330935251, 8204.476330935251, 8204.476330935251, 1.0, 0.0, 8204.476330935251, 8204.476330935251, 8204.476330935251, 8204.476330935251, 0.1, 0.0, 8204.476330935251, 8204.476330935251, 50000.0, 8204.476330935251, 8204.476330935251, 8204.476330935251, 8204.476330935251, 8204.476330935251, 8204.476330935251, 8204.476330935251, 1.0, 8204.476330935251, 8204.476330935251, 8204.476330935251, 8204.476330935251, 20000.0, 8204.476330935251, 8204.476330935251, 8204.476330935251, 8204.476330935251, 8204.476330935251, 8204.476330935251, 8204.476330935251, 0.0, 0.0, 8204.476330935251, 0.0, 8204.476330935251, 0.0, 8204.476330935251, 8204.476330935251, 8204.476330935251, 8204.476330935251, 8204.476330935251, 8204.476330935251, 1.0, 8204.476330935251, 350.0, 8204.476330935251, 8204.476330935251, 8204.476330935251, 6000.0, 8204.476330935251, 8204.476330935251, 8204.476330935251, 8204.476330935251, 8204.476330935251, 8204.476330935251, 8204.476330935251, 8204.476330935251, 8204.476330935251, 1200.0, 8204.476330935251, 8204.476330935251, 8204.476330935251, 8204.476330935251, 8204.476330935251, 8204.476330935251, 8204.476330935251, 8204.476330935251, 8204.476330935251, 8204.476330935251, 8204.476330935251, 8204.476330935251, 8204.476330935251, 8204.476330935251, 8204.476330935251, 8204.476330935251, 8204.476330935251, 8204.476330935251, 8204.476330935251, 8204.476330935251, 8204.476330935251, 8204.476330935251, 8204.476330935251, 0.0, 8204.476330935251, 8204.476330935251, 8204.476330935251, 8204.476330935251, 0.0, 0.0, 8204.476330935251, 8204.476330935251, 0.0, 0.0, 0.0, 0.0, 8204.476330935251, 8204.476330935251, 0.0, 8204.476330935251, 0.0, 8204.476330935251, 8204.476330935251, 0.0, 8204.476330935251, 50000.0, 8204.476330935251, 8204.476330935251, 0.0, 8204.476330935251, 8204.476330935251, 0.0, 8204.476330935251, 0.0, 8204.476330935251, 8204.476330935251, 8204.476330935251, 0.0, 8204.476330935251, 8204.476330935251, 8204.476330935251, 0.0, 8204.476330935251, 8204.476330935251, 0.0, 0.0, 8204.476330935251, 8204.476330935251, 8204.476330935251, 0.0, 8204.476330935251, 8204.476330935251, 8204.476330935251, 8204.476330935251, 8204.476330935251, 8204.476330935251, 0.0, 8204.476330935251, 8204.476330935251, 0.0, 8204.476330935251, 0.0, 8204.476330935251, 8204.476330935251, 8204.476330935251, 8204.476330935251, 0.0, 8204.476330935251, 8204.476330935251, 8204.476330935251, 8204.476330935251, 8204.476330935251, 0.0, 0.0, 8204.476330935251, 8204.476330935251, 8204.476330935251, 8204.476330935251, 0.0, 8204.476330935251, 8204.476330935251, 0.0, 8204.476330935251, 15000.0, 8204.476330935251, 8204.476330935251, 8204.476330935251, 8204.476330935251, 0.0, 0.0, 8204.476330935251, 8204.476330935251, 8204.476330935251]}],\n",
              "                        {\"template\": {\"data\": {\"bar\": [{\"error_x\": {\"color\": \"#2a3f5f\"}, \"error_y\": {\"color\": \"#2a3f5f\"}, \"marker\": {\"line\": {\"color\": \"#E5ECF6\", \"width\": 0.5}}, \"type\": \"bar\"}], \"barpolar\": [{\"marker\": {\"line\": {\"color\": \"#E5ECF6\", \"width\": 0.5}}, \"type\": \"barpolar\"}], \"carpet\": [{\"aaxis\": {\"endlinecolor\": \"#2a3f5f\", \"gridcolor\": \"white\", \"linecolor\": \"white\", \"minorgridcolor\": \"white\", \"startlinecolor\": \"#2a3f5f\"}, \"baxis\": {\"endlinecolor\": \"#2a3f5f\", \"gridcolor\": \"white\", \"linecolor\": \"white\", \"minorgridcolor\": \"white\", \"startlinecolor\": \"#2a3f5f\"}, \"type\": \"carpet\"}], \"choropleth\": [{\"colorbar\": {\"outlinewidth\": 0, \"ticks\": \"\"}, \"type\": \"choropleth\"}], \"contour\": [{\"colorbar\": {\"outlinewidth\": 0, \"ticks\": \"\"}, \"colorscale\": [[0.0, \"#0d0887\"], [0.1111111111111111, \"#46039f\"], [0.2222222222222222, \"#7201a8\"], [0.3333333333333333, \"#9c179e\"], [0.4444444444444444, \"#bd3786\"], [0.5555555555555556, \"#d8576b\"], [0.6666666666666666, \"#ed7953\"], [0.7777777777777778, \"#fb9f3a\"], [0.8888888888888888, \"#fdca26\"], [1.0, \"#f0f921\"]], \"type\": \"contour\"}], \"contourcarpet\": [{\"colorbar\": {\"outlinewidth\": 0, \"ticks\": \"\"}, \"type\": \"contourcarpet\"}], \"heatmap\": [{\"colorbar\": {\"outlinewidth\": 0, \"ticks\": \"\"}, \"colorscale\": [[0.0, \"#0d0887\"], [0.1111111111111111, \"#46039f\"], [0.2222222222222222, \"#7201a8\"], [0.3333333333333333, \"#9c179e\"], [0.4444444444444444, \"#bd3786\"], [0.5555555555555556, \"#d8576b\"], [0.6666666666666666, \"#ed7953\"], [0.7777777777777778, \"#fb9f3a\"], [0.8888888888888888, \"#fdca26\"], [1.0, \"#f0f921\"]], \"type\": \"heatmap\"}], \"heatmapgl\": [{\"colorbar\": {\"outlinewidth\": 0, \"ticks\": \"\"}, \"colorscale\": [[0.0, \"#0d0887\"], [0.1111111111111111, \"#46039f\"], [0.2222222222222222, \"#7201a8\"], [0.3333333333333333, \"#9c179e\"], [0.4444444444444444, \"#bd3786\"], [0.5555555555555556, \"#d8576b\"], [0.6666666666666666, \"#ed7953\"], [0.7777777777777778, \"#fb9f3a\"], [0.8888888888888888, \"#fdca26\"], [1.0, \"#f0f921\"]], \"type\": \"heatmapgl\"}], \"histogram\": [{\"marker\": {\"colorbar\": {\"outlinewidth\": 0, \"ticks\": \"\"}}, \"type\": \"histogram\"}], \"histogram2d\": [{\"colorbar\": {\"outlinewidth\": 0, \"ticks\": \"\"}, \"colorscale\": [[0.0, \"#0d0887\"], [0.1111111111111111, \"#46039f\"], [0.2222222222222222, \"#7201a8\"], [0.3333333333333333, \"#9c179e\"], [0.4444444444444444, \"#bd3786\"], [0.5555555555555556, \"#d8576b\"], [0.6666666666666666, \"#ed7953\"], [0.7777777777777778, \"#fb9f3a\"], [0.8888888888888888, \"#fdca26\"], [1.0, \"#f0f921\"]], \"type\": \"histogram2d\"}], \"histogram2dcontour\": [{\"colorbar\": {\"outlinewidth\": 0, \"ticks\": \"\"}, \"colorscale\": [[0.0, \"#0d0887\"], [0.1111111111111111, \"#46039f\"], [0.2222222222222222, \"#7201a8\"], [0.3333333333333333, \"#9c179e\"], [0.4444444444444444, \"#bd3786\"], [0.5555555555555556, \"#d8576b\"], [0.6666666666666666, \"#ed7953\"], [0.7777777777777778, \"#fb9f3a\"], [0.8888888888888888, \"#fdca26\"], [1.0, \"#f0f921\"]], \"type\": \"histogram2dcontour\"}], \"mesh3d\": [{\"colorbar\": {\"outlinewidth\": 0, \"ticks\": \"\"}, \"type\": \"mesh3d\"}], \"parcoords\": [{\"line\": {\"colorbar\": {\"outlinewidth\": 0, \"ticks\": \"\"}}, \"type\": \"parcoords\"}], \"pie\": [{\"automargin\": true, \"type\": \"pie\"}], \"scatter\": [{\"marker\": {\"colorbar\": {\"outlinewidth\": 0, \"ticks\": \"\"}}, \"type\": \"scatter\"}], \"scatter3d\": [{\"line\": {\"colorbar\": {\"outlinewidth\": 0, \"ticks\": \"\"}}, \"marker\": {\"colorbar\": {\"outlinewidth\": 0, \"ticks\": \"\"}}, \"type\": \"scatter3d\"}], \"scattercarpet\": [{\"marker\": {\"colorbar\": {\"outlinewidth\": 0, \"ticks\": \"\"}}, \"type\": \"scattercarpet\"}], \"scattergeo\": [{\"marker\": {\"colorbar\": {\"outlinewidth\": 0, \"ticks\": \"\"}}, \"type\": \"scattergeo\"}], \"scattergl\": [{\"marker\": {\"colorbar\": {\"outlinewidth\": 0, \"ticks\": \"\"}}, \"type\": \"scattergl\"}], \"scattermapbox\": [{\"marker\": {\"colorbar\": {\"outlinewidth\": 0, \"ticks\": \"\"}}, \"type\": \"scattermapbox\"}], \"scatterpolar\": [{\"marker\": {\"colorbar\": {\"outlinewidth\": 0, \"ticks\": \"\"}}, \"type\": \"scatterpolar\"}], \"scatterpolargl\": [{\"marker\": {\"colorbar\": {\"outlinewidth\": 0, \"ticks\": \"\"}}, \"type\": \"scatterpolargl\"}], \"scatterternary\": [{\"marker\": {\"colorbar\": {\"outlinewidth\": 0, \"ticks\": \"\"}}, \"type\": \"scatterternary\"}], \"surface\": [{\"colorbar\": {\"outlinewidth\": 0, \"ticks\": \"\"}, \"colorscale\": [[0.0, \"#0d0887\"], [0.1111111111111111, \"#46039f\"], [0.2222222222222222, \"#7201a8\"], [0.3333333333333333, \"#9c179e\"], [0.4444444444444444, \"#bd3786\"], [0.5555555555555556, \"#d8576b\"], [0.6666666666666666, \"#ed7953\"], [0.7777777777777778, \"#fb9f3a\"], [0.8888888888888888, \"#fdca26\"], [1.0, \"#f0f921\"]], \"type\": \"surface\"}], \"table\": [{\"cells\": {\"fill\": {\"color\": \"#EBF0F8\"}, \"line\": {\"color\": \"white\"}}, \"header\": {\"fill\": {\"color\": \"#C8D4E3\"}, \"line\": {\"color\": \"white\"}}, \"type\": \"table\"}]}, \"layout\": {\"annotationdefaults\": {\"arrowcolor\": \"#2a3f5f\", \"arrowhead\": 0, \"arrowwidth\": 1}, \"coloraxis\": {\"colorbar\": {\"outlinewidth\": 0, \"ticks\": \"\"}}, \"colorscale\": {\"diverging\": [[0, \"#8e0152\"], [0.1, \"#c51b7d\"], [0.2, \"#de77ae\"], [0.3, \"#f1b6da\"], [0.4, \"#fde0ef\"], [0.5, \"#f7f7f7\"], [0.6, \"#e6f5d0\"], [0.7, \"#b8e186\"], [0.8, \"#7fbc41\"], [0.9, \"#4d9221\"], [1, \"#276419\"]], \"sequential\": [[0.0, \"#0d0887\"], [0.1111111111111111, \"#46039f\"], [0.2222222222222222, \"#7201a8\"], [0.3333333333333333, \"#9c179e\"], [0.4444444444444444, \"#bd3786\"], [0.5555555555555556, \"#d8576b\"], [0.6666666666666666, \"#ed7953\"], [0.7777777777777778, \"#fb9f3a\"], [0.8888888888888888, \"#fdca26\"], [1.0, \"#f0f921\"]], \"sequentialminus\": [[0.0, \"#0d0887\"], [0.1111111111111111, \"#46039f\"], [0.2222222222222222, \"#7201a8\"], [0.3333333333333333, \"#9c179e\"], [0.4444444444444444, \"#bd3786\"], [0.5555555555555556, \"#d8576b\"], [0.6666666666666666, \"#ed7953\"], [0.7777777777777778, \"#fb9f3a\"], [0.8888888888888888, \"#fdca26\"], [1.0, \"#f0f921\"]]}, \"colorway\": [\"#636efa\", \"#EF553B\", \"#00cc96\", \"#ab63fa\", \"#FFA15A\", \"#19d3f3\", \"#FF6692\", \"#B6E880\", \"#FF97FF\", \"#FECB52\"], \"font\": {\"color\": \"#2a3f5f\"}, \"geo\": {\"bgcolor\": \"white\", \"lakecolor\": \"white\", \"landcolor\": \"#E5ECF6\", \"showlakes\": true, \"showland\": true, \"subunitcolor\": \"white\"}, \"hoverlabel\": {\"align\": \"left\"}, \"hovermode\": \"closest\", \"mapbox\": {\"style\": \"light\"}, \"paper_bgcolor\": \"white\", \"plot_bgcolor\": \"#E5ECF6\", \"polar\": {\"angularaxis\": {\"gridcolor\": \"white\", \"linecolor\": \"white\", \"ticks\": \"\"}, \"bgcolor\": \"#E5ECF6\", \"radialaxis\": {\"gridcolor\": \"white\", \"linecolor\": \"white\", \"ticks\": \"\"}}, \"scene\": {\"xaxis\": {\"backgroundcolor\": \"#E5ECF6\", \"gridcolor\": \"white\", \"gridwidth\": 2, \"linecolor\": \"white\", \"showbackground\": true, \"ticks\": \"\", \"zerolinecolor\": \"white\"}, \"yaxis\": {\"backgroundcolor\": \"#E5ECF6\", \"gridcolor\": \"white\", \"gridwidth\": 2, \"linecolor\": \"white\", \"showbackground\": true, \"ticks\": \"\", \"zerolinecolor\": \"white\"}, \"zaxis\": {\"backgroundcolor\": \"#E5ECF6\", \"gridcolor\": \"white\", \"gridwidth\": 2, \"linecolor\": \"white\", \"showbackground\": true, \"ticks\": \"\", \"zerolinecolor\": \"white\"}}, \"shapedefaults\": {\"line\": {\"color\": \"#2a3f5f\"}}, \"ternary\": {\"aaxis\": {\"gridcolor\": \"white\", \"linecolor\": \"white\", \"ticks\": \"\"}, \"baxis\": {\"gridcolor\": \"white\", \"linecolor\": \"white\", \"ticks\": \"\"}, \"bgcolor\": \"#E5ECF6\", \"caxis\": {\"gridcolor\": \"white\", \"linecolor\": \"white\", \"ticks\": \"\"}}, \"title\": {\"x\": 0.05}, \"xaxis\": {\"automargin\": true, \"gridcolor\": \"white\", \"linecolor\": \"white\", \"ticks\": \"\", \"title\": {\"standoff\": 15}, \"zerolinecolor\": \"white\", \"zerolinewidth\": 2}, \"yaxis\": {\"automargin\": true, \"gridcolor\": \"white\", \"linecolor\": \"white\", \"ticks\": \"\", \"title\": {\"standoff\": 15}, \"zerolinecolor\": \"white\", \"zerolinewidth\": 2}}}},\n",
              "                        {\"responsive\": true}\n",
              "                    ).then(function(){\n",
              "                            \n",
              "var gd = document.getElementById('67f5e96c-df04-4588-94ae-9cbe2fcc1b0c');\n",
              "var x = new MutationObserver(function (mutations, observer) {{\n",
              "        var display = window.getComputedStyle(gd).display;\n",
              "        if (!display || display === 'none') {{\n",
              "            console.log([gd, 'removed!']);\n",
              "            Plotly.purge(gd);\n",
              "            observer.disconnect();\n",
              "        }}\n",
              "}});\n",
              "\n",
              "// Listen for the removal of the full notebook cells\n",
              "var notebookContainer = gd.closest('#notebook-container');\n",
              "if (notebookContainer) {{\n",
              "    x.observe(notebookContainer, {childList: true});\n",
              "}}\n",
              "\n",
              "// Listen for the clearing of the current output cell\n",
              "var outputEl = gd.closest('.output');\n",
              "if (outputEl) {{\n",
              "    x.observe(outputEl, {childList: true});\n",
              "}}\n",
              "\n",
              "                        })\n",
              "                };\n",
              "                \n",
              "            </script>\n",
              "        </div>\n",
              "</body>\n",
              "</html>"
            ]
          },
          "metadata": {
            "tags": []
          }
        }
      ]
    },
    {
      "cell_type": "markdown",
      "metadata": {
        "id": "b4X4aIR8l1u4"
      },
      "source": [
        "* The outliers in the 2019 data also make sense since some positions can get high stocks value\n",
        "* Our data is ready for analysis"
      ]
    },
    {
      "cell_type": "code",
      "metadata": {
        "colab": {
          "base_uri": "https://localhost:8080/"
        },
        "id": "1PxDBnhQl1u5",
        "outputId": "66218b73-88b7-434a-8964-f0226838f320"
      },
      "source": [
        "print(\"The final dataset has a shape of:\", data19.shape, \"rows & columns.\")"
      ],
      "execution_count": null,
      "outputs": [
        {
          "output_type": "stream",
          "text": [
            "The final dataset has a shape of: (983, 21) rows & columns.\n"
          ],
          "name": "stdout"
        }
      ]
    },
    {
      "cell_type": "markdown",
      "metadata": {
        "id": "UhnxPMGSvLR-"
      },
      "source": [
        "###Cleaning 2020 data"
      ]
    },
    {
      "cell_type": "code",
      "metadata": {
        "colab": {
          "base_uri": "https://localhost:8080/",
          "height": 474
        },
        "id": "gsOegL34vi19",
        "outputId": "29127dfc-2af8-40d3-aa1c-0e87f71d2bfa"
      },
      "source": [
        "#Viewing our data\n",
        "data20.head(3)"
      ],
      "execution_count": null,
      "outputs": [
        {
          "output_type": "execute_result",
          "data": {
            "text/html": [
              "<div>\n",
              "<style scoped>\n",
              "    .dataframe tbody tr th:only-of-type {\n",
              "        vertical-align: middle;\n",
              "    }\n",
              "\n",
              "    .dataframe tbody tr th {\n",
              "        vertical-align: top;\n",
              "    }\n",
              "\n",
              "    .dataframe thead th {\n",
              "        text-align: right;\n",
              "    }\n",
              "</style>\n",
              "<table border=\"1\" class=\"dataframe\">\n",
              "  <thead>\n",
              "    <tr style=\"text-align: right;\">\n",
              "      <th></th>\n",
              "      <th>Timestamp</th>\n",
              "      <th>Age</th>\n",
              "      <th>Gender</th>\n",
              "      <th>City</th>\n",
              "      <th>Position</th>\n",
              "      <th>Total years of experience</th>\n",
              "      <th>Years of experience in Germany</th>\n",
              "      <th>Seniority level</th>\n",
              "      <th>Your main technology / programming language</th>\n",
              "      <th>Other technologies/programming languages you use often</th>\n",
              "      <th>Yearly brutto salary (without bonus and stocks) in EUR</th>\n",
              "      <th>Yearly bonus + stocks in EUR</th>\n",
              "      <th>Annual brutto salary (without bonus and stocks) one year ago. Only answer if staying in the same country</th>\n",
              "      <th>Annual bonus+stocks one year ago. Only answer if staying in same country</th>\n",
              "      <th>Number of vacation days</th>\n",
              "      <th>Employment status</th>\n",
              "      <th>Сontract duration</th>\n",
              "      <th>Main language at work</th>\n",
              "      <th>Company size</th>\n",
              "      <th>Company type</th>\n",
              "      <th>Have you lost your job due to the coronavirus outbreak?</th>\n",
              "      <th>Have you been forced to have a shorter working week (Kurzarbeit)? If yes, how many hours per week</th>\n",
              "      <th>Have you received additional monetary support from your employer due to Work From Home? If yes, how much in 2020 in EUR</th>\n",
              "    </tr>\n",
              "  </thead>\n",
              "  <tbody>\n",
              "    <tr>\n",
              "      <th>0</th>\n",
              "      <td>24/11/2020 11:14:15</td>\n",
              "      <td>26.0</td>\n",
              "      <td>Male</td>\n",
              "      <td>Munich</td>\n",
              "      <td>Software Engineer</td>\n",
              "      <td>5</td>\n",
              "      <td>3</td>\n",
              "      <td>Senior</td>\n",
              "      <td>TypeScript</td>\n",
              "      <td>Kotlin, Javascript / Typescript</td>\n",
              "      <td>80000.0</td>\n",
              "      <td>5000</td>\n",
              "      <td>75000.0</td>\n",
              "      <td>10000</td>\n",
              "      <td>30</td>\n",
              "      <td>Full-time employee</td>\n",
              "      <td>Unlimited contract</td>\n",
              "      <td>English</td>\n",
              "      <td>51-100</td>\n",
              "      <td>Product</td>\n",
              "      <td>No</td>\n",
              "      <td>NaN</td>\n",
              "      <td>NaN</td>\n",
              "    </tr>\n",
              "    <tr>\n",
              "      <th>1</th>\n",
              "      <td>24/11/2020 11:14:16</td>\n",
              "      <td>26.0</td>\n",
              "      <td>Male</td>\n",
              "      <td>Berlin</td>\n",
              "      <td>Backend Developer</td>\n",
              "      <td>7</td>\n",
              "      <td>4</td>\n",
              "      <td>Senior</td>\n",
              "      <td>Ruby</td>\n",
              "      <td>NaN</td>\n",
              "      <td>80000.0</td>\n",
              "      <td>NaN</td>\n",
              "      <td>82000.0</td>\n",
              "      <td>5000</td>\n",
              "      <td>28</td>\n",
              "      <td>Full-time employee</td>\n",
              "      <td>Unlimited contract</td>\n",
              "      <td>English</td>\n",
              "      <td>101-1000</td>\n",
              "      <td>Product</td>\n",
              "      <td>No</td>\n",
              "      <td>NaN</td>\n",
              "      <td>NaN</td>\n",
              "    </tr>\n",
              "    <tr>\n",
              "      <th>2</th>\n",
              "      <td>24/11/2020 11:14:21</td>\n",
              "      <td>29.0</td>\n",
              "      <td>Male</td>\n",
              "      <td>Berlin</td>\n",
              "      <td>Software Engineer</td>\n",
              "      <td>12</td>\n",
              "      <td>6</td>\n",
              "      <td>Lead</td>\n",
              "      <td>Javascript / Typescript</td>\n",
              "      <td>Javascript / Typescript, Docker</td>\n",
              "      <td>120000.0</td>\n",
              "      <td>120000</td>\n",
              "      <td>100000.0</td>\n",
              "      <td>100000</td>\n",
              "      <td>30</td>\n",
              "      <td>Self-employed (freelancer)</td>\n",
              "      <td>Temporary contract</td>\n",
              "      <td>English</td>\n",
              "      <td>101-1000</td>\n",
              "      <td>Product</td>\n",
              "      <td>Yes</td>\n",
              "      <td>NaN</td>\n",
              "      <td>NaN</td>\n",
              "    </tr>\n",
              "  </tbody>\n",
              "</table>\n",
              "</div>"
            ],
            "text/plain": [
              "             Timestamp  ...  Have you received additional monetary support from your employer due to Work From Home? If yes, how much in 2020 in EUR\n",
              "0  24/11/2020 11:14:15  ...                                                NaN                                                                      \n",
              "1  24/11/2020 11:14:16  ...                                                NaN                                                                      \n",
              "2  24/11/2020 11:14:21  ...                                                NaN                                                                      \n",
              "\n",
              "[3 rows x 23 columns]"
            ]
          },
          "metadata": {
            "tags": []
          },
          "execution_count": 32
        }
      ]
    },
    {
      "cell_type": "code",
      "metadata": {
        "colab": {
          "base_uri": "https://localhost:8080/"
        },
        "id": "737qAEKE09su",
        "outputId": "f3533c12-cd9f-45d7-f6a2-c7beb3e8e5ee"
      },
      "source": [
        "#Our data summary\n",
        "data20.info()\n"
      ],
      "execution_count": null,
      "outputs": [
        {
          "output_type": "stream",
          "text": [
            "<class 'pandas.core.frame.DataFrame'>\n",
            "RangeIndex: 1253 entries, 0 to 1252\n",
            "Data columns (total 23 columns):\n",
            " #   Column                                                                                                                   Non-Null Count  Dtype  \n",
            "---  ------                                                                                                                   --------------  -----  \n",
            " 0   Timestamp                                                                                                                1253 non-null   object \n",
            " 1   Age                                                                                                                      1226 non-null   float64\n",
            " 2   Gender                                                                                                                   1243 non-null   object \n",
            " 3   City                                                                                                                     1253 non-null   object \n",
            " 4   Position                                                                                                                 1247 non-null   object \n",
            " 5   Total years of experience                                                                                                1237 non-null   object \n",
            " 6   Years of experience in Germany                                                                                           1221 non-null   object \n",
            " 7   Seniority level                                                                                                          1241 non-null   object \n",
            " 8   Your main technology / programming language                                                                              1126 non-null   object \n",
            " 9   Other technologies/programming languages you use often                                                                   1096 non-null   object \n",
            " 10  Yearly brutto salary (without bonus and stocks) in EUR                                                                   1253 non-null   float64\n",
            " 11  Yearly bonus + stocks in EUR                                                                                             829 non-null    object \n",
            " 12  Annual brutto salary (without bonus and stocks) one year ago. Only answer if staying in the same country                 885 non-null    float64\n",
            " 13  Annual bonus+stocks one year ago. Only answer if staying in same country                                                 614 non-null    object \n",
            " 14  Number of vacation days                                                                                                  1185 non-null   object \n",
            " 15  Employment status                                                                                                        1236 non-null   object \n",
            " 16  Сontract duration                                                                                                        1224 non-null   object \n",
            " 17  Main language at work                                                                                                    1237 non-null   object \n",
            " 18  Company size                                                                                                             1235 non-null   object \n",
            " 19  Company type                                                                                                             1228 non-null   object \n",
            " 20  Have you lost your job due to the coronavirus outbreak?                                                                  1233 non-null   object \n",
            " 21  Have you been forced to have a shorter working week (Kurzarbeit)? If yes, how many hours per week                        373 non-null    float64\n",
            " 22  Have you received additional monetary support from your employer due to Work From Home? If yes, how much in 2020 in EUR  462 non-null    object \n",
            "dtypes: float64(4), object(19)\n",
            "memory usage: 225.3+ KB\n"
          ],
          "name": "stdout"
        }
      ]
    },
    {
      "cell_type": "markdown",
      "metadata": {
        "id": "1rx3ZQat1dsl"
      },
      "source": [
        "This data has also been incremented comparedto the 2019 data."
      ]
    },
    {
      "cell_type": "code",
      "metadata": {
        "id": "SG2oVWGAvYuQ"
      },
      "source": [
        "#Selecting columns to be used for analysis\n",
        "data20 = data20[['Age', 'Gender', 'City', 'Position ',\n",
        "       'Total years of experience', 'Years of experience in Germany',\n",
        "       'Seniority level', 'Your main technology / programming language',\n",
        "       'Other technologies/programming languages you use often',\n",
        "       'Yearly brutto salary (without bonus and stocks) in EUR',\n",
        "       'Yearly bonus + stocks in EUR',\n",
        "       'Annual brutto salary (without bonus and stocks) one year ago. Only answer if staying in the same country',\n",
        "       'Annual bonus+stocks one year ago. Only answer if staying in same country',\n",
        "       'Number of vacation days', 'Employment status', 'Сontract duration',\n",
        "       'Main language at work', 'Company size', 'Company type',\n",
        "       'Have you lost your job due to the coronavirus outbreak?',\n",
        "       'Have you been forced to have a shorter working week (Kurzarbeit)? If yes, how many hours per week',\n",
        "       'Have you received additional monetary support from your employer due to Work From Home? If yes, how much in 2020 in EUR']]"
      ],
      "execution_count": null,
      "outputs": []
    },
    {
      "cell_type": "code",
      "metadata": {
        "id": "B9_W9C2n12rn"
      },
      "source": [
        "#Let's rename a couple of columns\n",
        "data20.rename(columns={\"Have you been forced to have a shorter working week (Kurzarbeit)? If yes, how many hours per week\": \"Forced to have a shorter working week? If yes, how many hours per week\",\n",
        "                       \"Have you received additional monetary support from your employer due to Work From Home? If yes, how much in 2020 in EUR\": \"Received support from your employer due to Work From Home? If yes, how much in 2020 in EUR\",\n",
        "                       \"Have you lost your job due to the coronavirus outbreak?\":\"Lost job due to the coronavirus?\",\n",
        "                       \"Annual brutto salary (without bonus and stocks) one year ago. Only answer if staying in the same country\":\"Annual brutto salary one year ago. Answer if staying in the same country\",\n",
        "                       \"Position \":\"Position\"}, inplace=True)"
      ],
      "execution_count": null,
      "outputs": []
    },
    {
      "cell_type": "code",
      "metadata": {
        "colab": {
          "base_uri": "https://localhost:8080/"
        },
        "id": "EDuJinKIvYuX",
        "outputId": "f6ec760f-6612-43e3-c27a-5898beea3072"
      },
      "source": [
        "#Checking for missing values\n",
        "nulls20 = data20.isnull().sum().sort_values(ascending=False)\n",
        "nulls20"
      ],
      "execution_count": null,
      "outputs": [
        {
          "output_type": "execute_result",
          "data": {
            "text/plain": [
              "Forced to have a shorter working week? If yes, how many hours per week                        880\n",
              "Received support from your employer due to Work From Home? If yes, how much in 2020 in EUR    791\n",
              "Annual bonus+stocks one year ago. Only answer if staying in same country                      639\n",
              "Yearly bonus + stocks in EUR                                                                  424\n",
              "Annual brutto salary one year ago. Answer if staying in the same country                      368\n",
              "Other technologies/programming languages you use often                                        157\n",
              "Your main technology / programming language                                                   127\n",
              "Number of vacation days                                                                        68\n",
              "Years of experience in Germany                                                                 32\n",
              "Сontract duration                                                                              29\n",
              "Age                                                                                            27\n",
              "Company type                                                                                   25\n",
              "Lost job due to the coronavirus?                                                               20\n",
              "Company size                                                                                   18\n",
              "Employment status                                                                              17\n",
              "Main language at work                                                                          16\n",
              "Total years of experience                                                                      16\n",
              "Seniority level                                                                                12\n",
              "Gender                                                                                         10\n",
              "Position                                                                                        6\n",
              "Yearly brutto salary (without bonus and stocks) in EUR                                          0\n",
              "City                                                                                            0\n",
              "dtype: int64"
            ]
          },
          "metadata": {
            "tags": []
          },
          "execution_count": 36
        }
      ]
    },
    {
      "cell_type": "code",
      "metadata": {
        "colab": {
          "base_uri": "https://localhost:8080/",
          "height": 542
        },
        "id": "ISTAC_fKvYuY",
        "outputId": "314ea6a8-7a93-4a60-e0cc-ced3ac93c54a"
      },
      "source": [
        "#Visualizing the missing values\n",
        "\n",
        "fig = go.Figure(\n",
        "   data=[\n",
        "       go.Bar(\n",
        "           x=data20.isnull().columns,\n",
        "           y=nulls20.head(10)\n",
        "       )\n",
        "   ],\n",
        "   layout=go.Layout(\n",
        "       title=\"Missing values in 2020 data\"\n",
        "   )\n",
        ")\n",
        "iplot(fig)"
      ],
      "execution_count": null,
      "outputs": [
        {
          "output_type": "display_data",
          "data": {
            "text/html": [
              "<html>\n",
              "<head><meta charset=\"utf-8\" /></head>\n",
              "<body>\n",
              "    <div>\n",
              "            <script src=\"https://cdnjs.cloudflare.com/ajax/libs/mathjax/2.7.5/MathJax.js?config=TeX-AMS-MML_SVG\"></script><script type=\"text/javascript\">if (window.MathJax) {MathJax.Hub.Config({SVG: {font: \"STIX-Web\"}});}</script>\n",
              "                <script type=\"text/javascript\">window.PlotlyConfig = {MathJaxConfig: 'local'};</script>\n",
              "        <script src=\"https://cdn.plot.ly/plotly-latest.min.js\"></script>    \n",
              "            <div id=\"6f77c277-17d0-45bb-91cb-3f128a977468\" class=\"plotly-graph-div\" style=\"height:525px; width:100%;\"></div>\n",
              "            <script type=\"text/javascript\">\n",
              "                \n",
              "                    window.PLOTLYENV=window.PLOTLYENV || {};\n",
              "                    \n",
              "                if (document.getElementById(\"6f77c277-17d0-45bb-91cb-3f128a977468\")) {\n",
              "                    Plotly.newPlot(\n",
              "                        '6f77c277-17d0-45bb-91cb-3f128a977468',\n",
              "                        [{\"type\": \"bar\", \"x\": [\"Age\", \"Gender\", \"City\", \"Position\", \"Total years of experience\", \"Years of experience in Germany\", \"Seniority level\", \"Your main technology / programming language\", \"Other technologies/programming languages you use often\", \"Yearly brutto salary (without bonus and stocks) in EUR\", \"Yearly bonus + stocks in EUR\", \"Annual brutto salary one year ago. Answer if staying in the same country\", \"Annual bonus+stocks one year ago. Only answer if staying in same country\", \"Number of vacation days\", \"Employment status\", \"\\u0421ontract duration\", \"Main language at work\", \"Company size\", \"Company type\", \"Lost job due to the coronavirus?\", \"Forced to have a shorter working week? If yes, how many hours per week\", \"Received support from your employer due to Work From Home? If yes, how much in 2020 in EUR\"], \"y\": [880, 791, 639, 424, 368, 157, 127, 68, 32, 29]}],\n",
              "                        {\"template\": {\"data\": {\"bar\": [{\"error_x\": {\"color\": \"#2a3f5f\"}, \"error_y\": {\"color\": \"#2a3f5f\"}, \"marker\": {\"line\": {\"color\": \"#E5ECF6\", \"width\": 0.5}}, \"type\": \"bar\"}], \"barpolar\": [{\"marker\": {\"line\": {\"color\": \"#E5ECF6\", \"width\": 0.5}}, \"type\": \"barpolar\"}], \"carpet\": [{\"aaxis\": {\"endlinecolor\": \"#2a3f5f\", \"gridcolor\": \"white\", \"linecolor\": \"white\", \"minorgridcolor\": \"white\", \"startlinecolor\": \"#2a3f5f\"}, \"baxis\": {\"endlinecolor\": \"#2a3f5f\", \"gridcolor\": \"white\", \"linecolor\": \"white\", \"minorgridcolor\": \"white\", \"startlinecolor\": \"#2a3f5f\"}, \"type\": \"carpet\"}], \"choropleth\": [{\"colorbar\": {\"outlinewidth\": 0, \"ticks\": \"\"}, \"type\": \"choropleth\"}], \"contour\": [{\"colorbar\": {\"outlinewidth\": 0, \"ticks\": \"\"}, \"colorscale\": [[0.0, \"#0d0887\"], [0.1111111111111111, \"#46039f\"], [0.2222222222222222, \"#7201a8\"], [0.3333333333333333, \"#9c179e\"], [0.4444444444444444, \"#bd3786\"], [0.5555555555555556, \"#d8576b\"], [0.6666666666666666, \"#ed7953\"], [0.7777777777777778, \"#fb9f3a\"], [0.8888888888888888, \"#fdca26\"], [1.0, \"#f0f921\"]], \"type\": \"contour\"}], \"contourcarpet\": [{\"colorbar\": {\"outlinewidth\": 0, \"ticks\": \"\"}, \"type\": \"contourcarpet\"}], \"heatmap\": [{\"colorbar\": {\"outlinewidth\": 0, \"ticks\": \"\"}, \"colorscale\": [[0.0, \"#0d0887\"], [0.1111111111111111, \"#46039f\"], [0.2222222222222222, \"#7201a8\"], [0.3333333333333333, \"#9c179e\"], [0.4444444444444444, \"#bd3786\"], [0.5555555555555556, \"#d8576b\"], [0.6666666666666666, \"#ed7953\"], [0.7777777777777778, \"#fb9f3a\"], [0.8888888888888888, \"#fdca26\"], [1.0, \"#f0f921\"]], \"type\": \"heatmap\"}], \"heatmapgl\": [{\"colorbar\": {\"outlinewidth\": 0, \"ticks\": \"\"}, \"colorscale\": [[0.0, \"#0d0887\"], [0.1111111111111111, \"#46039f\"], [0.2222222222222222, \"#7201a8\"], [0.3333333333333333, \"#9c179e\"], [0.4444444444444444, \"#bd3786\"], [0.5555555555555556, \"#d8576b\"], [0.6666666666666666, \"#ed7953\"], [0.7777777777777778, \"#fb9f3a\"], [0.8888888888888888, \"#fdca26\"], [1.0, \"#f0f921\"]], \"type\": \"heatmapgl\"}], \"histogram\": [{\"marker\": {\"colorbar\": {\"outlinewidth\": 0, \"ticks\": \"\"}}, \"type\": \"histogram\"}], \"histogram2d\": [{\"colorbar\": {\"outlinewidth\": 0, \"ticks\": \"\"}, \"colorscale\": [[0.0, \"#0d0887\"], [0.1111111111111111, \"#46039f\"], [0.2222222222222222, \"#7201a8\"], [0.3333333333333333, \"#9c179e\"], [0.4444444444444444, \"#bd3786\"], [0.5555555555555556, \"#d8576b\"], [0.6666666666666666, \"#ed7953\"], [0.7777777777777778, \"#fb9f3a\"], [0.8888888888888888, \"#fdca26\"], [1.0, \"#f0f921\"]], \"type\": \"histogram2d\"}], \"histogram2dcontour\": [{\"colorbar\": {\"outlinewidth\": 0, \"ticks\": \"\"}, \"colorscale\": [[0.0, \"#0d0887\"], [0.1111111111111111, \"#46039f\"], [0.2222222222222222, \"#7201a8\"], [0.3333333333333333, \"#9c179e\"], [0.4444444444444444, \"#bd3786\"], [0.5555555555555556, \"#d8576b\"], [0.6666666666666666, \"#ed7953\"], [0.7777777777777778, \"#fb9f3a\"], [0.8888888888888888, \"#fdca26\"], [1.0, \"#f0f921\"]], \"type\": \"histogram2dcontour\"}], \"mesh3d\": [{\"colorbar\": {\"outlinewidth\": 0, \"ticks\": \"\"}, \"type\": \"mesh3d\"}], \"parcoords\": [{\"line\": {\"colorbar\": {\"outlinewidth\": 0, \"ticks\": \"\"}}, \"type\": \"parcoords\"}], \"pie\": [{\"automargin\": true, \"type\": \"pie\"}], \"scatter\": [{\"marker\": {\"colorbar\": {\"outlinewidth\": 0, \"ticks\": \"\"}}, \"type\": \"scatter\"}], \"scatter3d\": [{\"line\": {\"colorbar\": {\"outlinewidth\": 0, \"ticks\": \"\"}}, \"marker\": {\"colorbar\": {\"outlinewidth\": 0, \"ticks\": \"\"}}, \"type\": \"scatter3d\"}], \"scattercarpet\": [{\"marker\": {\"colorbar\": {\"outlinewidth\": 0, \"ticks\": \"\"}}, \"type\": \"scattercarpet\"}], \"scattergeo\": [{\"marker\": {\"colorbar\": {\"outlinewidth\": 0, \"ticks\": \"\"}}, \"type\": \"scattergeo\"}], \"scattergl\": [{\"marker\": {\"colorbar\": {\"outlinewidth\": 0, \"ticks\": \"\"}}, \"type\": \"scattergl\"}], \"scattermapbox\": [{\"marker\": {\"colorbar\": {\"outlinewidth\": 0, \"ticks\": \"\"}}, \"type\": \"scattermapbox\"}], \"scatterpolar\": [{\"marker\": {\"colorbar\": {\"outlinewidth\": 0, \"ticks\": \"\"}}, \"type\": \"scatterpolar\"}], \"scatterpolargl\": [{\"marker\": {\"colorbar\": {\"outlinewidth\": 0, \"ticks\": \"\"}}, \"type\": \"scatterpolargl\"}], \"scatterternary\": [{\"marker\": {\"colorbar\": {\"outlinewidth\": 0, \"ticks\": \"\"}}, \"type\": \"scatterternary\"}], \"surface\": [{\"colorbar\": {\"outlinewidth\": 0, \"ticks\": \"\"}, \"colorscale\": [[0.0, \"#0d0887\"], [0.1111111111111111, \"#46039f\"], [0.2222222222222222, \"#7201a8\"], [0.3333333333333333, \"#9c179e\"], [0.4444444444444444, \"#bd3786\"], [0.5555555555555556, \"#d8576b\"], [0.6666666666666666, \"#ed7953\"], [0.7777777777777778, \"#fb9f3a\"], [0.8888888888888888, \"#fdca26\"], [1.0, \"#f0f921\"]], \"type\": \"surface\"}], \"table\": [{\"cells\": {\"fill\": {\"color\": \"#EBF0F8\"}, \"line\": {\"color\": \"white\"}}, \"header\": {\"fill\": {\"color\": \"#C8D4E3\"}, \"line\": {\"color\": \"white\"}}, \"type\": \"table\"}]}, \"layout\": {\"annotationdefaults\": {\"arrowcolor\": \"#2a3f5f\", \"arrowhead\": 0, \"arrowwidth\": 1}, \"coloraxis\": {\"colorbar\": {\"outlinewidth\": 0, \"ticks\": \"\"}}, \"colorscale\": {\"diverging\": [[0, \"#8e0152\"], [0.1, \"#c51b7d\"], [0.2, \"#de77ae\"], [0.3, \"#f1b6da\"], [0.4, \"#fde0ef\"], [0.5, \"#f7f7f7\"], [0.6, \"#e6f5d0\"], [0.7, \"#b8e186\"], [0.8, \"#7fbc41\"], [0.9, \"#4d9221\"], [1, \"#276419\"]], \"sequential\": [[0.0, \"#0d0887\"], [0.1111111111111111, \"#46039f\"], [0.2222222222222222, \"#7201a8\"], [0.3333333333333333, \"#9c179e\"], [0.4444444444444444, \"#bd3786\"], [0.5555555555555556, \"#d8576b\"], [0.6666666666666666, \"#ed7953\"], [0.7777777777777778, \"#fb9f3a\"], [0.8888888888888888, \"#fdca26\"], [1.0, \"#f0f921\"]], \"sequentialminus\": [[0.0, \"#0d0887\"], [0.1111111111111111, \"#46039f\"], [0.2222222222222222, \"#7201a8\"], [0.3333333333333333, \"#9c179e\"], [0.4444444444444444, \"#bd3786\"], [0.5555555555555556, \"#d8576b\"], [0.6666666666666666, \"#ed7953\"], [0.7777777777777778, \"#fb9f3a\"], [0.8888888888888888, \"#fdca26\"], [1.0, \"#f0f921\"]]}, \"colorway\": [\"#636efa\", \"#EF553B\", \"#00cc96\", \"#ab63fa\", \"#FFA15A\", \"#19d3f3\", \"#FF6692\", \"#B6E880\", \"#FF97FF\", \"#FECB52\"], \"font\": {\"color\": \"#2a3f5f\"}, \"geo\": {\"bgcolor\": \"white\", \"lakecolor\": \"white\", \"landcolor\": \"#E5ECF6\", \"showlakes\": true, \"showland\": true, \"subunitcolor\": \"white\"}, \"hoverlabel\": {\"align\": \"left\"}, \"hovermode\": \"closest\", \"mapbox\": {\"style\": \"light\"}, \"paper_bgcolor\": \"white\", \"plot_bgcolor\": \"#E5ECF6\", \"polar\": {\"angularaxis\": {\"gridcolor\": \"white\", \"linecolor\": \"white\", \"ticks\": \"\"}, \"bgcolor\": \"#E5ECF6\", \"radialaxis\": {\"gridcolor\": \"white\", \"linecolor\": \"white\", \"ticks\": \"\"}}, \"scene\": {\"xaxis\": {\"backgroundcolor\": \"#E5ECF6\", \"gridcolor\": \"white\", \"gridwidth\": 2, \"linecolor\": \"white\", \"showbackground\": true, \"ticks\": \"\", \"zerolinecolor\": \"white\"}, \"yaxis\": {\"backgroundcolor\": \"#E5ECF6\", \"gridcolor\": \"white\", \"gridwidth\": 2, \"linecolor\": \"white\", \"showbackground\": true, \"ticks\": \"\", \"zerolinecolor\": \"white\"}, \"zaxis\": {\"backgroundcolor\": \"#E5ECF6\", \"gridcolor\": \"white\", \"gridwidth\": 2, \"linecolor\": \"white\", \"showbackground\": true, \"ticks\": \"\", \"zerolinecolor\": \"white\"}}, \"shapedefaults\": {\"line\": {\"color\": \"#2a3f5f\"}}, \"ternary\": {\"aaxis\": {\"gridcolor\": \"white\", \"linecolor\": \"white\", \"ticks\": \"\"}, \"baxis\": {\"gridcolor\": \"white\", \"linecolor\": \"white\", \"ticks\": \"\"}, \"bgcolor\": \"#E5ECF6\", \"caxis\": {\"gridcolor\": \"white\", \"linecolor\": \"white\", \"ticks\": \"\"}}, \"title\": {\"x\": 0.05}, \"xaxis\": {\"automargin\": true, \"gridcolor\": \"white\", \"linecolor\": \"white\", \"ticks\": \"\", \"title\": {\"standoff\": 15}, \"zerolinecolor\": \"white\", \"zerolinewidth\": 2}, \"yaxis\": {\"automargin\": true, \"gridcolor\": \"white\", \"linecolor\": \"white\", \"ticks\": \"\", \"title\": {\"standoff\": 15}, \"zerolinecolor\": \"white\", \"zerolinewidth\": 2}}}, \"title\": {\"text\": \"Missing values in 2020 data\"}},\n",
              "                        {\"responsive\": true}\n",
              "                    ).then(function(){\n",
              "                            \n",
              "var gd = document.getElementById('6f77c277-17d0-45bb-91cb-3f128a977468');\n",
              "var x = new MutationObserver(function (mutations, observer) {{\n",
              "        var display = window.getComputedStyle(gd).display;\n",
              "        if (!display || display === 'none') {{\n",
              "            console.log([gd, 'removed!']);\n",
              "            Plotly.purge(gd);\n",
              "            observer.disconnect();\n",
              "        }}\n",
              "}});\n",
              "\n",
              "// Listen for the removal of the full notebook cells\n",
              "var notebookContainer = gd.closest('#notebook-container');\n",
              "if (notebookContainer) {{\n",
              "    x.observe(notebookContainer, {childList: true});\n",
              "}}\n",
              "\n",
              "// Listen for the clearing of the current output cell\n",
              "var outputEl = gd.closest('.output');\n",
              "if (outputEl) {{\n",
              "    x.observe(outputEl, {childList: true});\n",
              "}}\n",
              "\n",
              "                        })\n",
              "                };\n",
              "                \n",
              "            </script>\n",
              "        </div>\n",
              "</body>\n",
              "</html>"
            ]
          },
          "metadata": {
            "tags": []
          }
        }
      ]
    },
    {
      "cell_type": "code",
      "metadata": {
        "id": "8SIai5b_vYua"
      },
      "source": [
        "#Imputing missing 2020 data\n",
        "data20['Position'].fillna(data20['Position'].mode()[0], inplace=True)\n",
        "data20['Gender'].fillna(data20['Gender'].mode()[0], inplace=True)\n",
        "data20['Seniority level'].fillna(data20['Seniority level'].mode()[0], inplace=True)\n",
        "data20['Total years of experience'].fillna(data20['Total years of experience'].mode()[0], inplace=True)\n",
        "data20['Main language at work'].fillna(data20['Main language at work'].mode()[0], inplace=True)\n",
        "data20['Employment status'].fillna(data20['Employment status'].mode()[0], inplace=True)\n",
        "data20['Company size'].fillna(data20['Company size'].mode()[0], inplace=True)\n",
        "data20['Lost job due to the coronavirus?'].fillna(data20['Lost job due to the coronavirus?'].mode()[0], inplace=True)\n",
        "data20['Company type'].fillna(data20['Company type'].mode()[0], inplace=True)\n",
        "data20['Age'].fillna(data20['Age'].mean(), inplace=True)\n",
        "data20['Сontract duration'].fillna(data20['Сontract duration'].mode()[0], inplace=True)\n",
        "data20['Forced to have a shorter working week? If yes, how many hours per week'].fillna(data20['Forced to have a shorter working week? If yes, how many hours per week'].mean(), inplace=True)\n",
        "data20['Number of vacation days'].fillna(data20['Number of vacation days'].mode()[0], inplace=True)\n",
        "data20['Received support from your employer due to Work From Home? If yes, how much in 2020 in EUR'].fillna(data20['Received support from your employer due to Work From Home? If yes, how much in 2020 in EUR'].mode()[0], inplace=True)\n",
        "data20['Annual brutto salary one year ago. Answer if staying in the same country'].fillna(data20['Annual brutto salary one year ago. Answer if staying in the same country'].mean(), inplace=True)\n",
        "data20['Yearly bonus + stocks in EUR'].fillna(data20['Yearly bonus + stocks in EUR'].mode()[0], inplace=True)\n",
        "data20['Annual bonus+stocks one year ago. Only answer if staying in same country'].fillna(data20['Annual bonus+stocks one year ago. Only answer if staying in same country'].mode()[0], inplace=True)\n",
        "data20['Other technologies/programming languages you use often'].fillna(data20['Other technologies/programming languages you use often'].mode()[0], inplace=True)\n",
        "data20['Your main technology / programming language'].fillna(data20['Your main technology / programming language'].mode()[0], inplace= True)\n",
        "data20['Years of experience in Germany'].fillna(data20['Years of experience in Germany'].mode()[0], inplace=True)\n",
        "\n"
      ],
      "execution_count": null,
      "outputs": []
    },
    {
      "cell_type": "code",
      "metadata": {
        "id": "RJZErLQ1vYuc"
      },
      "source": [
        "#Let's deal with duplicated data\n",
        "\n",
        "data20.duplicated().sum()\n",
        "data20.drop_duplicates(inplace=True)"
      ],
      "execution_count": null,
      "outputs": []
    },
    {
      "cell_type": "code",
      "metadata": {
        "colab": {
          "base_uri": "https://localhost:8080/",
          "height": 304
        },
        "id": "iKl2HeaWvYuc",
        "outputId": "5bb4f519-7eb5-4106-9c7f-f520896f375d"
      },
      "source": [
        "#Let's see the descriptive statistics of the 2018 data\n",
        "data20.describe()"
      ],
      "execution_count": null,
      "outputs": [
        {
          "output_type": "execute_result",
          "data": {
            "text/html": [
              "<div>\n",
              "<style scoped>\n",
              "    .dataframe tbody tr th:only-of-type {\n",
              "        vertical-align: middle;\n",
              "    }\n",
              "\n",
              "    .dataframe tbody tr th {\n",
              "        vertical-align: top;\n",
              "    }\n",
              "\n",
              "    .dataframe thead th {\n",
              "        text-align: right;\n",
              "    }\n",
              "</style>\n",
              "<table border=\"1\" class=\"dataframe\">\n",
              "  <thead>\n",
              "    <tr style=\"text-align: right;\">\n",
              "      <th></th>\n",
              "      <th>Age</th>\n",
              "      <th>Yearly brutto salary (without bonus and stocks) in EUR</th>\n",
              "      <th>Annual brutto salary one year ago. Answer if staying in the same country</th>\n",
              "      <th>Forced to have a shorter working week? If yes, how many hours per week</th>\n",
              "    </tr>\n",
              "  </thead>\n",
              "  <tbody>\n",
              "    <tr>\n",
              "      <th>count</th>\n",
              "      <td>1237.000000</td>\n",
              "      <td>1.237000e+03</td>\n",
              "      <td>1.237000e+03</td>\n",
              "      <td>1237.000000</td>\n",
              "    </tr>\n",
              "    <tr>\n",
              "      <th>mean</th>\n",
              "      <td>32.484854</td>\n",
              "      <td>8.131650e+07</td>\n",
              "      <td>6.354680e+05</td>\n",
              "      <td>12.962900</td>\n",
              "    </tr>\n",
              "    <tr>\n",
              "      <th>std</th>\n",
              "      <td>5.585190</td>\n",
              "      <td>2.843273e+09</td>\n",
              "      <td>1.421201e+07</td>\n",
              "      <td>8.362571</td>\n",
              "    </tr>\n",
              "    <tr>\n",
              "      <th>min</th>\n",
              "      <td>20.000000</td>\n",
              "      <td>1.000100e+04</td>\n",
              "      <td>1.100000e+04</td>\n",
              "      <td>0.000000</td>\n",
              "    </tr>\n",
              "    <tr>\n",
              "      <th>25%</th>\n",
              "      <td>29.000000</td>\n",
              "      <td>5.880000e+04</td>\n",
              "      <td>6.000000e+04</td>\n",
              "      <td>12.967828</td>\n",
              "    </tr>\n",
              "    <tr>\n",
              "      <th>50%</th>\n",
              "      <td>32.000000</td>\n",
              "      <td>7.000000e+04</td>\n",
              "      <td>7.500000e+04</td>\n",
              "      <td>12.967828</td>\n",
              "    </tr>\n",
              "    <tr>\n",
              "      <th>75%</th>\n",
              "      <td>35.000000</td>\n",
              "      <td>8.000000e+04</td>\n",
              "      <td>6.322459e+05</td>\n",
              "      <td>12.967828</td>\n",
              "    </tr>\n",
              "    <tr>\n",
              "      <th>max</th>\n",
              "      <td>69.000000</td>\n",
              "      <td>1.000000e+11</td>\n",
              "      <td>5.000000e+08</td>\n",
              "      <td>40.000000</td>\n",
              "    </tr>\n",
              "  </tbody>\n",
              "</table>\n",
              "</div>"
            ],
            "text/plain": [
              "               Age  ...  Forced to have a shorter working week? If yes, how many hours per week\n",
              "count  1237.000000  ...                                        1237.000000                     \n",
              "mean     32.484854  ...                                          12.962900                     \n",
              "std       5.585190  ...                                           8.362571                     \n",
              "min      20.000000  ...                                           0.000000                     \n",
              "25%      29.000000  ...                                          12.967828                     \n",
              "50%      32.000000  ...                                          12.967828                     \n",
              "75%      35.000000  ...                                          12.967828                     \n",
              "max      69.000000  ...                                          40.000000                     \n",
              "\n",
              "[8 rows x 4 columns]"
            ]
          },
          "metadata": {
            "tags": []
          },
          "execution_count": 40
        }
      ]
    },
    {
      "cell_type": "code",
      "metadata": {
        "colab": {
          "base_uri": "https://localhost:8080/"
        },
        "id": "5YlWUpMuvYue",
        "outputId": "b18a2c24-0d57-4416-f29c-d081c650339b"
      },
      "source": [
        "#Checking for outliers using the interquartile range\n",
        "Q1 = data20.quantile(0.25)\n",
        "Q3 = data20.quantile(0.75)\n",
        "IQR20 = Q3 - Q1\n",
        "IQR20\n"
      ],
      "execution_count": null,
      "outputs": [
        {
          "output_type": "execute_result",
          "data": {
            "text/plain": [
              "Age                                                                              6.000000\n",
              "Yearly brutto salary (without bonus and stocks) in EUR                       21200.000000\n",
              "Annual brutto salary one year ago. Answer if staying in the same country    572245.872316\n",
              "Forced to have a shorter working week? If yes, how many hours per week           0.000000\n",
              "dtype: float64"
            ]
          },
          "metadata": {
            "tags": []
          },
          "execution_count": 41
        }
      ]
    },
    {
      "cell_type": "markdown",
      "metadata": {
        "id": "IFOuHugAvYui"
      },
      "source": [
        "* The outliers in the 2020 data also make sense since some positions can get high stocks value\n",
        "* Our data is ready for analysis"
      ]
    },
    {
      "cell_type": "code",
      "metadata": {
        "colab": {
          "base_uri": "https://localhost:8080/"
        },
        "id": "uDA5Mjl-vYuj",
        "outputId": "5147d1d6-40bb-4de1-b520-54a47f121369"
      },
      "source": [
        "print(\"The final dataset has a shape of:\", data20.shape, \"rows & columns.\")"
      ],
      "execution_count": null,
      "outputs": [
        {
          "output_type": "stream",
          "text": [
            "The final dataset has a shape of: (1237, 22) rows & columns.\n"
          ],
          "name": "stdout"
        }
      ]
    },
    {
      "cell_type": "markdown",
      "metadata": {
        "id": "Bfin9S4pACEA"
      },
      "source": [
        "## Task 3: Data Analysis\n",
        "\n",
        "\n",
        "\n",
        "* Display all the unique values and their frequency in the column - “Number of vacation days” of 2020 data. Write down your observations (at least one) for this result. \n"
      ]
    },
    {
      "cell_type": "markdown",
      "metadata": {
        "id": "qOrYfSTQ_l-H"
      },
      "source": [
        " \n",
        "\n",
        "1. Display the first 5 rows of the 2018 survey data"
      ]
    },
    {
      "cell_type": "code",
      "metadata": {
        "colab": {
          "base_uri": "https://localhost:8080/",
          "height": 264
        },
        "id": "RxxJQ27l_myF",
        "outputId": "f9705ac8-f024-4ce5-e6df-450cc7e034dc"
      },
      "source": [
        "data18.head()"
      ],
      "execution_count": null,
      "outputs": [
        {
          "output_type": "execute_result",
          "data": {
            "text/html": [
              "<div>\n",
              "<style scoped>\n",
              "    .dataframe tbody tr th:only-of-type {\n",
              "        vertical-align: middle;\n",
              "    }\n",
              "\n",
              "    .dataframe tbody tr th {\n",
              "        vertical-align: top;\n",
              "    }\n",
              "\n",
              "    .dataframe thead th {\n",
              "        text-align: right;\n",
              "    }\n",
              "</style>\n",
              "<table border=\"1\" class=\"dataframe\">\n",
              "  <thead>\n",
              "    <tr style=\"text-align: right;\">\n",
              "      <th></th>\n",
              "      <th>Age</th>\n",
              "      <th>Gender</th>\n",
              "      <th>City</th>\n",
              "      <th>Position</th>\n",
              "      <th>Years of experience</th>\n",
              "      <th>Your level</th>\n",
              "      <th>Current Salary</th>\n",
              "      <th>Salary one year ago</th>\n",
              "      <th>Salary two years ago</th>\n",
              "      <th>Are you getting any Stock Options?</th>\n",
              "      <th>Main language at work</th>\n",
              "      <th>Company size</th>\n",
              "      <th>Company type</th>\n",
              "    </tr>\n",
              "  </thead>\n",
              "  <tbody>\n",
              "    <tr>\n",
              "      <th>0</th>\n",
              "      <td>43.0</td>\n",
              "      <td>M</td>\n",
              "      <td>München</td>\n",
              "      <td>QA Ingenieur</td>\n",
              "      <td>11.0</td>\n",
              "      <td>Senior</td>\n",
              "      <td>77000.0</td>\n",
              "      <td>76200.0</td>\n",
              "      <td>68000.0</td>\n",
              "      <td>No</td>\n",
              "      <td>Deutsch</td>\n",
              "      <td>100-1000</td>\n",
              "      <td>Product</td>\n",
              "    </tr>\n",
              "    <tr>\n",
              "      <th>1</th>\n",
              "      <td>33.0</td>\n",
              "      <td>F</td>\n",
              "      <td>München</td>\n",
              "      <td>Senior PHP Magento developer</td>\n",
              "      <td>8.0</td>\n",
              "      <td>Senior</td>\n",
              "      <td>65000.0</td>\n",
              "      <td>55000.0</td>\n",
              "      <td>55000.0</td>\n",
              "      <td>No</td>\n",
              "      <td>Deutsch</td>\n",
              "      <td>50-100</td>\n",
              "      <td>Product</td>\n",
              "    </tr>\n",
              "    <tr>\n",
              "      <th>2</th>\n",
              "      <td>32.0</td>\n",
              "      <td>M</td>\n",
              "      <td>München</td>\n",
              "      <td>Software Engineer</td>\n",
              "      <td>10.0</td>\n",
              "      <td>Senior</td>\n",
              "      <td>88000.0</td>\n",
              "      <td>73000.0</td>\n",
              "      <td>54000.0</td>\n",
              "      <td>No</td>\n",
              "      <td>Deutsch</td>\n",
              "      <td>1000+</td>\n",
              "      <td>Product</td>\n",
              "    </tr>\n",
              "    <tr>\n",
              "      <th>3</th>\n",
              "      <td>25.0</td>\n",
              "      <td>M</td>\n",
              "      <td>München</td>\n",
              "      <td>Senior Frontend Developer</td>\n",
              "      <td>6.0</td>\n",
              "      <td>Senior</td>\n",
              "      <td>78000.0</td>\n",
              "      <td>55000.0</td>\n",
              "      <td>45000.0</td>\n",
              "      <td>Yes</td>\n",
              "      <td>English</td>\n",
              "      <td>1000+</td>\n",
              "      <td>Product</td>\n",
              "    </tr>\n",
              "    <tr>\n",
              "      <th>4</th>\n",
              "      <td>39.0</td>\n",
              "      <td>M</td>\n",
              "      <td>München</td>\n",
              "      <td>UX Designer</td>\n",
              "      <td>10.0</td>\n",
              "      <td>Senior</td>\n",
              "      <td>69000.0</td>\n",
              "      <td>60000.0</td>\n",
              "      <td>52000.0</td>\n",
              "      <td>No</td>\n",
              "      <td>English</td>\n",
              "      <td>100-1000</td>\n",
              "      <td>Ecom retailer</td>\n",
              "    </tr>\n",
              "  </tbody>\n",
              "</table>\n",
              "</div>"
            ],
            "text/plain": [
              "    Age Gender     City  ... Main language at work  Company size   Company type\n",
              "0  43.0      M  München  ...               Deutsch      100-1000        Product\n",
              "1  33.0      F  München  ...               Deutsch        50-100        Product\n",
              "2  32.0      M  München  ...               Deutsch         1000+        Product\n",
              "3  25.0      M  München  ...               English         1000+        Product\n",
              "4  39.0      M  München  ...               English      100-1000  Ecom retailer\n",
              "\n",
              "[5 rows x 13 columns]"
            ]
          },
          "metadata": {
            "tags": []
          },
          "execution_count": 43
        }
      ]
    },
    {
      "cell_type": "markdown",
      "metadata": {
        "id": "nSEmFnFP_vf6"
      },
      "source": [
        "2. Display a concise summary of the 2020 data and list out 3 observations/inferences that you observe from the result. "
      ]
    },
    {
      "cell_type": "code",
      "metadata": {
        "colab": {
          "base_uri": "https://localhost:8080/"
        },
        "id": "FB89Loga_wVh",
        "outputId": "3098989c-c4b5-4855-b597-f095d119abc1"
      },
      "source": [
        "data20.info()\n",
        "#The 2020 data has 1237 rows and 22 columns\n",
        "#It has 2 categories od data types: 4 floats, 18 Objects.\n",
        "#No missing calues"
      ],
      "execution_count": null,
      "outputs": [
        {
          "output_type": "stream",
          "text": [
            "<class 'pandas.core.frame.DataFrame'>\n",
            "Int64Index: 1237 entries, 0 to 1252\n",
            "Data columns (total 22 columns):\n",
            " #   Column                                                                                      Non-Null Count  Dtype  \n",
            "---  ------                                                                                      --------------  -----  \n",
            " 0   Age                                                                                         1237 non-null   float64\n",
            " 1   Gender                                                                                      1237 non-null   object \n",
            " 2   City                                                                                        1237 non-null   object \n",
            " 3   Position                                                                                    1237 non-null   object \n",
            " 4   Total years of experience                                                                   1237 non-null   object \n",
            " 5   Years of experience in Germany                                                              1237 non-null   object \n",
            " 6   Seniority level                                                                             1237 non-null   object \n",
            " 7   Your main technology / programming language                                                 1237 non-null   object \n",
            " 8   Other technologies/programming languages you use often                                      1237 non-null   object \n",
            " 9   Yearly brutto salary (without bonus and stocks) in EUR                                      1237 non-null   float64\n",
            " 10  Yearly bonus + stocks in EUR                                                                1237 non-null   object \n",
            " 11  Annual brutto salary one year ago. Answer if staying in the same country                    1237 non-null   float64\n",
            " 12  Annual bonus+stocks one year ago. Only answer if staying in same country                    1237 non-null   object \n",
            " 13  Number of vacation days                                                                     1237 non-null   object \n",
            " 14  Employment status                                                                           1237 non-null   object \n",
            " 15  Сontract duration                                                                           1237 non-null   object \n",
            " 16  Main language at work                                                                       1237 non-null   object \n",
            " 17  Company size                                                                                1237 non-null   object \n",
            " 18  Company type                                                                                1237 non-null   object \n",
            " 19  Lost job due to the coronavirus?                                                            1237 non-null   object \n",
            " 20  Forced to have a shorter working week? If yes, how many hours per week                      1237 non-null   float64\n",
            " 21  Received support from your employer due to Work From Home? If yes, how much in 2020 in EUR  1237 non-null   object \n",
            "dtypes: float64(4), object(18)\n",
            "memory usage: 222.3+ KB\n"
          ],
          "name": "stdout"
        }
      ]
    },
    {
      "cell_type": "markdown",
      "metadata": {
        "id": "p1B_2RTwA9iM"
      },
      "source": [
        "3. Display the descriptive statistics of the 2018 survey data"
      ]
    },
    {
      "cell_type": "code",
      "metadata": {
        "colab": {
          "base_uri": "https://localhost:8080/",
          "height": 287
        },
        "id": "Fr5zjmNtIsIA",
        "outputId": "4e4916c1-088e-4361-c209-6e60d0c8ef12"
      },
      "source": [
        "#Display the descriptive statistics of the 2018 survey data\n",
        "data18.describe()"
      ],
      "execution_count": null,
      "outputs": [
        {
          "output_type": "execute_result",
          "data": {
            "text/html": [
              "<div>\n",
              "<style scoped>\n",
              "    .dataframe tbody tr th:only-of-type {\n",
              "        vertical-align: middle;\n",
              "    }\n",
              "\n",
              "    .dataframe tbody tr th {\n",
              "        vertical-align: top;\n",
              "    }\n",
              "\n",
              "    .dataframe thead th {\n",
              "        text-align: right;\n",
              "    }\n",
              "</style>\n",
              "<table border=\"1\" class=\"dataframe\">\n",
              "  <thead>\n",
              "    <tr style=\"text-align: right;\">\n",
              "      <th></th>\n",
              "      <th>Age</th>\n",
              "      <th>Years of experience</th>\n",
              "      <th>Current Salary</th>\n",
              "      <th>Salary one year ago</th>\n",
              "      <th>Salary two years ago</th>\n",
              "    </tr>\n",
              "  </thead>\n",
              "  <tbody>\n",
              "    <tr>\n",
              "      <th>count</th>\n",
              "      <td>744.000000</td>\n",
              "      <td>744.000000</td>\n",
              "      <td>744.000000</td>\n",
              "      <td>744.000000</td>\n",
              "      <td>744.000000</td>\n",
              "    </tr>\n",
              "    <tr>\n",
              "      <th>mean</th>\n",
              "      <td>32.192822</td>\n",
              "      <td>8.567229</td>\n",
              "      <td>68434.770559</td>\n",
              "      <td>62256.916897</td>\n",
              "      <td>58059.228422</td>\n",
              "    </tr>\n",
              "    <tr>\n",
              "      <th>std</th>\n",
              "      <td>4.841496</td>\n",
              "      <td>4.667647</td>\n",
              "      <td>21169.265484</td>\n",
              "      <td>17899.577720</td>\n",
              "      <td>16077.599970</td>\n",
              "    </tr>\n",
              "    <tr>\n",
              "      <th>min</th>\n",
              "      <td>21.000000</td>\n",
              "      <td>0.000000</td>\n",
              "      <td>10300.000000</td>\n",
              "      <td>10001.000000</td>\n",
              "      <td>10001.000000</td>\n",
              "    </tr>\n",
              "    <tr>\n",
              "      <th>25%</th>\n",
              "      <td>30.000000</td>\n",
              "      <td>5.000000</td>\n",
              "      <td>57000.000000</td>\n",
              "      <td>55000.000000</td>\n",
              "      <td>54000.000000</td>\n",
              "    </tr>\n",
              "    <tr>\n",
              "      <th>50%</th>\n",
              "      <td>32.000000</td>\n",
              "      <td>8.000000</td>\n",
              "      <td>65000.000000</td>\n",
              "      <td>62187.278523</td>\n",
              "      <td>58013.475162</td>\n",
              "    </tr>\n",
              "    <tr>\n",
              "      <th>75%</th>\n",
              "      <td>34.000000</td>\n",
              "      <td>11.000000</td>\n",
              "      <td>75000.000000</td>\n",
              "      <td>68000.000000</td>\n",
              "      <td>60000.000000</td>\n",
              "    </tr>\n",
              "    <tr>\n",
              "      <th>max</th>\n",
              "      <td>60.000000</td>\n",
              "      <td>38.000000</td>\n",
              "      <td>200000.000000</td>\n",
              "      <td>200000.000000</td>\n",
              "      <td>150000.000000</td>\n",
              "    </tr>\n",
              "  </tbody>\n",
              "</table>\n",
              "</div>"
            ],
            "text/plain": [
              "              Age  ...  Salary two years ago\n",
              "count  744.000000  ...            744.000000\n",
              "mean    32.192822  ...          58059.228422\n",
              "std      4.841496  ...          16077.599970\n",
              "min     21.000000  ...          10001.000000\n",
              "25%     30.000000  ...          54000.000000\n",
              "50%     32.000000  ...          58013.475162\n",
              "75%     34.000000  ...          60000.000000\n",
              "max     60.000000  ...         150000.000000\n",
              "\n",
              "[8 rows x 5 columns]"
            ]
          },
          "metadata": {
            "tags": []
          },
          "execution_count": 45
        }
      ]
    },
    {
      "cell_type": "code",
      "metadata": {
        "colab": {
          "base_uri": "https://localhost:8080/"
        },
        "id": "XYPWwtK9IsIC",
        "outputId": "bdebdbe7-f99f-49cc-c1f7-c881abd6f3ea"
      },
      "source": [
        "#How many people responded to the survey in each of the 3 years? Has the number increased or decreased over the years?\n",
        "print(\"2018:\", len(data18))\n",
        "print(\"2019:\", len(data19))\n",
        "print(\"2020:\", len(data20))\n",
        "\n",
        "#The number hasincreased over the years"
      ],
      "execution_count": null,
      "outputs": [
        {
          "output_type": "stream",
          "text": [
            "2018: 744\n",
            "2019: 983\n",
            "2020: 1237\n"
          ],
          "name": "stdout"
        }
      ]
    },
    {
      "cell_type": "code",
      "metadata": {
        "colab": {
          "base_uri": "https://localhost:8080/"
        },
        "id": "3arYzR4hIsID",
        "outputId": "ef342726-3e3e-44cc-b0df-2409d9a890c0"
      },
      "source": [
        "#Display all the unique values and their frequency in the column - “Number of vacation days” of 2020 data. Write down your observations (at least one) for this result.\n",
        "print(\"The unique values and their frequency in theNumber of vacation days column:\",\"\\n\", data20['Number of vacation days'].value_counts())\n",
        "print(\"*\"*10)\n",
        "print(\"Total number of unique values is:\", data20['Number of vacation days'].nunique())"
      ],
      "execution_count": null,
      "outputs": [
        {
          "output_type": "stream",
          "text": [
            "The unique values and their frequency in theNumber of vacation days column: \n",
            " 30                                              544\n",
            "28                                              231\n",
            "27                                              101\n",
            "25                                               91\n",
            "26                                               71\n",
            "24                                               66\n",
            "29                                               24\n",
            "20                                               13\n",
            "21                                               10\n",
            "32                                                8\n",
            "31                                                8\n",
            "22                                                8\n",
            "35                                                5\n",
            "36                                                5\n",
            "40                                                4\n",
            "23                                                4\n",
            "0                                                 4\n",
            "45                                                3\n",
            "33                                                3\n",
            "14                                                3\n",
            "unlimited                                         3\n",
            "unlimited                                         2\n",
            "Unlimited                                         2\n",
            "12                                                2\n",
            "15                                                2\n",
            "1                                                 1\n",
            "60                                                1\n",
            "38                                                1\n",
            "34                                                1\n",
            "37.5                                              1\n",
            "39                                                1\n",
            "3                                                 1\n",
            "~25                                               1\n",
            "365                                               1\n",
            "24 labour days                                    1\n",
            "10                                                1\n",
            "5                                                 1\n",
            "23+                                               1\n",
            "99                                                1\n",
            "50                                                1\n",
            "30 in contract (but theoretically unlimited)      1\n",
            "37                                                1\n",
            "16                                                1\n",
            "(no idea)                                         1\n",
            "Unlimited                                         1\n",
            "Name: Number of vacation days, dtype: int64\n",
            "**********\n",
            "Total number of unique values is: 45\n"
          ],
          "name": "stdout"
        }
      ]
    },
    {
      "cell_type": "markdown",
      "metadata": {
        "id": "s8RT70fOCb_T"
      },
      "source": [
        "## Task 4: Data Visualization using Plotly\n"
      ]
    },
    {
      "cell_type": "markdown",
      "metadata": {
        "id": "7RsdDfXWDIcF"
      },
      "source": [
        "1. Create a pie chart to analyze the Company types in the year 2019"
      ]
    },
    {
      "cell_type": "code",
      "metadata": {
        "colab": {
          "base_uri": "https://localhost:8080/",
          "height": 542
        },
        "id": "iKwH2n5rNwge",
        "outputId": "e07bd84a-a58d-4d93-fe76-e4ecac1e9b6c"
      },
      "source": [
        "#Creating  a pie chart\n",
        "\n",
        "fig = px.pie(data19,names='Company type', hole=0.3) #customize it to a donut shape instead of a pie using the hole parameter\n",
        "fig.update_traces(textinfo=\"label+percent\", insidetextfont= dict(color=\"white\")) #Changing the label & colour of the labels\n",
        "#fig.update_layout(legend = {\"itemclick\": False}) #Changing what happens on clicking on a legend\n",
        "fig.show()"
      ],
      "execution_count": null,
      "outputs": [
        {
          "output_type": "display_data",
          "data": {
            "text/html": [
              "<html>\n",
              "<head><meta charset=\"utf-8\" /></head>\n",
              "<body>\n",
              "    <div>\n",
              "            <script src=\"https://cdnjs.cloudflare.com/ajax/libs/mathjax/2.7.5/MathJax.js?config=TeX-AMS-MML_SVG\"></script><script type=\"text/javascript\">if (window.MathJax) {MathJax.Hub.Config({SVG: {font: \"STIX-Web\"}});}</script>\n",
              "                <script type=\"text/javascript\">window.PlotlyConfig = {MathJaxConfig: 'local'};</script>\n",
              "        <script src=\"https://cdn.plot.ly/plotly-latest.min.js\"></script>    \n",
              "            <div id=\"3f2f203b-0ba7-46dd-baa0-be12f23bf4cb\" class=\"plotly-graph-div\" style=\"height:525px; width:100%;\"></div>\n",
              "            <script type=\"text/javascript\">\n",
              "                \n",
              "                    window.PLOTLYENV=window.PLOTLYENV || {};\n",
              "                    \n",
              "                if (document.getElementById(\"3f2f203b-0ba7-46dd-baa0-be12f23bf4cb\")) {\n",
              "                    Plotly.newPlot(\n",
              "                        '3f2f203b-0ba7-46dd-baa0-be12f23bf4cb',\n",
              "                        [{\"domain\": {\"x\": [0.0, 1.0], \"y\": [0.0, 1.0]}, \"hole\": 0.3, \"hoverlabel\": {\"namelength\": 0}, \"hovertemplate\": \"Company type=%{label}\", \"insidetextfont\": {\"color\": \"white\"}, \"labels\": [\"Startup\", \"Product\", \"Startup\", \"Product\", \"Product\", \"Product\", \"Startup\", \"Product\", \"Product\", \"Product\", \"Startup\", \"Product\", \"Startup\", \"Product\", \"Startup\", \"Startup\", \"Product\", \"Product\", \"Product\", \"Product\", \"Startup\", \"Product\", \"Product\", \"Product\", \"Product\", \"Product\", \"Product\", \"Consulting / Agency\", \"Product\", \"Product\", \"Product\", \"Consulting / Agency\", \"Startup\", \"Product\", \"Product\", \"Product\", \"Product\", \"Startup\", \"Product\", \"Product\", \"Startup\", \"Product\", \"Product\", \"Startup\", \"Startup\", \"Product\", \"Product\", \"Consulting / Agency\", \"Startup\", \"Product\", \"Startup\", \"Consulting / Agency\", \"Startup\", \"Startup\", \"Product\", \"Consulting / Agency\", \"Product\", \"Startup\", \"Startup\", \"Startup\", \"Product\", \"Product\", \"Product\", \"Product\", \"Startup\", \"Product\", \"Product\", \"Startup\", \"Consulting / Agency\", \"Product\", \"Product\", \"Consulting / Agency\", \"Product\", \"Product\", \"Startup\", \"Product\", \"Product\", \"Product\", \"Product\", \"Product\", \"Startup\", \"Product\", \"Product\", \"Product\", \"Consulting / Agency\", \"Product\", \"Startup\", \"Product\", \"Product\", \"Product\", \"Startup\", \"Consulting / Agency\", \"Product\", \"Startup\", \"Product\", \"Startup\", \"Product\", \"Product\", \"Product\", \"Product\", \"Product\", \"Consulting / Agency\", \"Startup\", \"Product\", \"Consulting / Agency\", \"Startup\", \"Product\", \"Product\", \"Consulting / Agency\", \"Product\", \"Product\", \"Consulting / Agency\", \"Startup\", \"Startup\", \"Consulting / Agency\", \"Product\", \"Product\", \"Bodyshop / Outsource\", \"Product\", \"Product\", \"Product\", \"Product\", \"Product\", \"Product\", \"Product\", \"Consulting / Agency\", \"Product\", \"Product\", \"Product\", \"Product\", \"Product\", \"Bodyshop / Outsource\", \"Startup\", \"Product\", \"Consulting / Agency\", \"Bodyshop / Outsource\", \"Consulting / Agency\", \"Product\", \"Product\", \"Consulting / Agency\", \"Product\", \"Product\", \"Startup\", \"Product\", \"Product\", \"Product\", \"Product\", \"Product\", \"Product\", \"Consulting / Agency\", \"Product\", \"Product\", \"Product\", \"Product\", \"Product\", \"Product\", \"Product\", \"Product\", \"Product\", \"Product\", \"Product\", \"Consulting / Agency\", \"Startup\", \"Product\", \"Product\", \"Consulting / Agency\", \"Product\", \"Product\", \"Startup\", \"Startup\", \"Product\", \"Product\", \"Product\", \"Product\", \"Product\", \"Product\", \"Product\", \"Product\", \"Product\", \"Consulting / Agency\", \"Product\", \"Product\", \"Consulting / Agency\", \"Product\", \"Consulting / Agency\", \"Product\", \"Product\", \"Product\", \"Product\", \"Product\", \"Product\", \"Product\", \"Product\", \"Product\", \"Product\", \"Consulting / Agency\", \"Product\", \"Product\", \"Startup\", \"Product\", \"Consulting / Agency\", \"Product\", \"Product\", \"Product\", \"Consulting / Agency\", \"Product\", \"Product\", \"Product\", \"Product\", \"Product\", \"Product\", \"Product\", \"Product\", \"Product\", \"Product\", \"Product\", \"Product\", \"Product\", \"Product\", \"Product\", \"Product\", \"Product\", \"Startup\", \"Product\", \"Bodyshop / Outsource\", \"Product\", \"Startup\", \"Consulting / Agency\", \"Product\", \"Consulting / Agency\", \"Product\", \"Bodyshop / Outsource\", \"Product\", \"Startup\", \"Startup\", \"Consulting / Agency\", \"Startup\", \"Product\", \"Product\", \"Bodyshop / Outsource\", \"Product\", \"Startup\", \"Product\", \"Product\", \"Consulting / Agency\", \"Product\", \"Product\", \"Product\", \"Product\", \"Product\", \"Product\", \"Product\", \"Product\", \"Product\", \"Product\", \"Startup\", \"Product\", \"Product\", \"Product\", \"Startup\", \"Startup\", \"Product\", \"Product\", \"Product\", \"Product\", \"Startup\", \"Product\", \"Startup\", \"Bodyshop / Outsource\", \"Product\", \"Consulting / Agency\", \"Product\", \"Product\", \"Consulting / Agency\", \"Product\", \"Startup\", \"Product\", \"Product\", \"Product\", \"Product\", \"Product\", \"Product\", \"Product\", \"Product\", \"Startup\", \"Product\", \"Product\", \"Product\", \"Startup\", \"Product\", \"Product\", \"Product\", \"Consulting / Agency\", \"Bodyshop / Outsource\", \"Product\", \"Product\", \"Product\", \"Consulting / Agency\", \"Product\", \"Product\", \"Product\", \"Product\", \"Product\", \"Startup\", \"Product\", \"Product\", \"Product\", \"Startup\", \"Consulting / Agency\", \"Startup\", \"Product\", \"Product\", \"Product\", \"Startup\", \"Product\", \"Product\", \"Startup\", \"Product\", \"Product\", \"Product\", \"Product\", \"Product\", \"Product\", \"Product\", \"Startup\", \"Product\", \"Product\", \"Product\", \"Consulting / Agency\", \"Product\", \"Product\", \"Product\", \"Startup\", \"Startup\", \"Product\", \"Product\", \"Product\", \"Product\", \"Product\", \"Product\", \"Product\", \"Product\", \"Product\", \"Product\", \"Startup\", \"Product\", \"Bodyshop / Outsource\", \"Product\", \"Startup\", \"Product\", \"Product\", \"Product\", \"Product\", \"Consulting / Agency\", \"Product\", \"Product\", \"Product\", \"Product\", \"Product\", \"Startup\", \"Startup\", \"Product\", \"Product\", \"Product\", \"Product\", \"Product\", \"Startup\", \"Product\", \"Product\", \"Startup\", \"Product\", \"Consulting / Agency\", \"Startup\", \"Consulting / Agency\", \"Product\", \"Product\", \"Product\", \"Bodyshop / Outsource\", \"Product\", \"Bodyshop / Outsource\", \"Product\", \"Startup\", \"Product\", \"Product\", \"Startup\", \"Product\", \"Startup\", \"Startup\", \"Product\", \"Startup\", \"Product\", \"Product\", \"Product\", \"Product\", \"Product\", \"Product\", \"Consulting / Agency\", \"Startup\", \"Product\", \"Product\", \"Product\", \"Product\", \"Product\", \"Startup\", \"Consulting / Agency\", \"Product\", \"Product\", \"Startup\", \"Product\", \"Product\", \"Product\", \"Product\", \"Product\", \"Product\", \"Product\", \"Product\", \"Startup\", \"Product\", \"Startup\", \"Consulting / Agency\", \"Consulting / Agency\", \"Product\", \"Product\", \"Consulting / Agency\", \"Consulting / Agency\", \"Consulting / Agency\", \"Product\", \"Product\", \"Startup\", \"Product\", \"Product\", \"Product\", \"Bodyshop / Outsource\", \"Product\", \"Product\", \"Consulting / Agency\", \"Startup\", \"Product\", \"Startup\", \"Startup\", \"Startup\", \"Consulting / Agency\", \"Consulting / Agency\", \"Product\", \"Product\", \"Product\", \"Startup\", \"Product\", \"Startup\", \"Startup\", \"Startup\", \"Product\", \"Consulting / Agency\", \"Consulting / Agency\", \"Startup\", \"Product\", \"Product\", \"Product\", \"University\", \"Bodyshop / Outsource\", \"Product\", \"Product\", \"Product\", \"Startup\", \"Product\", \"Bodyshop / Outsource\", \"Product\", \"Product\", \"Product\", \"Product\", \"Consulting / Agency\", \"Startup\", \"Product\", \"Product\", \"Product\", \"Product\", \"Consulting / Agency\", \"Startup\", \"Product\", \"Startup\", \"Product\", \"Product\", \"Product\", \"Product\", \"Product\", \"Startup\", \"Product\", \"Product\", \"Startup\", \"Consulting / Agency\", \"Product\", \"Product\", \"Consulting / Agency\", \"Product\", \"Product\", \"Product\", \"Product\", \"Product\", \"Startup\", \"Consulting / Agency\", \"Startup\", \"Consulting / Agency\", \"Product\", \"Product\", \"Startup\", \"Product\", \"Product\", \"Product\", \"Startup\", \"Product\", \"Consulting / Agency\", \"Startup\", \"Consulting / Agency\", \"Consulting / Agency\", \"Consulting / Agency\", \"Product\", \"Product\", \"Startup\", \"Product\", \"Product\", \"Startup\", \"Product\", \"Product\", \"Startup\", \"Consulting / Agency\", \"Product\", \"Product\", \"Product\", \"Product\", \"Startup\", \"Startup\", \"Consulting / Agency\", \"Product\", \"Product\", \"Startup\", \"Product\", \"Product\", \"Product\", \"Startup\", \"Startup\", \"Product\", \"Product\", \"Startup\", \"Product\", \"Product\", \"Product\", \"Product\", \"Product\", \"Startup\", \"Product\", \"Product\", \"Product\", \"Product\", \"Product\", \"Product\", \"Product\", \"Product\", \"Product\", \"Product\", \"Startup\", \"Product\", \"Product\", \"Startup\", \"Bodyshop / Outsource\", \"Startup\", \"Consulting / Agency\", \"Startup\", \"Product\", \"Product\", \"Product\", \"Startup\", \"Product\", \"Consulting / Agency\", \"Product\", \"Product\", \"Product\", \"Consulting / Agency\", \"Startup\", \"Product\", \"Startup\", \"Consulting / Agency\", \"Startup\", \"Product\", \"Product\", \"Product\", \"Consulting / Agency\", \"Product\", \"Product\", \"Product\", \"Consulting / Agency\", \"Consulting / Agency\", \"Product\", \"Product\", \"Product\", \"Product\", \"Product\", \"Consulting / Agency\", \"Product\", \"Product\", \"Consulting / Agency\", \"Product\", \"Product\", \"Product\", \"Startup\", \"Product\", \"Product\", \"Consulting / Agency\", \"Product\", \"Product\", \"Product\", \"Product\", \"Product\", \"Product\", \"Product\", \"Product\", \"Product\", \"Product\", \"Product\", \"Startup\", \"Product\", \"Product\", \"Product\", \"Product\", \"Product\", \"Product\", \"Consulting / Agency\", \"Product\", \"Bodyshop / Outsource\", \"Product\", \"Product\", \"Startup\", \"Product\", \"Product\", \"Consulting / Agency\", \"Product\", \"Product\", \"Consulting / Agency\", \"Product\", \"Startup\", \"Product\", \"Startup\", \"Startup\", \"Product\", \"Consulting / Agency\", \"Startup\", \"Product\", \"Consulting / Agency\", \"Consulting / Agency\", \"Product\", \"Product\", \"Product\", \"Product\", \"Product\", \"Product\", \"Startup\", \"Product\", \"Product\", \"Product\", \"Startup\", \"Product\", \"Product\", \"Startup\", \"Product\", \"Startup\", \"Product\", \"Product\", \"Consulting / Agency\", \"Product\", \"Product\", \"Startup\", \"Product\", \"Product\", \"Consulting / Agency\", \"Product\", \"Product\", \"Product\", \"Product\", \"Product\", \"Startup\", \"Startup\", \"Product\", \"Product\", \"Consulting / Agency\", \"Product\", \"Startup\", \"Consulting / Agency\", \"Bodyshop / Outsource\", \"Startup\", \"Startup\", \"Product\", \"Product\", \"Product\", \"Startup\", \"Startup\", \"Product\", \"Startup\", \"Product\", \"Product\", \"Bank\", \"Product\", \"Bodyshop / Outsource\", \"Product\", \"Startup\", \"University\", \"Product\", \"Product\", \"Product\", \"Product\", \"Product\", \"Product\", \"Startup\", \"Product\", \"Product\", \"Product\", \"Bodyshop / Outsource\", \"Startup\", \"Product\", \"Product\", \"Product\", \"Product\", \"Product\", \"Startup\", \"Product\", \"Product\", \"Product\", \"Startup\", \"Bodyshop / Outsource\", \"Product\", \"Product\", \"Startup\", \"Product\", \"Product\", \"Product\", \"Product\", \"Product\", \"Product\", \"Product\", \"Bodyshop / Outsource\", \"Consulting / Agency\", \"Product\", \"Product\", \"Product\", \"Product\", \"Product\", \"Product\", \"Product\", \"Startup\", \"Product\", \"Product\", \"Consulting / Agency\", \"Consulting / Agency\", \"Product\", \"Product\", \"Startup\", \"Consulting / Agency\", \"Startup\", \"Consulting / Agency\", \"Product\", \"Bodyshop / Outsource\", \"Product\", \"Product\", \"Product\", \"Product\", \"Bodyshop / Outsource\", \"Product\", \"Bodyshop / Outsource\", \"Bodyshop / Outsource\", \"Product\", \"Product\", \"Product\", \"Bank\", \"Consulting / Agency\", \"Startup\", \"Product\", \"Product\", \"Product\", \"Product\", \"Product\", \"Product\", \"Product\", \"Product\", \"Product\", \"Product\", \"Product\", \"Product\", \"Product\", \"Product\", \"Bank\", \"Product\", \"Product\", \"Product\", \"Startup\", \"Consulting / Agency\", \"Startup\", \"Product\", \"Product\", \"Product\", \"Product\", \"Consulting / Agency\", \"Consulting / Agency\", \"Startup\", \"Product\", \"Product\", \"Consulting / Agency\", \"Product\", \"Consulting / Agency\", \"Product\", \"Bank\", \"Product\", \"Startup\", \"Consulting / Agency\", \"Product\", \"Product\", \"Product\", \"University\", \"Startup\", \"Product\", \"Startup\", \"Product\", \"Product\", \"Product\", \"Product\", \"Startup\", \"Product\", \"Product\", \"Product\", \"Startup\", \"Startup\", \"Product\", \"Product\", \"Product\", \"Startup\", \"Consulting / Agency\", \"Consulting / Agency\", \"Product\", \"Product\", \"Startup\", \"Product\", \"Product\", \"Product\", \"Product\", \"Product\", \"Consulting / Agency\", \"Startup\", \"Consulting / Agency\", \"Consulting / Agency\", \"Startup\", \"Bodyshop / Outsource\", \"Product\", \"Startup\", \"Product\", \"Startup\", \"Product\", \"Consulting / Agency\", \"Product\", \"Product\", \"Product\", \"Product\", \"Product\", \"Startup\", \"Consulting / Agency\", \"Startup\", \"Product\", \"Product\", \"Product\", \"Consulting / Agency\", \"Product\", \"Product\", \"Product\", \"Product\", \"Startup\", \"Product\", \"Product\", \"Product\", \"Product\", \"Product\", \"Startup\", \"Product\", \"Startup\", \"Startup\", \"Product\", \"Bodyshop / Outsource\", \"Product\", \"Product\", \"Product\", \"Startup\", \"Product\", \"Startup\", \"Product\", \"Product\", \"Product\", \"Product\", \"Product\", \"Product\", \"Product\", \"Bodyshop / Outsource\", \"Product\", \"Product\", \"Product\", \"Consulting / Agency\", \"Startup\", \"Product\", \"University\", \"Product\", \"Bodyshop / Outsource\", \"Product\", \"Product\", \"Product\", \"Product\", \"Product\", \"Product\", \"Product\", \"Product\", \"Product\", \"Startup\", \"Product\", \"Consulting / Agency\", \"University\", \"Product\", \"Startup\", \"Product\", \"Startup\", \"Product\", \"Startup\", \"Product\", \"Product\", \"Consulting / Agency\", \"Product\", \"Startup\", \"Product\", \"Product\", \"Product\", \"Product\", \"Outsource\", \"Product\", \"Product\", \"Startup\", \"Product\", \"Product\", \"Product\", \"Product\", \"Product\", \"Product\", \"Product\", \"Product\", \"Bodyshop / Outsource\", \"Product\", \"Product\", \"Product\", \"Product\", \"Product\", \"Product\", \"Product\", \"Product\", \"Consulting / Agency\", \"Product\", \"Product\", \"Product\", \"University\", \"Consulting / Agency\", \"Consulting / Agency\", \"Consulting / Agency\", \"Product\", \"Consulting / Agency\", \"Product\", \"Consulting / Agency\", \"Startup\", \"Product\", \"Product\", \"Bank\", \"Product\", \"Product\", \"Consulting / Agency\", \"Startup\", \"Product\", \"Product\", \"Product\", \"Product\", \"Product\", \"Bank\", \"Product\", \"Product\", \"Consulting / Agency\"], \"legendgroup\": \"\", \"name\": \"\", \"showlegend\": true, \"textinfo\": \"label+percent\", \"type\": \"pie\"}],\n",
              "                        {\"legend\": {\"tracegroupgap\": 0}, \"margin\": {\"t\": 60}, \"template\": {\"data\": {\"bar\": [{\"error_x\": {\"color\": \"#2a3f5f\"}, \"error_y\": {\"color\": \"#2a3f5f\"}, \"marker\": {\"line\": {\"color\": \"#E5ECF6\", \"width\": 0.5}}, \"type\": \"bar\"}], \"barpolar\": [{\"marker\": {\"line\": {\"color\": \"#E5ECF6\", \"width\": 0.5}}, \"type\": \"barpolar\"}], \"carpet\": [{\"aaxis\": {\"endlinecolor\": \"#2a3f5f\", \"gridcolor\": \"white\", \"linecolor\": \"white\", \"minorgridcolor\": \"white\", \"startlinecolor\": \"#2a3f5f\"}, \"baxis\": {\"endlinecolor\": \"#2a3f5f\", \"gridcolor\": \"white\", \"linecolor\": \"white\", \"minorgridcolor\": \"white\", \"startlinecolor\": \"#2a3f5f\"}, \"type\": \"carpet\"}], \"choropleth\": [{\"colorbar\": {\"outlinewidth\": 0, \"ticks\": \"\"}, \"type\": \"choropleth\"}], \"contour\": [{\"colorbar\": {\"outlinewidth\": 0, \"ticks\": \"\"}, \"colorscale\": [[0.0, \"#0d0887\"], [0.1111111111111111, \"#46039f\"], [0.2222222222222222, \"#7201a8\"], [0.3333333333333333, \"#9c179e\"], [0.4444444444444444, \"#bd3786\"], [0.5555555555555556, \"#d8576b\"], [0.6666666666666666, \"#ed7953\"], [0.7777777777777778, \"#fb9f3a\"], [0.8888888888888888, \"#fdca26\"], [1.0, \"#f0f921\"]], \"type\": \"contour\"}], \"contourcarpet\": [{\"colorbar\": {\"outlinewidth\": 0, \"ticks\": \"\"}, \"type\": \"contourcarpet\"}], \"heatmap\": [{\"colorbar\": {\"outlinewidth\": 0, \"ticks\": \"\"}, \"colorscale\": [[0.0, \"#0d0887\"], [0.1111111111111111, \"#46039f\"], [0.2222222222222222, \"#7201a8\"], [0.3333333333333333, \"#9c179e\"], [0.4444444444444444, \"#bd3786\"], [0.5555555555555556, \"#d8576b\"], [0.6666666666666666, \"#ed7953\"], [0.7777777777777778, \"#fb9f3a\"], [0.8888888888888888, \"#fdca26\"], [1.0, \"#f0f921\"]], \"type\": \"heatmap\"}], \"heatmapgl\": [{\"colorbar\": {\"outlinewidth\": 0, \"ticks\": \"\"}, \"colorscale\": [[0.0, \"#0d0887\"], [0.1111111111111111, \"#46039f\"], [0.2222222222222222, \"#7201a8\"], [0.3333333333333333, \"#9c179e\"], [0.4444444444444444, \"#bd3786\"], [0.5555555555555556, \"#d8576b\"], [0.6666666666666666, \"#ed7953\"], [0.7777777777777778, \"#fb9f3a\"], [0.8888888888888888, \"#fdca26\"], [1.0, \"#f0f921\"]], \"type\": \"heatmapgl\"}], \"histogram\": [{\"marker\": {\"colorbar\": {\"outlinewidth\": 0, \"ticks\": \"\"}}, \"type\": \"histogram\"}], \"histogram2d\": [{\"colorbar\": {\"outlinewidth\": 0, \"ticks\": \"\"}, \"colorscale\": [[0.0, \"#0d0887\"], [0.1111111111111111, \"#46039f\"], [0.2222222222222222, \"#7201a8\"], [0.3333333333333333, \"#9c179e\"], [0.4444444444444444, \"#bd3786\"], [0.5555555555555556, \"#d8576b\"], [0.6666666666666666, \"#ed7953\"], [0.7777777777777778, \"#fb9f3a\"], [0.8888888888888888, \"#fdca26\"], [1.0, \"#f0f921\"]], \"type\": \"histogram2d\"}], \"histogram2dcontour\": [{\"colorbar\": {\"outlinewidth\": 0, \"ticks\": \"\"}, \"colorscale\": [[0.0, \"#0d0887\"], [0.1111111111111111, \"#46039f\"], [0.2222222222222222, \"#7201a8\"], [0.3333333333333333, \"#9c179e\"], [0.4444444444444444, \"#bd3786\"], [0.5555555555555556, \"#d8576b\"], [0.6666666666666666, \"#ed7953\"], [0.7777777777777778, \"#fb9f3a\"], [0.8888888888888888, \"#fdca26\"], [1.0, \"#f0f921\"]], \"type\": \"histogram2dcontour\"}], \"mesh3d\": [{\"colorbar\": {\"outlinewidth\": 0, \"ticks\": \"\"}, \"type\": \"mesh3d\"}], \"parcoords\": [{\"line\": {\"colorbar\": {\"outlinewidth\": 0, \"ticks\": \"\"}}, \"type\": \"parcoords\"}], \"pie\": [{\"automargin\": true, \"type\": \"pie\"}], \"scatter\": [{\"marker\": {\"colorbar\": {\"outlinewidth\": 0, \"ticks\": \"\"}}, \"type\": \"scatter\"}], \"scatter3d\": [{\"line\": {\"colorbar\": {\"outlinewidth\": 0, \"ticks\": \"\"}}, \"marker\": {\"colorbar\": {\"outlinewidth\": 0, \"ticks\": \"\"}}, \"type\": \"scatter3d\"}], \"scattercarpet\": [{\"marker\": {\"colorbar\": {\"outlinewidth\": 0, \"ticks\": \"\"}}, \"type\": \"scattercarpet\"}], \"scattergeo\": [{\"marker\": {\"colorbar\": {\"outlinewidth\": 0, \"ticks\": \"\"}}, \"type\": \"scattergeo\"}], \"scattergl\": [{\"marker\": {\"colorbar\": {\"outlinewidth\": 0, \"ticks\": \"\"}}, \"type\": \"scattergl\"}], \"scattermapbox\": [{\"marker\": {\"colorbar\": {\"outlinewidth\": 0, \"ticks\": \"\"}}, \"type\": \"scattermapbox\"}], \"scatterpolar\": [{\"marker\": {\"colorbar\": {\"outlinewidth\": 0, \"ticks\": \"\"}}, \"type\": \"scatterpolar\"}], \"scatterpolargl\": [{\"marker\": {\"colorbar\": {\"outlinewidth\": 0, \"ticks\": \"\"}}, \"type\": \"scatterpolargl\"}], \"scatterternary\": [{\"marker\": {\"colorbar\": {\"outlinewidth\": 0, \"ticks\": \"\"}}, \"type\": \"scatterternary\"}], \"surface\": [{\"colorbar\": {\"outlinewidth\": 0, \"ticks\": \"\"}, \"colorscale\": [[0.0, \"#0d0887\"], [0.1111111111111111, \"#46039f\"], [0.2222222222222222, \"#7201a8\"], [0.3333333333333333, \"#9c179e\"], [0.4444444444444444, \"#bd3786\"], [0.5555555555555556, \"#d8576b\"], [0.6666666666666666, \"#ed7953\"], [0.7777777777777778, \"#fb9f3a\"], [0.8888888888888888, \"#fdca26\"], [1.0, \"#f0f921\"]], \"type\": \"surface\"}], \"table\": [{\"cells\": {\"fill\": {\"color\": \"#EBF0F8\"}, \"line\": {\"color\": \"white\"}}, \"header\": {\"fill\": {\"color\": \"#C8D4E3\"}, \"line\": {\"color\": \"white\"}}, \"type\": \"table\"}]}, \"layout\": {\"annotationdefaults\": {\"arrowcolor\": \"#2a3f5f\", \"arrowhead\": 0, \"arrowwidth\": 1}, \"coloraxis\": {\"colorbar\": {\"outlinewidth\": 0, \"ticks\": \"\"}}, \"colorscale\": {\"diverging\": [[0, \"#8e0152\"], [0.1, \"#c51b7d\"], [0.2, \"#de77ae\"], [0.3, \"#f1b6da\"], [0.4, \"#fde0ef\"], [0.5, \"#f7f7f7\"], [0.6, \"#e6f5d0\"], [0.7, \"#b8e186\"], [0.8, \"#7fbc41\"], [0.9, \"#4d9221\"], [1, \"#276419\"]], \"sequential\": [[0.0, \"#0d0887\"], [0.1111111111111111, \"#46039f\"], [0.2222222222222222, \"#7201a8\"], [0.3333333333333333, \"#9c179e\"], [0.4444444444444444, \"#bd3786\"], [0.5555555555555556, \"#d8576b\"], [0.6666666666666666, \"#ed7953\"], [0.7777777777777778, \"#fb9f3a\"], [0.8888888888888888, \"#fdca26\"], [1.0, \"#f0f921\"]], \"sequentialminus\": [[0.0, \"#0d0887\"], [0.1111111111111111, \"#46039f\"], [0.2222222222222222, \"#7201a8\"], [0.3333333333333333, \"#9c179e\"], [0.4444444444444444, \"#bd3786\"], [0.5555555555555556, \"#d8576b\"], [0.6666666666666666, \"#ed7953\"], [0.7777777777777778, \"#fb9f3a\"], [0.8888888888888888, \"#fdca26\"], [1.0, \"#f0f921\"]]}, \"colorway\": [\"#636efa\", \"#EF553B\", \"#00cc96\", \"#ab63fa\", \"#FFA15A\", \"#19d3f3\", \"#FF6692\", \"#B6E880\", \"#FF97FF\", \"#FECB52\"], \"font\": {\"color\": \"#2a3f5f\"}, \"geo\": {\"bgcolor\": \"white\", \"lakecolor\": \"white\", \"landcolor\": \"#E5ECF6\", \"showlakes\": true, \"showland\": true, \"subunitcolor\": \"white\"}, \"hoverlabel\": {\"align\": \"left\"}, \"hovermode\": \"closest\", \"mapbox\": {\"style\": \"light\"}, \"paper_bgcolor\": \"white\", \"plot_bgcolor\": \"#E5ECF6\", \"polar\": {\"angularaxis\": {\"gridcolor\": \"white\", \"linecolor\": \"white\", \"ticks\": \"\"}, \"bgcolor\": \"#E5ECF6\", \"radialaxis\": {\"gridcolor\": \"white\", \"linecolor\": \"white\", \"ticks\": \"\"}}, \"scene\": {\"xaxis\": {\"backgroundcolor\": \"#E5ECF6\", \"gridcolor\": \"white\", \"gridwidth\": 2, \"linecolor\": \"white\", \"showbackground\": true, \"ticks\": \"\", \"zerolinecolor\": \"white\"}, \"yaxis\": {\"backgroundcolor\": \"#E5ECF6\", \"gridcolor\": \"white\", \"gridwidth\": 2, \"linecolor\": \"white\", \"showbackground\": true, \"ticks\": \"\", \"zerolinecolor\": \"white\"}, \"zaxis\": {\"backgroundcolor\": \"#E5ECF6\", \"gridcolor\": \"white\", \"gridwidth\": 2, \"linecolor\": \"white\", \"showbackground\": true, \"ticks\": \"\", \"zerolinecolor\": \"white\"}}, \"shapedefaults\": {\"line\": {\"color\": \"#2a3f5f\"}}, \"ternary\": {\"aaxis\": {\"gridcolor\": \"white\", \"linecolor\": \"white\", \"ticks\": \"\"}, \"baxis\": {\"gridcolor\": \"white\", \"linecolor\": \"white\", \"ticks\": \"\"}, \"bgcolor\": \"#E5ECF6\", \"caxis\": {\"gridcolor\": \"white\", \"linecolor\": \"white\", \"ticks\": \"\"}}, \"title\": {\"x\": 0.05}, \"xaxis\": {\"automargin\": true, \"gridcolor\": \"white\", \"linecolor\": \"white\", \"ticks\": \"\", \"title\": {\"standoff\": 15}, \"zerolinecolor\": \"white\", \"zerolinewidth\": 2}, \"yaxis\": {\"automargin\": true, \"gridcolor\": \"white\", \"linecolor\": \"white\", \"ticks\": \"\", \"title\": {\"standoff\": 15}, \"zerolinecolor\": \"white\", \"zerolinewidth\": 2}}}},\n",
              "                        {\"responsive\": true}\n",
              "                    ).then(function(){\n",
              "                            \n",
              "var gd = document.getElementById('3f2f203b-0ba7-46dd-baa0-be12f23bf4cb');\n",
              "var x = new MutationObserver(function (mutations, observer) {{\n",
              "        var display = window.getComputedStyle(gd).display;\n",
              "        if (!display || display === 'none') {{\n",
              "            console.log([gd, 'removed!']);\n",
              "            Plotly.purge(gd);\n",
              "            observer.disconnect();\n",
              "        }}\n",
              "}});\n",
              "\n",
              "// Listen for the removal of the full notebook cells\n",
              "var notebookContainer = gd.closest('#notebook-container');\n",
              "if (notebookContainer) {{\n",
              "    x.observe(notebookContainer, {childList: true});\n",
              "}}\n",
              "\n",
              "// Listen for the clearing of the current output cell\n",
              "var outputEl = gd.closest('.output');\n",
              "if (outputEl) {{\n",
              "    x.observe(outputEl, {childList: true});\n",
              "}}\n",
              "\n",
              "                        })\n",
              "                };\n",
              "                \n",
              "            </script>\n",
              "        </div>\n",
              "</body>\n",
              "</html>"
            ]
          },
          "metadata": {
            "tags": []
          }
        }
      ]
    },
    {
      "cell_type": "markdown",
      "metadata": {
        "id": "dSyui92hCsCL"
      },
      "source": [
        "2. Are Consulting / Agency companies more popular than Startups?\n",
        "* **NO** Start-ups are more popular."
      ]
    },
    {
      "cell_type": "markdown",
      "metadata": {
        "id": "c0_0x4HSQ9Oe"
      },
      "source": [
        "3. Create a line plot of the Total years of experience vs the current salary(taking the median salary for each of the different experience years) of the year 2018."
      ]
    },
    {
      "cell_type": "code",
      "metadata": {
        "colab": {
          "base_uri": "https://localhost:8080/",
          "height": 197
        },
        "id": "PBWjS0CUjCdN",
        "outputId": "2e51ef09-1b7d-4d7d-f225-6b86be8bfa67"
      },
      "source": [
        "#Grouping the 2018 data\n",
        "\n",
        "df = data18[['Years of experience', 'Current Salary']]\n",
        "df2 = df.groupby(['Years of experience'],as_index=False)['Current Salary'].median()\n",
        "df2.head()"
      ],
      "execution_count": null,
      "outputs": [
        {
          "output_type": "execute_result",
          "data": {
            "text/html": [
              "<div>\n",
              "<style scoped>\n",
              "    .dataframe tbody tr th:only-of-type {\n",
              "        vertical-align: middle;\n",
              "    }\n",
              "\n",
              "    .dataframe tbody tr th {\n",
              "        vertical-align: top;\n",
              "    }\n",
              "\n",
              "    .dataframe thead th {\n",
              "        text-align: right;\n",
              "    }\n",
              "</style>\n",
              "<table border=\"1\" class=\"dataframe\">\n",
              "  <thead>\n",
              "    <tr style=\"text-align: right;\">\n",
              "      <th></th>\n",
              "      <th>Years of experience</th>\n",
              "      <th>Current Salary</th>\n",
              "    </tr>\n",
              "  </thead>\n",
              "  <tbody>\n",
              "    <tr>\n",
              "      <th>0</th>\n",
              "      <td>0.0</td>\n",
              "      <td>50000.0</td>\n",
              "    </tr>\n",
              "    <tr>\n",
              "      <th>1</th>\n",
              "      <td>0.5</td>\n",
              "      <td>46000.0</td>\n",
              "    </tr>\n",
              "    <tr>\n",
              "      <th>2</th>\n",
              "      <td>1.0</td>\n",
              "      <td>47000.0</td>\n",
              "    </tr>\n",
              "    <tr>\n",
              "      <th>3</th>\n",
              "      <td>1.5</td>\n",
              "      <td>58000.0</td>\n",
              "    </tr>\n",
              "    <tr>\n",
              "      <th>4</th>\n",
              "      <td>2.0</td>\n",
              "      <td>51000.0</td>\n",
              "    </tr>\n",
              "  </tbody>\n",
              "</table>\n",
              "</div>"
            ],
            "text/plain": [
              "   Years of experience  Current Salary\n",
              "0                  0.0         50000.0\n",
              "1                  0.5         46000.0\n",
              "2                  1.0         47000.0\n",
              "3                  1.5         58000.0\n",
              "4                  2.0         51000.0"
            ]
          },
          "metadata": {
            "tags": []
          },
          "execution_count": 49
        }
      ]
    },
    {
      "cell_type": "code",
      "metadata": {
        "id": "GjkqEcEmVH1n"
      },
      "source": [
        "#Line Plot\n",
        "# Creating trace1\n",
        "trace1 = go.Scatter(\n",
        "                    x = df2['Years of experience'],\n",
        "                    y = df2['Current Salary'],\n",
        "                    mode = \"lines\",\n",
        "                    name = \"2018\",\n",
        "                    marker = dict(color = 'rgba(16, 112, 2, 0.8)'),\n",
        "                    text= data18['Company type'])"
      ],
      "execution_count": null,
      "outputs": []
    },
    {
      "cell_type": "code",
      "metadata": {
        "colab": {
          "base_uri": "https://localhost:8080/",
          "height": 542
        },
        "id": "kFjx8gwqV6PH",
        "outputId": "d3ea358c-3233-4d32-9352-75808338bbcb"
      },
      "source": [
        "data = [trace1]\n",
        "layout = dict(title = 'Total years of experience vs the current salary',\n",
        "              xaxis= dict(title= 'years of experience',ticklen= 5,zeroline= False)\n",
        "             )\n",
        "fig = dict(data = data, layout = layout)\n",
        "iplot(fig)"
      ],
      "execution_count": null,
      "outputs": [
        {
          "output_type": "display_data",
          "data": {
            "text/html": [
              "<html>\n",
              "<head><meta charset=\"utf-8\" /></head>\n",
              "<body>\n",
              "    <div>\n",
              "            <script src=\"https://cdnjs.cloudflare.com/ajax/libs/mathjax/2.7.5/MathJax.js?config=TeX-AMS-MML_SVG\"></script><script type=\"text/javascript\">if (window.MathJax) {MathJax.Hub.Config({SVG: {font: \"STIX-Web\"}});}</script>\n",
              "                <script type=\"text/javascript\">window.PlotlyConfig = {MathJaxConfig: 'local'};</script>\n",
              "        <script src=\"https://cdn.plot.ly/plotly-latest.min.js\"></script>    \n",
              "            <div id=\"aa3942b2-c1d6-4f59-950c-b871c9985204\" class=\"plotly-graph-div\" style=\"height:525px; width:100%;\"></div>\n",
              "            <script type=\"text/javascript\">\n",
              "                \n",
              "                    window.PLOTLYENV=window.PLOTLYENV || {};\n",
              "                    \n",
              "                if (document.getElementById(\"aa3942b2-c1d6-4f59-950c-b871c9985204\")) {\n",
              "                    Plotly.newPlot(\n",
              "                        'aa3942b2-c1d6-4f59-950c-b871c9985204',\n",
              "                        [{\"marker\": {\"color\": \"rgba(16, 112, 2, 0.8)\"}, \"mode\": \"lines\", \"name\": \"2018\", \"text\": [\"Product\", \"Product\", \"Product\", \"Product\", \"Ecom retailer\", \"Insurance\", \"Product\", \"Product\", \"Startup\", \"Agency\", \"Product\", \"Product\", \"Startup\", \"Product\", \"Product\", \"Startup\", \"Product\", \"Product\", \"Agency\", \"Startup\", \"Big Tech\", \"Startup\", \"Product\", \"Consultancy\", \"Agency\", \"Product\", \"Product\", \"Product\", \"Product\", \"Product\", \"Corporation\", \"Startup\", \"Product\", \"Product\", \"Product\", \"Startup\", \"Product\", \"Product\", \"Product\", \"Product\", \"Product\", \"Startup\", \"Product\", \"Product\", \"Product\", \"Product\", \"Product\", \"Product\", \"Product\", \"Product\", \"Startup\", \"Product\", \"Agency\", \"Startup\", \"Product\", \"Startup\", \"Product\", \"Consultancy\", \"Product\", \"Product\", \"Product\", \"Product\", \"Product\", \"Product\", \"Agency\", \"Product\", \"Product\", \"Agency\", \"Product\", \"Product\", \"Startup\", \"Product\", \"Product\", \"Agency\", \"Agency\", \"Product\", \"Product\", \"Startup\", \"Startup\", \"Product\", \"Product\", \"Startup\", \"Product\", \"Product\", \"Product\", \"Startup\", \"Startup\", \"Product\", \"Product\", \"Startup\", \"Agency\", \"Startup\", \"Product\", \"Product\", \"Product\", \"Outsource\", \"Startup\", \"Product\", \"Product\", \"Startup\", \"Agency\", \"Product\", \"Agency\", \"Product\", \"Startup\", \"Product\", \"Product\", \"Product\", \"Product\", \"Product\", \"Startup\", \"Startup\", \"Product\", \"Product\", \"Product\", \"Product\", \"Startup\", \"Startup\", \"Product\", \"Product\", \"Product\", \"Product\", \"Product\", \"Product\", \"Startup\", \"Agency\", \"Product\", \"Startup\", \"Product\", \"Product\", \"Product\", \"Startup\", \"Product\", \"Product\", \"Startup\", \"Industry\", \"Product\", \"E-Commerce firm\", \"Product\", \"Product\", \"Startup\", \"Product\", \"Product\", \"Product\", \"Product\", \"Product\", \"Product\", \"Startup\", \"Product\", \"Product\", \"Product\", \"Product\", \"Startup\", \"Startup\", \"Product\", \"Product\", \"Startup\", \"Product\", \"Product\", \"Product\", \"Startup\", \"Startup\", \"Product\", \"Product\", \"Product\", \"Product\", \"Product\", \"Product\", \"Consulting\", \"Startup\", \"Product\", \"Startup\", \"Product\", \"Product\", \"Agency\", \"Product\", \"Internal development for a non-IT company\", \"Startup\", \"Startup\", \"Product\", \"Product\", \"Product\", \"Product\", \"Product\", \"Product\", \"Agency\", \"Product\", \"Startup\", \"Product\", \"Startup\", \"Agency\", \"Startup\", \"Personaldienstleister\", \"Startup\", \"Product\", \"Startup\", \"Product\", \"Startup\", \"Product\", \"Product\", \"Startup\", \"Product\", \"Agency\", \"Agency\", \"Product\", \"Product\", \"Product\", \"Startup\", \"Product\", \"Startup\", \"Product\", \"Product\", \"Product\", \"Startup\", \"Product\", \"Agency\", \"Startup\", \"Product\", \"Startup\", \"ipo\", \"Product\", \"e-commerce\", \"Product\", \"Startup\", \"Product\", \"Product\", \"Outsource\", \"Product\", \"Product\", \"Startup\", \"Product\", \"Product\", \"Startup\", \"Product\", \"Product\", \"Product\", \"Product\", \"Product\", \"Startup\", \"Startup\", \"Product\", \"Product\", \"Product\", \"Product\", \"Product\", \"Product\", \"Startup\", \"Product\", \"Product\", \"Product\", \"Product\", \"Product\", \"Product\", \"Product\", \"Product\", \"Product\", \"Agency\", \"Startup\", \"Product\", \"Product\", \"Agency\", \"Product\", \"Product\", \"Product\", \"Product\", \"Agency\", \"Startup\", \"Startup\", \"Product\", \"Product\", \"Product\", \"Product\", \"Product\", \"Product\", \"Startup\", \"Product\", \"Startup\", \"Product\", \"Product\", \"Agency\", \"Product\", \"Product\", \"Startup\", \"Product\", \"Startup\", \"Product\", \"Product\", \"Product\", \"Startup\", \"Product\", \"Startup\", \"Agency\", \"Product and Projects\", \"Product\", \"Product\", \"Product\", \"Startup\", \"E-Commerce\", \"Product\", \"Development\", \"Product\", \"Product\", \"Outsource\", \"Product\", \"Product\", \"Startup\", \"Startup\", \"Product\", \"Startup\", \"Product\", \"Product\", \"Product\", \"Product\", \"Startup\", \"Product\", \"Product\", \"Product\", \"Product\", \"Agency\", \"Product\", \"Product\", \"Product\", \"Product\", \"Product\", \"Startup\", \"Startup\", \"Product\", \"Product\", \"Product\", \"Product\", \"Product\", \"Product\", \"Product\", \"Product\", \"Startup\", \"Product\", \"Product\", \"Product\", \"Startup\", \"Product\", \"Product\", \"Product\", \"Product\", \"Startup\", \"Product\", \"Product\", \"Startup\", \"Product\", \"Product\", \"Product\", \"Agency\", \"Agency\", \"Product\", \"Startup\", \"Agency\", \"Product\", \"Startup\", \"Startup\", \"Product\", \"Product\", \"Consulting Company\", \"Startup\", \"Product\", \"Product\", \"Product\", \"Product\", \"Startup\", \"Product\", \"Product\", \"Startup\", \"Product\", \"Product\", \"Agency\", \"Startup\", \"Startup\", \"Agency\", \"Product\", \"Product\", \"Startup\", \"IT Dienstleistungen \", \"Product\", \"Product\", \"Agency\", \"Product\", \"Startup\", \"Product\", \"Product\", \"Agency\", \"Agency\", \"Product\", \"Manufacturing\", \"Product\", \"Startup\", \"Product\", \"Startup\", \"Product\", \"Stock market \", \"Product\", \"telecom operator\", \"Product\", \"Product\", \"Ecommerce\", \"Startup\", \"Startup\", \"Product\", \"Consulting\", \"Product\", \"Startup\", \"Product\", \"Agency\", \"Product\", \"Product\", \"Agency\", \"Product\", \"Product\", \"Startup\", \"Product\", \"Product\", \"Product\", \"Product\", \"Startup\", \"Product\", \"Product\", \"Startup\", \"Product\", \"Product\", \"Product\", \"Startup\", \"Consulting\", \"Outsourcing\", \"Startup\", \"Product\", \"Product\", \"Agency\", \"Product\", \"Agency\", \"Startup\", \"Product\", \"Product\", \"Product\", \"Product\", \"Product\", \"Outsorce\", \"Product\", \"Product\", \"Product\", \"Product\", \"Product\", \"Product\", \"Product\", \"Startup\", \"Product\", \"Agency\", \"Outsource\", \"Product\", \"Product\", \"Product\", \"Product\", \"consulting\", \"Startup\", \"Product\", \"Product\", \"Product\", \"Product\", \"Outsource\", \"Agency\", \"Product\", \"Product\", \"Agency\", \"Product\", \"GmbH\", \"Product\", \"Product\", \"Product\", \"Startup\", \"Startup\", \"Product\", \"Startup\", \"Product\", \"Startup\", \"Corporation\", \"Product\", \"Product\", \"Product\", \"Agency\", \"Product\", \"Product\", \"Product\", \"Product\", \"Product\", \"Product\", \"IT Consulting \", \"Startup\", \"Product\", \"Product\", \"Product\", \"Product\", \"Product\", \"Product\", \"Startup\", \"Product\", \"Product\", \"Agency\", \"Product\", \"Product\", \"Product\", \"Product\", \"Product\", \"Product\", \"Startup\", \"Agency\", \"Startup\", \"Product\", \"Product\", \"Product\", \"Startup\", \"Startup\", \"Product\", \"Product\", \"Agency\", \"Startup\", \"Startup\", \"Startup\", \"Startup\", \"Product\", \"Product\", \"Product\", \"IT Consultancy \", \"Product\", \"Agency\", \"Startup\", \"Product\", \"Product\", \"Product\", \"Product\", \"Startup\", \"Product\", \"Product\", \"Product\", \"Product\", \"Product\", \"Product\", \"Agency\", \"Product\", \"IT Service Provider\", \"Product\", \"Startup\", \"Product\", \"Product\", \"Agency\", \"Product\", \"Product\", \"non-IT, manufacturing\", \"Bank \", \"Insurance\", \"Product\", \"Product\", \"Product\", \"IT-Beratung\", \"Product\", \"Startup\", \"Startup\", \"Product\", \"Startup\", \"Product\", \"Consulting\", \"Startup\", \"Product\", \"Product\", \"Startup\", \"Product\", \"Agency\", \"Product\", \"Product\", \"Startup\", \"Startup\", \"Technology Consulting\", \"Startup\", \"Agency\", \"Product\", \"Startup\", \"Product\", \"outsource\", \"Product\", \"IT Consultants\", \"Product\", \"Agency\", \"Agency\", \"Agency\", \"Agency\", \"Product\", \"Product\", \"Product\", \"Startup\", \"Product\", \"Consulting\", \"Hochschule/university\", \"Product\", \"Product\", \"Product\", \"ISP\", \"Product\", \"Product\", \"Product\", \"Product\", \"Startup\", \"Product\", \"Product\", \"Product\", \"Product\", \"Product\", \"Product\", \"Product\", \"Product\", \"Agency\", \"Product\", \"Product\", \"Product\", \"Product\", \"Product\", \"Agency\", \"Product\", \"Product\", \"Product\", \"Product\", \"Product\", \"Product\", \"Startup\", \"Product\", \"Product\", \"Product\", \"Product\", \"Product\", \"Agency\", \"Fin Tech\", \"Agency\", \"Startup\", \"Product\", \"Outsourcing\", \"Product\", \"Startup\", \"Product\", \"Product\", \"Outsourcing\", \"Product\", \"Startup\", \"Product\", \"Blockchain technology\", \"Retail\", \"Startup\", \"Agency\", \"Product\", \"Product\", \"Product\", \"Product\", \"Agency\", \"Startup\", \"Consult\", \"Startup\", \"Product\", \"Product\", \"Agency\", \"Agency\", \"Product\", \"Product\", \"Product\", \"Product\", \"Product\", \"Product\", \"Product\", \"Product\", \"Agency\", \"Startup\", \"Product\", \"Product\", \"Product\", \"Agency\", \"Product\", \"Product\", \"Product\", \"Agency\", \"Product\", \"Project-based software development\", \"Product\", \"Product\", \"Product\", \"Automotive\", \"Product\", \"Product\", \"Product\", \"Startup\", \"Product\", \"Startup\", \"Product\", \"Product\", \"Automotive\", \"Product\", \"Product\", \"Product\", \"Product\", \"Startup\", \"Product\", \"Product\", \"Startup\", \"Product\", \"OEM\", \"Consulting (banking)\", \"Product\", \"Agency\", \"Startup\", \"Product\", \"IT Consulting\", \"Agency\", \"Product\", \"Agency\", \"Product\", \"Product\", \"Product\", \"Product\", \"Product\", \"Startup\", \"Product\", \"Product\", \"Product\", \"Startup\", \"Product\", \"Product\", \"Product\", \"Product\", \"Agency\", \"Product\", \"Product\", \"Agency\", \"Product\", \"Agency\", \"Product\", \"Product\", \"Product\", \"Product\", \"Agency\", \"Agency\", \"Product\", \"Product\", \"Product\"], \"type\": \"scatter\", \"x\": [0.0, 0.5, 1.0, 1.5, 2.0, 2.5, 3.0, 4.0, 4.5, 5.0, 6.0, 7.0, 7.5, 8.0, 8.548497267759563, 9.0, 10.0, 11.0, 12.0, 13.0, 14.0, 15.0, 16.0, 17.0, 18.0, 19.0, 20.0, 21.0, 25.0, 30.0, 38.0], \"y\": [50000.0, 46000.0, 47000.0, 58000.0, 51000.0, 50000.0, 55555.0, 60000.0, 39150.0, 60000.0, 63000.0, 68000.0, 65000.0, 70000.0, 70000.0, 70000.0, 70000.0, 71000.0, 71000.0, 73500.0, 73000.0, 68000.0, 90500.0, 80000.0, 72500.0, 84000.0, 80000.0, 90000.0, 109000.0, 64000.0, 58000.0]}],\n",
              "                        {\"template\": {\"data\": {\"bar\": [{\"error_x\": {\"color\": \"#2a3f5f\"}, \"error_y\": {\"color\": \"#2a3f5f\"}, \"marker\": {\"line\": {\"color\": \"#E5ECF6\", \"width\": 0.5}}, \"type\": \"bar\"}], \"barpolar\": [{\"marker\": {\"line\": {\"color\": \"#E5ECF6\", \"width\": 0.5}}, \"type\": \"barpolar\"}], \"carpet\": [{\"aaxis\": {\"endlinecolor\": \"#2a3f5f\", \"gridcolor\": \"white\", \"linecolor\": \"white\", \"minorgridcolor\": \"white\", \"startlinecolor\": \"#2a3f5f\"}, \"baxis\": {\"endlinecolor\": \"#2a3f5f\", \"gridcolor\": \"white\", \"linecolor\": \"white\", \"minorgridcolor\": \"white\", \"startlinecolor\": \"#2a3f5f\"}, \"type\": \"carpet\"}], \"choropleth\": [{\"colorbar\": {\"outlinewidth\": 0, \"ticks\": \"\"}, \"type\": \"choropleth\"}], \"contour\": [{\"colorbar\": {\"outlinewidth\": 0, \"ticks\": \"\"}, \"colorscale\": [[0.0, \"#0d0887\"], [0.1111111111111111, \"#46039f\"], [0.2222222222222222, \"#7201a8\"], [0.3333333333333333, \"#9c179e\"], [0.4444444444444444, \"#bd3786\"], [0.5555555555555556, \"#d8576b\"], [0.6666666666666666, \"#ed7953\"], [0.7777777777777778, \"#fb9f3a\"], [0.8888888888888888, \"#fdca26\"], [1.0, \"#f0f921\"]], \"type\": \"contour\"}], \"contourcarpet\": [{\"colorbar\": {\"outlinewidth\": 0, \"ticks\": \"\"}, \"type\": \"contourcarpet\"}], \"heatmap\": [{\"colorbar\": {\"outlinewidth\": 0, \"ticks\": \"\"}, \"colorscale\": [[0.0, \"#0d0887\"], [0.1111111111111111, \"#46039f\"], [0.2222222222222222, \"#7201a8\"], [0.3333333333333333, \"#9c179e\"], [0.4444444444444444, \"#bd3786\"], [0.5555555555555556, \"#d8576b\"], [0.6666666666666666, \"#ed7953\"], [0.7777777777777778, \"#fb9f3a\"], [0.8888888888888888, \"#fdca26\"], [1.0, \"#f0f921\"]], \"type\": \"heatmap\"}], \"heatmapgl\": [{\"colorbar\": {\"outlinewidth\": 0, \"ticks\": \"\"}, \"colorscale\": [[0.0, \"#0d0887\"], [0.1111111111111111, \"#46039f\"], [0.2222222222222222, \"#7201a8\"], [0.3333333333333333, \"#9c179e\"], [0.4444444444444444, \"#bd3786\"], [0.5555555555555556, \"#d8576b\"], [0.6666666666666666, \"#ed7953\"], [0.7777777777777778, \"#fb9f3a\"], [0.8888888888888888, \"#fdca26\"], [1.0, \"#f0f921\"]], \"type\": \"heatmapgl\"}], \"histogram\": [{\"marker\": {\"colorbar\": {\"outlinewidth\": 0, \"ticks\": \"\"}}, \"type\": \"histogram\"}], \"histogram2d\": [{\"colorbar\": {\"outlinewidth\": 0, \"ticks\": \"\"}, \"colorscale\": [[0.0, \"#0d0887\"], [0.1111111111111111, \"#46039f\"], [0.2222222222222222, \"#7201a8\"], [0.3333333333333333, \"#9c179e\"], [0.4444444444444444, \"#bd3786\"], [0.5555555555555556, \"#d8576b\"], [0.6666666666666666, \"#ed7953\"], [0.7777777777777778, \"#fb9f3a\"], [0.8888888888888888, \"#fdca26\"], [1.0, \"#f0f921\"]], \"type\": \"histogram2d\"}], \"histogram2dcontour\": [{\"colorbar\": {\"outlinewidth\": 0, \"ticks\": \"\"}, \"colorscale\": [[0.0, \"#0d0887\"], [0.1111111111111111, \"#46039f\"], [0.2222222222222222, \"#7201a8\"], [0.3333333333333333, \"#9c179e\"], [0.4444444444444444, \"#bd3786\"], [0.5555555555555556, \"#d8576b\"], [0.6666666666666666, \"#ed7953\"], [0.7777777777777778, \"#fb9f3a\"], [0.8888888888888888, \"#fdca26\"], [1.0, \"#f0f921\"]], \"type\": \"histogram2dcontour\"}], \"mesh3d\": [{\"colorbar\": {\"outlinewidth\": 0, \"ticks\": \"\"}, \"type\": \"mesh3d\"}], \"parcoords\": [{\"line\": {\"colorbar\": {\"outlinewidth\": 0, \"ticks\": \"\"}}, \"type\": \"parcoords\"}], \"pie\": [{\"automargin\": true, \"type\": \"pie\"}], \"scatter\": [{\"marker\": {\"colorbar\": {\"outlinewidth\": 0, \"ticks\": \"\"}}, \"type\": \"scatter\"}], \"scatter3d\": [{\"line\": {\"colorbar\": {\"outlinewidth\": 0, \"ticks\": \"\"}}, \"marker\": {\"colorbar\": {\"outlinewidth\": 0, \"ticks\": \"\"}}, \"type\": \"scatter3d\"}], \"scattercarpet\": [{\"marker\": {\"colorbar\": {\"outlinewidth\": 0, \"ticks\": \"\"}}, \"type\": \"scattercarpet\"}], \"scattergeo\": [{\"marker\": {\"colorbar\": {\"outlinewidth\": 0, \"ticks\": \"\"}}, \"type\": \"scattergeo\"}], \"scattergl\": [{\"marker\": {\"colorbar\": {\"outlinewidth\": 0, \"ticks\": \"\"}}, \"type\": \"scattergl\"}], \"scattermapbox\": [{\"marker\": {\"colorbar\": {\"outlinewidth\": 0, \"ticks\": \"\"}}, \"type\": \"scattermapbox\"}], \"scatterpolar\": [{\"marker\": {\"colorbar\": {\"outlinewidth\": 0, \"ticks\": \"\"}}, \"type\": \"scatterpolar\"}], \"scatterpolargl\": [{\"marker\": {\"colorbar\": {\"outlinewidth\": 0, \"ticks\": \"\"}}, \"type\": \"scatterpolargl\"}], \"scatterternary\": [{\"marker\": {\"colorbar\": {\"outlinewidth\": 0, \"ticks\": \"\"}}, \"type\": \"scatterternary\"}], \"surface\": [{\"colorbar\": {\"outlinewidth\": 0, \"ticks\": \"\"}, \"colorscale\": [[0.0, \"#0d0887\"], [0.1111111111111111, \"#46039f\"], [0.2222222222222222, \"#7201a8\"], [0.3333333333333333, \"#9c179e\"], [0.4444444444444444, \"#bd3786\"], [0.5555555555555556, \"#d8576b\"], [0.6666666666666666, \"#ed7953\"], [0.7777777777777778, \"#fb9f3a\"], [0.8888888888888888, \"#fdca26\"], [1.0, \"#f0f921\"]], \"type\": \"surface\"}], \"table\": [{\"cells\": {\"fill\": {\"color\": \"#EBF0F8\"}, \"line\": {\"color\": \"white\"}}, \"header\": {\"fill\": {\"color\": \"#C8D4E3\"}, \"line\": {\"color\": \"white\"}}, \"type\": \"table\"}]}, \"layout\": {\"annotationdefaults\": {\"arrowcolor\": \"#2a3f5f\", \"arrowhead\": 0, \"arrowwidth\": 1}, \"coloraxis\": {\"colorbar\": {\"outlinewidth\": 0, \"ticks\": \"\"}}, \"colorscale\": {\"diverging\": [[0, \"#8e0152\"], [0.1, \"#c51b7d\"], [0.2, \"#de77ae\"], [0.3, \"#f1b6da\"], [0.4, \"#fde0ef\"], [0.5, \"#f7f7f7\"], [0.6, \"#e6f5d0\"], [0.7, \"#b8e186\"], [0.8, \"#7fbc41\"], [0.9, \"#4d9221\"], [1, \"#276419\"]], \"sequential\": [[0.0, \"#0d0887\"], [0.1111111111111111, \"#46039f\"], [0.2222222222222222, \"#7201a8\"], [0.3333333333333333, \"#9c179e\"], [0.4444444444444444, \"#bd3786\"], [0.5555555555555556, \"#d8576b\"], [0.6666666666666666, \"#ed7953\"], [0.7777777777777778, \"#fb9f3a\"], [0.8888888888888888, \"#fdca26\"], [1.0, \"#f0f921\"]], \"sequentialminus\": [[0.0, \"#0d0887\"], [0.1111111111111111, \"#46039f\"], [0.2222222222222222, \"#7201a8\"], [0.3333333333333333, \"#9c179e\"], [0.4444444444444444, \"#bd3786\"], [0.5555555555555556, \"#d8576b\"], [0.6666666666666666, \"#ed7953\"], [0.7777777777777778, \"#fb9f3a\"], [0.8888888888888888, \"#fdca26\"], [1.0, \"#f0f921\"]]}, \"colorway\": [\"#636efa\", \"#EF553B\", \"#00cc96\", \"#ab63fa\", \"#FFA15A\", \"#19d3f3\", \"#FF6692\", \"#B6E880\", \"#FF97FF\", \"#FECB52\"], \"font\": {\"color\": \"#2a3f5f\"}, \"geo\": {\"bgcolor\": \"white\", \"lakecolor\": \"white\", \"landcolor\": \"#E5ECF6\", \"showlakes\": true, \"showland\": true, \"subunitcolor\": \"white\"}, \"hoverlabel\": {\"align\": \"left\"}, \"hovermode\": \"closest\", \"mapbox\": {\"style\": \"light\"}, \"paper_bgcolor\": \"white\", \"plot_bgcolor\": \"#E5ECF6\", \"polar\": {\"angularaxis\": {\"gridcolor\": \"white\", \"linecolor\": \"white\", \"ticks\": \"\"}, \"bgcolor\": \"#E5ECF6\", \"radialaxis\": {\"gridcolor\": \"white\", \"linecolor\": \"white\", \"ticks\": \"\"}}, \"scene\": {\"xaxis\": {\"backgroundcolor\": \"#E5ECF6\", \"gridcolor\": \"white\", \"gridwidth\": 2, \"linecolor\": \"white\", \"showbackground\": true, \"ticks\": \"\", \"zerolinecolor\": \"white\"}, \"yaxis\": {\"backgroundcolor\": \"#E5ECF6\", \"gridcolor\": \"white\", \"gridwidth\": 2, \"linecolor\": \"white\", \"showbackground\": true, \"ticks\": \"\", \"zerolinecolor\": \"white\"}, \"zaxis\": {\"backgroundcolor\": \"#E5ECF6\", \"gridcolor\": \"white\", \"gridwidth\": 2, \"linecolor\": \"white\", \"showbackground\": true, \"ticks\": \"\", \"zerolinecolor\": \"white\"}}, \"shapedefaults\": {\"line\": {\"color\": \"#2a3f5f\"}}, \"ternary\": {\"aaxis\": {\"gridcolor\": \"white\", \"linecolor\": \"white\", \"ticks\": \"\"}, \"baxis\": {\"gridcolor\": \"white\", \"linecolor\": \"white\", \"ticks\": \"\"}, \"bgcolor\": \"#E5ECF6\", \"caxis\": {\"gridcolor\": \"white\", \"linecolor\": \"white\", \"ticks\": \"\"}}, \"title\": {\"x\": 0.05}, \"xaxis\": {\"automargin\": true, \"gridcolor\": \"white\", \"linecolor\": \"white\", \"ticks\": \"\", \"title\": {\"standoff\": 15}, \"zerolinecolor\": \"white\", \"zerolinewidth\": 2}, \"yaxis\": {\"automargin\": true, \"gridcolor\": \"white\", \"linecolor\": \"white\", \"ticks\": \"\", \"title\": {\"standoff\": 15}, \"zerolinecolor\": \"white\", \"zerolinewidth\": 2}}}, \"title\": {\"text\": \"Total years of experience vs the current salary\"}, \"xaxis\": {\"ticklen\": 5, \"title\": {\"text\": \"years of experience\"}, \"zeroline\": false}},\n",
              "                        {\"responsive\": true}\n",
              "                    ).then(function(){\n",
              "                            \n",
              "var gd = document.getElementById('aa3942b2-c1d6-4f59-950c-b871c9985204');\n",
              "var x = new MutationObserver(function (mutations, observer) {{\n",
              "        var display = window.getComputedStyle(gd).display;\n",
              "        if (!display || display === 'none') {{\n",
              "            console.log([gd, 'removed!']);\n",
              "            Plotly.purge(gd);\n",
              "            observer.disconnect();\n",
              "        }}\n",
              "}});\n",
              "\n",
              "// Listen for the removal of the full notebook cells\n",
              "var notebookContainer = gd.closest('#notebook-container');\n",
              "if (notebookContainer) {{\n",
              "    x.observe(notebookContainer, {childList: true});\n",
              "}}\n",
              "\n",
              "// Listen for the clearing of the current output cell\n",
              "var outputEl = gd.closest('.output');\n",
              "if (outputEl) {{\n",
              "    x.observe(outputEl, {childList: true});\n",
              "}}\n",
              "\n",
              "                        })\n",
              "                };\n",
              "                \n",
              "            </script>\n",
              "        </div>\n",
              "</body>\n",
              "</html>"
            ]
          },
          "metadata": {
            "tags": []
          }
        }
      ]
    },
    {
      "cell_type": "markdown",
      "metadata": {
        "id": "zC8hLjOLgnZS"
      },
      "source": [
        "4. Create the above plot again and add 2 more line plots to the same graph, that display the Total years of experience vs the median Yearly brutto salary (without bonus and stocks) of the year 2019 and 2020.\n"
      ]
    },
    {
      "cell_type": "code",
      "metadata": {
        "colab": {
          "base_uri": "https://localhost:8080/"
        },
        "id": "aYwE6zafE3Vj",
        "outputId": "c93acf66-1753-41a3-949b-562b71d38d64"
      },
      "source": [
        "data19.columns"
      ],
      "execution_count": null,
      "outputs": [
        {
          "output_type": "execute_result",
          "data": {
            "text/plain": [
              "Index(['Age', 'Gender', 'City', 'Seniority level',\n",
              "       'Position (without seniority)', 'Years of experience',\n",
              "       'Your main technology / programming language',\n",
              "       'Yearly brutto salary (without bonus and stocks)', 'Yearly bonus',\n",
              "       'Yearly stocks', 'Yearly brutto same country year ago',\n",
              "       'Yearly bonus one year ago staying in same country',\n",
              "       'Yearly stocks one year ago staying in same country',\n",
              "       'Number of vacation days', 'Number of home office days per month',\n",
              "       'Main language at work', 'Company name ', 'Company size',\n",
              "       'Company type', 'Сontract duration', 'Company business sector'],\n",
              "      dtype='object')"
            ]
          },
          "metadata": {
            "tags": []
          },
          "execution_count": 52
        }
      ]
    },
    {
      "cell_type": "code",
      "metadata": {
        "colab": {
          "base_uri": "https://localhost:8080/"
        },
        "id": "3AX9_0vWnRHI",
        "outputId": "96a71564-9011-496e-938b-83cb9c299086"
      },
      "source": [
        "df = data19[['Years of experience', 'Yearly brutto salary (without bonus and stocks)']]\n",
        "df19 = df.groupby(['Years of experience'],as_index=False)['Yearly brutto salary (without bonus and stocks)'].median()\n",
        "df19.info()"
      ],
      "execution_count": null,
      "outputs": [
        {
          "output_type": "stream",
          "text": [
            "<class 'pandas.core.frame.DataFrame'>\n",
            "Int64Index: 26 entries, 0 to 25\n",
            "Data columns (total 2 columns):\n",
            " #   Column                                           Non-Null Count  Dtype  \n",
            "---  ------                                           --------------  -----  \n",
            " 0   Years of experience                              26 non-null     int64  \n",
            " 1   Yearly brutto salary (without bonus and stocks)  26 non-null     float64\n",
            "dtypes: float64(1), int64(1)\n",
            "memory usage: 624.0 bytes\n"
          ],
          "name": "stdout"
        }
      ]
    },
    {
      "cell_type": "code",
      "metadata": {
        "colab": {
          "base_uri": "https://localhost:8080/",
          "height": 542
        },
        "id": "e_4FA6xLmaGz",
        "outputId": "07c5fb29-8762-4042-984e-9391d6ef3c6e"
      },
      "source": [
        "# Creating trace2\n",
        "trace2 = go.Scatter(\n",
        "                    x = df19['Years of experience'],\n",
        "                    y = df19['Yearly brutto salary (without bonus and stocks)'],\n",
        "                    mode = \"lines+markers\",\n",
        "                    name = \"2019\",\n",
        "                    marker = dict(color = 'rgba(80, 26, 80, 0.8)'),\n",
        "                    text= data19['Company type'])\n",
        "data = [trace1, trace2]\n",
        "layout = dict(title = 'Years of experience vs Yearly brutto salary (without bonus and stocks) in 2019 & Current salary in 2018',\n",
        "              xaxis= dict(title= 'Years of experience',ticklen= 5,zeroline= False)\n",
        "             )\n",
        "fig = dict(data = data, layout = layout)\n",
        "iplot(fig)"
      ],
      "execution_count": null,
      "outputs": [
        {
          "output_type": "display_data",
          "data": {
            "text/html": [
              "<html>\n",
              "<head><meta charset=\"utf-8\" /></head>\n",
              "<body>\n",
              "    <div>\n",
              "            <script src=\"https://cdnjs.cloudflare.com/ajax/libs/mathjax/2.7.5/MathJax.js?config=TeX-AMS-MML_SVG\"></script><script type=\"text/javascript\">if (window.MathJax) {MathJax.Hub.Config({SVG: {font: \"STIX-Web\"}});}</script>\n",
              "                <script type=\"text/javascript\">window.PlotlyConfig = {MathJaxConfig: 'local'};</script>\n",
              "        <script src=\"https://cdn.plot.ly/plotly-latest.min.js\"></script>    \n",
              "            <div id=\"ec465e6c-2b46-4a26-b5c6-3ddc89de4822\" class=\"plotly-graph-div\" style=\"height:525px; width:100%;\"></div>\n",
              "            <script type=\"text/javascript\">\n",
              "                \n",
              "                    window.PLOTLYENV=window.PLOTLYENV || {};\n",
              "                    \n",
              "                if (document.getElementById(\"ec465e6c-2b46-4a26-b5c6-3ddc89de4822\")) {\n",
              "                    Plotly.newPlot(\n",
              "                        'ec465e6c-2b46-4a26-b5c6-3ddc89de4822',\n",
              "                        [{\"marker\": {\"color\": \"rgba(16, 112, 2, 0.8)\"}, \"mode\": \"lines\", \"name\": \"2018\", \"text\": [\"Product\", \"Product\", \"Product\", \"Product\", \"Ecom retailer\", \"Insurance\", \"Product\", \"Product\", \"Startup\", \"Agency\", \"Product\", \"Product\", \"Startup\", \"Product\", \"Product\", \"Startup\", \"Product\", \"Product\", \"Agency\", \"Startup\", \"Big Tech\", \"Startup\", \"Product\", \"Consultancy\", \"Agency\", \"Product\", \"Product\", \"Product\", \"Product\", \"Product\", \"Corporation\", \"Startup\", \"Product\", \"Product\", \"Product\", \"Startup\", \"Product\", \"Product\", \"Product\", \"Product\", \"Product\", \"Startup\", \"Product\", \"Product\", \"Product\", \"Product\", \"Product\", \"Product\", \"Product\", \"Product\", \"Startup\", \"Product\", \"Agency\", \"Startup\", \"Product\", \"Startup\", \"Product\", \"Consultancy\", \"Product\", \"Product\", \"Product\", \"Product\", \"Product\", \"Product\", \"Agency\", \"Product\", \"Product\", \"Agency\", \"Product\", \"Product\", \"Startup\", \"Product\", \"Product\", \"Agency\", \"Agency\", \"Product\", \"Product\", \"Startup\", \"Startup\", \"Product\", \"Product\", \"Startup\", \"Product\", \"Product\", \"Product\", \"Startup\", \"Startup\", \"Product\", \"Product\", \"Startup\", \"Agency\", \"Startup\", \"Product\", \"Product\", \"Product\", \"Outsource\", \"Startup\", \"Product\", \"Product\", \"Startup\", \"Agency\", \"Product\", \"Agency\", \"Product\", \"Startup\", \"Product\", \"Product\", \"Product\", \"Product\", \"Product\", \"Startup\", \"Startup\", \"Product\", \"Product\", \"Product\", \"Product\", \"Startup\", \"Startup\", \"Product\", \"Product\", \"Product\", \"Product\", \"Product\", \"Product\", \"Startup\", \"Agency\", \"Product\", \"Startup\", \"Product\", \"Product\", \"Product\", \"Startup\", \"Product\", \"Product\", \"Startup\", \"Industry\", \"Product\", \"E-Commerce firm\", \"Product\", \"Product\", \"Startup\", \"Product\", \"Product\", \"Product\", \"Product\", \"Product\", \"Product\", \"Startup\", \"Product\", \"Product\", \"Product\", \"Product\", \"Startup\", \"Startup\", \"Product\", \"Product\", \"Startup\", \"Product\", \"Product\", \"Product\", \"Startup\", \"Startup\", \"Product\", \"Product\", \"Product\", \"Product\", \"Product\", \"Product\", \"Consulting\", \"Startup\", \"Product\", \"Startup\", \"Product\", \"Product\", \"Agency\", \"Product\", \"Internal development for a non-IT company\", \"Startup\", \"Startup\", \"Product\", \"Product\", \"Product\", \"Product\", \"Product\", \"Product\", \"Agency\", \"Product\", \"Startup\", \"Product\", \"Startup\", \"Agency\", \"Startup\", \"Personaldienstleister\", \"Startup\", \"Product\", \"Startup\", \"Product\", \"Startup\", \"Product\", \"Product\", \"Startup\", \"Product\", \"Agency\", \"Agency\", \"Product\", \"Product\", \"Product\", \"Startup\", \"Product\", \"Startup\", \"Product\", \"Product\", \"Product\", \"Startup\", \"Product\", \"Agency\", \"Startup\", \"Product\", \"Startup\", \"ipo\", \"Product\", \"e-commerce\", \"Product\", \"Startup\", \"Product\", \"Product\", \"Outsource\", \"Product\", \"Product\", \"Startup\", \"Product\", \"Product\", \"Startup\", \"Product\", \"Product\", \"Product\", \"Product\", \"Product\", \"Startup\", \"Startup\", \"Product\", \"Product\", \"Product\", \"Product\", \"Product\", \"Product\", \"Startup\", \"Product\", \"Product\", \"Product\", \"Product\", \"Product\", \"Product\", \"Product\", \"Product\", \"Product\", \"Agency\", \"Startup\", \"Product\", \"Product\", \"Agency\", \"Product\", \"Product\", \"Product\", \"Product\", \"Agency\", \"Startup\", \"Startup\", \"Product\", \"Product\", \"Product\", \"Product\", \"Product\", \"Product\", \"Startup\", \"Product\", \"Startup\", \"Product\", \"Product\", \"Agency\", \"Product\", \"Product\", \"Startup\", \"Product\", \"Startup\", \"Product\", \"Product\", \"Product\", \"Startup\", \"Product\", \"Startup\", \"Agency\", \"Product and Projects\", \"Product\", \"Product\", \"Product\", \"Startup\", \"E-Commerce\", \"Product\", \"Development\", \"Product\", \"Product\", \"Outsource\", \"Product\", \"Product\", \"Startup\", \"Startup\", \"Product\", \"Startup\", \"Product\", \"Product\", \"Product\", \"Product\", \"Startup\", \"Product\", \"Product\", \"Product\", \"Product\", \"Agency\", \"Product\", \"Product\", \"Product\", \"Product\", \"Product\", \"Startup\", \"Startup\", \"Product\", \"Product\", \"Product\", \"Product\", \"Product\", \"Product\", \"Product\", \"Product\", \"Startup\", \"Product\", \"Product\", \"Product\", \"Startup\", \"Product\", \"Product\", \"Product\", \"Product\", \"Startup\", \"Product\", \"Product\", \"Startup\", \"Product\", \"Product\", \"Product\", \"Agency\", \"Agency\", \"Product\", \"Startup\", \"Agency\", \"Product\", \"Startup\", \"Startup\", \"Product\", \"Product\", \"Consulting Company\", \"Startup\", \"Product\", \"Product\", \"Product\", \"Product\", \"Startup\", \"Product\", \"Product\", \"Startup\", \"Product\", \"Product\", \"Agency\", \"Startup\", \"Startup\", \"Agency\", \"Product\", \"Product\", \"Startup\", \"IT Dienstleistungen \", \"Product\", \"Product\", \"Agency\", \"Product\", \"Startup\", \"Product\", \"Product\", \"Agency\", \"Agency\", \"Product\", \"Manufacturing\", \"Product\", \"Startup\", \"Product\", \"Startup\", \"Product\", \"Stock market \", \"Product\", \"telecom operator\", \"Product\", \"Product\", \"Ecommerce\", \"Startup\", \"Startup\", \"Product\", \"Consulting\", \"Product\", \"Startup\", \"Product\", \"Agency\", \"Product\", \"Product\", \"Agency\", \"Product\", \"Product\", \"Startup\", \"Product\", \"Product\", \"Product\", \"Product\", \"Startup\", \"Product\", \"Product\", \"Startup\", \"Product\", \"Product\", \"Product\", \"Startup\", \"Consulting\", \"Outsourcing\", \"Startup\", \"Product\", \"Product\", \"Agency\", \"Product\", \"Agency\", \"Startup\", \"Product\", \"Product\", \"Product\", \"Product\", \"Product\", \"Outsorce\", \"Product\", \"Product\", \"Product\", \"Product\", \"Product\", \"Product\", \"Product\", \"Startup\", \"Product\", \"Agency\", \"Outsource\", \"Product\", \"Product\", \"Product\", \"Product\", \"consulting\", \"Startup\", \"Product\", \"Product\", \"Product\", \"Product\", \"Outsource\", \"Agency\", \"Product\", \"Product\", \"Agency\", \"Product\", \"GmbH\", \"Product\", \"Product\", \"Product\", \"Startup\", \"Startup\", \"Product\", \"Startup\", \"Product\", \"Startup\", \"Corporation\", \"Product\", \"Product\", \"Product\", \"Agency\", \"Product\", \"Product\", \"Product\", \"Product\", \"Product\", \"Product\", \"IT Consulting \", \"Startup\", \"Product\", \"Product\", \"Product\", \"Product\", \"Product\", \"Product\", \"Startup\", \"Product\", \"Product\", \"Agency\", \"Product\", \"Product\", \"Product\", \"Product\", \"Product\", \"Product\", \"Startup\", \"Agency\", \"Startup\", \"Product\", \"Product\", \"Product\", \"Startup\", \"Startup\", \"Product\", \"Product\", \"Agency\", \"Startup\", \"Startup\", \"Startup\", \"Startup\", \"Product\", \"Product\", \"Product\", \"IT Consultancy \", \"Product\", \"Agency\", \"Startup\", \"Product\", \"Product\", \"Product\", \"Product\", \"Startup\", \"Product\", \"Product\", \"Product\", \"Product\", \"Product\", \"Product\", \"Agency\", \"Product\", \"IT Service Provider\", \"Product\", \"Startup\", \"Product\", \"Product\", \"Agency\", \"Product\", \"Product\", \"non-IT, manufacturing\", \"Bank \", \"Insurance\", \"Product\", \"Product\", \"Product\", \"IT-Beratung\", \"Product\", \"Startup\", \"Startup\", \"Product\", \"Startup\", \"Product\", \"Consulting\", \"Startup\", \"Product\", \"Product\", \"Startup\", \"Product\", \"Agency\", \"Product\", \"Product\", \"Startup\", \"Startup\", \"Technology Consulting\", \"Startup\", \"Agency\", \"Product\", \"Startup\", \"Product\", \"outsource\", \"Product\", \"IT Consultants\", \"Product\", \"Agency\", \"Agency\", \"Agency\", \"Agency\", \"Product\", \"Product\", \"Product\", \"Startup\", \"Product\", \"Consulting\", \"Hochschule/university\", \"Product\", \"Product\", \"Product\", \"ISP\", \"Product\", \"Product\", \"Product\", \"Product\", \"Startup\", \"Product\", \"Product\", \"Product\", \"Product\", \"Product\", \"Product\", \"Product\", \"Product\", \"Agency\", \"Product\", \"Product\", \"Product\", \"Product\", \"Product\", \"Agency\", \"Product\", \"Product\", \"Product\", \"Product\", \"Product\", \"Product\", \"Startup\", \"Product\", \"Product\", \"Product\", \"Product\", \"Product\", \"Agency\", \"Fin Tech\", \"Agency\", \"Startup\", \"Product\", \"Outsourcing\", \"Product\", \"Startup\", \"Product\", \"Product\", \"Outsourcing\", \"Product\", \"Startup\", \"Product\", \"Blockchain technology\", \"Retail\", \"Startup\", \"Agency\", \"Product\", \"Product\", \"Product\", \"Product\", \"Agency\", \"Startup\", \"Consult\", \"Startup\", \"Product\", \"Product\", \"Agency\", \"Agency\", \"Product\", \"Product\", \"Product\", \"Product\", \"Product\", \"Product\", \"Product\", \"Product\", \"Agency\", \"Startup\", \"Product\", \"Product\", \"Product\", \"Agency\", \"Product\", \"Product\", \"Product\", \"Agency\", \"Product\", \"Project-based software development\", \"Product\", \"Product\", \"Product\", \"Automotive\", \"Product\", \"Product\", \"Product\", \"Startup\", \"Product\", \"Startup\", \"Product\", \"Product\", \"Automotive\", \"Product\", \"Product\", \"Product\", \"Product\", \"Startup\", \"Product\", \"Product\", \"Startup\", \"Product\", \"OEM\", \"Consulting (banking)\", \"Product\", \"Agency\", \"Startup\", \"Product\", \"IT Consulting\", \"Agency\", \"Product\", \"Agency\", \"Product\", \"Product\", \"Product\", \"Product\", \"Product\", \"Startup\", \"Product\", \"Product\", \"Product\", \"Startup\", \"Product\", \"Product\", \"Product\", \"Product\", \"Agency\", \"Product\", \"Product\", \"Agency\", \"Product\", \"Agency\", \"Product\", \"Product\", \"Product\", \"Product\", \"Agency\", \"Agency\", \"Product\", \"Product\", \"Product\"], \"type\": \"scatter\", \"x\": [0.0, 0.5, 1.0, 1.5, 2.0, 2.5, 3.0, 4.0, 4.5, 5.0, 6.0, 7.0, 7.5, 8.0, 8.548497267759563, 9.0, 10.0, 11.0, 12.0, 13.0, 14.0, 15.0, 16.0, 17.0, 18.0, 19.0, 20.0, 21.0, 25.0, 30.0, 38.0], \"y\": [50000.0, 46000.0, 47000.0, 58000.0, 51000.0, 50000.0, 55555.0, 60000.0, 39150.0, 60000.0, 63000.0, 68000.0, 65000.0, 70000.0, 70000.0, 70000.0, 70000.0, 71000.0, 71000.0, 73500.0, 73000.0, 68000.0, 90500.0, 80000.0, 72500.0, 84000.0, 80000.0, 90000.0, 109000.0, 64000.0, 58000.0]}, {\"marker\": {\"color\": \"rgba(80, 26, 80, 0.8)\"}, \"mode\": \"lines+markers\", \"name\": \"2019\", \"text\": [\"Startup\", \"Product\", \"Startup\", \"Product\", \"Product\", \"Product\", \"Startup\", \"Product\", \"Product\", \"Product\", \"Startup\", \"Product\", \"Startup\", \"Product\", \"Startup\", \"Startup\", \"Product\", \"Product\", \"Product\", \"Product\", \"Startup\", \"Product\", \"Product\", \"Product\", \"Product\", \"Product\", \"Product\", \"Consulting / Agency\", \"Product\", \"Product\", \"Product\", \"Consulting / Agency\", \"Startup\", \"Product\", \"Product\", \"Product\", \"Product\", \"Startup\", \"Product\", \"Product\", \"Startup\", \"Product\", \"Product\", \"Startup\", \"Startup\", \"Product\", \"Product\", \"Consulting / Agency\", \"Startup\", \"Product\", \"Startup\", \"Consulting / Agency\", \"Startup\", \"Startup\", \"Product\", \"Consulting / Agency\", \"Product\", \"Startup\", \"Startup\", \"Startup\", \"Product\", \"Product\", \"Product\", \"Product\", \"Startup\", \"Product\", \"Product\", \"Startup\", \"Consulting / Agency\", \"Product\", \"Product\", \"Consulting / Agency\", \"Product\", \"Product\", \"Startup\", \"Product\", \"Product\", \"Product\", \"Product\", \"Product\", \"Startup\", \"Product\", \"Product\", \"Product\", \"Consulting / Agency\", \"Product\", \"Startup\", \"Product\", \"Product\", \"Product\", \"Startup\", \"Consulting / Agency\", \"Product\", \"Startup\", \"Product\", \"Startup\", \"Product\", \"Product\", \"Product\", \"Product\", \"Product\", \"Consulting / Agency\", \"Startup\", \"Product\", \"Consulting / Agency\", \"Startup\", \"Product\", \"Product\", \"Consulting / Agency\", \"Product\", \"Product\", \"Consulting / Agency\", \"Startup\", \"Startup\", \"Consulting / Agency\", \"Product\", \"Product\", \"Bodyshop / Outsource\", \"Product\", \"Product\", \"Product\", \"Product\", \"Product\", \"Product\", \"Product\", \"Consulting / Agency\", \"Product\", \"Product\", \"Product\", \"Product\", \"Product\", \"Bodyshop / Outsource\", \"Startup\", \"Product\", \"Consulting / Agency\", \"Bodyshop / Outsource\", \"Consulting / Agency\", \"Product\", \"Product\", \"Consulting / Agency\", \"Product\", \"Product\", \"Startup\", \"Product\", \"Product\", \"Product\", \"Product\", \"Product\", \"Product\", \"Consulting / Agency\", \"Product\", \"Product\", \"Product\", \"Product\", \"Product\", \"Product\", \"Product\", \"Product\", \"Product\", \"Product\", \"Product\", \"Consulting / Agency\", \"Startup\", \"Product\", \"Product\", \"Consulting / Agency\", \"Product\", \"Product\", \"Startup\", \"Startup\", \"Product\", \"Product\", \"Product\", \"Product\", \"Product\", \"Product\", \"Product\", \"Product\", \"Product\", \"Consulting / Agency\", \"Product\", \"Product\", \"Consulting / Agency\", \"Product\", \"Consulting / Agency\", \"Product\", \"Product\", \"Product\", \"Product\", \"Product\", \"Product\", \"Product\", \"Product\", \"Product\", \"Product\", \"Consulting / Agency\", \"Product\", \"Product\", \"Startup\", \"Product\", \"Consulting / Agency\", \"Product\", \"Product\", \"Product\", \"Consulting / Agency\", \"Product\", \"Product\", \"Product\", \"Product\", \"Product\", \"Product\", \"Product\", \"Product\", \"Product\", \"Product\", \"Product\", \"Product\", \"Product\", \"Product\", \"Product\", \"Product\", \"Product\", \"Startup\", \"Product\", \"Bodyshop / Outsource\", \"Product\", \"Startup\", \"Consulting / Agency\", \"Product\", \"Consulting / Agency\", \"Product\", \"Bodyshop / Outsource\", \"Product\", \"Startup\", \"Startup\", \"Consulting / Agency\", \"Startup\", \"Product\", \"Product\", \"Bodyshop / Outsource\", \"Product\", \"Startup\", \"Product\", \"Product\", \"Consulting / Agency\", \"Product\", \"Product\", \"Product\", \"Product\", \"Product\", \"Product\", \"Product\", \"Product\", \"Product\", \"Product\", \"Startup\", \"Product\", \"Product\", \"Product\", \"Startup\", \"Startup\", \"Product\", \"Product\", \"Product\", \"Product\", \"Startup\", \"Product\", \"Startup\", \"Bodyshop / Outsource\", \"Product\", \"Consulting / Agency\", \"Product\", \"Product\", \"Consulting / Agency\", \"Product\", \"Startup\", \"Product\", \"Product\", \"Product\", \"Product\", \"Product\", \"Product\", \"Product\", \"Product\", \"Startup\", \"Product\", \"Product\", \"Product\", \"Startup\", \"Product\", \"Product\", \"Product\", \"Consulting / Agency\", \"Bodyshop / Outsource\", \"Product\", \"Product\", \"Product\", \"Consulting / Agency\", \"Product\", \"Product\", \"Product\", \"Product\", \"Product\", \"Startup\", \"Product\", \"Product\", \"Product\", \"Startup\", \"Consulting / Agency\", \"Startup\", \"Product\", \"Product\", \"Product\", \"Startup\", \"Product\", \"Product\", \"Startup\", \"Product\", \"Product\", \"Product\", \"Product\", \"Product\", \"Product\", \"Product\", \"Startup\", \"Product\", \"Product\", \"Product\", \"Consulting / Agency\", \"Product\", \"Product\", \"Product\", \"Startup\", \"Startup\", \"Product\", \"Product\", \"Product\", \"Product\", \"Product\", \"Product\", \"Product\", \"Product\", \"Product\", \"Product\", \"Startup\", \"Product\", \"Bodyshop / Outsource\", \"Product\", \"Startup\", \"Product\", \"Product\", \"Product\", \"Product\", \"Consulting / Agency\", \"Product\", \"Product\", \"Product\", \"Product\", \"Product\", \"Startup\", \"Startup\", \"Product\", \"Product\", \"Product\", \"Product\", \"Product\", \"Startup\", \"Product\", \"Product\", \"Startup\", \"Product\", \"Consulting / Agency\", \"Startup\", \"Consulting / Agency\", \"Product\", \"Product\", \"Product\", \"Bodyshop / Outsource\", \"Product\", \"Bodyshop / Outsource\", \"Product\", \"Startup\", \"Product\", \"Product\", \"Startup\", \"Product\", \"Startup\", \"Startup\", \"Product\", \"Startup\", \"Product\", \"Product\", \"Product\", \"Product\", \"Product\", \"Product\", \"Consulting / Agency\", \"Startup\", \"Product\", \"Product\", \"Product\", \"Product\", \"Product\", \"Startup\", \"Consulting / Agency\", \"Product\", \"Product\", \"Startup\", \"Product\", \"Product\", \"Product\", \"Product\", \"Product\", \"Product\", \"Product\", \"Product\", \"Startup\", \"Product\", \"Startup\", \"Consulting / Agency\", \"Consulting / Agency\", \"Product\", \"Product\", \"Consulting / Agency\", \"Consulting / Agency\", \"Consulting / Agency\", \"Product\", \"Product\", \"Startup\", \"Product\", \"Product\", \"Product\", \"Bodyshop / Outsource\", \"Product\", \"Product\", \"Consulting / Agency\", \"Startup\", \"Product\", \"Startup\", \"Startup\", \"Startup\", \"Consulting / Agency\", \"Consulting / Agency\", \"Product\", \"Product\", \"Product\", \"Startup\", \"Product\", \"Startup\", \"Startup\", \"Startup\", \"Product\", \"Consulting / Agency\", \"Consulting / Agency\", \"Startup\", \"Product\", \"Product\", \"Product\", \"University\", \"Bodyshop / Outsource\", \"Product\", \"Product\", \"Product\", \"Startup\", \"Product\", \"Bodyshop / Outsource\", \"Product\", \"Product\", \"Product\", \"Product\", \"Consulting / Agency\", \"Startup\", \"Product\", \"Product\", \"Product\", \"Product\", \"Consulting / Agency\", \"Startup\", \"Product\", \"Startup\", \"Product\", \"Product\", \"Product\", \"Product\", \"Product\", \"Startup\", \"Product\", \"Product\", \"Startup\", \"Consulting / Agency\", \"Product\", \"Product\", \"Consulting / Agency\", \"Product\", \"Product\", \"Product\", \"Product\", \"Product\", \"Startup\", \"Consulting / Agency\", \"Startup\", \"Consulting / Agency\", \"Product\", \"Product\", \"Startup\", \"Product\", \"Product\", \"Product\", \"Startup\", \"Product\", \"Consulting / Agency\", \"Startup\", \"Consulting / Agency\", \"Consulting / Agency\", \"Consulting / Agency\", \"Product\", \"Product\", \"Startup\", \"Product\", \"Product\", \"Startup\", \"Product\", \"Product\", \"Startup\", \"Consulting / Agency\", \"Product\", \"Product\", \"Product\", \"Product\", \"Startup\", \"Startup\", \"Consulting / Agency\", \"Product\", \"Product\", \"Startup\", \"Product\", \"Product\", \"Product\", \"Startup\", \"Startup\", \"Product\", \"Product\", \"Startup\", \"Product\", \"Product\", \"Product\", \"Product\", \"Product\", \"Startup\", \"Product\", \"Product\", \"Product\", \"Product\", \"Product\", \"Product\", \"Product\", \"Product\", \"Product\", \"Product\", \"Startup\", \"Product\", \"Product\", \"Startup\", \"Bodyshop / Outsource\", \"Startup\", \"Consulting / Agency\", \"Startup\", \"Product\", \"Product\", \"Product\", \"Startup\", \"Product\", \"Consulting / Agency\", \"Product\", \"Product\", \"Product\", \"Consulting / Agency\", \"Startup\", \"Product\", \"Startup\", \"Consulting / Agency\", \"Startup\", \"Product\", \"Product\", \"Product\", \"Consulting / Agency\", \"Product\", \"Product\", \"Product\", \"Consulting / Agency\", \"Consulting / Agency\", \"Product\", \"Product\", \"Product\", \"Product\", \"Product\", \"Consulting / Agency\", \"Product\", \"Product\", \"Consulting / Agency\", \"Product\", \"Product\", \"Product\", \"Startup\", \"Product\", \"Product\", \"Consulting / Agency\", \"Product\", \"Product\", \"Product\", \"Product\", \"Product\", \"Product\", \"Product\", \"Product\", \"Product\", \"Product\", \"Product\", \"Startup\", \"Product\", \"Product\", \"Product\", \"Product\", \"Product\", \"Product\", \"Consulting / Agency\", \"Product\", \"Bodyshop / Outsource\", \"Product\", \"Product\", \"Startup\", \"Product\", \"Product\", \"Consulting / Agency\", \"Product\", \"Product\", \"Consulting / Agency\", \"Product\", \"Startup\", \"Product\", \"Startup\", \"Startup\", \"Product\", \"Consulting / Agency\", \"Startup\", \"Product\", \"Consulting / Agency\", \"Consulting / Agency\", \"Product\", \"Product\", \"Product\", \"Product\", \"Product\", \"Product\", \"Startup\", \"Product\", \"Product\", \"Product\", \"Startup\", \"Product\", \"Product\", \"Startup\", \"Product\", \"Startup\", \"Product\", \"Product\", \"Consulting / Agency\", \"Product\", \"Product\", \"Startup\", \"Product\", \"Product\", \"Consulting / Agency\", \"Product\", \"Product\", \"Product\", \"Product\", \"Product\", \"Startup\", \"Startup\", \"Product\", \"Product\", \"Consulting / Agency\", \"Product\", \"Startup\", \"Consulting / Agency\", \"Bodyshop / Outsource\", \"Startup\", \"Startup\", \"Product\", \"Product\", \"Product\", \"Startup\", \"Startup\", \"Product\", \"Startup\", \"Product\", \"Product\", \"Bank\", \"Product\", \"Bodyshop / Outsource\", \"Product\", \"Startup\", \"University\", \"Product\", \"Product\", \"Product\", \"Product\", \"Product\", \"Product\", \"Startup\", \"Product\", \"Product\", \"Product\", \"Bodyshop / Outsource\", \"Startup\", \"Product\", \"Product\", \"Product\", \"Product\", \"Product\", \"Startup\", \"Product\", \"Product\", \"Product\", \"Startup\", \"Bodyshop / Outsource\", \"Product\", \"Product\", \"Startup\", \"Product\", \"Product\", \"Product\", \"Product\", \"Product\", \"Product\", \"Product\", \"Bodyshop / Outsource\", \"Consulting / Agency\", \"Product\", \"Product\", \"Product\", \"Product\", \"Product\", \"Product\", \"Product\", \"Startup\", \"Product\", \"Product\", \"Consulting / Agency\", \"Consulting / Agency\", \"Product\", \"Product\", \"Startup\", \"Consulting / Agency\", \"Startup\", \"Consulting / Agency\", \"Product\", \"Bodyshop / Outsource\", \"Product\", \"Product\", \"Product\", \"Product\", \"Bodyshop / Outsource\", \"Product\", \"Bodyshop / Outsource\", \"Bodyshop / Outsource\", \"Product\", \"Product\", \"Product\", \"Bank\", \"Consulting / Agency\", \"Startup\", \"Product\", \"Product\", \"Product\", \"Product\", \"Product\", \"Product\", \"Product\", \"Product\", \"Product\", \"Product\", \"Product\", \"Product\", \"Product\", \"Product\", \"Bank\", \"Product\", \"Product\", \"Product\", \"Startup\", \"Consulting / Agency\", \"Startup\", \"Product\", \"Product\", \"Product\", \"Product\", \"Consulting / Agency\", \"Consulting / Agency\", \"Startup\", \"Product\", \"Product\", \"Consulting / Agency\", \"Product\", \"Consulting / Agency\", \"Product\", \"Bank\", \"Product\", \"Startup\", \"Consulting / Agency\", \"Product\", \"Product\", \"Product\", \"University\", \"Startup\", \"Product\", \"Startup\", \"Product\", \"Product\", \"Product\", \"Product\", \"Startup\", \"Product\", \"Product\", \"Product\", \"Startup\", \"Startup\", \"Product\", \"Product\", \"Product\", \"Startup\", \"Consulting / Agency\", \"Consulting / Agency\", \"Product\", \"Product\", \"Startup\", \"Product\", \"Product\", \"Product\", \"Product\", \"Product\", \"Consulting / Agency\", \"Startup\", \"Consulting / Agency\", \"Consulting / Agency\", \"Startup\", \"Bodyshop / Outsource\", \"Product\", \"Startup\", \"Product\", \"Startup\", \"Product\", \"Consulting / Agency\", \"Product\", \"Product\", \"Product\", \"Product\", \"Product\", \"Startup\", \"Consulting / Agency\", \"Startup\", \"Product\", \"Product\", \"Product\", \"Consulting / Agency\", \"Product\", \"Product\", \"Product\", \"Product\", \"Startup\", \"Product\", \"Product\", \"Product\", \"Product\", \"Product\", \"Startup\", \"Product\", \"Startup\", \"Startup\", \"Product\", \"Bodyshop / Outsource\", \"Product\", \"Product\", \"Product\", \"Startup\", \"Product\", \"Startup\", \"Product\", \"Product\", \"Product\", \"Product\", \"Product\", \"Product\", \"Product\", \"Bodyshop / Outsource\", \"Product\", \"Product\", \"Product\", \"Consulting / Agency\", \"Startup\", \"Product\", \"University\", \"Product\", \"Bodyshop / Outsource\", \"Product\", \"Product\", \"Product\", \"Product\", \"Product\", \"Product\", \"Product\", \"Product\", \"Product\", \"Startup\", \"Product\", \"Consulting / Agency\", \"University\", \"Product\", \"Startup\", \"Product\", \"Startup\", \"Product\", \"Startup\", \"Product\", \"Product\", \"Consulting / Agency\", \"Product\", \"Startup\", \"Product\", \"Product\", \"Product\", \"Product\", \"Outsource\", \"Product\", \"Product\", \"Startup\", \"Product\", \"Product\", \"Product\", \"Product\", \"Product\", \"Product\", \"Product\", \"Product\", \"Bodyshop / Outsource\", \"Product\", \"Product\", \"Product\", \"Product\", \"Product\", \"Product\", \"Product\", \"Product\", \"Consulting / Agency\", \"Product\", \"Product\", \"Product\", \"University\", \"Consulting / Agency\", \"Consulting / Agency\", \"Consulting / Agency\", \"Product\", \"Consulting / Agency\", \"Product\", \"Consulting / Agency\", \"Startup\", \"Product\", \"Product\", \"Bank\", \"Product\", \"Product\", \"Consulting / Agency\", \"Startup\", \"Product\", \"Product\", \"Product\", \"Product\", \"Product\", \"Bank\", \"Product\", \"Product\", \"Consulting / Agency\"], \"type\": \"scatter\", \"x\": [0, 1, 2, 3, 4, 5, 6, 7, 8, 9, 10, 11, 12, 13, 14, 15, 16, 17, 18, 19, 20, 22, 24, 25, 28, 30], \"y\": [55000.0, 45600.0, 52250.0, 55000.0, 62000.0, 65000.0, 68000.0, 67000.0, 74500.0, 74000.0, 76000.0, 75000.0, 77700.0, 70000.0, 80000.0, 75000.0, 73500.0, 75000.0, 82500.0, 73000.0, 78000.0, 100500.0, 115000.0, 79800.0, 110000.0, 60000.0]}],\n",
              "                        {\"template\": {\"data\": {\"bar\": [{\"error_x\": {\"color\": \"#2a3f5f\"}, \"error_y\": {\"color\": \"#2a3f5f\"}, \"marker\": {\"line\": {\"color\": \"#E5ECF6\", \"width\": 0.5}}, \"type\": \"bar\"}], \"barpolar\": [{\"marker\": {\"line\": {\"color\": \"#E5ECF6\", \"width\": 0.5}}, \"type\": \"barpolar\"}], \"carpet\": [{\"aaxis\": {\"endlinecolor\": \"#2a3f5f\", \"gridcolor\": \"white\", \"linecolor\": \"white\", \"minorgridcolor\": \"white\", \"startlinecolor\": \"#2a3f5f\"}, \"baxis\": {\"endlinecolor\": \"#2a3f5f\", \"gridcolor\": \"white\", \"linecolor\": \"white\", \"minorgridcolor\": \"white\", \"startlinecolor\": \"#2a3f5f\"}, \"type\": \"carpet\"}], \"choropleth\": [{\"colorbar\": {\"outlinewidth\": 0, \"ticks\": \"\"}, \"type\": \"choropleth\"}], \"contour\": [{\"colorbar\": {\"outlinewidth\": 0, \"ticks\": \"\"}, \"colorscale\": [[0.0, \"#0d0887\"], [0.1111111111111111, \"#46039f\"], [0.2222222222222222, \"#7201a8\"], [0.3333333333333333, \"#9c179e\"], [0.4444444444444444, \"#bd3786\"], [0.5555555555555556, \"#d8576b\"], [0.6666666666666666, \"#ed7953\"], [0.7777777777777778, \"#fb9f3a\"], [0.8888888888888888, \"#fdca26\"], [1.0, \"#f0f921\"]], \"type\": \"contour\"}], \"contourcarpet\": [{\"colorbar\": {\"outlinewidth\": 0, \"ticks\": \"\"}, \"type\": \"contourcarpet\"}], \"heatmap\": [{\"colorbar\": {\"outlinewidth\": 0, \"ticks\": \"\"}, \"colorscale\": [[0.0, \"#0d0887\"], [0.1111111111111111, \"#46039f\"], [0.2222222222222222, \"#7201a8\"], [0.3333333333333333, \"#9c179e\"], [0.4444444444444444, \"#bd3786\"], [0.5555555555555556, \"#d8576b\"], [0.6666666666666666, \"#ed7953\"], [0.7777777777777778, \"#fb9f3a\"], [0.8888888888888888, \"#fdca26\"], [1.0, \"#f0f921\"]], \"type\": \"heatmap\"}], \"heatmapgl\": [{\"colorbar\": {\"outlinewidth\": 0, \"ticks\": \"\"}, \"colorscale\": [[0.0, \"#0d0887\"], [0.1111111111111111, \"#46039f\"], [0.2222222222222222, \"#7201a8\"], [0.3333333333333333, \"#9c179e\"], [0.4444444444444444, \"#bd3786\"], [0.5555555555555556, \"#d8576b\"], [0.6666666666666666, \"#ed7953\"], [0.7777777777777778, \"#fb9f3a\"], [0.8888888888888888, \"#fdca26\"], [1.0, \"#f0f921\"]], \"type\": \"heatmapgl\"}], \"histogram\": [{\"marker\": {\"colorbar\": {\"outlinewidth\": 0, \"ticks\": \"\"}}, \"type\": \"histogram\"}], \"histogram2d\": [{\"colorbar\": {\"outlinewidth\": 0, \"ticks\": \"\"}, \"colorscale\": [[0.0, \"#0d0887\"], [0.1111111111111111, \"#46039f\"], [0.2222222222222222, \"#7201a8\"], [0.3333333333333333, \"#9c179e\"], [0.4444444444444444, \"#bd3786\"], [0.5555555555555556, \"#d8576b\"], [0.6666666666666666, \"#ed7953\"], [0.7777777777777778, \"#fb9f3a\"], [0.8888888888888888, \"#fdca26\"], [1.0, \"#f0f921\"]], \"type\": \"histogram2d\"}], \"histogram2dcontour\": [{\"colorbar\": {\"outlinewidth\": 0, \"ticks\": \"\"}, \"colorscale\": [[0.0, \"#0d0887\"], [0.1111111111111111, \"#46039f\"], [0.2222222222222222, \"#7201a8\"], [0.3333333333333333, \"#9c179e\"], [0.4444444444444444, \"#bd3786\"], [0.5555555555555556, \"#d8576b\"], [0.6666666666666666, \"#ed7953\"], [0.7777777777777778, \"#fb9f3a\"], [0.8888888888888888, \"#fdca26\"], [1.0, \"#f0f921\"]], \"type\": \"histogram2dcontour\"}], \"mesh3d\": [{\"colorbar\": {\"outlinewidth\": 0, \"ticks\": \"\"}, \"type\": \"mesh3d\"}], \"parcoords\": [{\"line\": {\"colorbar\": {\"outlinewidth\": 0, \"ticks\": \"\"}}, \"type\": \"parcoords\"}], \"pie\": [{\"automargin\": true, \"type\": \"pie\"}], \"scatter\": [{\"marker\": {\"colorbar\": {\"outlinewidth\": 0, \"ticks\": \"\"}}, \"type\": \"scatter\"}], \"scatter3d\": [{\"line\": {\"colorbar\": {\"outlinewidth\": 0, \"ticks\": \"\"}}, \"marker\": {\"colorbar\": {\"outlinewidth\": 0, \"ticks\": \"\"}}, \"type\": \"scatter3d\"}], \"scattercarpet\": [{\"marker\": {\"colorbar\": {\"outlinewidth\": 0, \"ticks\": \"\"}}, \"type\": \"scattercarpet\"}], \"scattergeo\": [{\"marker\": {\"colorbar\": {\"outlinewidth\": 0, \"ticks\": \"\"}}, \"type\": \"scattergeo\"}], \"scattergl\": [{\"marker\": {\"colorbar\": {\"outlinewidth\": 0, \"ticks\": \"\"}}, \"type\": \"scattergl\"}], \"scattermapbox\": [{\"marker\": {\"colorbar\": {\"outlinewidth\": 0, \"ticks\": \"\"}}, \"type\": \"scattermapbox\"}], \"scatterpolar\": [{\"marker\": {\"colorbar\": {\"outlinewidth\": 0, \"ticks\": \"\"}}, \"type\": \"scatterpolar\"}], \"scatterpolargl\": [{\"marker\": {\"colorbar\": {\"outlinewidth\": 0, \"ticks\": \"\"}}, \"type\": \"scatterpolargl\"}], \"scatterternary\": [{\"marker\": {\"colorbar\": {\"outlinewidth\": 0, \"ticks\": \"\"}}, \"type\": \"scatterternary\"}], \"surface\": [{\"colorbar\": {\"outlinewidth\": 0, \"ticks\": \"\"}, \"colorscale\": [[0.0, \"#0d0887\"], [0.1111111111111111, \"#46039f\"], [0.2222222222222222, \"#7201a8\"], [0.3333333333333333, \"#9c179e\"], [0.4444444444444444, \"#bd3786\"], [0.5555555555555556, \"#d8576b\"], [0.6666666666666666, \"#ed7953\"], [0.7777777777777778, \"#fb9f3a\"], [0.8888888888888888, \"#fdca26\"], [1.0, \"#f0f921\"]], \"type\": \"surface\"}], \"table\": [{\"cells\": {\"fill\": {\"color\": \"#EBF0F8\"}, \"line\": {\"color\": \"white\"}}, \"header\": {\"fill\": {\"color\": \"#C8D4E3\"}, \"line\": {\"color\": \"white\"}}, \"type\": \"table\"}]}, \"layout\": {\"annotationdefaults\": {\"arrowcolor\": \"#2a3f5f\", \"arrowhead\": 0, \"arrowwidth\": 1}, \"coloraxis\": {\"colorbar\": {\"outlinewidth\": 0, \"ticks\": \"\"}}, \"colorscale\": {\"diverging\": [[0, \"#8e0152\"], [0.1, \"#c51b7d\"], [0.2, \"#de77ae\"], [0.3, \"#f1b6da\"], [0.4, \"#fde0ef\"], [0.5, \"#f7f7f7\"], [0.6, \"#e6f5d0\"], [0.7, \"#b8e186\"], [0.8, \"#7fbc41\"], [0.9, \"#4d9221\"], [1, \"#276419\"]], \"sequential\": [[0.0, \"#0d0887\"], [0.1111111111111111, \"#46039f\"], [0.2222222222222222, \"#7201a8\"], [0.3333333333333333, \"#9c179e\"], [0.4444444444444444, \"#bd3786\"], [0.5555555555555556, \"#d8576b\"], [0.6666666666666666, \"#ed7953\"], [0.7777777777777778, \"#fb9f3a\"], [0.8888888888888888, \"#fdca26\"], [1.0, \"#f0f921\"]], \"sequentialminus\": [[0.0, \"#0d0887\"], [0.1111111111111111, \"#46039f\"], [0.2222222222222222, \"#7201a8\"], [0.3333333333333333, \"#9c179e\"], [0.4444444444444444, \"#bd3786\"], [0.5555555555555556, \"#d8576b\"], [0.6666666666666666, \"#ed7953\"], [0.7777777777777778, \"#fb9f3a\"], [0.8888888888888888, \"#fdca26\"], [1.0, \"#f0f921\"]]}, \"colorway\": [\"#636efa\", \"#EF553B\", \"#00cc96\", \"#ab63fa\", \"#FFA15A\", \"#19d3f3\", \"#FF6692\", \"#B6E880\", \"#FF97FF\", \"#FECB52\"], \"font\": {\"color\": \"#2a3f5f\"}, \"geo\": {\"bgcolor\": \"white\", \"lakecolor\": \"white\", \"landcolor\": \"#E5ECF6\", \"showlakes\": true, \"showland\": true, \"subunitcolor\": \"white\"}, \"hoverlabel\": {\"align\": \"left\"}, \"hovermode\": \"closest\", \"mapbox\": {\"style\": \"light\"}, \"paper_bgcolor\": \"white\", \"plot_bgcolor\": \"#E5ECF6\", \"polar\": {\"angularaxis\": {\"gridcolor\": \"white\", \"linecolor\": \"white\", \"ticks\": \"\"}, \"bgcolor\": \"#E5ECF6\", \"radialaxis\": {\"gridcolor\": \"white\", \"linecolor\": \"white\", \"ticks\": \"\"}}, \"scene\": {\"xaxis\": {\"backgroundcolor\": \"#E5ECF6\", \"gridcolor\": \"white\", \"gridwidth\": 2, \"linecolor\": \"white\", \"showbackground\": true, \"ticks\": \"\", \"zerolinecolor\": \"white\"}, \"yaxis\": {\"backgroundcolor\": \"#E5ECF6\", \"gridcolor\": \"white\", \"gridwidth\": 2, \"linecolor\": \"white\", \"showbackground\": true, \"ticks\": \"\", \"zerolinecolor\": \"white\"}, \"zaxis\": {\"backgroundcolor\": \"#E5ECF6\", \"gridcolor\": \"white\", \"gridwidth\": 2, \"linecolor\": \"white\", \"showbackground\": true, \"ticks\": \"\", \"zerolinecolor\": \"white\"}}, \"shapedefaults\": {\"line\": {\"color\": \"#2a3f5f\"}}, \"ternary\": {\"aaxis\": {\"gridcolor\": \"white\", \"linecolor\": \"white\", \"ticks\": \"\"}, \"baxis\": {\"gridcolor\": \"white\", \"linecolor\": \"white\", \"ticks\": \"\"}, \"bgcolor\": \"#E5ECF6\", \"caxis\": {\"gridcolor\": \"white\", \"linecolor\": \"white\", \"ticks\": \"\"}}, \"title\": {\"x\": 0.05}, \"xaxis\": {\"automargin\": true, \"gridcolor\": \"white\", \"linecolor\": \"white\", \"ticks\": \"\", \"title\": {\"standoff\": 15}, \"zerolinecolor\": \"white\", \"zerolinewidth\": 2}, \"yaxis\": {\"automargin\": true, \"gridcolor\": \"white\", \"linecolor\": \"white\", \"ticks\": \"\", \"title\": {\"standoff\": 15}, \"zerolinecolor\": \"white\", \"zerolinewidth\": 2}}}, \"title\": {\"text\": \"Years of experience vs Yearly brutto salary (without bonus and stocks) in 2019 & Current salary in 2018\"}, \"xaxis\": {\"ticklen\": 5, \"title\": {\"text\": \"Years of experience\"}, \"zeroline\": false}},\n",
              "                        {\"responsive\": true}\n",
              "                    ).then(function(){\n",
              "                            \n",
              "var gd = document.getElementById('ec465e6c-2b46-4a26-b5c6-3ddc89de4822');\n",
              "var x = new MutationObserver(function (mutations, observer) {{\n",
              "        var display = window.getComputedStyle(gd).display;\n",
              "        if (!display || display === 'none') {{\n",
              "            console.log([gd, 'removed!']);\n",
              "            Plotly.purge(gd);\n",
              "            observer.disconnect();\n",
              "        }}\n",
              "}});\n",
              "\n",
              "// Listen for the removal of the full notebook cells\n",
              "var notebookContainer = gd.closest('#notebook-container');\n",
              "if (notebookContainer) {{\n",
              "    x.observe(notebookContainer, {childList: true});\n",
              "}}\n",
              "\n",
              "// Listen for the clearing of the current output cell\n",
              "var outputEl = gd.closest('.output');\n",
              "if (outputEl) {{\n",
              "    x.observe(outputEl, {childList: true});\n",
              "}}\n",
              "\n",
              "                        })\n",
              "                };\n",
              "                \n",
              "            </script>\n",
              "        </div>\n",
              "</body>\n",
              "</html>"
            ]
          },
          "metadata": {
            "tags": []
          }
        }
      ]
    },
    {
      "cell_type": "code",
      "metadata": {
        "colab": {
          "base_uri": "https://localhost:8080/"
        },
        "id": "fxg2_vhEm_ma",
        "outputId": "c73b18a9-a310-442c-eea4-c73a866b7078"
      },
      "source": [
        "#Preparing 2020 data\n",
        "df20 = data20[['Total years of experience', 'Yearly brutto salary (without bonus and stocks) in EUR']]\n",
        "df20 = df20.groupby(['Total years of experience'],as_index=False)['Yearly brutto salary (without bonus and stocks) in EUR'].median()\n",
        "df20.info()"
      ],
      "execution_count": null,
      "outputs": [
        {
          "output_type": "stream",
          "text": [
            "<class 'pandas.core.frame.DataFrame'>\n",
            "Int64Index: 48 entries, 0 to 47\n",
            "Data columns (total 2 columns):\n",
            " #   Column                                                  Non-Null Count  Dtype  \n",
            "---  ------                                                  --------------  -----  \n",
            " 0   Total years of experience                               48 non-null     object \n",
            " 1   Yearly brutto salary (without bonus and stocks) in EUR  48 non-null     float64\n",
            "dtypes: float64(1), object(1)\n",
            "memory usage: 1.1+ KB\n"
          ],
          "name": "stdout"
        }
      ]
    },
    {
      "cell_type": "code",
      "metadata": {
        "colab": {
          "base_uri": "https://localhost:8080/",
          "height": 542
        },
        "id": "ivk1VO-jqWnr",
        "outputId": "166756e3-849d-41a2-b7e7-fa623e78f4f6"
      },
      "source": [
        "# Creating trace3\n",
        "trace3 = go.Scatter(\n",
        "                    x = df20['Total years of experience'],\n",
        "                    y = df20['Yearly brutto salary (without bonus and stocks) in EUR'],\n",
        "                    mode = \"lines+markers\",\n",
        "                    name = \"2020\",\n",
        "                    marker = dict(color = '#f1c40f'),\n",
        "                    text= data20['Company type'])\n",
        "                \n",
        "data = [ trace1, trace2,trace3]\n",
        "layout = dict(title = 'Years of experience vs Yearly brutto salary (without bonus and stocks) in 2019, 2020 & Current salary in 2020',\n",
        "              xaxis= dict(title= 'Salary Trends',ticklen= 5,zeroline= False),\n",
        "              yaxis = dict(title='Salary', ticklen=5, zeroline= False)\n",
        "             )\n",
        "fig = dict(data = data, layout = layout)\n",
        "iplot(fig)"
      ],
      "execution_count": null,
      "outputs": [
        {
          "output_type": "display_data",
          "data": {
            "text/html": [
              "<html>\n",
              "<head><meta charset=\"utf-8\" /></head>\n",
              "<body>\n",
              "    <div>\n",
              "            <script src=\"https://cdnjs.cloudflare.com/ajax/libs/mathjax/2.7.5/MathJax.js?config=TeX-AMS-MML_SVG\"></script><script type=\"text/javascript\">if (window.MathJax) {MathJax.Hub.Config({SVG: {font: \"STIX-Web\"}});}</script>\n",
              "                <script type=\"text/javascript\">window.PlotlyConfig = {MathJaxConfig: 'local'};</script>\n",
              "        <script src=\"https://cdn.plot.ly/plotly-latest.min.js\"></script>    \n",
              "            <div id=\"0428437d-b380-464a-96e5-68e99c3b0af1\" class=\"plotly-graph-div\" style=\"height:525px; width:100%;\"></div>\n",
              "            <script type=\"text/javascript\">\n",
              "                \n",
              "                    window.PLOTLYENV=window.PLOTLYENV || {};\n",
              "                    \n",
              "                if (document.getElementById(\"0428437d-b380-464a-96e5-68e99c3b0af1\")) {\n",
              "                    Plotly.newPlot(\n",
              "                        '0428437d-b380-464a-96e5-68e99c3b0af1',\n",
              "                        [{\"marker\": {\"color\": \"rgba(16, 112, 2, 0.8)\"}, \"mode\": \"lines\", \"name\": \"2018\", \"text\": [\"Product\", \"Product\", \"Product\", \"Product\", \"Ecom retailer\", \"Insurance\", \"Product\", \"Product\", \"Startup\", \"Agency\", \"Product\", \"Product\", \"Startup\", \"Product\", \"Product\", \"Startup\", \"Product\", \"Product\", \"Agency\", \"Startup\", \"Big Tech\", \"Startup\", \"Product\", \"Consultancy\", \"Agency\", \"Product\", \"Product\", \"Product\", \"Product\", \"Product\", \"Corporation\", \"Startup\", \"Product\", \"Product\", \"Product\", \"Startup\", \"Product\", \"Product\", \"Product\", \"Product\", \"Product\", \"Startup\", \"Product\", \"Product\", \"Product\", \"Product\", \"Product\", \"Product\", \"Product\", \"Product\", \"Startup\", \"Product\", \"Agency\", \"Startup\", \"Product\", \"Startup\", \"Product\", \"Consultancy\", \"Product\", \"Product\", \"Product\", \"Product\", \"Product\", \"Product\", \"Agency\", \"Product\", \"Product\", \"Agency\", \"Product\", \"Product\", \"Startup\", \"Product\", \"Product\", \"Agency\", \"Agency\", \"Product\", \"Product\", \"Startup\", \"Startup\", \"Product\", \"Product\", \"Startup\", \"Product\", \"Product\", \"Product\", \"Startup\", \"Startup\", \"Product\", \"Product\", \"Startup\", \"Agency\", \"Startup\", \"Product\", \"Product\", \"Product\", \"Outsource\", \"Startup\", \"Product\", \"Product\", \"Startup\", \"Agency\", \"Product\", \"Agency\", \"Product\", \"Startup\", \"Product\", \"Product\", \"Product\", \"Product\", \"Product\", \"Startup\", \"Startup\", \"Product\", \"Product\", \"Product\", \"Product\", \"Startup\", \"Startup\", \"Product\", \"Product\", \"Product\", \"Product\", \"Product\", \"Product\", \"Startup\", \"Agency\", \"Product\", \"Startup\", \"Product\", \"Product\", \"Product\", \"Startup\", \"Product\", \"Product\", \"Startup\", \"Industry\", \"Product\", \"E-Commerce firm\", \"Product\", \"Product\", \"Startup\", \"Product\", \"Product\", \"Product\", \"Product\", \"Product\", \"Product\", \"Startup\", \"Product\", \"Product\", \"Product\", \"Product\", \"Startup\", \"Startup\", \"Product\", \"Product\", \"Startup\", \"Product\", \"Product\", \"Product\", \"Startup\", \"Startup\", \"Product\", \"Product\", \"Product\", \"Product\", \"Product\", \"Product\", \"Consulting\", \"Startup\", \"Product\", \"Startup\", \"Product\", \"Product\", \"Agency\", \"Product\", \"Internal development for a non-IT company\", \"Startup\", \"Startup\", \"Product\", \"Product\", \"Product\", \"Product\", \"Product\", \"Product\", \"Agency\", \"Product\", \"Startup\", \"Product\", \"Startup\", \"Agency\", \"Startup\", \"Personaldienstleister\", \"Startup\", \"Product\", \"Startup\", \"Product\", \"Startup\", \"Product\", \"Product\", \"Startup\", \"Product\", \"Agency\", \"Agency\", \"Product\", \"Product\", \"Product\", \"Startup\", \"Product\", \"Startup\", \"Product\", \"Product\", \"Product\", \"Startup\", \"Product\", \"Agency\", \"Startup\", \"Product\", \"Startup\", \"ipo\", \"Product\", \"e-commerce\", \"Product\", \"Startup\", \"Product\", \"Product\", \"Outsource\", \"Product\", \"Product\", \"Startup\", \"Product\", \"Product\", \"Startup\", \"Product\", \"Product\", \"Product\", \"Product\", \"Product\", \"Startup\", \"Startup\", \"Product\", \"Product\", \"Product\", \"Product\", \"Product\", \"Product\", \"Startup\", \"Product\", \"Product\", \"Product\", \"Product\", \"Product\", \"Product\", \"Product\", \"Product\", \"Product\", \"Agency\", \"Startup\", \"Product\", \"Product\", \"Agency\", \"Product\", \"Product\", \"Product\", \"Product\", \"Agency\", \"Startup\", \"Startup\", \"Product\", \"Product\", \"Product\", \"Product\", \"Product\", \"Product\", \"Startup\", \"Product\", \"Startup\", \"Product\", \"Product\", \"Agency\", \"Product\", \"Product\", \"Startup\", \"Product\", \"Startup\", \"Product\", \"Product\", \"Product\", \"Startup\", \"Product\", \"Startup\", \"Agency\", \"Product and Projects\", \"Product\", \"Product\", \"Product\", \"Startup\", \"E-Commerce\", \"Product\", \"Development\", \"Product\", \"Product\", \"Outsource\", \"Product\", \"Product\", \"Startup\", \"Startup\", \"Product\", \"Startup\", \"Product\", \"Product\", \"Product\", \"Product\", \"Startup\", \"Product\", \"Product\", \"Product\", \"Product\", \"Agency\", \"Product\", \"Product\", \"Product\", \"Product\", \"Product\", \"Startup\", \"Startup\", \"Product\", \"Product\", \"Product\", \"Product\", \"Product\", \"Product\", \"Product\", \"Product\", \"Startup\", \"Product\", \"Product\", \"Product\", \"Startup\", \"Product\", \"Product\", \"Product\", \"Product\", \"Startup\", \"Product\", \"Product\", \"Startup\", \"Product\", \"Product\", \"Product\", \"Agency\", \"Agency\", \"Product\", \"Startup\", \"Agency\", \"Product\", \"Startup\", \"Startup\", \"Product\", \"Product\", \"Consulting Company\", \"Startup\", \"Product\", \"Product\", \"Product\", \"Product\", \"Startup\", \"Product\", \"Product\", \"Startup\", \"Product\", \"Product\", \"Agency\", \"Startup\", \"Startup\", \"Agency\", \"Product\", \"Product\", \"Startup\", \"IT Dienstleistungen \", \"Product\", \"Product\", \"Agency\", \"Product\", \"Startup\", \"Product\", \"Product\", \"Agency\", \"Agency\", \"Product\", \"Manufacturing\", \"Product\", \"Startup\", \"Product\", \"Startup\", \"Product\", \"Stock market \", \"Product\", \"telecom operator\", \"Product\", \"Product\", \"Ecommerce\", \"Startup\", \"Startup\", \"Product\", \"Consulting\", \"Product\", \"Startup\", \"Product\", \"Agency\", \"Product\", \"Product\", \"Agency\", \"Product\", \"Product\", \"Startup\", \"Product\", \"Product\", \"Product\", \"Product\", \"Startup\", \"Product\", \"Product\", \"Startup\", \"Product\", \"Product\", \"Product\", \"Startup\", \"Consulting\", \"Outsourcing\", \"Startup\", \"Product\", \"Product\", \"Agency\", \"Product\", \"Agency\", \"Startup\", \"Product\", \"Product\", \"Product\", \"Product\", \"Product\", \"Outsorce\", \"Product\", \"Product\", \"Product\", \"Product\", \"Product\", \"Product\", \"Product\", \"Startup\", \"Product\", \"Agency\", \"Outsource\", \"Product\", \"Product\", \"Product\", \"Product\", \"consulting\", \"Startup\", \"Product\", \"Product\", \"Product\", \"Product\", \"Outsource\", \"Agency\", \"Product\", \"Product\", \"Agency\", \"Product\", \"GmbH\", \"Product\", \"Product\", \"Product\", \"Startup\", \"Startup\", \"Product\", \"Startup\", \"Product\", \"Startup\", \"Corporation\", \"Product\", \"Product\", \"Product\", \"Agency\", \"Product\", \"Product\", \"Product\", \"Product\", \"Product\", \"Product\", \"IT Consulting \", \"Startup\", \"Product\", \"Product\", \"Product\", \"Product\", \"Product\", \"Product\", \"Startup\", \"Product\", \"Product\", \"Agency\", \"Product\", \"Product\", \"Product\", \"Product\", \"Product\", \"Product\", \"Startup\", \"Agency\", \"Startup\", \"Product\", \"Product\", \"Product\", \"Startup\", \"Startup\", \"Product\", \"Product\", \"Agency\", \"Startup\", \"Startup\", \"Startup\", \"Startup\", \"Product\", \"Product\", \"Product\", \"IT Consultancy \", \"Product\", \"Agency\", \"Startup\", \"Product\", \"Product\", \"Product\", \"Product\", \"Startup\", \"Product\", \"Product\", \"Product\", \"Product\", \"Product\", \"Product\", \"Agency\", \"Product\", \"IT Service Provider\", \"Product\", \"Startup\", \"Product\", \"Product\", \"Agency\", \"Product\", \"Product\", \"non-IT, manufacturing\", \"Bank \", \"Insurance\", \"Product\", \"Product\", \"Product\", \"IT-Beratung\", \"Product\", \"Startup\", \"Startup\", \"Product\", \"Startup\", \"Product\", \"Consulting\", \"Startup\", \"Product\", \"Product\", \"Startup\", \"Product\", \"Agency\", \"Product\", \"Product\", \"Startup\", \"Startup\", \"Technology Consulting\", \"Startup\", \"Agency\", \"Product\", \"Startup\", \"Product\", \"outsource\", \"Product\", \"IT Consultants\", \"Product\", \"Agency\", \"Agency\", \"Agency\", \"Agency\", \"Product\", \"Product\", \"Product\", \"Startup\", \"Product\", \"Consulting\", \"Hochschule/university\", \"Product\", \"Product\", \"Product\", \"ISP\", \"Product\", \"Product\", \"Product\", \"Product\", \"Startup\", \"Product\", \"Product\", \"Product\", \"Product\", \"Product\", \"Product\", \"Product\", \"Product\", \"Agency\", \"Product\", \"Product\", \"Product\", \"Product\", \"Product\", \"Agency\", \"Product\", \"Product\", \"Product\", \"Product\", \"Product\", \"Product\", \"Startup\", \"Product\", \"Product\", \"Product\", \"Product\", \"Product\", \"Agency\", \"Fin Tech\", \"Agency\", \"Startup\", \"Product\", \"Outsourcing\", \"Product\", \"Startup\", \"Product\", \"Product\", \"Outsourcing\", \"Product\", \"Startup\", \"Product\", \"Blockchain technology\", \"Retail\", \"Startup\", \"Agency\", \"Product\", \"Product\", \"Product\", \"Product\", \"Agency\", \"Startup\", \"Consult\", \"Startup\", \"Product\", \"Product\", \"Agency\", \"Agency\", \"Product\", \"Product\", \"Product\", \"Product\", \"Product\", \"Product\", \"Product\", \"Product\", \"Agency\", \"Startup\", \"Product\", \"Product\", \"Product\", \"Agency\", \"Product\", \"Product\", \"Product\", \"Agency\", \"Product\", \"Project-based software development\", \"Product\", \"Product\", \"Product\", \"Automotive\", \"Product\", \"Product\", \"Product\", \"Startup\", \"Product\", \"Startup\", \"Product\", \"Product\", \"Automotive\", \"Product\", \"Product\", \"Product\", \"Product\", \"Startup\", \"Product\", \"Product\", \"Startup\", \"Product\", \"OEM\", \"Consulting (banking)\", \"Product\", \"Agency\", \"Startup\", \"Product\", \"IT Consulting\", \"Agency\", \"Product\", \"Agency\", \"Product\", \"Product\", \"Product\", \"Product\", \"Product\", \"Startup\", \"Product\", \"Product\", \"Product\", \"Startup\", \"Product\", \"Product\", \"Product\", \"Product\", \"Agency\", \"Product\", \"Product\", \"Agency\", \"Product\", \"Agency\", \"Product\", \"Product\", \"Product\", \"Product\", \"Agency\", \"Agency\", \"Product\", \"Product\", \"Product\"], \"type\": \"scatter\", \"x\": [0.0, 0.5, 1.0, 1.5, 2.0, 2.5, 3.0, 4.0, 4.5, 5.0, 6.0, 7.0, 7.5, 8.0, 8.548497267759563, 9.0, 10.0, 11.0, 12.0, 13.0, 14.0, 15.0, 16.0, 17.0, 18.0, 19.0, 20.0, 21.0, 25.0, 30.0, 38.0], \"y\": [50000.0, 46000.0, 47000.0, 58000.0, 51000.0, 50000.0, 55555.0, 60000.0, 39150.0, 60000.0, 63000.0, 68000.0, 65000.0, 70000.0, 70000.0, 70000.0, 70000.0, 71000.0, 71000.0, 73500.0, 73000.0, 68000.0, 90500.0, 80000.0, 72500.0, 84000.0, 80000.0, 90000.0, 109000.0, 64000.0, 58000.0]}, {\"marker\": {\"color\": \"rgba(80, 26, 80, 0.8)\"}, \"mode\": \"lines+markers\", \"name\": \"2019\", \"text\": [\"Startup\", \"Product\", \"Startup\", \"Product\", \"Product\", \"Product\", \"Startup\", \"Product\", \"Product\", \"Product\", \"Startup\", \"Product\", \"Startup\", \"Product\", \"Startup\", \"Startup\", \"Product\", \"Product\", \"Product\", \"Product\", \"Startup\", \"Product\", \"Product\", \"Product\", \"Product\", \"Product\", \"Product\", \"Consulting / Agency\", \"Product\", \"Product\", \"Product\", \"Consulting / Agency\", \"Startup\", \"Product\", \"Product\", \"Product\", \"Product\", \"Startup\", \"Product\", \"Product\", \"Startup\", \"Product\", \"Product\", \"Startup\", \"Startup\", \"Product\", \"Product\", \"Consulting / Agency\", \"Startup\", \"Product\", \"Startup\", \"Consulting / Agency\", \"Startup\", \"Startup\", \"Product\", \"Consulting / Agency\", \"Product\", \"Startup\", \"Startup\", \"Startup\", \"Product\", \"Product\", \"Product\", \"Product\", \"Startup\", \"Product\", \"Product\", \"Startup\", \"Consulting / Agency\", \"Product\", \"Product\", \"Consulting / Agency\", \"Product\", \"Product\", \"Startup\", \"Product\", \"Product\", \"Product\", \"Product\", \"Product\", \"Startup\", \"Product\", \"Product\", \"Product\", \"Consulting / Agency\", \"Product\", \"Startup\", \"Product\", \"Product\", \"Product\", \"Startup\", \"Consulting / Agency\", \"Product\", \"Startup\", \"Product\", \"Startup\", \"Product\", \"Product\", \"Product\", \"Product\", \"Product\", \"Consulting / Agency\", \"Startup\", \"Product\", \"Consulting / Agency\", \"Startup\", \"Product\", \"Product\", \"Consulting / Agency\", \"Product\", \"Product\", \"Consulting / Agency\", \"Startup\", \"Startup\", \"Consulting / Agency\", \"Product\", \"Product\", \"Bodyshop / Outsource\", \"Product\", \"Product\", \"Product\", \"Product\", \"Product\", \"Product\", \"Product\", \"Consulting / Agency\", \"Product\", \"Product\", \"Product\", \"Product\", \"Product\", \"Bodyshop / Outsource\", \"Startup\", \"Product\", \"Consulting / Agency\", \"Bodyshop / Outsource\", \"Consulting / Agency\", \"Product\", \"Product\", \"Consulting / Agency\", \"Product\", \"Product\", \"Startup\", \"Product\", \"Product\", \"Product\", \"Product\", \"Product\", \"Product\", \"Consulting / Agency\", \"Product\", \"Product\", \"Product\", \"Product\", \"Product\", \"Product\", \"Product\", \"Product\", \"Product\", \"Product\", \"Product\", \"Consulting / Agency\", \"Startup\", \"Product\", \"Product\", \"Consulting / Agency\", \"Product\", \"Product\", \"Startup\", \"Startup\", \"Product\", \"Product\", \"Product\", \"Product\", \"Product\", \"Product\", \"Product\", \"Product\", \"Product\", \"Consulting / Agency\", \"Product\", \"Product\", \"Consulting / Agency\", \"Product\", \"Consulting / Agency\", \"Product\", \"Product\", \"Product\", \"Product\", \"Product\", \"Product\", \"Product\", \"Product\", \"Product\", \"Product\", \"Consulting / Agency\", \"Product\", \"Product\", \"Startup\", \"Product\", \"Consulting / Agency\", \"Product\", \"Product\", \"Product\", \"Consulting / Agency\", \"Product\", \"Product\", \"Product\", \"Product\", \"Product\", \"Product\", \"Product\", \"Product\", \"Product\", \"Product\", \"Product\", \"Product\", \"Product\", \"Product\", \"Product\", \"Product\", \"Product\", \"Startup\", \"Product\", \"Bodyshop / Outsource\", \"Product\", \"Startup\", \"Consulting / Agency\", \"Product\", \"Consulting / Agency\", \"Product\", \"Bodyshop / Outsource\", \"Product\", \"Startup\", \"Startup\", \"Consulting / Agency\", \"Startup\", \"Product\", \"Product\", \"Bodyshop / Outsource\", \"Product\", \"Startup\", \"Product\", \"Product\", \"Consulting / Agency\", \"Product\", \"Product\", \"Product\", \"Product\", \"Product\", \"Product\", \"Product\", \"Product\", \"Product\", \"Product\", \"Startup\", \"Product\", \"Product\", \"Product\", \"Startup\", \"Startup\", \"Product\", \"Product\", \"Product\", \"Product\", \"Startup\", \"Product\", \"Startup\", \"Bodyshop / Outsource\", \"Product\", \"Consulting / Agency\", \"Product\", \"Product\", \"Consulting / Agency\", \"Product\", \"Startup\", \"Product\", \"Product\", \"Product\", \"Product\", \"Product\", \"Product\", \"Product\", \"Product\", \"Startup\", \"Product\", \"Product\", \"Product\", \"Startup\", \"Product\", \"Product\", \"Product\", \"Consulting / Agency\", \"Bodyshop / Outsource\", \"Product\", \"Product\", \"Product\", \"Consulting / Agency\", \"Product\", \"Product\", \"Product\", \"Product\", \"Product\", \"Startup\", \"Product\", \"Product\", \"Product\", \"Startup\", \"Consulting / Agency\", \"Startup\", \"Product\", \"Product\", \"Product\", \"Startup\", \"Product\", \"Product\", \"Startup\", \"Product\", \"Product\", \"Product\", \"Product\", \"Product\", \"Product\", \"Product\", \"Startup\", \"Product\", \"Product\", \"Product\", \"Consulting / Agency\", \"Product\", \"Product\", \"Product\", \"Startup\", \"Startup\", \"Product\", \"Product\", \"Product\", \"Product\", \"Product\", \"Product\", \"Product\", \"Product\", \"Product\", \"Product\", \"Startup\", \"Product\", \"Bodyshop / Outsource\", \"Product\", \"Startup\", \"Product\", \"Product\", \"Product\", \"Product\", \"Consulting / Agency\", \"Product\", \"Product\", \"Product\", \"Product\", \"Product\", \"Startup\", \"Startup\", \"Product\", \"Product\", \"Product\", \"Product\", \"Product\", \"Startup\", \"Product\", \"Product\", \"Startup\", \"Product\", \"Consulting / Agency\", \"Startup\", \"Consulting / Agency\", \"Product\", \"Product\", \"Product\", \"Bodyshop / Outsource\", \"Product\", \"Bodyshop / Outsource\", \"Product\", \"Startup\", \"Product\", \"Product\", \"Startup\", \"Product\", \"Startup\", \"Startup\", \"Product\", \"Startup\", \"Product\", \"Product\", \"Product\", \"Product\", \"Product\", \"Product\", \"Consulting / Agency\", \"Startup\", \"Product\", \"Product\", \"Product\", \"Product\", \"Product\", \"Startup\", \"Consulting / Agency\", \"Product\", \"Product\", \"Startup\", \"Product\", \"Product\", \"Product\", \"Product\", \"Product\", \"Product\", \"Product\", \"Product\", \"Startup\", \"Product\", \"Startup\", \"Consulting / Agency\", \"Consulting / Agency\", \"Product\", \"Product\", \"Consulting / Agency\", \"Consulting / Agency\", \"Consulting / Agency\", \"Product\", \"Product\", \"Startup\", \"Product\", \"Product\", \"Product\", \"Bodyshop / Outsource\", \"Product\", \"Product\", \"Consulting / Agency\", \"Startup\", \"Product\", \"Startup\", \"Startup\", \"Startup\", \"Consulting / Agency\", \"Consulting / Agency\", \"Product\", \"Product\", \"Product\", \"Startup\", \"Product\", \"Startup\", \"Startup\", \"Startup\", \"Product\", \"Consulting / Agency\", \"Consulting / Agency\", \"Startup\", \"Product\", \"Product\", \"Product\", \"University\", \"Bodyshop / Outsource\", \"Product\", \"Product\", \"Product\", \"Startup\", \"Product\", \"Bodyshop / Outsource\", \"Product\", \"Product\", \"Product\", \"Product\", \"Consulting / Agency\", \"Startup\", \"Product\", \"Product\", \"Product\", \"Product\", \"Consulting / Agency\", \"Startup\", \"Product\", \"Startup\", \"Product\", \"Product\", \"Product\", \"Product\", \"Product\", \"Startup\", \"Product\", \"Product\", \"Startup\", \"Consulting / Agency\", \"Product\", \"Product\", \"Consulting / Agency\", \"Product\", \"Product\", \"Product\", \"Product\", \"Product\", \"Startup\", \"Consulting / Agency\", \"Startup\", \"Consulting / Agency\", \"Product\", \"Product\", \"Startup\", \"Product\", \"Product\", \"Product\", \"Startup\", \"Product\", \"Consulting / Agency\", \"Startup\", \"Consulting / Agency\", \"Consulting / Agency\", \"Consulting / Agency\", \"Product\", \"Product\", \"Startup\", \"Product\", \"Product\", \"Startup\", \"Product\", \"Product\", \"Startup\", \"Consulting / Agency\", \"Product\", \"Product\", \"Product\", \"Product\", \"Startup\", \"Startup\", \"Consulting / Agency\", \"Product\", \"Product\", \"Startup\", \"Product\", \"Product\", \"Product\", \"Startup\", \"Startup\", \"Product\", \"Product\", \"Startup\", \"Product\", \"Product\", \"Product\", \"Product\", \"Product\", \"Startup\", \"Product\", \"Product\", \"Product\", \"Product\", \"Product\", \"Product\", \"Product\", \"Product\", \"Product\", \"Product\", \"Startup\", \"Product\", \"Product\", \"Startup\", \"Bodyshop / Outsource\", \"Startup\", \"Consulting / Agency\", \"Startup\", \"Product\", \"Product\", \"Product\", \"Startup\", \"Product\", \"Consulting / Agency\", \"Product\", \"Product\", \"Product\", \"Consulting / Agency\", \"Startup\", \"Product\", \"Startup\", \"Consulting / Agency\", \"Startup\", \"Product\", \"Product\", \"Product\", \"Consulting / Agency\", \"Product\", \"Product\", \"Product\", \"Consulting / Agency\", \"Consulting / Agency\", \"Product\", \"Product\", \"Product\", \"Product\", \"Product\", \"Consulting / Agency\", \"Product\", \"Product\", \"Consulting / Agency\", \"Product\", \"Product\", \"Product\", \"Startup\", \"Product\", \"Product\", \"Consulting / Agency\", \"Product\", \"Product\", \"Product\", \"Product\", \"Product\", \"Product\", \"Product\", \"Product\", \"Product\", \"Product\", \"Product\", \"Startup\", \"Product\", \"Product\", \"Product\", \"Product\", \"Product\", \"Product\", \"Consulting / Agency\", \"Product\", \"Bodyshop / Outsource\", \"Product\", \"Product\", \"Startup\", \"Product\", \"Product\", \"Consulting / Agency\", \"Product\", \"Product\", \"Consulting / Agency\", \"Product\", \"Startup\", \"Product\", \"Startup\", \"Startup\", \"Product\", \"Consulting / Agency\", \"Startup\", \"Product\", \"Consulting / Agency\", \"Consulting / Agency\", \"Product\", \"Product\", \"Product\", \"Product\", \"Product\", \"Product\", \"Startup\", \"Product\", \"Product\", \"Product\", \"Startup\", \"Product\", \"Product\", \"Startup\", \"Product\", \"Startup\", \"Product\", \"Product\", \"Consulting / Agency\", \"Product\", \"Product\", \"Startup\", \"Product\", \"Product\", \"Consulting / Agency\", \"Product\", \"Product\", \"Product\", \"Product\", \"Product\", \"Startup\", \"Startup\", \"Product\", \"Product\", \"Consulting / Agency\", \"Product\", \"Startup\", \"Consulting / Agency\", \"Bodyshop / Outsource\", \"Startup\", \"Startup\", \"Product\", \"Product\", \"Product\", \"Startup\", \"Startup\", \"Product\", \"Startup\", \"Product\", \"Product\", \"Bank\", \"Product\", \"Bodyshop / Outsource\", \"Product\", \"Startup\", \"University\", \"Product\", \"Product\", \"Product\", \"Product\", \"Product\", \"Product\", \"Startup\", \"Product\", \"Product\", \"Product\", \"Bodyshop / Outsource\", \"Startup\", \"Product\", \"Product\", \"Product\", \"Product\", \"Product\", \"Startup\", \"Product\", \"Product\", \"Product\", \"Startup\", \"Bodyshop / Outsource\", \"Product\", \"Product\", \"Startup\", \"Product\", \"Product\", \"Product\", \"Product\", \"Product\", \"Product\", \"Product\", \"Bodyshop / Outsource\", \"Consulting / Agency\", \"Product\", \"Product\", \"Product\", \"Product\", \"Product\", \"Product\", \"Product\", \"Startup\", \"Product\", \"Product\", \"Consulting / Agency\", \"Consulting / Agency\", \"Product\", \"Product\", \"Startup\", \"Consulting / Agency\", \"Startup\", \"Consulting / Agency\", \"Product\", \"Bodyshop / Outsource\", \"Product\", \"Product\", \"Product\", \"Product\", \"Bodyshop / Outsource\", \"Product\", \"Bodyshop / Outsource\", \"Bodyshop / Outsource\", \"Product\", \"Product\", \"Product\", \"Bank\", \"Consulting / Agency\", \"Startup\", \"Product\", \"Product\", \"Product\", \"Product\", \"Product\", \"Product\", \"Product\", \"Product\", \"Product\", \"Product\", \"Product\", \"Product\", \"Product\", \"Product\", \"Bank\", \"Product\", \"Product\", \"Product\", \"Startup\", \"Consulting / Agency\", \"Startup\", \"Product\", \"Product\", \"Product\", \"Product\", \"Consulting / Agency\", \"Consulting / Agency\", \"Startup\", \"Product\", \"Product\", \"Consulting / Agency\", \"Product\", \"Consulting / Agency\", \"Product\", \"Bank\", \"Product\", \"Startup\", \"Consulting / Agency\", \"Product\", \"Product\", \"Product\", \"University\", \"Startup\", \"Product\", \"Startup\", \"Product\", \"Product\", \"Product\", \"Product\", \"Startup\", \"Product\", \"Product\", \"Product\", \"Startup\", \"Startup\", \"Product\", \"Product\", \"Product\", \"Startup\", \"Consulting / Agency\", \"Consulting / Agency\", \"Product\", \"Product\", \"Startup\", \"Product\", \"Product\", \"Product\", \"Product\", \"Product\", \"Consulting / Agency\", \"Startup\", \"Consulting / Agency\", \"Consulting / Agency\", \"Startup\", \"Bodyshop / Outsource\", \"Product\", \"Startup\", \"Product\", \"Startup\", \"Product\", \"Consulting / Agency\", \"Product\", \"Product\", \"Product\", \"Product\", \"Product\", \"Startup\", \"Consulting / Agency\", \"Startup\", \"Product\", \"Product\", \"Product\", \"Consulting / Agency\", \"Product\", \"Product\", \"Product\", \"Product\", \"Startup\", \"Product\", \"Product\", \"Product\", \"Product\", \"Product\", \"Startup\", \"Product\", \"Startup\", \"Startup\", \"Product\", \"Bodyshop / Outsource\", \"Product\", \"Product\", \"Product\", \"Startup\", \"Product\", \"Startup\", \"Product\", \"Product\", \"Product\", \"Product\", \"Product\", \"Product\", \"Product\", \"Bodyshop / Outsource\", \"Product\", \"Product\", \"Product\", \"Consulting / Agency\", \"Startup\", \"Product\", \"University\", \"Product\", \"Bodyshop / Outsource\", \"Product\", \"Product\", \"Product\", \"Product\", \"Product\", \"Product\", \"Product\", \"Product\", \"Product\", \"Startup\", \"Product\", \"Consulting / Agency\", \"University\", \"Product\", \"Startup\", \"Product\", \"Startup\", \"Product\", \"Startup\", \"Product\", \"Product\", \"Consulting / Agency\", \"Product\", \"Startup\", \"Product\", \"Product\", \"Product\", \"Product\", \"Outsource\", \"Product\", \"Product\", \"Startup\", \"Product\", \"Product\", \"Product\", \"Product\", \"Product\", \"Product\", \"Product\", \"Product\", \"Bodyshop / Outsource\", \"Product\", \"Product\", \"Product\", \"Product\", \"Product\", \"Product\", \"Product\", \"Product\", \"Consulting / Agency\", \"Product\", \"Product\", \"Product\", \"University\", \"Consulting / Agency\", \"Consulting / Agency\", \"Consulting / Agency\", \"Product\", \"Consulting / Agency\", \"Product\", \"Consulting / Agency\", \"Startup\", \"Product\", \"Product\", \"Bank\", \"Product\", \"Product\", \"Consulting / Agency\", \"Startup\", \"Product\", \"Product\", \"Product\", \"Product\", \"Product\", \"Bank\", \"Product\", \"Product\", \"Consulting / Agency\"], \"type\": \"scatter\", \"x\": [0, 1, 2, 3, 4, 5, 6, 7, 8, 9, 10, 11, 12, 13, 14, 15, 16, 17, 18, 19, 20, 22, 24, 25, 28, 30], \"y\": [55000.0, 45600.0, 52250.0, 55000.0, 62000.0, 65000.0, 68000.0, 67000.0, 74500.0, 74000.0, 76000.0, 75000.0, 77700.0, 70000.0, 80000.0, 75000.0, 73500.0, 75000.0, 82500.0, 73000.0, 78000.0, 100500.0, 115000.0, 79800.0, 110000.0, 60000.0]}, {\"marker\": {\"color\": \"#f1c40f\"}, \"mode\": \"lines+markers\", \"name\": \"2020\", \"text\": [\"Product\", \"Product\", \"Product\", \"Startup\", \"Product\", \"Startup\", \"Product\", \"Product\", \"Product\", \"Product\", \"Consulting / Agency\", \"Product\", \"Product\", \"Startup\", \"Product\", \"Consulting / Agency\", \"Product\", \"Startup\", \"Product\", \"Product\", \"Product\", \"Product\", \"Product\", \"Product\", \"Product\", \"Product\", \"Product\", \"Media\", \"Product\", \"Product\", \"Product\", \"Startup\", \"Startup\", \"Startup\", \"Product\", \"Product\", \"Product\", \"Product\", \"Startup\", \"Startup\", \"Product\", \"Product\", \"Product\", \"Product\", \"Product\", \"Product\", \"Product\", \"Product\", \"Product\", \"Startup\", \"Product\", \"Startup\", \"Product\", \"Product\", \"Product\", \"Product\", \"Product\", \"Product\", \"Product\", \"Consulting / Agency\", \"Product\", \"Product\", \"Product\", \"Consulting / Agency\", \"Product\", \"Consulting / Agency\", \"Product\", \"Personal Ltd\", \"Startup\", \"Startup\", \"Product\", \"Consulting / Agency\", \"Product\", \"Startup\", \"Product\", \"Product\", \"Consulting / Agency\", \"Startup\", \"Product\", \"Product\", \"Startup\", \"Product\", \"Product\", \"Product\", \"Product\", \"Startup\", \"Product\", \"Startup\", \"Product\", \"Product\", \"Product\", \"Product\", \"Product\", \"Consulting / Agency\", \"Product\", \"Product\", \"Product\", \"Product\", \"Product\", \"Product\", \"Product\", \"Product\", \"Startup\", \"Product\", \"Startup\", \"Product\", \"Product\", \"Product\", \"Product\", \"Product\", \"Startup\", \"Product\", \"Product\", \"Startup\", \"Product\", \"Product\", \"Product\", \"Consulting / Agency\", \"Product\", \"Product\", \"Product\", \"Startup\", \"Product\", \"Product\", \"Product\", \"Startup\", \"Product\", \"Startup\", \"Product\", \"Startup\", \"Consulting / Agency\", \"Product\", \"Product\", \"Product\", \"Product\", \"Product\", \"Product\", \"Startup\", \"Product\", \"Product\", \"Cloud\", \"Product\", \"Startup\", \"Product\", \"Product\", \"Product\", \"Product\", \"Consulting / Agency\", \"Product\", \"Startup\", \"Product\", \"Startup\", \"Beh\\u00f6rde\", \"Product\", \"Product\", \"Product\", \"Product\", \"Product\", \"Consulting / Agency\", \"Consulting / Agency\", \"Product\", \"Startup\", \"Product\", \"Startup\", \"Startup\", \"Product\", \"Startup\", \"Consulting / Agency\", \"Product\", \"Product\", \"Consulting / Agency\", \"Startup\", \"Product\", \"Product\", \"Product\", \"Startup\", \"Product\", \"Product\", \"Startup\", \"Product\", \"Product\", \"Product\", \"Construction\", \"Product\", \"Product\", \"Product\", \"Product\", \"Product\", \"Product\", \"Startup\", \"Product\", \"Consulting / Agency\", \"Product\", \"Product\", \"Product\", \"Product\", \"Product\", \"Product\", \"Product\", \"Product\", \"Product\", \"Product\", \"Startup\", \"Consulting / Agency\", \"Product\", \"Big commercial\", \"Product\", \"Product\", \"Product\", \"Product\", \"Product\", \"Startup\", \"Product\", \"Startup\", \"Product\", \"Product\", \"Product\", \"Product\", \"Product\", \"Consulting / Agency\", \"Product\", \"Product\", \"Startup\", \"Product\", \"Consulting / Agency\", \"Product\", \"Product\", \"Consulting / Agency\", \"Consulting / Agency\", \"Consulting / Agency\", \"Product\", \"Product\", \"Product\", \"Product\", \"Outsorce\", \"Product\", \"Product\", \"Product\", \"Product\", \"Product\", \"Product\", \"Startup\", \"Consulting / Agency\", \"Bank \", \"Product\", \"Consulting / Agency\", \"Fintech\", \"Automotive\", \"Product\", \"Product\", \"Consulting / Agency\", \"Product\", \"Startup\", \"Consulting / Agency\", \"Product\", \"Startup\", \"Product\", \"Bank\", \"Product\", \"Startup\", \"Product\", \"Startup\", \"Product\", \"Startup\", \"Product\", \"Product\", \"Product\", \"Consulting / Agency\", \"Product\", \"IT Department of established business\", \"Product\", \"Startup\", \"Startup\", \"Product\", \"Telecommunications\", \"Product\", \"Product\", \"Product\", \"Startup\", \"Product\", \"Product\", \"Consulting / Agency\", \"Product\", \"Product\", \"Product\", \"Startup\", \"Startup\", \"Product\", \"Product\", \"Product\", \"Product\", \"Media\", \"Startup\", \"Product\", \"Product\", \"Product\", \"Product\", \"Product\", \"Product\", \"Product\", \"Product\", \"Product\", \"Product\", \"E-commerce\", \"Startup\", \"Product\", \"Startup\", \"Product\", \"Product\", \"Product\", \"Product\", \"Product\", \"Product\", \"Startup\", \"Product\", \"Consulting / Agency\", \"Product\", \"Product\", \"Product\", \"Product\", \"Product\", \"Product\", \"Product\", \"Product\", \"Consulting / Agency\", \"Product\", \"Product\", \"Product\", \"Product\", \"Product\", \"Bank\", \"Startup\", \"Product\", \"Product\", \"Product\", \"Product\", \"Startup\", \"Product\", \"Product\", \"Consulting / Agency\", \"Startup\", \"Consulting / Agency\", \"Consulting / Agency\", \"Product\", \"Product\", \"Product\", \"Systemhaus\", \"Consulting / Agency\", \"Product\", \"Product\", \"Product\", \"Product\", \"Product\", \"Product\", \"Consulting / Agency\", \"Product\", \"Product\", \"Product\", \"Consulting / Agency\", \"Product\", \"Startup\", \"Product\", \"Startup\", \"University\", \"Product\", \"Product\", \"Product\", \"Product\", \"Consulting / Agency\", \"Product\", \"Consulting / Agency\", \"Product\", \"Product\", \"Startup\", \"Product\", \"Product\", \"Product\", \"Product\", \"Startup\", \"Consulting / Agency\", \"Product\", \"Product\", \"Consulting / Agency\", \"Startup\", \"Product\", \"Startup\", \"Product\", \"Startup\", \"Startup\", \"Consulting / Agency\", \"Product\", \"Product\", \"Product\", \"Startup\", \"Product\", \"consumer goods\", \"Startup\", \"Product\", \"Product\", \"Product\", \"IT-Outsourcing\", \"Product\", \"Product\", \"Product\", \"Product\", \"Startup\", \"Product\", \"Product\", \"Product\", \"Startup\", \"Product\", \"Startup\", \"Product\", \"Product\", \"Startup\", \"Product\", \"Startup\", \"Product\", \"Product\", \"Startup\", \"Product\", \"Product\", \"Startup\", \"Consulting / Agency\", \"Product\", \"Startup\", \"Startup\", \"Product\", \"Product\", \"Startup\", \"Product\", \"Product\", \"Startup\", \"Product\", \"Startup\", \"Product\", \"Product\", \"Product\", \"Product\", \"Product\", \"Game Company\", \"Product\", \"Product\", \"Product\", \"Product\", \"Startup\", \"Consulting / Agency\", \"Startup\", \"Product\", \"Product\", \"Consulting / Agency\", \"Product\", \"Product\", \"Financial \", \"Product\", \"Product\", \"Startup\", \"Product\", \"Startup\", \"Product\", \"Consulting / Agency\", \"Consulting / Agency\", \"Product\", \"Product\", \"Product\", \"Product\", \"Consulting / Agency\", \"E-commerce\", \"Product\", \"Startup\", \"Product\", \"Product\", \"Product\", \"Startup\", \"Corporation\", \"Startup\", \"Product\", \"Product\", \"Product\", \"Product\", \"Publishing and Technology\", \"Product\", \"Startup\", \"Startup\", \"Startup\", \"Product\", \"Product\", \"Product\", \"Startup\", \"Product\", \"Startup\", \"Product\", \"Product\", \"Startup\", \"Startup\", \"Startup\", \"Consulting / Agency\", \"Consulting / Agency\", \"Startup\", \"Product\", \"Startup\", \"Product\", \"Market Research \", \"Consulting / Agency\", \"Startup\", \"Consulting / Agency\", \"Consulting / Agency\", \"Startup\", \"Product\", \"Product\", \"Product\", \"Consulting / Agency\", \"Product\", \"Product\", \"Product\", \"Startup\", \"e-commerce\", \"Product\", \"Product\", \"Product\", \"Product\", \"Startup\", \"Product\", \"Product\", \"Product\", \"Product\", \"Product\", \"Product\", \"Product\", \"SaaS\", \"Startup\", \"Product\", \"Product\", \"Startup\", \"Startup\", \"Startup\", \"Product\", \"Product\", \"Product\", \"Startup\", \"Consulting / Agency\", \"Consulting / Agency\", \"Startup\", \"Startup\", \"Startup\", \"Product\", \"Product\", \"Product\", \"Product\", \"Product\", \"Product\", \"Product\", \"Startup\", \"Product\", \"Startup\", \"Product\", \"Startup\", \"Startup\", \"Product\", \"Product\", \"Product\", \"Product\", \"Product\", \"Product\", \"Consulting / Agency\", \"Product\", \"Startup\", \"Publisher\", \"Product\", \"Startup\", \"Consulting / Agency\", \"E-commerce\", \"Startup\", \"Product\", \"Consulting / Agency\", \"Startup\", \"Product\", \"Startup\", \"Product\", \"Product\", \"Product\", \"Startup\", \"Product\", \"University\", \"Product\", \"Product\", \"Product\", \"Product\", \"Product\", \"Startup\", \"Product\", \"Product\", \"Product\", \"Product\", \"Energy \", \"Startup\", \"Product\", \"Product\", \"Product\", \"Product\", \"Product\", \"Product\", \"Startup\", \"Product\", \"Product\", \"Product\", \"Startup\", \"Startup\", \"Startup\", \"Product\", \"Startup\", \"Product\", \"Product\", \"Product\", \"Product\", \"Product\", \"Enterprise\", \"Product\", \"Product\", \"Startup\", \"Product\", \"Product\", \"Product\", \"Product\", \"Consulting / Agency\", \"Consulting / Agency\", \"Product\", \"Product\", \"Startup\", \"Consulting / Agency\", \"Bloody enterprise\", \"service\", \"Startup\", \"Product\", \"Product\", \"Startup\", \"Consulting / Agency\", \"Concern\", \"Startup\", \"Product\", \"Consulting / Agency\", \"Product\", \"Product\", \"Product\", \"Product\", \"Product\", \"Startup\", \"Product\", \"Product\", \"Product\", \"Utilities\", \"Product\", \"Product\", \"Product\", \"Startup\", \"Product\", \"Bank\", \"Product\", \"Product\", \"Product\", \"Product\", \"Product\", \"Product\", \"Product\", \"Startup\", \"Product\", \"Product\", \"Product\", \"Consulting / Agency\", \"Product\", \"Product\", \"Product\", \"Product\", \"Product\", \"Product\", \"Product\", \"Product\", \"Product\", \"Product\", \"Product\", \"Product\", \"Startup\", \"Consulting / Agency\", \"Product\", \"Product\", \"Product\", \"Corporation\", \"Startup\", \"Product\", \"Product\", \"Product\", \"Consulting / Agency\", \"Product\", \"Product\", \"Startup\", \"Product\", \"Product\", \"Product\", \"Product\", \"Startup\", \"Consulting / Agency\", \"Product\", \"Product\", \"Product\", \"Product\", \"Product\", \"Startup\", \"Product\", \"Product\", \"Product\", \"Insurance\", \"Consulting / Agency\", \"Startup\", \"Consulting / Agency\", \"Startup\", \"Product\", \"Product\", \"Product\", \"Consulting / Agency\", \"Product\", \"Product\", \"Product\", \"Product\", \"Consulting / Agency\", \"Product\", \"Product\", \"Consulting / Agency\", \"Product\", \"Product\", \"Product\", \"Startup\", \"Product\", \"Startup\", \"Product\", \"Startup\", \"Product\", \"Consulting / Agency\", \"Product\", \"Startup\", \"Startup\", \"Product\", \"Startup\", \"Product\", \"Science Institute \", \"Product\", \"Research institute\", \"Startup\", \"Product\", \"Startup\", \"Product\", \"Product\", \"Product\", \"Product\", \"Startup\", \"Product\", \"Product\", \"Startup\", \"Product\", \"Product\", \"Retail\", \"Consulting / Agency\", \"Startup\", \"Consulting / Agency\", \"Product\", \"Startup\", \"Product\", \"Product\", \"Product\", \"Product\", \"Ecommerce\", \"Consulting / Agency\", \"Product\", \"Product\", \"Startup\", \"Product\", \"Product\", \"Product\", \"E-Commerce\", \"Product\", \"Product\", \"Product\", \"Product\", \"Product\", \"Product\", \"Product\", \"Startup\", \"Startup\", \"Product\", \"Product\", \"Product\", \"Startup\", \"Product\", \"Product\", \"Consulting / Agency\", \"Startup\", \"Consulting / Agency\", \"Product\", \"Product\", \"Product\", \"Product\", \"Product\", \"Consulting / Agency\", \"Product\", \"Product\", \"Product\", \"Startup\", \"Product\", \"Product\", \"Product\", \"Product\", \"Product\", \"Product\", \"Product\", \"Product\", \"Product\", \"Startup\", \"Product\", \"Consulting / Agency\", \"Startup\", \"Product\", \"Product\", \"Startup\", \"Product\", \"Consulting / Agency\", \"Product\", \"Consulting / Agency\", \"Product\", \"Product\", \"Startup\", \"Product\", \"Consulting / Agency\", \"Startup\", \"Product\", \"Product\", \"Consulting / Agency\", \"Product\", \"Consulting / Agency\", \"Consulting / Agency\", \"Startup\", \"Consulting / Agency\", \"Product\", \"Product\", \"Product\", \"Consulting / Agency\", \"Semiconductor\", \"Startup\", \"Product\", \"Media\", \"Product\", \"Product\", \"Product\", \"Consulting / Agency\", \"Product\", \"Startup\", \"Consulting / Agency\", \"Startup\", \"Consulting / Agency\", \"Consulting / Agency\", \"Product\", \"Startup\", \"Product\", \"Product\", \"Product\", \"Product\", \"Product\", \"Consulting / Agency\", \"Product\", \"Product\", \"Product\", \"Startup\", \"Consulting / Agency\", \"Product\", \"Product\", \"Consulting / Agency\", \"Product\", \"Product\", \"Consulting / Agency\", \"Product\", \"Startup\", \"Product\", \"Startup\", \"Product\", \"Product\", \"Consulting / Agency\", \"Automotive \", \"Startup\", \"Product\", \"Product\", \"Product\", \"Product\", \"Startup\", \"Product\", \"Consulting / Agency\", \"Product\", \"Product\", \"Product\", \"Startup\", \"Product\", \"Utilities\", \"Consulting / Agency\", \"Product\", \"Institute\", \"Startup\", \"Product\", \"Product\", \"Product\", \"Startup\", \"Product\", \"Startup\", \"Startup\", \"Finance\", \"Product\", \"Consulting / Agency\", \"Product\", \"Fintech\", \"Product\", \"Handel \", \"Consulting and Product\", \"Consulting / Agency\", \"Consulting / Agency\", \"Product\", \"Product\", \"Product\", \"Product\", \"Startup\", \"Product\", \"Product\", \"Consulting / Agency\", \"Product\", \"Startup\", \"Startup\", \"Startup\", \"Product\", \"Consulting / Agency\", \"Startup\", \"Product\", \"Consulting / Agency\", \"Education\", \"Product\", \"Product\", \"Product\", \"Startup\", \"Product\", \"Product\", \"Consulting / Agency\", \"Product\", \"Product\", \"Product\", \"Startup\", \"Startup\", \"Consulting / Agency\", \"Product\", \"Startup\", \"Consulting / Agency\", \"Startup\", \"Startup\", \"Pharma\", \"Product\", \"Product\", \"Startup\", \"Startup\", \"Startup\", \"Full-time position in Education, part-time position in at a data startup\", \"Product\", \"Startup\", \"Startup\", \"Startup\", \"Startup\", \"Startup\", \"Startup\", \"Product\", \"Startup\", \"Product\", \"Startup\", \"Product\", \"Startup\", \"Product\", \"Product\", \"Product\", \"Startup\", \"Product\", \"Bank\", \"Corporation \", \"Product\", \"Product\", \"Product\", \"Startup\", \"Product\", \"Product\", \"Product\", \"Transport & Logistics\", \"Product\", \"Product\", \"Product\", \"Consulting / Agency\", \"Product\", \"Product\", \"Product\", \"Product\", \"Product\", \"Product\", \"Startup\", \"Consulting / Agency\", \"Product\", \"Product\", \"Product\", \"Biergarten \", \"Product\", \"Startup\", \"Product\", \"Product\", \"Product\", \"Product\", \"Non-tech retail\", \"Product\", \"Product\", \"Consulting / Agency\", \"Startup\", \"Product\", \"Consulting / Agency\", \"Startup\", \"Finance\", \"Product\", \"Product\", \"Research\", \"Product\", \"Product\", \"Consulting / Agency\", \"Product\", \"Product\", \"Product\", \"Product\", \"Product\", \"Product\", \"Product\", \"Startup\", \"Product\", \"Product\", \"Startup\", \"Product\", \"Product\", \"Product\", \"Product\", \"Product\", \"Product\", \"Startup\", \"Product\", \"Product\", \"Product\", \"Startup\", \"Startup\", \"Product\", \"Startup\", \"Consulting / Agency\", \"Product\", \"Startup\", \"Startup\", \"Product\", \"Consulting / Agency\", \"Product\", \"Product\", \"Startup\", \"Consulting / Agency\", \"Product\", \"Product\", \"Product\", \"corporate incubator\", \"Startup\", \"Product\", \"Consulting / Agency\", \"Consulting / Agency\", \"Multinational \", \"Product\", \"Product\", \"Startup\", \"Product\", \"Product\", \"Startup\", \"Product\", \"Product\", \"Industry\", \"Consulting / Agency\", \"Product\", \"Consulting / Agency\", \"Product\", \"Startup\", \"Bank\", \"Product\", \"Product\", \"Product\", \"Consulting / Agency\", \"Product\", \"Product\", \"Product\", \"Product\", \"Startup\", \"Consulting / Agency\", \"Product\", \"Product\", \"Product\", \"Product\", \"Consulting / Agency\", \"Product\", \"Product\", \"Product\", \"Product\", \"FAANG\", \"Consulting / Agency\", \"Consulting / Agency\", \"Product\", \"Startup\", \"Product\", \"Product\", \"Consulting / Agency\", \"Product\", \"Product\", \"Consulting / Agency\", \"Product\", \"Startup\", \"Startup\", \"Product\", \"Consulting / Agency\", \"Product\", \"Old industry\", \"Product\", \"Product\", \"Product\", \"Consulting / Agency\", \"Product\", \"Product\", \"Product\", \"Product\", \"Startup\", \"Product\", \"Product\", \"Startup\", \"Startup\", \"Product\", \"Startup\", \"Startup\", \"Startup\", \"Consulting / Agency\", \"Product\", \"Product\", \"Startup\", \"Product\", \"Startup\", \"Product\", \"Product\", \"Product\", \"Product\", \"Consulting / Agency\", \"Product\", \"Product\", \"Product\", \"Startup\", \"Product\", \"Startup\", \"Product\", \"Product\", \"Product\", \"Product\", \"Product\", \"Product\", \"Product\", \"Product\", \"Product\", \"Consulting / Agency\", \"Consulting / Agency\", \"Product\", \"Startup\", \"Product\", \"Product\", \"Startup\", \"Product\", \"Product\", \"Consulting / Agency\", \"Consulting / Agency\", \"Startup\", \"Consulting / Agency\", \"Product\", \"Consulting / Agency\", \"Startup\", \"Consulting / Agency\", \"Consulting / Agency\", \"Startup\", \"Product\", \"Product\", \"Outsourse\", \"Startup\", \"Product\", \"Product\", \"Product\", \"Product\", \"Startup\", \"Product\", \"Product\", \"Product\", \"Product\", \"Product\", \"Product\", \"Startup\", \"Product\", \"Product\", \"Startup\", \"Product\", \"Product\", \"Consulting / Agency\", \"freelance\", \"Startup\", \"Product\", \"Consulting / Agency\", \"Startup\", \"Product\", \"Product\", \"Product\", \"Product\", \"Consulting / Agency\", \"Product\", \"Product\", \"Product\", \"Product\", \"Product\", \"Product\", \"Product\", \"Product\", \"Product\", \"Product\", \"Startup\", \"Product\", \"Product\", \"Startup\", \"Product\", \"Product\", \"eCommerce\", \"Product\", \"Startup\"], \"type\": \"scatter\", \"x\": [\"0\", \"0.8\", \"1\", \"1 (as QA Engineer) / 11 in total\", \"1,5\", \"1.5\", \"10\", \"11\", \"12\", \"13\", \"14\", \"15\", \"15, thereof 8 as CTO\", \"16\", \"17\", \"18\", \"19\", \"2\", \"2,5\", \"2.5\", \"20\", \"21\", \"22\", \"23\", \"24\", \"25\", \"26\", \"27\", \"28\", \"29\", \"3\", \"3.5\", \"30\", \"31\", \"383\", \"4\", \"4.5\", \"40\", \"5\", \"5.5\", \"6\", \"6 (not as a data scientist, but as a lab scientist)\", \"6.5\", \"7\", \"7.5\", \"8\", \"9\", \"less than year\"], \"y\": [44000.0, 29750.0, 48000.0, 60000.0, 48000.0, 53925.0, 75000.0, 75000.0, 75000.0, 83000.0, 80000.0, 77500.0, 150000.0, 83000.0, 76000.0, 85500.0, 87000.0, 50000.0, 40000.0, 60000.0, 80000.0, 80000.0, 70000.0, 100000.0, 130000.0, 75000.0, 93000.0, 73500.0, 78500.0, 28800.0, 57000.0, 62500.0, 64500.0, 110000.0, 70000.0, 60000.0, 67500.0, 70000.0, 65000.0, 48000.0, 67750.0, 57000.0, 58000.0, 70000.0, 68000.0, 68000.0, 74000.0, 16320.0]}],\n",
              "                        {\"template\": {\"data\": {\"bar\": [{\"error_x\": {\"color\": \"#2a3f5f\"}, \"error_y\": {\"color\": \"#2a3f5f\"}, \"marker\": {\"line\": {\"color\": \"#E5ECF6\", \"width\": 0.5}}, \"type\": \"bar\"}], \"barpolar\": [{\"marker\": {\"line\": {\"color\": \"#E5ECF6\", \"width\": 0.5}}, \"type\": \"barpolar\"}], \"carpet\": [{\"aaxis\": {\"endlinecolor\": \"#2a3f5f\", \"gridcolor\": \"white\", \"linecolor\": \"white\", \"minorgridcolor\": \"white\", \"startlinecolor\": \"#2a3f5f\"}, \"baxis\": {\"endlinecolor\": \"#2a3f5f\", \"gridcolor\": \"white\", \"linecolor\": \"white\", \"minorgridcolor\": \"white\", \"startlinecolor\": \"#2a3f5f\"}, \"type\": \"carpet\"}], \"choropleth\": [{\"colorbar\": {\"outlinewidth\": 0, \"ticks\": \"\"}, \"type\": \"choropleth\"}], \"contour\": [{\"colorbar\": {\"outlinewidth\": 0, \"ticks\": \"\"}, \"colorscale\": [[0.0, \"#0d0887\"], [0.1111111111111111, \"#46039f\"], [0.2222222222222222, \"#7201a8\"], [0.3333333333333333, \"#9c179e\"], [0.4444444444444444, \"#bd3786\"], [0.5555555555555556, \"#d8576b\"], [0.6666666666666666, \"#ed7953\"], [0.7777777777777778, \"#fb9f3a\"], [0.8888888888888888, \"#fdca26\"], [1.0, \"#f0f921\"]], \"type\": \"contour\"}], \"contourcarpet\": [{\"colorbar\": {\"outlinewidth\": 0, \"ticks\": \"\"}, \"type\": \"contourcarpet\"}], \"heatmap\": [{\"colorbar\": {\"outlinewidth\": 0, \"ticks\": \"\"}, \"colorscale\": [[0.0, \"#0d0887\"], [0.1111111111111111, \"#46039f\"], [0.2222222222222222, \"#7201a8\"], [0.3333333333333333, \"#9c179e\"], [0.4444444444444444, \"#bd3786\"], [0.5555555555555556, \"#d8576b\"], [0.6666666666666666, \"#ed7953\"], [0.7777777777777778, \"#fb9f3a\"], [0.8888888888888888, \"#fdca26\"], [1.0, \"#f0f921\"]], \"type\": \"heatmap\"}], \"heatmapgl\": [{\"colorbar\": {\"outlinewidth\": 0, \"ticks\": \"\"}, \"colorscale\": [[0.0, \"#0d0887\"], [0.1111111111111111, \"#46039f\"], [0.2222222222222222, \"#7201a8\"], [0.3333333333333333, \"#9c179e\"], [0.4444444444444444, \"#bd3786\"], [0.5555555555555556, \"#d8576b\"], [0.6666666666666666, \"#ed7953\"], [0.7777777777777778, \"#fb9f3a\"], [0.8888888888888888, \"#fdca26\"], [1.0, \"#f0f921\"]], \"type\": \"heatmapgl\"}], \"histogram\": [{\"marker\": {\"colorbar\": {\"outlinewidth\": 0, \"ticks\": \"\"}}, \"type\": \"histogram\"}], \"histogram2d\": [{\"colorbar\": {\"outlinewidth\": 0, \"ticks\": \"\"}, \"colorscale\": [[0.0, \"#0d0887\"], [0.1111111111111111, \"#46039f\"], [0.2222222222222222, \"#7201a8\"], [0.3333333333333333, \"#9c179e\"], [0.4444444444444444, \"#bd3786\"], [0.5555555555555556, \"#d8576b\"], [0.6666666666666666, \"#ed7953\"], [0.7777777777777778, \"#fb9f3a\"], [0.8888888888888888, \"#fdca26\"], [1.0, \"#f0f921\"]], \"type\": \"histogram2d\"}], \"histogram2dcontour\": [{\"colorbar\": {\"outlinewidth\": 0, \"ticks\": \"\"}, \"colorscale\": [[0.0, \"#0d0887\"], [0.1111111111111111, \"#46039f\"], [0.2222222222222222, \"#7201a8\"], [0.3333333333333333, \"#9c179e\"], [0.4444444444444444, \"#bd3786\"], [0.5555555555555556, \"#d8576b\"], [0.6666666666666666, \"#ed7953\"], [0.7777777777777778, \"#fb9f3a\"], [0.8888888888888888, \"#fdca26\"], [1.0, \"#f0f921\"]], \"type\": \"histogram2dcontour\"}], \"mesh3d\": [{\"colorbar\": {\"outlinewidth\": 0, \"ticks\": \"\"}, \"type\": \"mesh3d\"}], \"parcoords\": [{\"line\": {\"colorbar\": {\"outlinewidth\": 0, \"ticks\": \"\"}}, \"type\": \"parcoords\"}], \"pie\": [{\"automargin\": true, \"type\": \"pie\"}], \"scatter\": [{\"marker\": {\"colorbar\": {\"outlinewidth\": 0, \"ticks\": \"\"}}, \"type\": \"scatter\"}], \"scatter3d\": [{\"line\": {\"colorbar\": {\"outlinewidth\": 0, \"ticks\": \"\"}}, \"marker\": {\"colorbar\": {\"outlinewidth\": 0, \"ticks\": \"\"}}, \"type\": \"scatter3d\"}], \"scattercarpet\": [{\"marker\": {\"colorbar\": {\"outlinewidth\": 0, \"ticks\": \"\"}}, \"type\": \"scattercarpet\"}], \"scattergeo\": [{\"marker\": {\"colorbar\": {\"outlinewidth\": 0, \"ticks\": \"\"}}, \"type\": \"scattergeo\"}], \"scattergl\": [{\"marker\": {\"colorbar\": {\"outlinewidth\": 0, \"ticks\": \"\"}}, \"type\": \"scattergl\"}], \"scattermapbox\": [{\"marker\": {\"colorbar\": {\"outlinewidth\": 0, \"ticks\": \"\"}}, \"type\": \"scattermapbox\"}], \"scatterpolar\": [{\"marker\": {\"colorbar\": {\"outlinewidth\": 0, \"ticks\": \"\"}}, \"type\": \"scatterpolar\"}], \"scatterpolargl\": [{\"marker\": {\"colorbar\": {\"outlinewidth\": 0, \"ticks\": \"\"}}, \"type\": \"scatterpolargl\"}], \"scatterternary\": [{\"marker\": {\"colorbar\": {\"outlinewidth\": 0, \"ticks\": \"\"}}, \"type\": \"scatterternary\"}], \"surface\": [{\"colorbar\": {\"outlinewidth\": 0, \"ticks\": \"\"}, \"colorscale\": [[0.0, \"#0d0887\"], [0.1111111111111111, \"#46039f\"], [0.2222222222222222, \"#7201a8\"], [0.3333333333333333, \"#9c179e\"], [0.4444444444444444, \"#bd3786\"], [0.5555555555555556, \"#d8576b\"], [0.6666666666666666, \"#ed7953\"], [0.7777777777777778, \"#fb9f3a\"], [0.8888888888888888, \"#fdca26\"], [1.0, \"#f0f921\"]], \"type\": \"surface\"}], \"table\": [{\"cells\": {\"fill\": {\"color\": \"#EBF0F8\"}, \"line\": {\"color\": \"white\"}}, \"header\": {\"fill\": {\"color\": \"#C8D4E3\"}, \"line\": {\"color\": \"white\"}}, \"type\": \"table\"}]}, \"layout\": {\"annotationdefaults\": {\"arrowcolor\": \"#2a3f5f\", \"arrowhead\": 0, \"arrowwidth\": 1}, \"coloraxis\": {\"colorbar\": {\"outlinewidth\": 0, \"ticks\": \"\"}}, \"colorscale\": {\"diverging\": [[0, \"#8e0152\"], [0.1, \"#c51b7d\"], [0.2, \"#de77ae\"], [0.3, \"#f1b6da\"], [0.4, \"#fde0ef\"], [0.5, \"#f7f7f7\"], [0.6, \"#e6f5d0\"], [0.7, \"#b8e186\"], [0.8, \"#7fbc41\"], [0.9, \"#4d9221\"], [1, \"#276419\"]], \"sequential\": [[0.0, \"#0d0887\"], [0.1111111111111111, \"#46039f\"], [0.2222222222222222, \"#7201a8\"], [0.3333333333333333, \"#9c179e\"], [0.4444444444444444, \"#bd3786\"], [0.5555555555555556, \"#d8576b\"], [0.6666666666666666, \"#ed7953\"], [0.7777777777777778, \"#fb9f3a\"], [0.8888888888888888, \"#fdca26\"], [1.0, \"#f0f921\"]], \"sequentialminus\": [[0.0, \"#0d0887\"], [0.1111111111111111, \"#46039f\"], [0.2222222222222222, \"#7201a8\"], [0.3333333333333333, \"#9c179e\"], [0.4444444444444444, \"#bd3786\"], [0.5555555555555556, \"#d8576b\"], [0.6666666666666666, \"#ed7953\"], [0.7777777777777778, \"#fb9f3a\"], [0.8888888888888888, \"#fdca26\"], [1.0, \"#f0f921\"]]}, \"colorway\": [\"#636efa\", \"#EF553B\", \"#00cc96\", \"#ab63fa\", \"#FFA15A\", \"#19d3f3\", \"#FF6692\", \"#B6E880\", \"#FF97FF\", \"#FECB52\"], \"font\": {\"color\": \"#2a3f5f\"}, \"geo\": {\"bgcolor\": \"white\", \"lakecolor\": \"white\", \"landcolor\": \"#E5ECF6\", \"showlakes\": true, \"showland\": true, \"subunitcolor\": \"white\"}, \"hoverlabel\": {\"align\": \"left\"}, \"hovermode\": \"closest\", \"mapbox\": {\"style\": \"light\"}, \"paper_bgcolor\": \"white\", \"plot_bgcolor\": \"#E5ECF6\", \"polar\": {\"angularaxis\": {\"gridcolor\": \"white\", \"linecolor\": \"white\", \"ticks\": \"\"}, \"bgcolor\": \"#E5ECF6\", \"radialaxis\": {\"gridcolor\": \"white\", \"linecolor\": \"white\", \"ticks\": \"\"}}, \"scene\": {\"xaxis\": {\"backgroundcolor\": \"#E5ECF6\", \"gridcolor\": \"white\", \"gridwidth\": 2, \"linecolor\": \"white\", \"showbackground\": true, \"ticks\": \"\", \"zerolinecolor\": \"white\"}, \"yaxis\": {\"backgroundcolor\": \"#E5ECF6\", \"gridcolor\": \"white\", \"gridwidth\": 2, \"linecolor\": \"white\", \"showbackground\": true, \"ticks\": \"\", \"zerolinecolor\": \"white\"}, \"zaxis\": {\"backgroundcolor\": \"#E5ECF6\", \"gridcolor\": \"white\", \"gridwidth\": 2, \"linecolor\": \"white\", \"showbackground\": true, \"ticks\": \"\", \"zerolinecolor\": \"white\"}}, \"shapedefaults\": {\"line\": {\"color\": \"#2a3f5f\"}}, \"ternary\": {\"aaxis\": {\"gridcolor\": \"white\", \"linecolor\": \"white\", \"ticks\": \"\"}, \"baxis\": {\"gridcolor\": \"white\", \"linecolor\": \"white\", \"ticks\": \"\"}, \"bgcolor\": \"#E5ECF6\", \"caxis\": {\"gridcolor\": \"white\", \"linecolor\": \"white\", \"ticks\": \"\"}}, \"title\": {\"x\": 0.05}, \"xaxis\": {\"automargin\": true, \"gridcolor\": \"white\", \"linecolor\": \"white\", \"ticks\": \"\", \"title\": {\"standoff\": 15}, \"zerolinecolor\": \"white\", \"zerolinewidth\": 2}, \"yaxis\": {\"automargin\": true, \"gridcolor\": \"white\", \"linecolor\": \"white\", \"ticks\": \"\", \"title\": {\"standoff\": 15}, \"zerolinecolor\": \"white\", \"zerolinewidth\": 2}}}, \"title\": {\"text\": \"Years of experience vs Yearly brutto salary (without bonus and stocks) in 2019, 2020 & Current salary in 2020\"}, \"xaxis\": {\"ticklen\": 5, \"title\": {\"text\": \"Salary Trends\"}, \"zeroline\": false}, \"yaxis\": {\"ticklen\": 5, \"title\": {\"text\": \"Salary\"}, \"zeroline\": false}},\n",
              "                        {\"responsive\": true}\n",
              "                    ).then(function(){\n",
              "                            \n",
              "var gd = document.getElementById('0428437d-b380-464a-96e5-68e99c3b0af1');\n",
              "var x = new MutationObserver(function (mutations, observer) {{\n",
              "        var display = window.getComputedStyle(gd).display;\n",
              "        if (!display || display === 'none') {{\n",
              "            console.log([gd, 'removed!']);\n",
              "            Plotly.purge(gd);\n",
              "            observer.disconnect();\n",
              "        }}\n",
              "}});\n",
              "\n",
              "// Listen for the removal of the full notebook cells\n",
              "var notebookContainer = gd.closest('#notebook-container');\n",
              "if (notebookContainer) {{\n",
              "    x.observe(notebookContainer, {childList: true});\n",
              "}}\n",
              "\n",
              "// Listen for the clearing of the current output cell\n",
              "var outputEl = gd.closest('.output');\n",
              "if (outputEl) {{\n",
              "    x.observe(outputEl, {childList: true});\n",
              "}}\n",
              "\n",
              "                        })\n",
              "                };\n",
              "                \n",
              "            </script>\n",
              "        </div>\n",
              "</body>\n",
              "</html>"
            ]
          },
          "metadata": {
            "tags": []
          }
        }
      ]
    },
    {
      "cell_type": "markdown",
      "metadata": {
        "id": "qUmHEWL9nXNm"
      },
      "source": [
        "5. Create a bar chart to analyse the popularity of the main technology/ programming languages amongst the respondents in the year 2020. Which technology is the most popular? \n"
      ]
    },
    {
      "cell_type": "code",
      "metadata": {
        "colab": {
          "base_uri": "https://localhost:8080/"
        },
        "id": "jlLf9irddbdW",
        "outputId": "f22ae38c-780d-4fc0-fde6-605ea29f53fc"
      },
      "source": [
        "#The popular languages are:\n",
        "data20[\"Your main technology / programming language\"].value_counts().sort_values(ascending=False).head()"
      ],
      "execution_count": null,
      "outputs": [
        {
          "output_type": "execute_result",
          "data": {
            "text/plain": [
              "Java          302\n",
              "Python        161\n",
              "PHP            55\n",
              "C++            38\n",
              "JavaScript     33\n",
              "Name: Your main technology / programming language, dtype: int64"
            ]
          },
          "metadata": {
            "tags": []
          },
          "execution_count": 58
        }
      ]
    },
    {
      "cell_type": "code",
      "metadata": {
        "colab": {
          "base_uri": "https://localhost:8080/",
          "height": 542
        },
        "id": "d-7Bk8dCag2X",
        "outputId": "7893f437-82c2-4e1a-dcac-3ceb6cdd6ee9"
      },
      "source": [
        "barchart = px.bar(data_frame=data20,\n",
        "                  x=['Java', 'Python', 'PHP', 'C++', 'JavaScript'],\n",
        "                  y = data20[\"Your main technology / programming language\"].value_counts().sort_values(ascending=False).head(),\n",
        "                  color=data20[\"Your main technology / programming language\"].value_counts().head())\n",
        "pio.show(barchart)"
      ],
      "execution_count": null,
      "outputs": [
        {
          "output_type": "display_data",
          "data": {
            "text/html": [
              "<html>\n",
              "<head><meta charset=\"utf-8\" /></head>\n",
              "<body>\n",
              "    <div>\n",
              "            <script src=\"https://cdnjs.cloudflare.com/ajax/libs/mathjax/2.7.5/MathJax.js?config=TeX-AMS-MML_SVG\"></script><script type=\"text/javascript\">if (window.MathJax) {MathJax.Hub.Config({SVG: {font: \"STIX-Web\"}});}</script>\n",
              "                <script type=\"text/javascript\">window.PlotlyConfig = {MathJaxConfig: 'local'};</script>\n",
              "        <script src=\"https://cdn.plot.ly/plotly-latest.min.js\"></script>    \n",
              "            <div id=\"b6cb5e6d-05e7-4dd3-ab27-b0048d707fdb\" class=\"plotly-graph-div\" style=\"height:525px; width:100%;\"></div>\n",
              "            <script type=\"text/javascript\">\n",
              "                \n",
              "                    window.PLOTLYENV=window.PLOTLYENV || {};\n",
              "                    \n",
              "                if (document.getElementById(\"b6cb5e6d-05e7-4dd3-ab27-b0048d707fdb\")) {\n",
              "                    Plotly.newPlot(\n",
              "                        'b6cb5e6d-05e7-4dd3-ab27-b0048d707fdb',\n",
              "                        [{\"alignmentgroup\": \"True\", \"hoverlabel\": {\"namelength\": 0}, \"hovertemplate\": \"x=%{x}<br>y=%{y}<br>color=%{marker.color}\", \"legendgroup\": \"\", \"marker\": {\"color\": [302, 161, 55, 38, 33], \"coloraxis\": \"coloraxis\"}, \"name\": \"\", \"offsetgroup\": \"\", \"orientation\": \"v\", \"showlegend\": false, \"textposition\": \"auto\", \"type\": \"bar\", \"x\": [\"Java\", \"Python\", \"PHP\", \"C++\", \"JavaScript\"], \"xaxis\": \"x\", \"y\": [302, 161, 55, 38, 33], \"yaxis\": \"y\"}],\n",
              "                        {\"barmode\": \"relative\", \"coloraxis\": {\"colorbar\": {\"title\": {\"text\": \"color\"}}, \"colorscale\": [[0.0, \"#0d0887\"], [0.1111111111111111, \"#46039f\"], [0.2222222222222222, \"#7201a8\"], [0.3333333333333333, \"#9c179e\"], [0.4444444444444444, \"#bd3786\"], [0.5555555555555556, \"#d8576b\"], [0.6666666666666666, \"#ed7953\"], [0.7777777777777778, \"#fb9f3a\"], [0.8888888888888888, \"#fdca26\"], [1.0, \"#f0f921\"]]}, \"legend\": {\"tracegroupgap\": 0}, \"margin\": {\"t\": 60}, \"template\": {\"data\": {\"bar\": [{\"error_x\": {\"color\": \"#2a3f5f\"}, \"error_y\": {\"color\": \"#2a3f5f\"}, \"marker\": {\"line\": {\"color\": \"#E5ECF6\", \"width\": 0.5}}, \"type\": \"bar\"}], \"barpolar\": [{\"marker\": {\"line\": {\"color\": \"#E5ECF6\", \"width\": 0.5}}, \"type\": \"barpolar\"}], \"carpet\": [{\"aaxis\": {\"endlinecolor\": \"#2a3f5f\", \"gridcolor\": \"white\", \"linecolor\": \"white\", \"minorgridcolor\": \"white\", \"startlinecolor\": \"#2a3f5f\"}, \"baxis\": {\"endlinecolor\": \"#2a3f5f\", \"gridcolor\": \"white\", \"linecolor\": \"white\", \"minorgridcolor\": \"white\", \"startlinecolor\": \"#2a3f5f\"}, \"type\": \"carpet\"}], \"choropleth\": [{\"colorbar\": {\"outlinewidth\": 0, \"ticks\": \"\"}, \"type\": \"choropleth\"}], \"contour\": [{\"colorbar\": {\"outlinewidth\": 0, \"ticks\": \"\"}, \"colorscale\": [[0.0, \"#0d0887\"], [0.1111111111111111, \"#46039f\"], [0.2222222222222222, \"#7201a8\"], [0.3333333333333333, \"#9c179e\"], [0.4444444444444444, \"#bd3786\"], [0.5555555555555556, \"#d8576b\"], [0.6666666666666666, \"#ed7953\"], [0.7777777777777778, \"#fb9f3a\"], [0.8888888888888888, \"#fdca26\"], [1.0, \"#f0f921\"]], \"type\": \"contour\"}], \"contourcarpet\": [{\"colorbar\": {\"outlinewidth\": 0, \"ticks\": \"\"}, \"type\": \"contourcarpet\"}], \"heatmap\": [{\"colorbar\": {\"outlinewidth\": 0, \"ticks\": \"\"}, \"colorscale\": [[0.0, \"#0d0887\"], [0.1111111111111111, \"#46039f\"], [0.2222222222222222, \"#7201a8\"], [0.3333333333333333, \"#9c179e\"], [0.4444444444444444, \"#bd3786\"], [0.5555555555555556, \"#d8576b\"], [0.6666666666666666, \"#ed7953\"], [0.7777777777777778, \"#fb9f3a\"], [0.8888888888888888, \"#fdca26\"], [1.0, \"#f0f921\"]], \"type\": \"heatmap\"}], \"heatmapgl\": [{\"colorbar\": {\"outlinewidth\": 0, \"ticks\": \"\"}, \"colorscale\": [[0.0, \"#0d0887\"], [0.1111111111111111, \"#46039f\"], [0.2222222222222222, \"#7201a8\"], [0.3333333333333333, \"#9c179e\"], [0.4444444444444444, \"#bd3786\"], [0.5555555555555556, \"#d8576b\"], [0.6666666666666666, \"#ed7953\"], [0.7777777777777778, \"#fb9f3a\"], [0.8888888888888888, \"#fdca26\"], [1.0, \"#f0f921\"]], \"type\": \"heatmapgl\"}], \"histogram\": [{\"marker\": {\"colorbar\": {\"outlinewidth\": 0, \"ticks\": \"\"}}, \"type\": \"histogram\"}], \"histogram2d\": [{\"colorbar\": {\"outlinewidth\": 0, \"ticks\": \"\"}, \"colorscale\": [[0.0, \"#0d0887\"], [0.1111111111111111, \"#46039f\"], [0.2222222222222222, \"#7201a8\"], [0.3333333333333333, \"#9c179e\"], [0.4444444444444444, \"#bd3786\"], [0.5555555555555556, \"#d8576b\"], [0.6666666666666666, \"#ed7953\"], [0.7777777777777778, \"#fb9f3a\"], [0.8888888888888888, \"#fdca26\"], [1.0, \"#f0f921\"]], \"type\": \"histogram2d\"}], \"histogram2dcontour\": [{\"colorbar\": {\"outlinewidth\": 0, \"ticks\": \"\"}, \"colorscale\": [[0.0, \"#0d0887\"], [0.1111111111111111, \"#46039f\"], [0.2222222222222222, \"#7201a8\"], [0.3333333333333333, \"#9c179e\"], [0.4444444444444444, \"#bd3786\"], [0.5555555555555556, \"#d8576b\"], [0.6666666666666666, \"#ed7953\"], [0.7777777777777778, \"#fb9f3a\"], [0.8888888888888888, \"#fdca26\"], [1.0, \"#f0f921\"]], \"type\": \"histogram2dcontour\"}], \"mesh3d\": [{\"colorbar\": {\"outlinewidth\": 0, \"ticks\": \"\"}, \"type\": \"mesh3d\"}], \"parcoords\": [{\"line\": {\"colorbar\": {\"outlinewidth\": 0, \"ticks\": \"\"}}, \"type\": \"parcoords\"}], \"pie\": [{\"automargin\": true, \"type\": \"pie\"}], \"scatter\": [{\"marker\": {\"colorbar\": {\"outlinewidth\": 0, \"ticks\": \"\"}}, \"type\": \"scatter\"}], \"scatter3d\": [{\"line\": {\"colorbar\": {\"outlinewidth\": 0, \"ticks\": \"\"}}, \"marker\": {\"colorbar\": {\"outlinewidth\": 0, \"ticks\": \"\"}}, \"type\": \"scatter3d\"}], \"scattercarpet\": [{\"marker\": {\"colorbar\": {\"outlinewidth\": 0, \"ticks\": \"\"}}, \"type\": \"scattercarpet\"}], \"scattergeo\": [{\"marker\": {\"colorbar\": {\"outlinewidth\": 0, \"ticks\": \"\"}}, \"type\": \"scattergeo\"}], \"scattergl\": [{\"marker\": {\"colorbar\": {\"outlinewidth\": 0, \"ticks\": \"\"}}, \"type\": \"scattergl\"}], \"scattermapbox\": [{\"marker\": {\"colorbar\": {\"outlinewidth\": 0, \"ticks\": \"\"}}, \"type\": \"scattermapbox\"}], \"scatterpolar\": [{\"marker\": {\"colorbar\": {\"outlinewidth\": 0, \"ticks\": \"\"}}, \"type\": \"scatterpolar\"}], \"scatterpolargl\": [{\"marker\": {\"colorbar\": {\"outlinewidth\": 0, \"ticks\": \"\"}}, \"type\": \"scatterpolargl\"}], \"scatterternary\": [{\"marker\": {\"colorbar\": {\"outlinewidth\": 0, \"ticks\": \"\"}}, \"type\": \"scatterternary\"}], \"surface\": [{\"colorbar\": {\"outlinewidth\": 0, \"ticks\": \"\"}, \"colorscale\": [[0.0, \"#0d0887\"], [0.1111111111111111, \"#46039f\"], [0.2222222222222222, \"#7201a8\"], [0.3333333333333333, \"#9c179e\"], [0.4444444444444444, \"#bd3786\"], [0.5555555555555556, \"#d8576b\"], [0.6666666666666666, \"#ed7953\"], [0.7777777777777778, \"#fb9f3a\"], [0.8888888888888888, \"#fdca26\"], [1.0, \"#f0f921\"]], \"type\": \"surface\"}], \"table\": [{\"cells\": {\"fill\": {\"color\": \"#EBF0F8\"}, \"line\": {\"color\": \"white\"}}, \"header\": {\"fill\": {\"color\": \"#C8D4E3\"}, \"line\": {\"color\": \"white\"}}, \"type\": \"table\"}]}, \"layout\": {\"annotationdefaults\": {\"arrowcolor\": \"#2a3f5f\", \"arrowhead\": 0, \"arrowwidth\": 1}, \"coloraxis\": {\"colorbar\": {\"outlinewidth\": 0, \"ticks\": \"\"}}, \"colorscale\": {\"diverging\": [[0, \"#8e0152\"], [0.1, \"#c51b7d\"], [0.2, \"#de77ae\"], [0.3, \"#f1b6da\"], [0.4, \"#fde0ef\"], [0.5, \"#f7f7f7\"], [0.6, \"#e6f5d0\"], [0.7, \"#b8e186\"], [0.8, \"#7fbc41\"], [0.9, \"#4d9221\"], [1, \"#276419\"]], \"sequential\": [[0.0, \"#0d0887\"], [0.1111111111111111, \"#46039f\"], [0.2222222222222222, \"#7201a8\"], [0.3333333333333333, \"#9c179e\"], [0.4444444444444444, \"#bd3786\"], [0.5555555555555556, \"#d8576b\"], [0.6666666666666666, \"#ed7953\"], [0.7777777777777778, \"#fb9f3a\"], [0.8888888888888888, \"#fdca26\"], [1.0, \"#f0f921\"]], \"sequentialminus\": [[0.0, \"#0d0887\"], [0.1111111111111111, \"#46039f\"], [0.2222222222222222, \"#7201a8\"], [0.3333333333333333, \"#9c179e\"], [0.4444444444444444, \"#bd3786\"], [0.5555555555555556, \"#d8576b\"], [0.6666666666666666, \"#ed7953\"], [0.7777777777777778, \"#fb9f3a\"], [0.8888888888888888, \"#fdca26\"], [1.0, \"#f0f921\"]]}, \"colorway\": [\"#636efa\", \"#EF553B\", \"#00cc96\", \"#ab63fa\", \"#FFA15A\", \"#19d3f3\", \"#FF6692\", \"#B6E880\", \"#FF97FF\", \"#FECB52\"], \"font\": {\"color\": \"#2a3f5f\"}, \"geo\": {\"bgcolor\": \"white\", \"lakecolor\": \"white\", \"landcolor\": \"#E5ECF6\", \"showlakes\": true, \"showland\": true, \"subunitcolor\": \"white\"}, \"hoverlabel\": {\"align\": \"left\"}, \"hovermode\": \"closest\", \"mapbox\": {\"style\": \"light\"}, \"paper_bgcolor\": \"white\", \"plot_bgcolor\": \"#E5ECF6\", \"polar\": {\"angularaxis\": {\"gridcolor\": \"white\", \"linecolor\": \"white\", \"ticks\": \"\"}, \"bgcolor\": \"#E5ECF6\", \"radialaxis\": {\"gridcolor\": \"white\", \"linecolor\": \"white\", \"ticks\": \"\"}}, \"scene\": {\"xaxis\": {\"backgroundcolor\": \"#E5ECF6\", \"gridcolor\": \"white\", \"gridwidth\": 2, \"linecolor\": \"white\", \"showbackground\": true, \"ticks\": \"\", \"zerolinecolor\": \"white\"}, \"yaxis\": {\"backgroundcolor\": \"#E5ECF6\", \"gridcolor\": \"white\", \"gridwidth\": 2, \"linecolor\": \"white\", \"showbackground\": true, \"ticks\": \"\", \"zerolinecolor\": \"white\"}, \"zaxis\": {\"backgroundcolor\": \"#E5ECF6\", \"gridcolor\": \"white\", \"gridwidth\": 2, \"linecolor\": \"white\", \"showbackground\": true, \"ticks\": \"\", \"zerolinecolor\": \"white\"}}, \"shapedefaults\": {\"line\": {\"color\": \"#2a3f5f\"}}, \"ternary\": {\"aaxis\": {\"gridcolor\": \"white\", \"linecolor\": \"white\", \"ticks\": \"\"}, \"baxis\": {\"gridcolor\": \"white\", \"linecolor\": \"white\", \"ticks\": \"\"}, \"bgcolor\": \"#E5ECF6\", \"caxis\": {\"gridcolor\": \"white\", \"linecolor\": \"white\", \"ticks\": \"\"}}, \"title\": {\"x\": 0.05}, \"xaxis\": {\"automargin\": true, \"gridcolor\": \"white\", \"linecolor\": \"white\", \"ticks\": \"\", \"title\": {\"standoff\": 15}, \"zerolinecolor\": \"white\", \"zerolinewidth\": 2}, \"yaxis\": {\"automargin\": true, \"gridcolor\": \"white\", \"linecolor\": \"white\", \"ticks\": \"\", \"title\": {\"standoff\": 15}, \"zerolinecolor\": \"white\", \"zerolinewidth\": 2}}}, \"xaxis\": {\"anchor\": \"y\", \"domain\": [0.0, 1.0], \"title\": {\"text\": \"x\"}}, \"yaxis\": {\"anchor\": \"x\", \"domain\": [0.0, 1.0], \"title\": {\"text\": \"y\"}}},\n",
              "                        {\"responsive\": true}\n",
              "                    ).then(function(){\n",
              "                            \n",
              "var gd = document.getElementById('b6cb5e6d-05e7-4dd3-ab27-b0048d707fdb');\n",
              "var x = new MutationObserver(function (mutations, observer) {{\n",
              "        var display = window.getComputedStyle(gd).display;\n",
              "        if (!display || display === 'none') {{\n",
              "            console.log([gd, 'removed!']);\n",
              "            Plotly.purge(gd);\n",
              "            observer.disconnect();\n",
              "        }}\n",
              "}});\n",
              "\n",
              "// Listen for the removal of the full notebook cells\n",
              "var notebookContainer = gd.closest('#notebook-container');\n",
              "if (notebookContainer) {{\n",
              "    x.observe(notebookContainer, {childList: true});\n",
              "}}\n",
              "\n",
              "// Listen for the clearing of the current output cell\n",
              "var outputEl = gd.closest('.output');\n",
              "if (outputEl) {{\n",
              "    x.observe(outputEl, {childList: true});\n",
              "}}\n",
              "\n",
              "                        })\n",
              "                };\n",
              "                \n",
              "            </script>\n",
              "        </div>\n",
              "</body>\n",
              "</html>"
            ]
          },
          "metadata": {
            "tags": []
          }
        }
      ]
    },
    {
      "cell_type": "markdown",
      "metadata": {
        "id": "uQL6HC8i74YR"
      },
      "source": [
        "6. Which technology is the least popular (with less than 4 responses)?"
      ]
    },
    {
      "cell_type": "code",
      "metadata": {
        "colab": {
          "base_uri": "https://localhost:8080/"
        },
        "id": "nnxTFg-nSJ6n",
        "outputId": "022f7d3a-b74f-4a7a-d1d5-d4af57396cde"
      },
      "source": [
        "#The least popular languages are:\n",
        "data20[\"Your main technology / programming language\"].value_counts().sort_values(ascending=True).head()"
      ],
      "execution_count": null,
      "outputs": [
        {
          "output_type": "execute_result",
          "data": {
            "text/plain": [
              "Офмф                          1\n",
              "TypeScript/Angular            1\n",
              "Django, Flask, Plotly Dash    1\n",
              "Grails, Groovy                1\n",
              "Spring                        1\n",
              "Name: Your main technology / programming language, dtype: int64"
            ]
          },
          "metadata": {
            "tags": []
          },
          "execution_count": 60
        }
      ]
    },
    {
      "cell_type": "code",
      "metadata": {
        "colab": {
          "base_uri": "https://localhost:8080/",
          "height": 542
        },
        "id": "IHuF6eTi7qAx",
        "outputId": "ea791f6d-c9ed-4d66-f988-277ddac6aa1b"
      },
      "source": [
        "barchart = px.bar(data_frame=data20,\n",
        "                  x=['Qml', 'Agile', 'Perl', 'Java, Kotlin', 'golang'],\n",
        "                  y = data20[\"Your main technology / programming language\"].value_counts().sort_values(ascending=True).head(),\n",
        "                  color=data20[\"Your main technology / programming language\"].value_counts().tail())\n",
        "pio.show(barchart)"
      ],
      "execution_count": null,
      "outputs": [
        {
          "output_type": "display_data",
          "data": {
            "text/html": [
              "<html>\n",
              "<head><meta charset=\"utf-8\" /></head>\n",
              "<body>\n",
              "    <div>\n",
              "            <script src=\"https://cdnjs.cloudflare.com/ajax/libs/mathjax/2.7.5/MathJax.js?config=TeX-AMS-MML_SVG\"></script><script type=\"text/javascript\">if (window.MathJax) {MathJax.Hub.Config({SVG: {font: \"STIX-Web\"}});}</script>\n",
              "                <script type=\"text/javascript\">window.PlotlyConfig = {MathJaxConfig: 'local'};</script>\n",
              "        <script src=\"https://cdn.plot.ly/plotly-latest.min.js\"></script>    \n",
              "            <div id=\"1f86e3d4-b0d2-412b-95d9-e060c1d73420\" class=\"plotly-graph-div\" style=\"height:525px; width:100%;\"></div>\n",
              "            <script type=\"text/javascript\">\n",
              "                \n",
              "                    window.PLOTLYENV=window.PLOTLYENV || {};\n",
              "                    \n",
              "                if (document.getElementById(\"1f86e3d4-b0d2-412b-95d9-e060c1d73420\")) {\n",
              "                    Plotly.newPlot(\n",
              "                        '1f86e3d4-b0d2-412b-95d9-e060c1d73420',\n",
              "                        [{\"alignmentgroup\": \"True\", \"hoverlabel\": {\"namelength\": 0}, \"hovertemplate\": \"x=%{x}<br>y=%{y}<br>color=%{marker.color}\", \"legendgroup\": \"\", \"marker\": {\"color\": [1, 1, 1, 1, 1], \"coloraxis\": \"coloraxis\"}, \"name\": \"\", \"offsetgroup\": \"\", \"orientation\": \"v\", \"showlegend\": false, \"textposition\": \"auto\", \"type\": \"bar\", \"x\": [\"Qml\", \"Agile\", \"Perl\", \"Java, Kotlin\", \"golang\"], \"xaxis\": \"x\", \"y\": [1, 1, 1, 1, 1], \"yaxis\": \"y\"}],\n",
              "                        {\"barmode\": \"relative\", \"coloraxis\": {\"colorbar\": {\"title\": {\"text\": \"color\"}}, \"colorscale\": [[0.0, \"#0d0887\"], [0.1111111111111111, \"#46039f\"], [0.2222222222222222, \"#7201a8\"], [0.3333333333333333, \"#9c179e\"], [0.4444444444444444, \"#bd3786\"], [0.5555555555555556, \"#d8576b\"], [0.6666666666666666, \"#ed7953\"], [0.7777777777777778, \"#fb9f3a\"], [0.8888888888888888, \"#fdca26\"], [1.0, \"#f0f921\"]]}, \"legend\": {\"tracegroupgap\": 0}, \"margin\": {\"t\": 60}, \"template\": {\"data\": {\"bar\": [{\"error_x\": {\"color\": \"#2a3f5f\"}, \"error_y\": {\"color\": \"#2a3f5f\"}, \"marker\": {\"line\": {\"color\": \"#E5ECF6\", \"width\": 0.5}}, \"type\": \"bar\"}], \"barpolar\": [{\"marker\": {\"line\": {\"color\": \"#E5ECF6\", \"width\": 0.5}}, \"type\": \"barpolar\"}], \"carpet\": [{\"aaxis\": {\"endlinecolor\": \"#2a3f5f\", \"gridcolor\": \"white\", \"linecolor\": \"white\", \"minorgridcolor\": \"white\", \"startlinecolor\": \"#2a3f5f\"}, \"baxis\": {\"endlinecolor\": \"#2a3f5f\", \"gridcolor\": \"white\", \"linecolor\": \"white\", \"minorgridcolor\": \"white\", \"startlinecolor\": \"#2a3f5f\"}, \"type\": \"carpet\"}], \"choropleth\": [{\"colorbar\": {\"outlinewidth\": 0, \"ticks\": \"\"}, \"type\": \"choropleth\"}], \"contour\": [{\"colorbar\": {\"outlinewidth\": 0, \"ticks\": \"\"}, \"colorscale\": [[0.0, \"#0d0887\"], [0.1111111111111111, \"#46039f\"], [0.2222222222222222, \"#7201a8\"], [0.3333333333333333, \"#9c179e\"], [0.4444444444444444, \"#bd3786\"], [0.5555555555555556, \"#d8576b\"], [0.6666666666666666, \"#ed7953\"], [0.7777777777777778, \"#fb9f3a\"], [0.8888888888888888, \"#fdca26\"], [1.0, \"#f0f921\"]], \"type\": \"contour\"}], \"contourcarpet\": [{\"colorbar\": {\"outlinewidth\": 0, \"ticks\": \"\"}, \"type\": \"contourcarpet\"}], \"heatmap\": [{\"colorbar\": {\"outlinewidth\": 0, \"ticks\": \"\"}, \"colorscale\": [[0.0, \"#0d0887\"], [0.1111111111111111, \"#46039f\"], [0.2222222222222222, \"#7201a8\"], [0.3333333333333333, \"#9c179e\"], [0.4444444444444444, \"#bd3786\"], [0.5555555555555556, \"#d8576b\"], [0.6666666666666666, \"#ed7953\"], [0.7777777777777778, \"#fb9f3a\"], [0.8888888888888888, \"#fdca26\"], [1.0, \"#f0f921\"]], \"type\": \"heatmap\"}], \"heatmapgl\": [{\"colorbar\": {\"outlinewidth\": 0, \"ticks\": \"\"}, \"colorscale\": [[0.0, \"#0d0887\"], [0.1111111111111111, \"#46039f\"], [0.2222222222222222, \"#7201a8\"], [0.3333333333333333, \"#9c179e\"], [0.4444444444444444, \"#bd3786\"], [0.5555555555555556, \"#d8576b\"], [0.6666666666666666, \"#ed7953\"], [0.7777777777777778, \"#fb9f3a\"], [0.8888888888888888, \"#fdca26\"], [1.0, \"#f0f921\"]], \"type\": \"heatmapgl\"}], \"histogram\": [{\"marker\": {\"colorbar\": {\"outlinewidth\": 0, \"ticks\": \"\"}}, \"type\": \"histogram\"}], \"histogram2d\": [{\"colorbar\": {\"outlinewidth\": 0, \"ticks\": \"\"}, \"colorscale\": [[0.0, \"#0d0887\"], [0.1111111111111111, \"#46039f\"], [0.2222222222222222, \"#7201a8\"], [0.3333333333333333, \"#9c179e\"], [0.4444444444444444, \"#bd3786\"], [0.5555555555555556, \"#d8576b\"], [0.6666666666666666, \"#ed7953\"], [0.7777777777777778, \"#fb9f3a\"], [0.8888888888888888, \"#fdca26\"], [1.0, \"#f0f921\"]], \"type\": \"histogram2d\"}], \"histogram2dcontour\": [{\"colorbar\": {\"outlinewidth\": 0, \"ticks\": \"\"}, \"colorscale\": [[0.0, \"#0d0887\"], [0.1111111111111111, \"#46039f\"], [0.2222222222222222, \"#7201a8\"], [0.3333333333333333, \"#9c179e\"], [0.4444444444444444, \"#bd3786\"], [0.5555555555555556, \"#d8576b\"], [0.6666666666666666, \"#ed7953\"], [0.7777777777777778, \"#fb9f3a\"], [0.8888888888888888, \"#fdca26\"], [1.0, \"#f0f921\"]], \"type\": \"histogram2dcontour\"}], \"mesh3d\": [{\"colorbar\": {\"outlinewidth\": 0, \"ticks\": \"\"}, \"type\": \"mesh3d\"}], \"parcoords\": [{\"line\": {\"colorbar\": {\"outlinewidth\": 0, \"ticks\": \"\"}}, \"type\": \"parcoords\"}], \"pie\": [{\"automargin\": true, \"type\": \"pie\"}], \"scatter\": [{\"marker\": {\"colorbar\": {\"outlinewidth\": 0, \"ticks\": \"\"}}, \"type\": \"scatter\"}], \"scatter3d\": [{\"line\": {\"colorbar\": {\"outlinewidth\": 0, \"ticks\": \"\"}}, \"marker\": {\"colorbar\": {\"outlinewidth\": 0, \"ticks\": \"\"}}, \"type\": \"scatter3d\"}], \"scattercarpet\": [{\"marker\": {\"colorbar\": {\"outlinewidth\": 0, \"ticks\": \"\"}}, \"type\": \"scattercarpet\"}], \"scattergeo\": [{\"marker\": {\"colorbar\": {\"outlinewidth\": 0, \"ticks\": \"\"}}, \"type\": \"scattergeo\"}], \"scattergl\": [{\"marker\": {\"colorbar\": {\"outlinewidth\": 0, \"ticks\": \"\"}}, \"type\": \"scattergl\"}], \"scattermapbox\": [{\"marker\": {\"colorbar\": {\"outlinewidth\": 0, \"ticks\": \"\"}}, \"type\": \"scattermapbox\"}], \"scatterpolar\": [{\"marker\": {\"colorbar\": {\"outlinewidth\": 0, \"ticks\": \"\"}}, \"type\": \"scatterpolar\"}], \"scatterpolargl\": [{\"marker\": {\"colorbar\": {\"outlinewidth\": 0, \"ticks\": \"\"}}, \"type\": \"scatterpolargl\"}], \"scatterternary\": [{\"marker\": {\"colorbar\": {\"outlinewidth\": 0, \"ticks\": \"\"}}, \"type\": \"scatterternary\"}], \"surface\": [{\"colorbar\": {\"outlinewidth\": 0, \"ticks\": \"\"}, \"colorscale\": [[0.0, \"#0d0887\"], [0.1111111111111111, \"#46039f\"], [0.2222222222222222, \"#7201a8\"], [0.3333333333333333, \"#9c179e\"], [0.4444444444444444, \"#bd3786\"], [0.5555555555555556, \"#d8576b\"], [0.6666666666666666, \"#ed7953\"], [0.7777777777777778, \"#fb9f3a\"], [0.8888888888888888, \"#fdca26\"], [1.0, \"#f0f921\"]], \"type\": \"surface\"}], \"table\": [{\"cells\": {\"fill\": {\"color\": \"#EBF0F8\"}, \"line\": {\"color\": \"white\"}}, \"header\": {\"fill\": {\"color\": \"#C8D4E3\"}, \"line\": {\"color\": \"white\"}}, \"type\": \"table\"}]}, \"layout\": {\"annotationdefaults\": {\"arrowcolor\": \"#2a3f5f\", \"arrowhead\": 0, \"arrowwidth\": 1}, \"coloraxis\": {\"colorbar\": {\"outlinewidth\": 0, \"ticks\": \"\"}}, \"colorscale\": {\"diverging\": [[0, \"#8e0152\"], [0.1, \"#c51b7d\"], [0.2, \"#de77ae\"], [0.3, \"#f1b6da\"], [0.4, \"#fde0ef\"], [0.5, \"#f7f7f7\"], [0.6, \"#e6f5d0\"], [0.7, \"#b8e186\"], [0.8, \"#7fbc41\"], [0.9, \"#4d9221\"], [1, \"#276419\"]], \"sequential\": [[0.0, \"#0d0887\"], [0.1111111111111111, \"#46039f\"], [0.2222222222222222, \"#7201a8\"], [0.3333333333333333, \"#9c179e\"], [0.4444444444444444, \"#bd3786\"], [0.5555555555555556, \"#d8576b\"], [0.6666666666666666, \"#ed7953\"], [0.7777777777777778, \"#fb9f3a\"], [0.8888888888888888, \"#fdca26\"], [1.0, \"#f0f921\"]], \"sequentialminus\": [[0.0, \"#0d0887\"], [0.1111111111111111, \"#46039f\"], [0.2222222222222222, \"#7201a8\"], [0.3333333333333333, \"#9c179e\"], [0.4444444444444444, \"#bd3786\"], [0.5555555555555556, \"#d8576b\"], [0.6666666666666666, \"#ed7953\"], [0.7777777777777778, \"#fb9f3a\"], [0.8888888888888888, \"#fdca26\"], [1.0, \"#f0f921\"]]}, \"colorway\": [\"#636efa\", \"#EF553B\", \"#00cc96\", \"#ab63fa\", \"#FFA15A\", \"#19d3f3\", \"#FF6692\", \"#B6E880\", \"#FF97FF\", \"#FECB52\"], \"font\": {\"color\": \"#2a3f5f\"}, \"geo\": {\"bgcolor\": \"white\", \"lakecolor\": \"white\", \"landcolor\": \"#E5ECF6\", \"showlakes\": true, \"showland\": true, \"subunitcolor\": \"white\"}, \"hoverlabel\": {\"align\": \"left\"}, \"hovermode\": \"closest\", \"mapbox\": {\"style\": \"light\"}, \"paper_bgcolor\": \"white\", \"plot_bgcolor\": \"#E5ECF6\", \"polar\": {\"angularaxis\": {\"gridcolor\": \"white\", \"linecolor\": \"white\", \"ticks\": \"\"}, \"bgcolor\": \"#E5ECF6\", \"radialaxis\": {\"gridcolor\": \"white\", \"linecolor\": \"white\", \"ticks\": \"\"}}, \"scene\": {\"xaxis\": {\"backgroundcolor\": \"#E5ECF6\", \"gridcolor\": \"white\", \"gridwidth\": 2, \"linecolor\": \"white\", \"showbackground\": true, \"ticks\": \"\", \"zerolinecolor\": \"white\"}, \"yaxis\": {\"backgroundcolor\": \"#E5ECF6\", \"gridcolor\": \"white\", \"gridwidth\": 2, \"linecolor\": \"white\", \"showbackground\": true, \"ticks\": \"\", \"zerolinecolor\": \"white\"}, \"zaxis\": {\"backgroundcolor\": \"#E5ECF6\", \"gridcolor\": \"white\", \"gridwidth\": 2, \"linecolor\": \"white\", \"showbackground\": true, \"ticks\": \"\", \"zerolinecolor\": \"white\"}}, \"shapedefaults\": {\"line\": {\"color\": \"#2a3f5f\"}}, \"ternary\": {\"aaxis\": {\"gridcolor\": \"white\", \"linecolor\": \"white\", \"ticks\": \"\"}, \"baxis\": {\"gridcolor\": \"white\", \"linecolor\": \"white\", \"ticks\": \"\"}, \"bgcolor\": \"#E5ECF6\", \"caxis\": {\"gridcolor\": \"white\", \"linecolor\": \"white\", \"ticks\": \"\"}}, \"title\": {\"x\": 0.05}, \"xaxis\": {\"automargin\": true, \"gridcolor\": \"white\", \"linecolor\": \"white\", \"ticks\": \"\", \"title\": {\"standoff\": 15}, \"zerolinecolor\": \"white\", \"zerolinewidth\": 2}, \"yaxis\": {\"automargin\": true, \"gridcolor\": \"white\", \"linecolor\": \"white\", \"ticks\": \"\", \"title\": {\"standoff\": 15}, \"zerolinecolor\": \"white\", \"zerolinewidth\": 2}}}, \"xaxis\": {\"anchor\": \"y\", \"domain\": [0.0, 1.0], \"title\": {\"text\": \"x\"}}, \"yaxis\": {\"anchor\": \"x\", \"domain\": [0.0, 1.0], \"title\": {\"text\": \"y\"}}},\n",
              "                        {\"responsive\": true}\n",
              "                    ).then(function(){\n",
              "                            \n",
              "var gd = document.getElementById('1f86e3d4-b0d2-412b-95d9-e060c1d73420');\n",
              "var x = new MutationObserver(function (mutations, observer) {{\n",
              "        var display = window.getComputedStyle(gd).display;\n",
              "        if (!display || display === 'none') {{\n",
              "            console.log([gd, 'removed!']);\n",
              "            Plotly.purge(gd);\n",
              "            observer.disconnect();\n",
              "        }}\n",
              "}});\n",
              "\n",
              "// Listen for the removal of the full notebook cells\n",
              "var notebookContainer = gd.closest('#notebook-container');\n",
              "if (notebookContainer) {{\n",
              "    x.observe(notebookContainer, {childList: true});\n",
              "}}\n",
              "\n",
              "// Listen for the clearing of the current output cell\n",
              "var outputEl = gd.closest('.output');\n",
              "if (outputEl) {{\n",
              "    x.observe(outputEl, {childList: true});\n",
              "}}\n",
              "\n",
              "                        })\n",
              "                };\n",
              "                \n",
              "            </script>\n",
              "        </div>\n",
              "</body>\n",
              "</html>"
            ]
          },
          "metadata": {
            "tags": []
          }
        }
      ]
    },
    {
      "cell_type": "markdown",
      "metadata": {
        "id": "WwfgjLdY5Rsn"
      },
      "source": [
        "7. Create a pie plot indicating the gender ratio of the respondents in the year 2020."
      ]
    },
    {
      "cell_type": "code",
      "metadata": {
        "colab": {
          "base_uri": "https://localhost:8080/",
          "height": 542
        },
        "id": "3iil_Zj08GSv",
        "outputId": "9cbb431b-3ff6-46b6-fcaf-bdb02f108f08"
      },
      "source": [
        "data20['Gender'].fillna(data20['Gender'].mode()[0], inplace=True)\n",
        "df20d = data20['Gender'].value_counts()\n",
        "\n",
        "fig = px.pie(df20d,names=data20['Gender']) #customize it to a donut shape instead of a pie using the hole parameter\n",
        "fig.update_traces(textinfo=\"label+percent\", insidetextfont= dict(color=\"white\")) #Changing the label & colour of the labels\n",
        "#fig.update_layout(legend = {\"itemclick\": False}) #Changing what happens on clicking on a legend\n",
        "fig.show()"
      ],
      "execution_count": null,
      "outputs": [
        {
          "output_type": "display_data",
          "data": {
            "text/html": [
              "<html>\n",
              "<head><meta charset=\"utf-8\" /></head>\n",
              "<body>\n",
              "    <div>\n",
              "            <script src=\"https://cdnjs.cloudflare.com/ajax/libs/mathjax/2.7.5/MathJax.js?config=TeX-AMS-MML_SVG\"></script><script type=\"text/javascript\">if (window.MathJax) {MathJax.Hub.Config({SVG: {font: \"STIX-Web\"}});}</script>\n",
              "                <script type=\"text/javascript\">window.PlotlyConfig = {MathJaxConfig: 'local'};</script>\n",
              "        <script src=\"https://cdn.plot.ly/plotly-latest.min.js\"></script>    \n",
              "            <div id=\"6aa194fc-fd3d-4cd6-b112-68c306091793\" class=\"plotly-graph-div\" style=\"height:525px; width:100%;\"></div>\n",
              "            <script type=\"text/javascript\">\n",
              "                \n",
              "                    window.PLOTLYENV=window.PLOTLYENV || {};\n",
              "                    \n",
              "                if (document.getElementById(\"6aa194fc-fd3d-4cd6-b112-68c306091793\")) {\n",
              "                    Plotly.newPlot(\n",
              "                        '6aa194fc-fd3d-4cd6-b112-68c306091793',\n",
              "                        [{\"domain\": {\"x\": [0.0, 1.0], \"y\": [0.0, 1.0]}, \"hoverlabel\": {\"namelength\": 0}, \"hovertemplate\": \"label=%{label}\", \"insidetextfont\": {\"color\": \"white\"}, \"labels\": [\"Male\", \"Male\", \"Male\", \"Male\", \"Male\", \"Male\", \"Male\", \"Male\", \"Male\", \"Male\", \"Female\", \"Male\", \"Male\", \"Male\", \"Male\", \"Male\", \"Male\", \"Male\", \"Male\", \"Male\", \"Male\", \"Male\", \"Male\", \"Male\", \"Male\", \"Male\", \"Male\", \"Male\", \"Male\", \"Male\", \"Male\", \"Male\", \"Female\", \"Male\", \"Male\", \"Male\", \"Female\", \"Male\", \"Male\", \"Male\", \"Male\", \"Male\", \"Male\", \"Female\", \"Male\", \"Male\", \"Female\", \"Male\", \"Female\", \"Male\", \"Male\", \"Female\", \"Male\", \"Male\", \"Male\", \"Male\", \"Male\", \"Male\", \"Male\", \"Female\", \"Male\", \"Male\", \"Male\", \"Male\", \"Male\", \"Male\", \"Male\", \"Male\", \"Male\", \"Male\", \"Male\", \"Male\", \"Male\", \"Male\", \"Male\", \"Male\", \"Male\", \"Male\", \"Female\", \"Male\", \"Female\", \"Male\", \"Male\", \"Male\", \"Male\", \"Male\", \"Female\", \"Male\", \"Male\", \"Male\", \"Male\", \"Female\", \"Female\", \"Female\", \"Male\", \"Male\", \"Female\", \"Male\", \"Male\", \"Male\", \"Male\", \"Female\", \"Male\", \"Male\", \"Male\", \"Male\", \"Male\", \"Male\", \"Male\", \"Male\", \"Male\", \"Male\", \"Male\", \"Male\", \"Male\", \"Female\", \"Female\", \"Male\", \"Male\", \"Male\", \"Female\", \"Male\", \"Female\", \"Male\", \"Male\", \"Male\", \"Male\", \"Male\", \"Male\", \"Male\", \"Male\", \"Male\", \"Male\", \"Male\", \"Male\", \"Male\", \"Male\", \"Male\", \"Male\", \"Male\", \"Male\", \"Male\", \"Male\", \"Male\", \"Male\", \"Male\", \"Female\", \"Male\", \"Male\", \"Male\", \"Female\", \"Male\", \"Female\", \"Female\", \"Male\", \"Male\", \"Male\", \"Male\", \"Male\", \"Male\", \"Female\", \"Male\", \"Male\", \"Male\", \"Female\", \"Male\", \"Male\", \"Male\", \"Male\", \"Male\", \"Male\", \"Male\", \"Male\", \"Male\", \"Male\", \"Male\", \"Male\", \"Male\", \"Female\", \"Male\", \"Male\", \"Male\", \"Male\", \"Male\", \"Male\", \"Male\", \"Male\", \"Male\", \"Male\", \"Male\", \"Female\", \"Male\", \"Male\", \"Male\", \"Male\", \"Male\", \"Male\", \"Female\", \"Male\", \"Male\", \"Male\", \"Male\", \"Male\", \"Female\", \"Female\", \"Male\", \"Male\", \"Male\", \"Male\", \"Female\", \"Male\", \"Male\", \"Male\", \"Male\", \"Male\", \"Female\", \"Male\", \"Male\", \"Male\", \"Male\", \"Male\", \"Male\", \"Male\", \"Male\", \"Male\", \"Male\", \"Male\", \"Male\", \"Male\", \"Female\", \"Male\", \"Male\", \"Male\", \"Male\", \"Male\", \"Male\", \"Male\", \"Female\", \"Female\", \"Male\", \"Female\", \"Male\", \"Male\", \"Female\", \"Male\", \"Male\", \"Male\", \"Male\", \"Male\", \"Male\", \"Male\", \"Male\", \"Female\", \"Male\", \"Male\", \"Male\", \"Male\", \"Male\", \"Male\", \"Male\", \"Male\", \"Male\", \"Male\", \"Male\", \"Male\", \"Male\", \"Female\", \"Male\", \"Male\", \"Male\", \"Male\", \"Male\", \"Female\", \"Male\", \"Male\", \"Male\", \"Male\", \"Male\", \"Male\", \"Male\", \"Female\", \"Male\", \"Male\", \"Female\", \"Male\", \"Male\", \"Male\", \"Male\", \"Male\", \"Male\", \"Male\", \"Male\", \"Male\", \"Male\", \"Male\", \"Male\", \"Male\", \"Male\", \"Male\", \"Male\", \"Male\", \"Male\", \"Male\", \"Female\", \"Male\", \"Male\", \"Male\", \"Male\", \"Female\", \"Male\", \"Male\", \"Female\", \"Male\", \"Male\", \"Male\", \"Male\", \"Diverse\", \"Male\", \"Male\", \"Male\", \"Male\", \"Female\", \"Male\", \"Male\", \"Male\", \"Male\", \"Male\", \"Male\", \"Male\", \"Male\", \"Male\", \"Male\", \"Male\", \"Male\", \"Male\", \"Male\", \"Male\", \"Male\", \"Male\", \"Male\", \"Male\", \"Male\", \"Male\", \"Male\", \"Male\", \"Male\", \"Male\", \"Male\", \"Male\", \"Male\", \"Male\", \"Male\", \"Male\", \"Female\", \"Male\", \"Male\", \"Male\", \"Male\", \"Male\", \"Male\", \"Male\", \"Male\", \"Male\", \"Male\", \"Male\", \"Male\", \"Male\", \"Male\", \"Female\", \"Male\", \"Female\", \"Male\", \"Male\", \"Male\", \"Male\", \"Male\", \"Male\", \"Male\", \"Male\", \"Male\", \"Male\", \"Male\", \"Male\", \"Male\", \"Male\", \"Male\", \"Male\", \"Male\", \"Male\", \"Male\", \"Male\", \"Male\", \"Male\", \"Male\", \"Male\", \"Female\", \"Male\", \"Male\", \"Male\", \"Female\", \"Male\", \"Female\", \"Male\", \"Male\", \"Male\", \"Male\", \"Male\", \"Male\", \"Male\", \"Female\", \"Male\", \"Male\", \"Male\", \"Male\", \"Male\", \"Male\", \"Female\", \"Female\", \"Male\", \"Male\", \"Male\", \"Male\", \"Male\", \"Female\", \"Female\", \"Female\", \"Male\", \"Female\", \"Male\", \"Male\", \"Male\", \"Male\", \"Male\", \"Male\", \"Male\", \"Male\", \"Male\", \"Male\", \"Male\", \"Male\", \"Male\", \"Male\", \"Male\", \"Female\", \"Male\", \"Female\", \"Male\", \"Male\", \"Female\", \"Female\", \"Male\", \"Male\", \"Male\", \"Male\", \"Male\", \"Male\", \"Male\", \"Male\", \"Female\", \"Male\", \"Female\", \"Male\", \"Male\", \"Male\", \"Male\", \"Female\", \"Male\", \"Male\", \"Male\", \"Female\", \"Male\", \"Male\", \"Male\", \"Male\", \"Male\", \"Female\", \"Male\", \"Male\", \"Male\", \"Male\", \"Male\", \"Male\", \"Male\", \"Female\", \"Male\", \"Male\", \"Male\", \"Male\", \"Male\", \"Male\", \"Male\", \"Male\", \"Male\", \"Male\", \"Male\", \"Male\", \"Male\", \"Female\", \"Male\", \"Male\", \"Male\", \"Male\", \"Male\", \"Male\", \"Male\", \"Male\", \"Female\", \"Female\", \"Male\", \"Male\", \"Male\", \"Female\", \"Male\", \"Male\", \"Male\", \"Male\", \"Male\", \"Male\", \"Male\", \"Male\", \"Female\", \"Female\", \"Male\", \"Male\", \"Female\", \"Male\", \"Male\", \"Male\", \"Male\", \"Male\", \"Male\", \"Male\", \"Male\", \"Male\", \"Male\", \"Male\", \"Male\", \"Male\", \"Male\", \"Male\", \"Male\", \"Male\", \"Male\", \"Male\", \"Male\", \"Male\", \"Male\", \"Male\", \"Male\", \"Male\", \"Male\", \"Male\", \"Male\", \"Male\", \"Male\", \"Male\", \"Male\", \"Male\", \"Male\", \"Male\", \"Female\", \"Male\", \"Male\", \"Male\", \"Male\", \"Male\", \"Male\", \"Female\", \"Male\", \"Male\", \"Male\", \"Male\", \"Male\", \"Male\", \"Male\", \"Female\", \"Male\", \"Female\", \"Male\", \"Male\", \"Female\", \"Male\", \"Male\", \"Male\", \"Male\", \"Female\", \"Male\", \"Female\", \"Male\", \"Male\", \"Male\", \"Male\", \"Male\", \"Male\", \"Male\", \"Male\", \"Female\", \"Female\", \"Male\", \"Male\", \"Male\", \"Female\", \"Male\", \"Male\", \"Male\", \"Male\", \"Male\", \"Male\", \"Male\", \"Male\", \"Male\", \"Male\", \"Female\", \"Male\", \"Male\", \"Male\", \"Male\", \"Male\", \"Male\", \"Male\", \"Male\", \"Male\", \"Male\", \"Male\", \"Male\", \"Male\", \"Male\", \"Female\", \"Male\", \"Male\", \"Male\", \"Male\", \"Male\", \"Male\", \"Male\", \"Female\", \"Male\", \"Male\", \"Female\", \"Female\", \"Male\", \"Male\", \"Male\", \"Female\", \"Male\", \"Male\", \"Female\", \"Male\", \"Female\", \"Male\", \"Male\", \"Male\", \"Female\", \"Male\", \"Male\", \"Male\", \"Male\", \"Female\", \"Male\", \"Male\", \"Male\", \"Male\", \"Male\", \"Male\", \"Male\", \"Female\", \"Male\", \"Male\", \"Male\", \"Male\", \"Male\", \"Male\", \"Male\", \"Female\", \"Male\", \"Female\", \"Male\", \"Male\", \"Male\", \"Male\", \"Female\", \"Male\", \"Female\", \"Male\", \"Male\", \"Male\", \"Male\", \"Male\", \"Male\", \"Female\", \"Male\", \"Male\", \"Male\", \"Male\", \"Male\", \"Male\", \"Male\", \"Male\", \"Male\", \"Male\", \"Male\", \"Male\", \"Male\", \"Male\", \"Male\", \"Male\", \"Female\", \"Male\", \"Male\", \"Male\", \"Female\", \"Male\", \"Male\", \"Male\", \"Male\", \"Male\", \"Male\", \"Male\", \"Male\", \"Male\", \"Diverse\", \"Male\", \"Male\", \"Female\", \"Male\", \"Male\", \"Male\", \"Male\", \"Male\", \"Male\", \"Male\", \"Male\", \"Female\", \"Male\", \"Male\", \"Female\", \"Male\", \"Female\", \"Male\", \"Male\", \"Male\", \"Male\", \"Female\", \"Female\", \"Male\", \"Male\", \"Male\", \"Male\", \"Female\", \"Male\", \"Male\", \"Male\", \"Male\", \"Female\", \"Male\", \"Male\", \"Male\", \"Male\", \"Male\", \"Female\", \"Male\", \"Male\", \"Male\", \"Male\", \"Male\", \"Male\", \"Male\", \"Male\", \"Male\", \"Male\", \"Male\", \"Male\", \"Male\", \"Male\", \"Male\", \"Male\", \"Male\", \"Male\", \"Male\", \"Male\", \"Male\", \"Male\", \"Male\", \"Male\", \"Male\", \"Male\", \"Male\", \"Male\", \"Male\", \"Male\", \"Male\", \"Female\", \"Female\", \"Male\", \"Male\", \"Male\", \"Male\", \"Male\", \"Female\", \"Male\", \"Male\", \"Male\", \"Male\", \"Male\", \"Male\", \"Male\", \"Male\", \"Female\", \"Male\", \"Female\", \"Female\", \"Male\", \"Male\", \"Male\", \"Male\", \"Male\", \"Male\", \"Male\", \"Male\", \"Male\", \"Male\", \"Male\", \"Male\", \"Male\", \"Male\", \"Male\", \"Male\", \"Female\", \"Male\", \"Male\", \"Male\", \"Male\", \"Male\", \"Female\", \"Male\", \"Female\", \"Male\", \"Female\", \"Female\", \"Male\", \"Female\", \"Male\", \"Male\", \"Male\", \"Male\", \"Female\", \"Female\", \"Male\", \"Male\", \"Male\", \"Male\", \"Male\", \"Male\", \"Male\", \"Male\", \"Female\", \"Male\", \"Female\", \"Male\", \"Female\", \"Male\", \"Male\", \"Male\", \"Male\", \"Female\", \"Male\", \"Male\", \"Male\", \"Male\", \"Male\", \"Female\", \"Male\", \"Male\", \"Male\", \"Male\", \"Male\", \"Male\", \"Male\", \"Male\", \"Female\", \"Male\", \"Male\", \"Male\", \"Male\", \"Female\", \"Female\", \"Male\", \"Male\", \"Male\", \"Male\", \"Male\", \"Male\", \"Female\", \"Male\", \"Male\", \"Male\", \"Male\", \"Male\", \"Female\", \"Male\", \"Male\", \"Female\", \"Male\", \"Male\", \"Male\", \"Male\", \"Male\", \"Male\", \"Male\", \"Male\", \"Male\", \"Female\", \"Male\", \"Male\", \"Male\", \"Male\", \"Male\", \"Male\", \"Male\", \"Male\", \"Male\", \"Female\", \"Female\", \"Male\", \"Male\", \"Male\", \"Male\", \"Male\", \"Male\", \"Male\", \"Male\", \"Female\", \"Male\", \"Male\", \"Male\", \"Male\", \"Male\", \"Male\", \"Female\", \"Male\", \"Male\", \"Male\", \"Male\", \"Male\", \"Male\", \"Male\", \"Male\", \"Male\", \"Male\", \"Male\", \"Male\", \"Male\", \"Male\", \"Male\", \"Male\", \"Male\", \"Male\", \"Male\", \"Male\", \"Male\", \"Male\", \"Male\", \"Male\", \"Female\", \"Male\", \"Male\", \"Male\", \"Male\", \"Male\", \"Male\", \"Male\", \"Male\", \"Male\", \"Male\", \"Male\", \"Male\", \"Male\", \"Male\", \"Male\", \"Male\", \"Male\", \"Female\", \"Male\", \"Male\", \"Male\", \"Male\", \"Male\", \"Male\", \"Male\", \"Male\", \"Male\", \"Female\", \"Male\", \"Female\", \"Male\", \"Male\", \"Male\", \"Male\", \"Female\", \"Male\", \"Male\", \"Male\", \"Male\", \"Female\", \"Male\", \"Male\", \"Male\", \"Male\", \"Male\", \"Male\", \"Female\", \"Male\", \"Male\", \"Female\", \"Female\", \"Male\", \"Male\", \"Male\", \"Male\", \"Male\", \"Female\", \"Male\", \"Male\", \"Male\", \"Male\", \"Male\", \"Male\", \"Male\", \"Female\", \"Male\", \"Male\", \"Female\", \"Male\", \"Male\", \"Male\", \"Female\", \"Male\", \"Male\", \"Male\", \"Female\", \"Female\", \"Male\", \"Male\", \"Male\", \"Male\", \"Male\", \"Male\", \"Male\", \"Male\", \"Male\", \"Male\", \"Female\", \"Male\", \"Female\", \"Male\", \"Male\", \"Male\", \"Female\", \"Male\", \"Male\", \"Male\", \"Male\", \"Male\", \"Male\", \"Male\", \"Female\", \"Female\", \"Male\", \"Female\", \"Male\", \"Female\", \"Male\", \"Male\", \"Male\", \"Male\", \"Male\", \"Male\", \"Female\", \"Male\", \"Male\", \"Male\", \"Male\", \"Female\", \"Male\", \"Male\", \"Male\", \"Male\", \"Male\", \"Male\", \"Female\", \"Male\", \"Male\", \"Male\", \"Male\", \"Female\", \"Male\", \"Male\", \"Male\", \"Male\", \"Male\", \"Male\", \"Male\", \"Male\", \"Male\", \"Male\", \"Male\", \"Male\", \"Male\", \"Male\", \"Male\", \"Male\", \"Male\", \"Male\", \"Male\", \"Male\", \"Male\", \"Male\", \"Male\", \"Male\", \"Female\", \"Female\", \"Male\", \"Male\", \"Male\", \"Female\", \"Male\", \"Female\", \"Male\", \"Male\", \"Male\", \"Male\", \"Male\", \"Male\", \"Female\", \"Male\", \"Male\", \"Male\", \"Male\", \"Male\", \"Male\", \"Male\", \"Female\", \"Female\", \"Female\", \"Female\", \"Male\", \"Male\", \"Female\", \"Male\", \"Male\", \"Male\", \"Male\", \"Male\", \"Male\", \"Male\", \"Female\", \"Male\", \"Male\", \"Male\", \"Male\", \"Male\", \"Male\", \"Male\", \"Male\", \"Male\", \"Male\", \"Male\", \"Male\", \"Male\", \"Female\", \"Female\", \"Male\", \"Male\", \"Male\", \"Male\", \"Male\", \"Male\", \"Female\", \"Male\", \"Male\", \"Male\", \"Male\", \"Male\", \"Male\", \"Male\", \"Male\", \"Male\", \"Male\", \"Female\", \"Male\", \"Male\", \"Male\", \"Male\", \"Male\", \"Female\", \"Male\", \"Male\", \"Female\", \"Male\", \"Male\", \"Male\", \"Male\", \"Male\", \"Male\", \"Male\", \"Male\", \"Male\", \"Male\", \"Male\", \"Male\", \"Male\", \"Male\", \"Male\", \"Male\", \"Male\", \"Male\", \"Male\", \"Male\", \"Female\", \"Male\", \"Male\", \"Male\", \"Male\", \"Male\", \"Female\", \"Male\", \"Male\", \"Female\", \"Male\", \"Male\", \"Male\", \"Male\", \"Male\", \"Male\", \"Male\", \"Male\", \"Male\"], \"legendgroup\": \"\", \"name\": \"\", \"showlegend\": true, \"textinfo\": \"label+percent\", \"type\": \"pie\"}],\n",
              "                        {\"legend\": {\"tracegroupgap\": 0}, \"margin\": {\"t\": 60}, \"template\": {\"data\": {\"bar\": [{\"error_x\": {\"color\": \"#2a3f5f\"}, \"error_y\": {\"color\": \"#2a3f5f\"}, \"marker\": {\"line\": {\"color\": \"#E5ECF6\", \"width\": 0.5}}, \"type\": \"bar\"}], \"barpolar\": [{\"marker\": {\"line\": {\"color\": \"#E5ECF6\", \"width\": 0.5}}, \"type\": \"barpolar\"}], \"carpet\": [{\"aaxis\": {\"endlinecolor\": \"#2a3f5f\", \"gridcolor\": \"white\", \"linecolor\": \"white\", \"minorgridcolor\": \"white\", \"startlinecolor\": \"#2a3f5f\"}, \"baxis\": {\"endlinecolor\": \"#2a3f5f\", \"gridcolor\": \"white\", \"linecolor\": \"white\", \"minorgridcolor\": \"white\", \"startlinecolor\": \"#2a3f5f\"}, \"type\": \"carpet\"}], \"choropleth\": [{\"colorbar\": {\"outlinewidth\": 0, \"ticks\": \"\"}, \"type\": \"choropleth\"}], \"contour\": [{\"colorbar\": {\"outlinewidth\": 0, \"ticks\": \"\"}, \"colorscale\": [[0.0, \"#0d0887\"], [0.1111111111111111, \"#46039f\"], [0.2222222222222222, \"#7201a8\"], [0.3333333333333333, \"#9c179e\"], [0.4444444444444444, \"#bd3786\"], [0.5555555555555556, \"#d8576b\"], [0.6666666666666666, \"#ed7953\"], [0.7777777777777778, \"#fb9f3a\"], [0.8888888888888888, \"#fdca26\"], [1.0, \"#f0f921\"]], \"type\": \"contour\"}], \"contourcarpet\": [{\"colorbar\": {\"outlinewidth\": 0, \"ticks\": \"\"}, \"type\": \"contourcarpet\"}], \"heatmap\": [{\"colorbar\": {\"outlinewidth\": 0, \"ticks\": \"\"}, \"colorscale\": [[0.0, \"#0d0887\"], [0.1111111111111111, \"#46039f\"], [0.2222222222222222, \"#7201a8\"], [0.3333333333333333, \"#9c179e\"], [0.4444444444444444, \"#bd3786\"], [0.5555555555555556, \"#d8576b\"], [0.6666666666666666, \"#ed7953\"], [0.7777777777777778, \"#fb9f3a\"], [0.8888888888888888, \"#fdca26\"], [1.0, \"#f0f921\"]], \"type\": \"heatmap\"}], \"heatmapgl\": [{\"colorbar\": {\"outlinewidth\": 0, \"ticks\": \"\"}, \"colorscale\": [[0.0, \"#0d0887\"], [0.1111111111111111, \"#46039f\"], [0.2222222222222222, \"#7201a8\"], [0.3333333333333333, \"#9c179e\"], [0.4444444444444444, \"#bd3786\"], [0.5555555555555556, \"#d8576b\"], [0.6666666666666666, \"#ed7953\"], [0.7777777777777778, \"#fb9f3a\"], [0.8888888888888888, \"#fdca26\"], [1.0, \"#f0f921\"]], \"type\": \"heatmapgl\"}], \"histogram\": [{\"marker\": {\"colorbar\": {\"outlinewidth\": 0, \"ticks\": \"\"}}, \"type\": \"histogram\"}], \"histogram2d\": [{\"colorbar\": {\"outlinewidth\": 0, \"ticks\": \"\"}, \"colorscale\": [[0.0, \"#0d0887\"], [0.1111111111111111, \"#46039f\"], [0.2222222222222222, \"#7201a8\"], [0.3333333333333333, \"#9c179e\"], [0.4444444444444444, \"#bd3786\"], [0.5555555555555556, \"#d8576b\"], [0.6666666666666666, \"#ed7953\"], [0.7777777777777778, \"#fb9f3a\"], [0.8888888888888888, \"#fdca26\"], [1.0, \"#f0f921\"]], \"type\": \"histogram2d\"}], \"histogram2dcontour\": [{\"colorbar\": {\"outlinewidth\": 0, \"ticks\": \"\"}, \"colorscale\": [[0.0, \"#0d0887\"], [0.1111111111111111, \"#46039f\"], [0.2222222222222222, \"#7201a8\"], [0.3333333333333333, \"#9c179e\"], [0.4444444444444444, \"#bd3786\"], [0.5555555555555556, \"#d8576b\"], [0.6666666666666666, \"#ed7953\"], [0.7777777777777778, \"#fb9f3a\"], [0.8888888888888888, \"#fdca26\"], [1.0, \"#f0f921\"]], \"type\": \"histogram2dcontour\"}], \"mesh3d\": [{\"colorbar\": {\"outlinewidth\": 0, \"ticks\": \"\"}, \"type\": \"mesh3d\"}], \"parcoords\": [{\"line\": {\"colorbar\": {\"outlinewidth\": 0, \"ticks\": \"\"}}, \"type\": \"parcoords\"}], \"pie\": [{\"automargin\": true, \"type\": \"pie\"}], \"scatter\": [{\"marker\": {\"colorbar\": {\"outlinewidth\": 0, \"ticks\": \"\"}}, \"type\": \"scatter\"}], \"scatter3d\": [{\"line\": {\"colorbar\": {\"outlinewidth\": 0, \"ticks\": \"\"}}, \"marker\": {\"colorbar\": {\"outlinewidth\": 0, \"ticks\": \"\"}}, \"type\": \"scatter3d\"}], \"scattercarpet\": [{\"marker\": {\"colorbar\": {\"outlinewidth\": 0, \"ticks\": \"\"}}, \"type\": \"scattercarpet\"}], \"scattergeo\": [{\"marker\": {\"colorbar\": {\"outlinewidth\": 0, \"ticks\": \"\"}}, \"type\": \"scattergeo\"}], \"scattergl\": [{\"marker\": {\"colorbar\": {\"outlinewidth\": 0, \"ticks\": \"\"}}, \"type\": \"scattergl\"}], \"scattermapbox\": [{\"marker\": {\"colorbar\": {\"outlinewidth\": 0, \"ticks\": \"\"}}, \"type\": \"scattermapbox\"}], \"scatterpolar\": [{\"marker\": {\"colorbar\": {\"outlinewidth\": 0, \"ticks\": \"\"}}, \"type\": \"scatterpolar\"}], \"scatterpolargl\": [{\"marker\": {\"colorbar\": {\"outlinewidth\": 0, \"ticks\": \"\"}}, \"type\": \"scatterpolargl\"}], \"scatterternary\": [{\"marker\": {\"colorbar\": {\"outlinewidth\": 0, \"ticks\": \"\"}}, \"type\": \"scatterternary\"}], \"surface\": [{\"colorbar\": {\"outlinewidth\": 0, \"ticks\": \"\"}, \"colorscale\": [[0.0, \"#0d0887\"], [0.1111111111111111, \"#46039f\"], [0.2222222222222222, \"#7201a8\"], [0.3333333333333333, \"#9c179e\"], [0.4444444444444444, \"#bd3786\"], [0.5555555555555556, \"#d8576b\"], [0.6666666666666666, \"#ed7953\"], [0.7777777777777778, \"#fb9f3a\"], [0.8888888888888888, \"#fdca26\"], [1.0, \"#f0f921\"]], \"type\": \"surface\"}], \"table\": [{\"cells\": {\"fill\": {\"color\": \"#EBF0F8\"}, \"line\": {\"color\": \"white\"}}, \"header\": {\"fill\": {\"color\": \"#C8D4E3\"}, \"line\": {\"color\": \"white\"}}, \"type\": \"table\"}]}, \"layout\": {\"annotationdefaults\": {\"arrowcolor\": \"#2a3f5f\", \"arrowhead\": 0, \"arrowwidth\": 1}, \"coloraxis\": {\"colorbar\": {\"outlinewidth\": 0, \"ticks\": \"\"}}, \"colorscale\": {\"diverging\": [[0, \"#8e0152\"], [0.1, \"#c51b7d\"], [0.2, \"#de77ae\"], [0.3, \"#f1b6da\"], [0.4, \"#fde0ef\"], [0.5, \"#f7f7f7\"], [0.6, \"#e6f5d0\"], [0.7, \"#b8e186\"], [0.8, \"#7fbc41\"], [0.9, \"#4d9221\"], [1, \"#276419\"]], \"sequential\": [[0.0, \"#0d0887\"], [0.1111111111111111, \"#46039f\"], [0.2222222222222222, \"#7201a8\"], [0.3333333333333333, \"#9c179e\"], [0.4444444444444444, \"#bd3786\"], [0.5555555555555556, \"#d8576b\"], [0.6666666666666666, \"#ed7953\"], [0.7777777777777778, \"#fb9f3a\"], [0.8888888888888888, \"#fdca26\"], [1.0, \"#f0f921\"]], \"sequentialminus\": [[0.0, \"#0d0887\"], [0.1111111111111111, \"#46039f\"], [0.2222222222222222, \"#7201a8\"], [0.3333333333333333, \"#9c179e\"], [0.4444444444444444, \"#bd3786\"], [0.5555555555555556, \"#d8576b\"], [0.6666666666666666, \"#ed7953\"], [0.7777777777777778, \"#fb9f3a\"], [0.8888888888888888, \"#fdca26\"], [1.0, \"#f0f921\"]]}, \"colorway\": [\"#636efa\", \"#EF553B\", \"#00cc96\", \"#ab63fa\", \"#FFA15A\", \"#19d3f3\", \"#FF6692\", \"#B6E880\", \"#FF97FF\", \"#FECB52\"], \"font\": {\"color\": \"#2a3f5f\"}, \"geo\": {\"bgcolor\": \"white\", \"lakecolor\": \"white\", \"landcolor\": \"#E5ECF6\", \"showlakes\": true, \"showland\": true, \"subunitcolor\": \"white\"}, \"hoverlabel\": {\"align\": \"left\"}, \"hovermode\": \"closest\", \"mapbox\": {\"style\": \"light\"}, \"paper_bgcolor\": \"white\", \"plot_bgcolor\": \"#E5ECF6\", \"polar\": {\"angularaxis\": {\"gridcolor\": \"white\", \"linecolor\": \"white\", \"ticks\": \"\"}, \"bgcolor\": \"#E5ECF6\", \"radialaxis\": {\"gridcolor\": \"white\", \"linecolor\": \"white\", \"ticks\": \"\"}}, \"scene\": {\"xaxis\": {\"backgroundcolor\": \"#E5ECF6\", \"gridcolor\": \"white\", \"gridwidth\": 2, \"linecolor\": \"white\", \"showbackground\": true, \"ticks\": \"\", \"zerolinecolor\": \"white\"}, \"yaxis\": {\"backgroundcolor\": \"#E5ECF6\", \"gridcolor\": \"white\", \"gridwidth\": 2, \"linecolor\": \"white\", \"showbackground\": true, \"ticks\": \"\", \"zerolinecolor\": \"white\"}, \"zaxis\": {\"backgroundcolor\": \"#E5ECF6\", \"gridcolor\": \"white\", \"gridwidth\": 2, \"linecolor\": \"white\", \"showbackground\": true, \"ticks\": \"\", \"zerolinecolor\": \"white\"}}, \"shapedefaults\": {\"line\": {\"color\": \"#2a3f5f\"}}, \"ternary\": {\"aaxis\": {\"gridcolor\": \"white\", \"linecolor\": \"white\", \"ticks\": \"\"}, \"baxis\": {\"gridcolor\": \"white\", \"linecolor\": \"white\", \"ticks\": \"\"}, \"bgcolor\": \"#E5ECF6\", \"caxis\": {\"gridcolor\": \"white\", \"linecolor\": \"white\", \"ticks\": \"\"}}, \"title\": {\"x\": 0.05}, \"xaxis\": {\"automargin\": true, \"gridcolor\": \"white\", \"linecolor\": \"white\", \"ticks\": \"\", \"title\": {\"standoff\": 15}, \"zerolinecolor\": \"white\", \"zerolinewidth\": 2}, \"yaxis\": {\"automargin\": true, \"gridcolor\": \"white\", \"linecolor\": \"white\", \"ticks\": \"\", \"title\": {\"standoff\": 15}, \"zerolinecolor\": \"white\", \"zerolinewidth\": 2}}}},\n",
              "                        {\"responsive\": true}\n",
              "                    ).then(function(){\n",
              "                            \n",
              "var gd = document.getElementById('6aa194fc-fd3d-4cd6-b112-68c306091793');\n",
              "var x = new MutationObserver(function (mutations, observer) {{\n",
              "        var display = window.getComputedStyle(gd).display;\n",
              "        if (!display || display === 'none') {{\n",
              "            console.log([gd, 'removed!']);\n",
              "            Plotly.purge(gd);\n",
              "            observer.disconnect();\n",
              "        }}\n",
              "}});\n",
              "\n",
              "// Listen for the removal of the full notebook cells\n",
              "var notebookContainer = gd.closest('#notebook-container');\n",
              "if (notebookContainer) {{\n",
              "    x.observe(notebookContainer, {childList: true});\n",
              "}}\n",
              "\n",
              "// Listen for the clearing of the current output cell\n",
              "var outputEl = gd.closest('.output');\n",
              "if (outputEl) {{\n",
              "    x.observe(outputEl, {childList: true});\n",
              "}}\n",
              "\n",
              "                        })\n",
              "                };\n",
              "                \n",
              "            </script>\n",
              "        </div>\n",
              "</body>\n",
              "</html>"
            ]
          },
          "metadata": {
            "tags": []
          }
        }
      ]
    },
    {
      "cell_type": "markdown",
      "metadata": {
        "id": "VjAI7P3kgzWq"
      },
      "source": [
        "##Bonus Visualizations"
      ]
    },
    {
      "cell_type": "markdown",
      "metadata": {
        "id": "jzi23sY0g1kJ"
      },
      "source": [
        "1. Do the years of experience and the current salary an employee receives matter in the various companies? Is age considered a factor?"
      ]
    },
    {
      "cell_type": "code",
      "metadata": {
        "colab": {
          "base_uri": "https://localhost:8080/",
          "height": 716
        },
        "id": "rl-XHMKqiCng",
        "outputId": "1c703078-2cd5-4bb0-fced-c025652f4a77"
      },
      "source": [
        "fig = px.scatter_3d(\n",
        "    data_frame=data18,\n",
        "    x='Current Salary',\n",
        "    y='Company type',\n",
        "    z='Years of experience',\n",
        "    color=\"Gender\",\n",
        "    color_discrete_sequence=['magenta', 'green'],\n",
        "    log_x=True, \n",
        "    template='ggplot2',         \n",
        "    title='Years of Experience and current salary Analysis',\n",
        "    labels={'Years of Experience and current salary'},\n",
        "    hover_name='Age',        # values appear in bold in the hover tooltip\n",
        "    height=700,                 \n",
        ")\n",
        "\n",
        "pio.show(fig)"
      ],
      "execution_count": null,
      "outputs": [
        {
          "output_type": "display_data",
          "data": {
            "text/html": [
              "<html>\n",
              "<head><meta charset=\"utf-8\" /></head>\n",
              "<body>\n",
              "    <div>\n",
              "            <script src=\"https://cdnjs.cloudflare.com/ajax/libs/mathjax/2.7.5/MathJax.js?config=TeX-AMS-MML_SVG\"></script><script type=\"text/javascript\">if (window.MathJax) {MathJax.Hub.Config({SVG: {font: \"STIX-Web\"}});}</script>\n",
              "                <script type=\"text/javascript\">window.PlotlyConfig = {MathJaxConfig: 'local'};</script>\n",
              "        <script src=\"https://cdn.plot.ly/plotly-latest.min.js\"></script>    \n",
              "            <div id=\"850073ca-5f44-4f44-8a1a-97b67ec98c42\" class=\"plotly-graph-div\" style=\"height:700px; width:100%;\"></div>\n",
              "            <script type=\"text/javascript\">\n",
              "                \n",
              "                    window.PLOTLYENV=window.PLOTLYENV || {};\n",
              "                    \n",
              "                if (document.getElementById(\"850073ca-5f44-4f44-8a1a-97b67ec98c42\")) {\n",
              "                    Plotly.newPlot(\n",
              "                        '850073ca-5f44-4f44-8a1a-97b67ec98c42',\n",
              "                        [{\"hoverlabel\": {\"namelength\": 0}, \"hovertemplate\": \"<b>%{hovertext}</b><br><br>Gender=M<br>Current Salary=%{x}<br>Company type=%{y}<br>Years of experience=%{z}\", \"hovertext\": [43.0, 32.0, 25.0, 39.0, 37.0, 32.183035714285715, 32.0, 30.0, 40.0, 33.0, 29.0, 32.0, 33.0, 24.0, 44.0, 37.0, 29.0, 28.0, 35.0, 32.0, 39.0, 38.0, 28.0, 31.0, 39.0, 32.0, 27.0, 32.183035714285715, 31.0, 31.0, 32.0, 35.0, 33.0, 32.0, 41.0, 32.183035714285715, 30.0, 43.0, 28.0, 29.0, 32.0, 31.0, 33.0, 29.0, 28.0, 32.0, 34.0, 29.0, 28.0, 34.0, 35.0, 32.0, 29.0, 29.0, 25.0, 32.183035714285715, 25.0, 32.0, 29.0, 32.183035714285715, 26.0, 33.0, 28.0, 31.0, 29.0, 29.0, 33.0, 31.0, 32.183035714285715, 27.0, 30.0, 24.0, 44.0, 37.0, 32.183035714285715, 33.0, 36.0, 34.0, 31.0, 25.0, 28.0, 38.0, 22.0, 37.0, 32.0, 40.0, 24.0, 36.0, 35.0, 28.0, 32.0, 33.0, 32.0, 32.0, 32.0, 31.0, 34.0, 32.183035714285715, 32.0, 34.0, 32.0, 32.0, 32.183035714285715, 27.0, 30.0, 34.0, 30.0, 24.0, 39.0, 29.0, 34.0, 30.0, 35.0, 37.0, 25.0, 37.0, 30.0, 33.0, 32.0, 32.183035714285715, 30.0, 28.0, 30.0, 39.0, 26.0, 32.183035714285715, 30.0, 32.183035714285715, 39.0, 26.0, 32.183035714285715, 27.0, 42.0, 31.0, 34.0, 32.183035714285715, 30.0, 37.0, 32.183035714285715, 27.0, 30.0, 33.0, 38.0, 35.0, 36.0, 25.0, 32.0, 35.0, 29.0, 33.0, 30.0, 30.0, 26.0, 27.0, 34.0, 35.0, 29.0, 28.0, 39.0, 35.0, 26.0, 26.0, 32.183035714285715, 42.0, 27.0, 38.0, 24.0, 32.0, 31.0, 31.0, 31.0, 30.0, 36.0, 24.0, 33.0, 29.0, 22.0, 42.0, 29.0, 29.0, 35.0, 36.0, 29.0, 28.0, 32.0, 38.0, 31.0, 30.0, 32.183035714285715, 27.0, 27.0, 36.0, 32.0, 36.0, 32.183035714285715, 32.0, 32.183035714285715, 26.0, 39.0, 25.0, 32.183035714285715, 31.0, 52.0, 26.0, 28.0, 31.0, 26.0, 32.0, 22.0, 34.0, 32.183035714285715, 37.0, 38.0, 32.183035714285715, 37.0, 34.0, 28.0, 31.0, 25.0, 25.0, 29.0, 28.0, 49.0, 38.0, 26.0, 43.0, 35.0, 31.0, 27.0, 33.0, 32.183035714285715, 40.0, 32.0, 32.183035714285715, 32.0, 36.0, 32.183035714285715, 30.0, 33.0, 33.0, 38.0, 30.0, 28.0, 37.0, 26.0, 31.0, 37.0, 32.183035714285715, 33.0, 38.0, 30.0, 37.0, 30.0, 31.0, 41.0, 27.0, 30.0, 32.183035714285715, 34.0, 31.0, 33.0, 30.0, 30.0, 24.0, 32.183035714285715, 30.0, 23.0, 33.0, 21.0, 33.0, 30.0, 34.0, 40.0, 32.0, 37.0, 33.0, 28.0, 30.0, 25.0, 33.0, 25.0, 25.0, 35.0, 31.0, 28.0, 26.0, 30.0, 42.0, 39.0, 30.0, 32.183035714285715, 33.0, 36.0, 30.0, 28.0, 32.0, 30.0, 32.0, 30.0, 32.183035714285715, 25.0, 43.0, 32.0, 30.0, 32.183035714285715, 32.183035714285715, 31.0, 34.0, 30.0, 26.0, 28.0, 34.0, 24.0, 31.0, 31.0, 26.0, 27.0, 32.0, 34.0, 33.0, 35.0, 32.183035714285715, 34.0, 35.0, 30.0, 36.0, 37.0, 30.0, 28.0, 29.0, 37.0, 30.0, 30.0, 30.0, 34.0, 22.0, 35.0, 29.0, 25.0, 30.0, 37.0, 34.0, 30.0, 27.0, 30.0, 31.0, 38.0, 32.183035714285715, 36.0, 33.0, 36.0, 26.0, 37.0, 31.0, 29.0, 30.0, 43.0, 30.0, 32.0, 42.0, 31.0, 36.0, 31.0, 28.0, 34.0, 36.0, 43.0, 29.0, 27.0, 30.0, 22.0, 25.0, 28.0, 36.0, 35.0, 48.0, 23.0, 24.0, 25.0, 30.0, 28.0, 31.0, 31.0, 27.0, 30.0, 32.183035714285715, 25.0, 23.0, 33.0, 31.0, 33.0, 32.183035714285715, 31.0, 32.183035714285715, 34.0, 32.0, 31.0, 33.0, 26.0, 30.0, 25.0, 45.0, 32.183035714285715, 36.0, 35.0, 38.0, 38.0, 35.0, 32.0, 35.0, 30.0, 32.0, 45.0, 32.183035714285715, 37.0, 32.183035714285715, 32.0, 38.0, 27.0, 37.0, 27.0, 35.0, 28.0, 33.0, 36.0, 31.0, 37.0, 33.0, 31.0, 30.0, 36.0, 40.0, 33.0, 34.0, 31.0, 37.0, 32.0, 32.0, 30.0, 42.0, 32.0, 32.183035714285715, 35.0, 29.0, 30.0, 27.0, 30.0, 28.0, 33.0, 25.0, 35.0, 31.0, 33.0, 32.0, 33.0, 32.0, 28.0, 35.0, 34.0, 31.0, 32.0, 32.0, 30.0, 50.0, 29.0, 31.0, 29.0, 36.0, 31.0, 34.0, 31.0, 47.0, 32.183035714285715, 43.0, 33.0, 32.0, 32.183035714285715, 47.0, 31.0, 32.183035714285715, 40.0, 33.0, 46.0, 27.0, 43.0, 34.0, 38.0, 31.0, 32.0, 34.0, 42.0, 32.183035714285715, 30.0, 26.0, 27.0, 36.0, 26.0, 32.0, 26.0, 25.0, 33.0, 29.0, 30.0, 32.183035714285715, 32.183035714285715, 30.0, 36.0, 40.0, 26.0, 29.0, 32.183035714285715, 32.183035714285715, 29.0, 52.0, 34.0, 39.0, 30.0, 38.0, 26.0, 42.0, 35.0, 35.0, 32.183035714285715, 31.0, 37.0, 30.0, 26.0, 32.0, 30.0, 31.0, 28.0, 33.0, 27.0, 43.0, 31.0, 30.0, 32.0, 35.0, 33.0, 33.0, 38.0, 31.0, 37.0, 27.0, 32.183035714285715, 37.0, 36.0, 33.0, 30.0, 34.0, 36.0, 31.0, 31.0, 33.0, 32.0, 27.0, 35.0, 25.0, 34.0, 34.0, 35.0, 34.0, 33.0, 26.0, 30.0, 33.0, 28.0, 33.0, 27.0, 30.0, 29.0, 32.0, 32.183035714285715, 28.0, 31.0, 33.0, 32.183035714285715, 37.0, 30.0, 30.0, 32.183035714285715, 33.0, 28.0, 37.0, 32.0, 36.0, 30.0, 32.183035714285715, 39.0, 29.0, 37.0, 29.0, 32.183035714285715, 32.183035714285715, 32.0, 32.0, 30.0, 38.0, 42.0, 27.0, 42.0, 26.0, 33.0, 30.0, 34.0, 44.0, 32.183035714285715, 30.0, 25.0, 35.0, 26.0, 34.0, 36.0, 35.0, 33.0, 28.0, 34.0, 33.0, 38.0, 31.0, 32.0, 32.183035714285715, 40.0, 32.183035714285715, 32.183035714285715, 31.0, 40.0, 32.183035714285715, 37.0, 51.0, 32.183035714285715, 29.0, 25.0, 32.183035714285715, 33.0, 30.0, 52.0, 40.0, 32.183035714285715], \"legendgroup\": \"Gender=M\", \"marker\": {\"color\": \"magenta\", \"symbol\": \"circle\"}, \"mode\": \"markers\", \"name\": \"Gender=M\", \"scene\": \"scene\", \"showlegend\": true, \"type\": \"scatter3d\", \"x\": [77000.0, 88000.0, 78000.0, 69000.0, 98000.0, 65000.0, 65000.0, 60000.0, 70000.0, 70000.0, 55000.0, 94500.0, 68000.0, 60000.0, 62500.0, 80000.0, 132250.0, 52000.0, 95000.0, 72000.0, 77000.0, 72000.0, 80000.0, 66000.0, 75800.0, 60000.0, 57000.0, 58000.0, 36000.0, 70000.0, 72000.0, 75000.0, 90000.0, 69000.0, 113000.0, 65000.0, 75000.0, 84000.0, 70000.0, 55000.0, 60000.0, 65000.0, 70000.0, 50000.0, 65000.0, 78000.0, 71000.0, 75000.0, 65000.0, 68000.0, 56000.0, 72000.0, 45000.0, 40000.0, 66000.0, 66000.0, 60000.0, 50000.0, 60000.0, 48000.0, 66000.0, 95000.0, 61000.0, 65000.0, 55000.0, 72000.0, 90000.0, 60000.0, 60000.0, 87000.0, 70000.0, 57000.0, 73000.0, 85000.0, 65000.0, 58000.0, 82000.0, 67000.0, 65000.0, 62000.0, 62000.0, 83000.0, 50000.0, 100000.0, 75000.0, 69000.0, 50000.0, 73000.0, 120000.0, 50000.0, 58000.0, 65000.0, 80000.0, 70000.0, 65000.0, 78600.0, 70000.0, 60000.0, 78000.0, 70000.0, 89000.0, 72000.0, 43000.0, 72000.0, 65000.0, 85000.0, 55000.0, 65000.0, 107000.0, 60000.0, 70000.0, 60000.0, 62000.0, 78000.0, 60000.0, 54000.0, 64000.0, 65000.0, 58000.0, 75000.0, 95000.0, 53000.0, 69000.0, 84000.0, 52000.0, 85000.0, 75000.0, 63000.0, 87000.0, 65000.0, 85000.0, 66000.0, 42000.0, 65000.0, 74000.0, 75000.0, 72500.0, 53000.0, 102000.0, 60000.0, 75000.0, 85000.0, 60000.0, 60000.0, 85000.0, 50000.0, 60000.0, 35000.0, 75000.0, 75000.0, 70000.0, 65000.0, 55000.0, 55000.0, 70000.0, 63000.0, 115000.0, 52000.0, 176000.0, 70000.0, 50000.0, 58000.0, 60000.0, 60000.0, 64000.0, 80000.0, 58000.0, 95000.0, 90000.0, 75000.0, 46000.0, 80000.0, 92000.0, 60000.0, 90000.0, 75000.0, 70000.0, 74000.0, 65000.0, 125000.0, 68000.0, 80000.0, 40000.0, 60000.0, 65000.0, 92000.0, 75000.0, 76000.0, 75000.0, 65000.0, 75000.0, 80000.0, 80000.0, 83000.0, 80000.0, 87000.0, 80000.0, 58000.0, 68000.0, 48500.0, 72000.0, 49000.0, 34000.0, 68000.0, 75000.0, 95000.0, 70500.0, 65000.0, 65000.0, 83000.0, 65000.0, 120000.0, 85000.0, 65000.0, 65000.0, 86000.0, 68000.0, 61000.0, 60000.0, 48000.0, 75000.0, 65000.0, 120000.0, 84000.0, 54000.0, 61000.0, 85000.0, 35000.0, 68000.0, 75000.0, 96000.0, 70000.0, 55000.0, 50000.0, 60000.0, 95000.0, 67000.0, 90000.0, 92000.0, 95000.0, 70000.0, 115000.0, 70000.0, 35000.0, 60000.0, 90000.0, 80000.0, 90000.0, 72000.0, 55000.0, 52000.0, 53000.0, 72000.0, 80000.0, 200000.0, 63000.0, 73300.0, 115000.0, 73500.0, 83000.0, 42000.0, 130000.0, 70000.0, 45000.0, 57000.0, 65000.0, 47500.0, 70000.0, 90000.0, 85000.0, 65000.0, 62000.0, 60000.0, 75000.0, 70000.0, 65000.0, 70000.0, 60000.0, 56000.0, 65000.0, 78000.0, 60000.0, 85000.0, 68000.0, 60000.0, 81000.0, 61000.0, 140000.0, 52000.0, 65000.0, 80000.0, 68000.0, 90000.0, 80000.0, 80000.0, 65000.0, 70000.0, 60000.0, 55000.0, 65000.0, 52000.0, 75000.0, 87000.0, 66000.0, 50000.0, 30000.0, 60000.0, 75000.0, 130000.0, 70000.0, 62000.0, 53500.0, 87975.0, 60000.0, 70000.0, 60000.0, 55000.0, 70000.0, 70000.0, 54000.0, 130000.0, 140000.0, 76000.0, 53000.0, 31500.0, 58000.0, 52000.0, 75000.0, 60000.0, 58000.0, 110000.0, 68000.0, 70000.0, 70000.0, 60000.0, 120000.0, 43000.0, 70000.0, 75000.0, 65000.0, 63000.0, 57000.0, 112000.0, 100000.0, 72000.0, 59000.0, 66000.0, 60000.0, 65000.0, 60000.0, 72000.0, 68400.0, 55000.0, 60000.0, 70000.0, 65000.0, 70000.0, 80000.0, 66000.0, 67200.0, 85000.0, 89000.0, 72000.0, 69000.0, 60000.0, 53000.0, 86000.0, 45000.0, 72000.0, 65000.0, 47000.0, 60000.0, 50000.0, 55000.0, 111000.0, 92100.0, 73000.0, 54000.0, 38000.0, 75000.0, 66000.0, 70000.0, 60000.0, 70000.0, 75000.0, 65000.0, 24000.0, 52000.0, 39600.0, 64400.0, 57000.0, 52000.0, 77000.0, 48000.0, 67000.0, 55000.0, 85000.0, 57800.0, 20400.0, 44000.0, 24000.0, 53000.0, 23162.0, 100000.0, 100000.0, 60000.0, 60000.0, 60000.0, 75000.0, 60000.0, 56000.0, 55000.0, 80000.0, 75000.0, 86000.0, 34000.0, 69000.0, 60000.0, 19200.0, 30000.0, 75000.0, 63000.0, 92000.0, 51750.0, 80000.0, 108000.0, 72000.0, 38400.0, 65000.0, 70000.0, 75000.0, 69600.0, 85000.0, 68000.0, 65000.0, 58500.0, 130000.0, 80000.0, 65000.0, 68000.0, 96000.0, 150000.0, 60000.0, 120000.0, 44000.0, 58500.0, 70000.0, 60000.0, 80000.0, 42000.0, 47000.0, 68000.0, 65000.0, 65000.0, 87000.0, 85000.0, 65000.0, 65000.0, 69000.0, 77000.0, 73000.0, 65000.0, 60000.0, 72000.0, 75000.0, 55000.0, 70000.0, 57000.0, 75000.0, 70000.0, 65000.0, 66000.0, 90000.0, 88000.0, 70000.0, 60000.0, 78000.0, 64500.0, 96000.0, 68000.0, 80000.0, 122000.0, 90000.0, 55000.0, 60000.0, 70000.0, 75000.0, 60000.0, 165000.0, 138000.0, 110000.0, 60000.0, 58000.0, 46000.0, 73000.0, 68000.0, 60000.0, 74000.0, 39150.0, 60000.0, 48000.0, 60000.0, 24000.0, 70000.0, 72000.0, 40800.0, 53000.0, 89000.0, 50000.0, 67500.0, 80000.0, 45000.0, 80000.0, 33600.0, 132000.0, 87500.0, 65000.0, 128000.0, 37000.0, 180000.0, 55000.0, 78000.0, 75000.0, 72000.0, 57000.0, 68000.0, 58000.0, 65000.0, 60000.0, 90000.0, 77000.0, 90000.0, 57500.0, 103000.0, 55000.0, 70000.0, 125000.0, 57000.0, 78000.0, 66000.0, 67000.0, 70000.0, 75000.0, 60000.0, 90000.0, 80000.0, 112000.0, 72000.0, 70000.0, 120000.0, 42000.0, 80000.0, 65000.0, 72000.0, 83000.0, 60000.0, 84000.0, 70000.0, 65000.0, 68000.0, 70000.0, 72000.0, 65000.0, 65000.0, 42000.0, 60000.0, 48000.0, 50000.0, 62000.0, 75000.0, 58000.0, 65000.0, 53600.0, 60000.0, 51600.0, 39600.0, 60500.0, 65000.0, 15000.0, 120000.0, 130000.0, 42000.0, 45000.0, 85000.0, 72000.0, 60000.0, 47000.0, 75000.0, 130000.0, 77000.0, 95000.0, 60000.0, 71000.0, 60000.0, 115000.0, 75000.0, 62500.0, 64000.0, 127000.0, 65000.0, 93000.0, 33000.0, 83200.0, 85000.0, 74000.0, 65000.0, 80400.0, 75000.0, 50000.0, 60000.0, 62500.0, 65000.0, 53000.0, 70000.0, 60000.0, 13000.0, 52000.0, 69000.0, 68000.0, 65000.0, 71500.0, 68381.76533333333, 50000.0, 68381.76533333333, 70000.0, 51000.0, 75000.0, 80000.0, 53000.0, 78000.0, 55555.0, 42000.0, 60000.0, 85000.0, 75000.0, 75000.0, 63000.0, 44000.0, 45000.0], \"y\": [\"Product\", \"Product\", \"Product\", \"Ecom retailer\", \"Insurance\", \"Product\", \"Startup\", \"Agency\", \"Product\", \"Product\", \"Product\", \"Product\", \"Product\", \"Product\", \"Agency\", \"Startup\", \"Big Tech\", \"Product\", \"Consultancy\", \"Agency\", \"Product\", \"Product\", \"Product\", \"Product\", \"Corporation\", \"Product\", \"Product\", \"Product\", \"Startup\", \"Product\", \"Product\", \"Product\", \"Product\", \"Product\", \"Startup\", \"Product\", \"Product\", \"Product\", \"Product\", \"Product\", \"Product\", \"Product\", \"Startup\", \"Product\", \"Agency\", \"Startup\", \"Startup\", \"Product\", \"Product\", \"Product\", \"Product\", \"Product\", \"Agency\", \"Product\", \"Agency\", \"Product\", \"Startup\", \"Product\", \"Product\", \"Agency\", \"Agency\", \"Product\", \"Product\", \"Startup\", \"Startup\", \"Product\", \"Product\", \"Startup\", \"Product\", \"Product\", \"Product\", \"Product\", \"Product\", \"Startup\", \"Agency\", \"Startup\", \"Product\", \"Product\", \"Product\", \"Outsource\", \"Startup\", \"Product\", \"Startup\", \"Agency\", \"Product\", \"Agency\", \"Product\", \"Startup\", \"Product\", \"Product\", \"Product\", \"Product\", \"Startup\", \"Startup\", \"Product\", \"Product\", \"Product\", \"Product\", \"Startup\", \"Startup\", \"Product\", \"Product\", \"Product\", \"Product\", \"Startup\", \"Agency\", \"Product\", \"Startup\", \"Product\", \"Product\", \"Startup\", \"Product\", \"Product\", \"Startup\", \"Industry\", \"Product\", \"Product\", \"Product\", \"Startup\", \"Product\", \"Product\", \"Product\", \"Product\", \"Product\", \"Startup\", \"Product\", \"Product\", \"Product\", \"Product\", \"Product\", \"Product\", \"Startup\", \"Product\", \"Product\", \"Startup\", \"Startup\", \"Product\", \"Product\", \"Product\", \"Product\", \"Product\", \"Product\", \"Consulting\", \"Startup\", \"Product\", \"Startup\", \"Product\", \"Product\", \"Agency\", \"Internal development for a non-IT company\", \"Startup\", \"Startup\", \"Product\", \"Product\", \"Product\", \"Product\", \"Product\", \"Agency\", \"Product\", \"Startup\", \"Startup\", \"Agency\", \"Startup\", \"Personaldienstleister\", \"Startup\", \"Product\", \"Startup\", \"Product\", \"Product\", \"Product\", \"Startup\", \"Product\", \"Agency\", \"Agency\", \"Product\", \"Product\", \"Product\", \"Startup\", \"Product\", \"Product\", \"Product\", \"Startup\", \"Product\", \"Agency\", \"Startup\", \"Product\", \"Startup\", \"e-commerce\", \"Product\", \"Startup\", \"Product\", \"Product\", \"Outsource\", \"Product\", \"Product\", \"Startup\", \"Product\", \"Product\", \"Startup\", \"Product\", \"Product\", \"Product\", \"Product\", \"Product\", \"Startup\", \"Startup\", \"Product\", \"Product\", \"Product\", \"Product\", \"Product\", \"Product\", \"Product\", \"Product\", \"Product\", \"Product\", \"Product\", \"Product\", \"Product\", \"Agency\", \"Startup\", \"Product\", \"Product\", \"Agency\", \"Product\", \"Product\", \"Product\", \"Agency\", \"Startup\", \"Startup\", \"Product\", \"Product\", \"Product\", \"Product\", \"Product\", \"Product\", \"Product\", \"Agency\", \"Product\", \"Product\", \"Startup\", \"Product\", \"Startup\", \"Product\", \"Product\", \"Product\", \"Startup\", \"Product\", \"Startup\", \"Agency\", \"Product and Projects\", \"Product\", \"Product\", \"Product\", \"Startup\", \"E-Commerce\", \"Product\", \"Development\", \"Product\", \"Product\", \"Outsource\", \"Product\", \"Startup\", \"Startup\", \"Product\", \"Product\", \"Product\", \"Product\", \"Product\", \"Product\", \"Product\", \"Product\", \"Product\", \"Product\", \"Product\", \"Product\", \"Product\", \"Startup\", \"Product\", \"Product\", \"Product\", \"Product\", \"Product\", \"Product\", \"Product\", \"Startup\", \"Product\", \"Product\", \"Product\", \"Startup\", \"Product\", \"Product\", \"Product\", \"Product\", \"Startup\", \"Product\", \"Product\", \"Product\", \"Product\", \"Product\", \"Agency\", \"Agency\", \"Product\", \"Startup\", \"Agency\", \"Product\", \"Startup\", \"Startup\", \"Product\", \"Product\", \"Consulting Company\", \"Startup\", \"Product\", \"Product\", \"Product\", \"Startup\", \"Product\", \"Product\", \"Startup\", \"Product\", \"Product\", \"Agency\", \"Startup\", \"Startup\", \"Agency\", \"Product\", \"Product\", \"Startup\", \"Product\", \"Product\", \"Agency\", \"Product\", \"Startup\", \"Product\", \"Agency\", \"Agency\", \"Product\", \"Product\", \"Product\", \"Stock market \", \"Product\", \"Product\", \"Product\", \"Ecommerce\", \"Startup\", \"Consulting\", \"Product\", \"Startup\", \"Product\", \"Product\", \"Product\", \"Agency\", \"Product\", \"Product\", \"Startup\", \"Product\", \"Product\", \"Product\", \"Startup\", \"Product\", \"Product\", \"Startup\", \"Product\", \"Product\", \"Product\", \"Startup\", \"Consulting\", \"Outsourcing\", \"Startup\", \"Product\", \"Agency\", \"Product\", \"Agency\", \"Startup\", \"Product\", \"Product\", \"Product\", \"Product\", \"Outsorce\", \"Product\", \"Product\", \"Product\", \"Product\", \"Product\", \"Product\", \"Startup\", \"Product\", \"Agency\", \"Outsource\", \"Product\", \"Product\", \"Product\", \"Product\", \"consulting\", \"Startup\", \"Product\", \"Product\", \"Product\", \"Product\", \"Outsource\", \"Product\", \"Agency\", \"Product\", \"GmbH\", \"Product\", \"Product\", \"Startup\", \"Startup\", \"Product\", \"Startup\", \"Product\", \"Startup\", \"Corporation\", \"Product\", \"Product\", \"Agency\", \"Product\", \"Product\", \"Product\", \"Product\", \"Product\", \"Product\", \"IT Consulting \", \"Startup\", \"Product\", \"Product\", \"Product\", \"Product\", \"Startup\", \"Product\", \"Product\", \"Product\", \"Product\", \"Product\", \"Product\", \"Product\", \"Startup\", \"Agency\", \"Startup\", \"Product\", \"Product\", \"Product\", \"Startup\", \"Startup\", \"Product\", \"Agency\", \"Startup\", \"Startup\", \"Startup\", \"Product\", \"Product\", \"Product\", \"IT Consultancy \", \"Agency\", \"Product\", \"Product\", \"Startup\", \"Product\", \"Product\", \"Product\", \"Product\", \"Product\", \"Product\", \"IT Service Provider\", \"Product\", \"Startup\", \"Product\", \"Product\", \"Agency\", \"Product\", \"Product\", \"non-IT, manufacturing\", \"Bank \", \"Insurance\", \"Product\", \"Product\", \"Product\", \"IT-Beratung\", \"Product\", \"Startup\", \"Startup\", \"Product\", \"Startup\", \"Product\", \"Consulting\", \"Product\", \"Product\", \"Product\", \"Agency\", \"Product\", \"Product\", \"Startup\", \"Startup\", \"Technology Consulting\", \"Startup\", \"Agency\", \"Startup\", \"Product\", \"outsource\", \"Product\", \"IT Consultants\", \"Product\", \"Agency\", \"Agency\", \"Agency\", \"Agency\", \"Product\", \"Product\", \"Startup\", \"Product\", \"Product\", \"Product\", \"Product\", \"ISP\", \"Product\", \"Product\", \"Product\", \"Product\", \"Startup\", \"Product\", \"Product\", \"Product\", \"Product\", \"Product\", \"Product\", \"Product\", \"Agency\", \"Product\", \"Product\", \"Product\", \"Product\", \"Agency\", \"Product\", \"Product\", \"Product\", \"Product\", \"Product\", \"Product\", \"Product\", \"Product\", \"Product\", \"Product\", \"Product\", \"Agency\", \"Fin Tech\", \"Product\", \"Outsourcing\", \"Product\", \"Startup\", \"Product\", \"Outsourcing\", \"Product\", \"Startup\", \"Product\", \"Blockchain technology\", \"Retail\", \"Startup\", \"Agency\", \"Product\", \"Product\", \"Product\", \"Product\", \"Agency\", \"Startup\", \"Consult\", \"Product\", \"Product\", \"Agency\", \"Agency\", \"Product\", \"Product\", \"Product\", \"Product\", \"Product\", \"Product\", \"Product\", \"Agency\", \"Startup\", \"Product\", \"Product\", \"Product\", \"Agency\", \"Product\", \"Product\", \"Product\", \"Agency\", \"Product\", \"Project-based software development\", \"Product\", \"Product\", \"Product\", \"Product\", \"Product\", \"Startup\", \"Product\", \"Startup\", \"Product\", \"Product\", \"Automotive\", \"Product\", \"Product\", \"Product\", \"Startup\", \"Product\", \"Product\", \"Product\", \"OEM\", \"Product\", \"Agency\", \"Startup\", \"Product\", \"IT Consulting\", \"Agency\", \"Product\", \"Product\", \"Product\", \"Product\", \"Product\", \"Product\", \"Product\", \"Startup\", \"Product\", \"Product\", \"Product\", \"Product\", \"Agency\", \"Product\", \"Product\", \"Agency\", \"Product\", \"Agency\", \"Product\", \"Product\", \"Product\", \"Product\", \"Agency\", \"Agency\", \"Product\", \"Product\"], \"z\": [11.0, 10.0, 6.0, 10.0, 8.0, 5.0, 3.0, 8.0, 18.0, 8.0, 6.0, 11.0, 11.0, 4.0, 17.0, 19.0, 10.0, 5.0, 10.0, 4.0, 15.0, 12.0, 8.0, 5.0, 10.0, 10.0, 4.0, 2.0, 1.0, 10.0, 10.0, 5.0, 9.0, 7.0, 20.0, 10.0, 7.0, 10.0, 6.0, 1.0, 6.0, 11.0, 10.0, 7.0, 7.5, 10.0, 10.0, 9.0, 4.0, 10.0, 10.0, 11.0, 5.0, 6.0, 5.0, 7.0, 3.0, 6.0, 7.0, 3.0, 4.0, 10.0, 8.0, 1.0, 5.0, 8.0, 8.548497267759563, 12.0, 5.0, 10.0, 6.0, 3.0, 14.0, 15.0, 4.0, 8.548497267759563, 14.0, 10.0, 12.0, 3.0, 6.0, 19.0, 2.0, 8.0, 10.0, 18.0, 3.0, 10.0, 15.0, 5.0, 3.0, 11.0, 8.548497267759563, 10.0, 4.0, 12.0, 13.0, 5.0, 6.0, 17.0, 8.0, 9.0, 3.0, 7.0, 7.0, 5.0, 8.0, 4.0, 10.0, 3.0, 7.0, 6.0, 15.0, 14.0, 8.548497267759563, 15.0, 7.0, 10.0, 5.0, 13.0, 8.0, 6.0, 3.0, 20.0, 5.0, 12.0, 7.0, 6.0, 17.0, 6.0, 19.0, 2.5, 15.0, 11.0, 8.0, 10.0, 8.0, 7.0, 13.0, 11.0, 10.0, 15.0, 12.0, 9.0, 15.0, 5.0, 5.0, 5.0, 8.0, 12.0, 8.0, 11.0, 4.0, 5.0, 7.0, 12.0, 8.0, 2.0, 13.0, 14.0, 2.5, 4.0, 9.0, 3.0, 3.0, 5.0, 2.0, 8.0, 13.0, 12.0, 4.0, 5.0, 5.0, 4.0, 13.0, 8.0, 1.5, 20.0, 5.0, 6.0, 10.0, 13.0, 7.0, 5.0, 13.0, 15.0, 8.0, 6.0, 9.0, 6.0, 6.0, 12.0, 9.0, 10.0, 11.0, 5.0, 9.0, 3.0, 15.0, 3.0, 8.548497267759563, 0.0, 7.0, 5.0, 7.0, 10.0, 7.0, 12.0, 5.0, 11.0, 8.0, 10.0, 5.0, 3.0, 15.0, 10.0, 3.0, 11.0, 5.0, 4.0, 10.0, 5.0, 20.0, 18.0, 4.0, 10.0, 15.0, 2.5, 6.0, 12.0, 10.0, 15.0, 5.0, 10.0, 8.0, 10.0, 18.0, 9.0, 11.0, 16.0, 5.0, 11.0, 7.0, 17.0, 7.0, 9.0, 17.0, 5.0, 13.0, 5.0, 2.5, 10.0, 8.0, 12.0, 20.0, 5.0, 8.548497267759563, 10.0, 12.0, 10.0, 7.0, 9.0, 8.548497267759563, 5.0, 7.0, 8.0, 5.0, 12.0, 4.0, 12.0, 8.0, 5.0, 20.0, 15.0, 8.548497267759563, 10.0, 6.0, 5.0, 5.0, 10.0, 6.0, 4.0, 12.0, 10.0, 8.0, 5.0, 3.0, 25.0, 6.0, 5.0, 8.0, 8.0, 7.0, 6.0, 10.0, 7.0, 10.0, 10.0, 4.0, 8.0, 2.0, 20.0, 11.0, 8.0, 5.0, 1.0, 9.0, 12.0, 10.0, 4.0, 3.0, 8.0, 4.0, 10.0, 9.0, 6.0, 3.0, 11.0, 14.0, 10.0, 7.0, 18.0, 10.0, 5.0, 10.0, 13.0, 6.0, 9.0, 7.0, 6.0, 15.0, 7.0, 9.0, 10.0, 8.0, 10.0, 10.0, 7.0, 3.0, 9.0, 6.0, 10.0, 7.0, 11.0, 5.0, 6.0, 10.0, 11.0, 10.0, 9.0, 12.0, 5.0, 15.0, 12.0, 9.0, 8.0, 18.0, 10.0, 12.0, 15.0, 14.0, 15.0, 6.0, 5.0, 15.0, 2.0, 16.0, 11.0, 5.0, 3.0, 3.0, 6.0, 6.0, 8.0, 12.0, 18.0, 5.0, 4.0, 3.0, 8.0, 8.0, 9.0, 10.0, 8.0, 9.0, 30.0, 2.5, 2.0, 10.0, 9.0, 12.0, 9.0, 6.0, 20.0, 12.0, 5.0, 9.0, 8.0, 4.0, 7.0, 2.0, 8.0, 10.0, 10.0, 11.0, 15.0, 15.0, 13.0, 10.0, 11.0, 5.0, 7.0, 20.0, 18.0, 15.0, 5.0, 10.0, 5.0, 2.0, 2.0, 7.0, 13.0, 8.0, 5.0, 13.0, 12.0, 15.0, 10.0, 8.0, 8.0, 15.0, 12.0, 10.0, 10.0, 9.0, 6.0, 9.0, 10.0, 12.0, 15.0, 10.0, 8.548497267759563, 15.0, 11.0, 9.0, 5.0, 6.0, 7.0, 8.548497267759563, 4.0, 7.0, 7.0, 4.0, 11.0, 12.0, 12.0, 6.0, 13.0, 15.0, 8.0, 7.0, 10.0, 5.0, 20.0, 6.0, 5.0, 7.0, 15.0, 10.0, 12.0, 4.0, 11.0, 10.0, 10.0, 7.0, 12.0, 7.0, 10.0, 7.0, 7.0, 20.0, 10.0, 21.0, 2.0, 18.0, 10.0, 15.0, 4.0, 15.0, 9.0, 19.0, 10.0, 5.0, 1.5, 5.0, 14.0, 6.0, 7.0, 4.5, 2.0, 15.0, 8.0, 5.0, 9.0, 8.0, 4.0, 5.0, 18.0, 8.0, 8.0, 6.0, 4.0, 8.0, 5.0, 8.0, 5.0, 12.0, 14.0, 3.0, 18.0, 14.0, 10.0, 12.0, 8.0, 6.0, 7.0, 5.0, 10.0, 5.0, 5.0, 5.0, 6.0, 7.0, 16.0, 11.0, 5.0, 8.0, 8.0, 12.0, 12.0, 15.0, 9.0, 8.0, 10.0, 8.548497267759563, 15.0, 14.0, 10.0, 10.0, 9.0, 18.0, 11.0, 8.0, 11.0, 9.0, 6.0, 12.0, 4.0, 10.0, 10.0, 12.0, 11.0, 15.0, 5.0, 7.0, 4.0, 6.0, 10.0, 4.0, 10.0, 3.0, 9.0, 15.0, 7.0, 3.0, 12.0, 3.0, 15.0, 10.0, 7.0, 15.0, 1.0, 3.0, 7.0, 8.548497267759563, 5.0, 10.0, 5.0, 10.0, 8.0, 17.0, 9.0, 7.0, 5.0, 10.0, 11.0, 7.0, 15.0, 18.0, 6.0, 20.0, 7.0, 0.0, 10.0, 10.0, 20.0, 8.0, 10.0, 5.0, 11.0, 5.0, 11.0, 5.0, 12.0, 12.0, 2.0, 3.0, 7.0, 18.0, 6.0, 9.0, 8.548497267759563, 12.0, 8.548497267759563, 8.548497267759563, 1.0, 20.0, 8.0, 5.0, 25.0, 3.0, 1.0, 4.0, 17.0, 11.0, 10.0, 30.0, 1.0, 1.0]}, {\"hoverlabel\": {\"namelength\": 0}, \"hovertemplate\": \"<b>%{hovertext}</b><br><br>Gender=F<br>Current Salary=%{x}<br>Company type=%{y}<br>Years of experience=%{z}\", \"hovertext\": [33.0, 36.0, 31.0, 25.0, 34.0, 40.0, 35.0, 24.0, 26.0, 27.0, 32.0, 32.183035714285715, 36.0, 32.183035714285715, 32.183035714285715, 34.0, 32.0, 36.0, 27.0, 31.0, 28.0, 27.0, 27.0, 35.0, 30.0, 43.0, 30.0, 31.0, 31.0, 28.0, 34.0, 32.183035714285715, 32.183035714285715, 38.0, 50.0, 32.183035714285715, 33.0, 25.0, 32.183035714285715, 31.0, 32.183035714285715, 31.0, 39.0, 29.0, 32.183035714285715, 28.0, 32.183035714285715, 22.0, 34.0, 30.0, 31.0, 37.0, 32.0, 28.0, 34.0, 31.0, 28.0, 33.0, 30.0, 32.0, 31.0, 29.0, 28.0, 28.0, 32.183035714285715, 33.0, 26.0, 45.0, 21.0, 34.0, 30.0, 31.0, 24.0, 27.0, 30.0, 32.183035714285715, 32.183035714285715, 35.0, 40.0, 29.0, 60.0, 32.0, 31.0, 30.0, 30.0, 28.0, 35.0, 33.0, 32.0, 26.0, 31.0, 33.0, 30.0, 29.0, 33.0, 35.0, 36.0, 26.0, 31.0, 27.0, 29.0, 32.183035714285715, 30.0, 35.0, 31.0], \"legendgroup\": \"Gender=F\", \"marker\": {\"color\": \"green\", \"symbol\": \"circle\"}, \"mode\": \"markers\", \"name\": \"Gender=F\", \"scene\": \"scene\", \"showlegend\": true, \"type\": \"scatter3d\", \"x\": [65000.0, 109000.0, 55000.0, 46000.0, 53000.0, 55000.0, 84000.0, 57000.0, 60000.0, 49000.0, 30000.0, 65000.0, 55000.0, 54000.0, 30000.0, 55000.0, 75000.0, 30000.0, 60000.0, 60000.0, 56000.0, 46000.0, 60000.0, 65000.0, 50400.0, 32000.0, 58000.0, 55800.0, 44000.0, 50000.0, 63000.0, 55000.0, 70000.0, 58000.0, 96000.0, 78000.0, 45000.0, 40000.0, 57000.0, 44000.0, 55000.0, 46000.0, 56000.0, 58000.0, 50000.0, 66000.0, 62000.0, 55000.0, 61000.0, 60000.0, 68381.76533333333, 68000.0, 72000.0, 60000.0, 48000.0, 67000.0, 36000.0, 60000.0, 78000.0, 44000.0, 47000.0, 47000.0, 75000.0, 40800.0, 10300.0, 70000.0, 47300.0, 90000.0, 17532.0, 62000.0, 58000.0, 51000.0, 57000.0, 70000.0, 55000.0, 56000.0, 47250.0, 39000.0, 65000.0, 55000.0, 58000.0, 65000.0, 65000.0, 52000.0, 50000.0, 50000.0, 37000.0, 120000.0, 90000.0, 56000.0, 90000.0, 55000.0, 50000.0, 40000.0, 55000.0, 42000.0, 80000.0, 27000.0, 42000.0, 50000.0, 55000.0, 40000.0, 65000.0, 80000.0, 110000.0], \"y\": [\"Product\", \"Product\", \"Startup\", \"Startup\", \"Startup\", \"Product\", \"Startup\", \"Product\", \"Product\", \"Consultancy\", \"Product\", \"Product\", \"Product\", \"Product\", \"Startup\", \"Startup\", \"Product\", \"Product\", \"Product\", \"Product\", \"Product\", \"E-Commerce firm\", \"Product\", \"Startup\", \"Startup\", \"Product\", \"Product\", \"Product\", \"Product\", \"Startup\", \"Product\", \"Startup\", \"ipo\", \"Product\", \"Product\", \"Product\", \"Startup\", \"Product\", \"Product\", \"Startup\", \"Startup\", \"Product\", \"Product\", \"Startup\", \"Startup\", \"Agency\", \"Product\", \"Startup\", \"Product\", \"Startup\", \"Product\", \"IT Dienstleistungen \", \"Product\", \"Manufacturing\", \"Startup\", \"Product\", \"Startup\", \"telecom operator\", \"Startup\", \"Product\", \"Agency\", \"Product\", \"Product\", \"Product\", \"Product\", \"Agency\", \"Product\", \"Product\", \"Product\", \"Product\", \"Product\", \"Product\", \"Agency\", \"Product\", \"Startup\", \"Product\", \"Startup\", \"Product\", \"Product\", \"Agency\", \"Product\", \"Startup\", \"Startup\", \"Product\", \"Product\", \"Consulting\", \"Hochschule/university\", \"Product\", \"Product\", \"Startup\", \"Agency\", \"Startup\", \"Product\", \"Startup\", \"Product\", \"Product\", \"Automotive\", \"Product\", \"Startup\", \"Consulting (banking)\", \"Agency\", \"Product\", \"Startup\", \"Product\", \"Product\"], \"z\": [8.0, 8.0, 8.548497267759563, 3.0, 10.0, 15.0, 12.0, 3.0, 1.0, 1.0, 3.0, 4.0, 4.0, 5.0, 8.0, 5.0, 10.0, 3.0, 0.5, 5.0, 4.0, 4.0, 5.0, 14.0, 3.0, 0.5, 4.0, 8.0, 7.0, 6.0, 6.0, 8.548497267759563, 5.0, 16.0, 20.0, 4.0, 4.0, 1.0, 10.0, 10.0, 5.0, 8.0, 5.0, 4.0, 5.0, 8.0, 7.0, 1.0, 12.0, 7.0, 4.0, 10.0, 12.0, 1.0, 4.0, 4.0, 1.0, 11.0, 11.0, 3.0, 9.0, 1.0, 6.0, 6.0, 1.0, 10.0, 4.0, 8.548497267759563, 2.0, 8.548497267759563, 5.0, 6.0, 4.0, 6.0, 9.0, 10.0, 2.0, 3.0, 4.0, 6.0, 38.0, 10.0, 9.0, 5.0, 5.0, 3.0, 8.548497267759563, 11.0, 6.0, 1.0, 8.548497267759563, 10.0, 1.0, 5.0, 4.0, 2.0, 7.0, 3.0, 9.0, 0.0, 7.0, 8.0, 11.0, 10.0, 10.0]}],\n",
              "                        {\"height\": 700, \"legend\": {\"tracegroupgap\": 0}, \"scene\": {\"domain\": {\"x\": [0.0, 1.0], \"y\": [0.0, 1.0]}, \"xaxis\": {\"title\": {\"text\": \"Current Salary\"}, \"type\": \"log\"}, \"yaxis\": {\"title\": {\"text\": \"Company type\"}}, \"zaxis\": {\"title\": {\"text\": \"Years of experience\"}}}, \"template\": {\"data\": {\"bar\": [{\"error_x\": {\"color\": \"rgb(51,51,51)\"}, \"error_y\": {\"color\": \"rgb(51,51,51)\"}, \"marker\": {\"line\": {\"color\": \"rgb(237,237,237)\", \"width\": 0.5}}, \"type\": \"bar\"}], \"barpolar\": [{\"marker\": {\"line\": {\"color\": \"rgb(237,237,237)\", \"width\": 0.5}}, \"type\": \"barpolar\"}], \"carpet\": [{\"aaxis\": {\"endlinecolor\": \"rgb(51,51,51)\", \"gridcolor\": \"white\", \"linecolor\": \"white\", \"minorgridcolor\": \"white\", \"startlinecolor\": \"rgb(51,51,51)\"}, \"baxis\": {\"endlinecolor\": \"rgb(51,51,51)\", \"gridcolor\": \"white\", \"linecolor\": \"white\", \"minorgridcolor\": \"white\", \"startlinecolor\": \"rgb(51,51,51)\"}, \"type\": \"carpet\"}], \"choropleth\": [{\"colorbar\": {\"outlinewidth\": 0, \"tickcolor\": \"rgb(237,237,237)\", \"ticklen\": 6, \"ticks\": \"inside\"}, \"type\": \"choropleth\"}], \"contour\": [{\"colorbar\": {\"outlinewidth\": 0, \"tickcolor\": \"rgb(237,237,237)\", \"ticklen\": 6, \"ticks\": \"inside\"}, \"colorscale\": [[0, \"rgb(20,44,66)\"], [1, \"rgb(90,179,244)\"]], \"type\": \"contour\"}], \"contourcarpet\": [{\"colorbar\": {\"outlinewidth\": 0, \"tickcolor\": \"rgb(237,237,237)\", \"ticklen\": 6, \"ticks\": \"inside\"}, \"type\": \"contourcarpet\"}], \"heatmap\": [{\"colorbar\": {\"outlinewidth\": 0, \"tickcolor\": \"rgb(237,237,237)\", \"ticklen\": 6, \"ticks\": \"inside\"}, \"colorscale\": [[0, \"rgb(20,44,66)\"], [1, \"rgb(90,179,244)\"]], \"type\": \"heatmap\"}], \"heatmapgl\": [{\"colorbar\": {\"outlinewidth\": 0, \"tickcolor\": \"rgb(237,237,237)\", \"ticklen\": 6, \"ticks\": \"inside\"}, \"colorscale\": [[0, \"rgb(20,44,66)\"], [1, \"rgb(90,179,244)\"]], \"type\": \"heatmapgl\"}], \"histogram\": [{\"marker\": {\"colorbar\": {\"outlinewidth\": 0, \"tickcolor\": \"rgb(237,237,237)\", \"ticklen\": 6, \"ticks\": \"inside\"}}, \"type\": \"histogram\"}], \"histogram2d\": [{\"colorbar\": {\"outlinewidth\": 0, \"tickcolor\": \"rgb(237,237,237)\", \"ticklen\": 6, \"ticks\": \"inside\"}, \"colorscale\": [[0, \"rgb(20,44,66)\"], [1, \"rgb(90,179,244)\"]], \"type\": \"histogram2d\"}], \"histogram2dcontour\": [{\"colorbar\": {\"outlinewidth\": 0, \"tickcolor\": \"rgb(237,237,237)\", \"ticklen\": 6, \"ticks\": \"inside\"}, \"colorscale\": [[0, \"rgb(20,44,66)\"], [1, \"rgb(90,179,244)\"]], \"type\": \"histogram2dcontour\"}], \"mesh3d\": [{\"colorbar\": {\"outlinewidth\": 0, \"tickcolor\": \"rgb(237,237,237)\", \"ticklen\": 6, \"ticks\": \"inside\"}, \"type\": \"mesh3d\"}], \"parcoords\": [{\"line\": {\"colorbar\": {\"outlinewidth\": 0, \"tickcolor\": \"rgb(237,237,237)\", \"ticklen\": 6, \"ticks\": \"inside\"}}, \"type\": \"parcoords\"}], \"pie\": [{\"automargin\": true, \"type\": \"pie\"}], \"scatter\": [{\"marker\": {\"colorbar\": {\"outlinewidth\": 0, \"tickcolor\": \"rgb(237,237,237)\", \"ticklen\": 6, \"ticks\": \"inside\"}}, \"type\": \"scatter\"}], \"scatter3d\": [{\"line\": {\"colorbar\": {\"outlinewidth\": 0, \"tickcolor\": \"rgb(237,237,237)\", \"ticklen\": 6, \"ticks\": \"inside\"}}, \"marker\": {\"colorbar\": {\"outlinewidth\": 0, \"tickcolor\": \"rgb(237,237,237)\", \"ticklen\": 6, \"ticks\": \"inside\"}}, \"type\": \"scatter3d\"}], \"scattercarpet\": [{\"marker\": {\"colorbar\": {\"outlinewidth\": 0, \"tickcolor\": \"rgb(237,237,237)\", \"ticklen\": 6, \"ticks\": \"inside\"}}, \"type\": \"scattercarpet\"}], \"scattergeo\": [{\"marker\": {\"colorbar\": {\"outlinewidth\": 0, \"tickcolor\": \"rgb(237,237,237)\", \"ticklen\": 6, \"ticks\": \"inside\"}}, \"type\": \"scattergeo\"}], \"scattergl\": [{\"marker\": {\"colorbar\": {\"outlinewidth\": 0, \"tickcolor\": \"rgb(237,237,237)\", \"ticklen\": 6, \"ticks\": \"inside\"}}, \"type\": \"scattergl\"}], \"scattermapbox\": [{\"marker\": {\"colorbar\": {\"outlinewidth\": 0, \"tickcolor\": \"rgb(237,237,237)\", \"ticklen\": 6, \"ticks\": \"inside\"}}, \"type\": \"scattermapbox\"}], \"scatterpolar\": [{\"marker\": {\"colorbar\": {\"outlinewidth\": 0, \"tickcolor\": \"rgb(237,237,237)\", \"ticklen\": 6, \"ticks\": \"inside\"}}, \"type\": \"scatterpolar\"}], \"scatterpolargl\": [{\"marker\": {\"colorbar\": {\"outlinewidth\": 0, \"tickcolor\": \"rgb(237,237,237)\", \"ticklen\": 6, \"ticks\": \"inside\"}}, \"type\": \"scatterpolargl\"}], \"scatterternary\": [{\"marker\": {\"colorbar\": {\"outlinewidth\": 0, \"tickcolor\": \"rgb(237,237,237)\", \"ticklen\": 6, \"ticks\": \"inside\"}}, \"type\": \"scatterternary\"}], \"surface\": [{\"colorbar\": {\"outlinewidth\": 0, \"tickcolor\": \"rgb(237,237,237)\", \"ticklen\": 6, \"ticks\": \"inside\"}, \"colorscale\": [[0, \"rgb(20,44,66)\"], [1, \"rgb(90,179,244)\"]], \"type\": \"surface\"}], \"table\": [{\"cells\": {\"fill\": {\"color\": \"rgb(237,237,237)\"}, \"line\": {\"color\": \"white\"}}, \"header\": {\"fill\": {\"color\": \"rgb(217,217,217)\"}, \"line\": {\"color\": \"white\"}}, \"type\": \"table\"}]}, \"layout\": {\"annotationdefaults\": {\"arrowhead\": 0, \"arrowwidth\": 1}, \"coloraxis\": {\"colorbar\": {\"outlinewidth\": 0, \"tickcolor\": \"rgb(237,237,237)\", \"ticklen\": 6, \"ticks\": \"inside\"}}, \"colorscale\": {\"sequential\": [[0, \"rgb(20,44,66)\"], [1, \"rgb(90,179,244)\"]], \"sequentialminus\": [[0, \"rgb(20,44,66)\"], [1, \"rgb(90,179,244)\"]]}, \"colorway\": [\"#F8766D\", \"#A3A500\", \"#00BF7D\", \"#00B0F6\", \"#E76BF3\"], \"font\": {\"color\": \"rgb(51,51,51)\"}, \"geo\": {\"bgcolor\": \"white\", \"lakecolor\": \"white\", \"landcolor\": \"rgb(237,237,237)\", \"showlakes\": true, \"showland\": true, \"subunitcolor\": \"white\"}, \"hoverlabel\": {\"align\": \"left\"}, \"hovermode\": \"closest\", \"paper_bgcolor\": \"white\", \"plot_bgcolor\": \"rgb(237,237,237)\", \"polar\": {\"angularaxis\": {\"gridcolor\": \"white\", \"linecolor\": \"white\", \"showgrid\": true, \"tickcolor\": \"rgb(51,51,51)\", \"ticks\": \"outside\"}, \"bgcolor\": \"rgb(237,237,237)\", \"radialaxis\": {\"gridcolor\": \"white\", \"linecolor\": \"white\", \"showgrid\": true, \"tickcolor\": \"rgb(51,51,51)\", \"ticks\": \"outside\"}}, \"scene\": {\"xaxis\": {\"backgroundcolor\": \"rgb(237,237,237)\", \"gridcolor\": \"white\", \"gridwidth\": 2, \"linecolor\": \"white\", \"showbackground\": true, \"showgrid\": true, \"tickcolor\": \"rgb(51,51,51)\", \"ticks\": \"outside\", \"zerolinecolor\": \"white\"}, \"yaxis\": {\"backgroundcolor\": \"rgb(237,237,237)\", \"gridcolor\": \"white\", \"gridwidth\": 2, \"linecolor\": \"white\", \"showbackground\": true, \"showgrid\": true, \"tickcolor\": \"rgb(51,51,51)\", \"ticks\": \"outside\", \"zerolinecolor\": \"white\"}, \"zaxis\": {\"backgroundcolor\": \"rgb(237,237,237)\", \"gridcolor\": \"white\", \"gridwidth\": 2, \"linecolor\": \"white\", \"showbackground\": true, \"showgrid\": true, \"tickcolor\": \"rgb(51,51,51)\", \"ticks\": \"outside\", \"zerolinecolor\": \"white\"}}, \"shapedefaults\": {\"fillcolor\": \"black\", \"line\": {\"width\": 0}, \"opacity\": 0.3}, \"ternary\": {\"aaxis\": {\"gridcolor\": \"white\", \"linecolor\": \"white\", \"showgrid\": true, \"tickcolor\": \"rgb(51,51,51)\", \"ticks\": \"outside\"}, \"baxis\": {\"gridcolor\": \"white\", \"linecolor\": \"white\", \"showgrid\": true, \"tickcolor\": \"rgb(51,51,51)\", \"ticks\": \"outside\"}, \"bgcolor\": \"rgb(237,237,237)\", \"caxis\": {\"gridcolor\": \"white\", \"linecolor\": \"white\", \"showgrid\": true, \"tickcolor\": \"rgb(51,51,51)\", \"ticks\": \"outside\"}}, \"xaxis\": {\"automargin\": true, \"gridcolor\": \"white\", \"linecolor\": \"white\", \"showgrid\": true, \"tickcolor\": \"rgb(51,51,51)\", \"ticks\": \"outside\", \"title\": {\"standoff\": 15}, \"zerolinecolor\": \"white\"}, \"yaxis\": {\"automargin\": true, \"gridcolor\": \"white\", \"linecolor\": \"white\", \"showgrid\": true, \"tickcolor\": \"rgb(51,51,51)\", \"ticks\": \"outside\", \"title\": {\"standoff\": 15}, \"zerolinecolor\": \"white\"}}}, \"title\": {\"text\": \"Years of Experience and current salary Analysis\"}},\n",
              "                        {\"responsive\": true}\n",
              "                    ).then(function(){\n",
              "                            \n",
              "var gd = document.getElementById('850073ca-5f44-4f44-8a1a-97b67ec98c42');\n",
              "var x = new MutationObserver(function (mutations, observer) {{\n",
              "        var display = window.getComputedStyle(gd).display;\n",
              "        if (!display || display === 'none') {{\n",
              "            console.log([gd, 'removed!']);\n",
              "            Plotly.purge(gd);\n",
              "            observer.disconnect();\n",
              "        }}\n",
              "}});\n",
              "\n",
              "// Listen for the removal of the full notebook cells\n",
              "var notebookContainer = gd.closest('#notebook-container');\n",
              "if (notebookContainer) {{\n",
              "    x.observe(notebookContainer, {childList: true});\n",
              "}}\n",
              "\n",
              "// Listen for the clearing of the current output cell\n",
              "var outputEl = gd.closest('.output');\n",
              "if (outputEl) {{\n",
              "    x.observe(outputEl, {childList: true});\n",
              "}}\n",
              "\n",
              "                        })\n",
              "                };\n",
              "                \n",
              "            </script>\n",
              "        </div>\n",
              "</body>\n",
              "</html>"
            ]
          },
          "metadata": {
            "tags": []
          }
        }
      ]
    },
    {
      "cell_type": "markdown",
      "metadata": {
        "id": "ethw2Vj6txmx"
      },
      "source": [
        "From the above plot, it is interesting to note that there are fewer females than males.But, a male employee with many years of experience receives talmost the same salary as a female employee with very few years of experience, in different industry sectors."
      ]
    },
    {
      "cell_type": "code",
      "metadata": {
        "colab": {
          "base_uri": "https://localhost:8080/",
          "height": 542
        },
        "id": "ZOaMiYHt3Xf_",
        "outputId": "229476d1-8e3b-43e1-975c-702a258deb52"
      },
      "source": [
        "# creating trace1\n",
        "trace1 =go.Scatter(\n",
        "                    x = data18['Company type'],\n",
        "                    y = data18['Company size'].value_counts().head(5),\n",
        "                    mode = \"markers\",\n",
        "                    name = \"2018\",\n",
        "                    marker = dict(color = 'rgba(255, 128, 255, 0.8)'),\n",
        "                    text= data18['Company type'])\n",
        "# creating trace2\n",
        "trace2 =go.Scatter(\n",
        "                    x = data19['Company type'],\n",
        "                    y = data19['Company size'].value_counts().head(5),\n",
        "                    mode = \"markers\",\n",
        "                    name = \"2019\",\n",
        "                    marker = dict(color = 'rgba(255, 128, 2, 0.8)'),\n",
        "                    text= data19['Company type'])\n",
        "# creating trace3\n",
        "trace3 = go.Scatter(\n",
        "                    x = data20['Company type'],\n",
        "                    y = data20['Company size'].value_counts().head(5),\n",
        "                    mode = \"markers\",\n",
        "                    name = \"2020\",\n",
        "                    marker = dict(color = 'rgba(0, 255, 200, 0.8)'),\n",
        "                    text= data20['Company type'])\n",
        "data = [trace1, trace2, trace3]\n",
        "layout = dict(title = 'Company types growth trends 2018, 2019 and 2020 years',\n",
        "              xaxis= dict(title= 'Company type',ticklen= 5,zeroline= False),\n",
        "              yaxis= dict(title= 'Company size',ticklen= 5,zeroline= False)\n",
        "             )\n",
        "fig = dict(data = data, layout = layout)\n",
        "iplot(fig)"
      ],
      "execution_count": null,
      "outputs": [
        {
          "output_type": "display_data",
          "data": {
            "text/html": [
              "<html>\n",
              "<head><meta charset=\"utf-8\" /></head>\n",
              "<body>\n",
              "    <div>\n",
              "            <script src=\"https://cdnjs.cloudflare.com/ajax/libs/mathjax/2.7.5/MathJax.js?config=TeX-AMS-MML_SVG\"></script><script type=\"text/javascript\">if (window.MathJax) {MathJax.Hub.Config({SVG: {font: \"STIX-Web\"}});}</script>\n",
              "                <script type=\"text/javascript\">window.PlotlyConfig = {MathJaxConfig: 'local'};</script>\n",
              "        <script src=\"https://cdn.plot.ly/plotly-latest.min.js\"></script>    \n",
              "            <div id=\"adb9a341-0b45-4def-909e-7716c794764d\" class=\"plotly-graph-div\" style=\"height:525px; width:100%;\"></div>\n",
              "            <script type=\"text/javascript\">\n",
              "                \n",
              "                    window.PLOTLYENV=window.PLOTLYENV || {};\n",
              "                    \n",
              "                if (document.getElementById(\"adb9a341-0b45-4def-909e-7716c794764d\")) {\n",
              "                    Plotly.newPlot(\n",
              "                        'adb9a341-0b45-4def-909e-7716c794764d',\n",
              "                        [{\"marker\": {\"color\": \"rgba(255, 128, 255, 0.8)\"}, \"mode\": \"markers\", \"name\": \"2018\", \"text\": [\"Product\", \"Product\", \"Product\", \"Product\", \"Ecom retailer\", \"Insurance\", \"Product\", \"Product\", \"Startup\", \"Agency\", \"Product\", \"Product\", \"Startup\", \"Product\", \"Product\", \"Startup\", \"Product\", \"Product\", \"Agency\", \"Startup\", \"Big Tech\", \"Startup\", \"Product\", \"Consultancy\", \"Agency\", \"Product\", \"Product\", \"Product\", \"Product\", \"Product\", \"Corporation\", \"Startup\", \"Product\", \"Product\", \"Product\", \"Startup\", \"Product\", \"Product\", \"Product\", \"Product\", \"Product\", \"Startup\", \"Product\", \"Product\", \"Product\", \"Product\", \"Product\", \"Product\", \"Product\", \"Product\", \"Startup\", \"Product\", \"Agency\", \"Startup\", \"Product\", \"Startup\", \"Product\", \"Consultancy\", \"Product\", \"Product\", \"Product\", \"Product\", \"Product\", \"Product\", \"Agency\", \"Product\", \"Product\", \"Agency\", \"Product\", \"Product\", \"Startup\", \"Product\", \"Product\", \"Agency\", \"Agency\", \"Product\", \"Product\", \"Startup\", \"Startup\", \"Product\", \"Product\", \"Startup\", \"Product\", \"Product\", \"Product\", \"Startup\", \"Startup\", \"Product\", \"Product\", \"Startup\", \"Agency\", \"Startup\", \"Product\", \"Product\", \"Product\", \"Outsource\", \"Startup\", \"Product\", \"Product\", \"Startup\", \"Agency\", \"Product\", \"Agency\", \"Product\", \"Startup\", \"Product\", \"Product\", \"Product\", \"Product\", \"Product\", \"Startup\", \"Startup\", \"Product\", \"Product\", \"Product\", \"Product\", \"Startup\", \"Startup\", \"Product\", \"Product\", \"Product\", \"Product\", \"Product\", \"Product\", \"Startup\", \"Agency\", \"Product\", \"Startup\", \"Product\", \"Product\", \"Product\", \"Startup\", \"Product\", \"Product\", \"Startup\", \"Industry\", \"Product\", \"E-Commerce firm\", \"Product\", \"Product\", \"Startup\", \"Product\", \"Product\", \"Product\", \"Product\", \"Product\", \"Product\", \"Startup\", \"Product\", \"Product\", \"Product\", \"Product\", \"Startup\", \"Startup\", \"Product\", \"Product\", \"Startup\", \"Product\", \"Product\", \"Product\", \"Startup\", \"Startup\", \"Product\", \"Product\", \"Product\", \"Product\", \"Product\", \"Product\", \"Consulting\", \"Startup\", \"Product\", \"Startup\", \"Product\", \"Product\", \"Agency\", \"Product\", \"Internal development for a non-IT company\", \"Startup\", \"Startup\", \"Product\", \"Product\", \"Product\", \"Product\", \"Product\", \"Product\", \"Agency\", \"Product\", \"Startup\", \"Product\", \"Startup\", \"Agency\", \"Startup\", \"Personaldienstleister\", \"Startup\", \"Product\", \"Startup\", \"Product\", \"Startup\", \"Product\", \"Product\", \"Startup\", \"Product\", \"Agency\", \"Agency\", \"Product\", \"Product\", \"Product\", \"Startup\", \"Product\", \"Startup\", \"Product\", \"Product\", \"Product\", \"Startup\", \"Product\", \"Agency\", \"Startup\", \"Product\", \"Startup\", \"ipo\", \"Product\", \"e-commerce\", \"Product\", \"Startup\", \"Product\", \"Product\", \"Outsource\", \"Product\", \"Product\", \"Startup\", \"Product\", \"Product\", \"Startup\", \"Product\", \"Product\", \"Product\", \"Product\", \"Product\", \"Startup\", \"Startup\", \"Product\", \"Product\", \"Product\", \"Product\", \"Product\", \"Product\", \"Startup\", \"Product\", \"Product\", \"Product\", \"Product\", \"Product\", \"Product\", \"Product\", \"Product\", \"Product\", \"Agency\", \"Startup\", \"Product\", \"Product\", \"Agency\", \"Product\", \"Product\", \"Product\", \"Product\", \"Agency\", \"Startup\", \"Startup\", \"Product\", \"Product\", \"Product\", \"Product\", \"Product\", \"Product\", \"Startup\", \"Product\", \"Startup\", \"Product\", \"Product\", \"Agency\", \"Product\", \"Product\", \"Startup\", \"Product\", \"Startup\", \"Product\", \"Product\", \"Product\", \"Startup\", \"Product\", \"Startup\", \"Agency\", \"Product and Projects\", \"Product\", \"Product\", \"Product\", \"Startup\", \"E-Commerce\", \"Product\", \"Development\", \"Product\", \"Product\", \"Outsource\", \"Product\", \"Product\", \"Startup\", \"Startup\", \"Product\", \"Startup\", \"Product\", \"Product\", \"Product\", \"Product\", \"Startup\", \"Product\", \"Product\", \"Product\", \"Product\", \"Agency\", \"Product\", \"Product\", \"Product\", \"Product\", \"Product\", \"Startup\", \"Startup\", \"Product\", \"Product\", \"Product\", \"Product\", \"Product\", \"Product\", \"Product\", \"Product\", \"Startup\", \"Product\", \"Product\", \"Product\", \"Startup\", \"Product\", \"Product\", \"Product\", \"Product\", \"Startup\", \"Product\", \"Product\", \"Startup\", \"Product\", \"Product\", \"Product\", \"Agency\", \"Agency\", \"Product\", \"Startup\", \"Agency\", \"Product\", \"Startup\", \"Startup\", \"Product\", \"Product\", \"Consulting Company\", \"Startup\", \"Product\", \"Product\", \"Product\", \"Product\", \"Startup\", \"Product\", \"Product\", \"Startup\", \"Product\", \"Product\", \"Agency\", \"Startup\", \"Startup\", \"Agency\", \"Product\", \"Product\", \"Startup\", \"IT Dienstleistungen \", \"Product\", \"Product\", \"Agency\", \"Product\", \"Startup\", \"Product\", \"Product\", \"Agency\", \"Agency\", \"Product\", \"Manufacturing\", \"Product\", \"Startup\", \"Product\", \"Startup\", \"Product\", \"Stock market \", \"Product\", \"telecom operator\", \"Product\", \"Product\", \"Ecommerce\", \"Startup\", \"Startup\", \"Product\", \"Consulting\", \"Product\", \"Startup\", \"Product\", \"Agency\", \"Product\", \"Product\", \"Agency\", \"Product\", \"Product\", \"Startup\", \"Product\", \"Product\", \"Product\", \"Product\", \"Startup\", \"Product\", \"Product\", \"Startup\", \"Product\", \"Product\", \"Product\", \"Startup\", \"Consulting\", \"Outsourcing\", \"Startup\", \"Product\", \"Product\", \"Agency\", \"Product\", \"Agency\", \"Startup\", \"Product\", \"Product\", \"Product\", \"Product\", \"Product\", \"Outsorce\", \"Product\", \"Product\", \"Product\", \"Product\", \"Product\", \"Product\", \"Product\", \"Startup\", \"Product\", \"Agency\", \"Outsource\", \"Product\", \"Product\", \"Product\", \"Product\", \"consulting\", \"Startup\", \"Product\", \"Product\", \"Product\", \"Product\", \"Outsource\", \"Agency\", \"Product\", \"Product\", \"Agency\", \"Product\", \"GmbH\", \"Product\", \"Product\", \"Product\", \"Startup\", \"Startup\", \"Product\", \"Startup\", \"Product\", \"Startup\", \"Corporation\", \"Product\", \"Product\", \"Product\", \"Agency\", \"Product\", \"Product\", \"Product\", \"Product\", \"Product\", \"Product\", \"IT Consulting \", \"Startup\", \"Product\", \"Product\", \"Product\", \"Product\", \"Product\", \"Product\", \"Startup\", \"Product\", \"Product\", \"Agency\", \"Product\", \"Product\", \"Product\", \"Product\", \"Product\", \"Product\", \"Startup\", \"Agency\", \"Startup\", \"Product\", \"Product\", \"Product\", \"Startup\", \"Startup\", \"Product\", \"Product\", \"Agency\", \"Startup\", \"Startup\", \"Startup\", \"Startup\", \"Product\", \"Product\", \"Product\", \"IT Consultancy \", \"Product\", \"Agency\", \"Startup\", \"Product\", \"Product\", \"Product\", \"Product\", \"Startup\", \"Product\", \"Product\", \"Product\", \"Product\", \"Product\", \"Product\", \"Agency\", \"Product\", \"IT Service Provider\", \"Product\", \"Startup\", \"Product\", \"Product\", \"Agency\", \"Product\", \"Product\", \"non-IT, manufacturing\", \"Bank \", \"Insurance\", \"Product\", \"Product\", \"Product\", \"IT-Beratung\", \"Product\", \"Startup\", \"Startup\", \"Product\", \"Startup\", \"Product\", \"Consulting\", \"Startup\", \"Product\", \"Product\", \"Startup\", \"Product\", \"Agency\", \"Product\", \"Product\", \"Startup\", \"Startup\", \"Technology Consulting\", \"Startup\", \"Agency\", \"Product\", \"Startup\", \"Product\", \"outsource\", \"Product\", \"IT Consultants\", \"Product\", \"Agency\", \"Agency\", \"Agency\", \"Agency\", \"Product\", \"Product\", \"Product\", \"Startup\", \"Product\", \"Consulting\", \"Hochschule/university\", \"Product\", \"Product\", \"Product\", \"ISP\", \"Product\", \"Product\", \"Product\", \"Product\", \"Startup\", \"Product\", \"Product\", \"Product\", \"Product\", \"Product\", \"Product\", \"Product\", \"Product\", \"Agency\", \"Product\", \"Product\", \"Product\", \"Product\", \"Product\", \"Agency\", \"Product\", \"Product\", \"Product\", \"Product\", \"Product\", \"Product\", \"Startup\", \"Product\", \"Product\", \"Product\", \"Product\", \"Product\", \"Agency\", \"Fin Tech\", \"Agency\", \"Startup\", \"Product\", \"Outsourcing\", \"Product\", \"Startup\", \"Product\", \"Product\", \"Outsourcing\", \"Product\", \"Startup\", \"Product\", \"Blockchain technology\", \"Retail\", \"Startup\", \"Agency\", \"Product\", \"Product\", \"Product\", \"Product\", \"Agency\", \"Startup\", \"Consult\", \"Startup\", \"Product\", \"Product\", \"Agency\", \"Agency\", \"Product\", \"Product\", \"Product\", \"Product\", \"Product\", \"Product\", \"Product\", \"Product\", \"Agency\", \"Startup\", \"Product\", \"Product\", \"Product\", \"Agency\", \"Product\", \"Product\", \"Product\", \"Agency\", \"Product\", \"Project-based software development\", \"Product\", \"Product\", \"Product\", \"Automotive\", \"Product\", \"Product\", \"Product\", \"Startup\", \"Product\", \"Startup\", \"Product\", \"Product\", \"Automotive\", \"Product\", \"Product\", \"Product\", \"Product\", \"Startup\", \"Product\", \"Product\", \"Startup\", \"Product\", \"OEM\", \"Consulting (banking)\", \"Product\", \"Agency\", \"Startup\", \"Product\", \"IT Consulting\", \"Agency\", \"Product\", \"Agency\", \"Product\", \"Product\", \"Product\", \"Product\", \"Product\", \"Startup\", \"Product\", \"Product\", \"Product\", \"Startup\", \"Product\", \"Product\", \"Product\", \"Product\", \"Agency\", \"Product\", \"Product\", \"Agency\", \"Product\", \"Agency\", \"Product\", \"Product\", \"Product\", \"Product\", \"Agency\", \"Agency\", \"Product\", \"Product\", \"Product\"], \"type\": \"scatter\", \"x\": [\"Product\", \"Product\", \"Product\", \"Product\", \"Ecom retailer\", \"Insurance\", \"Product\", \"Product\", \"Startup\", \"Agency\", \"Product\", \"Product\", \"Startup\", \"Product\", \"Product\", \"Startup\", \"Product\", \"Product\", \"Agency\", \"Startup\", \"Big Tech\", \"Startup\", \"Product\", \"Consultancy\", \"Agency\", \"Product\", \"Product\", \"Product\", \"Product\", \"Product\", \"Corporation\", \"Startup\", \"Product\", \"Product\", \"Product\", \"Startup\", \"Product\", \"Product\", \"Product\", \"Product\", \"Product\", \"Startup\", \"Product\", \"Product\", \"Product\", \"Product\", \"Product\", \"Product\", \"Product\", \"Product\", \"Startup\", \"Product\", \"Agency\", \"Startup\", \"Product\", \"Startup\", \"Product\", \"Consultancy\", \"Product\", \"Product\", \"Product\", \"Product\", \"Product\", \"Product\", \"Agency\", \"Product\", \"Product\", \"Agency\", \"Product\", \"Product\", \"Startup\", \"Product\", \"Product\", \"Agency\", \"Agency\", \"Product\", \"Product\", \"Startup\", \"Startup\", \"Product\", \"Product\", \"Startup\", \"Product\", \"Product\", \"Product\", \"Startup\", \"Startup\", \"Product\", \"Product\", \"Startup\", \"Agency\", \"Startup\", \"Product\", \"Product\", \"Product\", \"Outsource\", \"Startup\", \"Product\", \"Product\", \"Startup\", \"Agency\", \"Product\", \"Agency\", \"Product\", \"Startup\", \"Product\", \"Product\", \"Product\", \"Product\", \"Product\", \"Startup\", \"Startup\", \"Product\", \"Product\", \"Product\", \"Product\", \"Startup\", \"Startup\", \"Product\", \"Product\", \"Product\", \"Product\", \"Product\", \"Product\", \"Startup\", \"Agency\", \"Product\", \"Startup\", \"Product\", \"Product\", \"Product\", \"Startup\", \"Product\", \"Product\", \"Startup\", \"Industry\", \"Product\", \"E-Commerce firm\", \"Product\", \"Product\", \"Startup\", \"Product\", \"Product\", \"Product\", \"Product\", \"Product\", \"Product\", \"Startup\", \"Product\", \"Product\", \"Product\", \"Product\", \"Startup\", \"Startup\", \"Product\", \"Product\", \"Startup\", \"Product\", \"Product\", \"Product\", \"Startup\", \"Startup\", \"Product\", \"Product\", \"Product\", \"Product\", \"Product\", \"Product\", \"Consulting\", \"Startup\", \"Product\", \"Startup\", \"Product\", \"Product\", \"Agency\", \"Product\", \"Internal development for a non-IT company\", \"Startup\", \"Startup\", \"Product\", \"Product\", \"Product\", \"Product\", \"Product\", \"Product\", \"Agency\", \"Product\", \"Startup\", \"Product\", \"Startup\", \"Agency\", \"Startup\", \"Personaldienstleister\", \"Startup\", \"Product\", \"Startup\", \"Product\", \"Startup\", \"Product\", \"Product\", \"Startup\", \"Product\", \"Agency\", \"Agency\", \"Product\", \"Product\", \"Product\", \"Startup\", \"Product\", \"Startup\", \"Product\", \"Product\", \"Product\", \"Startup\", \"Product\", \"Agency\", \"Startup\", \"Product\", \"Startup\", \"ipo\", \"Product\", \"e-commerce\", \"Product\", \"Startup\", \"Product\", \"Product\", \"Outsource\", \"Product\", \"Product\", \"Startup\", \"Product\", \"Product\", \"Startup\", \"Product\", \"Product\", \"Product\", \"Product\", \"Product\", \"Startup\", \"Startup\", \"Product\", \"Product\", \"Product\", \"Product\", \"Product\", \"Product\", \"Startup\", \"Product\", \"Product\", \"Product\", \"Product\", \"Product\", \"Product\", \"Product\", \"Product\", \"Product\", \"Agency\", \"Startup\", \"Product\", \"Product\", \"Agency\", \"Product\", \"Product\", \"Product\", \"Product\", \"Agency\", \"Startup\", \"Startup\", \"Product\", \"Product\", \"Product\", \"Product\", \"Product\", \"Product\", \"Startup\", \"Product\", \"Startup\", \"Product\", \"Product\", \"Agency\", \"Product\", \"Product\", \"Startup\", \"Product\", \"Startup\", \"Product\", \"Product\", \"Product\", \"Startup\", \"Product\", \"Startup\", \"Agency\", \"Product and Projects\", \"Product\", \"Product\", \"Product\", \"Startup\", \"E-Commerce\", \"Product\", \"Development\", \"Product\", \"Product\", \"Outsource\", \"Product\", \"Product\", \"Startup\", \"Startup\", \"Product\", \"Startup\", \"Product\", \"Product\", \"Product\", \"Product\", \"Startup\", \"Product\", \"Product\", \"Product\", \"Product\", \"Agency\", \"Product\", \"Product\", \"Product\", \"Product\", \"Product\", \"Startup\", \"Startup\", \"Product\", \"Product\", \"Product\", \"Product\", \"Product\", \"Product\", \"Product\", \"Product\", \"Startup\", \"Product\", \"Product\", \"Product\", \"Startup\", \"Product\", \"Product\", \"Product\", \"Product\", \"Startup\", \"Product\", \"Product\", \"Startup\", \"Product\", \"Product\", \"Product\", \"Agency\", \"Agency\", \"Product\", \"Startup\", \"Agency\", \"Product\", \"Startup\", \"Startup\", \"Product\", \"Product\", \"Consulting Company\", \"Startup\", \"Product\", \"Product\", \"Product\", \"Product\", \"Startup\", \"Product\", \"Product\", \"Startup\", \"Product\", \"Product\", \"Agency\", \"Startup\", \"Startup\", \"Agency\", \"Product\", \"Product\", \"Startup\", \"IT Dienstleistungen \", \"Product\", \"Product\", \"Agency\", \"Product\", \"Startup\", \"Product\", \"Product\", \"Agency\", \"Agency\", \"Product\", \"Manufacturing\", \"Product\", \"Startup\", \"Product\", \"Startup\", \"Product\", \"Stock market \", \"Product\", \"telecom operator\", \"Product\", \"Product\", \"Ecommerce\", \"Startup\", \"Startup\", \"Product\", \"Consulting\", \"Product\", \"Startup\", \"Product\", \"Agency\", \"Product\", \"Product\", \"Agency\", \"Product\", \"Product\", \"Startup\", \"Product\", \"Product\", \"Product\", \"Product\", \"Startup\", \"Product\", \"Product\", \"Startup\", \"Product\", \"Product\", \"Product\", \"Startup\", \"Consulting\", \"Outsourcing\", \"Startup\", \"Product\", \"Product\", \"Agency\", \"Product\", \"Agency\", \"Startup\", \"Product\", \"Product\", \"Product\", \"Product\", \"Product\", \"Outsorce\", \"Product\", \"Product\", \"Product\", \"Product\", \"Product\", \"Product\", \"Product\", \"Startup\", \"Product\", \"Agency\", \"Outsource\", \"Product\", \"Product\", \"Product\", \"Product\", \"consulting\", \"Startup\", \"Product\", \"Product\", \"Product\", \"Product\", \"Outsource\", \"Agency\", \"Product\", \"Product\", \"Agency\", \"Product\", \"GmbH\", \"Product\", \"Product\", \"Product\", \"Startup\", \"Startup\", \"Product\", \"Startup\", \"Product\", \"Startup\", \"Corporation\", \"Product\", \"Product\", \"Product\", \"Agency\", \"Product\", \"Product\", \"Product\", \"Product\", \"Product\", \"Product\", \"IT Consulting \", \"Startup\", \"Product\", \"Product\", \"Product\", \"Product\", \"Product\", \"Product\", \"Startup\", \"Product\", \"Product\", \"Agency\", \"Product\", \"Product\", \"Product\", \"Product\", \"Product\", \"Product\", \"Startup\", \"Agency\", \"Startup\", \"Product\", \"Product\", \"Product\", \"Startup\", \"Startup\", \"Product\", \"Product\", \"Agency\", \"Startup\", \"Startup\", \"Startup\", \"Startup\", \"Product\", \"Product\", \"Product\", \"IT Consultancy \", \"Product\", \"Agency\", \"Startup\", \"Product\", \"Product\", \"Product\", \"Product\", \"Startup\", \"Product\", \"Product\", \"Product\", \"Product\", \"Product\", \"Product\", \"Agency\", \"Product\", \"IT Service Provider\", \"Product\", \"Startup\", \"Product\", \"Product\", \"Agency\", \"Product\", \"Product\", \"non-IT, manufacturing\", \"Bank \", \"Insurance\", \"Product\", \"Product\", \"Product\", \"IT-Beratung\", \"Product\", \"Startup\", \"Startup\", \"Product\", \"Startup\", \"Product\", \"Consulting\", \"Startup\", \"Product\", \"Product\", \"Startup\", \"Product\", \"Agency\", \"Product\", \"Product\", \"Startup\", \"Startup\", \"Technology Consulting\", \"Startup\", \"Agency\", \"Product\", \"Startup\", \"Product\", \"outsource\", \"Product\", \"IT Consultants\", \"Product\", \"Agency\", \"Agency\", \"Agency\", \"Agency\", \"Product\", \"Product\", \"Product\", \"Startup\", \"Product\", \"Consulting\", \"Hochschule/university\", \"Product\", \"Product\", \"Product\", \"ISP\", \"Product\", \"Product\", \"Product\", \"Product\", \"Startup\", \"Product\", \"Product\", \"Product\", \"Product\", \"Product\", \"Product\", \"Product\", \"Product\", \"Agency\", \"Product\", \"Product\", \"Product\", \"Product\", \"Product\", \"Agency\", \"Product\", \"Product\", \"Product\", \"Product\", \"Product\", \"Product\", \"Startup\", \"Product\", \"Product\", \"Product\", \"Product\", \"Product\", \"Agency\", \"Fin Tech\", \"Agency\", \"Startup\", \"Product\", \"Outsourcing\", \"Product\", \"Startup\", \"Product\", \"Product\", \"Outsourcing\", \"Product\", \"Startup\", \"Product\", \"Blockchain technology\", \"Retail\", \"Startup\", \"Agency\", \"Product\", \"Product\", \"Product\", \"Product\", \"Agency\", \"Startup\", \"Consult\", \"Startup\", \"Product\", \"Product\", \"Agency\", \"Agency\", \"Product\", \"Product\", \"Product\", \"Product\", \"Product\", \"Product\", \"Product\", \"Product\", \"Agency\", \"Startup\", \"Product\", \"Product\", \"Product\", \"Agency\", \"Product\", \"Product\", \"Product\", \"Agency\", \"Product\", \"Project-based software development\", \"Product\", \"Product\", \"Product\", \"Automotive\", \"Product\", \"Product\", \"Product\", \"Startup\", \"Product\", \"Startup\", \"Product\", \"Product\", \"Automotive\", \"Product\", \"Product\", \"Product\", \"Product\", \"Startup\", \"Product\", \"Product\", \"Startup\", \"Product\", \"OEM\", \"Consulting (banking)\", \"Product\", \"Agency\", \"Startup\", \"Product\", \"IT Consulting\", \"Agency\", \"Product\", \"Agency\", \"Product\", \"Product\", \"Product\", \"Product\", \"Product\", \"Startup\", \"Product\", \"Product\", \"Product\", \"Startup\", \"Product\", \"Product\", \"Product\", \"Product\", \"Agency\", \"Product\", \"Product\", \"Agency\", \"Product\", \"Agency\", \"Product\", \"Product\", \"Product\", \"Product\", \"Agency\", \"Agency\", \"Product\", \"Product\", \"Product\"], \"y\": [259, 217, 120, 114, 34]}, {\"marker\": {\"color\": \"rgba(255, 128, 2, 0.8)\"}, \"mode\": \"markers\", \"name\": \"2019\", \"text\": [\"Startup\", \"Product\", \"Startup\", \"Product\", \"Product\", \"Product\", \"Startup\", \"Product\", \"Product\", \"Product\", \"Startup\", \"Product\", \"Startup\", \"Product\", \"Startup\", \"Startup\", \"Product\", \"Product\", \"Product\", \"Product\", \"Startup\", \"Product\", \"Product\", \"Product\", \"Product\", \"Product\", \"Product\", \"Consulting / Agency\", \"Product\", \"Product\", \"Product\", \"Consulting / Agency\", \"Startup\", \"Product\", \"Product\", \"Product\", \"Product\", \"Startup\", \"Product\", \"Product\", \"Startup\", \"Product\", \"Product\", \"Startup\", \"Startup\", \"Product\", \"Product\", \"Consulting / Agency\", \"Startup\", \"Product\", \"Startup\", \"Consulting / Agency\", \"Startup\", \"Startup\", \"Product\", \"Consulting / Agency\", \"Product\", \"Startup\", \"Startup\", \"Startup\", \"Product\", \"Product\", \"Product\", \"Product\", \"Startup\", \"Product\", \"Product\", \"Startup\", \"Consulting / Agency\", \"Product\", \"Product\", \"Consulting / Agency\", \"Product\", \"Product\", \"Startup\", \"Product\", \"Product\", \"Product\", \"Product\", \"Product\", \"Startup\", \"Product\", \"Product\", \"Product\", \"Consulting / Agency\", \"Product\", \"Startup\", \"Product\", \"Product\", \"Product\", \"Startup\", \"Consulting / Agency\", \"Product\", \"Startup\", \"Product\", \"Startup\", \"Product\", \"Product\", \"Product\", \"Product\", \"Product\", \"Consulting / Agency\", \"Startup\", \"Product\", \"Consulting / Agency\", \"Startup\", \"Product\", \"Product\", \"Consulting / Agency\", \"Product\", \"Product\", \"Consulting / Agency\", \"Startup\", \"Startup\", \"Consulting / Agency\", \"Product\", \"Product\", \"Bodyshop / Outsource\", \"Product\", \"Product\", \"Product\", \"Product\", \"Product\", \"Product\", \"Product\", \"Consulting / Agency\", \"Product\", \"Product\", \"Product\", \"Product\", \"Product\", \"Bodyshop / Outsource\", \"Startup\", \"Product\", \"Consulting / Agency\", \"Bodyshop / Outsource\", \"Consulting / Agency\", \"Product\", \"Product\", \"Consulting / Agency\", \"Product\", \"Product\", \"Startup\", \"Product\", \"Product\", \"Product\", \"Product\", \"Product\", \"Product\", \"Consulting / Agency\", \"Product\", \"Product\", \"Product\", \"Product\", \"Product\", \"Product\", \"Product\", \"Product\", \"Product\", \"Product\", \"Product\", \"Consulting / Agency\", \"Startup\", \"Product\", \"Product\", \"Consulting / Agency\", \"Product\", \"Product\", \"Startup\", \"Startup\", \"Product\", \"Product\", \"Product\", \"Product\", \"Product\", \"Product\", \"Product\", \"Product\", \"Product\", \"Consulting / Agency\", \"Product\", \"Product\", \"Consulting / Agency\", \"Product\", \"Consulting / Agency\", \"Product\", \"Product\", \"Product\", \"Product\", \"Product\", \"Product\", \"Product\", \"Product\", \"Product\", \"Product\", \"Consulting / Agency\", \"Product\", \"Product\", \"Startup\", \"Product\", \"Consulting / Agency\", \"Product\", \"Product\", \"Product\", \"Consulting / Agency\", \"Product\", \"Product\", \"Product\", \"Product\", \"Product\", \"Product\", \"Product\", \"Product\", \"Product\", \"Product\", \"Product\", \"Product\", \"Product\", \"Product\", \"Product\", \"Product\", \"Product\", \"Startup\", \"Product\", \"Bodyshop / Outsource\", \"Product\", \"Startup\", \"Consulting / Agency\", \"Product\", \"Consulting / Agency\", \"Product\", \"Bodyshop / Outsource\", \"Product\", \"Startup\", \"Startup\", \"Consulting / Agency\", \"Startup\", \"Product\", \"Product\", \"Bodyshop / Outsource\", \"Product\", \"Startup\", \"Product\", \"Product\", \"Consulting / Agency\", \"Product\", \"Product\", \"Product\", \"Product\", \"Product\", \"Product\", \"Product\", \"Product\", \"Product\", \"Product\", \"Startup\", \"Product\", \"Product\", \"Product\", \"Startup\", \"Startup\", \"Product\", \"Product\", \"Product\", \"Product\", \"Startup\", \"Product\", \"Startup\", \"Bodyshop / Outsource\", \"Product\", \"Consulting / Agency\", \"Product\", \"Product\", \"Consulting / Agency\", \"Product\", \"Startup\", \"Product\", \"Product\", \"Product\", \"Product\", \"Product\", \"Product\", \"Product\", \"Product\", \"Startup\", \"Product\", \"Product\", \"Product\", \"Startup\", \"Product\", \"Product\", \"Product\", \"Consulting / Agency\", \"Bodyshop / Outsource\", \"Product\", \"Product\", \"Product\", \"Consulting / Agency\", \"Product\", \"Product\", \"Product\", \"Product\", \"Product\", \"Startup\", \"Product\", \"Product\", \"Product\", \"Startup\", \"Consulting / Agency\", \"Startup\", \"Product\", \"Product\", \"Product\", \"Startup\", \"Product\", \"Product\", \"Startup\", \"Product\", \"Product\", \"Product\", \"Product\", \"Product\", \"Product\", \"Product\", \"Startup\", \"Product\", \"Product\", \"Product\", \"Consulting / Agency\", \"Product\", \"Product\", \"Product\", \"Startup\", \"Startup\", \"Product\", \"Product\", \"Product\", \"Product\", \"Product\", \"Product\", \"Product\", \"Product\", \"Product\", \"Product\", \"Startup\", \"Product\", \"Bodyshop / Outsource\", \"Product\", \"Startup\", \"Product\", \"Product\", \"Product\", \"Product\", \"Consulting / Agency\", \"Product\", \"Product\", \"Product\", \"Product\", \"Product\", \"Startup\", \"Startup\", \"Product\", \"Product\", \"Product\", \"Product\", \"Product\", \"Startup\", \"Product\", \"Product\", \"Startup\", \"Product\", \"Consulting / Agency\", \"Startup\", \"Consulting / Agency\", \"Product\", \"Product\", \"Product\", \"Bodyshop / Outsource\", \"Product\", \"Bodyshop / Outsource\", \"Product\", \"Startup\", \"Product\", \"Product\", \"Startup\", \"Product\", \"Startup\", \"Startup\", \"Product\", \"Startup\", \"Product\", \"Product\", \"Product\", \"Product\", \"Product\", \"Product\", \"Consulting / Agency\", \"Startup\", \"Product\", \"Product\", \"Product\", \"Product\", \"Product\", \"Startup\", \"Consulting / Agency\", \"Product\", \"Product\", \"Startup\", \"Product\", \"Product\", \"Product\", \"Product\", \"Product\", \"Product\", \"Product\", \"Product\", \"Startup\", \"Product\", \"Startup\", \"Consulting / Agency\", \"Consulting / Agency\", \"Product\", \"Product\", \"Consulting / Agency\", \"Consulting / Agency\", \"Consulting / Agency\", \"Product\", \"Product\", \"Startup\", \"Product\", \"Product\", \"Product\", \"Bodyshop / Outsource\", \"Product\", \"Product\", \"Consulting / Agency\", \"Startup\", \"Product\", \"Startup\", \"Startup\", \"Startup\", \"Consulting / Agency\", \"Consulting / Agency\", \"Product\", \"Product\", \"Product\", \"Startup\", \"Product\", \"Startup\", \"Startup\", \"Startup\", \"Product\", \"Consulting / Agency\", \"Consulting / Agency\", \"Startup\", \"Product\", \"Product\", \"Product\", \"University\", \"Bodyshop / Outsource\", \"Product\", \"Product\", \"Product\", \"Startup\", \"Product\", \"Bodyshop / Outsource\", \"Product\", \"Product\", \"Product\", \"Product\", \"Consulting / Agency\", \"Startup\", \"Product\", \"Product\", \"Product\", \"Product\", \"Consulting / Agency\", \"Startup\", \"Product\", \"Startup\", \"Product\", \"Product\", \"Product\", \"Product\", \"Product\", \"Startup\", \"Product\", \"Product\", \"Startup\", \"Consulting / Agency\", \"Product\", \"Product\", \"Consulting / Agency\", \"Product\", \"Product\", \"Product\", \"Product\", \"Product\", \"Startup\", \"Consulting / Agency\", \"Startup\", \"Consulting / Agency\", \"Product\", \"Product\", \"Startup\", \"Product\", \"Product\", \"Product\", \"Startup\", \"Product\", \"Consulting / Agency\", \"Startup\", \"Consulting / Agency\", \"Consulting / Agency\", \"Consulting / Agency\", \"Product\", \"Product\", \"Startup\", \"Product\", \"Product\", \"Startup\", \"Product\", \"Product\", \"Startup\", \"Consulting / Agency\", \"Product\", \"Product\", \"Product\", \"Product\", \"Startup\", \"Startup\", \"Consulting / Agency\", \"Product\", \"Product\", \"Startup\", \"Product\", \"Product\", \"Product\", \"Startup\", \"Startup\", \"Product\", \"Product\", \"Startup\", \"Product\", \"Product\", \"Product\", \"Product\", \"Product\", \"Startup\", \"Product\", \"Product\", \"Product\", \"Product\", \"Product\", \"Product\", \"Product\", \"Product\", \"Product\", \"Product\", \"Startup\", \"Product\", \"Product\", \"Startup\", \"Bodyshop / Outsource\", \"Startup\", \"Consulting / Agency\", \"Startup\", \"Product\", \"Product\", \"Product\", \"Startup\", \"Product\", \"Consulting / Agency\", \"Product\", \"Product\", \"Product\", \"Consulting / Agency\", \"Startup\", \"Product\", \"Startup\", \"Consulting / Agency\", \"Startup\", \"Product\", \"Product\", \"Product\", \"Consulting / Agency\", \"Product\", \"Product\", \"Product\", \"Consulting / Agency\", \"Consulting / Agency\", \"Product\", \"Product\", \"Product\", \"Product\", \"Product\", \"Consulting / Agency\", \"Product\", \"Product\", \"Consulting / Agency\", \"Product\", \"Product\", \"Product\", \"Startup\", \"Product\", \"Product\", \"Consulting / Agency\", \"Product\", \"Product\", \"Product\", \"Product\", \"Product\", \"Product\", \"Product\", \"Product\", \"Product\", \"Product\", \"Product\", \"Startup\", \"Product\", \"Product\", \"Product\", \"Product\", \"Product\", \"Product\", \"Consulting / Agency\", \"Product\", \"Bodyshop / Outsource\", \"Product\", \"Product\", \"Startup\", \"Product\", \"Product\", \"Consulting / Agency\", \"Product\", \"Product\", \"Consulting / Agency\", \"Product\", \"Startup\", \"Product\", \"Startup\", \"Startup\", \"Product\", \"Consulting / Agency\", \"Startup\", \"Product\", \"Consulting / Agency\", \"Consulting / Agency\", \"Product\", \"Product\", \"Product\", \"Product\", \"Product\", \"Product\", \"Startup\", \"Product\", \"Product\", \"Product\", \"Startup\", \"Product\", \"Product\", \"Startup\", \"Product\", \"Startup\", \"Product\", \"Product\", \"Consulting / Agency\", \"Product\", \"Product\", \"Startup\", \"Product\", \"Product\", \"Consulting / Agency\", \"Product\", \"Product\", \"Product\", \"Product\", \"Product\", \"Startup\", \"Startup\", \"Product\", \"Product\", \"Consulting / Agency\", \"Product\", \"Startup\", \"Consulting / Agency\", \"Bodyshop / Outsource\", \"Startup\", \"Startup\", \"Product\", \"Product\", \"Product\", \"Startup\", \"Startup\", \"Product\", \"Startup\", \"Product\", \"Product\", \"Bank\", \"Product\", \"Bodyshop / Outsource\", \"Product\", \"Startup\", \"University\", \"Product\", \"Product\", \"Product\", \"Product\", \"Product\", \"Product\", \"Startup\", \"Product\", \"Product\", \"Product\", \"Bodyshop / Outsource\", \"Startup\", \"Product\", \"Product\", \"Product\", \"Product\", \"Product\", \"Startup\", \"Product\", \"Product\", \"Product\", \"Startup\", \"Bodyshop / Outsource\", \"Product\", \"Product\", \"Startup\", \"Product\", \"Product\", \"Product\", \"Product\", \"Product\", \"Product\", \"Product\", \"Bodyshop / Outsource\", \"Consulting / Agency\", \"Product\", \"Product\", \"Product\", \"Product\", \"Product\", \"Product\", \"Product\", \"Startup\", \"Product\", \"Product\", \"Consulting / Agency\", \"Consulting / Agency\", \"Product\", \"Product\", \"Startup\", \"Consulting / Agency\", \"Startup\", \"Consulting / Agency\", \"Product\", \"Bodyshop / Outsource\", \"Product\", \"Product\", \"Product\", \"Product\", \"Bodyshop / Outsource\", \"Product\", \"Bodyshop / Outsource\", \"Bodyshop / Outsource\", \"Product\", \"Product\", \"Product\", \"Bank\", \"Consulting / Agency\", \"Startup\", \"Product\", \"Product\", \"Product\", \"Product\", \"Product\", \"Product\", \"Product\", \"Product\", \"Product\", \"Product\", \"Product\", \"Product\", \"Product\", \"Product\", \"Bank\", \"Product\", \"Product\", \"Product\", \"Startup\", \"Consulting / Agency\", \"Startup\", \"Product\", \"Product\", \"Product\", \"Product\", \"Consulting / Agency\", \"Consulting / Agency\", \"Startup\", \"Product\", \"Product\", \"Consulting / Agency\", \"Product\", \"Consulting / Agency\", \"Product\", \"Bank\", \"Product\", \"Startup\", \"Consulting / Agency\", \"Product\", \"Product\", \"Product\", \"University\", \"Startup\", \"Product\", \"Startup\", \"Product\", \"Product\", \"Product\", \"Product\", \"Startup\", \"Product\", \"Product\", \"Product\", \"Startup\", \"Startup\", \"Product\", \"Product\", \"Product\", \"Startup\", \"Consulting / Agency\", \"Consulting / Agency\", \"Product\", \"Product\", \"Startup\", \"Product\", \"Product\", \"Product\", \"Product\", \"Product\", \"Consulting / Agency\", \"Startup\", \"Consulting / Agency\", \"Consulting / Agency\", \"Startup\", \"Bodyshop / Outsource\", \"Product\", \"Startup\", \"Product\", \"Startup\", \"Product\", \"Consulting / Agency\", \"Product\", \"Product\", \"Product\", \"Product\", \"Product\", \"Startup\", \"Consulting / Agency\", \"Startup\", \"Product\", \"Product\", \"Product\", \"Consulting / Agency\", \"Product\", \"Product\", \"Product\", \"Product\", \"Startup\", \"Product\", \"Product\", \"Product\", \"Product\", \"Product\", \"Startup\", \"Product\", \"Startup\", \"Startup\", \"Product\", \"Bodyshop / Outsource\", \"Product\", \"Product\", \"Product\", \"Startup\", \"Product\", \"Startup\", \"Product\", \"Product\", \"Product\", \"Product\", \"Product\", \"Product\", \"Product\", \"Bodyshop / Outsource\", \"Product\", \"Product\", \"Product\", \"Consulting / Agency\", \"Startup\", \"Product\", \"University\", \"Product\", \"Bodyshop / Outsource\", \"Product\", \"Product\", \"Product\", \"Product\", \"Product\", \"Product\", \"Product\", \"Product\", \"Product\", \"Startup\", \"Product\", \"Consulting / Agency\", \"University\", \"Product\", \"Startup\", \"Product\", \"Startup\", \"Product\", \"Startup\", \"Product\", \"Product\", \"Consulting / Agency\", \"Product\", \"Startup\", \"Product\", \"Product\", \"Product\", \"Product\", \"Outsource\", \"Product\", \"Product\", \"Startup\", \"Product\", \"Product\", \"Product\", \"Product\", \"Product\", \"Product\", \"Product\", \"Product\", \"Bodyshop / Outsource\", \"Product\", \"Product\", \"Product\", \"Product\", \"Product\", \"Product\", \"Product\", \"Product\", \"Consulting / Agency\", \"Product\", \"Product\", \"Product\", \"University\", \"Consulting / Agency\", \"Consulting / Agency\", \"Consulting / Agency\", \"Product\", \"Consulting / Agency\", \"Product\", \"Consulting / Agency\", \"Startup\", \"Product\", \"Product\", \"Bank\", \"Product\", \"Product\", \"Consulting / Agency\", \"Startup\", \"Product\", \"Product\", \"Product\", \"Product\", \"Product\", \"Bank\", \"Product\", \"Product\", \"Consulting / Agency\"], \"type\": \"scatter\", \"x\": [\"Startup\", \"Product\", \"Startup\", \"Product\", \"Product\", \"Product\", \"Startup\", \"Product\", \"Product\", \"Product\", \"Startup\", \"Product\", \"Startup\", \"Product\", \"Startup\", \"Startup\", \"Product\", \"Product\", \"Product\", \"Product\", \"Startup\", \"Product\", \"Product\", \"Product\", \"Product\", \"Product\", \"Product\", \"Consulting / Agency\", \"Product\", \"Product\", \"Product\", \"Consulting / Agency\", \"Startup\", \"Product\", \"Product\", \"Product\", \"Product\", \"Startup\", \"Product\", \"Product\", \"Startup\", \"Product\", \"Product\", \"Startup\", \"Startup\", \"Product\", \"Product\", \"Consulting / Agency\", \"Startup\", \"Product\", \"Startup\", \"Consulting / Agency\", \"Startup\", \"Startup\", \"Product\", \"Consulting / Agency\", \"Product\", \"Startup\", \"Startup\", \"Startup\", \"Product\", \"Product\", \"Product\", \"Product\", \"Startup\", \"Product\", \"Product\", \"Startup\", \"Consulting / Agency\", \"Product\", \"Product\", \"Consulting / Agency\", \"Product\", \"Product\", \"Startup\", \"Product\", \"Product\", \"Product\", \"Product\", \"Product\", \"Startup\", \"Product\", \"Product\", \"Product\", \"Consulting / Agency\", \"Product\", \"Startup\", \"Product\", \"Product\", \"Product\", \"Startup\", \"Consulting / Agency\", \"Product\", \"Startup\", \"Product\", \"Startup\", \"Product\", \"Product\", \"Product\", \"Product\", \"Product\", \"Consulting / Agency\", \"Startup\", \"Product\", \"Consulting / Agency\", \"Startup\", \"Product\", \"Product\", \"Consulting / Agency\", \"Product\", \"Product\", \"Consulting / Agency\", \"Startup\", \"Startup\", \"Consulting / Agency\", \"Product\", \"Product\", \"Bodyshop / Outsource\", \"Product\", \"Product\", \"Product\", \"Product\", \"Product\", \"Product\", \"Product\", \"Consulting / Agency\", \"Product\", \"Product\", \"Product\", \"Product\", \"Product\", \"Bodyshop / Outsource\", \"Startup\", \"Product\", \"Consulting / Agency\", \"Bodyshop / Outsource\", \"Consulting / Agency\", \"Product\", \"Product\", \"Consulting / Agency\", \"Product\", \"Product\", \"Startup\", \"Product\", \"Product\", \"Product\", \"Product\", \"Product\", \"Product\", \"Consulting / Agency\", \"Product\", \"Product\", \"Product\", \"Product\", \"Product\", \"Product\", \"Product\", \"Product\", \"Product\", \"Product\", \"Product\", \"Consulting / Agency\", \"Startup\", \"Product\", \"Product\", \"Consulting / Agency\", \"Product\", \"Product\", \"Startup\", \"Startup\", \"Product\", \"Product\", \"Product\", \"Product\", \"Product\", \"Product\", \"Product\", \"Product\", \"Product\", \"Consulting / Agency\", \"Product\", \"Product\", \"Consulting / Agency\", \"Product\", \"Consulting / Agency\", \"Product\", \"Product\", \"Product\", \"Product\", \"Product\", \"Product\", \"Product\", \"Product\", \"Product\", \"Product\", \"Consulting / Agency\", \"Product\", \"Product\", \"Startup\", \"Product\", \"Consulting / Agency\", \"Product\", \"Product\", \"Product\", \"Consulting / Agency\", \"Product\", \"Product\", \"Product\", \"Product\", \"Product\", \"Product\", \"Product\", \"Product\", \"Product\", \"Product\", \"Product\", \"Product\", \"Product\", \"Product\", \"Product\", \"Product\", \"Product\", \"Startup\", \"Product\", \"Bodyshop / Outsource\", \"Product\", \"Startup\", \"Consulting / Agency\", \"Product\", \"Consulting / Agency\", \"Product\", \"Bodyshop / Outsource\", \"Product\", \"Startup\", \"Startup\", \"Consulting / Agency\", \"Startup\", \"Product\", \"Product\", \"Bodyshop / Outsource\", \"Product\", \"Startup\", \"Product\", \"Product\", \"Consulting / Agency\", \"Product\", \"Product\", \"Product\", \"Product\", \"Product\", \"Product\", \"Product\", \"Product\", \"Product\", \"Product\", \"Startup\", \"Product\", \"Product\", \"Product\", \"Startup\", \"Startup\", \"Product\", \"Product\", \"Product\", \"Product\", \"Startup\", \"Product\", \"Startup\", \"Bodyshop / Outsource\", \"Product\", \"Consulting / Agency\", \"Product\", \"Product\", \"Consulting / Agency\", \"Product\", \"Startup\", \"Product\", \"Product\", \"Product\", \"Product\", \"Product\", \"Product\", \"Product\", \"Product\", \"Startup\", \"Product\", \"Product\", \"Product\", \"Startup\", \"Product\", \"Product\", \"Product\", \"Consulting / Agency\", \"Bodyshop / Outsource\", \"Product\", \"Product\", \"Product\", \"Consulting / Agency\", \"Product\", \"Product\", \"Product\", \"Product\", \"Product\", \"Startup\", \"Product\", \"Product\", \"Product\", \"Startup\", \"Consulting / Agency\", \"Startup\", \"Product\", \"Product\", \"Product\", \"Startup\", \"Product\", \"Product\", \"Startup\", \"Product\", \"Product\", \"Product\", \"Product\", \"Product\", \"Product\", \"Product\", \"Startup\", \"Product\", \"Product\", \"Product\", \"Consulting / Agency\", \"Product\", \"Product\", \"Product\", \"Startup\", \"Startup\", \"Product\", \"Product\", \"Product\", \"Product\", \"Product\", \"Product\", \"Product\", \"Product\", \"Product\", \"Product\", \"Startup\", \"Product\", \"Bodyshop / Outsource\", \"Product\", \"Startup\", \"Product\", \"Product\", \"Product\", \"Product\", \"Consulting / Agency\", \"Product\", \"Product\", \"Product\", \"Product\", \"Product\", \"Startup\", \"Startup\", \"Product\", \"Product\", \"Product\", \"Product\", \"Product\", \"Startup\", \"Product\", \"Product\", \"Startup\", \"Product\", \"Consulting / Agency\", \"Startup\", \"Consulting / Agency\", \"Product\", \"Product\", \"Product\", \"Bodyshop / Outsource\", \"Product\", \"Bodyshop / Outsource\", \"Product\", \"Startup\", \"Product\", \"Product\", \"Startup\", \"Product\", \"Startup\", \"Startup\", \"Product\", \"Startup\", \"Product\", \"Product\", \"Product\", \"Product\", \"Product\", \"Product\", \"Consulting / Agency\", \"Startup\", \"Product\", \"Product\", \"Product\", \"Product\", \"Product\", \"Startup\", \"Consulting / Agency\", \"Product\", \"Product\", \"Startup\", \"Product\", \"Product\", \"Product\", \"Product\", \"Product\", \"Product\", \"Product\", \"Product\", \"Startup\", \"Product\", \"Startup\", \"Consulting / Agency\", \"Consulting / Agency\", \"Product\", \"Product\", \"Consulting / Agency\", \"Consulting / Agency\", \"Consulting / Agency\", \"Product\", \"Product\", \"Startup\", \"Product\", \"Product\", \"Product\", \"Bodyshop / Outsource\", \"Product\", \"Product\", \"Consulting / Agency\", \"Startup\", \"Product\", \"Startup\", \"Startup\", \"Startup\", \"Consulting / Agency\", \"Consulting / Agency\", \"Product\", \"Product\", \"Product\", \"Startup\", \"Product\", \"Startup\", \"Startup\", \"Startup\", \"Product\", \"Consulting / Agency\", \"Consulting / Agency\", \"Startup\", \"Product\", \"Product\", \"Product\", \"University\", \"Bodyshop / Outsource\", \"Product\", \"Product\", \"Product\", \"Startup\", \"Product\", \"Bodyshop / Outsource\", \"Product\", \"Product\", \"Product\", \"Product\", \"Consulting / Agency\", \"Startup\", \"Product\", \"Product\", \"Product\", \"Product\", \"Consulting / Agency\", \"Startup\", \"Product\", \"Startup\", \"Product\", \"Product\", \"Product\", \"Product\", \"Product\", \"Startup\", \"Product\", \"Product\", \"Startup\", \"Consulting / Agency\", \"Product\", \"Product\", \"Consulting / Agency\", \"Product\", \"Product\", \"Product\", \"Product\", \"Product\", \"Startup\", \"Consulting / Agency\", \"Startup\", \"Consulting / Agency\", \"Product\", \"Product\", \"Startup\", \"Product\", \"Product\", \"Product\", \"Startup\", \"Product\", \"Consulting / Agency\", \"Startup\", \"Consulting / Agency\", \"Consulting / Agency\", \"Consulting / Agency\", \"Product\", \"Product\", \"Startup\", \"Product\", \"Product\", \"Startup\", \"Product\", \"Product\", \"Startup\", \"Consulting / Agency\", \"Product\", \"Product\", \"Product\", \"Product\", \"Startup\", \"Startup\", \"Consulting / Agency\", \"Product\", \"Product\", \"Startup\", \"Product\", \"Product\", \"Product\", \"Startup\", \"Startup\", \"Product\", \"Product\", \"Startup\", \"Product\", \"Product\", \"Product\", \"Product\", \"Product\", \"Startup\", \"Product\", \"Product\", \"Product\", \"Product\", \"Product\", \"Product\", \"Product\", \"Product\", \"Product\", \"Product\", \"Startup\", \"Product\", \"Product\", \"Startup\", \"Bodyshop / Outsource\", \"Startup\", \"Consulting / Agency\", \"Startup\", \"Product\", \"Product\", \"Product\", \"Startup\", \"Product\", \"Consulting / Agency\", \"Product\", \"Product\", \"Product\", \"Consulting / Agency\", \"Startup\", \"Product\", \"Startup\", \"Consulting / Agency\", \"Startup\", \"Product\", \"Product\", \"Product\", \"Consulting / Agency\", \"Product\", \"Product\", \"Product\", \"Consulting / Agency\", \"Consulting / Agency\", \"Product\", \"Product\", \"Product\", \"Product\", \"Product\", \"Consulting / Agency\", \"Product\", \"Product\", \"Consulting / Agency\", \"Product\", \"Product\", \"Product\", \"Startup\", \"Product\", \"Product\", \"Consulting / Agency\", \"Product\", \"Product\", \"Product\", \"Product\", \"Product\", \"Product\", \"Product\", \"Product\", \"Product\", \"Product\", \"Product\", \"Startup\", \"Product\", \"Product\", \"Product\", \"Product\", \"Product\", \"Product\", \"Consulting / Agency\", \"Product\", \"Bodyshop / Outsource\", \"Product\", \"Product\", \"Startup\", \"Product\", \"Product\", \"Consulting / Agency\", \"Product\", \"Product\", \"Consulting / Agency\", \"Product\", \"Startup\", \"Product\", \"Startup\", \"Startup\", \"Product\", \"Consulting / Agency\", \"Startup\", \"Product\", \"Consulting / Agency\", \"Consulting / Agency\", \"Product\", \"Product\", \"Product\", \"Product\", \"Product\", \"Product\", \"Startup\", \"Product\", \"Product\", \"Product\", \"Startup\", \"Product\", \"Product\", \"Startup\", \"Product\", \"Startup\", \"Product\", \"Product\", \"Consulting / Agency\", \"Product\", \"Product\", \"Startup\", \"Product\", \"Product\", \"Consulting / Agency\", \"Product\", \"Product\", \"Product\", \"Product\", \"Product\", \"Startup\", \"Startup\", \"Product\", \"Product\", \"Consulting / Agency\", \"Product\", \"Startup\", \"Consulting / Agency\", \"Bodyshop / Outsource\", \"Startup\", \"Startup\", \"Product\", \"Product\", \"Product\", \"Startup\", \"Startup\", \"Product\", \"Startup\", \"Product\", \"Product\", \"Bank\", \"Product\", \"Bodyshop / Outsource\", \"Product\", \"Startup\", \"University\", \"Product\", \"Product\", \"Product\", \"Product\", \"Product\", \"Product\", \"Startup\", \"Product\", \"Product\", \"Product\", \"Bodyshop / Outsource\", \"Startup\", \"Product\", \"Product\", \"Product\", \"Product\", \"Product\", \"Startup\", \"Product\", \"Product\", \"Product\", \"Startup\", \"Bodyshop / Outsource\", \"Product\", \"Product\", \"Startup\", \"Product\", \"Product\", \"Product\", \"Product\", \"Product\", \"Product\", \"Product\", \"Bodyshop / Outsource\", \"Consulting / Agency\", \"Product\", \"Product\", \"Product\", \"Product\", \"Product\", \"Product\", \"Product\", \"Startup\", \"Product\", \"Product\", \"Consulting / Agency\", \"Consulting / Agency\", \"Product\", \"Product\", \"Startup\", \"Consulting / Agency\", \"Startup\", \"Consulting / Agency\", \"Product\", \"Bodyshop / Outsource\", \"Product\", \"Product\", \"Product\", \"Product\", \"Bodyshop / Outsource\", \"Product\", \"Bodyshop / Outsource\", \"Bodyshop / Outsource\", \"Product\", \"Product\", \"Product\", \"Bank\", \"Consulting / Agency\", \"Startup\", \"Product\", \"Product\", \"Product\", \"Product\", \"Product\", \"Product\", \"Product\", \"Product\", \"Product\", \"Product\", \"Product\", \"Product\", \"Product\", \"Product\", \"Bank\", \"Product\", \"Product\", \"Product\", \"Startup\", \"Consulting / Agency\", \"Startup\", \"Product\", \"Product\", \"Product\", \"Product\", \"Consulting / Agency\", \"Consulting / Agency\", \"Startup\", \"Product\", \"Product\", \"Consulting / Agency\", \"Product\", \"Consulting / Agency\", \"Product\", \"Bank\", \"Product\", \"Startup\", \"Consulting / Agency\", \"Product\", \"Product\", \"Product\", \"University\", \"Startup\", \"Product\", \"Startup\", \"Product\", \"Product\", \"Product\", \"Product\", \"Startup\", \"Product\", \"Product\", \"Product\", \"Startup\", \"Startup\", \"Product\", \"Product\", \"Product\", \"Startup\", \"Consulting / Agency\", \"Consulting / Agency\", \"Product\", \"Product\", \"Startup\", \"Product\", \"Product\", \"Product\", \"Product\", \"Product\", \"Consulting / Agency\", \"Startup\", \"Consulting / Agency\", \"Consulting / Agency\", \"Startup\", \"Bodyshop / Outsource\", \"Product\", \"Startup\", \"Product\", \"Startup\", \"Product\", \"Consulting / Agency\", \"Product\", \"Product\", \"Product\", \"Product\", \"Product\", \"Startup\", \"Consulting / Agency\", \"Startup\", \"Product\", \"Product\", \"Product\", \"Consulting / Agency\", \"Product\", \"Product\", \"Product\", \"Product\", \"Startup\", \"Product\", \"Product\", \"Product\", \"Product\", \"Product\", \"Startup\", \"Product\", \"Startup\", \"Startup\", \"Product\", \"Bodyshop / Outsource\", \"Product\", \"Product\", \"Product\", \"Startup\", \"Product\", \"Startup\", \"Product\", \"Product\", \"Product\", \"Product\", \"Product\", \"Product\", \"Product\", \"Bodyshop / Outsource\", \"Product\", \"Product\", \"Product\", \"Consulting / Agency\", \"Startup\", \"Product\", \"University\", \"Product\", \"Bodyshop / Outsource\", \"Product\", \"Product\", \"Product\", \"Product\", \"Product\", \"Product\", \"Product\", \"Product\", \"Product\", \"Startup\", \"Product\", \"Consulting / Agency\", \"University\", \"Product\", \"Startup\", \"Product\", \"Startup\", \"Product\", \"Startup\", \"Product\", \"Product\", \"Consulting / Agency\", \"Product\", \"Startup\", \"Product\", \"Product\", \"Product\", \"Product\", \"Outsource\", \"Product\", \"Product\", \"Startup\", \"Product\", \"Product\", \"Product\", \"Product\", \"Product\", \"Product\", \"Product\", \"Product\", \"Bodyshop / Outsource\", \"Product\", \"Product\", \"Product\", \"Product\", \"Product\", \"Product\", \"Product\", \"Product\", \"Consulting / Agency\", \"Product\", \"Product\", \"Product\", \"University\", \"Consulting / Agency\", \"Consulting / Agency\", \"Consulting / Agency\", \"Product\", \"Consulting / Agency\", \"Product\", \"Consulting / Agency\", \"Startup\", \"Product\", \"Product\", \"Bank\", \"Product\", \"Product\", \"Consulting / Agency\", \"Startup\", \"Product\", \"Product\", \"Product\", \"Product\", \"Product\", \"Bank\", \"Product\", \"Product\", \"Consulting / Agency\"], \"y\": [377, 343, 130, 105, 28]}, {\"marker\": {\"color\": \"rgba(0, 255, 200, 0.8)\"}, \"mode\": \"markers\", \"name\": \"2020\", \"text\": [\"Product\", \"Product\", \"Product\", \"Startup\", \"Product\", \"Startup\", \"Product\", \"Product\", \"Product\", \"Product\", \"Consulting / Agency\", \"Product\", \"Product\", \"Startup\", \"Product\", \"Consulting / Agency\", \"Product\", \"Startup\", \"Product\", \"Product\", \"Product\", \"Product\", \"Product\", \"Product\", \"Product\", \"Product\", \"Product\", \"Media\", \"Product\", \"Product\", \"Product\", \"Startup\", \"Startup\", \"Startup\", \"Product\", \"Product\", \"Product\", \"Product\", \"Startup\", \"Startup\", \"Product\", \"Product\", \"Product\", \"Product\", \"Product\", \"Product\", \"Product\", \"Product\", \"Product\", \"Startup\", \"Product\", \"Startup\", \"Product\", \"Product\", \"Product\", \"Product\", \"Product\", \"Product\", \"Product\", \"Consulting / Agency\", \"Product\", \"Product\", \"Product\", \"Consulting / Agency\", \"Product\", \"Consulting / Agency\", \"Product\", \"Personal Ltd\", \"Startup\", \"Startup\", \"Product\", \"Consulting / Agency\", \"Product\", \"Startup\", \"Product\", \"Product\", \"Consulting / Agency\", \"Startup\", \"Product\", \"Product\", \"Startup\", \"Product\", \"Product\", \"Product\", \"Product\", \"Startup\", \"Product\", \"Startup\", \"Product\", \"Product\", \"Product\", \"Product\", \"Product\", \"Consulting / Agency\", \"Product\", \"Product\", \"Product\", \"Product\", \"Product\", \"Product\", \"Product\", \"Product\", \"Startup\", \"Product\", \"Startup\", \"Product\", \"Product\", \"Product\", \"Product\", \"Product\", \"Startup\", \"Product\", \"Product\", \"Startup\", \"Product\", \"Product\", \"Product\", \"Consulting / Agency\", \"Product\", \"Product\", \"Product\", \"Startup\", \"Product\", \"Product\", \"Product\", \"Startup\", \"Product\", \"Startup\", \"Product\", \"Startup\", \"Consulting / Agency\", \"Product\", \"Product\", \"Product\", \"Product\", \"Product\", \"Product\", \"Startup\", \"Product\", \"Product\", \"Cloud\", \"Product\", \"Startup\", \"Product\", \"Product\", \"Product\", \"Product\", \"Consulting / Agency\", \"Product\", \"Startup\", \"Product\", \"Startup\", \"Beh\\u00f6rde\", \"Product\", \"Product\", \"Product\", \"Product\", \"Product\", \"Consulting / Agency\", \"Consulting / Agency\", \"Product\", \"Startup\", \"Product\", \"Startup\", \"Startup\", \"Product\", \"Startup\", \"Consulting / Agency\", \"Product\", \"Product\", \"Consulting / Agency\", \"Startup\", \"Product\", \"Product\", \"Product\", \"Startup\", \"Product\", \"Product\", \"Startup\", \"Product\", \"Product\", \"Product\", \"Construction\", \"Product\", \"Product\", \"Product\", \"Product\", \"Product\", \"Product\", \"Startup\", \"Product\", \"Consulting / Agency\", \"Product\", \"Product\", \"Product\", \"Product\", \"Product\", \"Product\", \"Product\", \"Product\", \"Product\", \"Product\", \"Startup\", \"Consulting / Agency\", \"Product\", \"Big commercial\", \"Product\", \"Product\", \"Product\", \"Product\", \"Product\", \"Startup\", \"Product\", \"Startup\", \"Product\", \"Product\", \"Product\", \"Product\", \"Product\", \"Consulting / Agency\", \"Product\", \"Product\", \"Startup\", \"Product\", \"Consulting / Agency\", \"Product\", \"Product\", \"Consulting / Agency\", \"Consulting / Agency\", \"Consulting / Agency\", \"Product\", \"Product\", \"Product\", \"Product\", \"Outsorce\", \"Product\", \"Product\", \"Product\", \"Product\", \"Product\", \"Product\", \"Startup\", \"Consulting / Agency\", \"Bank \", \"Product\", \"Consulting / Agency\", \"Fintech\", \"Automotive\", \"Product\", \"Product\", \"Consulting / Agency\", \"Product\", \"Startup\", \"Consulting / Agency\", \"Product\", \"Startup\", \"Product\", \"Bank\", \"Product\", \"Startup\", \"Product\", \"Startup\", \"Product\", \"Startup\", \"Product\", \"Product\", \"Product\", \"Consulting / Agency\", \"Product\", \"IT Department of established business\", \"Product\", \"Startup\", \"Startup\", \"Product\", \"Telecommunications\", \"Product\", \"Product\", \"Product\", \"Startup\", \"Product\", \"Product\", \"Consulting / Agency\", \"Product\", \"Product\", \"Product\", \"Startup\", \"Startup\", \"Product\", \"Product\", \"Product\", \"Product\", \"Media\", \"Startup\", \"Product\", \"Product\", \"Product\", \"Product\", \"Product\", \"Product\", \"Product\", \"Product\", \"Product\", \"Product\", \"E-commerce\", \"Startup\", \"Product\", \"Startup\", \"Product\", \"Product\", \"Product\", \"Product\", \"Product\", \"Product\", \"Startup\", \"Product\", \"Consulting / Agency\", \"Product\", \"Product\", \"Product\", \"Product\", \"Product\", \"Product\", \"Product\", \"Product\", \"Consulting / Agency\", \"Product\", \"Product\", \"Product\", \"Product\", \"Product\", \"Bank\", \"Startup\", \"Product\", \"Product\", \"Product\", \"Product\", \"Startup\", \"Product\", \"Product\", \"Consulting / Agency\", \"Startup\", \"Consulting / Agency\", \"Consulting / Agency\", \"Product\", \"Product\", \"Product\", \"Systemhaus\", \"Consulting / Agency\", \"Product\", \"Product\", \"Product\", \"Product\", \"Product\", \"Product\", \"Consulting / Agency\", \"Product\", \"Product\", \"Product\", \"Consulting / Agency\", \"Product\", \"Startup\", \"Product\", \"Startup\", \"University\", \"Product\", \"Product\", \"Product\", \"Product\", \"Consulting / Agency\", \"Product\", \"Consulting / Agency\", \"Product\", \"Product\", \"Startup\", \"Product\", \"Product\", \"Product\", \"Product\", \"Startup\", \"Consulting / Agency\", \"Product\", \"Product\", \"Consulting / Agency\", \"Startup\", \"Product\", \"Startup\", \"Product\", \"Startup\", \"Startup\", \"Consulting / Agency\", \"Product\", \"Product\", \"Product\", \"Startup\", \"Product\", \"consumer goods\", \"Startup\", \"Product\", \"Product\", \"Product\", \"IT-Outsourcing\", \"Product\", \"Product\", \"Product\", \"Product\", \"Startup\", \"Product\", \"Product\", \"Product\", \"Startup\", \"Product\", \"Startup\", \"Product\", \"Product\", \"Startup\", \"Product\", \"Startup\", \"Product\", \"Product\", \"Startup\", \"Product\", \"Product\", \"Startup\", \"Consulting / Agency\", \"Product\", \"Startup\", \"Startup\", \"Product\", \"Product\", \"Startup\", \"Product\", \"Product\", \"Startup\", \"Product\", \"Startup\", \"Product\", \"Product\", \"Product\", \"Product\", \"Product\", \"Game Company\", \"Product\", \"Product\", \"Product\", \"Product\", \"Startup\", \"Consulting / Agency\", \"Startup\", \"Product\", \"Product\", \"Consulting / Agency\", \"Product\", \"Product\", \"Financial \", \"Product\", \"Product\", \"Startup\", \"Product\", \"Startup\", \"Product\", \"Consulting / Agency\", \"Consulting / Agency\", \"Product\", \"Product\", \"Product\", \"Product\", \"Consulting / Agency\", \"E-commerce\", \"Product\", \"Startup\", \"Product\", \"Product\", \"Product\", \"Startup\", \"Corporation\", \"Startup\", \"Product\", \"Product\", \"Product\", \"Product\", \"Publishing and Technology\", \"Product\", \"Startup\", \"Startup\", \"Startup\", \"Product\", \"Product\", \"Product\", \"Startup\", \"Product\", \"Startup\", \"Product\", \"Product\", \"Startup\", \"Startup\", \"Startup\", \"Consulting / Agency\", \"Consulting / Agency\", \"Startup\", \"Product\", \"Startup\", \"Product\", \"Market Research \", \"Consulting / Agency\", \"Startup\", \"Consulting / Agency\", \"Consulting / Agency\", \"Startup\", \"Product\", \"Product\", \"Product\", \"Consulting / Agency\", \"Product\", \"Product\", \"Product\", \"Startup\", \"e-commerce\", \"Product\", \"Product\", \"Product\", \"Product\", \"Startup\", \"Product\", \"Product\", \"Product\", \"Product\", \"Product\", \"Product\", \"Product\", \"SaaS\", \"Startup\", \"Product\", \"Product\", \"Startup\", \"Startup\", \"Startup\", \"Product\", \"Product\", \"Product\", \"Startup\", \"Consulting / Agency\", \"Consulting / Agency\", \"Startup\", \"Startup\", \"Startup\", \"Product\", \"Product\", \"Product\", \"Product\", \"Product\", \"Product\", \"Product\", \"Startup\", \"Product\", \"Startup\", \"Product\", \"Startup\", \"Startup\", \"Product\", \"Product\", \"Product\", \"Product\", \"Product\", \"Product\", \"Consulting / Agency\", \"Product\", \"Startup\", \"Publisher\", \"Product\", \"Startup\", \"Consulting / Agency\", \"E-commerce\", \"Startup\", \"Product\", \"Consulting / Agency\", \"Startup\", \"Product\", \"Startup\", \"Product\", \"Product\", \"Product\", \"Startup\", \"Product\", \"University\", \"Product\", \"Product\", \"Product\", \"Product\", \"Product\", \"Startup\", \"Product\", \"Product\", \"Product\", \"Product\", \"Energy \", \"Startup\", \"Product\", \"Product\", \"Product\", \"Product\", \"Product\", \"Product\", \"Startup\", \"Product\", \"Product\", \"Product\", \"Startup\", \"Startup\", \"Startup\", \"Product\", \"Startup\", \"Product\", \"Product\", \"Product\", \"Product\", \"Product\", \"Enterprise\", \"Product\", \"Product\", \"Startup\", \"Product\", \"Product\", \"Product\", \"Product\", \"Consulting / Agency\", \"Consulting / Agency\", \"Product\", \"Product\", \"Startup\", \"Consulting / Agency\", \"Bloody enterprise\", \"service\", \"Startup\", \"Product\", \"Product\", \"Startup\", \"Consulting / Agency\", \"Concern\", \"Startup\", \"Product\", \"Consulting / Agency\", \"Product\", \"Product\", \"Product\", \"Product\", \"Product\", \"Startup\", \"Product\", \"Product\", \"Product\", \"Utilities\", \"Product\", \"Product\", \"Product\", \"Startup\", \"Product\", \"Bank\", \"Product\", \"Product\", \"Product\", \"Product\", \"Product\", \"Product\", \"Product\", \"Startup\", \"Product\", \"Product\", \"Product\", \"Consulting / Agency\", \"Product\", \"Product\", \"Product\", \"Product\", \"Product\", \"Product\", \"Product\", \"Product\", \"Product\", \"Product\", \"Product\", \"Product\", \"Startup\", \"Consulting / Agency\", \"Product\", \"Product\", \"Product\", \"Corporation\", \"Startup\", \"Product\", \"Product\", \"Product\", \"Consulting / Agency\", \"Product\", \"Product\", \"Startup\", \"Product\", \"Product\", \"Product\", \"Product\", \"Startup\", \"Consulting / Agency\", \"Product\", \"Product\", \"Product\", \"Product\", \"Product\", \"Startup\", \"Product\", \"Product\", \"Product\", \"Insurance\", \"Consulting / Agency\", \"Startup\", \"Consulting / Agency\", \"Startup\", \"Product\", \"Product\", \"Product\", \"Consulting / Agency\", \"Product\", \"Product\", \"Product\", \"Product\", \"Consulting / Agency\", \"Product\", \"Product\", \"Consulting / Agency\", \"Product\", \"Product\", \"Product\", \"Startup\", \"Product\", \"Startup\", \"Product\", \"Startup\", \"Product\", \"Consulting / Agency\", \"Product\", \"Startup\", \"Startup\", \"Product\", \"Startup\", \"Product\", \"Science Institute \", \"Product\", \"Research institute\", \"Startup\", \"Product\", \"Startup\", \"Product\", \"Product\", \"Product\", \"Product\", \"Startup\", \"Product\", \"Product\", \"Startup\", \"Product\", \"Product\", \"Retail\", \"Consulting / Agency\", \"Startup\", \"Consulting / Agency\", \"Product\", \"Startup\", \"Product\", \"Product\", \"Product\", \"Product\", \"Ecommerce\", \"Consulting / Agency\", \"Product\", \"Product\", \"Startup\", \"Product\", \"Product\", \"Product\", \"E-Commerce\", \"Product\", \"Product\", \"Product\", \"Product\", \"Product\", \"Product\", \"Product\", \"Startup\", \"Startup\", \"Product\", \"Product\", \"Product\", \"Startup\", \"Product\", \"Product\", \"Consulting / Agency\", \"Startup\", \"Consulting / Agency\", \"Product\", \"Product\", \"Product\", \"Product\", \"Product\", \"Consulting / Agency\", \"Product\", \"Product\", \"Product\", \"Startup\", \"Product\", \"Product\", \"Product\", \"Product\", \"Product\", \"Product\", \"Product\", \"Product\", \"Product\", \"Startup\", \"Product\", \"Consulting / Agency\", \"Startup\", \"Product\", \"Product\", \"Startup\", \"Product\", \"Consulting / Agency\", \"Product\", \"Consulting / Agency\", \"Product\", \"Product\", \"Startup\", \"Product\", \"Consulting / Agency\", \"Startup\", \"Product\", \"Product\", \"Consulting / Agency\", \"Product\", \"Consulting / Agency\", \"Consulting / Agency\", \"Startup\", \"Consulting / Agency\", \"Product\", \"Product\", \"Product\", \"Consulting / Agency\", \"Semiconductor\", \"Startup\", \"Product\", \"Media\", \"Product\", \"Product\", \"Product\", \"Consulting / Agency\", \"Product\", \"Startup\", \"Consulting / Agency\", \"Startup\", \"Consulting / Agency\", \"Consulting / Agency\", \"Product\", \"Startup\", \"Product\", \"Product\", \"Product\", \"Product\", \"Product\", \"Consulting / Agency\", \"Product\", \"Product\", \"Product\", \"Startup\", \"Consulting / Agency\", \"Product\", \"Product\", \"Consulting / Agency\", \"Product\", \"Product\", \"Consulting / Agency\", \"Product\", \"Startup\", \"Product\", \"Startup\", \"Product\", \"Product\", \"Consulting / Agency\", \"Automotive \", \"Startup\", \"Product\", \"Product\", \"Product\", \"Product\", \"Startup\", \"Product\", \"Consulting / Agency\", \"Product\", \"Product\", \"Product\", \"Startup\", \"Product\", \"Utilities\", \"Consulting / Agency\", \"Product\", \"Institute\", \"Startup\", \"Product\", \"Product\", \"Product\", \"Startup\", \"Product\", \"Startup\", \"Startup\", \"Finance\", \"Product\", \"Consulting / Agency\", \"Product\", \"Fintech\", \"Product\", \"Handel \", \"Consulting and Product\", \"Consulting / Agency\", \"Consulting / Agency\", \"Product\", \"Product\", \"Product\", \"Product\", \"Startup\", \"Product\", \"Product\", \"Consulting / Agency\", \"Product\", \"Startup\", \"Startup\", \"Startup\", \"Product\", \"Consulting / Agency\", \"Startup\", \"Product\", \"Consulting / Agency\", \"Education\", \"Product\", \"Product\", \"Product\", \"Startup\", \"Product\", \"Product\", \"Consulting / Agency\", \"Product\", \"Product\", \"Product\", \"Startup\", \"Startup\", \"Consulting / Agency\", \"Product\", \"Startup\", \"Consulting / Agency\", \"Startup\", \"Startup\", \"Pharma\", \"Product\", \"Product\", \"Startup\", \"Startup\", \"Startup\", \"Full-time position in Education, part-time position in at a data startup\", \"Product\", \"Startup\", \"Startup\", \"Startup\", \"Startup\", \"Startup\", \"Startup\", \"Product\", \"Startup\", \"Product\", \"Startup\", \"Product\", \"Startup\", \"Product\", \"Product\", \"Product\", \"Startup\", \"Product\", \"Bank\", \"Corporation \", \"Product\", \"Product\", \"Product\", \"Startup\", \"Product\", \"Product\", \"Product\", \"Transport & Logistics\", \"Product\", \"Product\", \"Product\", \"Consulting / Agency\", \"Product\", \"Product\", \"Product\", \"Product\", \"Product\", \"Product\", \"Startup\", \"Consulting / Agency\", \"Product\", \"Product\", \"Product\", \"Biergarten \", \"Product\", \"Startup\", \"Product\", \"Product\", \"Product\", \"Product\", \"Non-tech retail\", \"Product\", \"Product\", \"Consulting / Agency\", \"Startup\", \"Product\", \"Consulting / Agency\", \"Startup\", \"Finance\", \"Product\", \"Product\", \"Research\", \"Product\", \"Product\", \"Consulting / Agency\", \"Product\", \"Product\", \"Product\", \"Product\", \"Product\", \"Product\", \"Product\", \"Startup\", \"Product\", \"Product\", \"Startup\", \"Product\", \"Product\", \"Product\", \"Product\", \"Product\", \"Product\", \"Startup\", \"Product\", \"Product\", \"Product\", \"Startup\", \"Startup\", \"Product\", \"Startup\", \"Consulting / Agency\", \"Product\", \"Startup\", \"Startup\", \"Product\", \"Consulting / Agency\", \"Product\", \"Product\", \"Startup\", \"Consulting / Agency\", \"Product\", \"Product\", \"Product\", \"corporate incubator\", \"Startup\", \"Product\", \"Consulting / Agency\", \"Consulting / Agency\", \"Multinational \", \"Product\", \"Product\", \"Startup\", \"Product\", \"Product\", \"Startup\", \"Product\", \"Product\", \"Industry\", \"Consulting / Agency\", \"Product\", \"Consulting / Agency\", \"Product\", \"Startup\", \"Bank\", \"Product\", \"Product\", \"Product\", \"Consulting / Agency\", \"Product\", \"Product\", \"Product\", \"Product\", \"Startup\", \"Consulting / Agency\", \"Product\", \"Product\", \"Product\", \"Product\", \"Consulting / Agency\", \"Product\", \"Product\", \"Product\", \"Product\", \"FAANG\", \"Consulting / Agency\", \"Consulting / Agency\", \"Product\", \"Startup\", \"Product\", \"Product\", \"Consulting / Agency\", \"Product\", \"Product\", \"Consulting / Agency\", \"Product\", \"Startup\", \"Startup\", \"Product\", \"Consulting / Agency\", \"Product\", \"Old industry\", \"Product\", \"Product\", \"Product\", \"Consulting / Agency\", \"Product\", \"Product\", \"Product\", \"Product\", \"Startup\", \"Product\", \"Product\", \"Startup\", \"Startup\", \"Product\", \"Startup\", \"Startup\", \"Startup\", \"Consulting / Agency\", \"Product\", \"Product\", \"Startup\", \"Product\", \"Startup\", \"Product\", \"Product\", \"Product\", \"Product\", \"Consulting / Agency\", \"Product\", \"Product\", \"Product\", \"Startup\", \"Product\", \"Startup\", \"Product\", \"Product\", \"Product\", \"Product\", \"Product\", \"Product\", \"Product\", \"Product\", \"Product\", \"Consulting / Agency\", \"Consulting / Agency\", \"Product\", \"Startup\", \"Product\", \"Product\", \"Startup\", \"Product\", \"Product\", \"Consulting / Agency\", \"Consulting / Agency\", \"Startup\", \"Consulting / Agency\", \"Product\", \"Consulting / Agency\", \"Startup\", \"Consulting / Agency\", \"Consulting / Agency\", \"Startup\", \"Product\", \"Product\", \"Outsourse\", \"Startup\", \"Product\", \"Product\", \"Product\", \"Product\", \"Startup\", \"Product\", \"Product\", \"Product\", \"Product\", \"Product\", \"Product\", \"Startup\", \"Product\", \"Product\", \"Startup\", \"Product\", \"Product\", \"Consulting / Agency\", \"freelance\", \"Startup\", \"Product\", \"Consulting / Agency\", \"Startup\", \"Product\", \"Product\", \"Product\", \"Product\", \"Consulting / Agency\", \"Product\", \"Product\", \"Product\", \"Product\", \"Product\", \"Product\", \"Product\", \"Product\", \"Product\", \"Product\", \"Startup\", \"Product\", \"Product\", \"Startup\", \"Product\", \"Product\", \"eCommerce\", \"Product\", \"Startup\"], \"type\": \"scatter\", \"x\": [\"Product\", \"Product\", \"Product\", \"Startup\", \"Product\", \"Startup\", \"Product\", \"Product\", \"Product\", \"Product\", \"Consulting / Agency\", \"Product\", \"Product\", \"Startup\", \"Product\", \"Consulting / Agency\", \"Product\", \"Startup\", \"Product\", \"Product\", \"Product\", \"Product\", \"Product\", \"Product\", \"Product\", \"Product\", \"Product\", \"Media\", \"Product\", \"Product\", \"Product\", \"Startup\", \"Startup\", \"Startup\", \"Product\", \"Product\", \"Product\", \"Product\", \"Startup\", \"Startup\", \"Product\", \"Product\", \"Product\", \"Product\", \"Product\", \"Product\", \"Product\", \"Product\", \"Product\", \"Startup\", \"Product\", \"Startup\", \"Product\", \"Product\", \"Product\", \"Product\", \"Product\", \"Product\", \"Product\", \"Consulting / Agency\", \"Product\", \"Product\", \"Product\", \"Consulting / Agency\", \"Product\", \"Consulting / Agency\", \"Product\", \"Personal Ltd\", \"Startup\", \"Startup\", \"Product\", \"Consulting / Agency\", \"Product\", \"Startup\", \"Product\", \"Product\", \"Consulting / Agency\", \"Startup\", \"Product\", \"Product\", \"Startup\", \"Product\", \"Product\", \"Product\", \"Product\", \"Startup\", \"Product\", \"Startup\", \"Product\", \"Product\", \"Product\", \"Product\", \"Product\", \"Consulting / Agency\", \"Product\", \"Product\", \"Product\", \"Product\", \"Product\", \"Product\", \"Product\", \"Product\", \"Startup\", \"Product\", \"Startup\", \"Product\", \"Product\", \"Product\", \"Product\", \"Product\", \"Startup\", \"Product\", \"Product\", \"Startup\", \"Product\", \"Product\", \"Product\", \"Consulting / Agency\", \"Product\", \"Product\", \"Product\", \"Startup\", \"Product\", \"Product\", \"Product\", \"Startup\", \"Product\", \"Startup\", \"Product\", \"Startup\", \"Consulting / Agency\", \"Product\", \"Product\", \"Product\", \"Product\", \"Product\", \"Product\", \"Startup\", \"Product\", \"Product\", \"Cloud\", \"Product\", \"Startup\", \"Product\", \"Product\", \"Product\", \"Product\", \"Consulting / Agency\", \"Product\", \"Startup\", \"Product\", \"Startup\", \"Beh\\u00f6rde\", \"Product\", \"Product\", \"Product\", \"Product\", \"Product\", \"Consulting / Agency\", \"Consulting / Agency\", \"Product\", \"Startup\", \"Product\", \"Startup\", \"Startup\", \"Product\", \"Startup\", \"Consulting / Agency\", \"Product\", \"Product\", \"Consulting / Agency\", \"Startup\", \"Product\", \"Product\", \"Product\", \"Startup\", \"Product\", \"Product\", \"Startup\", \"Product\", \"Product\", \"Product\", \"Construction\", \"Product\", \"Product\", \"Product\", \"Product\", \"Product\", \"Product\", \"Startup\", \"Product\", \"Consulting / Agency\", \"Product\", \"Product\", \"Product\", \"Product\", \"Product\", \"Product\", \"Product\", \"Product\", \"Product\", \"Product\", \"Startup\", \"Consulting / Agency\", \"Product\", \"Big commercial\", \"Product\", \"Product\", \"Product\", \"Product\", \"Product\", \"Startup\", \"Product\", \"Startup\", \"Product\", \"Product\", \"Product\", \"Product\", \"Product\", \"Consulting / Agency\", \"Product\", \"Product\", \"Startup\", \"Product\", \"Consulting / Agency\", \"Product\", \"Product\", \"Consulting / Agency\", \"Consulting / Agency\", \"Consulting / Agency\", \"Product\", \"Product\", \"Product\", \"Product\", \"Outsorce\", \"Product\", \"Product\", \"Product\", \"Product\", \"Product\", \"Product\", \"Startup\", \"Consulting / Agency\", \"Bank \", \"Product\", \"Consulting / Agency\", \"Fintech\", \"Automotive\", \"Product\", \"Product\", \"Consulting / Agency\", \"Product\", \"Startup\", \"Consulting / Agency\", \"Product\", \"Startup\", \"Product\", \"Bank\", \"Product\", \"Startup\", \"Product\", \"Startup\", \"Product\", \"Startup\", \"Product\", \"Product\", \"Product\", \"Consulting / Agency\", \"Product\", \"IT Department of established business\", \"Product\", \"Startup\", \"Startup\", \"Product\", \"Telecommunications\", \"Product\", \"Product\", \"Product\", \"Startup\", \"Product\", \"Product\", \"Consulting / Agency\", \"Product\", \"Product\", \"Product\", \"Startup\", \"Startup\", \"Product\", \"Product\", \"Product\", \"Product\", \"Media\", \"Startup\", \"Product\", \"Product\", \"Product\", \"Product\", \"Product\", \"Product\", \"Product\", \"Product\", \"Product\", \"Product\", \"E-commerce\", \"Startup\", \"Product\", \"Startup\", \"Product\", \"Product\", \"Product\", \"Product\", \"Product\", \"Product\", \"Startup\", \"Product\", \"Consulting / Agency\", \"Product\", \"Product\", \"Product\", \"Product\", \"Product\", \"Product\", \"Product\", \"Product\", \"Consulting / Agency\", \"Product\", \"Product\", \"Product\", \"Product\", \"Product\", \"Bank\", \"Startup\", \"Product\", \"Product\", \"Product\", \"Product\", \"Startup\", \"Product\", \"Product\", \"Consulting / Agency\", \"Startup\", \"Consulting / Agency\", \"Consulting / Agency\", \"Product\", \"Product\", \"Product\", \"Systemhaus\", \"Consulting / Agency\", \"Product\", \"Product\", \"Product\", \"Product\", \"Product\", \"Product\", \"Consulting / Agency\", \"Product\", \"Product\", \"Product\", \"Consulting / Agency\", \"Product\", \"Startup\", \"Product\", \"Startup\", \"University\", \"Product\", \"Product\", \"Product\", \"Product\", \"Consulting / Agency\", \"Product\", \"Consulting / Agency\", \"Product\", \"Product\", \"Startup\", \"Product\", \"Product\", \"Product\", \"Product\", \"Startup\", \"Consulting / Agency\", \"Product\", \"Product\", \"Consulting / Agency\", \"Startup\", \"Product\", \"Startup\", \"Product\", \"Startup\", \"Startup\", \"Consulting / Agency\", \"Product\", \"Product\", \"Product\", \"Startup\", \"Product\", \"consumer goods\", \"Startup\", \"Product\", \"Product\", \"Product\", \"IT-Outsourcing\", \"Product\", \"Product\", \"Product\", \"Product\", \"Startup\", \"Product\", \"Product\", \"Product\", \"Startup\", \"Product\", \"Startup\", \"Product\", \"Product\", \"Startup\", \"Product\", \"Startup\", \"Product\", \"Product\", \"Startup\", \"Product\", \"Product\", \"Startup\", \"Consulting / Agency\", \"Product\", \"Startup\", \"Startup\", \"Product\", \"Product\", \"Startup\", \"Product\", \"Product\", \"Startup\", \"Product\", \"Startup\", \"Product\", \"Product\", \"Product\", \"Product\", \"Product\", \"Game Company\", \"Product\", \"Product\", \"Product\", \"Product\", \"Startup\", \"Consulting / Agency\", \"Startup\", \"Product\", \"Product\", \"Consulting / Agency\", \"Product\", \"Product\", \"Financial \", \"Product\", \"Product\", \"Startup\", \"Product\", \"Startup\", \"Product\", \"Consulting / Agency\", \"Consulting / Agency\", \"Product\", \"Product\", \"Product\", \"Product\", \"Consulting / Agency\", \"E-commerce\", \"Product\", \"Startup\", \"Product\", \"Product\", \"Product\", \"Startup\", \"Corporation\", \"Startup\", \"Product\", \"Product\", \"Product\", \"Product\", \"Publishing and Technology\", \"Product\", \"Startup\", \"Startup\", \"Startup\", \"Product\", \"Product\", \"Product\", \"Startup\", \"Product\", \"Startup\", \"Product\", \"Product\", \"Startup\", \"Startup\", \"Startup\", \"Consulting / Agency\", \"Consulting / Agency\", \"Startup\", \"Product\", \"Startup\", \"Product\", \"Market Research \", \"Consulting / Agency\", \"Startup\", \"Consulting / Agency\", \"Consulting / Agency\", \"Startup\", \"Product\", \"Product\", \"Product\", \"Consulting / Agency\", \"Product\", \"Product\", \"Product\", \"Startup\", \"e-commerce\", \"Product\", \"Product\", \"Product\", \"Product\", \"Startup\", \"Product\", \"Product\", \"Product\", \"Product\", \"Product\", \"Product\", \"Product\", \"SaaS\", \"Startup\", \"Product\", \"Product\", \"Startup\", \"Startup\", \"Startup\", \"Product\", \"Product\", \"Product\", \"Startup\", \"Consulting / Agency\", \"Consulting / Agency\", \"Startup\", \"Startup\", \"Startup\", \"Product\", \"Product\", \"Product\", \"Product\", \"Product\", \"Product\", \"Product\", \"Startup\", \"Product\", \"Startup\", \"Product\", \"Startup\", \"Startup\", \"Product\", \"Product\", \"Product\", \"Product\", \"Product\", \"Product\", \"Consulting / Agency\", \"Product\", \"Startup\", \"Publisher\", \"Product\", \"Startup\", \"Consulting / Agency\", \"E-commerce\", \"Startup\", \"Product\", \"Consulting / Agency\", \"Startup\", \"Product\", \"Startup\", \"Product\", \"Product\", \"Product\", \"Startup\", \"Product\", \"University\", \"Product\", \"Product\", \"Product\", \"Product\", \"Product\", \"Startup\", \"Product\", \"Product\", \"Product\", \"Product\", \"Energy \", \"Startup\", \"Product\", \"Product\", \"Product\", \"Product\", \"Product\", \"Product\", \"Startup\", \"Product\", \"Product\", \"Product\", \"Startup\", \"Startup\", \"Startup\", \"Product\", \"Startup\", \"Product\", \"Product\", \"Product\", \"Product\", \"Product\", \"Enterprise\", \"Product\", \"Product\", \"Startup\", \"Product\", \"Product\", \"Product\", \"Product\", \"Consulting / Agency\", \"Consulting / Agency\", \"Product\", \"Product\", \"Startup\", \"Consulting / Agency\", \"Bloody enterprise\", \"service\", \"Startup\", \"Product\", \"Product\", \"Startup\", \"Consulting / Agency\", \"Concern\", \"Startup\", \"Product\", \"Consulting / Agency\", \"Product\", \"Product\", \"Product\", \"Product\", \"Product\", \"Startup\", \"Product\", \"Product\", \"Product\", \"Utilities\", \"Product\", \"Product\", \"Product\", \"Startup\", \"Product\", \"Bank\", \"Product\", \"Product\", \"Product\", \"Product\", \"Product\", \"Product\", \"Product\", \"Startup\", \"Product\", \"Product\", \"Product\", \"Consulting / Agency\", \"Product\", \"Product\", \"Product\", \"Product\", \"Product\", \"Product\", \"Product\", \"Product\", \"Product\", \"Product\", \"Product\", \"Product\", \"Startup\", \"Consulting / Agency\", \"Product\", \"Product\", \"Product\", \"Corporation\", \"Startup\", \"Product\", \"Product\", \"Product\", \"Consulting / Agency\", \"Product\", \"Product\", \"Startup\", \"Product\", \"Product\", \"Product\", \"Product\", \"Startup\", \"Consulting / Agency\", \"Product\", \"Product\", \"Product\", \"Product\", \"Product\", \"Startup\", \"Product\", \"Product\", \"Product\", \"Insurance\", \"Consulting / Agency\", \"Startup\", \"Consulting / Agency\", \"Startup\", \"Product\", \"Product\", \"Product\", \"Consulting / Agency\", \"Product\", \"Product\", \"Product\", \"Product\", \"Consulting / Agency\", \"Product\", \"Product\", \"Consulting / Agency\", \"Product\", \"Product\", \"Product\", \"Startup\", \"Product\", \"Startup\", \"Product\", \"Startup\", \"Product\", \"Consulting / Agency\", \"Product\", \"Startup\", \"Startup\", \"Product\", \"Startup\", \"Product\", \"Science Institute \", \"Product\", \"Research institute\", \"Startup\", \"Product\", \"Startup\", \"Product\", \"Product\", \"Product\", \"Product\", \"Startup\", \"Product\", \"Product\", \"Startup\", \"Product\", \"Product\", \"Retail\", \"Consulting / Agency\", \"Startup\", \"Consulting / Agency\", \"Product\", \"Startup\", \"Product\", \"Product\", \"Product\", \"Product\", \"Ecommerce\", \"Consulting / Agency\", \"Product\", \"Product\", \"Startup\", \"Product\", \"Product\", \"Product\", \"E-Commerce\", \"Product\", \"Product\", \"Product\", \"Product\", \"Product\", \"Product\", \"Product\", \"Startup\", \"Startup\", \"Product\", \"Product\", \"Product\", \"Startup\", \"Product\", \"Product\", \"Consulting / Agency\", \"Startup\", \"Consulting / Agency\", \"Product\", \"Product\", \"Product\", \"Product\", \"Product\", \"Consulting / Agency\", \"Product\", \"Product\", \"Product\", \"Startup\", \"Product\", \"Product\", \"Product\", \"Product\", \"Product\", \"Product\", \"Product\", \"Product\", \"Product\", \"Startup\", \"Product\", \"Consulting / Agency\", \"Startup\", \"Product\", \"Product\", \"Startup\", \"Product\", \"Consulting / Agency\", \"Product\", \"Consulting / Agency\", \"Product\", \"Product\", \"Startup\", \"Product\", \"Consulting / Agency\", \"Startup\", \"Product\", \"Product\", \"Consulting / Agency\", \"Product\", \"Consulting / Agency\", \"Consulting / Agency\", \"Startup\", \"Consulting / Agency\", \"Product\", \"Product\", \"Product\", \"Consulting / Agency\", \"Semiconductor\", \"Startup\", \"Product\", \"Media\", \"Product\", \"Product\", \"Product\", \"Consulting / Agency\", \"Product\", \"Startup\", \"Consulting / Agency\", \"Startup\", \"Consulting / Agency\", \"Consulting / Agency\", \"Product\", \"Startup\", \"Product\", \"Product\", \"Product\", \"Product\", \"Product\", \"Consulting / Agency\", \"Product\", \"Product\", \"Product\", \"Startup\", \"Consulting / Agency\", \"Product\", \"Product\", \"Consulting / Agency\", \"Product\", \"Product\", \"Consulting / Agency\", \"Product\", \"Startup\", \"Product\", \"Startup\", \"Product\", \"Product\", \"Consulting / Agency\", \"Automotive \", \"Startup\", \"Product\", \"Product\", \"Product\", \"Product\", \"Startup\", \"Product\", \"Consulting / Agency\", \"Product\", \"Product\", \"Product\", \"Startup\", \"Product\", \"Utilities\", \"Consulting / Agency\", \"Product\", \"Institute\", \"Startup\", \"Product\", \"Product\", \"Product\", \"Startup\", \"Product\", \"Startup\", \"Startup\", \"Finance\", \"Product\", \"Consulting / Agency\", \"Product\", \"Fintech\", \"Product\", \"Handel \", \"Consulting and Product\", \"Consulting / Agency\", \"Consulting / Agency\", \"Product\", \"Product\", \"Product\", \"Product\", \"Startup\", \"Product\", \"Product\", \"Consulting / Agency\", \"Product\", \"Startup\", \"Startup\", \"Startup\", \"Product\", \"Consulting / Agency\", \"Startup\", \"Product\", \"Consulting / Agency\", \"Education\", \"Product\", \"Product\", \"Product\", \"Startup\", \"Product\", \"Product\", \"Consulting / Agency\", \"Product\", \"Product\", \"Product\", \"Startup\", \"Startup\", \"Consulting / Agency\", \"Product\", \"Startup\", \"Consulting / Agency\", \"Startup\", \"Startup\", \"Pharma\", \"Product\", \"Product\", \"Startup\", \"Startup\", \"Startup\", \"Full-time position in Education, part-time position in at a data startup\", \"Product\", \"Startup\", \"Startup\", \"Startup\", \"Startup\", \"Startup\", \"Startup\", \"Product\", \"Startup\", \"Product\", \"Startup\", \"Product\", \"Startup\", \"Product\", \"Product\", \"Product\", \"Startup\", \"Product\", \"Bank\", \"Corporation \", \"Product\", \"Product\", \"Product\", \"Startup\", \"Product\", \"Product\", \"Product\", \"Transport & Logistics\", \"Product\", \"Product\", \"Product\", \"Consulting / Agency\", \"Product\", \"Product\", \"Product\", \"Product\", \"Product\", \"Product\", \"Startup\", \"Consulting / Agency\", \"Product\", \"Product\", \"Product\", \"Biergarten \", \"Product\", \"Startup\", \"Product\", \"Product\", \"Product\", \"Product\", \"Non-tech retail\", \"Product\", \"Product\", \"Consulting / Agency\", \"Startup\", \"Product\", \"Consulting / Agency\", \"Startup\", \"Finance\", \"Product\", \"Product\", \"Research\", \"Product\", \"Product\", \"Consulting / Agency\", \"Product\", \"Product\", \"Product\", \"Product\", \"Product\", \"Product\", \"Product\", \"Startup\", \"Product\", \"Product\", \"Startup\", \"Product\", \"Product\", \"Product\", \"Product\", \"Product\", \"Product\", \"Startup\", \"Product\", \"Product\", \"Product\", \"Startup\", \"Startup\", \"Product\", \"Startup\", \"Consulting / Agency\", \"Product\", \"Startup\", \"Startup\", \"Product\", \"Consulting / Agency\", \"Product\", \"Product\", \"Startup\", \"Consulting / Agency\", \"Product\", \"Product\", \"Product\", \"corporate incubator\", \"Startup\", \"Product\", \"Consulting / Agency\", \"Consulting / Agency\", \"Multinational \", \"Product\", \"Product\", \"Startup\", \"Product\", \"Product\", \"Startup\", \"Product\", \"Product\", \"Industry\", \"Consulting / Agency\", \"Product\", \"Consulting / Agency\", \"Product\", \"Startup\", \"Bank\", \"Product\", \"Product\", \"Product\", \"Consulting / Agency\", \"Product\", \"Product\", \"Product\", \"Product\", \"Startup\", \"Consulting / Agency\", \"Product\", \"Product\", \"Product\", \"Product\", \"Consulting / Agency\", \"Product\", \"Product\", \"Product\", \"Product\", \"FAANG\", \"Consulting / Agency\", \"Consulting / Agency\", \"Product\", \"Startup\", \"Product\", \"Product\", \"Consulting / Agency\", \"Product\", \"Product\", \"Consulting / Agency\", \"Product\", \"Startup\", \"Startup\", \"Product\", \"Consulting / Agency\", \"Product\", \"Old industry\", \"Product\", \"Product\", \"Product\", \"Consulting / Agency\", \"Product\", \"Product\", \"Product\", \"Product\", \"Startup\", \"Product\", \"Product\", \"Startup\", \"Startup\", \"Product\", \"Startup\", \"Startup\", \"Startup\", \"Consulting / Agency\", \"Product\", \"Product\", \"Startup\", \"Product\", \"Startup\", \"Product\", \"Product\", \"Product\", \"Product\", \"Consulting / Agency\", \"Product\", \"Product\", \"Product\", \"Startup\", \"Product\", \"Startup\", \"Product\", \"Product\", \"Product\", \"Product\", \"Product\", \"Product\", \"Product\", \"Product\", \"Product\", \"Consulting / Agency\", \"Consulting / Agency\", \"Product\", \"Startup\", \"Product\", \"Product\", \"Startup\", \"Product\", \"Product\", \"Consulting / Agency\", \"Consulting / Agency\", \"Startup\", \"Consulting / Agency\", \"Product\", \"Consulting / Agency\", \"Startup\", \"Consulting / Agency\", \"Consulting / Agency\", \"Startup\", \"Product\", \"Product\", \"Outsourse\", \"Startup\", \"Product\", \"Product\", \"Product\", \"Product\", \"Startup\", \"Product\", \"Product\", \"Product\", \"Product\", \"Product\", \"Product\", \"Startup\", \"Product\", \"Product\", \"Startup\", \"Product\", \"Product\", \"Consulting / Agency\", \"freelance\", \"Startup\", \"Product\", \"Consulting / Agency\", \"Startup\", \"Product\", \"Product\", \"Product\", \"Product\", \"Consulting / Agency\", \"Product\", \"Product\", \"Product\", \"Product\", \"Product\", \"Product\", \"Product\", \"Product\", \"Product\", \"Product\", \"Startup\", \"Product\", \"Product\", \"Startup\", \"Product\", \"Product\", \"eCommerce\", \"Product\", \"Startup\"], \"y\": [459, 399, 173, 145, 61]}],\n",
              "                        {\"template\": {\"data\": {\"bar\": [{\"error_x\": {\"color\": \"#2a3f5f\"}, \"error_y\": {\"color\": \"#2a3f5f\"}, \"marker\": {\"line\": {\"color\": \"#E5ECF6\", \"width\": 0.5}}, \"type\": \"bar\"}], \"barpolar\": [{\"marker\": {\"line\": {\"color\": \"#E5ECF6\", \"width\": 0.5}}, \"type\": \"barpolar\"}], \"carpet\": [{\"aaxis\": {\"endlinecolor\": \"#2a3f5f\", \"gridcolor\": \"white\", \"linecolor\": \"white\", \"minorgridcolor\": \"white\", \"startlinecolor\": \"#2a3f5f\"}, \"baxis\": {\"endlinecolor\": \"#2a3f5f\", \"gridcolor\": \"white\", \"linecolor\": \"white\", \"minorgridcolor\": \"white\", \"startlinecolor\": \"#2a3f5f\"}, \"type\": \"carpet\"}], \"choropleth\": [{\"colorbar\": {\"outlinewidth\": 0, \"ticks\": \"\"}, \"type\": \"choropleth\"}], \"contour\": [{\"colorbar\": {\"outlinewidth\": 0, \"ticks\": \"\"}, \"colorscale\": [[0.0, \"#0d0887\"], [0.1111111111111111, \"#46039f\"], [0.2222222222222222, \"#7201a8\"], [0.3333333333333333, \"#9c179e\"], [0.4444444444444444, \"#bd3786\"], [0.5555555555555556, \"#d8576b\"], [0.6666666666666666, \"#ed7953\"], [0.7777777777777778, \"#fb9f3a\"], [0.8888888888888888, \"#fdca26\"], [1.0, \"#f0f921\"]], \"type\": \"contour\"}], \"contourcarpet\": [{\"colorbar\": {\"outlinewidth\": 0, \"ticks\": \"\"}, \"type\": \"contourcarpet\"}], \"heatmap\": [{\"colorbar\": {\"outlinewidth\": 0, \"ticks\": \"\"}, \"colorscale\": [[0.0, \"#0d0887\"], [0.1111111111111111, \"#46039f\"], [0.2222222222222222, \"#7201a8\"], [0.3333333333333333, \"#9c179e\"], [0.4444444444444444, \"#bd3786\"], [0.5555555555555556, \"#d8576b\"], [0.6666666666666666, \"#ed7953\"], [0.7777777777777778, \"#fb9f3a\"], [0.8888888888888888, \"#fdca26\"], [1.0, \"#f0f921\"]], \"type\": \"heatmap\"}], \"heatmapgl\": [{\"colorbar\": {\"outlinewidth\": 0, \"ticks\": \"\"}, \"colorscale\": [[0.0, \"#0d0887\"], [0.1111111111111111, \"#46039f\"], [0.2222222222222222, \"#7201a8\"], [0.3333333333333333, \"#9c179e\"], [0.4444444444444444, \"#bd3786\"], [0.5555555555555556, \"#d8576b\"], [0.6666666666666666, \"#ed7953\"], [0.7777777777777778, \"#fb9f3a\"], [0.8888888888888888, \"#fdca26\"], [1.0, \"#f0f921\"]], \"type\": \"heatmapgl\"}], \"histogram\": [{\"marker\": {\"colorbar\": {\"outlinewidth\": 0, \"ticks\": \"\"}}, \"type\": \"histogram\"}], \"histogram2d\": [{\"colorbar\": {\"outlinewidth\": 0, \"ticks\": \"\"}, \"colorscale\": [[0.0, \"#0d0887\"], [0.1111111111111111, \"#46039f\"], [0.2222222222222222, \"#7201a8\"], [0.3333333333333333, \"#9c179e\"], [0.4444444444444444, \"#bd3786\"], [0.5555555555555556, \"#d8576b\"], [0.6666666666666666, \"#ed7953\"], [0.7777777777777778, \"#fb9f3a\"], [0.8888888888888888, \"#fdca26\"], [1.0, \"#f0f921\"]], \"type\": \"histogram2d\"}], \"histogram2dcontour\": [{\"colorbar\": {\"outlinewidth\": 0, \"ticks\": \"\"}, \"colorscale\": [[0.0, \"#0d0887\"], [0.1111111111111111, \"#46039f\"], [0.2222222222222222, \"#7201a8\"], [0.3333333333333333, \"#9c179e\"], [0.4444444444444444, \"#bd3786\"], [0.5555555555555556, \"#d8576b\"], [0.6666666666666666, \"#ed7953\"], [0.7777777777777778, \"#fb9f3a\"], [0.8888888888888888, \"#fdca26\"], [1.0, \"#f0f921\"]], \"type\": \"histogram2dcontour\"}], \"mesh3d\": [{\"colorbar\": {\"outlinewidth\": 0, \"ticks\": \"\"}, \"type\": \"mesh3d\"}], \"parcoords\": [{\"line\": {\"colorbar\": {\"outlinewidth\": 0, \"ticks\": \"\"}}, \"type\": \"parcoords\"}], \"pie\": [{\"automargin\": true, \"type\": \"pie\"}], \"scatter\": [{\"marker\": {\"colorbar\": {\"outlinewidth\": 0, \"ticks\": \"\"}}, \"type\": \"scatter\"}], \"scatter3d\": [{\"line\": {\"colorbar\": {\"outlinewidth\": 0, \"ticks\": \"\"}}, \"marker\": {\"colorbar\": {\"outlinewidth\": 0, \"ticks\": \"\"}}, \"type\": \"scatter3d\"}], \"scattercarpet\": [{\"marker\": {\"colorbar\": {\"outlinewidth\": 0, \"ticks\": \"\"}}, \"type\": \"scattercarpet\"}], \"scattergeo\": [{\"marker\": {\"colorbar\": {\"outlinewidth\": 0, \"ticks\": \"\"}}, \"type\": \"scattergeo\"}], \"scattergl\": [{\"marker\": {\"colorbar\": {\"outlinewidth\": 0, \"ticks\": \"\"}}, \"type\": \"scattergl\"}], \"scattermapbox\": [{\"marker\": {\"colorbar\": {\"outlinewidth\": 0, \"ticks\": \"\"}}, \"type\": \"scattermapbox\"}], \"scatterpolar\": [{\"marker\": {\"colorbar\": {\"outlinewidth\": 0, \"ticks\": \"\"}}, \"type\": \"scatterpolar\"}], \"scatterpolargl\": [{\"marker\": {\"colorbar\": {\"outlinewidth\": 0, \"ticks\": \"\"}}, \"type\": \"scatterpolargl\"}], \"scatterternary\": [{\"marker\": {\"colorbar\": {\"outlinewidth\": 0, \"ticks\": \"\"}}, \"type\": \"scatterternary\"}], \"surface\": [{\"colorbar\": {\"outlinewidth\": 0, \"ticks\": \"\"}, \"colorscale\": [[0.0, \"#0d0887\"], [0.1111111111111111, \"#46039f\"], [0.2222222222222222, \"#7201a8\"], [0.3333333333333333, \"#9c179e\"], [0.4444444444444444, \"#bd3786\"], [0.5555555555555556, \"#d8576b\"], [0.6666666666666666, \"#ed7953\"], [0.7777777777777778, \"#fb9f3a\"], [0.8888888888888888, \"#fdca26\"], [1.0, \"#f0f921\"]], \"type\": \"surface\"}], \"table\": [{\"cells\": {\"fill\": {\"color\": \"#EBF0F8\"}, \"line\": {\"color\": \"white\"}}, \"header\": {\"fill\": {\"color\": \"#C8D4E3\"}, \"line\": {\"color\": \"white\"}}, \"type\": \"table\"}]}, \"layout\": {\"annotationdefaults\": {\"arrowcolor\": \"#2a3f5f\", \"arrowhead\": 0, \"arrowwidth\": 1}, \"coloraxis\": {\"colorbar\": {\"outlinewidth\": 0, \"ticks\": \"\"}}, \"colorscale\": {\"diverging\": [[0, \"#8e0152\"], [0.1, \"#c51b7d\"], [0.2, \"#de77ae\"], [0.3, \"#f1b6da\"], [0.4, \"#fde0ef\"], [0.5, \"#f7f7f7\"], [0.6, \"#e6f5d0\"], [0.7, \"#b8e186\"], [0.8, \"#7fbc41\"], [0.9, \"#4d9221\"], [1, \"#276419\"]], \"sequential\": [[0.0, \"#0d0887\"], [0.1111111111111111, \"#46039f\"], [0.2222222222222222, \"#7201a8\"], [0.3333333333333333, \"#9c179e\"], [0.4444444444444444, \"#bd3786\"], [0.5555555555555556, \"#d8576b\"], [0.6666666666666666, \"#ed7953\"], [0.7777777777777778, \"#fb9f3a\"], [0.8888888888888888, \"#fdca26\"], [1.0, \"#f0f921\"]], \"sequentialminus\": [[0.0, \"#0d0887\"], [0.1111111111111111, \"#46039f\"], [0.2222222222222222, \"#7201a8\"], [0.3333333333333333, \"#9c179e\"], [0.4444444444444444, \"#bd3786\"], [0.5555555555555556, \"#d8576b\"], [0.6666666666666666, \"#ed7953\"], [0.7777777777777778, \"#fb9f3a\"], [0.8888888888888888, \"#fdca26\"], [1.0, \"#f0f921\"]]}, \"colorway\": [\"#636efa\", \"#EF553B\", \"#00cc96\", \"#ab63fa\", \"#FFA15A\", \"#19d3f3\", \"#FF6692\", \"#B6E880\", \"#FF97FF\", \"#FECB52\"], \"font\": {\"color\": \"#2a3f5f\"}, \"geo\": {\"bgcolor\": \"white\", \"lakecolor\": \"white\", \"landcolor\": \"#E5ECF6\", \"showlakes\": true, \"showland\": true, \"subunitcolor\": \"white\"}, \"hoverlabel\": {\"align\": \"left\"}, \"hovermode\": \"closest\", \"mapbox\": {\"style\": \"light\"}, \"paper_bgcolor\": \"white\", \"plot_bgcolor\": \"#E5ECF6\", \"polar\": {\"angularaxis\": {\"gridcolor\": \"white\", \"linecolor\": \"white\", \"ticks\": \"\"}, \"bgcolor\": \"#E5ECF6\", \"radialaxis\": {\"gridcolor\": \"white\", \"linecolor\": \"white\", \"ticks\": \"\"}}, \"scene\": {\"xaxis\": {\"backgroundcolor\": \"#E5ECF6\", \"gridcolor\": \"white\", \"gridwidth\": 2, \"linecolor\": \"white\", \"showbackground\": true, \"ticks\": \"\", \"zerolinecolor\": \"white\"}, \"yaxis\": {\"backgroundcolor\": \"#E5ECF6\", \"gridcolor\": \"white\", \"gridwidth\": 2, \"linecolor\": \"white\", \"showbackground\": true, \"ticks\": \"\", \"zerolinecolor\": \"white\"}, \"zaxis\": {\"backgroundcolor\": \"#E5ECF6\", \"gridcolor\": \"white\", \"gridwidth\": 2, \"linecolor\": \"white\", \"showbackground\": true, \"ticks\": \"\", \"zerolinecolor\": \"white\"}}, \"shapedefaults\": {\"line\": {\"color\": \"#2a3f5f\"}}, \"ternary\": {\"aaxis\": {\"gridcolor\": \"white\", \"linecolor\": \"white\", \"ticks\": \"\"}, \"baxis\": {\"gridcolor\": \"white\", \"linecolor\": \"white\", \"ticks\": \"\"}, \"bgcolor\": \"#E5ECF6\", \"caxis\": {\"gridcolor\": \"white\", \"linecolor\": \"white\", \"ticks\": \"\"}}, \"title\": {\"x\": 0.05}, \"xaxis\": {\"automargin\": true, \"gridcolor\": \"white\", \"linecolor\": \"white\", \"ticks\": \"\", \"title\": {\"standoff\": 15}, \"zerolinecolor\": \"white\", \"zerolinewidth\": 2}, \"yaxis\": {\"automargin\": true, \"gridcolor\": \"white\", \"linecolor\": \"white\", \"ticks\": \"\", \"title\": {\"standoff\": 15}, \"zerolinecolor\": \"white\", \"zerolinewidth\": 2}}}, \"title\": {\"text\": \"Company types growth trends 2018, 2019 and 2020 years\"}, \"xaxis\": {\"ticklen\": 5, \"title\": {\"text\": \"Company type\"}, \"zeroline\": false}, \"yaxis\": {\"ticklen\": 5, \"title\": {\"text\": \"Company size\"}, \"zeroline\": false}},\n",
              "                        {\"responsive\": true}\n",
              "                    ).then(function(){\n",
              "                            \n",
              "var gd = document.getElementById('adb9a341-0b45-4def-909e-7716c794764d');\n",
              "var x = new MutationObserver(function (mutations, observer) {{\n",
              "        var display = window.getComputedStyle(gd).display;\n",
              "        if (!display || display === 'none') {{\n",
              "            console.log([gd, 'removed!']);\n",
              "            Plotly.purge(gd);\n",
              "            observer.disconnect();\n",
              "        }}\n",
              "}});\n",
              "\n",
              "// Listen for the removal of the full notebook cells\n",
              "var notebookContainer = gd.closest('#notebook-container');\n",
              "if (notebookContainer) {{\n",
              "    x.observe(notebookContainer, {childList: true});\n",
              "}}\n",
              "\n",
              "// Listen for the clearing of the current output cell\n",
              "var outputEl = gd.closest('.output');\n",
              "if (outputEl) {{\n",
              "    x.observe(outputEl, {childList: true});\n",
              "}}\n",
              "\n",
              "                        })\n",
              "                };\n",
              "                \n",
              "            </script>\n",
              "        </div>\n",
              "</body>\n",
              "</html>"
            ]
          },
          "metadata": {
            "tags": []
          }
        }
      ]
    }
  ]
}